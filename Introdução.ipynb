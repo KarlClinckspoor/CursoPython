{
 "cells": [
  {
   "cell_type": "markdown",
   "metadata": {
    "toc": true
   },
   "source": [
    "<h1>Table of Contents<span class=\"tocSkip\"></span></h1>\n",
    "<div class=\"toc\"><ul class=\"toc-item\"><li><span><a href=\"#Introdução\" data-toc-modified-id=\"Introdução-1\"><span class=\"toc-item-num\">1&nbsp;&nbsp;</span>Introdução</a></span><ul class=\"toc-item\"><li><span><a href=\"#Objetivo\" data-toc-modified-id=\"Objetivo-1.1\"><span class=\"toc-item-num\">1.1&nbsp;&nbsp;</span>Objetivo</a></span></li><li><span><a href=\"#Motivação\" data-toc-modified-id=\"Motivação-1.2\"><span class=\"toc-item-num\">1.2&nbsp;&nbsp;</span>Motivação</a></span></li><li><span><a href=\"#Sobre-a-linguagem-e-as-ferramentas\" data-toc-modified-id=\"Sobre-a-linguagem-e-as-ferramentas-1.3\"><span class=\"toc-item-num\">1.3&nbsp;&nbsp;</span>Sobre a linguagem e as ferramentas</a></span></li><li><span><a href=\"#Sobre-aprender-programação\" data-toc-modified-id=\"Sobre-aprender-programação-1.4\"><span class=\"toc-item-num\">1.4&nbsp;&nbsp;</span>Sobre aprender programação</a></span></li><li><span><a href=\"#Estrutura-do-curso\" data-toc-modified-id=\"Estrutura-do-curso-1.5\"><span class=\"toc-item-num\">1.5&nbsp;&nbsp;</span>Estrutura do curso</a></span></li><li><span><a href=\"#Recursos-para-aprendizado\" data-toc-modified-id=\"Recursos-para-aprendizado-1.6\"><span class=\"toc-item-num\">1.6&nbsp;&nbsp;</span>Recursos para aprendizado</a></span></li></ul></li></ul></div>"
   ]
  },
  {
   "cell_type": "markdown",
   "metadata": {},
   "source": [
    "# Introdução\n",
    "\n",
    "## Objetivo\n",
    "O objetivo principal deste curso é ensinar os princípios básicos de programação, especificamente em Python, de modo a fornecer uma ferramenta a mais para o leitor. Uma ferramenta bastante poderosa, que pode acelerar bastante as tarefas mundanas do dia-a-dia. \n",
    "\n",
    "## Motivação\n",
    "\n",
    "Você já deve ter se deparado com uma situação onde você tinha que realizar alguma tarefa repetitiva, resultando num tédio e perda de sanidade. Alguns exemplos:\n",
    "\n",
    "* Renomear centenas de arquivos\n",
    "* Plotar dados de dezenas de experimentos\n",
    "* Realizar ajustes ou tratamentos complexos repetidas vezes. Aí você se depara que havia um erro na forma do seu tratamento, e seria necessário refazer *tudo*.\n",
    "\n",
    "Felizmente, esses tipos de tarefa podem ser automatizadas parcial ou totalmente. Porém, é necessário investir tempo para aprender uma linguagem que permita isso, e aplicá-la na resolução de suas tarefas. Algumas vezes o tempo total ganho acaba sendo nulo, ou até negativo. Porém, se a mesma tarefa aparece no futuro, ela pode ser resolvida num piscar de olhos, pois o investimento inicial já foi feito. Meu desejo em aprender uma linguagem de programação veio justamente da necessidade, e crescente falta de paciência, para o tratamento de dados.\n",
    "\n",
    "Você pode se perguntar se o Origin ou o Excel não conseguiriam fazer tudo o que será mostrado nesse curso. Sim, essas ferramentas conseguem fazer isso. Porém, conhecer e saber como aplicar ferramentas diferentes é uma habilidade essencial para qualquer profissional, de qualquer área, seja acadêmica ou industrial. O objetivo desse curso não é proselitizar, mas sim mostrar alternativas para o que é comumente utilizado e ensinado no curso de Química. E se você terminar esse curso, espero que consiga ver o poder que saber uma linguagem de programação lhe dá.\n",
    "\n",
    "## Sobre a linguagem e as ferramentas\n",
    "\n",
    "Python é uma linguagem interpretada bastante popular no meio científico devido à sua simplicidade e clareza de sintaxe, comunidade extensa, e, principalmente, pacotes prontos e de fácil uso para a maior parte das tarefas. Além disso, é totalmente gratuíta e compatível com Windows, Linux e Mac. Este curso utilizará Python 3.x, e é recomendado que seja instalada a distribuição [Anaconda](https://www.anaconda.com/download/) e que o leitor se familiarize com Jupyter Notebooks, que é o meio onde este arquivo foi escrito.\n",
    "\n",
    "A vantagem do pacote Anaconda é que ela vem com muitos pacotes científicos pré-instalados. Porém, será dada uma pequena instrução de como novos pacotes podem ser instalados. Este material supõe que o leitor esteja utilizando Windows. Após a instalação, é possível iniciar uma seção de um Jupyter Notebook no diretório base através do Anaconda Navigator, ou também clicando no ícone do Jupyter. Isso criará uma nova aba no seu navegador (Firefox, Chrome, etc), onde será possível navegar pelo sistema de arquivos, abrir e criar novos arquivos .ipynb (Jupyter Notebook). Iniciar um servidor de Jupyter Notebooks pode ser feito também diretamente na linha de comando, uma ferramenta que o leitor se familiarizará.\n",
    "\n",
    "Para iniciar uma nova janela de comando:\n",
    "\n",
    "* Apertar CTRL+R e digitar *cmd* ou *powershell*\n",
    "* Digitar *cmd* ou *powershell* na barra de endereço de uma janela do windows explorer.\n",
    "* Clicar com o botão direito numa região vazia do windows explorer, com o Shift apertado, e clicar \"Abrir janela de comando/powershell aqui\".\n",
    "\n",
    "É possível utilizar editores de texto ou IDEs alternativas para a criação de scripts, mas Jupyter Notebooks possuem a vantagem de juntarem código e resultados, deixando os dados e a organização do pensamento organizados. Como já dito, é melhor utilizar a ferramenta certa para a tarefa certa, então há casos onde scripts (extensão .py) são mais úteis que notebooks.\n",
    "\n",
    "## Sobre aprender programação\n",
    "\n",
    "Programação é uma atividade que requer um alto nível de abstração e lógica. Essas habilidades vem somente com a prática e o suor. Algumas pessoas possuem maior aptidão para o tema, mas acredito que todas possuem as habilidades necessárias para aprender a programar, nem que seja o básico. Uma das tarefas principais que um programador deve saber fazer é separar uma tarefa complexa em várias tarefas simples. O quão simples cada passo é depende também da complexidade e das ferramentas de uma linguagem de programação. Python, por ser simples, rica, e de alto nível, facilita bastante o processo. Outro fator essencial para aprender a programar é ter tarefas claras, objetivas, e de complexidade não muito alta,  Neste caso, as tarefas são tratamento de dados.\n",
    "\n",
    "## Estrutura do curso\n",
    "\n",
    "1. 'Hello world', strings\n",
    "3. Operações matemáticas básicas\n",
    "1. Variáveis\n",
    "2. Outros tipos internos do Python. Estruturas de dados. Listas, tuples, dicionários.\n",
    "4. Loops e condicionais.\n",
    "5. Funções. Definições e uso. Métodos internos.\n",
    "7. Exemplo Prático 1: Carregando dados de um arquivo externo.\n",
    "6. Instalação e uso de pacotes externos\n",
    "8. Introdução a numpy\n",
    "9. Introdução a pandas\n",
    "10. Introdução a pyplot\n",
    "\n",
    "## Recursos para aprendizado\n",
    "\n",
    "Aprender a programar é uma tarefa árdua e frustrante. Muitas vezes é necessário procurar a resposta para um problema específico. Outras vezes, pode ser que seja necessária uma abordagem diferente de um conteúdo para de fato aprender um tema. Logo, disponho aqui vários links para sites que já utilizei como fonte de informação.\n",
    "\n",
    "* [Software Carpentry](https://software-carpentry.org/), uma organização cujo objetivo é ensinar programação para pesquisadores.\n",
    "* [Stack Overflow](https://stackoverflow.com/), uma comunidade de perguntas e respostas. Grande parte de suas dúvidas já foram perguntadas anteriormente, provavelmente com boas respostas.\n",
    "* [Documentação oficial do Python](https://docs.python.org/3/), onde há informações sobre a linguagem em detalhes profundos. Pode intimidar pessoas novas.\n",
    "\n",
    "* Youtube:\n",
    "    * [Tutorial por Sendtex](https://www.youtube.com/watch?v=oVp1vrfL_w4&list=PLQVvvaa0QuDe8XSftW-RAxdo6OmaeL85M)\n",
    "    * [Tutorial por Socratica](https://www.youtube.com/watch?v=bY6m6_IIN94&list=PLi01XoE8jYohWFPpC17Z-wWhPOSuh8Er-)"
   ]
  }
 ],
 "metadata": {
  "hide_input": false,
  "kernelspec": {
   "display_name": "Python 3",
   "language": "python",
   "name": "python3"
  },
  "language_info": {
   "codemirror_mode": {
    "name": "ipython",
    "version": 3
   },
   "file_extension": ".py",
   "mimetype": "text/x-python",
   "name": "python",
   "nbconvert_exporter": "python",
   "pygments_lexer": "ipython3",
   "version": "3.6.4"
  },
  "toc": {
   "nav_menu": {},
   "number_sections": true,
   "sideBar": true,
   "skip_h1_title": false,
   "title_cell": "Table of Contents",
   "title_sidebar": "Contents",
   "toc_cell": true,
   "toc_position": {},
   "toc_section_display": true,
   "toc_window_display": false
  }
 },
 "nbformat": 4,
 "nbformat_minor": 2
}
