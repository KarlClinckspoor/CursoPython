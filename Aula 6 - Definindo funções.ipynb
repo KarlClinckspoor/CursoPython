{
 "cells": [
  {
   "cell_type": "markdown",
   "metadata": {
    "toc": true
   },
   "source": [
    "<h1>Conteúdo<span class=\"tocSkip\"></span></h1>\n",
    "<div class=\"toc\"><ul class=\"toc-item\"><li><span><a href=\"#Introdução\" data-toc-modified-id=\"Introdução-1\"><span class=\"toc-item-num\">1&nbsp;&nbsp;</span>Introdução</a></span></li><li><span><a href=\"#Declaração\" data-toc-modified-id=\"Declaração-2\"><span class=\"toc-item-num\">2&nbsp;&nbsp;</span>Declaração</a></span></li><li><span><a href=\"#Exercício---Carregando-dados\" data-toc-modified-id=\"Exercício---Carregando-dados-3\"><span class=\"toc-item-num\">3&nbsp;&nbsp;</span>Exercício - Carregando dados</a></span></li><li><span><a href=\"#Parâmetros-opcionais\" data-toc-modified-id=\"Parâmetros-opcionais-4\"><span class=\"toc-item-num\">4&nbsp;&nbsp;</span>Parâmetros opcionais</a></span></li><li><span><a href=\"#Documentação\" data-toc-modified-id=\"Documentação-5\"><span class=\"toc-item-num\">5&nbsp;&nbsp;</span>Documentação</a></span></li><li><span><a href=\"#Exercício---calculando-derivadas-numéricas\" data-toc-modified-id=\"Exercício---calculando-derivadas-numéricas-6\"><span class=\"toc-item-num\">6&nbsp;&nbsp;</span>Exercício - calculando derivadas numéricas</a></span></li></ul></div>"
   ]
  },
  {
   "cell_type": "markdown",
   "metadata": {},
   "source": [
    "# Introdução\n",
    "\n",
    "É muito útil consolidar código num pacote, de modo que ele possa ser chamado externamente, e o usuário não ter que saber dos detalhes do funcionamento do código. Para isso, são definidas funções. Como visto na primeira aula, funções podem receber de 0 até arbitrariamente quantos argumentos sejam necessários.\n",
    "\n",
    "# Declaração\n",
    "\n",
    "De modo a criar uma função, é necessário utilizar a palavra chave **def**, seguido do nome da função e, entre parênteses, os nomes dos parâmetros. Depois, vem um ':' significando o início de um bloco de código. Coloque o código e, caso deseje que a função retorne um valor, utilize a palavra chave **return** seguido das variáveis que a função irá retornar.\n",
    "\n"
   ]
  },
  {
   "cell_type": "code",
   "execution_count": 14,
   "metadata": {},
   "outputs": [
    {
     "data": {
      "text/plain": [
       "3"
      ]
     },
     "execution_count": 14,
     "metadata": {},
     "output_type": "execute_result"
    }
   ],
   "source": [
    "def soma_1(x):\n",
    "    soma = x + 1\n",
    "    return soma\n",
    "\n",
    "def _soma_1(x): # mais compacto\n",
    "    return x + 1\n",
    "\n",
    "soma_1(2)"
   ]
  },
  {
   "cell_type": "markdown",
   "metadata": {},
   "source": [
    "Funções não precisam ter argumentos, nem retornar alguma coisa. Por padrão, uma expressão *return None* é adicionado no final, caso não esteja presente, mas não se preocupe com esse detalhe."
   ]
  },
  {
   "cell_type": "code",
   "execution_count": 15,
   "metadata": {},
   "outputs": [
    {
     "name": "stdout",
     "output_type": "stream",
     "text": [
      "Qual é o seu nome?Karl\n",
      "Oi Karl.\n"
     ]
    }
   ],
   "source": [
    "def dizer_oi():\n",
    "    nome = input('Qual é o seu nome? ')\n",
    "    print(f'Oi {nome}.')\n",
    "\n",
    "dizer_oi()"
   ]
  },
  {
   "cell_type": "markdown",
   "metadata": {},
   "source": [
    "# Exercício - Carregando dados\n",
    "\n",
    "A função a seguir carrega os dados da aula 4. A função recebe o nome do arquivo a ser carregado como argumento e retorna a primeira e a segunda colunas do arquivo"
   ]
  },
  {
   "cell_type": "code",
   "execution_count": 2,
   "metadata": {},
   "outputs": [],
   "source": [
    "def carregar_dados(arquivo):\n",
    "    fhand = open(arquivo, 'r')\n",
    "    x = []\n",
    "    y = []\n",
    "\n",
    "    for line in fhand:\n",
    "        if line.startswith('x'):\n",
    "            continue\n",
    "        temp_x, temp_y = line.split(' ')\n",
    "        temp_x = float(temp_x)\n",
    "        temp_y = float(temp_y)\n",
    "\n",
    "        x.append(temp_x)\n",
    "        y.append(temp_y)\n",
    "\n",
    "    fhand.close()\n",
    "    return x, y\n",
    "\n",
    "x, y = carregar_dados('Consolidação1.txt')"
   ]
  },
  {
   "cell_type": "markdown",
   "metadata": {},
   "source": [
    "Veja que, definido uma vez, é possível chamar a função em qualquer outra parte do código. Caso haja um erro na função, é necessário alterar o código em um só lugar, que as mudanças se propagarão para o resto do código.\n",
    "\n",
    "Os dados que estão na pasta 'dados-1' possuem quase a mesma formatação do arquivo 'Consolidação1.txt'. Que alterações à função seriam necessárias para que a função seja compatível com ambos os arquivos?\n",
    "\n",
    "Dicas:\n",
    "\n",
    "1. Estude as diferenças de formatação dos dois arquivos, abrindo-os em um editor de texto.\n",
    "1. Para saber em que linha a função está errando, coloque um print(line) imediatamente antes de onde o erro ocorre, de acordo com o Traceback. Essa técnica é a forma mais simples de *debugging*. Para funções mais complexas, recomenda-se utilizar IDEs como PyCharm e seu excelente debugger.\n",
    "2. Utilizar funções de strings para converter a linha em algo que a função já consiga lidar. Considere o que fazer com os espaços, e o que as funções *replace*, *rstrip* e *lstrip* fazem."
   ]
  },
  {
   "cell_type": "code",
   "execution_count": 16,
   "metadata": {},
   "outputs": [
    {
     "ename": "ValueError",
     "evalue": "too many values to unpack (expected 2)",
     "output_type": "error",
     "traceback": [
      "\u001b[0;31m---------------------------------------------------------------------------\u001b[0m",
      "\u001b[0;31mValueError\u001b[0m                                Traceback (most recent call last)",
      "\u001b[0;32m<ipython-input-16-9e3763a6d681>\u001b[0m in \u001b[0;36m<module>\u001b[0;34m()\u001b[0m\n\u001b[1;32m      1\u001b[0m \u001b[0;32mimport\u001b[0m \u001b[0mglob\u001b[0m\u001b[0;34m\u001b[0m\u001b[0m\n\u001b[1;32m      2\u001b[0m \u001b[0mdados\u001b[0m \u001b[0;34m=\u001b[0m \u001b[0mglob\u001b[0m\u001b[0;34m.\u001b[0m\u001b[0mglob\u001b[0m\u001b[0;34m(\u001b[0m\u001b[0;34m'./dados-1/*.dat'\u001b[0m\u001b[0;34m)\u001b[0m\u001b[0;34m\u001b[0m\u001b[0m\n\u001b[0;32m----> 3\u001b[0;31m \u001b[0mx\u001b[0m\u001b[0;34m,\u001b[0m \u001b[0my\u001b[0m \u001b[0;34m=\u001b[0m \u001b[0mcarregar_dados\u001b[0m\u001b[0;34m(\u001b[0m\u001b[0mdados\u001b[0m\u001b[0;34m[\u001b[0m\u001b[0;36m0\u001b[0m\u001b[0;34m]\u001b[0m\u001b[0;34m)\u001b[0m\u001b[0;34m\u001b[0m\u001b[0m\n\u001b[0m",
      "\u001b[0;32m<ipython-input-9-97e6d8b04054>\u001b[0m in \u001b[0;36mcarregar_dados\u001b[0;34m(arquivo)\u001b[0m\n\u001b[1;32m     13\u001b[0m             \u001b[0;32mcontinue\u001b[0m\u001b[0;34m\u001b[0m\u001b[0m\n\u001b[1;32m     14\u001b[0m         \u001b[0mline\u001b[0m \u001b[0;34m=\u001b[0m \u001b[0mline\u001b[0m\u001b[0;34m.\u001b[0m\u001b[0mreplace\u001b[0m\u001b[0;34m(\u001b[0m\u001b[0;34m'  '\u001b[0m\u001b[0;34m,\u001b[0m \u001b[0;34m' '\u001b[0m\u001b[0;34m)\u001b[0m\u001b[0;31m#.rstrip().lstrip()\u001b[0m\u001b[0;34m\u001b[0m\u001b[0m\n\u001b[0;32m---> 15\u001b[0;31m         \u001b[0mtemp_x\u001b[0m\u001b[0;34m,\u001b[0m \u001b[0mtemp_y\u001b[0m \u001b[0;34m=\u001b[0m \u001b[0mline\u001b[0m\u001b[0;34m.\u001b[0m\u001b[0msplit\u001b[0m\u001b[0;34m(\u001b[0m\u001b[0;34m' '\u001b[0m\u001b[0;34m)\u001b[0m\u001b[0;34m\u001b[0m\u001b[0m\n\u001b[0m\u001b[1;32m     16\u001b[0m         \u001b[0mtemp_x\u001b[0m \u001b[0;34m=\u001b[0m \u001b[0mfloat\u001b[0m\u001b[0;34m(\u001b[0m\u001b[0mtemp_x\u001b[0m\u001b[0;34m)\u001b[0m\u001b[0;34m\u001b[0m\u001b[0m\n\u001b[1;32m     17\u001b[0m         \u001b[0mtemp_y\u001b[0m \u001b[0;34m=\u001b[0m \u001b[0mfloat\u001b[0m\u001b[0;34m(\u001b[0m\u001b[0mtemp_y\u001b[0m\u001b[0;34m)\u001b[0m\u001b[0;34m\u001b[0m\u001b[0m\n",
      "\u001b[0;31mValueError\u001b[0m: too many values to unpack (expected 2)"
     ]
    }
   ],
   "source": [
    "import glob\n",
    "dados = glob.glob('./dados-1/*.dat')\n",
    "x, y = carregar_dados(dados[0])"
   ]
  },
  {
   "cell_type": "code",
   "execution_count": null,
   "metadata": {},
   "outputs": [],
   "source": [
    "%load Func_carregar.py"
   ]
  },
  {
   "cell_type": "markdown",
   "metadata": {},
   "source": [
    "# Parâmetros opcionais\n",
    "\n",
    "É possível que as funções tenham parâmetros opcionais, fornecidos como keywords, como já visto. Para implementar isso, só coloque as keywords **depois** dos parâmetros obrigatórios."
   ]
  },
  {
   "cell_type": "code",
   "execution_count": 18,
   "metadata": {},
   "outputs": [
    {
     "name": "stdout",
     "output_type": "stream",
     "text": [
      "6\n",
      "10\n",
      "10\n"
     ]
    }
   ],
   "source": [
    "def somar(x, num=1):\n",
    "    return x + num\n",
    "\n",
    "print(somar(5))\n",
    "print(somar(5, num=5))\n",
    "# Como não há ambiguidade sobre quem é o segundo argumento, não é estritamente\n",
    "# necessário fornecer num como um keyword. Tome cuidado, pois isso é menos\n",
    "# claro no código.\n",
    "print(somar(5, 5))  \n"
   ]
  },
  {
   "cell_type": "markdown",
   "metadata": {},
   "source": [
    "# Documentação\n",
    "\n",
    "Quando você criar funções mais complexas, é de bom grado colocar uma *docstring*, ou um texto que descreve o que a função faz, o que ela retorna e como ela funciona, em termos gerais. É útil tanto para quem for utilizar seu código, quanto o seu eu futuro. Isso é feito colocando-se, logo na primeira linha, uma string com três \". Esse tipo de string pode ser quebrada por linhas novas, e só termina mesmo quando encontra o \"\"\" final."
   ]
  },
  {
   "cell_type": "code",
   "execution_count": 21,
   "metadata": {},
   "outputs": [
    {
     "name": "stdout",
     "output_type": "stream",
     "text": [
      "Help on function func_complexa in module __main__:\n",
      "\n",
      "func_complexa(*args, **kwargs)\n",
      "    Essa função é muito muito complexa, pois calcula e retorna o significado da \n",
      "    vida, do universo, e tudo mais\n",
      "\n"
     ]
    },
    {
     "data": {
      "text/plain": [
       "42"
      ]
     },
     "execution_count": 21,
     "metadata": {},
     "output_type": "execute_result"
    }
   ],
   "source": [
    "def func_complexa(*args, **kwargs):\n",
    "    \"\"\"Essa função é muito muito complexa, pois calcula e retorna o significado da \n",
    "    vida, do universo, e tudo mais\"\"\"\n",
    "    return 42\n",
    "\n",
    "help(func_complexa)\n",
    "func_complexa(37)"
   ]
  },
  {
   "cell_type": "markdown",
   "metadata": {},
   "source": [
    "Não se preocupe com o \\*args e \\*\\*kwargs, foram colocados só para que a função pareça mais complexa do que é. No futuro, você irá encontrar funções que funcionam assim."
   ]
  },
  {
   "cell_type": "markdown",
   "metadata": {},
   "source": [
    "# Exercício - calculando derivadas numéricas\n",
    "\n",
    "Frequentemente no tratamento de dados, devemos calcular a derivada de um conjunto numérico. Porém, ao invés de funções, temos somente valores discretos, então é necessário criar aproximações para derivadas. Neste exercício, crie as seguintes funções.\n",
    "\n",
    "1. **der_simples**: criar uma lista com as derivadas utilizando a inclinação entre o ponto *n* e o ponto *n+1*.\n",
    "\n",
    "$$d_n = \\frac{y_{n+1} - y_n}{x_{n+1} - x_n}$$\n",
    "\n",
    "Obs: Preste atenção com os valores nas pontas! Quantas derivadas existem para um conjunto de n pontos? Essa função é equivalente a *np.diff*.\n",
    "\n",
    "2. **der_média**: criar uma lista de derivadas utilizando a média das inclinações de *n* com *n-1* e *n+1*.\n",
    "\n",
    "$$d_n = \\frac{\\left(\\frac{y_{n+1} - y_n}{x_{n+1} - x_n} + \\frac{y_n - y_{n-1}}{x_n - x_{n-1}}\\right)}{2} $$\n",
    "\n",
    "Obs: Novamente preste atenção com os valores das pontas. Quantas derivadas existem para um conjunto de n pontos? Essa função é equivalente à função de derivada inclusa no *Origin*."
   ]
  },
  {
   "cell_type": "code",
   "execution_count": 5,
   "metadata": {},
   "outputs": [],
   "source": [
    "x = list(range(0, 20, 1))\n",
    "y = [i ** 2 - 10 * i + 10 for i in x]\n",
    "\n",
    "def der_simples(x, y):\n",
    "    pass\n",
    "\n",
    "def der_media(x, y):\n",
    "    pass"
   ]
  },
  {
   "cell_type": "code",
   "execution_count": 19,
   "metadata": {},
   "outputs": [],
   "source": [
    "%load Exercicio_derivadas.py"
   ]
  }
 ],
 "metadata": {
  "hide_input": false,
  "kernelspec": {
   "display_name": "Python 3",
   "language": "python",
   "name": "python3"
  },
  "language_info": {
   "codemirror_mode": {
    "name": "ipython",
    "version": 3
   },
   "file_extension": ".py",
   "mimetype": "text/x-python",
   "name": "python",
   "nbconvert_exporter": "python",
   "pygments_lexer": "ipython3",
   "version": "3.6.4"
  },
  "toc": {
   "nav_menu": {},
   "number_sections": true,
   "sideBar": true,
   "skip_h1_title": false,
   "title_cell": "Conteúdo",
   "title_sidebar": "Conteúdo",
   "toc_cell": true,
   "toc_position": {},
   "toc_section_display": true,
   "toc_window_display": false
  }
 },
 "nbformat": 4,
 "nbformat_minor": 2
}
