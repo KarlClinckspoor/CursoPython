





import matplotlib.pyplot as plt
import palettable
import numpy as np


def ebbinghaus_b(t, a=1.84, b=1.25):
    return 100 * a / (np.log10(t) ** b + a)
    
t = np.linspace(1, 60*24*7, num=10000) # 1 semana
b = ebbinghaus_b(t)


plt.figure()
plt.gca().set_prop_cycle('color', palettable.scientific.sequential.Imola_3.mpl_colors)
plt.plot(t, b)
plt.xscale('log')
plt.xticks(
    ticks=np.concatenate(
        [[5, 10, 30, 60, 90, 180, 360],
        np.arange(1, 8, 1) * 60 * 24]
    ),
    labels=[5, 10, 30, 60, 90,  180, 360, 1, 2, 3, 4, 5, 6, 7]
)
plt.xticks(ticks=[], labels=[], minor=True)
plt.text(0.4, -0.10, 'minutos', transform=plt.gca().transAxes)
plt.text(0.85, -0.10, 'dias', transform=plt.gca().transAxes)
plt.ylabel('b (%)')
plt.grid(ls='--')
plt.savefig('ebbinghaus.png')
