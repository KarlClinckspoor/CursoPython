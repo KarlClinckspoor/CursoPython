{
 "cells": [
  {
   "cell_type": "markdown",
   "metadata": {
    "toc": true
   },
   "source": [
    "<h1>Conteúdo<span class=\"tocSkip\"></span></h1>\n",
    "<div class=\"toc\"><ul class=\"toc-item\"><li><span><a href=\"#Primeiro-programa\" data-toc-modified-id=\"Primeiro-programa-1\"><span class=\"toc-item-num\">1&nbsp;&nbsp;</span>Primeiro programa</a></span></li><li><span><a href=\"#Funções\" data-toc-modified-id=\"Funções-2\"><span class=\"toc-item-num\">2&nbsp;&nbsp;</span>Funções</a></span><ul class=\"toc-item\"><li><span><a href=\"#Argumentos\" data-toc-modified-id=\"Argumentos-2.1\"><span class=\"toc-item-num\">2.1&nbsp;&nbsp;</span>Argumentos</a></span></li><li><span><a href=\"#keyword-arguments\" data-toc-modified-id=\"keyword-arguments-2.2\"><span class=\"toc-item-num\">2.2&nbsp;&nbsp;</span><em>keyword arguments</em></a></span></li></ul></li><li><span><a href=\"#Strings\" data-toc-modified-id=\"Strings-3\"><span class=\"toc-item-num\">3&nbsp;&nbsp;</span>Strings</a></span><ul class=\"toc-item\"><li><span><a href=\"#Escape-sequences\" data-toc-modified-id=\"Escape-sequences-3.1\"><span class=\"toc-item-num\">3.1&nbsp;&nbsp;</span><em>Escape sequences</em></a></span></li><li><span><a href=\"#raw-strings\" data-toc-modified-id=\"raw-strings-3.2\"><span class=\"toc-item-num\">3.2&nbsp;&nbsp;</span><em>raw</em> strings</a></span></li><li><span><a href=\"#Métodos-de-strings\" data-toc-modified-id=\"Métodos-de-strings-3.3\"><span class=\"toc-item-num\">3.3&nbsp;&nbsp;</span>Métodos de strings</a></span></li></ul></li><li><span><a href=\"#Obtendo-ajuda\" data-toc-modified-id=\"Obtendo-ajuda-4\"><span class=\"toc-item-num\">4&nbsp;&nbsp;</span>Obtendo ajuda</a></span></li></ul></div>"
   ]
  },
  {
   "cell_type": "markdown",
   "metadata": {},
   "source": [
    "# Primeiro programa\n",
    "\n",
    "É praticamente uma regra que qualquer curso introdutório de programação mostre o mesmo exemplo: Como mostrar os caracteres \"Hello world!\" na tela. Este curso não será diferente. Para executar o conteúdo de uma cela no Jupyter Notebook, aperte CTRL+Enter, ou SHIFT+Enter para executar e criar uma nova cela abaixo."
   ]
  },
  {
   "cell_type": "code",
   "execution_count": 1,
   "metadata": {},
   "outputs": [
    {
     "name": "stdout",
     "output_type": "stream",
     "text": [
      "Hello world!\n"
     ]
    }
   ],
   "source": [
    "print('Hello world!')"
   ]
  },
  {
   "cell_type": "markdown",
   "metadata": {},
   "source": [
    "Somente em uma única linha já temos bastante do que conversar.\n",
    "\n",
    "# Funções\n",
    "\n",
    "Em suma, o que ocorre é que esta linha chama a função *print*, e fornece a string 'Hello world!' para a função. Em retorno, a função imprime na tela justamente o que foi fornecido a ela.\n",
    "\n",
    "O que seria uma função? Uma função é basicamente um pacote de código, que recebeu um nome específico para tornar seu uso mais fácil. Ao invés de uma série de comandos ter que ser escrita repetidas vezes, é comum encapsular os comandos numa função, e depois chamá-la diretamente.\n",
    "\n",
    "## Argumentos\n",
    "\n",
    "Uma função pode ou não receber argumentos. Necessariamente, após o nome de uma função é necessário colocar parênteses. Caso a função não tenha argumentos, não haverá nada dentro dos parênteses. Algumas funções aceitam mais de um argumento, e esses devem ser separados por vírgulas. Em Jupyter Notebooks, se você apertar Shift+Tab dentro dos parênteses de uma função, aparecerá um balão de ajuda mostrando o que a função em especial pode chamar. Apertar Tab (com shift apertado) múltiplas vezes expande o conteúdo desse balão, até quatro vezes, onde uma janela aparece na parte debaixo da tela.\n",
    "\n",
    "Neste caso, o único argumento é um conjunto de caracteres, ou string, que contém as letras 'Hello world!'. Em Python, strings são demarcadas por aspas, tanto simples (') quanto duplas (\"), mas somente uma ou outra dentro de uma string. Há um caso especial, utilizando aspas triplas (''' ou \"\"\"), que é utilizado para linhas mais compridas de texto. Python é uma linguagem onde a manipulação de strings é bastante fácil.\n",
    "\n",
    "Veja os exemplos a seguir:"
   ]
  },
  {
   "cell_type": "code",
   "execution_count": 5,
   "metadata": {},
   "outputs": [
    {
     "name": "stdout",
     "output_type": "stream",
     "text": [
      "Hello world!\n",
      "\n",
      "Hello world!\n"
     ]
    }
   ],
   "source": [
    "print(\"Hello world!\")\n",
    "print()\n",
    "print('Hello world!')"
   ]
  },
  {
   "cell_type": "markdown",
   "metadata": {},
   "source": [
    "Veja que o uso de aspas simples e duplas não faz diferença. Eu costumo utilizar sempre aspas simples, e somente troco para aspas duplas quando é necessário colocar aspas simples dentro da string. Por exemplo, \"Don't mention it\".\n",
    "\n",
    "Também, quando a função *print* foi chamada com nenhum argumento, ela imprimiu somente uma linha em branco. "
   ]
  },
  {
   "cell_type": "code",
   "execution_count": 9,
   "metadata": {},
   "outputs": [
    {
     "name": "stdout",
     "output_type": "stream",
     "text": [
      "Hello world !\n"
     ]
    }
   ],
   "source": [
    "print('Hello world', '!')"
   ]
  },
  {
   "cell_type": "markdown",
   "metadata": {},
   "source": [
    "Agora, note que foram fornecidos dois argumentos, separados por vírgula. O que o comando *print* fez foi juntá-los com um espaço e colocar na mesma linha.\n",
    "\n",
    "## *keyword arguments*"
   ]
  },
  {
   "cell_type": "code",
   "execution_count": 7,
   "metadata": {},
   "outputs": [
    {
     "name": "stdout",
     "output_type": "stream",
     "text": [
      "Hello world!\n"
     ]
    }
   ],
   "source": [
    "print('Hello world', '!', sep='')"
   ]
  },
  {
   "cell_type": "markdown",
   "metadata": {},
   "source": [
    "Note aqui que foi fornecido um terceiro argumento para a função. Esse tipo de argumento recebe o nome de *keyword argument* ou *kwarg*. Eles são, por definição, opcionais e possuem um valor padrão. Na função print, seu valor padrão é um espaço, ' ', mas aqui esse valor padrão foi substituído por nada, '', então não há um espaço entre 'world' e '!'."
   ]
  },
  {
   "cell_type": "code",
   "execution_count": 8,
   "metadata": {},
   "outputs": [
    {
     "name": "stdout",
     "output_type": "stream",
     "text": [
      "abcdef\n"
     ]
    }
   ],
   "source": [
    "print('abc', end='')\n",
    "print('def')"
   ]
  },
  {
   "cell_type": "markdown",
   "metadata": {},
   "source": [
    "Este é um segundo exemplo de um *keyword argument*, desta vez trocando o caractere colocado no final de uma string. Geralmente, uma nova linha é colocada sempre após os comandos print.\n",
    "\n",
    "# Strings\n",
    "\n",
    "Strings são conjuntos imutáveis (não se preocupe com o termo agora) de caracteres. Python 3 utiliza, por padrão, o conjunto de caracteres *Unicode*, ou *UTF-8*. Isso significa que falantes de línguas como Português, que possuem diacríticos (á, à, ã, ç), podem facilmente utilizar strings com os caracteres nativos. Como já escrito, strings são sempre envolvidas por aspas simples ou duplas.\n",
    "\n",
    "## *Escape sequences*\n",
    "\n",
    "Um *escape sequence* é um conjunto de caracteres, geralmente precedidos por uma barra para a esquerda (\\) que possuem um significado especial. É bastante útil que você se familiarize com esses caracteres, pois eles podem ajudá-lo muito na hora de consertar arquivos de texto. \n",
    "\n",
    "    \\n: Cria uma nova linha\n",
    "    \\t: Cria um tab\n",
    "    \\r: Retorna ao início da linha\n",
    "    \\\\: Escreve a barra para a esquerda em si.\n",
    "\n",
    "O mais utilizado é '\\n', mas é bom saber que esses códigos especiais existem. Veja o exemplo:"
   ]
  },
  {
   "cell_type": "code",
   "execution_count": 10,
   "metadata": {},
   "outputs": [
    {
     "name": "stdout",
     "output_type": "stream",
     "text": [
      "Hello\n",
      "world!\n"
     ]
    }
   ],
   "source": [
    "print('Hello\\nworld!')"
   ]
  },
  {
   "cell_type": "markdown",
   "metadata": {},
   "source": [
    "No lugar do espaço, foi colocado '\\n', e isso causou que a linha fosse dividida em duas. Isso é fundamental para quem está utilizando um script que escreve um arquivo de texto, por exemplo.\n",
    "\n",
    "## *raw* strings\n",
    "\n",
    "Suponha que você deseja imprimir justamente a string 'Hello\\nworld!', sem separação de texto. Isso pode ser feito utilizando uma *raw string*, que é criada simplesmente colocando um *r* antes das aspas."
   ]
  },
  {
   "cell_type": "code",
   "execution_count": 13,
   "metadata": {},
   "outputs": [
    {
     "name": "stdout",
     "output_type": "stream",
     "text": [
      "Hello\\nworld!\n",
      "\\abc\n"
     ]
    }
   ],
   "source": [
    "print(r'Hello\\nworld!')\n",
    "print(r'\\abc')"
   ]
  },
  {
   "cell_type": "markdown",
   "metadata": {},
   "source": [
    "Caso você deseje escrever somente uma barra simples, é necessário fazer algo um pouco estranho: colocar duas barras. A primeira barra fala \"considere o próximo caracter como sendo especial\" e a segunda barra fala \"o caractere especial é uma barra mesmo, então use-a\". Com *raw strings*, pode ser utilizada somente uma barra. Isso será útil bastante no futuro, quando fizermos plots utilizando codigos matemáticos do estilo LaTeX para legendas, etc."
   ]
  },
  {
   "cell_type": "code",
   "execution_count": 19,
   "metadata": {},
   "outputs": [
    {
     "name": "stdout",
     "output_type": "stream",
     "text": [
      "ABC\\DEF\n",
      "ABC\\DEF\n"
     ]
    }
   ],
   "source": [
    "print('ABC\\\\DEF')\n",
    "print(r'ABC\\DEF')"
   ]
  },
  {
   "cell_type": "markdown",
   "metadata": {},
   "source": [
    "## Métodos de strings\n",
    "\n",
    "Tudo possui um *tipo* em Python. E todo tipo possui um conjunto de *métodos* e *propriedades* associadas a ele. É possível obter informações sobre um tipo utilizando o comando **dir**."
   ]
  },
  {
   "cell_type": "code",
   "execution_count": 20,
   "metadata": {
    "scrolled": true
   },
   "outputs": [
    {
     "data": {
      "text/plain": [
       "['__add__',\n",
       " '__class__',\n",
       " '__contains__',\n",
       " '__delattr__',\n",
       " '__dir__',\n",
       " '__doc__',\n",
       " '__eq__',\n",
       " '__format__',\n",
       " '__ge__',\n",
       " '__getattribute__',\n",
       " '__getitem__',\n",
       " '__getnewargs__',\n",
       " '__gt__',\n",
       " '__hash__',\n",
       " '__init__',\n",
       " '__init_subclass__',\n",
       " '__iter__',\n",
       " '__le__',\n",
       " '__len__',\n",
       " '__lt__',\n",
       " '__mod__',\n",
       " '__mul__',\n",
       " '__ne__',\n",
       " '__new__',\n",
       " '__reduce__',\n",
       " '__reduce_ex__',\n",
       " '__repr__',\n",
       " '__rmod__',\n",
       " '__rmul__',\n",
       " '__setattr__',\n",
       " '__sizeof__',\n",
       " '__str__',\n",
       " '__subclasshook__',\n",
       " 'capitalize',\n",
       " 'casefold',\n",
       " 'center',\n",
       " 'count',\n",
       " 'encode',\n",
       " 'endswith',\n",
       " 'expandtabs',\n",
       " 'find',\n",
       " 'format',\n",
       " 'format_map',\n",
       " 'index',\n",
       " 'isalnum',\n",
       " 'isalpha',\n",
       " 'isdecimal',\n",
       " 'isdigit',\n",
       " 'isidentifier',\n",
       " 'islower',\n",
       " 'isnumeric',\n",
       " 'isprintable',\n",
       " 'isspace',\n",
       " 'istitle',\n",
       " 'isupper',\n",
       " 'join',\n",
       " 'ljust',\n",
       " 'lower',\n",
       " 'lstrip',\n",
       " 'maketrans',\n",
       " 'partition',\n",
       " 'replace',\n",
       " 'rfind',\n",
       " 'rindex',\n",
       " 'rjust',\n",
       " 'rpartition',\n",
       " 'rsplit',\n",
       " 'rstrip',\n",
       " 'split',\n",
       " 'splitlines',\n",
       " 'startswith',\n",
       " 'strip',\n",
       " 'swapcase',\n",
       " 'title',\n",
       " 'translate',\n",
       " 'upper',\n",
       " 'zfill']"
      ]
     },
     "execution_count": 20,
     "metadata": {},
     "output_type": "execute_result"
    }
   ],
   "source": [
    "dir('Hello')"
   ]
  },
  {
   "cell_type": "markdown",
   "metadata": {},
   "source": [
    "O resultado desse comando é uma lista enorme de tudo que está associado a strings. Para acessar um método, utiliza-se a notação de ponto. Por exemplo:"
   ]
  },
  {
   "cell_type": "code",
   "execution_count": 21,
   "metadata": {},
   "outputs": [
    {
     "data": {
      "text/plain": [
       "True"
      ]
     },
     "execution_count": 21,
     "metadata": {},
     "output_type": "execute_result"
    }
   ],
   "source": [
    "'1'.isdecimal()"
   ]
  },
  {
   "cell_type": "markdown",
   "metadata": {},
   "source": [
    "A função *isdecimal* retorna se a string possui números. Aqui, ela retornou **True**, ou seja, '1' contém somente números.\n",
    "\n",
    "# Obtendo ajuda\n",
    "\n",
    "Para obter mais informações sobre uma função, é possível chamar a documentação utilizando o comando **help** ou, em ambientes IPython/Jupyter Notebook, colocando um ponto de interrogação antes do comando."
   ]
  },
  {
   "cell_type": "code",
   "execution_count": 23,
   "metadata": {},
   "outputs": [
    {
     "name": "stdout",
     "output_type": "stream",
     "text": [
      "Help on built-in function isdecimal:\n",
      "\n",
      "isdecimal(...) method of builtins.str instance\n",
      "    S.isdecimal() -> bool\n",
      "    \n",
      "    Return True if there are only decimal characters in S,\n",
      "    False otherwise.\n",
      "\n"
     ]
    }
   ],
   "source": [
    "help('1'.isdecimal)"
   ]
  },
  {
   "cell_type": "code",
   "execution_count": 27,
   "metadata": {},
   "outputs": [],
   "source": [
    "?print"
   ]
  },
  {
   "cell_type": "markdown",
   "metadata": {},
   "source": [
    "A medida que você explora novos tipos, tenha em mente esses comandos. É uma maneira rápida e fácil de obter ajuda especificamente sobre uma função que você deseja utilizar.\n",
    "\n",
    "Alguns comandos úteis para strings:\n",
    "\n",
    "* **endswith**\n",
    "* **startswith**\n",
    "* **split**\n",
    "* **lower**\n",
    "* **rstrip**\n",
    "* **replace**\n",
    "\n",
    "Exemplos:"
   ]
  },
  {
   "cell_type": "code",
   "execution_count": 28,
   "metadata": {},
   "outputs": [
    {
     "name": "stdout",
     "output_type": "stream",
     "text": [
      "True\n",
      "False\n",
      "['Hello', 'world!']\n",
      "hello world!\n",
      "Hello world!\n",
      "Herro worrd!\n"
     ]
    }
   ],
   "source": [
    "print('Hello world!'.endswith('!'))\n",
    "print('Hello world!'.startswith('a'))\n",
    "print('Hello world!'.split(' '))\n",
    "print('Hello world!'.lower())\n",
    "print('Hello world!      '.rstrip())\n",
    "print('Hello world!'.replace('l','r'))"
   ]
  },
  {
   "cell_type": "markdown",
   "metadata": {},
   "source": [
    "Note aqui que é possível chamar funções dentro de chamadas de outras funções. Isso pode parecer complicado de acompanhar de início, mas com o tempo você irá se acostumar e até irá preferir essa maneira à maneira mais longa.\n",
    "\n",
    "Essas ferramentas de manipulação de strings são bastante úteis para quem precisa manipular arquivos de texto. Como muitos dados científicos acabam vindo de arquivos de texto, é útil conhecer um pouco de funções de string."
   ]
  }
 ],
 "metadata": {
  "hide_input": false,
  "kernelspec": {
   "display_name": "Python 3",
   "language": "python",
   "name": "python3"
  },
  "language_info": {
   "codemirror_mode": {
    "name": "ipython",
    "version": 3
   },
   "file_extension": ".py",
   "mimetype": "text/x-python",
   "name": "python",
   "nbconvert_exporter": "python",
   "pygments_lexer": "ipython3",
   "version": "3.6.4"
  },
  "toc": {
   "nav_menu": {},
   "number_sections": true,
   "sideBar": true,
   "skip_h1_title": false,
   "title_cell": "Conteúdo",
   "title_sidebar": "Conteúdo",
   "toc_cell": true,
   "toc_position": {},
   "toc_section_display": true,
   "toc_window_display": false
  }
 },
 "nbformat": 4,
 "nbformat_minor": 2
}
