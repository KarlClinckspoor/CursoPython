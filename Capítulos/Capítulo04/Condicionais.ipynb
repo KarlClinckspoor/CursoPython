{
 "cells": [
  {
   "cell_type": "markdown",
   "id": "543ac566-764e-4c25-a15d-c0c1f3875913",
   "metadata": {
    "editable": true,
    "slideshow": {
     "slide_type": ""
    },
    "tags": []
   },
   "source": [
    "# Condicionais\n",
    "\n",
    "Nos exemplos vistos até agora, a execução do código sempre foi linear. Começa em cima e segue linha por linha até o final, no máximo divergindo um pouco por conta das equações. Condicionais permitem direcionar o fluxo de um programa, e executar código, como o nome diz, condicionalmente. Isso é essencial para qualquer tipo de lógica.\n",
    "\n",
    "## Sintaxe\n",
    "\n",
    "Um condicional em Python inicia com `if`, seguido de um teste, e depois dois pontos e um bloco de código indentado. Por exemplo:"
   ]
  },
  {
   "cell_type": "code",
   "execution_count": 1,
   "id": "a8d1ea07-5906-46f7-a696-6af7ea21e634",
   "metadata": {},
   "outputs": [
    {
     "name": "stdout",
     "output_type": "stream",
     "text": [
      "Verdadeiro\n"
     ]
    }
   ],
   "source": [
    "valor = 10\n",
    "\n",
    "if valor == 10:\n",
    "    print(\"Verdadeiro\")"
   ]
  },
  {
   "cell_type": "markdown",
   "id": "666d5d69-e3a6-4568-b8ee-4a71c551078a",
   "metadata": {},
   "source": [
    "Caso você queira que algo seja executado se a condição for falsa, pode utilizar `else`."
   ]
  },
  {
   "cell_type": "code",
   "execution_count": 2,
   "id": "2b55d65d-e432-44d0-98b4-3a2ca1639b4b",
   "metadata": {},
   "outputs": [
    {
     "name": "stdout",
     "output_type": "stream",
     "text": [
      "Falso\n"
     ]
    }
   ],
   "source": [
    "valor = 9\n",
    "if valor == 10:\n",
    "    print(\"Verdadeiro\")\n",
    "else:\n",
    "    print(\"Falso\")"
   ]
  },
  {
   "cell_type": "markdown",
   "id": "fc38f966-6389-4e8c-88e7-c735a40d0440",
   "metadata": {},
   "source": [
    "Por último, você pode testar por condições sequencialmente utilizando `elif`."
   ]
  },
  {
   "cell_type": "code",
   "execution_count": 3,
   "id": "718648aa-3b61-44d7-8ef3-3cc45d353f67",
   "metadata": {},
   "outputs": [
    {
     "name": "stdout",
     "output_type": "stream",
     "text": [
      "18\n"
     ]
    }
   ],
   "source": [
    "valor = 9\n",
    "if valor == 10:\n",
    "    print(valor % 5)\n",
    "elif valor >= 9:\n",
    "    print(valor * 2)\n",
    "elif valor > 8:\n",
    "    print(valor // 3)\n",
    "else:\n",
    "    print(valor**0.5)"
   ]
  },
  {
   "cell_type": "markdown",
   "id": "359c3205-b321-4c4c-946b-b71d0beb32d0",
   "metadata": {},
   "source": [
    "É necessário entender que um `if`-`elif`-`else` estão interligadas em uma cadeia de condicionais. A partir do momento que uma das ações for verdadeira, as outras não são executadas. Se você trocar `elif` por `if`, essa cadeia é quebrada. Um `elif` ou `else` sempre estão associados a um `if` inicial, não podem existir sozinhos."
   ]
  },
  {
   "cell_type": "code",
   "execution_count": 4,
   "id": "270cf00c-17f6-4ef9-bbe0-2fdb7c381984",
   "metadata": {},
   "outputs": [
    {
     "name": "stdout",
     "output_type": "stream",
     "text": [
      "18\n",
      "3.0\n"
     ]
    }
   ],
   "source": [
    "valor = 9\n",
    "if valor == 10:\n",
    "    print(valor % 5)\n",
    "if valor >= 9:\n",
    "    print(valor * 2)  # Executa aqui\n",
    "if valor == 8:\n",
    "    print(valor // 3)\n",
    "else:\n",
    "    print(valor**0.5)  # e aqui"
   ]
  },
  {
   "cell_type": "markdown",
   "id": "35f11df5-a7da-4b1f-bfec-77c2b218178d",
   "metadata": {},
   "source": [
    "(sec:truthy_falsy)=\n",
    "## *truthy* e *falsy*\n",
    "\n",
    "Vimos até agora comparações, que utilizam valores booleanos `True` e `False`. Nos condicionais, podemos também testar variáveis que não são booleanas, mas que são avaliadas e entendidas como sendo uma. Isso é um conceito chamado de *truthy* e *falsy*. De forma geral, valores diferentes de zero, coleções com mais de 1 elemento (por exemplo uma string), e demais objetos não-nulos ou diferentes de um \"padrão\" são considerados verdadeiros (*truthy*) para condicionais. Valores padrão, nulos ou vazios são considerados como falsos (*falsy*). Veja mais informações na [documentação oficial](https://docs.python.org/3/library/stdtypes.html#truth-value-testing). Alguns exemplos utilizando a função embutida `bool`."
   ]
  },
  {
   "cell_type": "code",
   "execution_count": 5,
   "id": "2e4980c4-c1e4-49ed-8e60-7c5d5b7d4957",
   "metadata": {},
   "outputs": [
    {
     "data": {
      "text/plain": [
       "False"
      ]
     },
     "execution_count": 5,
     "metadata": {},
     "output_type": "execute_result"
    }
   ],
   "source": [
    "bool(0)"
   ]
  },
  {
   "cell_type": "code",
   "execution_count": 6,
   "id": "aa8613e4-5a68-4f36-acc8-ee78e9d70712",
   "metadata": {},
   "outputs": [
    {
     "data": {
      "text/plain": [
       "False"
      ]
     },
     "execution_count": 6,
     "metadata": {},
     "output_type": "execute_result"
    }
   ],
   "source": [
    "bool(0 + 0j)"
   ]
  },
  {
   "cell_type": "code",
   "execution_count": 7,
   "id": "a21cfe55-d0d8-4e51-95e1-8793adaab0a8",
   "metadata": {},
   "outputs": [
    {
     "data": {
      "text/plain": [
       "False"
      ]
     },
     "execution_count": 7,
     "metadata": {},
     "output_type": "execute_result"
    }
   ],
   "source": [
    "bool(0.0)"
   ]
  },
  {
   "cell_type": "code",
   "execution_count": 8,
   "id": "ef7c6a8d-d135-423a-8078-a9ab7652b227",
   "metadata": {},
   "outputs": [
    {
     "data": {
      "text/plain": [
       "False"
      ]
     },
     "execution_count": 8,
     "metadata": {},
     "output_type": "execute_result"
    }
   ],
   "source": [
    "bool(\"\")"
   ]
  },
  {
   "cell_type": "code",
   "execution_count": 9,
   "id": "548e91f1-6759-403a-9b22-4fb777730c6c",
   "metadata": {},
   "outputs": [
    {
     "data": {
      "text/plain": [
       "True"
      ]
     },
     "execution_count": 9,
     "metadata": {},
     "output_type": "execute_result"
    }
   ],
   "source": [
    "bool(1)"
   ]
  },
  {
   "cell_type": "code",
   "execution_count": 10,
   "id": "4eea2d08-7d6a-4031-b210-6d75f0b9fc3d",
   "metadata": {},
   "outputs": [
    {
     "data": {
      "text/plain": [
       "True"
      ]
     },
     "execution_count": 10,
     "metadata": {},
     "output_type": "execute_result"
    }
   ],
   "source": [
    "bool(0 + 1j)"
   ]
  },
  {
   "cell_type": "code",
   "execution_count": 11,
   "id": "8481bb4e-39d6-4c71-a755-99837c154ce8",
   "metadata": {},
   "outputs": [
    {
     "data": {
      "text/plain": [
       "True"
      ]
     },
     "execution_count": 11,
     "metadata": {},
     "output_type": "execute_result"
    }
   ],
   "source": [
    "bool(0.1)"
   ]
  },
  {
   "cell_type": "code",
   "execution_count": 12,
   "id": "3d8edb41-804f-4c36-9f59-fc150b6b41c2",
   "metadata": {},
   "outputs": [
    {
     "data": {
      "text/plain": [
       "True"
      ]
     },
     "execution_count": 12,
     "metadata": {},
     "output_type": "execute_result"
    }
   ],
   "source": [
    "bool(\"a\")"
   ]
  },
  {
   "cell_type": "markdown",
   "id": "c3269b7a-5917-402d-9749-8a5ab86b3ec8",
   "metadata": {},
   "source": [
    "## Aninhando condicionais\n",
    "\n",
    "Dentro de um dos blocos de um condicional, você pode testar novamente por uma outra condição. Por exemplo"
   ]
  },
  {
   "cell_type": "code",
   "execution_count": 13,
   "id": "6fb9576b-8ab9-4c05-84e4-2938e3da8790",
   "metadata": {},
   "outputs": [
    {
     "name": "stdout",
     "output_type": "stream",
     "text": [
      "Par, maior que 10\n"
     ]
    }
   ],
   "source": [
    "value = 12\n",
    "if value > 10:\n",
    "    if value % 2 == 0:\n",
    "        print(\"Par, maior que 10\")\n",
    "    else:\n",
    "        print(\"Ímpar, maior que 10\")\n",
    "else:\n",
    "    print(\"Menor que 10\")"
   ]
  },
  {
   "cell_type": "markdown",
   "id": "f16ab10d-1fc8-4b36-9605-038a06ee3766",
   "metadata": {},
   "source": [
    "Porém, isso pode aumentar a complexidade do código rapidamente, pois você terá que manter em sua memória vários caminhos divergentes. Existe uma maneira de simplificar esse código, testando por mais de uma condição por linha utilizando os operadores booleanos `and`, `or` e `not`."
   ]
  },
  {
   "cell_type": "markdown",
   "id": "df3df713-97db-48ee-8db9-b487cc3b89da",
   "metadata": {},
   "source": [
    "## Operadores booleanos\n",
    "\n",
    "Vamos reescrever a condição acima utilizando operadores booleanos."
   ]
  },
  {
   "cell_type": "code",
   "execution_count": 14,
   "id": "e65ee3f4-278f-4753-a99c-75f58bb3b235",
   "metadata": {},
   "outputs": [
    {
     "name": "stdout",
     "output_type": "stream",
     "text": [
      "Par, maior que 10\n"
     ]
    }
   ],
   "source": [
    "value = 12\n",
    "if (value > 10) and (value % 2 == 0):\n",
    "    print(\"Par, maior que 10\")\n",
    "elif (value > 10) and (value % 2 != 0):\n",
    "    print(\"Ímpar, maior que 10\")\n",
    "else:\n",
    "    print(\"Menor que 10\")"
   ]
  },
  {
   "cell_type": "markdown",
   "id": "e7aa0253-50df-4635-93ca-ac7529d9a882",
   "metadata": {},
   "source": [
    "No final das contas, a sintaxe que você utilizar vai depender do que você estará fazendo. Aninhando condicionais algumas vezes é mais simples de logicamente separar alguns caminhos, ao invés de ter que retestá-los como no caso sem aninhamento. Por outro lado, muitos condicionais aninhados vão levar a um nó muito complexo, e são um indício que você precisa repensar a sua abordagem adotando, por exemplo, funções para abstrair essa lógica complexa."
   ]
  },
  {
   "cell_type": "markdown",
   "id": "0e91d3de-b431-426a-9fd7-615bc411bd09",
   "metadata": {},
   "source": [
    "## Exercícios resolvidos"
   ]
  },
  {
   "cell_type": "markdown",
   "id": "2ee2d18b-53b4-469a-be78-ef2334387f8f",
   "metadata": {},
   "source": [
    "### Faça um conversor de unidades utilizando condicionais\n",
    "\n",
    "Utilizando condicionais, crie uma função que aceita um valor numérico, uma unidade atual e uma unidade alvo e converte o valor entre essas unidades.\n",
    "\n",
    "Este problema será revisitado [no futuro](prob:conv_unidades) pois há maneiras mais convenientes de fazer esse tipo de operação, comparado ao método que apresentarei aqui.\n",
    "\n",
    "Irei fazer um conversor de unidades de comprimento para este exercício."
   ]
  },
  {
   "cell_type": "code",
   "execution_count": 15,
   "id": "d34ad010-9f1c-4f9e-93fb-a89265a9d6a2",
   "metadata": {},
   "outputs": [],
   "source": [
    "def get_factor_to_m(unit):\n",
    "    \"\"\"Gets the factor that multiplies \"unit\" and converts it to meters\n",
    "    [from_ * factor] = [m]\n",
    "    \"\"\"\n",
    "    if unit == \"m\":\n",
    "        return 1\n",
    "    elif unit == \"dm\":\n",
    "        return 1 / 10\n",
    "    elif unit == \"cm\":\n",
    "        return 1 / 100\n",
    "    elif unit == \"mm\":\n",
    "        return 1 / 1000\n",
    "    elif unit == \"km\":\n",
    "        return 1 / 1e-3\n",
    "    elif unit == \"inch\" or unit == \"in\":\n",
    "        return 1 / 39.3700787\n",
    "    elif unit == \"ft\" or unit == \"feet\" or unit == \"foot\":\n",
    "        return 1 / 3.2808399\n",
    "    elif unit == \"mile\":\n",
    "        return 1609.344\n",
    "\n",
    "\n",
    "def get_factor_from_m(to):\n",
    "    \"\"\"Gets the factor that multiplies the meter and converts it to the unit \"to\".\n",
    "    [m] * factor = [to]\n",
    "    \"\"\"\n",
    "    return 1 / get_factor_to_m(to)\n",
    "\n",
    "\n",
    "def convert_distance(value, from_, to):\n",
    "    \"\"\"Converts \"value\" from the unit \"from_\" to the unit \"to\" first by converting it to meters, then\n",
    "    converting meters to the desired unit\"\"\"\n",
    "    value_in_m = get_factor_to_m(from_) * value\n",
    "    value_in_to = get_factor_from_m(to) * value_in_m\n",
    "    return value_in_to\n",
    "\n",
    "\n",
    "def test_atol(value, reference, atol=1e-5):\n",
    "    return abs(value - reference) < atol\n",
    "\n",
    "\n",
    "assert test_atol(convert_distance(1, \"m\", \"cm\"), 100)\n",
    "assert test_atol(convert_distance(1, \"km\", \"m\"), 1000)\n",
    "assert test_atol(convert_distance(12, \"inch\", \"feet\"), 1)\n",
    "assert test_atol(convert_distance(12, \"feet\", \"inch\"), 12 * 12)\n",
    "assert test_atol(convert_distance(1, \"mile\", \"feet\"), 5280)\n",
    "# assert test_atol(convert_distance(1, 'marathon', 'km'), 42.194988)"
   ]
  },
  {
   "cell_type": "markdown",
   "id": "0054152a-b79b-4d27-a2d9-333722f8065b",
   "metadata": {},
   "source": [
    "Para fazer este exercício, eu criei duas funções de ajuda de conversão, e uma função para auxiliar nos testes. A função `get_factor_to_m` fornece a constante necessária para multiplicar um valor e convertê-lo em metros. Como 1 cm = 1 * 1E-2 m, o fator é 1E-2. A função `get_factor_from_m` fornece a constante necessária para multiplicar metros e atingir o valor desejado. Eu fui espertinho e aproveitei que tais fatores são o inverso um do outro, então eu referenciei a função `get_factor_to_m`, que já possui todas as definições, e inverti o resultado. Se não tivesse feito isso, eu teria que repetir várias outras linhas de código. A função final `convert_distance` em si não faz muita coisa. Ela somente pega os fatores e os multiplica pelo valor fornecido, e dá a resposta. Aqui, eu tive que escrever `from_` pois `from` é uma palavra chave reservada do Python, e entraria em conflito.\n",
    "\n",
    "Eu organizei essa resposta pela seguinte razão. Para este tipo de unidade, a multiplicação por um fator consegue converter de qualquer unidade para qualquer outra. Se você utilizar condicionais e comparar `from_` e `to`, em todas as combinações possíveis, você terá que escrever comparações que são o quadrado do número de unidades que você suporta. Aqui, implementei 8 unidades, então precisaria de 64 condicionais. Isso é algo completamente tedioso de se escrever, muito fácil de errar, e mais difícil ainda de implementar mais unidades.\n",
    "\n",
    "No fim, eu coloquei vários testes para me assegurar que eu havia utilizado as constantes certas. E confie em mim, acho isso tudo confuso demais, sem estes testes eu não teria chegado na resposta desejada!\n",
    "\n",
    "Como pergunta para o leitor: O que ocorreria se eu removesse o comentário da última linha? O que ocorre se eu peço para a função converter uma unidade não implementada?"
   ]
  },
  {
   "cell_type": "markdown",
   "id": "ff1eb534-6179-4a70-adf9-5d490484ccd3",
   "metadata": {},
   "source": [
    "## Exercícios extra\n",
    "\n",
    "### Escrever um conversor de unidades com dicionários\n",
    "\n",
    "```{warning}\n",
    "É necessário conhecimento de [dicionários](sec:dicts), [exceções](sec:except) e [unit tests](sec:unittests) para resolver este problema!\n",
    "```\n",
    "\n",
    "Para realizar este exercício, escreva um conversor de unidades que utiliza dicionários ao invés de condicionais, e que apropriadamente fornece uma mensagem de erro caso a unidade não esteja implementada. Faça a assinatura da função (nome + argumentos) se igual à função criada aqui e utilize os mesmos testes para testá-la. Crie um teste capaz de detectar a exceção e garantir que ela está sendo processada como deveria."
   ]
  },
  {
   "cell_type": "code",
   "execution_count": 16,
   "id": "9aee404b-f533-417c-a839-eb0f8d801fb5",
   "metadata": {
    "editable": true,
    "slideshow": {
     "slide_type": ""
    },
    "tags": []
   },
   "outputs": [],
   "source": [
    "%load \"Soluções de exercícios/convert_dict.py\""
   ]
  },
  {
   "cell_type": "markdown",
   "id": "7b3335eb-d162-4dba-aa57-6549d6db716d",
   "metadata": {
    "editable": true,
    "slideshow": {
     "slide_type": ""
    },
    "tags": []
   },
   "source": [
    "### Utilizar uma biblioteca como conversora de unidades\n",
    "\n",
    "```{warning}\n",
    "É necessário conhecimento de [importação de pacotes](cap:import) para resolver este problema!\n",
    "```\n",
    "\n",
    "Refaça a função, mas utilize o pacote `pint` para fazer as conversões. Use ...\n",
    "TODO"
   ]
  },
  {
   "cell_type": "code",
   "execution_count": 17,
   "id": "354ce2f6-cffe-4998-8db5-cc330145f8af",
   "metadata": {
    "editable": true,
    "slideshow": {
     "slide_type": ""
    },
    "tags": []
   },
   "outputs": [],
   "source": [
    "%load"
   ]
  }
 ],
 "metadata": {
  "kernelspec": {
   "display_name": "cursopython",
   "language": "python",
   "name": "cursopython"
  },
  "language_info": {
   "codemirror_mode": {
    "name": "ipython",
    "version": 3
   },
   "file_extension": ".py",
   "mimetype": "text/x-python",
   "name": "python",
   "nbconvert_exporter": "python",
   "pygments_lexer": "ipython3",
   "version": "3.11.3"
  }
 },
 "nbformat": 4,
 "nbformat_minor": 5
}
