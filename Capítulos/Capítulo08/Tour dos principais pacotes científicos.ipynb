{
 "cells": [
  {
   "cell_type": "markdown",
   "id": "48f878e8-3dff-468b-9ac4-c1270b9d4f7e",
   "metadata": {},
   "source": [
    "# Tour dos pacotes científicos principais\n",
    "\n",
    "Existem três pacotes campeões na área científica.\n",
    "\n",
    "* `numpy`, para computação numérica, possui *arrays* que são muito mais rápidos que listas em Python, e uma série de funções para manipular esses *arrays*. [docs](https://numpy.org/doc/stable/) e [livro recomendado](http://web.mit.edu/dvp/Public/numpybook.pdf)\n",
    "* `pandas`, para o carregamento, processamento, limpeza, filtragem, agregação e exportação de dados. [docs](https://pandas.pydata.org/pandas-docs/stable/index.html)\n",
    "* `matplotlib`, para a criação de gráficos. [docs](https://matplotlib.org/)\n",
    "* `scipy`, com funções específicas para a área científica. [docs](https://docs.scipy.org/doc/scipy/index.html)"
   ]
  },
  {
   "cell_type": "code",
   "execution_count": 1,
   "id": "096e9b01-6f82-4017-968a-92b8dc949395",
   "metadata": {
    "editable": true,
    "slideshow": {
     "slide_type": ""
    },
    "tags": []
   },
   "outputs": [],
   "source": [
    "import numpy as np\n",
    "import pandas as pd\n",
    "import matplotlib.pyplot as plt\n",
    "import scipy as sp"
   ]
  },
  {
   "cell_type": "markdown",
   "id": "6ff202aa-c2b0-4378-8b6c-cadc88925e1c",
   "metadata": {},
   "source": [
    "Cada um desses pacotes são um universo e nunca conseguirei fazer juz à todos, especialmente em um único capítulo. Eu começarei descrevendo cada um aos poucos, depois começarei a juntar as peças e por fim tentarei mostrar problemas mais completos."
   ]
  },
  {
   "cell_type": "markdown",
   "id": "42699b8f-4219-41f2-af91-fd414c3a9bb7",
   "metadata": {},
   "source": [
    "## Básicos de `numpy`\n",
    "\n",
    "Listas em Python podem conter qualquer objetos de tipo. Números, strings, objetos complexos, qualquer coisa, de qualquer tamanho. Para isso, o interpretador precisa de uma série de abstrações que permitam essa flexibilidade, e isso traz lentidão. No centro de `numpy` temos os *arrays* como análogos a listas, mas:\n",
    "\n",
    "* *arrays* precisam ser somente de um mesmo tipo, e esses tipos nem sempre são idênticos ao existentes em Python.\n",
    "* *arrays* precisam de um tamanho fixo.\n",
    "\n",
    "Essa rigidez traz algumas vantagens\n",
    "\n",
    "* Flexibilidade no formato: *arrays* possuem um *buffer*, um bloco contíguo de memória, contendo informação (bytes), e uma descrição desses dados, como o número de linhas, colunas, tipo do dado. Assim, `numpy` consegue acessar qualquer elemento com muita rapidez, com um simples cálculo de posição. Além disso, quando queremos transformar um *array*, com uma transposta ou uma alteração no número de linhas ou colunas, não precisamos alterar esse bloco de memória, somente os cálculos para encontrar os elementos.\n",
    "* Expressividade: operações em todos os elementos, algo muito comum, podem ser feitas como se um *array* fosse um escalar qualquer, sem termos que nos preocupar com loops ao longo dos elementos.\n",
    "* Vetorização: quando aplicamos operações em *arrays*, o processamento é transferido para a linguagem C, onde a velocidade de execução é mais rápida.\n",
    "\n",
    "Logo, utilizar *arrays* nos permite ter código rápido e expressivo. \n",
    "\n",
    "Para criar um *array*, podemos utilizar a função `np.array` com um iterável."
   ]
  },
  {
   "cell_type": "code",
   "execution_count": 2,
   "id": "f150c081-1e6f-43e6-b9af-c4b812ec7d6d",
   "metadata": {},
   "outputs": [
    {
     "data": {
      "text/plain": [
       "array([1, 2, 3, 4, 5])"
      ]
     },
     "execution_count": 2,
     "metadata": {},
     "output_type": "execute_result"
    }
   ],
   "source": [
    "arr = np.array([1, 2, 3, 4, 5])\n",
    "arr"
   ]
  },
  {
   "cell_type": "markdown",
   "id": "928c164d-b4c2-45ab-ae4e-ed1b86bbf2cf",
   "metadata": {},
   "source": [
    "Podemos também utilizar várias funções que geram *arrays*, como:\n",
    "\n",
    "* `np.arange`, que é similar ao embutido `range`, mas onde podemos ter passos não inteiros"
   ]
  },
  {
   "cell_type": "code",
   "execution_count": 3,
   "id": "fa6d5eaf-758c-4095-99cf-3be6ecd99f48",
   "metadata": {},
   "outputs": [
    {
     "name": "stdout",
     "output_type": "stream",
     "text": [
      "[0 1 2 3 4 5 6 7 8 9]\n",
      "[1 2 3 4 5 6 7 8 9]\n",
      "[2.    2.375 2.75  3.125 3.5   3.875 4.25  4.625 5.    5.375 5.75  6.125\n",
      " 6.5   6.875 7.25  7.625 8.    8.375 8.75  9.125 9.5   9.875]\n"
     ]
    }
   ],
   "source": [
    "print(\n",
    "    np.arange(10),\n",
    "    np.arange(1, 10, 1),\n",
    "    np.arange(2, 10, 0.375),\n",
    "    sep='\\n'\n",
    ")"
   ]
  },
  {
   "cell_type": "markdown",
   "id": "aba8e5aa-f039-4193-9d7c-6ecd1c547967",
   "metadata": {},
   "source": [
    "* `np.linspace`, que recebe um valor de início, fim e um número de pontos e retorna um *array* onde esses pontos são espaçados igualmente na escala linear. Importante realçar que neste caso o ponto final é incluído por padrão (*kwarg* `endpoint`). Logo, nestes exemplos o número de pontos pode *parecer* errado, m se você contá-los na mão verá todos tem o tamanho correto."
   ]
  },
  {
   "cell_type": "code",
   "execution_count": 4,
   "id": "08e741ca-b3c8-476b-9186-615dd643a5d4",
   "metadata": {},
   "outputs": [
    {
     "name": "stdout",
     "output_type": "stream",
     "text": [
      "[ 1.  2.  3.  4.  5.  6.  7.  8.  9. 10.] [ 1.   1.5  2.   2.5  3.   3.5  4.   4.5  5.   5.5  6.   6.5  7.   7.5\n",
      "  8.   8.5  9.   9.5 10. ] [ 50.  60.  70.  80.  90. 100.]\n"
     ]
    }
   ],
   "source": [
    "print(\n",
    "    np.linspace(1, 10, num=10),\n",
    "    np.linspace(1, 10, num=19),\n",
    "    np.linspace(50, 100, num=6)\n",
    ")"
   ]
  },
  {
   "cell_type": "markdown",
   "id": "02b1cdfa-0968-45a7-8ec8-4a3ba1d0624b",
   "metadata": {},
   "source": [
    "* `np.logspace`, que é similar a `np.linspace`, mas os dados são espaçados igualmente na escala log. Por padrão a base é 10, mas pode ser especificada com o *kwarg* `base`. Os valores fornecidos são a *potência* em que a base é elevada, então se quiser começar de 10, o valor de `start` é 1."
   ]
  },
  {
   "cell_type": "code",
   "execution_count": 5,
   "id": "8122c33d-b462-452f-be14-442039bcedfb",
   "metadata": {},
   "outputs": [
    {
     "name": "stdout",
     "output_type": "stream",
     "text": [
      "[   1.   10.  100. 1000.] [1.e-03 1.e-02 1.e-01 1.e+00 1.e+01 1.e+02 1.e+03]\n"
     ]
    }
   ],
   "source": [
    "print(\n",
    "    np.logspace(0, 3, num=4),\n",
    "    np.logspace(-3, 3, num=7)\n",
    ")"
   ]
  },
  {
   "cell_type": "markdown",
   "id": "116c2bcb-4130-4201-b74b-6e12689d65de",
   "metadata": {},
   "source": [
    "* `np.geomspace` é similar a `np.logspace`, mas os pontos iniciais e finais são fornecidos diretamente, sem precisar colocar a base e expoente."
   ]
  },
  {
   "cell_type": "code",
   "execution_count": 6,
   "id": "97cc521a-3d6c-476f-b9c8-cde0968101e4",
   "metadata": {},
   "outputs": [
    {
     "name": "stdout",
     "output_type": "stream",
     "text": [
      "[   1.   10.  100. 1000.] [1.e-03 1.e-02 1.e-01 1.e+00 1.e+01 1.e+02 1.e+03]\n"
     ]
    }
   ],
   "source": [
    "print(\n",
    "    np.geomspace(1, 1000, num=4),\n",
    "    np.geomspace(1E-3, 1000, num=7)\n",
    ")"
   ]
  },
  {
   "cell_type": "markdown",
   "id": "da2300ba-72ff-4bee-9883-3031752d63e8",
   "metadata": {},
   "source": [
    "* `np.ones`, que gera uma *array* contendo somente uns do tamanho especificado."
   ]
  },
  {
   "cell_type": "code",
   "execution_count": 7,
   "id": "cb68f1be-76f7-47b5-a561-2c9758ce3990",
   "metadata": {},
   "outputs": [
    {
     "data": {
      "text/plain": [
       "array([1., 1., 1., 1., 1., 1., 1., 1., 1., 1.])"
      ]
     },
     "execution_count": 7,
     "metadata": {},
     "output_type": "execute_result"
    }
   ],
   "source": [
    "np.ones(10)"
   ]
  },
  {
   "cell_type": "markdown",
   "id": "7cd5a9b5-e206-4a23-b07d-9b08a55eb99f",
   "metadata": {},
   "source": [
    "* `np.zeros` faz o mesmo, mas contendo somente zeros"
   ]
  },
  {
   "cell_type": "code",
   "execution_count": 8,
   "id": "aebdc38b-c099-4ad8-a81f-0a0c6903f08f",
   "metadata": {},
   "outputs": [
    {
     "data": {
      "text/plain": [
       "array([0., 0., 0., 0., 0., 0., 0., 0., 0., 0.])"
      ]
     },
     "execution_count": 8,
     "metadata": {},
     "output_type": "execute_result"
    }
   ],
   "source": [
    "np.zeros(10)"
   ]
  },
  {
   "cell_type": "markdown",
   "id": "61b10b5a-a718-41f4-87e0-a6ee00ecb47e",
   "metadata": {},
   "source": [
    "* `np.ones_like` e `np.zeros_like` retornam *arrays* cheias de zeros ou uns com o mesmo formato de outra array"
   ]
  },
  {
   "cell_type": "code",
   "execution_count": 9,
   "id": "dce08bfb-ee03-42b1-8fdd-5767e7b90a43",
   "metadata": {},
   "outputs": [
    {
     "name": "stdout",
     "output_type": "stream",
     "text": [
      "[1 1 1 1 1] [0 0 0 0 0]\n"
     ]
    }
   ],
   "source": [
    "temp = np.array([1, 2, 3, 4, 5])\n",
    "print(\n",
    "    np.ones_like(temp),\n",
    "    np.zeros_like(temp)\n",
    ")"
   ]
  },
  {
   "cell_type": "markdown",
   "id": "f3d0b636-fd7b-4efd-874f-537dbd1e6c20",
   "metadata": {},
   "source": [
    "Até agora todas as estruturas mostradas são 0-dimensionais. Não são como vetores linha ou coluna, são só sequências. Isso pode ser acessado pela propriedade `.shape` "
   ]
  },
  {
   "cell_type": "code",
   "execution_count": 10,
   "id": "806055fe-aad4-448b-b521-6b30a33cf025",
   "metadata": {},
   "outputs": [
    {
     "data": {
      "text/plain": [
       "(5,)"
      ]
     },
     "execution_count": 10,
     "metadata": {},
     "output_type": "execute_result"
    }
   ],
   "source": [
    "temp.shape"
   ]
  },
  {
   "cell_type": "markdown",
   "id": "408c5c6f-8dd6-45c1-805b-557bf8766bc7",
   "metadata": {},
   "source": [
    "Podemos criar *arrays* multidimensionais com várias das funções anteriores."
   ]
  },
  {
   "cell_type": "code",
   "execution_count": 11,
   "id": "44acd6d4-3024-44b6-9e79-398853cd2997",
   "metadata": {},
   "outputs": [
    {
     "name": "stdout",
     "output_type": "stream",
     "text": [
      "[[1 2 3]\n",
      " [4 5 6]]\n",
      "\n",
      "[[1]\n",
      " [2]\n",
      " [3]\n",
      " [4]\n",
      " [5]\n",
      " [6]]\n",
      "\n",
      "[[1. 1. 1.]\n",
      " [1. 1. 1.]]\n",
      "\n",
      "[[0. 0.]\n",
      " [0. 0.]\n",
      " [0. 0.]]\n"
     ]
    }
   ],
   "source": [
    "print(\n",
    "    np.array([[1, 2, 3], [4, 5, 6]]),\n",
    "    np.array([[1], [2], [3], [4], [5], [6]]),\n",
    "    np.ones((2, 3)),\n",
    "    np.zeros((3, 2)),\n",
    "    sep='\\n\\n'\n",
    ")"
   ]
  },
  {
   "cell_type": "code",
   "execution_count": null,
   "id": "d64fc599-217d-4de0-821b-f4599d44ae31",
   "metadata": {},
   "outputs": [],
   "source": []
  },
  {
   "cell_type": "code",
   "execution_count": 12,
   "id": "1027b695-df74-4e25-b79a-bad23d455403",
   "metadata": {},
   "outputs": [],
   "source": [
    "def lento():\n",
    "    a = np.ones(100000)\n",
    "    for i in range(a.size):\n",
    "        a[i] *= 5\n",
    "\n",
    "def rapido():\n",
    "    a = np.ones(100000)\n",
    "    a *= 5"
   ]
  },
  {
   "cell_type": "code",
   "execution_count": 13,
   "id": "820388a6-6224-4215-940e-28367a5b8e44",
   "metadata": {},
   "outputs": [
    {
     "name": "stdout",
     "output_type": "stream",
     "text": [
      "17.9 ms ± 749 µs per loop (mean ± std. dev. of 7 runs, 100 loops each)\n"
     ]
    }
   ],
   "source": [
    "%timeit lento()"
   ]
  },
  {
   "cell_type": "code",
   "execution_count": 14,
   "id": "30605f6c-3af8-4212-8138-c5bf53a6f4ac",
   "metadata": {},
   "outputs": [
    {
     "name": "stdout",
     "output_type": "stream",
     "text": [
      "24.3 µs ± 310 ns per loop (mean ± std. dev. of 7 runs, 10,000 loops each)\n"
     ]
    }
   ],
   "source": [
    "%timeit rapido()"
   ]
  },
  {
   "cell_type": "code",
   "execution_count": null,
   "id": "a5d64ae2-6d9d-41b9-9f24-2c2172988a85",
   "metadata": {},
   "outputs": [],
   "source": []
  },
  {
   "cell_type": "code",
   "execution_count": null,
   "id": "6faa8465-0afe-4b2a-a797-2a0fa5aa3950",
   "metadata": {},
   "outputs": [],
   "source": []
  },
  {
   "cell_type": "code",
   "execution_count": 15,
   "id": "6c8560f6-a057-43a9-b905-ffafad363b1f",
   "metadata": {},
   "outputs": [
    {
     "name": "stdout",
     "output_type": "stream",
     "text": [
      "[2147483647]\n",
      "[2147483647]\n",
      "[2147483647]\n"
     ]
    },
    {
     "ename": "OverflowError",
     "evalue": "Python int too large to convert to C long",
     "output_type": "error",
     "traceback": [
      "\u001b[1;31m---------------------------------------------------------------------------\u001b[0m",
      "\u001b[1;31mOverflowError\u001b[0m                             Traceback (most recent call last)",
      "Cell \u001b[1;32mIn[15], line 5\u001b[0m\n\u001b[0;32m      3\u001b[0m \u001b[38;5;28mprint\u001b[39m(np\u001b[38;5;241m.\u001b[39marray([int32_max], dtype\u001b[38;5;241m=\u001b[39mnp\u001b[38;5;241m.\u001b[39mint64))\n\u001b[0;32m      4\u001b[0m \u001b[38;5;28mprint\u001b[39m(np\u001b[38;5;241m.\u001b[39marray([int32_max], dtype\u001b[38;5;241m=\u001b[39mnp\u001b[38;5;241m.\u001b[39muint32))\n\u001b[1;32m----> 5\u001b[0m \u001b[38;5;28mprint\u001b[39m(\u001b[43mnp\u001b[49m\u001b[38;5;241;43m.\u001b[39;49m\u001b[43marray\u001b[49m\u001b[43m(\u001b[49m\u001b[43m[\u001b[49m\u001b[43mint32_max\u001b[49m\u001b[43m \u001b[49m\u001b[38;5;241;43m+\u001b[39;49m\u001b[43m \u001b[49m\u001b[38;5;241;43m1\u001b[39;49m\u001b[43m]\u001b[49m\u001b[43m,\u001b[49m\u001b[43m \u001b[49m\u001b[43mdtype\u001b[49m\u001b[38;5;241;43m=\u001b[39;49m\u001b[43mnp\u001b[49m\u001b[38;5;241;43m.\u001b[39;49m\u001b[43mint32\u001b[49m\u001b[43m)\u001b[49m)\n",
      "\u001b[1;31mOverflowError\u001b[0m: Python int too large to convert to C long"
     ]
    }
   ],
   "source": [
    "int32_max = 2147483647\n",
    "print(np.array([int32_max], dtype=np.int32))\n",
    "print(np.array([int32_max], dtype=np.int64))\n",
    "print(np.array([int32_max], dtype=np.uint32))\n",
    "print(np.array([int32_max + 1], dtype=np.int32))"
   ]
  }
 ],
 "metadata": {
  "kernelspec": {
   "display_name": "CursoPython",
   "language": "python",
   "name": "cursopython"
  },
  "language_info": {
   "codemirror_mode": {
    "name": "ipython",
    "version": 3
   },
   "file_extension": ".py",
   "mimetype": "text/x-python",
   "name": "python",
   "nbconvert_exporter": "python",
   "pygments_lexer": "ipython3",
   "version": "3.11.3"
  }
 },
 "nbformat": 4,
 "nbformat_minor": 5
}
