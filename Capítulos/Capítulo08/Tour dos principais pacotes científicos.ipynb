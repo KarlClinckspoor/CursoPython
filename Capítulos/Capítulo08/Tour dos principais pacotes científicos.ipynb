{
 "cells": [
  {
   "cell_type": "markdown",
   "id": "48f878e8-3dff-468b-9ac4-c1270b9d4f7e",
   "metadata": {},
   "source": [
    "# Tour dos pacotes científicos principais\n",
    "\n",
    "Existem três pacotes campeões na área científica.\n",
    "\n",
    "* `numpy`, para computação numérica, possui *arrays* que são muito mais rápidos que listas em Python, e uma série de funções para manipular esses *arrays*. [docs](https://numpy.org/doc/stable/) e [livro recomendado](http://web.mit.edu/dvp/Public/numpybook.pdf)\n",
    "* `pandas`, para o carregamento, processamento, limpeza, filtragem, agregação e exportação de dados. [docs](https://pandas.pydata.org/pandas-docs/stable/index.html)\n",
    "* `matplotlib`, para a criação de gráficos. [docs](https://matplotlib.org/)\n",
    "* `scipy`, com funções específicas para a área científica. [docs](https://docs.scipy.org/doc/scipy/index.html)"
   ]
  },
  {
   "cell_type": "code",
   "execution_count": 1,
   "id": "096e9b01-6f82-4017-968a-92b8dc949395",
   "metadata": {
    "editable": true,
    "slideshow": {
     "slide_type": ""
    },
    "tags": []
   },
   "outputs": [],
   "source": [
    "import numpy as np\n",
    "import pandas as pd\n",
    "import matplotlib.pyplot as plt\n",
    "import scipy as sp"
   ]
  },
  {
   "cell_type": "markdown",
   "id": "6ff202aa-c2b0-4378-8b6c-cadc88925e1c",
   "metadata": {},
   "source": [
    "Cada um desses pacotes são um universo e nunca conseguirei fazer juz à todos, especialmente em um único capítulo. Eu começarei descrevendo cada um aos poucos, depois começarei a juntar as peças e por fim tentarei mostrar problemas mais completos."
   ]
  },
  {
   "cell_type": "markdown",
   "id": "42699b8f-4219-41f2-af91-fd414c3a9bb7",
   "metadata": {},
   "source": [
    "(sec:basicos_np_1)=\n",
    "## Básicos de `numpy` Parte 1\n",
    "\n",
    "[Veja também a seção para iniciantes da documentação](https://numpy.org/doc/stable/user/absolute_beginners.html)\n",
    "\n",
    "Listas em Python podem conter qualquer objetos de tipo. Números, strings, objetos complexos, qualquer coisa, de qualquer tamanho. Para isso, o interpretador precisa de uma série de abstrações que permitam essa flexibilidade, e isso traz lentidão. No centro de `numpy` temos os *arrays* como análogos a listas, mas:\n",
    "\n",
    "* *arrays* precisam ser somente de um mesmo tipo, e esses tipos nem sempre são idênticos ao existentes em Python.\n",
    "* *arrays* precisam de um tamanho fixo.\n",
    "\n",
    "Essa rigidez traz algumas vantagens\n",
    "\n",
    "* Flexibilidade no formato: *arrays* possuem um *buffer*, um bloco contíguo de memória, contendo informação (bytes), e uma descrição desses dados, como o número de linhas, colunas, tipo do dado. Assim, `numpy` consegue acessar qualquer elemento com muita rapidez, com um simples cálculo de posição. Além disso, quando queremos transformar um *array*, com uma transposta ou uma alteração no número de linhas ou colunas, não precisamos alterar esse bloco de memória, somente os cálculos para encontrar os elementos.\n",
    "* Expressividade: operações em todos os elementos, algo muito comum, podem ser feitas como se um *array* fosse um escalar qualquer, sem termos que nos preocupar com loops ao longo dos elementos.\n",
    "* Vetorização: quando aplicamos operações em *arrays*, o processamento é transferido para a linguagem C, onde a velocidade de execução é mais rápida.\n",
    "\n",
    "Logo, utilizar *arrays* nos permite ter código rápido e expressivo. \n",
    "\n",
    "Para criar um *array*, podemos utilizar a função `np.array` com um iterável."
   ]
  },
  {
   "cell_type": "code",
   "execution_count": 2,
   "id": "f150c081-1e6f-43e6-b9af-c4b812ec7d6d",
   "metadata": {},
   "outputs": [
    {
     "data": {
      "text/plain": [
       "array([1, 2, 3, 4, 5])"
      ]
     },
     "execution_count": 2,
     "metadata": {},
     "output_type": "execute_result"
    }
   ],
   "source": [
    "arr = np.array([1, 2, 3, 4, 5])\n",
    "arr"
   ]
  },
  {
   "cell_type": "markdown",
   "id": "928c164d-b4c2-45ab-ae4e-ed1b86bbf2cf",
   "metadata": {},
   "source": [
    "Podemos também utilizar várias funções que geram *arrays*, como:\n",
    "\n",
    "* `np.arange`, que é similar ao embutido `range`, mas onde podemos ter passos não inteiros"
   ]
  },
  {
   "cell_type": "code",
   "execution_count": 3,
   "id": "fa6d5eaf-758c-4095-99cf-3be6ecd99f48",
   "metadata": {},
   "outputs": [
    {
     "name": "stdout",
     "output_type": "stream",
     "text": [
      "[0 1 2 3 4 5 6 7 8 9]\n",
      "[1 2 3 4 5 6 7 8 9]\n",
      "[2.    2.375 2.75  3.125 3.5   3.875 4.25  4.625 5.    5.375 5.75  6.125\n",
      " 6.5   6.875 7.25  7.625 8.    8.375 8.75  9.125 9.5   9.875]\n"
     ]
    }
   ],
   "source": [
    "print(np.arange(10), np.arange(1, 10, 1), np.arange(2, 10, 0.375), sep=\"\\n\")"
   ]
  },
  {
   "cell_type": "markdown",
   "id": "aba8e5aa-f039-4193-9d7c-6ecd1c547967",
   "metadata": {},
   "source": [
    "* `np.linspace`, que recebe um valor de início, fim e um número de pontos e retorna um *array* onde esses pontos são espaçados igualmente na escala linear. Importante realçar que neste caso o ponto final é incluído por padrão (*kwarg* `endpoint`). Logo, nestes exemplos o número de pontos pode *parecer* errado, m se você contá-los na mão verá todos tem o tamanho correto."
   ]
  },
  {
   "cell_type": "code",
   "execution_count": 4,
   "id": "08e741ca-b3c8-476b-9186-615dd643a5d4",
   "metadata": {},
   "outputs": [
    {
     "name": "stdout",
     "output_type": "stream",
     "text": [
      "[ 1.  2.  3.  4.  5.  6.  7.  8.  9. 10.] [ 1.   1.5  2.   2.5  3.   3.5  4.   4.5  5.   5.5  6.   6.5  7.   7.5\n",
      "  8.   8.5  9.   9.5 10. ] [ 50.  60.  70.  80.  90. 100.]\n"
     ]
    }
   ],
   "source": [
    "print(np.linspace(1, 10, num=10), np.linspace(1, 10, num=19), np.linspace(50, 100, num=6))"
   ]
  },
  {
   "cell_type": "markdown",
   "id": "02b1cdfa-0968-45a7-8ec8-4a3ba1d0624b",
   "metadata": {},
   "source": [
    "* `np.logspace`, que é similar a `np.linspace`, mas os dados são espaçados igualmente na escala log. Por padrão a base é 10, mas pode ser especificada com o *kwarg* `base`. Os valores fornecidos são a *potência* em que a base é elevada, então se quiser começar de 10, o valor de `start` é 1."
   ]
  },
  {
   "cell_type": "code",
   "execution_count": 5,
   "id": "8122c33d-b462-452f-be14-442039bcedfb",
   "metadata": {},
   "outputs": [
    {
     "name": "stdout",
     "output_type": "stream",
     "text": [
      "[   1.   10.  100. 1000.] [1.e-03 1.e-02 1.e-01 1.e+00 1.e+01 1.e+02 1.e+03]\n"
     ]
    }
   ],
   "source": [
    "print(np.logspace(0, 3, num=4), np.logspace(-3, 3, num=7))"
   ]
  },
  {
   "cell_type": "markdown",
   "id": "116c2bcb-4130-4201-b74b-6e12689d65de",
   "metadata": {},
   "source": [
    "* `np.geomspace` é similar a `np.logspace`, mas os pontos iniciais e finais são fornecidos diretamente, sem precisar colocar a base e expoente."
   ]
  },
  {
   "cell_type": "code",
   "execution_count": 6,
   "id": "97cc521a-3d6c-476f-b9c8-cde0968101e4",
   "metadata": {},
   "outputs": [
    {
     "name": "stdout",
     "output_type": "stream",
     "text": [
      "[   1.   10.  100. 1000.] [1.e-03 1.e-02 1.e-01 1.e+00 1.e+01 1.e+02 1.e+03]\n"
     ]
    }
   ],
   "source": [
    "print(np.geomspace(1, 1000, num=4), np.geomspace(1e-3, 1000, num=7))"
   ]
  },
  {
   "cell_type": "markdown",
   "id": "da2300ba-72ff-4bee-9883-3031752d63e8",
   "metadata": {},
   "source": [
    "* `np.ones`, que gera uma *array* contendo somente uns do tamanho especificado."
   ]
  },
  {
   "cell_type": "code",
   "execution_count": 7,
   "id": "cb68f1be-76f7-47b5-a561-2c9758ce3990",
   "metadata": {},
   "outputs": [
    {
     "data": {
      "text/plain": [
       "array([1., 1., 1., 1., 1., 1., 1., 1., 1., 1.])"
      ]
     },
     "execution_count": 7,
     "metadata": {},
     "output_type": "execute_result"
    }
   ],
   "source": [
    "np.ones(10)"
   ]
  },
  {
   "cell_type": "markdown",
   "id": "7cd5a9b5-e206-4a23-b07d-9b08a55eb99f",
   "metadata": {},
   "source": [
    "* `np.zeros` faz o mesmo, mas contendo somente zeros"
   ]
  },
  {
   "cell_type": "code",
   "execution_count": 8,
   "id": "aebdc38b-c099-4ad8-a81f-0a0c6903f08f",
   "metadata": {},
   "outputs": [
    {
     "data": {
      "text/plain": [
       "array([0., 0., 0., 0., 0., 0., 0., 0., 0., 0.])"
      ]
     },
     "execution_count": 8,
     "metadata": {},
     "output_type": "execute_result"
    }
   ],
   "source": [
    "np.zeros(10)"
   ]
  },
  {
   "cell_type": "markdown",
   "id": "61b10b5a-a718-41f4-87e0-a6ee00ecb47e",
   "metadata": {},
   "source": [
    "* `np.ones_like` e `np.zeros_like` retornam *arrays* cheias de zeros ou uns com o mesmo formato de outra array"
   ]
  },
  {
   "cell_type": "code",
   "execution_count": 9,
   "id": "dce08bfb-ee03-42b1-8fdd-5767e7b90a43",
   "metadata": {},
   "outputs": [
    {
     "name": "stdout",
     "output_type": "stream",
     "text": [
      "[1 1 1 1 1] [0 0 0 0 0]\n"
     ]
    }
   ],
   "source": [
    "temp = np.array([1, 2, 3, 4, 5])\n",
    "print(np.ones_like(temp), np.zeros_like(temp))"
   ]
  },
  {
   "cell_type": "markdown",
   "id": "f3d0b636-fd7b-4efd-874f-537dbd1e6c20",
   "metadata": {},
   "source": [
    "Até agora todas as estruturas mostradas são 0-dimensionais. Não são como vetores linha ou coluna, são só sequências. Isso pode ser acessado pela propriedade `.shape`. A propriedade `.size` contém o número total de elementos."
   ]
  },
  {
   "cell_type": "code",
   "execution_count": 10,
   "id": "806055fe-aad4-448b-b521-6b30a33cf025",
   "metadata": {},
   "outputs": [
    {
     "data": {
      "text/plain": [
       "((5,), 5)"
      ]
     },
     "execution_count": 10,
     "metadata": {},
     "output_type": "execute_result"
    }
   ],
   "source": [
    "temp.shape, temp.size"
   ]
  },
  {
   "cell_type": "markdown",
   "id": "408c5c6f-8dd6-45c1-805b-557bf8766bc7",
   "metadata": {},
   "source": [
    "Podemos criar *arrays* multidimensionais com várias das funções anteriores."
   ]
  },
  {
   "cell_type": "code",
   "execution_count": 11,
   "id": "44acd6d4-3024-44b6-9e79-398853cd2997",
   "metadata": {},
   "outputs": [
    {
     "name": "stdout",
     "output_type": "stream",
     "text": [
      "[[1 2 3]\n",
      " [4 5 6]]\n",
      "\n",
      "[[1]\n",
      " [2]\n",
      " [3]\n",
      " [4]\n",
      " [5]\n",
      " [6]]\n",
      "\n",
      "[[1. 1. 1.]\n",
      " [1. 1. 1.]]\n",
      "\n",
      "[[0. 0.]\n",
      " [0. 0.]\n",
      " [0. 0.]]\n"
     ]
    }
   ],
   "source": [
    "print(\n",
    "    np.array([[1, 2, 3], [4, 5, 6]]),\n",
    "    np.array([[1], [2], [3], [4], [5], [6]]),\n",
    "    np.ones((2, 3)),\n",
    "    np.zeros((3, 2)),\n",
    "    sep=\"\\n\\n\",\n",
    ")"
   ]
  },
  {
   "cell_type": "markdown",
   "id": "d5114115-ef20-471d-b969-1d6f1f826038",
   "metadata": {},
   "source": [
    "E podemos alterar as dimensões de *arrays* com `reshape` e o número de linhas e colunas, desde que os números de elementos sejam compatíveis."
   ]
  },
  {
   "cell_type": "code",
   "execution_count": 12,
   "id": "d64fc599-217d-4de0-821b-f4599d44ae31",
   "metadata": {},
   "outputs": [
    {
     "name": "stdout",
     "output_type": "stream",
     "text": [
      "[1 2 3 4 5 6] (6,) 6 \n",
      "\n",
      " [[1 2 3 4 5 6]] (1, 6) 6 \n",
      "\n",
      " [[1]\n",
      " [2]\n",
      " [3]\n",
      " [4]\n",
      " [5]\n",
      " [6]] (6, 1) 6 \n",
      "\n",
      " [[1 2 3]\n",
      " [4 5 6]] (2, 3) 6 \n",
      "\n",
      " [[[1 2]\n",
      "  [3 4]\n",
      "  [5 6]]] (1, 3, 2) 6\n"
     ]
    }
   ],
   "source": [
    "arr_0d = np.arange(1, 7, 1)\n",
    "arr_1d_lin = arr_0d.reshape(1, 6)\n",
    "arr_1d_col = arr_0d.reshape(6, 1)\n",
    "arr_2d = arr_0d.reshape(2, 3)\n",
    "arr_3d = arr_0d.reshape(1, 3, 2)\n",
    "print(\n",
    "    arr_0d,\n",
    "    arr_0d.shape,\n",
    "    arr_0d.size,\n",
    "    \"\\n\\n\",\n",
    "    arr_1d_lin,\n",
    "    arr_1d_lin.shape,\n",
    "    arr_1d_lin.size,\n",
    "    \"\\n\\n\",\n",
    "    arr_1d_col,\n",
    "    arr_1d_col.shape,\n",
    "    arr_1d_col.size,\n",
    "    \"\\n\\n\",\n",
    "    arr_2d,\n",
    "    arr_2d.shape,\n",
    "    arr_2d.size,\n",
    "    \"\\n\\n\",\n",
    "    arr_3d,\n",
    "    arr_3d.shape,\n",
    "    arr_3d.size,\n",
    ")"
   ]
  },
  {
   "cell_type": "markdown",
   "id": "977411c6-8cd1-4126-ae09-deb9028a9de7",
   "metadata": {},
   "source": [
    "Por praticidade, uma dimensão pode ser especificada como `-1`, deixando que seu valor seja calculado pelos outros valores."
   ]
  },
  {
   "cell_type": "code",
   "execution_count": 13,
   "id": "15884e9e-f2e2-4c3c-9991-d553253dd6fb",
   "metadata": {},
   "outputs": [
    {
     "data": {
      "text/plain": [
       "array([[1, 2, 3],\n",
       "       [4, 5, 6]])"
      ]
     },
     "execution_count": 13,
     "metadata": {},
     "output_type": "execute_result"
    }
   ],
   "source": [
    "arr_0d.reshape(-1, 3)"
   ]
  },
  {
   "cell_type": "markdown",
   "id": "524327b8-9818-495f-89b5-c1bdd41fd835",
   "metadata": {},
   "source": [
    "Se quisermos acessar um elemento, podemos fazer com a notação de colchetes. Convenientemente, ao invés de termos que encadear colchetes, podemos fornecer o índice, ou slices, separados por vírgula."
   ]
  },
  {
   "cell_type": "code",
   "execution_count": 14,
   "id": "19d9602b-dd59-4b89-8786-a95c26410805",
   "metadata": {},
   "outputs": [
    {
     "name": "stdout",
     "output_type": "stream",
     "text": [
      "[[1 2 3]\n",
      " [4 5 6]\n",
      " [7 8 9]]\n",
      "\n",
      "5\n",
      "\n",
      "[1 4 7]\n",
      "\n",
      "[4 5 6]\n",
      "\n",
      "[[5 6]\n",
      " [8 9]]\n",
      "\n",
      "[[1 3]\n",
      " [7 9]]\n"
     ]
    }
   ],
   "source": [
    "loc = np.arange(1, 10, 1).reshape(-1, 3)\n",
    "print(\n",
    "    loc,\n",
    "    loc[1, 1],  # segundo linha, segunda coluna\n",
    "    loc[:, 0],  # \"todas as linhas, primeira coluna\"\n",
    "    loc[1, :],  # \"segunda linha, todas as colunas\"\n",
    "    loc[1:4, 1:4],  # \"segunda linha até a próxima, segunda coluna até a próxima\"\n",
    "    loc[::2, ::2],  # \"todas linhas de 2 em duas, todas as colunas de 2 em duas\"\n",
    "    sep=\"\\n\\n\",\n",
    ")"
   ]
  },
  {
   "cell_type": "markdown",
   "id": "8a5288ab-0a51-4d92-8391-e5af4de23485",
   "metadata": {},
   "source": [
    "Note que nessas operações, as dimensões dos *arrays* obtidos variam. Se especificamos um único índice, temos um número. Se especificamos uma linha ou coluna, temos *arrays* 0d, e somente se especificarmos algo que precisa ser 2d que teremos resultados 2d. Podemos utilizar `np.newaxis` na posição do eixo que desejamos adicionar, para alterar esse comportamento."
   ]
  },
  {
   "cell_type": "code",
   "execution_count": 15,
   "id": "950f1c15-c8ce-4628-a254-e31ca1da96b1",
   "metadata": {},
   "outputs": [
    {
     "name": "stdout",
     "output_type": "stream",
     "text": [
      "[[1 2 3]\n",
      " [4 5 6]\n",
      " [7 8 9]]\n",
      "\n",
      "[5]\n",
      "\n",
      "[[1 4 7]]\n",
      "\n",
      "[[4]\n",
      " [5]\n",
      " [6]]\n"
     ]
    }
   ],
   "source": [
    "loc = np.arange(1, 10, 1).reshape(-1, 3)\n",
    "print(\n",
    "    loc,\n",
    "    loc[1, 1, np.newaxis],  # segundo linha, segunda coluna, criando um eixo\n",
    "    loc[np.newaxis, :, 0],  # \"todas as linhas, primeira coluna, com dimensão no eixo 0 (linhas)\"\n",
    "    loc[\n",
    "        1, :, np.newaxis\n",
    "    ],  # \"segunda linha, todas as colunas, com dimensão extra no eixo 2 (decai para colunas)\"\n",
    "    sep=\"\\n\\n\",\n",
    ")"
   ]
  },
  {
   "cell_type": "markdown",
   "id": "f6953126-3161-4c15-8a7e-c0d645d0e9d8",
   "metadata": {},
   "source": [
    "Para alterar o valor de um elemento, podemos utilizar a notação já esperada de `arr[idx] = val`. Nos índices podemos colocar slices também para transformarmos mais de uma posição de cada vez. O número de elementos precisa ser apropriado, senão um `ValueError` será lançado."
   ]
  },
  {
   "cell_type": "code",
   "execution_count": 16,
   "id": "b66f4c5d-0cf6-49c5-9088-11d91e1b07c3",
   "metadata": {},
   "outputs": [
    {
     "name": "stdout",
     "output_type": "stream",
     "text": [
      "[[1 2 3]\n",
      " [4 5 6]\n",
      " [7 8 9]] \n",
      "\n",
      "\n",
      "[[  1   2   3]\n",
      " [  4   5 100]\n",
      " [  7   8   9]] \n",
      "\n",
      "\n",
      "[[ -1   2   3]\n",
      " [ -2   5 100]\n",
      " [ -3   8   9]]\n"
     ]
    }
   ],
   "source": [
    "loc = np.arange(1, 10, 1).reshape(-1, 3)\n",
    "print(loc, \"\\n\\n\")\n",
    "loc[1, 2] = 100\n",
    "print(loc, \"\\n\\n\")\n",
    "loc[:, 0] = (-1, -2, -3)\n",
    "print(loc)"
   ]
  },
  {
   "cell_type": "markdown",
   "id": "649bc768-5417-43cb-8b57-c77f808fa290",
   "metadata": {},
   "source": [
    "Note que o seccionamento de *arrays* returna uma visão do *array* original. Isso significa que mudanças em um podem afetar o outro. Para contornar isso podemos utilizar `.copy`. "
   ]
  },
  {
   "cell_type": "code",
   "execution_count": 17,
   "id": "0a4a990f-9b0f-4a92-a4c8-03dbbfe24b35",
   "metadata": {},
   "outputs": [
    {
     "name": "stdout",
     "output_type": "stream",
     "text": [
      "[[1 2 3]\n",
      " [4 5 6]\n",
      " [7 8 9]] \n",
      "\n",
      " [[5 6]\n",
      " [8 9]] \n",
      "\n",
      "\n",
      "[[  1   2   3]\n",
      " [  4   5   6]\n",
      " [  7   8 100]] \n",
      "\n",
      " [[  5   6]\n",
      " [  8 100]] \n",
      "\n",
      "\n",
      "[[  1   2   3]\n",
      " [  4 500   6]\n",
      " [  7   8 100]] \n",
      "\n",
      " [[500   6]\n",
      " [  8 100]]\n"
     ]
    }
   ],
   "source": [
    "loc = np.arange(1, 10, 1).reshape(-1, 3)\n",
    "view1 = loc[1:, 1:]\n",
    "print(loc, \"\\n\\n\", view1, \"\\n\\n\")\n",
    "\n",
    "loc[2, 2] = 100\n",
    "print(loc, \"\\n\\n\", view1, \"\\n\\n\")\n",
    "\n",
    "view1[0, 0] = 500\n",
    "print(loc, \"\\n\\n\", view1)"
   ]
  },
  {
   "cell_type": "markdown",
   "id": "7ce3746a-b5e9-4064-9b6b-beccef926153",
   "metadata": {},
   "source": [
    "Quando temos duas *arrays* com o mesmo tamanho, podemos fazer operações aritméticas entre elas elemento-a-elemento. Se um dos argumentos for um escalar, algo chamado *broadcasting* ocorre, e esse escalar é \"transformado\" em um *array* do tamanho apropriado. Essa flexibilidade lhe permite, inclusive, passar para funções escalares e *arrays* e o comportamento deve ser compatível.\n",
    "\n",
    "Nos exemplos a seguir, irei criar alguns *arrays* utilizando *broadcasting*, e também irei realizar operações entre *arrays* de mesmo tamanho. Utilizarei também as funções `np.sin`, `np.cos`, `np.sqrt` e `np.exp` e a constante `np.pi` para realizar alguns cálculos. Para encontrar o valor do pico, utilizarei `np.argmax`, que retorna o *índice* onde o valor máximo do *array* ocorre. Isso é necessário para que encontre o valor de `x` correspondente ao máximo em `y`. Análogos a isso temos `np.max`, `np.min` e `np.argmin`."
   ]
  },
  {
   "cell_type": "code",
   "execution_count": 18,
   "id": "9469d2c7-5c05-4eb8-83e4-2be179c14f00",
   "metadata": {},
   "outputs": [],
   "source": [
    "xx1 = np.linspace(-10, 10)\n",
    "yy_linear = 5 * xx1 - 10\n",
    "yy_parabola = -(xx1**2) + 5 * xx1 + 10\n",
    "yy_terceiro_grau = 5 / 40 * xx1**3 - xx1**2 + 5 * xx1 + 10\n",
    "\n",
    "xx2 = np.linspace(-np.pi, np.pi)\n",
    "yy_per1 = np.sin(xx2)\n",
    "yy_per2 = np.cos(xx2 + np.pi / 2)\n",
    "yy_canc = yy_per1 + yy_per2\n",
    "yy_tan = np.tan(xx2)\n",
    "\n",
    "\n",
    "def gauss(x, sigma, mu):\n",
    "    return 1 / (sigma * np.sqrt(2 * np.pi)) * np.exp(-0.5 * (x - mu) ** 2 / sigma**2)\n",
    "\n",
    "\n",
    "sigma, mu = 1, 0.5\n",
    "xx3 = np.linspace(-4, 4)\n",
    "yy_gauss_1 = gauss(xx3, sigma, mu)\n",
    "yy_gauss_1_max = gauss(mu, sigma, mu)\n",
    "yy_gauss_2 = gauss(xx3, sigma, mu - 1)\n",
    "yy_gauss_3 = gauss(xx3, sigma, mu + 1)\n",
    "yy_gauss_todos = yy_gauss_1 + yy_gauss_2 + yy_gauss_3\n",
    "gauss_todos_max_idx = np.argmax(yy_gauss_todos)\n",
    "yy_gauss_todos_max = yy_gauss_todos[gauss_todos_max_idx]\n",
    "xx_gauss_todos_max = xx3[gauss_todos_max_idx]\n",
    "\n",
    "\n",
    "def cross_model(GP, eta_0, eta_inf, k, n):\n",
    "    return eta_inf + (eta_0 - eta_inf) / (1 + (GP / k) ** n)\n",
    "\n",
    "\n",
    "xx4 = np.geomspace(1e-3, 1e3)\n",
    "yy_cross = cross_model(xx4, 50, 0.01, 1, 0.85)"
   ]
  },
  {
   "cell_type": "markdown",
   "id": "ab51c695-f65a-4335-8aeb-26a4cba3e264",
   "metadata": {},
   "source": [
    "Para mostrar como a vetorização auxilia na velocidade, veja as duas funções a seguir. Uma itera sobre um array e outra vetoriza a operação. Ambas computam a mesma coisa, mas a diferença é de 3 ordens de grandeza na velocidade."
   ]
  },
  {
   "cell_type": "code",
   "execution_count": 19,
   "id": "36036fa2-21cd-45d8-8b05-070ab3e21abf",
   "metadata": {},
   "outputs": [],
   "source": [
    "def lento():\n",
    "    a = np.ones(100000)\n",
    "    for i in range(a.size):\n",
    "        a[i] *= 5\n",
    "\n",
    "\n",
    "def rapido():\n",
    "    a = np.ones(100000)\n",
    "    a *= 5"
   ]
  },
  {
   "cell_type": "code",
   "execution_count": 20,
   "id": "708e3437-afff-4e41-ac7a-a6bcf6987fbb",
   "metadata": {},
   "outputs": [
    {
     "name": "stdout",
     "output_type": "stream",
     "text": [
      "18.3 ms ± 507 µs per loop (mean ± std. dev. of 7 runs, 100 loops each)\n"
     ]
    }
   ],
   "source": [
    "%timeit lento()"
   ]
  },
  {
   "cell_type": "code",
   "execution_count": 21,
   "id": "46a5965b-85a0-4b2a-83b2-07f2930db2e0",
   "metadata": {},
   "outputs": [
    {
     "name": "stdout",
     "output_type": "stream",
     "text": [
      "25.3 µs ± 239 ns per loop (mean ± std. dev. of 7 runs, 10,000 loops each)\n"
     ]
    }
   ],
   "source": [
    "%timeit rapido()"
   ]
  },
  {
   "cell_type": "markdown",
   "id": "6a53932f-2634-4a31-a137-cc977689f1b1",
   "metadata": {},
   "source": [
    "```{warning} Atenção\n",
    "**Não misture funções da biblioteca `math` com `numpy`**, a performance será muito menor.\n",
    "```"
   ]
  },
  {
   "cell_type": "markdown",
   "id": "a309908c-c6b2-4811-9ab1-a529d6cc4662",
   "metadata": {},
   "source": [
    "Antes de prosseguir, vamos visualizar essas funções que criamos com `matplotlib`."
   ]
  },
  {
   "cell_type": "markdown",
   "id": "57cdf4b2-fb15-4de9-9c36-dcc47d7cf8c4",
   "metadata": {},
   "source": [
    "(sec:basicos_mpl_1)=\n",
    "## Básicos de `matplotlib` Parte 1\n",
    "\n",
    "Agora que temos alguns *arrays*, seria interessante visualizarmos o que construimos. Podemos utilizar `matplotlib` para isso. Essa biblioteca foi criada como um paralelo às funções de plotagem presentes em Matlab, e isso trouxe vantagens e desvantagens. Primeiro, popularizou bastante a biblioteca, e ela é praticamente o padrão em Python para qualquer tipo de visualização estática. Os gráficos possuem opções para modificar praticamente todos os seus aspectos, permitindo você ajustar os gráficos exatamente da maneira que você quer. Por outro lado, os paradigmas empregados em `matplotlib` pode tornar alguns tipos de tarefas um tanto tediosas e inflexíveis. O `ggplot2` da linguagem R (análogo em Python: `plotnine`), e o pacote `altair` de Python, utilizam outro paradigma, e possuem certas vantagens. Mas, no final das contas, vai um pouco da preferência e familiaridade de cada um.\n",
    "\n",
    "`matplotlib` por si só é raramente utilizado, e controla aspectos mais fundamentais da criação dos gráficos, como opções de estilo e os objetos utilizados para os desenhos em si. `matplotlib.pyplot` é uma interface procedural exposta que facilita a criação de gráficos. O paradigma dessa interface é imperativo, i.e., os comandos se referem sempre ao *objeto atual*. Então se você quer criar, por exemplo, duas figuras, você deve *ativar* uma figura e depois mandar os comandos de plotar e modificação de aparência e depois repetir o processo com outra figura. Essa interface não é recomendada para qualquer trabalho mais complexo, mas é plenamente utilizável para visualizações rápidas.\n",
    "\n",
    "As funções em `pyplot` possuem uma quantidade *enorme* de parâmetros opcionais, e é impossível especificar todos aqui, sem ser redundante. Por isso irei mencionar algumas opções de vez em quando.\n",
    "\n",
    "Para ilustrar os *arrays* que criamos anteriormente, vamos primeiro criar figuras com [`plt.figure()`](https://matplotlib.org/stable/api/_as_gen/matplotlib.pyplot.figure.html) e plotar com [`plt.plot()`](https://matplotlib.org/stable/api/_as_gen/matplotlib.pyplot.plot.html). A primeira função não precisa de argumentos, mas aceita um identificador[^1], um tamanho da figura em polegadas no formato `(largura, altura)`, uma resolução em *dpi* (*dots per inch*), e algumas outras opções menos utilizadas[^2].\n",
    "\n",
    "[^1]: número que pode ser utilizado para \"re-chamar\" a figura depois, e aumenta sozinho começando de 1.\n",
    "\n",
    "[^2]: Se você quiser uma figura com um tamanho em pixels específico (p.e. 1080p = 1920x1080), fixe o tamanho da figura (múltiplo de 16x9) e calcule o *dpi* para atingir a resolução. Então uma figura de tamanho `(4, 2.25)` precisa de *dpi* igual a 480 (1920 / 4). Você pode também fixar o *dpi* e encontrar o tamanho dividindo a resolução em pixels pelo *dpi* fixado, então uma figura com 600 *dpi* e resolução 1920x1080 teria o tamanho de 1920/600 x 1080/600 = `(3.2, 1.8)`.\n",
    "\n",
    "Pode ser estranho especificar um tamanho e resolução em polegadas, mas isso é muito utilizado em publicação e em meios acadêmicos. Muitas revistas pedem figuras coloridas com resolução de 600 dpi e figuras em preto e branco com 1200 dpi. Além disso, o tamanho de uma figura afeta a escala dos elementos. Um erro comum de principiante é aumentar o tamanho da figura para melhorar a resolução, mas isso somente agrava o problema. Se você aumenta o tamanho para o dobro, o tamanho do texto irá cair porque o tamanho da fonte ficou constante[^3]. Neste caso, aumente só a resolução.\n",
    "\n",
    "Se você estiver fazendo figuras para um artigo, veja nas especificações da revista sobre o tamanho esperado para figuras e o tamanho da fonte das mesmas e fixe isso em todos os seus projetos para esse artigo. Note que algumas figuras podem ocupar duas colunas, ou uma página inteira, então tome cuidado.\n",
    "\n",
    "[^3]: O tamanho de fontes geralmente é dado em pontos (Arial 12, por exemplo), e um ponto é 1/72 de uma polegada.\n",
    "\n",
    "O comando para plotar, mais comum, é `plt.plot`. A sintaxe é um tanto complexa e flexível porque precisa de certa compatibilidade com Matlab. Essa função precisa de somente um argumento, os valores de `y`, e nesse caso os valores de `x` serão dados pelo número do ponto (igual a `range`). Mais comum é fornecer tanto o valor de `x` quanto de `y`, e é importante notar que ambos precisam ser *exatamente* o mesmo número de elementos. Não precisam ser *arrays*, podem ser listas, tuplas, qualquer iterável. Depois podemos fornecer uma string contendo a formatação dos elementos, mas eu prefiro especificar essa formatação nos argumentos opcionais.\n",
    "\n",
    "Por padrão serão criadas linhas, sem marcadores. Comandos sucessivos de `plt.plot` irão gerar linhas, sem marcadores[^4], de cores diferentes, seguindo um [ciclo](https://matplotlib.org/stable/gallery/color/color_cycle_default.html#colors-in-the-default-property-cycle). O padrão são as cores da paleta [Tableau](https://matplotlib.org/stable/gallery/color/named_colors.html#tableau-palette).\n",
    "\n",
    "[^4]: Se você especificar *arrays* com 1 elemento e não especificar o marcador, não irá ver nada, pois as linhas só existem entre os marcadores. Outro erro comum de principiante. \n",
    "\n",
    "Podemos especificar estilos de linha (contínua, hachurada, etc) com `linestyle=` ou `ls=`. Os tipos são `-`, `--`, `-.`, `:`,  para linha contínua, tracejada, traço e ponto e pontilhada."
   ]
  },
  {
   "cell_type": "code",
   "execution_count": 22,
   "id": "f10d05f6-962a-4fd5-a51b-880a63c2df34",
   "metadata": {},
   "outputs": [
    {
     "data": {
      "text/plain": [
       "[<matplotlib.lines.Line2D at 0x28ef0968350>]"
      ]
     },
     "execution_count": 22,
     "metadata": {},
     "output_type": "execute_result"
    },
    {
     "data": {
      "image/png": "[encoded data removed]",
      "text/plain": [
       "<Figure size 640x480 with 1 Axes>"
      ]
     },
     "metadata": {},
     "output_type": "display_data"
    }
   ],
   "source": [
    "plt.figure()\n",
    "plt.plot(xx1, yy_linear)\n",
    "plt.plot(xx1, yy_parabola, ls=\"--\")\n",
    "plt.plot(xx1, yy_terceiro_grau, ls=\":\")"
   ]
  },
  {
   "cell_type": "markdown",
   "id": "ae38131b-7a6e-4fd7-be2f-4c1acbeaca98",
   "metadata": {},
   "source": [
    "Podemos especificar os marcadores com `marker=`, fornecendo uma string com o especificador. Os mais comuns são `'s'` para um quadrado (*square*), `'o'` para um círculo, `'*'` para uma estrela, `'v'` `'>'` `'<'^` `'^'` para triângulos, `'p'` para um pentágono, e por aí vai.\n",
    "\n",
    "Se quiser especificar um nome a uma linha, utilize `label=` em `plt.plot` e depois chame a função `plt.legend()` para criar a caixa da legenda na figura."
   ]
  },
  {
   "cell_type": "code",
   "execution_count": 23,
   "id": "ed54f958-cc6f-4b3d-8438-af6f59af8438",
   "metadata": {},
   "outputs": [
    {
     "data": {
      "text/plain": [
       "<matplotlib.legend.Legend at 0x28ef2b408d0>"
      ]
     },
     "execution_count": 23,
     "metadata": {},
     "output_type": "execute_result"
    },
    {
     "data": {
      "image/png": "[encoded data removed]",
      "text/plain": [
       "<Figure size 640x480 with 1 Axes>"
      ]
     },
     "metadata": {},
     "output_type": "display_data"
    }
   ],
   "source": [
    "plt.figure()\n",
    "plt.plot(xx3, yy_gauss_1, label=\"gaussiana 1\")\n",
    "plt.plot(xx3, yy_gauss_2, label=\"gaussiana 2\")\n",
    "plt.plot(xx3, yy_gauss_3, label=\"gaussiana 3\")\n",
    "plt.plot(xx3, yy_gauss_todos, label=\"todas\")\n",
    "plt.plot(mu, yy_gauss_1_max, marker=\"o\", label=\"máximo gaussiana 1\")\n",
    "plt.plot(xx_gauss_todos_max, yy_gauss_todos_max, marker=\"s\", label=\"máximo todas\")\n",
    "plt.legend()"
   ]
  },
  {
   "cell_type": "markdown",
   "id": "fd35354b-fb8c-4454-b4cd-40727238e548",
   "metadata": {},
   "source": [
    "Note que, na legenda, `máximo gaussiana 1` possui um marcador com uma linha como seu símbolo. Isso é porque não especificamos que a linha deveria ter tamanho 0 (efetivamente removendo-a). Note também que os máximos aparentam estar um pouquinho deslocado, e isso se deve à limitação da precisão dos pontos na curva, cuja rugosidade pode ser notada, especialmente no topo. Além disso, resista a tentação de chamar `plt.scatter` para criar esse tipo de notação (curvas sem linhas) porque o propósito dessa função é ligeiramente diferente."
   ]
  },
  {
   "cell_type": "markdown",
   "id": "8acaf062-b458-4ea0-bfa3-70fa1228c910",
   "metadata": {},
   "source": [
    "Podemos especificar a cor tanto da linha quanto do marcador com `color=` ou `c=`, e o valor sendo um [nome](https://matplotlib.org/stable/gallery/color/named_colors.html#sphx-glr-gallery-color-named-colors-py), uma cor do ciclo (começando com `'C0'`), uma string com o código hexadecimal da cor (`#XXXXXX`) ou uma cor de 1 letra (`'b'` para azul, `'g'` para verde, etc). Se quiser especificar a cor dos marcadores, utilize `markerfacecolor=` ou `mfc=` para mudar a cor do centro e `markeredgecolor` ou `mec=` para mudar a cor da borda. A espessura da linha e do contorno do marcador são especificadas com `linewidth=` ou `lw=` e `markeredgewidth=` ou `mew=`. O tamanho do marcador é especificado com `markersize=` ou `ms=`.\n",
    "\n",
    "Para nomear os eixos, você pode utilizar `plt.xlabel` e `plt.ylabel`. O título de uma figura é modificado com `plt.title`. Em todas as partes que envolvem texto, você pode utilizar notação $\\LaTeX$ para expandir as capacidades tipográficas e colocar equações, envolvendo os comandos em `$`. Não se esqueça de utilizar uma *raw string* para evitar problemas com caracteres de escape e comandos de $\\LaTeX$.\n",
    "\n",
    "Se quiser mudar a escala de um eixo, utilize `plt.xscale` ou `plt.yscale`, junto com `'linear'` para escala linear e `'log'` para escala logaritmica, e outras."
   ]
  },
  {
   "cell_type": "code",
   "execution_count": 24,
   "id": "ee004de8-e52d-46dd-8932-079a0fce8d47",
   "metadata": {},
   "outputs": [
    {
     "data": {
      "text/plain": [
       "<matplotlib.legend.Legend at 0x28ef09a9810>"
      ]
     },
     "execution_count": 24,
     "metadata": {},
     "output_type": "execute_result"
    },
    {
     "data": {
      "image/png": "[encoded data removed]",
      "text/plain": [
       "<Figure size 640x480 with 1 Axes>"
      ]
     },
     "metadata": {},
     "output_type": "display_data"
    }
   ],
   "source": [
    "plt.figure()\n",
    "plt.plot(\n",
    "    xx4,\n",
    "    yy_cross,\n",
    "    lw=0,\n",
    "    marker=\"s\",\n",
    "    mec=\"b\",\n",
    "    mfc=\"g\",\n",
    "    label=\"\\n\".join([r\"$\\eta_0$=50\", r\"$\\eta_\\infty$=0.01\", r\"$k$=1\", r\"$n$=0.85\"]),\n",
    ")\n",
    "plt.xlabel(r\"$\\dot{\\gamma} / s^{-1}$\")\n",
    "plt.ylabel(r\"$\\eta / mPa\\cdot s$\")\n",
    "plt.xscale(\"log\")\n",
    "plt.title(\n",
    "    r\"Cross: $\\eta$ = $\\eta_\\infty + \\frac{\\eta_0 - \\eta_\\infty}{1 + \\left( \\frac{\\dot{\\gamma}}{k} \\right)^n }$\"\n",
    ")\n",
    "plt.legend()"
   ]
  },
  {
   "attachments": {},
   "cell_type": "markdown",
   "id": "80de248b-0e35-436b-b3d0-f7a3733b6c49",
   "metadata": {},
   "source": [
    "Podemos especificar a posição e o texto dos *ticks* dos eixos x e y com `plt.xticks` e `plt.yticks`. Se utilizar o argumento `minor=True` para `plt.xticks` ou `plt.yticks`, você especificará se o comando se refere aos *ticks* principais (*major*) ou aos secundários (*minor*), e você pode tranquilamente utilizar o comando para especificar cada um. \n",
    "\n",
    "Você também pode utilizar `plt.grid` para adicionar linhas que saem dos *ticks*, e `which=` possui um papel similar ao argumento `minor=`, mas aqui precisamos especificar `which='minor'` para aplicar o *grid* aos *ticks* secundários.\n",
    "\n",
    "Por padrão, um eixo tenta mostrar todo o conteúdo presente nele, mas a função tangente explode sob certos valores. Podemos limitar a área de visualização com `plt.xlim` e `plt.ylim`."
   ]
  },
  {
   "cell_type": "code",
   "execution_count": 25,
   "id": "7253a636-5b83-49fe-8581-fd65a6685007",
   "metadata": {},
   "outputs": [
    {
     "data": {
      "text/plain": [
       "(-1.1, 1.1)"
      ]
     },
     "execution_count": 25,
     "metadata": {},
     "output_type": "execute_result"
    },
    {
     "data": {
      "image/png": "[encoded data removed]",
      "text/plain": [
       "<Figure size 640x480 with 1 Axes>"
      ]
     },
     "metadata": {},
     "output_type": "display_data"
    }
   ],
   "source": [
    "plt.figure()\n",
    "plt.plot(xx2, yy_per1)\n",
    "plt.plot(xx2, yy_per2)\n",
    "plt.plot(xx2, yy_canc)\n",
    "plt.plot(xx2, yy_tan, ls=\"--\")\n",
    "\n",
    "\n",
    "_ = plt.xticks(\n",
    "    ticks=np.arange(-np.pi, np.pi + 0.1, np.pi / 4),\n",
    "    labels=[\n",
    "        r\"$-\\pi$\",\n",
    "        r\"$-3\\pi/4$\",\n",
    "        r\"$-\\pi/2$\",\n",
    "        r\"$-\\pi/4$\",\n",
    "        r\"0\",\n",
    "        r\"$\\pi/4$\",\n",
    "        r\"$\\pi/2$\",\n",
    "        r\"$3\\pi/4$\",\n",
    "        \"$\\pi$\",\n",
    "    ],\n",
    ")\n",
    "_ = plt.yticks(ticks=np.arange(-1, 1.1, 1))\n",
    "_ = plt.yticks(ticks=np.arange(-0.75, 0.76, 0.25), minor=True)\n",
    "plt.grid()\n",
    "plt.grid(which=\"minor\", ls=\":\")\n",
    "plt.ylim(-1.1, 1.1)"
   ]
  },
  {
   "cell_type": "markdown",
   "id": "3152bfc7-d243-48cf-8da7-b698a4cf758d",
   "metadata": {},
   "source": [
    "Note que, na função tangente, quando ela transiciona de positivo para negativo, uma linha foi traçada em nosso gráfico. Esse é sempre o comportamento de `plt.plot`. Se quiser remover essas linhas, a maneira mais simples é utilizando vários comandos de plotagem sequenciais.\n",
    "\n",
    "No código a seguir, as *arrays* iniciais são cortadas em várias arrays (`np.array_split`) com base nos índices (`np.where` com 1 argumento só) onde o valor absoluto (`np.abs`) é maior que 5. Esse valor foi escolhido a dedo e representa o ponto onde \"explodiu para fora da área de interesse\". Depois de separar as *arrays*, podemos fazer um loop por elas e plotar os resultados.\n",
    "\n",
    "```python\n",
    "yy_tan_split = np.array_split(yy_tan, np.where(np.abs(np.diff(yy_tan)) > 5)[0])\n",
    "xx_tan_split = np.array_split(xx2, np.where(np.abs(np.diff(yy_tan)) > 5)[0])\n",
    "for xx, yy in zip(xx_tan_split, yy_tan_split):\n",
    "    if len(xx) == 1: continue\n",
    "    plt.plot(xx, yy, ls='--', c='C3')\n",
    "```"
   ]
  },
  {
   "cell_type": "markdown",
   "id": "da0e85f4-4851-47f1-93f3-8a41f512d3d9",
   "metadata": {},
   "source": [
    "(sec:basicos_np_2)=\n",
    "## Básicos de `numpy` Parte 2\n",
    "\n",
    "Agora que vimos alguns comandos básicos de plotagem, vamos continuar a explorar como criar e manipular *arrays*.\n",
    "\n",
    "Eu mencionei que `numpy` não possui tipos iguais aos de Python. Para ilustrar isso, vamos ver como ele se comporta ao tentarmos criar uma *array* com um número inteiro grande demais. Para isso, temos que especificar o tipo do *array*, e fazemos isso com `dtype`.\n",
    "\n",
    "Para um número inteiro de 32 bits, temos 2^32 valores diferentes. Tipicamente um dos bits é reservado para o sinal do número, restando 2^31 valores, mas isso não é necessário. Em `numpy`, temos os tipos `np.int32` que representa um número inteiro de 32 bits com sinal e `np.uint32` que representa um número inteiro sem sinal. O valor máximo de `np.int32` é 2147483647 ($2^31 - 1$, lembre-se que 0 também conta) e o valor mínimo é, previsivelmente, -2147483647. O valor máximo de `np.uint32` é 4294967295 e o mínimo é 0. Se aumentarmos o número para 64 bits, temos 2^64 valores, uma quantidade estupendamente maior.\n",
    "\n",
    "Veja os seguintes exemplos. Primeiro mostro como podemos criar um *array* com esse valor máximo em `np.int32`, `np.int64` e `np.uint32`. Mas se tento criar um *array* com um número acima do máximo, temos um `OverflowError`."
   ]
  },
  {
   "cell_type": "code",
   "execution_count": 26,
   "id": "6c8560f6-a057-43a9-b905-ffafad363b1f",
   "metadata": {},
   "outputs": [
    {
     "name": "stdout",
     "output_type": "stream",
     "text": [
      "[2147483647]\n",
      "[2147483647]\n",
      "[2147483647]\n",
      "[2147483648]\n",
      "[2147483648]\n"
     ]
    },
    {
     "ename": "OverflowError",
     "evalue": "Python int too large to convert to C long",
     "output_type": "error",
     "traceback": [
      "\u001b[1;31m---------------------------------------------------------------------------\u001b[0m",
      "\u001b[1;31mOverflowError\u001b[0m                             Traceback (most recent call last)",
      "Cell \u001b[1;32mIn[26], line 7\u001b[0m\n\u001b[0;32m      5\u001b[0m \u001b[38;5;28mprint\u001b[39m(np\u001b[38;5;241m.\u001b[39marray([int32_max \u001b[38;5;241m+\u001b[39m \u001b[38;5;241m1\u001b[39m], dtype\u001b[38;5;241m=\u001b[39mnp\u001b[38;5;241m.\u001b[39mint64))\n\u001b[0;32m      6\u001b[0m \u001b[38;5;28mprint\u001b[39m(np\u001b[38;5;241m.\u001b[39marray([int32_max \u001b[38;5;241m+\u001b[39m \u001b[38;5;241m1\u001b[39m], dtype\u001b[38;5;241m=\u001b[39mnp\u001b[38;5;241m.\u001b[39muint32))\n\u001b[1;32m----> 7\u001b[0m \u001b[38;5;28mprint\u001b[39m(\u001b[43mnp\u001b[49m\u001b[38;5;241;43m.\u001b[39;49m\u001b[43marray\u001b[49m\u001b[43m(\u001b[49m\u001b[43m[\u001b[49m\u001b[43mint32_max\u001b[49m\u001b[43m \u001b[49m\u001b[38;5;241;43m+\u001b[39;49m\u001b[43m \u001b[49m\u001b[38;5;241;43m1\u001b[39;49m\u001b[43m]\u001b[49m\u001b[43m,\u001b[49m\u001b[43m \u001b[49m\u001b[43mdtype\u001b[49m\u001b[38;5;241;43m=\u001b[39;49m\u001b[43mnp\u001b[49m\u001b[38;5;241;43m.\u001b[39;49m\u001b[43mint32\u001b[49m\u001b[43m)\u001b[49m)\n",
      "\u001b[1;31mOverflowError\u001b[0m: Python int too large to convert to C long"
     ]
    }
   ],
   "source": [
    "int32_max = 2147483647\n",
    "print(np.array([int32_max], dtype=np.int32))\n",
    "print(np.array([int32_max], dtype=np.int64))\n",
    "print(np.array([int32_max], dtype=np.uint32))\n",
    "print(np.array([int32_max + 1], dtype=np.int64))\n",
    "print(np.array([int32_max + 1], dtype=np.uint32))\n",
    "print(np.array([int32_max + 1], dtype=np.int32))"
   ]
  },
  {
   "cell_type": "markdown",
   "id": "55cae148-329f-4ae5-b3b4-b566114b1648",
   "metadata": {},
   "source": [
    "Aqui, *overflow* significa que os bits para a criação passaram do comprimento reservado. Para ilustrar isso, vamos imaginar um byte, com 8 bits, em seu valor máximo, `0b1111_1111`. Se adicionarmos 1, atingimos `0b1_0000_0000`, mas como temos somente 8 bits de armazenamento, esse `1` à esquerda é perdido e resta somente `0` (ocorreu *overflow*)[^5]\n",
    "\n",
    "[^5]: O mesmo pode ocorrer no outro sentido, com números com sinal, mas neste caso é chamado de *underflow*\n",
    "\n",
    "Podemos isso ocorrendo diretamente neste exemplo. Ao invés de criar o *array* com o *overflow*, podemos criar e depois causar o *overflow* sem causar o erro."
   ]
  },
  {
   "cell_type": "code",
   "execution_count": 27,
   "id": "0ff4bf70-56d0-44c1-a0e1-930576c465e4",
   "metadata": {},
   "outputs": [
    {
     "name": "stdout",
     "output_type": "stream",
     "text": [
      "[-2147483648] [0]\n"
     ]
    }
   ],
   "source": [
    "print(\n",
    "    np.array([2147483647], dtype=np.int32) + 1,\n",
    "    np.array([4294967295], dtype=np.uint32) + 1,\n",
    ")"
   ]
  },
  {
   "cell_type": "markdown",
   "id": "fa43c0ed-ed93-48bb-bd18-b58545d5c25a",
   "metadata": {},
   "source": [
    "Quando um *array* é criado a partir de uma lista com elementos mistos, `numpy` tenta converter todos os valores para o tipo mais abrangente."
   ]
  },
  {
   "cell_type": "code",
   "execution_count": 28,
   "id": "627711b9-ff61-42bc-9393-b00654ed61bb",
   "metadata": {},
   "outputs": [
    {
     "data": {
      "text/plain": [
       "array([1. , 1.1])"
      ]
     },
     "execution_count": 28,
     "metadata": {},
     "output_type": "execute_result"
    }
   ],
   "source": [
    "np.array([1, 1.1])"
   ]
  },
  {
   "cell_type": "markdown",
   "id": "4a2f2f2a-66e8-470f-bd5d-c6a32cbba4a8",
   "metadata": {},
   "source": [
    "`1` foi convertido em um `float`."
   ]
  },
  {
   "cell_type": "code",
   "execution_count": 29,
   "id": "58f84978-0d82-44b3-87f9-01a2c7e5c020",
   "metadata": {},
   "outputs": [
    {
     "data": {
      "text/plain": [
       "array(['1', '1.1', '2.2'], dtype='<U32')"
      ]
     },
     "execution_count": 29,
     "metadata": {},
     "output_type": "execute_result"
    }
   ],
   "source": [
    "np.array([1, 1.1, \"2.2\"])"
   ]
  },
  {
   "cell_type": "markdown",
   "id": "bf346e39-70ea-4a0d-8ca5-3152d301d9a3",
   "metadata": {},
   "source": [
    "`1` e `1.1` foram convertidos em strings."
   ]
  }
 ],
 "metadata": {
  "kernelspec": {
   "display_name": "CursoPython",
   "language": "python",
   "name": "cursopython"
  },
  "language_info": {
   "codemirror_mode": {
    "name": "ipython",
    "version": 3
   },
   "file_extension": ".py",
   "mimetype": "text/x-python",
   "name": "python",
   "nbconvert_exporter": "python",
   "pygments_lexer": "ipython3",
   "version": "3.11.3"
  }
 },
 "nbformat": 4,
 "nbformat_minor": 5
}
