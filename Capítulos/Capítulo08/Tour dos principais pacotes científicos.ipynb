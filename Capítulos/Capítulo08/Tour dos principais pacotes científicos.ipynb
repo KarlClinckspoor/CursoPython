{
 "cells": [
  {
   "cell_type": "markdown",
   "id": "48f878e8-3dff-468b-9ac4-c1270b9d4f7e",
   "metadata": {},
   "source": [
    "# Tour dos pacotes científicos principais\n",
    "\n",
    "Existem três pacotes campeões na área científica.\n",
    "\n",
    "* `numpy`, para computação numérica, possui *arrays* que são muito mais rápidos que listas em Python, e uma série de funções para manipular esses *arrays*. [docs](https://numpy.org/doc/stable/) e [livro recomendado](http://web.mit.edu/dvp/Public/numpybook.pdf)\n",
    "* `pandas`, para o carregamento, processamento, limpeza, filtragem, agregação e exportação de dados. [docs](https://pandas.pydata.org/pandas-docs/stable/index.html)\n",
    "* `matplotlib`, para a criação de gráficos. [docs](https://matplotlib.org/)\n",
    "* `scipy`, com funções específicas para a área científica. [docs](https://docs.scipy.org/doc/scipy/index.html)"
   ]
  },
  {
   "cell_type": "code",
   "execution_count": 1,
   "id": "096e9b01-6f82-4017-968a-92b8dc949395",
   "metadata": {
    "editable": true,
    "slideshow": {
     "slide_type": ""
    },
    "tags": []
   },
   "outputs": [],
   "source": [
    "import numpy as np\n",
    "import pandas as pd\n",
    "import matplotlib.pyplot as plt\n",
    "import scipy as sp"
   ]
  },
  {
   "cell_type": "markdown",
   "id": "6ff202aa-c2b0-4378-8b6c-cadc88925e1c",
   "metadata": {},
   "source": [
    "Cada um desses pacotes são um universo e nunca conseguirei fazer juz à todos, especialmente em um único capítulo. Eu começarei descrevendo cada um aos poucos, depois começarei a juntar as peças e por fim tentarei mostrar problemas mais completos."
   ]
  },
  {
   "cell_type": "markdown",
   "id": "42699b8f-4219-41f2-af91-fd414c3a9bb7",
   "metadata": {},
   "source": [
    "(sec:basicos_np_1)=\n",
    "## Básicos de `numpy` Parte 1\n",
    "\n",
    "[Veja também a seção para iniciantes da documentação](https://numpy.org/doc/stable/user/absolute_beginners.html)\n",
    "\n",
    "Listas em Python podem conter qualquer objetos de tipo. Números, strings, objetos complexos, qualquer coisa, de qualquer tamanho. Para isso, o interpretador precisa de uma série de abstrações que permitam essa flexibilidade, e isso traz lentidão. No centro de `numpy` temos os *arrays* como análogos a listas, mas:\n",
    "\n",
    "* *arrays* precisam ser somente de um mesmo tipo, e esses tipos nem sempre são idênticos ao existentes em Python.\n",
    "* *arrays* precisam de um tamanho fixo.\n",
    "\n",
    "Essa rigidez traz algumas vantagens\n",
    "\n",
    "* Flexibilidade no formato: *arrays* possuem um *buffer*, um bloco contíguo de memória, contendo informação (bytes), e uma descrição desses dados, como o número de linhas, colunas, tipo do dado. Assim, `numpy` consegue acessar qualquer elemento com muita rapidez, com um simples cálculo de posição. Além disso, quando queremos transformar um *array*, com uma transposta ou uma alteração no número de linhas ou colunas, não precisamos alterar esse bloco de memória, somente os cálculos para encontrar os elementos.\n",
    "* Expressividade: operações em todos os elementos, algo muito comum, podem ser feitas como se um *array* fosse um escalar qualquer, sem termos que nos preocupar com loops ao longo dos elementos.\n",
    "* Vetorização: quando aplicamos operações em *arrays*, o processamento é transferido para a linguagem C, onde a velocidade de execução é mais rápida.\n",
    "\n",
    "Logo, utilizar *arrays* nos permite ter código rápido e expressivo. \n",
    "\n",
    "### Declaração\n",
    "\n",
    "Para criar um *array*, podemos utilizar a função `np.array` com um iterável."
   ]
  },
  {
   "cell_type": "code",
   "execution_count": 2,
   "id": "f150c081-1e6f-43e6-b9af-c4b812ec7d6d",
   "metadata": {},
   "outputs": [
    {
     "data": {
      "text/plain": [
       "array([1, 2, 3, 4, 5])"
      ]
     },
     "execution_count": 2,
     "metadata": {},
     "output_type": "execute_result"
    }
   ],
   "source": [
    "arr = np.array([1, 2, 3, 4, 5])\n",
    "arr"
   ]
  },
  {
   "cell_type": "markdown",
   "id": "928c164d-b4c2-45ab-ae4e-ed1b86bbf2cf",
   "metadata": {},
   "source": [
    "Podemos também utilizar várias funções que geram *arrays*, como:\n",
    "\n",
    "* `np.arange`, que é similar ao embutido `range`, mas onde podemos ter passos não inteiros"
   ]
  },
  {
   "cell_type": "code",
   "execution_count": 3,
   "id": "fa6d5eaf-758c-4095-99cf-3be6ecd99f48",
   "metadata": {},
   "outputs": [
    {
     "name": "stdout",
     "output_type": "stream",
     "text": [
      "[0 1 2 3 4 5 6 7 8 9]\n",
      "[1 2 3 4 5 6 7 8 9]\n",
      "[2.    2.375 2.75  3.125 3.5   3.875 4.25  4.625 5.    5.375 5.75  6.125\n",
      " 6.5   6.875 7.25  7.625 8.    8.375 8.75  9.125 9.5   9.875]\n"
     ]
    }
   ],
   "source": [
    "print(np.arange(10), np.arange(1, 10, 1), np.arange(2, 10, 0.375), sep=\"\\n\")"
   ]
  },
  {
   "cell_type": "markdown",
   "id": "aba8e5aa-f039-4193-9d7c-6ecd1c547967",
   "metadata": {},
   "source": [
    "* `np.linspace`, que recebe um valor de início, fim e um número de pontos e retorna um *array* onde esses pontos são espaçados igualmente na escala linear. Importante realçar que neste caso o ponto final é incluído por padrão (*kwarg* `endpoint`). Logo, nestes exemplos o número de pontos pode *parecer* errado, m se você contá-los na mão verá todos tem o tamanho correto."
   ]
  },
  {
   "cell_type": "code",
   "execution_count": 4,
   "id": "08e741ca-b3c8-476b-9186-615dd643a5d4",
   "metadata": {},
   "outputs": [
    {
     "name": "stdout",
     "output_type": "stream",
     "text": [
      "[ 1.  2.  3.  4.  5.  6.  7.  8.  9. 10.] [ 1.   1.5  2.   2.5  3.   3.5  4.   4.5  5.   5.5  6.   6.5  7.   7.5\n",
      "  8.   8.5  9.   9.5 10. ] [ 50.  60.  70.  80.  90. 100.]\n"
     ]
    }
   ],
   "source": [
    "print(np.linspace(1, 10, num=10), np.linspace(1, 10, num=19), np.linspace(50, 100, num=6))"
   ]
  },
  {
   "cell_type": "markdown",
   "id": "02b1cdfa-0968-45a7-8ec8-4a3ba1d0624b",
   "metadata": {},
   "source": [
    "* `np.logspace`, que é similar a `np.linspace`, mas os dados são espaçados igualmente na escala log. Por padrão a base é 10, mas pode ser especificada com o *kwarg* `base`. Os valores fornecidos são a *potência* em que a base é elevada, então se quiser começar de 10, o valor de `start` é 1."
   ]
  },
  {
   "cell_type": "code",
   "execution_count": 5,
   "id": "8122c33d-b462-452f-be14-442039bcedfb",
   "metadata": {},
   "outputs": [
    {
     "name": "stdout",
     "output_type": "stream",
     "text": [
      "[   1.   10.  100. 1000.] [1.e-03 1.e-02 1.e-01 1.e+00 1.e+01 1.e+02 1.e+03]\n"
     ]
    }
   ],
   "source": [
    "print(np.logspace(0, 3, num=4), np.logspace(-3, 3, num=7))"
   ]
  },
  {
   "cell_type": "markdown",
   "id": "116c2bcb-4130-4201-b74b-6e12689d65de",
   "metadata": {},
   "source": [
    "* `np.geomspace` é similar a `np.logspace`, mas os pontos iniciais e finais são fornecidos diretamente, sem precisar colocar a base e expoente."
   ]
  },
  {
   "cell_type": "code",
   "execution_count": 6,
   "id": "97cc521a-3d6c-476f-b9c8-cde0968101e4",
   "metadata": {},
   "outputs": [
    {
     "name": "stdout",
     "output_type": "stream",
     "text": [
      "[   1.   10.  100. 1000.] [1.e-03 1.e-02 1.e-01 1.e+00 1.e+01 1.e+02 1.e+03]\n"
     ]
    }
   ],
   "source": [
    "print(np.geomspace(1, 1000, num=4), np.geomspace(1e-3, 1000, num=7))"
   ]
  },
  {
   "cell_type": "markdown",
   "id": "da2300ba-72ff-4bee-9883-3031752d63e8",
   "metadata": {},
   "source": [
    "* `np.ones`, que gera uma *array* contendo somente uns do tamanho especificado."
   ]
  },
  {
   "cell_type": "code",
   "execution_count": 7,
   "id": "cb68f1be-76f7-47b5-a561-2c9758ce3990",
   "metadata": {},
   "outputs": [
    {
     "data": {
      "text/plain": [
       "array([1., 1., 1., 1., 1., 1., 1., 1., 1., 1.])"
      ]
     },
     "execution_count": 7,
     "metadata": {},
     "output_type": "execute_result"
    }
   ],
   "source": [
    "np.ones(10)"
   ]
  },
  {
   "cell_type": "markdown",
   "id": "7cd5a9b5-e206-4a23-b07d-9b08a55eb99f",
   "metadata": {},
   "source": [
    "* `np.zeros` faz o mesmo, mas contendo somente zeros"
   ]
  },
  {
   "cell_type": "code",
   "execution_count": 8,
   "id": "aebdc38b-c099-4ad8-a81f-0a0c6903f08f",
   "metadata": {},
   "outputs": [
    {
     "data": {
      "text/plain": [
       "array([0., 0., 0., 0., 0., 0., 0., 0., 0., 0.])"
      ]
     },
     "execution_count": 8,
     "metadata": {},
     "output_type": "execute_result"
    }
   ],
   "source": [
    "np.zeros(10)"
   ]
  },
  {
   "cell_type": "markdown",
   "id": "61b10b5a-a718-41f4-87e0-a6ee00ecb47e",
   "metadata": {},
   "source": [
    "* `np.ones_like` e `np.zeros_like` retornam *arrays* cheias de zeros ou uns com o mesmo formato de outra array"
   ]
  },
  {
   "cell_type": "code",
   "execution_count": 9,
   "id": "dce08bfb-ee03-42b1-8fdd-5767e7b90a43",
   "metadata": {},
   "outputs": [
    {
     "name": "stdout",
     "output_type": "stream",
     "text": [
      "[1 1 1 1 1] [0 0 0 0 0]\n"
     ]
    }
   ],
   "source": [
    "temp = np.array([1, 2, 3, 4, 5])\n",
    "print(np.ones_like(temp), np.zeros_like(temp))"
   ]
  },
  {
   "cell_type": "markdown",
   "id": "f3d0b636-fd7b-4efd-874f-537dbd1e6c20",
   "metadata": {},
   "source": [
    "Até agora todas as estruturas mostradas são 0-dimensionais. Não são como vetores linha ou coluna, são só sequências. Isso pode ser acessado pela propriedade `.shape`. A propriedade `.size` contém o número total de elementos."
   ]
  },
  {
   "cell_type": "code",
   "execution_count": 10,
   "id": "806055fe-aad4-448b-b521-6b30a33cf025",
   "metadata": {},
   "outputs": [
    {
     "name": "stdout",
     "output_type": "stream",
     "text": [
      "(5,) 5\n"
     ]
    }
   ],
   "source": [
    "print(temp.shape, temp.size)"
   ]
  },
  {
   "cell_type": "markdown",
   "id": "22f5e7a7-43a9-4795-98e6-7e2e4a42189f",
   "metadata": {},
   "source": [
    "### Tipos"
   ]
  },
  {
   "cell_type": "markdown",
   "id": "32f9dcd9-4ba3-4944-9b2f-5818d60e414c",
   "metadata": {},
   "source": [
    "Na hora de criar *arrays*, um tipo pode ser especificado com o argumento `dtype`, comum em muitas funções para criação de *arrays*. Os tipos que são aceitos são diferentes de Python. Para ilustrar isso, vamos ver como ele se comporta ao tentarmos criar uma *array* com um número inteiro grande demais. \n",
    "\n",
    "Em Python, `int` são possui limite de tamanho. Cresce e diminui de maneira a atender as necessidades vigentes. Porém, em linguagens de programação um `int` tem um tamanho fixo, geralmente 32 ou 64 bits. Para um número inteiro de 32 bits, temos 2^32 valores diferentes. Em `numpy`, temos os tipos `np.int32` que representa um número inteiro de 32 bits com sinal e `np.uint32` que representa um número inteiro sem sinal. O valor máximo de `np.int32` é 2147483647 ($2^31 - 1$, lembre-se que 0 também conta) e o valor mínimo é, previsivelmente, -2147483647. O valor máximo de `np.uint32` é 4294967295 e o mínimo é 0. Se aumentarmos o número para 64 bits, temos 2^64 valores, uma quantidade estupendamente maior.\n",
    "\n",
    "Veja os seguintes exemplos. Primeiro mostro como podemos criar um *array* com esse valor máximo em `np.int32`, `np.int64` e `np.uint32`. Mas se tento criar um *array* com um número acima do máximo, temos um `OverflowError`."
   ]
  },
  {
   "cell_type": "code",
   "execution_count": 11,
   "id": "6c8560f6-a057-43a9-b905-ffafad363b1f",
   "metadata": {
    "editable": true,
    "slideshow": {
     "slide_type": ""
    },
    "tags": []
   },
   "outputs": [
    {
     "name": "stdout",
     "output_type": "stream",
     "text": [
      "[2147483647]\n",
      "[2147483647]\n",
      "[2147483647]\n",
      "[2147483648]\n",
      "[2147483648]\n"
     ]
    },
    {
     "ename": "OverflowError",
     "evalue": "Python int too large to convert to C long",
     "output_type": "error",
     "traceback": [
      "\u001b[1;31m---------------------------------------------------------------------------\u001b[0m",
      "\u001b[1;31mOverflowError\u001b[0m                             Traceback (most recent call last)",
      "Cell \u001b[1;32mIn[11], line 7\u001b[0m\n\u001b[0;32m      5\u001b[0m \u001b[38;5;28mprint\u001b[39m(np\u001b[38;5;241m.\u001b[39marray([int32_max \u001b[38;5;241m+\u001b[39m \u001b[38;5;241m1\u001b[39m], dtype\u001b[38;5;241m=\u001b[39mnp\u001b[38;5;241m.\u001b[39mint64))\n\u001b[0;32m      6\u001b[0m \u001b[38;5;28mprint\u001b[39m(np\u001b[38;5;241m.\u001b[39marray([int32_max \u001b[38;5;241m+\u001b[39m \u001b[38;5;241m1\u001b[39m], dtype\u001b[38;5;241m=\u001b[39mnp\u001b[38;5;241m.\u001b[39muint32))\n\u001b[1;32m----> 7\u001b[0m \u001b[38;5;28mprint\u001b[39m(\u001b[43mnp\u001b[49m\u001b[38;5;241;43m.\u001b[39;49m\u001b[43marray\u001b[49m\u001b[43m(\u001b[49m\u001b[43m[\u001b[49m\u001b[43mint32_max\u001b[49m\u001b[43m \u001b[49m\u001b[38;5;241;43m+\u001b[39;49m\u001b[43m \u001b[49m\u001b[38;5;241;43m1\u001b[39;49m\u001b[43m]\u001b[49m\u001b[43m,\u001b[49m\u001b[43m \u001b[49m\u001b[43mdtype\u001b[49m\u001b[38;5;241;43m=\u001b[39;49m\u001b[43mnp\u001b[49m\u001b[38;5;241;43m.\u001b[39;49m\u001b[43mint32\u001b[49m\u001b[43m)\u001b[49m)\n",
      "\u001b[1;31mOverflowError\u001b[0m: Python int too large to convert to C long"
     ]
    }
   ],
   "source": [
    "int32_max = 2147483647\n",
    "print(np.array([int32_max], dtype=np.int32))\n",
    "print(np.array([int32_max], dtype=np.int64))\n",
    "print(np.array([int32_max], dtype=np.uint32))\n",
    "print(np.array([int32_max + 1], dtype=np.int64))\n",
    "print(np.array([int32_max + 1], dtype=np.uint32))\n",
    "print(np.array([int32_max + 1], dtype=np.int32))"
   ]
  },
  {
   "cell_type": "markdown",
   "id": "e7ac8361-f3e5-42f9-a15b-255550cb6657",
   "metadata": {},
   "source": [
    "Aqui, *overflow* significa que os bits para a criação passaram do comprimento reservado. Para ilustrar isso, vamos imaginar um byte, com 8 bits, em seu valor máximo, `0b1111_1111`. Se adicionarmos 1, atingimos `0b1_0000_0000`, mas como temos somente 8 bits de armazenamento, esse `1` à esquerda é perdido e resta somente `0` (ocorreu *overflow*)[^5]\n",
    "\n",
    "[^5]: O mesmo pode ocorrer no outro sentido, com números com sinal, mas neste caso é chamado de *underflow*\n",
    "\n",
    "Podemos isso ocorrendo diretamente neste exemplo. Ao invés de criar o *array* com o *overflow*, podemos criar e depois causar o *overflow* sem causar o erro."
   ]
  },
  {
   "cell_type": "code",
   "execution_count": 12,
   "id": "0ff4bf70-56d0-44c1-a0e1-930576c465e4",
   "metadata": {},
   "outputs": [
    {
     "name": "stdout",
     "output_type": "stream",
     "text": [
      "[-2147483648] [0]\n"
     ]
    }
   ],
   "source": [
    "print(\n",
    "    np.array([2147483647], dtype=np.int32) + 1,\n",
    "    np.array([4294967295], dtype=np.uint32) + 1,\n",
    ")"
   ]
  },
  {
   "cell_type": "markdown",
   "id": "100989d5-7eb9-419b-85da-d9b1ff31a646",
   "metadata": {},
   "source": [
    "Podemos converter um array de um tipo para outro com o método `.astype`"
   ]
  },
  {
   "cell_type": "code",
   "execution_count": 13,
   "id": "75197fdb-1137-485f-9010-28a2c693a922",
   "metadata": {},
   "outputs": [
    {
     "name": "stdout",
     "output_type": "stream",
     "text": [
      "[1 2 3] [1. 2. 3.]\n"
     ]
    }
   ],
   "source": [
    "arr_int = np.array([1, 2, 3])\n",
    "print(arr_int, arr_int.astype(np.float64))"
   ]
  },
  {
   "cell_type": "markdown",
   "id": "634e93fc-59f0-49b8-8095-935e1181e323",
   "metadata": {},
   "source": [
    "Quando um *array* é criado a partir de uma lista com elementos mistos, `numpy` tenta converter todos os valores para o tipo mais abrangente."
   ]
  },
  {
   "cell_type": "code",
   "execution_count": 14,
   "id": "627711b9-ff61-42bc-9393-b00654ed61bb",
   "metadata": {},
   "outputs": [
    {
     "data": {
      "text/plain": [
       "array([1. , 1.1])"
      ]
     },
     "execution_count": 14,
     "metadata": {},
     "output_type": "execute_result"
    }
   ],
   "source": [
    "np.array([1, 1.1])"
   ]
  },
  {
   "cell_type": "markdown",
   "id": "cba9a6f3-26b7-4286-a1f3-f220778e3f79",
   "metadata": {},
   "source": [
    "`1` foi convertido em um `float`."
   ]
  },
  {
   "cell_type": "code",
   "execution_count": 15,
   "id": "58f84978-0d82-44b3-87f9-01a2c7e5c020",
   "metadata": {},
   "outputs": [
    {
     "data": {
      "text/plain": [
       "array(['1', '1.1', '2.2'], dtype='<U32')"
      ]
     },
     "execution_count": 15,
     "metadata": {},
     "output_type": "execute_result"
    }
   ],
   "source": [
    "np.array([1, 1.1, \"2.2\"])"
   ]
  },
  {
   "cell_type": "markdown",
   "id": "3156ebad-e9ab-4788-a810-a1515841c7ed",
   "metadata": {},
   "source": [
    "`1` e `1.1` foram convertidos em strings."
   ]
  },
  {
   "cell_type": "markdown",
   "id": "408c5c6f-8dd6-45c1-805b-557bf8766bc7",
   "metadata": {},
   "source": [
    "### `arrays` multidimensionais\n",
    "\n",
    "Podemos criar *arrays* multidimensionais com várias das funções anteriores. Aqui, `np.array` interpreta listas aninhadas como sendo multidimensionais, e `np.ones` ou `np.zeros` aceita um argumento com as dimensões da nova `array`."
   ]
  },
  {
   "cell_type": "code",
   "execution_count": 16,
   "id": "44acd6d4-3024-44b6-9e79-398853cd2997",
   "metadata": {},
   "outputs": [
    {
     "name": "stdout",
     "output_type": "stream",
     "text": [
      "[[1 2 3]\n",
      " [4 5 6]]\n",
      "\n",
      "[[1]\n",
      " [2]\n",
      " [3]\n",
      " [4]\n",
      " [5]\n",
      " [6]]\n",
      "\n",
      "[[1. 1. 1.]\n",
      " [1. 1. 1.]]\n",
      "\n",
      "[[0. 0.]\n",
      " [0. 0.]\n",
      " [0. 0.]]\n"
     ]
    }
   ],
   "source": [
    "print(\n",
    "    np.array([[1, 2, 3], [4, 5, 6]]),\n",
    "    np.array([[1], [2], [3], [4], [5], [6]]),\n",
    "    np.ones((2, 3)),\n",
    "    np.zeros((3, 2)),\n",
    "    sep=\"\\n\\n\",\n",
    ")"
   ]
  },
  {
   "cell_type": "markdown",
   "id": "5d82cb6e-1a3f-47be-826b-c0f8a0b29aa9",
   "metadata": {},
   "source": [
    "`np.ones_like`, `np.zeros_like` permite que uma *array* cheia de zeros ou uns com o mesmo formato de outra *array* seja criada."
   ]
  },
  {
   "cell_type": "code",
   "execution_count": 17,
   "id": "0f2bc559-29d6-49da-8fb8-9c3a9e3822d1",
   "metadata": {},
   "outputs": [
    {
     "name": "stdout",
     "output_type": "stream",
     "text": [
      "[[1 1 1]\n",
      " [1 1 1]] \n",
      "\n",
      " [[0 0 0]\n",
      " [0 0 0]]\n"
     ]
    }
   ],
   "source": [
    "arr_2d = np.array([[1, 2, 3], [4, 5, 6]])\n",
    "print(np.ones_like(arr_2d), \"\\n\\n\", np.zeros_like(arr_2d))"
   ]
  },
  {
   "cell_type": "markdown",
   "id": "d5114115-ef20-471d-b969-1d6f1f826038",
   "metadata": {},
   "source": [
    "### Modificação de forma\n",
    "\n",
    "E podemos alterar as dimensões de *arrays* com `reshape` e o número de linhas e colunas, desde que os números de elementos sejam compatíveis."
   ]
  },
  {
   "cell_type": "code",
   "execution_count": 18,
   "id": "d64fc599-217d-4de0-821b-f4599d44ae31",
   "metadata": {},
   "outputs": [
    {
     "name": "stdout",
     "output_type": "stream",
     "text": [
      "[1 2 3 4 5 6] (6,) 6 \n",
      "\n",
      " [[1 2 3 4 5 6]] (1, 6) 6 \n",
      "\n",
      " [[1]\n",
      " [2]\n",
      " [3]\n",
      " [4]\n",
      " [5]\n",
      " [6]] (6, 1) 6 \n",
      "\n",
      " [[1 2 3]\n",
      " [4 5 6]] (2, 3) 6 \n",
      "\n",
      " [[[1 2]\n",
      "  [3 4]\n",
      "  [5 6]]] (1, 3, 2) 6\n"
     ]
    }
   ],
   "source": [
    "arr_0d = np.arange(1, 7, 1)\n",
    "arr_1d_lin = arr_0d.reshape(1, 6)\n",
    "arr_1d_col = arr_0d.reshape(6, 1)\n",
    "arr_2d = arr_0d.reshape(2, 3)\n",
    "arr_3d = arr_0d.reshape(1, 3, 2)\n",
    "print(\n",
    "    arr_0d,\n",
    "    arr_0d.shape,\n",
    "    arr_0d.size,\n",
    "    \"\\n\\n\",\n",
    "    arr_1d_lin,\n",
    "    arr_1d_lin.shape,\n",
    "    arr_1d_lin.size,\n",
    "    \"\\n\\n\",\n",
    "    arr_1d_col,\n",
    "    arr_1d_col.shape,\n",
    "    arr_1d_col.size,\n",
    "    \"\\n\\n\",\n",
    "    arr_2d,\n",
    "    arr_2d.shape,\n",
    "    arr_2d.size,\n",
    "    \"\\n\\n\",\n",
    "    arr_3d,\n",
    "    arr_3d.shape,\n",
    "    arr_3d.size,\n",
    ")"
   ]
  },
  {
   "cell_type": "markdown",
   "id": "977411c6-8cd1-4126-ae09-deb9028a9de7",
   "metadata": {},
   "source": [
    "Por praticidade, uma dimensão pode ser especificada como `-1`, deixando que seu valor seja calculado pelos outros valores."
   ]
  },
  {
   "cell_type": "code",
   "execution_count": 19,
   "id": "15884e9e-f2e2-4c3c-9991-d553253dd6fb",
   "metadata": {},
   "outputs": [
    {
     "data": {
      "text/plain": [
       "array([[1, 2, 3],\n",
       "       [4, 5, 6]])"
      ]
     },
     "execution_count": 19,
     "metadata": {},
     "output_type": "execute_result"
    }
   ],
   "source": [
    "arr_0d.reshape(-1, 3)"
   ]
  },
  {
   "cell_type": "markdown",
   "id": "524327b8-9818-495f-89b5-c1bdd41fd835",
   "metadata": {},
   "source": [
    "Se quisermos acessar um elemento, podemos fazer com a notação de colchetes. Convenientemente, ao invés de termos que encadear colchetes, podemos fornecer o índice, ou slices, separados por vírgula."
   ]
  },
  {
   "cell_type": "code",
   "execution_count": 20,
   "id": "19d9602b-dd59-4b89-8786-a95c26410805",
   "metadata": {},
   "outputs": [
    {
     "name": "stdout",
     "output_type": "stream",
     "text": [
      "[[1 2 3]\n",
      " [4 5 6]\n",
      " [7 8 9]]\n",
      "\n",
      "5\n",
      "\n",
      "[1 4 7]\n",
      "\n",
      "[4 5 6]\n",
      "\n",
      "[[5 6]\n",
      " [8 9]]\n",
      "\n",
      "[[1 3]\n",
      " [7 9]]\n"
     ]
    }
   ],
   "source": [
    "loc = np.arange(1, 10, 1).reshape(-1, 3)\n",
    "print(\n",
    "    loc,\n",
    "    loc[1, 1],  # segundo linha, segunda coluna\n",
    "    loc[:, 0],  # \"todas as linhas, primeira coluna\"\n",
    "    loc[1, :],  # \"segunda linha, todas as colunas\"\n",
    "    loc[1:4, 1:4],  # \"segunda linha até a próxima, segunda coluna até a próxima\"\n",
    "    loc[::2, ::2],  # \"todas linhas de 2 em duas, todas as colunas de 2 em duas\"\n",
    "    sep=\"\\n\\n\",\n",
    ")"
   ]
  },
  {
   "cell_type": "markdown",
   "id": "8a5288ab-0a51-4d92-8391-e5af4de23485",
   "metadata": {},
   "source": [
    "Note que nessas operações, as dimensões dos *arrays* obtidos variam. Se especificamos um único índice, temos um número. Se especificamos uma linha ou coluna, temos *arrays* 0d, e somente se especificarmos algo que precisa ser 2d que teremos resultados 2d. Podemos utilizar `np.newaxis` na posição do eixo que desejamos adicionar, para alterar esse comportamento."
   ]
  },
  {
   "cell_type": "code",
   "execution_count": 21,
   "id": "950f1c15-c8ce-4628-a254-e31ca1da96b1",
   "metadata": {},
   "outputs": [
    {
     "name": "stdout",
     "output_type": "stream",
     "text": [
      "[[1 2 3]\n",
      " [4 5 6]\n",
      " [7 8 9]]\n",
      "\n",
      "[5]\n",
      "\n",
      "[[1 4 7]]\n",
      "\n",
      "[[4]\n",
      " [5]\n",
      " [6]]\n"
     ]
    }
   ],
   "source": [
    "loc = np.arange(1, 10, 1).reshape(-1, 3)\n",
    "print(\n",
    "    loc,\n",
    "    loc[1, 1, np.newaxis],  # segundo linha, segunda coluna, criando um eixo\n",
    "    loc[np.newaxis, :, 0],  # \"todas as linhas, primeira coluna, com dimensão no eixo 0 (linhas)\"\n",
    "    loc[1, :, np.newaxis],  # \"segunda linha, todas as colunas, com dimensão extra no eixo 2 (decai para colunas)\"\n",
    "    sep=\"\\n\\n\",\n",
    ")"
   ]
  },
  {
   "cell_type": "markdown",
   "id": "f6953126-3161-4c15-8a7e-c0d645d0e9d8",
   "metadata": {},
   "source": [
    "Para alterar o valor de um elemento, podemos utilizar a notação já esperada de `arr[idx] = val`. Nos índices podemos colocar slices também para transformarmos mais de uma posição de cada vez. O número de elementos precisa ser apropriado, senão um `ValueError` será lançado."
   ]
  },
  {
   "cell_type": "code",
   "execution_count": 22,
   "id": "b66f4c5d-0cf6-49c5-9088-11d91e1b07c3",
   "metadata": {},
   "outputs": [
    {
     "name": "stdout",
     "output_type": "stream",
     "text": [
      "[[1 2 3]\n",
      " [4 5 6]\n",
      " [7 8 9]] \n",
      "\n",
      "\n",
      "[[  1   2   3]\n",
      " [  4   5 100]\n",
      " [  7   8   9]] \n",
      "\n",
      "\n",
      "[[ -1   2   3]\n",
      " [ -2   5 100]\n",
      " [ -3   8   9]]\n"
     ]
    }
   ],
   "source": [
    "loc = np.arange(1, 10, 1).reshape(-1, 3)\n",
    "print(loc, \"\\n\\n\")\n",
    "loc[1, 2] = 100\n",
    "print(loc, \"\\n\\n\")\n",
    "loc[:, 0] = (-1, -2, -3)\n",
    "print(loc)"
   ]
  },
  {
   "cell_type": "markdown",
   "id": "2990b5c0-c59c-4735-986f-d56035e60696",
   "metadata": {},
   "source": [
    "### Transposição\n",
    "\n",
    "Também podemos transpor uma matriz com `.T`. Note que isto não é uma função, não altera a matriz. A função `numpy.transpose` também realiza essa tarefa."
   ]
  },
  {
   "cell_type": "code",
   "execution_count": 23,
   "id": "f8d644a6-9aa0-47c5-b377-9ef2826539f0",
   "metadata": {},
   "outputs": [
    {
     "name": "stdout",
     "output_type": "stream",
     "text": [
      "[[1. 1. 1.]\n",
      " [1. 1. 1.]]\n",
      "\n",
      "[[1. 1.]\n",
      " [1. 1.]\n",
      " [1. 1.]]\n",
      "\n",
      "[[1. 1.]\n",
      " [1. 1.]\n",
      " [1. 1.]]\n"
     ]
    }
   ],
   "source": [
    "transp = np.ones((2, 3))\n",
    "print(transp)\n",
    "print()\n",
    "print(transp.T)\n",
    "print()\n",
    "print(np.transpose(transp))"
   ]
  },
  {
   "cell_type": "markdown",
   "id": "8b84cbf3-2833-4601-9fda-70f875f2659c",
   "metadata": {},
   "source": [
    "Porém, um `array` de dimensão 0 não sofre alteração se for transposto. É necessário adicionar uma dimensão para isso."
   ]
  },
  {
   "cell_type": "code",
   "execution_count": 24,
   "id": "a9a318ff-168d-4ef0-bf21-d095add40ab7",
   "metadata": {},
   "outputs": [
    {
     "name": "stdout",
     "output_type": "stream",
     "text": [
      "[0 1 2]\n",
      "\n",
      "[0 1 2]\n",
      "\n",
      "[[0]\n",
      " [1]\n",
      " [2]]\n"
     ]
    }
   ],
   "source": [
    "transp_0d = np.arange(3)\n",
    "print(transp_0d)\n",
    "print()\n",
    "print(transp_0d.T)\n",
    "print()\n",
    "print(transp_0d[np.newaxis, :].T)"
   ]
  },
  {
   "cell_type": "markdown",
   "id": "bf5e96b5-ca39-4d7d-9ad8-f97ddc414af9",
   "metadata": {},
   "source": [
    "### Remoção de dimensões\n",
    "\n",
    "De vez em quando queremos que uma matriz ou vetor seja planificado. Ao invés de nos preocuparmos com `reshape`, podemos utilizar o método `.flatten` ou a função `np.ravel`."
   ]
  },
  {
   "cell_type": "code",
   "execution_count": 25,
   "id": "6573c463-932d-40d9-8d38-eedcfe7b9046",
   "metadata": {},
   "outputs": [
    {
     "name": "stdout",
     "output_type": "stream",
     "text": [
      "[[0.78065207 0.62163021 0.08939036]\n",
      " [0.3552677  0.19512262 0.01264086]\n",
      " [0.90385654 0.68287153 0.97200195]]\n",
      "\n",
      "[0.78065207 0.62163021 0.08939036 0.3552677  0.19512262 0.01264086\n",
      " 0.90385654 0.68287153 0.97200195]\n",
      "\n",
      "[0.78065207 0.62163021 0.08939036 0.3552677  0.19512262 0.01264086\n",
      " 0.90385654 0.68287153 0.97200195]\n"
     ]
    }
   ],
   "source": [
    "rand = np.random.random((3, 3))\n",
    "print(rand)\n",
    "print()\n",
    "print(rand.flatten())\n",
    "print()\n",
    "print(np.ravel(rand))"
   ]
  },
  {
   "cell_type": "markdown",
   "id": "587a17cf-fe3b-4801-bd67-38903136ac44",
   "metadata": {},
   "source": [
    "Aqui, utilizei a função do submódulo `random` para gerar uma matriz com valores aleatórios entre 0 e 1. Iremos explorar mais funções desse pacote depois. A diferença de `.flatten` e `np.ravel` é a seguinte: A primeira retorna uma **cópia**, e a segunda retorna uma **visão** do *array*."
   ]
  },
  {
   "cell_type": "markdown",
   "id": "649bc768-5417-43cb-8b57-c77f808fa290",
   "metadata": {},
   "source": [
    "### Cópias e visão (*views*)\n",
    "\n",
    "Em uma cópia, alterações feitas no *array* não afetam o objeto original, mas em visões, isso pode ocorrer. \n",
    "\n",
    "No seccionamento, são retornadas visões. Se quisermos uma cópia, podemos utilizar `.copy`."
   ]
  },
  {
   "cell_type": "code",
   "execution_count": 26,
   "id": "0a4a990f-9b0f-4a92-a4c8-03dbbfe24b35",
   "metadata": {},
   "outputs": [
    {
     "name": "stdout",
     "output_type": "stream",
     "text": [
      "[[1 2 3]\n",
      " [4 5 6]\n",
      " [7 8 9]] \n",
      "\n",
      " [[5 6]\n",
      " [8 9]] \n",
      "\n",
      "\n",
      "[[  1   2   3]\n",
      " [  4   5   6]\n",
      " [  7   8 100]] \n",
      "\n",
      " [[  5   6]\n",
      " [  8 100]] \n",
      "\n",
      "\n",
      "[[  1   2   3]\n",
      " [  4 500   6]\n",
      " [  7   8 100]] \n",
      "\n",
      " [[500   6]\n",
      " [  8 100]]\n"
     ]
    }
   ],
   "source": [
    "loc = np.arange(1, 10, 1).reshape(-1, 3)\n",
    "view1 = loc[1:, 1:]\n",
    "print(loc, \"\\n\\n\", view1, \"\\n\\n\")\n",
    "\n",
    "loc[2, 2] = 100\n",
    "print(loc, \"\\n\\n\", view1, \"\\n\\n\")\n",
    "\n",
    "view1[0, 0] = 500\n",
    "print(loc, \"\\n\\n\", view1)"
   ]
  },
  {
   "cell_type": "markdown",
   "id": "c83b31f9-e10c-4f3c-a8d2-7e5cd3a39cd0",
   "metadata": {},
   "source": [
    "Como mencionado, o mesmo vale para transpostas e `np.ravel`, mas não `.flatten`."
   ]
  },
  {
   "cell_type": "code",
   "execution_count": 27,
   "id": "92cd9446-fdd9-4f8c-a728-e44ca3d0a1ef",
   "metadata": {},
   "outputs": [
    {
     "name": "stdout",
     "output_type": "stream",
     "text": [
      "[[  1   2   3]\n",
      " [  4   5 100]] \n",
      "\n",
      "[[ 1  2  3]\n",
      " [ 4  5 -1]] \n",
      "\n",
      "[[ 1  2  3]\n",
      " [ 4  5 -1]]\n"
     ]
    }
   ],
   "source": [
    "loc = np.arange(1, 7).reshape(2, 3)\n",
    "\n",
    "loc.T[2, 1] = 100\n",
    "print(loc, \"\\n\")\n",
    "\n",
    "np.ravel(loc)[-1] = -1\n",
    "print(loc, \"\\n\")\n",
    "\n",
    "loc.flatten()[-1] = 100\n",
    "print(loc)"
   ]
  },
  {
   "cell_type": "markdown",
   "id": "7ce3746a-b5e9-4064-9b6b-beccef926153",
   "metadata": {},
   "source": [
    "### *Broadcasting* e vetorização\n",
    "\n",
    "Quando temos duas *arrays* com o mesmo tamanho, podemos fazer operações aritméticas entre elas elemento-a-elemento. Se um dos argumentos for um escalar, algo chamado *broadcasting* ocorre, e esse escalar é \"transformado\" em um *array* do tamanho apropriado. Essa flexibilidade lhe permite, inclusive, passar para funções escalares e *arrays* e o comportamento deve ser compatível.\n",
    "\n",
    "Nos exemplos a seguir, irei criar alguns *arrays* utilizando *broadcasting*, e também irei realizar operações entre *arrays* de mesmo tamanho. Utilizarei também as funções `np.sin`, `np.cos`, `np.sqrt` e `np.exp` e a constante `np.pi` para realizar alguns cálculos. Para encontrar o valor do pico, utilizarei `np.argmax`, que retorna o *índice* onde o valor máximo do *array* ocorre. Isso é necessário para que encontre o valor de `x` correspondente ao máximo em `y`. Análogos a isso temos `np.max`, `np.min` e `np.argmin`."
   ]
  },
  {
   "cell_type": "code",
   "execution_count": 28,
   "id": "9469d2c7-5c05-4eb8-83e4-2be179c14f00",
   "metadata": {},
   "outputs": [],
   "source": [
    "xx1 = np.linspace(-10, 10)\n",
    "yy_linear = 5 * xx1 - 10\n",
    "yy_parabola = -(xx1**2) + 5 * xx1 + 10\n",
    "yy_terceiro_grau = 5 / 40 * xx1**3 - xx1**2 + 5 * xx1 + 10\n",
    "\n",
    "xx2 = np.linspace(-np.pi, np.pi)\n",
    "yy_per1 = np.sin(xx2)\n",
    "yy_per2 = np.cos(xx2 + np.pi / 2)\n",
    "yy_canc = yy_per1 + yy_per2\n",
    "yy_tan = np.tan(xx2)\n",
    "\n",
    "\n",
    "def gauss(x, sigma, mu):\n",
    "    return 1 / (sigma * np.sqrt(2 * np.pi)) * np.exp(-0.5 * (x - mu) ** 2 / sigma**2)\n",
    "\n",
    "\n",
    "sigma, mu = 1, 0.5\n",
    "xx3 = np.linspace(-4, 4)\n",
    "yy_gauss_1 = gauss(xx3, sigma, mu)\n",
    "yy_gauss_1_max = gauss(mu, sigma, mu)\n",
    "yy_gauss_2 = gauss(xx3, sigma, mu - 1)\n",
    "yy_gauss_3 = gauss(xx3, sigma, mu + 1)\n",
    "yy_gauss_todos = yy_gauss_1 + yy_gauss_2 + yy_gauss_3\n",
    "gauss_todos_max_idx = np.argmax(yy_gauss_todos)\n",
    "yy_gauss_todos_max = yy_gauss_todos[gauss_todos_max_idx]\n",
    "xx_gauss_todos_max = xx3[gauss_todos_max_idx]\n",
    "\n",
    "\n",
    "def cross_model(GP, eta_0, eta_inf, k, n):\n",
    "    return eta_inf + (eta_0 - eta_inf) / (1 + (GP / k) ** n)\n",
    "\n",
    "\n",
    "xx4 = np.geomspace(1e-3, 1e3)\n",
    "yy_cross = cross_model(xx4, 50, 0.01, 1, 0.85)"
   ]
  },
  {
   "cell_type": "markdown",
   "id": "ab51c695-f65a-4335-8aeb-26a4cba3e264",
   "metadata": {},
   "source": [
    "Para mostrar como a vetorização auxilia na velocidade, veja as duas funções a seguir. Uma itera sobre um array e outra vetoriza a operação. Ambas computam a mesma coisa, mas a diferença é de 3 ordens de grandeza na velocidade."
   ]
  },
  {
   "cell_type": "code",
   "execution_count": 29,
   "id": "36036fa2-21cd-45d8-8b05-070ab3e21abf",
   "metadata": {},
   "outputs": [],
   "source": [
    "def lento():\n",
    "    a = np.ones(100000)\n",
    "    for i in range(a.size):\n",
    "        a[i] *= 5\n",
    "\n",
    "\n",
    "def rapido():\n",
    "    a = np.ones(100000)\n",
    "    a *= 5"
   ]
  },
  {
   "cell_type": "code",
   "execution_count": 30,
   "id": "708e3437-afff-4e41-ac7a-a6bcf6987fbb",
   "metadata": {},
   "outputs": [
    {
     "name": "stdout",
     "output_type": "stream",
     "text": [
      "25.5 ms ± 1.84 ms per loop (mean ± std. dev. of 7 runs, 10 loops each)\n"
     ]
    }
   ],
   "source": [
    "%timeit lento()"
   ]
  },
  {
   "cell_type": "code",
   "execution_count": 31,
   "id": "46a5965b-85a0-4b2a-83b2-07f2930db2e0",
   "metadata": {},
   "outputs": [
    {
     "name": "stdout",
     "output_type": "stream",
     "text": [
      "46.5 µs ± 690 ns per loop (mean ± std. dev. of 7 runs, 10,000 loops each)\n"
     ]
    }
   ],
   "source": [
    "%timeit rapido()"
   ]
  },
  {
   "cell_type": "markdown",
   "id": "6a53932f-2634-4a31-a137-cc977689f1b1",
   "metadata": {},
   "source": [
    "```{warning} Atenção\n",
    "**Não misture funções da biblioteca `math` com `numpy`**, a performance será muito menor.\n",
    "```"
   ]
  },
  {
   "cell_type": "markdown",
   "id": "a309908c-c6b2-4811-9ab1-a529d6cc4662",
   "metadata": {},
   "source": [
    "Todas essas manipulações de `arrays` são mais fáceis de serem entendidas se conseguirmos visualizar os resultados. Antes de prosseguir, aprender o básico de `matplotlib` para fazer justo isso."
   ]
  },
  {
   "cell_type": "markdown",
   "id": "1c7a09d7-867f-4b48-be17-3c7f03aa405a",
   "metadata": {},
   "source": [
    "(sec:basicos_mpl_1)=\n",
    "## Básicos de `matplotlib` Parte 1\n",
    "\n",
    "Agora que temos alguns *arrays*, seria interessante visualizarmos o que construímos. Podemos utilizar `matplotlib` para isso. Essa biblioteca foi criada como um paralelo às funções de plotagem presentes em Matlab, e isso trouxe vantagens e desvantagens. Primeiro, popularizou bastante a biblioteca, e ela é praticamente o padrão em Python para qualquer tipo de visualização estática. Os gráficos possuem opções para modificar praticamente todos os seus aspectos, permitindo você ajustar os gráficos exatamente da maneira que você quer. Por outro lado, os paradigmas empregados em `matplotlib` pode tornar alguns tipos de tarefas um tanto tediosas e inflexíveis. O `ggplot2` da linguagem R (análogo em Python: `plotnine`), e o pacote `altair` de Python, utilizam outro paradigma, e possuem certas vantagens. Mas, no final das contas, vai um pouco da preferência e familiaridade de cada um.\n",
    "\n",
    "`matplotlib` por si só é raramente utilizado, e controla aspectos mais fundamentais da criação dos gráficos, como opções de estilo e os objetos utilizados para os desenhos em si. `matplotlib.pyplot` é uma interface procedural exposta que facilita a criação de gráficos. O paradigma dessa interface é imperativo, i.e., os comandos se referem sempre ao *objeto atual*. Então se você quer criar, por exemplo, duas figuras, você deve *ativar* uma figura e depois mandar os comandos de plotar e modificação de aparência e depois repetir o processo com outra figura. Essa interface não é recomendada para qualquer trabalho mais complexo, mas é plenamente utilizável para visualizações rápidas.\n",
    "\n",
    "As funções em `pyplot` possuem uma quantidade *enorme* de parâmetros opcionais, e é impossível especificar todos aqui, sem ser redundante. Por isso irei mencionar algumas opções de vez em quando.[^1]\n",
    "\n",
    "[^1]: Existem duas interfaces com `matplotlib`, a maneira implícita e a maneira explícita (orientada a objetos). Entrarei em detalhes depois, mas por enquanto irei apresentar a maneira implícita, mais simples. Se tiver curiosidade, [leia isto](https://matplotlib.org/stable/api/index.html)"
   ]
  },
  {
   "cell_type": "markdown",
   "id": "a8b93c15-b1b0-447e-8fbd-5855a1fc480d",
   "metadata": {},
   "source": [
    "### Criação de figuras\n",
    "\n",
    "Para ilustrar os *arrays* que criamos anteriormente, vamos primeiro criar figuras com [`plt.figure()`](https://matplotlib.org/stable/api/_as_gen/matplotlib.pyplot.figure.html) e plotar com [`plt.plot()`](https://matplotlib.org/stable/api/_as_gen/matplotlib.pyplot.plot.html). A primeira função não precisa de argumentos, mas aceita um identificador[^1], um tamanho da figura em polegadas no formato `(largura, altura)`, uma resolução em *dpi* (*dots per inch*), e algumas outras opções menos utilizadas[^2].\n",
    "\n",
    "[^1]: número que pode ser utilizado para \"re-chamar\" a figura depois, e aumenta sozinho começando de 1.\n",
    "\n",
    "[^2]: Se você quiser uma figura com um tamanho em pixels específico (p.e. 1080p = 1920x1080), fixe o tamanho da figura (múltiplo de 16x9) e calcule o *dpi* para atingir a resolução. Então uma figura de tamanho `(4, 2.25)` precisa de *dpi* igual a 480 (1920 / 4). Você pode também fixar o *dpi* e encontrar o tamanho dividindo a resolução em pixels pelo *dpi* fixado, então uma figura com 600 *dpi* e resolução 1920x1080 teria o tamanho de 1920/600 x 1080/600 = `(3.2, 1.8)`.\n",
    "\n",
    "Pode ser estranho especificar um tamanho e resolução em polegadas, mas isso é muito utilizado em publicação e em meios acadêmicos. Muitas revistas pedem figuras coloridas com resolução de 600 dpi e figuras em preto e branco com 1200 dpi. Além disso, o tamanho de uma figura afeta a escala dos elementos. Um erro comum de principiante é aumentar o tamanho da figura para melhorar a resolução, mas isso somente agrava o problema. Se você aumenta o tamanho para o dobro, o tamanho do texto irá cair porque o tamanho da fonte ficou constante[^3]. Neste caso, aumente só a resolução.\n",
    "\n",
    "Se você estiver fazendo figuras para um artigo, veja nas especificações da revista sobre o tamanho esperado para figuras e o tamanho da fonte das mesmas e fixe isso em todos os seus projetos para esse artigo. Note que algumas figuras podem ocupar duas colunas, ou uma página inteira, então tome cuidado.\n",
    "\n",
    "[^3]: O tamanho de fontes é geralmente dado em pontos (Arial 12, por exemplo), e um ponto é 1/72 de uma polegada."
   ]
  },
  {
   "cell_type": "markdown",
   "id": "621c473c-8822-4007-9cba-b723c7c5f8fd",
   "metadata": {},
   "source": [
    "### Comando para plotar\n",
    "\n",
    "O comando para mais comum plotar é `plt.plot`. A sintaxe é um tanto complexa e flexível porque precisa de certa compatibilidade com Matlab. Essa função precisa de somente um argumento: os valores de `y`. Nesse caso os valores de `x` serão inferidos como sequenciais (igual a `range`). É comumente fornecido tanto o valor de `x` quanto de `y`, e é importante notar que ambos precisam ser *exatamente* o mesmo número de elementos. Não precisam ser *arrays*, podem ser listas, tuplas, qualquer iterável.\n",
    "\n",
    "Por padrão serão criadas linhas, sem marcadores[^4]. Comandos sucessivos de `plt.plot` irão gerar mais linhas, posicionadas acima da primeira de cores diferentes, seguindo um [ciclo](https://matplotlib.org/stable/gallery/color/color_cycle_default.html#colors-in-the-default-property-cycle). O padrão são as cores da paleta [Tableau](https://matplotlib.org/stable/gallery/color/named_colors.html#tableau-palette).\n",
    "\n",
    "[^4]: Se você especificar *arrays* com 1 elemento e não especificar o marcador, não irá ver nada, pois as linhas só existem entre os marcadores. Outro erro comum de principiante. "
   ]
  },
  {
   "cell_type": "markdown",
   "id": "32c546db-a315-4c5f-9e0e-5826315e4175",
   "metadata": {},
   "source": [
    "### Estilos de linha\n",
    "\n",
    "Podemos especificar estilos de linha com com `linestyle=` ou `ls=`:\n",
    "\n",
    "* `-`: linha contínua\n",
    "* `--`: linha tracejada\n",
    "* `-.`: linha traço-ponto\n",
    "* `:`: linha pontilhada.\n",
    "\n",
    "Cada comando `plt.plot` retorna um `Artist` do tipo [`Line2D`](https://matplotlib.org/stable/api/_as_gen/matplotlib.lines.Line2D.html). Tais objetos representam elementos gráficos em uma figura. Você irá notar isso na célula a seguir, onde a representação do último objeto foi mostrada."
   ]
  },
  {
   "cell_type": "code",
   "execution_count": 32,
   "id": "f10d05f6-962a-4fd5-a51b-880a63c2df34",
   "metadata": {},
   "outputs": [
    {
     "data": {
      "text/plain": [
       "[<matplotlib.lines.Line2D at 0x1d1301ad610>]"
      ]
     },
     "execution_count": 32,
     "metadata": {},
     "output_type": "execute_result"
    },
    {
     "data": {
      "image/png": "[encoded data removed]",
      "text/plain": [
       "<Figure size 640x480 with 1 Axes>"
      ]
     },
     "metadata": {},
     "output_type": "display_data"
    }
   ],
   "source": [
    "plt.figure()\n",
    "plt.plot(xx1, yy_linear)\n",
    "plt.plot(xx1, yy_parabola, ls=\"--\")\n",
    "plt.plot(xx1, yy_terceiro_grau, ls=\":\")"
   ]
  },
  {
   "cell_type": "markdown",
   "id": "e0609b2d-beb8-40e8-839d-522fcffdf802",
   "metadata": {},
   "source": [
    "### Estilos de marcador \n",
    "\n",
    "Podemos especificar os marcadores com `marker=`, fornecendo uma string com o especificador. Os mais comuns são:\n",
    "\n",
    "* `'s'` para um quadrado (*square*)\n",
    "* `'o'` para um círculo\n",
    "* `'*'` para uma estrela\n",
    "* `'v'` `'>'` `'<'^` `'^'` para triângulos\n",
    "* `'p'` para um pentágono"
   ]
  },
  {
   "cell_type": "markdown",
   "id": "82f259ff-5300-477c-b06b-14e20863abbf",
   "metadata": {},
   "source": [
    "### Legendas\n",
    "\n",
    "Se quiser especificar um nome a uma linha, utilize `label=` em `plt.plot` e depois chame a função `plt.legend()` para criar a caixa da legenda na figura."
   ]
  },
  {
   "cell_type": "code",
   "execution_count": 33,
   "id": "ed54f958-cc6f-4b3d-8438-af6f59af8438",
   "metadata": {},
   "outputs": [
    {
     "data": {
      "text/plain": [
       "<matplotlib.legend.Legend at 0x1d13025aed0>"
      ]
     },
     "execution_count": 33,
     "metadata": {},
     "output_type": "execute_result"
    },
    {
     "data": {
      "image/png": "[encoded data removed]",
      "text/plain": [
       "<Figure size 640x480 with 1 Axes>"
      ]
     },
     "metadata": {},
     "output_type": "display_data"
    }
   ],
   "source": [
    "plt.figure()\n",
    "plt.plot(xx3, yy_gauss_1, label=\"gaussiana 1\")\n",
    "plt.plot(xx3, yy_gauss_2, label=\"gaussiana 2\")\n",
    "plt.plot(xx3, yy_gauss_3, label=\"gaussiana 3\")\n",
    "plt.plot(xx3, yy_gauss_todos, label=\"todas\")\n",
    "plt.plot(mu, yy_gauss_1_max, marker=\"o\", label=\"máximo gaussiana 1\")\n",
    "plt.plot(xx_gauss_todos_max, yy_gauss_todos_max, marker=\"s\", label=\"máximo todas\")\n",
    "plt.legend()"
   ]
  },
  {
   "cell_type": "markdown",
   "id": "fd35354b-fb8c-4454-b4cd-40727238e548",
   "metadata": {},
   "source": [
    "Note que, na legenda, `máximo gaussiana 1` possui um marcador com uma linha como seu símbolo. Isso é porque não especificamos que a linha deveria ter tamanho 0 (efetivamente removendo-a). Note também que os máximos aparentam estar um pouquinho deslocado, e isso se deve à limitação da precisão dos pontos na curva, cuja rugosidade pode ser notada, especialmente no topo. Além disso, resista a tentação de chamar `plt.scatter` para criar esse tipo de notação (curvas sem linhas) porque o propósito dessa função é ligeiramente diferente."
   ]
  },
  {
   "cell_type": "markdown",
   "id": "513daeae-8a19-4a3d-b970-b3f81681d551",
   "metadata": {},
   "source": [
    "Podemos especificar a cor tanto da linha quanto do marcador com `color=` ou `c=`, e o valor sendo um [nome](https://matplotlib.org/stable/gallery/color/named_colors.html#sphx-glr-gallery-color-named-colors-py), uma cor do ciclo (começando com `'C0'`), uma string com o código hexadecimal da cor (`#XXXXXX`) ou uma cor de 1 letra (`'b'` para azul, `'g'` para verde, etc). Se quiser especificar a cor dos marcadores, utilize `markerfacecolor=` ou `mfc=` para mudar a cor do centro e `markeredgecolor` ou `mec=` para mudar a cor da borda. A espessura da linha e do contorno do marcador são especificadas com `linewidth=` ou `lw=` e `markeredgewidth=` ou `mew=`. O tamanho do marcador é especificado com `markersize=` ou `ms=`."
   ]
  },
  {
   "cell_type": "markdown",
   "id": "d88c08a3-86d6-4592-abea-a1678c7e947e",
   "metadata": {},
   "source": [
    "### Nomeação de eixos e título de figura\n",
    "\n",
    "Para nomear os eixos, você pode utilizar `plt.xlabel` e `plt.ylabel`. O título de uma figura é modificado com `plt.title`. Em todas as partes que envolvem texto, você pode utilizar notação $\\LaTeX$ para expandir as capacidades tipográficas e colocar equações, envolvendo os comandos em `$`. Não se esqueça de utilizar uma *raw string* para evitar problemas com caracteres de escape e comandos de $\\LaTeX$.\n",
    "\n",
    "### Escalas\n",
    "\n",
    "Se quiser mudar a escala de um eixo, utilize `plt.xscale` ou `plt.yscale`, junto com `'linear'` para escala linear e `'log'` para escala logaritmica, e outras."
   ]
  },
  {
   "cell_type": "code",
   "execution_count": 34,
   "id": "ee004de8-e52d-46dd-8932-079a0fce8d47",
   "metadata": {},
   "outputs": [
    {
     "data": {
      "text/plain": [
       "<matplotlib.legend.Legend at 0x1d130136e90>"
      ]
     },
     "execution_count": 34,
     "metadata": {},
     "output_type": "execute_result"
    },
    {
     "data": {
      "image/png": "[encoded data removed]",
      "text/plain": [
       "<Figure size 640x480 with 1 Axes>"
      ]
     },
     "metadata": {},
     "output_type": "display_data"
    }
   ],
   "source": [
    "plt.figure()\n",
    "plt.plot(\n",
    "    xx4,\n",
    "    yy_cross,\n",
    "    lw=0,\n",
    "    marker=\"s\",\n",
    "    mec=\"b\",\n",
    "    mfc=\"g\",\n",
    "    label=\"\\n\".join([r\"$\\eta_0$=50\", r\"$\\eta_\\infty$=0.01\", r\"$k$=1\", r\"$n$=0.85\"]),\n",
    ")\n",
    "plt.xlabel(r\"$\\dot{\\gamma} / s^{-1}$\")\n",
    "plt.ylabel(r\"$\\eta / mPa\\cdot s$\")\n",
    "plt.xscale(\"log\")\n",
    "plt.title(r\"Cross: $\\eta$ = $\\eta_\\infty + \\frac{\\eta_0 - \\eta_\\infty}{1 + \\left( \\frac{\\dot{\\gamma}}{k} \\right)^n }$\")\n",
    "plt.legend()"
   ]
  },
  {
   "attachments": {},
   "cell_type": "markdown",
   "id": "80de248b-0e35-436b-b3d0-f7a3733b6c49",
   "metadata": {},
   "source": [
    "### Posição de *ticks*\n",
    "\n",
    "Podemos especificar a posição e o texto dos *ticks* dos eixos x e y com `plt.xticks` e `plt.yticks`. Se utilizar o argumento `minor=True` para `plt.xticks` ou `plt.yticks`, você especificará se o comando se refere aos *ticks* principais (*major*) ou aos secundários (*minor*), e você pode tranquilamente utilizar o comando para especificar cada um. \n",
    "\n",
    "Você também pode utilizar `plt.grid` para adicionar linhas que saem dos *ticks*, e `which=` possui um papel similar ao argumento `minor=`, mas aqui precisamos especificar `which='minor'` para aplicar o *grid* aos *ticks* secundários.\n",
    "\n",
    "Por padrão, um eixo tenta mostrar todo o conteúdo presente nele, mas a função tangente explode sob certos valores. Podemos limitar a área de visualização com `plt.xlim` e `plt.ylim`."
   ]
  },
  {
   "cell_type": "code",
   "execution_count": 35,
   "id": "7253a636-5b83-49fe-8581-fd65a6685007",
   "metadata": {},
   "outputs": [
    {
     "data": {
      "text/plain": [
       "(-1.1, 1.1)"
      ]
     },
     "execution_count": 35,
     "metadata": {},
     "output_type": "execute_result"
    },
    {
     "data": {
      "image/png": "[encoded data removed]",
      "text/plain": [
       "<Figure size 640x480 with 1 Axes>"
      ]
     },
     "metadata": {},
     "output_type": "display_data"
    }
   ],
   "source": [
    "plt.figure()\n",
    "plt.plot(xx2, yy_per1)\n",
    "plt.plot(xx2, yy_per2)\n",
    "plt.plot(xx2, yy_canc)\n",
    "plt.plot(xx2, yy_tan, ls=\"--\")\n",
    "\n",
    "\n",
    "plt.xticks(\n",
    "    ticks=np.arange(-np.pi, np.pi + 0.1, np.pi / 4),\n",
    "    labels=[\n",
    "        r\"$-\\pi$\",\n",
    "        r\"$-3\\pi/4$\",\n",
    "        r\"$-\\pi/2$\",\n",
    "        r\"$-\\pi/4$\",\n",
    "        r\"0\",\n",
    "        r\"$\\pi/4$\",\n",
    "        r\"$\\pi/2$\",\n",
    "        r\"$3\\pi/4$\",\n",
    "        \"$\\pi$\",\n",
    "    ],\n",
    ")\n",
    "plt.yticks(ticks=np.arange(-1, 1.1, 1))\n",
    "plt.yticks(ticks=np.arange(-0.75, 0.76, 0.25), minor=True)\n",
    "plt.grid()\n",
    "plt.grid(which=\"minor\", ls=\":\")\n",
    "plt.ylim(-1.1, 1.1)"
   ]
  },
  {
   "cell_type": "markdown",
   "id": "3152bfc7-d243-48cf-8da7-b698a4cf758d",
   "metadata": {},
   "source": [
    "Note que, na função tangente, quando ela transiciona de positivo para negativo, uma linha foi traçada em nosso gráfico. Esse é sempre o comportamento de `plt.plot`. Se quiser remover essas linhas, a maneira mais simples é utilizando vários comandos de plotagem sequenciais.\n",
    "\n",
    "No código a seguir, as *arrays* iniciais são cortadas em várias arrays (`np.array_split`) com base nos índices (`np.where` com 1 argumento só) onde o valor absoluto (`np.abs`) é maior que 5. Esse valor foi escolhido a dedo e representa o ponto onde \"explodiu para fora da área de interesse\". Depois de separar as *arrays*, podemos fazer um loop por elas e plotar os resultados.\n",
    "\n",
    "```python\n",
    "yy_tan_split = np.array_split(yy_tan, np.where(np.abs(np.diff(yy_tan)) > 5)[0])\n",
    "xx_tan_split = np.array_split(xx2, np.where(np.abs(np.diff(yy_tan)) > 5)[0])\n",
    "for xx, yy in zip(xx_tan_split, yy_tan_split):\n",
    "    if len(xx) == 1: continue\n",
    "    plt.plot(xx, yy, ls='--', c='C3')\n",
    "```"
   ]
  },
  {
   "cell_type": "markdown",
   "id": "26c24a76-e829-4284-8a06-39f38c5df5b6",
   "metadata": {},
   "source": [
    "(sec:basicos_np_2)=\n",
    "## Básicos de `numpy` Parte 2"
   ]
  },
  {
   "cell_type": "markdown",
   "id": "36aa5997-857a-49e6-bb50-b47b87bf46b5",
   "metadata": {},
   "source": [
    "### Submódulo `random`\n",
    "\n",
    "Existem várias funções dentro do módulo random. Elas fornecem números aleatórios de determinadas distribuições estatísticas. Por exemplo, `.random` retorna um `float` entre 0 e 1 (último não incluso), de uma distribuição uniforme. Se você quiser testar algo com uma chance de, p.e., 20%, você pode chamar essa função e checar se o valor obtido for menor que 0.2. Similarmente, `.randint` retorna um número inteiro entre dois intervalos, distribuídos uniformemente.\n",
    "\n",
    "Vamos visualizar essas funções construindo histogramas."
   ]
  },
  {
   "cell_type": "code",
   "execution_count": 36,
   "id": "742a7a4d-327a-4dc7-96c3-4fd534996e41",
   "metadata": {},
   "outputs": [
    {
     "data": {
      "image/png": "[encoded data removed]",
      "text/plain": [
       "<Figure size 640x480 with 1 Axes>"
      ]
     },
     "metadata": {},
     "output_type": "display_data"
    }
   ],
   "source": [
    "np.random.seed(42)\n",
    "vals = np.random.random(size=10000)\n",
    "_ = plt.hist(vals, density=True, edgecolor=\"k\")"
   ]
  },
  {
   "cell_type": "code",
   "execution_count": 37,
   "id": "6fd8f237-9d90-4212-892c-fddc43bb0b90",
   "metadata": {},
   "outputs": [
    {
     "data": {
      "image/png": "[encoded data removed]",
      "text/plain": [
       "<Figure size 640x480 with 1 Axes>"
      ]
     },
     "metadata": {},
     "output_type": "display_data"
    }
   ],
   "source": [
    "np.random.seed(42)\n",
    "vals = np.random.randint(0, 10, size=10000)\n",
    "_ = plt.hist(vals, density=True, edgecolor=\"k\")"
   ]
  },
  {
   "cell_type": "markdown",
   "id": "d2d26d04-1e2a-4bee-8684-bffaf6059ed4",
   "metadata": {},
   "source": [
    "Podemos ver que em ambos os casos, os valores obtidos estão próximos à uniformidade. Eu também fixei o resultado ao forçar a semente do gerador de números pseudoaleatórios, e portanto os gráficos resultantes serão sempre iguais. Se você remover essa linha, verá que as curvas mudam a cada execução da célula, como é esperado."
   ]
  },
  {
   "cell_type": "markdown",
   "id": "f2948d9e-12c2-4bdf-9405-63ea49667869",
   "metadata": {},
   "source": [
    "Além de valores com distribuição uniforme, temos funções para distribuições estatísticas, como uma gaussiana, distribuição t de Student, chi-quadrado, e várias outras."
   ]
  },
  {
   "cell_type": "markdown",
   "id": "07ca0c77-3537-4a51-a709-88f9105db8b1",
   "metadata": {},
   "source": [
    "* `.randn` retorna valores de uma distribuição normal padrão (média zero, desvio padrão 1)."
   ]
  },
  {
   "cell_type": "code",
   "execution_count": 38,
   "id": "16c58ae9-24d5-401d-a859-e3281699ab32",
   "metadata": {},
   "outputs": [
    {
     "data": {
      "image/png": "[encoded data removed]",
      "text/plain": [
       "<Figure size 640x480 with 1 Axes>"
      ]
     },
     "metadata": {},
     "output_type": "display_data"
    }
   ],
   "source": [
    "np.random.seed(42)\n",
    "_ = plt.hist(np.random.randn(10000), bins=50)"
   ]
  },
  {
   "cell_type": "markdown",
   "id": "3d4e81c5-4455-4b38-bf8d-f02357c03a80",
   "metadata": {},
   "source": [
    "* `.normal` é similar a `.randn`, mas é possível especificar a posição e largura da curva."
   ]
  },
  {
   "cell_type": "code",
   "execution_count": 39,
   "id": "444efe3a-5377-47e1-9a05-ecad77a9bd7b",
   "metadata": {},
   "outputs": [
    {
     "data": {
      "image/png": "[encoded data removed]",
      "text/plain": [
       "<Figure size 640x480 with 1 Axes>"
      ]
     },
     "metadata": {},
     "output_type": "display_data"
    }
   ],
   "source": [
    "np.random.seed(42)\n",
    "n, bins, containers = plt.hist(np.random.normal(loc=5, scale=3, size=10000), bins=50, alpha=0.5)\n",
    "_ = plt.hist(np.random.normal(loc=5, scale=2, size=10000), bins=bins, alpha=0.5)\n",
    "_ = plt.hist(np.random.normal(loc=5, scale=1, size=10000), bins=bins, alpha=0.5)"
   ]
  },
  {
   "cell_type": "markdown",
   "id": "e06b03b4-c250-4fa0-aedf-fd31ffaefeb5",
   "metadata": {},
   "source": [
    "Aqui eu usei o fato da função `plt.hist` retornar os valores de cada coluna, as bordas de cada coluna e um container com os artistas de coluna para poder manter a mesma binagem de um histograma para o outro.\n",
    "\n",
    "Aqui podemos ver como a distribuição t de Student difere com o aumento do número de graus de liberdade, e como ela se aproxima da distribuição normal quando o número de graus de liberdade aumenta. Neste caso, eu decidi utilizar a função `np.histogram` para calcular as contagens e bordas dos histogramas e plotar gráficos de linha, para facilitar a visualização. Note que quando temos *n* bins num histograma, sempre temos *n+1* bordas. Por essa razão, eu decidi plotar as contagens considerando que elas se referem ao valor central dessas bordas. Fiz isso com a média do valor da esquerda e da direita, de uma maneira compacta. Veja se você consegue entender porque isso funciona."
   ]
  },
  {
   "cell_type": "code",
   "execution_count": 40,
   "id": "a02e902b-d7be-422d-88b5-eeac0e38de1e",
   "metadata": {},
   "outputs": [
    {
     "data": {
      "text/plain": [
       "[<matplotlib.lines.Line2D at 0x1d133f76310>]"
      ]
     },
     "execution_count": 40,
     "metadata": {},
     "output_type": "execute_result"
    },
    {
     "data": {
      "image/png": "[encoded data removed]",
      "text/plain": [
       "<Figure size 640x480 with 1 Axes>"
      ]
     },
     "metadata": {},
     "output_type": "display_data"
    }
   ],
   "source": [
    "np.random.seed(42)\n",
    "hist_df5, edges_df5 = np.histogram(np.random.standard_t(df=5, size=10000), bins=100)\n",
    "hist_df15, edges_df15 = np.histogram(np.random.standard_t(df=7, size=10000), bins=100)\n",
    "hist_df200, edges_df200 = np.histogram(np.random.standard_t(df=200, size=10000), bins=100)\n",
    "hist_norm, edges_norm = np.histogram(np.random.standard_normal(size=10000), bins=100)\n",
    "\n",
    "plt.plot((edges_df5[1:] + edges_df5[:-1]) / 2, hist_df5)\n",
    "plt.plot((edges_df15[1:] + edges_df15[:-1]) / 2, hist_df15)\n",
    "plt.plot((edges_df200[1:] + edges_df200[:-1]) / 2, hist_df200)\n",
    "plt.plot((edges_norm[1:] + edges_norm[:-1]) / 2, hist_norm)"
   ]
  },
  {
   "cell_type": "markdown",
   "id": "92f00cbb-2280-4d9d-a745-7eb608ae6843",
   "metadata": {},
   "source": [
    "Existem mais funções estatísticas, com distribuições cumulativas, inversas, etc, no pacote `scipy.stats`, que será explorado depois."
   ]
  },
  {
   "cell_type": "markdown",
   "id": "e225ff63-8455-4775-9f34-4b73257f7e04",
   "metadata": {},
   "source": [
    "Por fim temos a oportunidade de escolher elementos aleatoriamente de uma lista com `.choice`. Essa função aceita o número de elementos (`size`), e se eles serão amostrados com reposição ou não (`replace`). Note que se não puderem ser reamostrados, `size` não pode ser maior que o tamanho total da lista.\n",
    "\n",
    "Aqui iremos criar uma amostra dos caracteres de caixa baixa, utilizando a biblioteca `string` como fonte da lista. Note que foi necessário converter `str` para uma lista para podermos usar essa função."
   ]
  },
  {
   "cell_type": "code",
   "execution_count": 41,
   "id": "125a8573-1523-4219-af54-e6c40ae6449e",
   "metadata": {},
   "outputs": [
    {
     "name": "stdout",
     "output_type": "stream",
     "text": [
      "['i' 'q' 'a' 'y' 'l' 'j' 'n' 'b' 'x' 'f']\n",
      "['g' 't' 'o' 'k' 'h' 'u' 'g' 'z' 's' 'w']\n"
     ]
    }
   ],
   "source": [
    "import string\n",
    "\n",
    "np.random.seed(42)\n",
    "print(np.random.choice(list(string.ascii_lowercase), size=10, replace=False))\n",
    "np.random.seed(42)\n",
    "print(np.random.choice(list(string.ascii_lowercase), size=10, replace=True))"
   ]
  },
  {
   "cell_type": "markdown",
   "id": "d54a1254-fffa-4cc1-b9b7-613a2a26cb9b",
   "metadata": {},
   "source": [
    "Podemos também simular um [bootstrap](https://en.wikipedia.org/wiki/Bootstrapping_(statistics)) utilizando essa função. Esse método lhe permite calcular, por exemplo, regiões de confiança de estatísticas que não necessariamente seguem a distribuição normal ou similar a normal. Essa técnica depende em realizar uma amostragem, com reposição, muitas vezes e criar uma distribuição da estatística que você quiser calcular.\n",
    "\n",
    "Primeiro iremos gerar uma população com uma média e desvio padrão conhecida, e depois iremos calcular esse valor médio por amostragem, e obter uma região de confiança, utilizando a função `np.percentile`."
   ]
  },
  {
   "cell_type": "code",
   "execution_count": 42,
   "id": "ac640117-c412-4327-b962-77530a65e12d",
   "metadata": {},
   "outputs": [
    {
     "name": "stdout",
     "output_type": "stream",
     "text": [
      "Bootstrap média 10.06. Faixa de confiança 90%: [8.61, 11.44]\n"
     ]
    },
    {
     "data": {
      "image/png": "[encoded data removed]",
      "text/plain": [
       "<Figure size 640x480 with 1 Axes>"
      ]
     },
     "metadata": {},
     "output_type": "display_data"
    }
   ],
   "source": [
    "np.random.seed(42)\n",
    "média = 10\n",
    "desvpad = 3\n",
    "amostra = np.random.normal(loc=média, scale=desvpad, size=15)\n",
    "bootstraps = [np.mean(np.random.choice(amostra, size=10, replace=True)) for _ in range(1000)]\n",
    "pct_5 = np.percentile(bootstraps, 5)\n",
    "pct_95 = np.percentile(bootstraps, 95)\n",
    "media = np.mean(bootstraps)\n",
    "print(f\"Bootstrap média {media:.2f}. Faixa de confiança 90%: [{pct_5:.2f}, {pct_95:.2f}]\")\n",
    "\n",
    "*_, cols_distrib = plt.hist(amostra, density=True)\n",
    "l1 = plt.axvline(média, c=\"C0\")\n",
    "*_, cols_bootstrap = plt.hist(bootstraps, alpha=0.5, density=True)\n",
    "l2 = plt.axvline(pct_5, c=\"C1\", ls=\"--\")\n",
    "l3 = plt.axvline(pct_95, c=\"C1\", ls=\"--\")\n",
    "l4 = plt.axvline(media, c=\"C1\")\n",
    "\n",
    "_ = plt.legend(\n",
    "    [cols_distrib, l1, cols_bootstrap, l4, l2],\n",
    "    [\"Distribuição original\", \"Média real\", \"Distribuição da média\", \"Média calculada\", \"IC de 90% da média\"],\n",
    ")"
   ]
  },
  {
   "cell_type": "markdown",
   "id": "c1631bee-61a5-4e74-8411-c08197ffd22a",
   "metadata": {},
   "source": [
    "Surpreendente como o valor estimado é próximo ao valor real, não é? Eu fiquei muito surpreso quando me deparei com essa técnica pela primeira vez. Dizem que essa é a maneira preferida de fazer estatística por \"aqueles que não sabem estatística\". Sinceramente, isso é muito mais simples de fazer e lembrar que decorar as fórmulas, p.e., de distribuição *t* e comparações de médias. "
   ]
  },
  {
   "cell_type": "markdown",
   "id": "7c9ba060-08ab-4010-9f88-9638cf33605d",
   "metadata": {},
   "source": [
    "### Máscaras, indexação avançada"
   ]
  },
  {
   "cell_type": "markdown",
   "id": "f2598ca9-6ccd-4801-bdeb-b6f7ee1e1188",
   "metadata": {},
   "source": [
    "Quando temos arrays contendo dados experimentais, pode ser útil tratar parte desses dados de formas diferentes. Podemos utilizar máscaras para trabalhar com partes diferentes de uma image. Uma máscara é um *array* com o mesmo formato de outro *array*, contendo somente booleanos.\n",
    "\n",
    "Por exemplo, quando temos uma imagem em escala de cinza, podemos realizar uma segmentação dessa imagem pela intensidade dos pixels utilizando um valor de *threshold*. Para isso, criamos uma máscara e aplicamos essa máscara ao *array*, alterando-o. Aqui, irei utilizar uma gaussiana 2D para simular alguns objetos em um *array*, e depois segmentá-los com base na intensidade do pixel. Irei mostrar os resultados utilizando a função `plt.imshow` e `plt.contour`, que serve para mostrar *arrays* como se fossem imagens e linhas de contorno. \n",
    "\n",
    "Uma possível definição para a gaussiana 2D está a seguir. Iremos simplificá-la, presumindo que a matriz de covariância não possui termos fora da diagonal.\n",
    "\n",
    "$$\n",
    "y = A \\cdot \\exp{\\left(-\\left(\n",
    "        \\frac{\\left(x - \\mu_x\\right)^2}{2 \\sigma_x ^ 2} +\n",
    "        \\frac{\\left(y - \\mu_y\\right)^2}{2 \\sigma_y ^ 2}\n",
    "    \\right)\\right)\n",
    "}\n",
    "$$\n",
    "\n",
    "Essa gaussiana 2D aceita as coordenadas de `x` e `y` e calcula uma altura para este par de coordenadas. Se fornecessemos uma matriz com pares de coordenadas, teríamos tecnicamente uma matriz de 3 dimensões, como esta:\n",
    "\n",
    "$$\n",
    "\\begin{pmatrix}\n",
    "    \\left( 0,0 \\right) & \\left( 1,0\\right) & \\left( 2,0\\right) \\\\\n",
    "    \\left( 0,1\\right) & \\left( 1,1\\right) & \\left( 2,1\\right) \\\\\n",
    "    \\left( 0,2\\right) & \\left( 1,2\\right) & \\left( 2,2\\right) \\\\\n",
    "\\end{pmatrix}\n",
    "$$\n",
    "\n",
    "Quando utilizarmos essa função, teríamos que separar `x` e `y` ao calcular a gaussiana 2D. O exemplo a seguir faz justamente isso."
   ]
  },
  {
   "cell_type": "code",
   "execution_count": 43,
   "id": "a1747dbd-75be-490b-8e53-ba967928351b",
   "metadata": {},
   "outputs": [],
   "source": [
    "def gauss_2d_v1(arr, A, centro_xy, sigma_xy):\n",
    "    return A * np.exp(\n",
    "        -(\n",
    "            ((arr[:, :, 0] - centro_xy[0]) ** 2 / (2 * sigma_xy[0] ** 2))\n",
    "            + ((arr[:, :, 1] - centro_xy[1]) ** 2 / (2 * sigma_xy[1] ** 2))\n",
    "        )\n",
    "    )"
   ]
  },
  {
   "cell_type": "markdown",
   "id": "4158cf3c-c8fa-4ab5-a0d9-8873ad68bc32",
   "metadata": {},
   "source": [
    "Porém, podemos fornecer duas matrizes 2D, cada uma contendo um \"plano\" da matriz original ou, em outras palavras, uma matriz contendo somente as coordenadas de `x`, que chamaremos de `xx` e outra só com as coordenadas de `y`, que chamaremos de `yy`.\n",
    "\n",
    "$$\n",
    "xx = \n",
    "\\begin{pmatrix}\n",
    "     0 &  1 &  2 \\\\\n",
    "     0 &  1 &  2 \\\\\n",
    "     0 &  1 &  2 \\\\\n",
    "\\end{pmatrix}\n",
    "$$\n",
    "\n",
    "e\n",
    "\n",
    "$$\n",
    "yy = \n",
    "\\begin{pmatrix}\n",
    "     0 & 0 &  0 \\\\\n",
    "     1 &  1 &  1 \\\\\n",
    "     2 &  2 &  2 \\\\\n",
    "\\end{pmatrix}\n",
    "$$\n",
    "\n"
   ]
  },
  {
   "cell_type": "code",
   "execution_count": 44,
   "id": "205cd13b-da9d-4de5-adc6-bd6a82f6fb01",
   "metadata": {},
   "outputs": [],
   "source": [
    "def gauss_2d_v2(xx, yy, A, centro_xy, sigma_xy):\n",
    "    return A * np.exp(\n",
    "        -(((xx - centro_xy[0]) ** 2 / (2 * sigma_xy[0] ** 2)) + ((yy - centro_xy[1]) ** 2 / (2 * sigma_xy[1] ** 2)))\n",
    "    )"
   ]
  },
  {
   "cell_type": "markdown",
   "id": "27bfd326-6235-4264-a8a9-c132ec859b27",
   "metadata": {},
   "source": [
    "Note que `xx` e `yy` possuem bastante informação redundante. Em `xx`, todas as colunas são iguais e em `yy`, todas as linhas são iguais. Poderíamos especificar `xx` e `yy` como um vetor que se repete algumas vezes, chamados `x` e `y`. Felizmente, a função `np.meshgrid` nos ajuda a fazer isso. Veja os seguinte exemplo:\n"
   ]
  },
  {
   "cell_type": "code",
   "execution_count": 45,
   "id": "aee1ca35-6a09-4204-aa20-4d10812ff9ae",
   "metadata": {},
   "outputs": [
    {
     "name": "stdout",
     "output_type": "stream",
     "text": [
      "[[0 1 2]\n",
      " [0 1 2]\n",
      " [0 1 2]] \n",
      "\n",
      " [[0 0 0]\n",
      " [1 1 1]\n",
      " [2 2 2]]\n"
     ]
    }
   ],
   "source": [
    "x = np.arange(3)\n",
    "y = np.arange(3)\n",
    "xx, yy = np.meshgrid(x, y)\n",
    "print(xx, \"\\n\\n\", yy)"
   ]
  },
  {
   "cell_type": "markdown",
   "id": "3856dfd6-17ae-43e9-9678-b28285725d10",
   "metadata": {},
   "source": [
    "Aqui conseguimos definir `xx` e `yy` partindo de algo bem simples. Se quisermos chegar à matriz que mencionamos inicialmente, podemos utilizar `np.dstack`, que empilha dois `arrays` na terceira dimensão."
   ]
  },
  {
   "cell_type": "code",
   "execution_count": 46,
   "id": "a08cfda9-2f6b-4309-9ece-e3da76282d70",
   "metadata": {},
   "outputs": [
    {
     "name": "stdout",
     "output_type": "stream",
     "text": [
      "[[[0 0]\n",
      "  [1 0]\n",
      "  [2 0]]\n",
      "\n",
      " [[0 1]\n",
      "  [1 1]\n",
      "  [2 1]]\n",
      "\n",
      " [[0 2]\n",
      "  [1 2]\n",
      "  [2 2]]]\n",
      "\n",
      "[[0 1 2]\n",
      " [0 1 2]\n",
      " [0 1 2]] \n",
      "\n",
      " [[0 0 0]\n",
      " [1 1 1]\n",
      " [2 2 2]]\n"
     ]
    }
   ],
   "source": [
    "xxyy = np.dstack((xx, yy))\n",
    "print(xxyy)\n",
    "print()\n",
    "print(xxyy[:, :, 0], \"\\n\\n\", xxyy[:, :, 1])"
   ]
  },
  {
   "cell_type": "markdown",
   "id": "ba1af068-5ea9-43b5-ae09-abc393f8fd7f",
   "metadata": {},
   "source": [
    "Eu pessoalmente acho meio confusa a notação para mostrar a matriz 3D, mas veja que ela obedece os pares de números definidos acima, linha a linha.\n",
    "\n",
    "Munidos agora desse conhecimento, vamos primeiramente criar uma matriz `z`, que contém duas gaussianas, a partir das matrizes `xx` e `yy` que tem valores que vão de 0 a 5."
   ]
  },
  {
   "cell_type": "code",
   "execution_count": 47,
   "id": "fe505136-4465-4427-a786-5363b6375e9a",
   "metadata": {},
   "outputs": [
    {
     "ename": "NameError",
     "evalue": "name 'gauss_2d_simplif' is not defined",
     "output_type": "error",
     "traceback": [
      "\u001b[1;31m---------------------------------------------------------------------------\u001b[0m",
      "\u001b[1;31mNameError\u001b[0m                                 Traceback (most recent call last)",
      "Cell \u001b[1;32mIn[47], line 4\u001b[0m\n\u001b[0;32m      2\u001b[0m y \u001b[38;5;241m=\u001b[39m np\u001b[38;5;241m.\u001b[39mlinspace(\u001b[38;5;241m0\u001b[39m, \u001b[38;5;241m5\u001b[39m, num\u001b[38;5;241m=\u001b[39m\u001b[38;5;241m500\u001b[39m)\n\u001b[0;32m      3\u001b[0m xx, yy \u001b[38;5;241m=\u001b[39m np\u001b[38;5;241m.\u001b[39mmeshgrid(x, y)\n\u001b[1;32m----> 4\u001b[0m z \u001b[38;5;241m=\u001b[39m \u001b[43mgauss_2d_simplif\u001b[49m(xx, yy, \u001b[38;5;241m1\u001b[39m, (\u001b[38;5;241m1\u001b[39m, \u001b[38;5;241m1\u001b[39m), (\u001b[38;5;241m0.5\u001b[39m, \u001b[38;5;241m0.5\u001b[39m)) \u001b[38;5;241m+\u001b[39m gauss_2d_simplif(xx, yy, \u001b[38;5;241m1\u001b[39m, (\u001b[38;5;241m3\u001b[39m, \u001b[38;5;241m3\u001b[39m), (\u001b[38;5;241m0.5\u001b[39m, \u001b[38;5;241m0.5\u001b[39m))\n",
      "\u001b[1;31mNameError\u001b[0m: name 'gauss_2d_simplif' is not defined"
     ]
    }
   ],
   "source": [
    "x = np.linspace(0, 5, num=500)\n",
    "y = np.linspace(0, 5, num=500)\n",
    "xx, yy = np.meshgrid(x, y)\n",
    "z = gauss_2d_simplif(xx, yy, 1, (1, 1), (0.5, 0.5)) + gauss_2d_simplif(xx, yy, 1, (3, 3), (0.5, 0.5))"
   ]
  },
  {
   "cell_type": "markdown",
   "id": "a50dca8f-7bcc-4fde-bfe5-ad11beba1e85",
   "metadata": {},
   "source": [
    "Devemos ter essas gaussianas, uma com centro de (1, 1) e outra com centro em (3, 3). Vamos ver o resultado."
   ]
  },
  {
   "cell_type": "code",
   "execution_count": null,
   "id": "07346009-cff2-4dd6-b3eb-129326d7496e",
   "metadata": {},
   "outputs": [],
   "source": [
    "plt.figure(figsize=(4, 4))\n",
    "plt.contour(xx, yy, z)"
   ]
  },
  {
   "cell_type": "markdown",
   "id": "1100ae4b-e615-4500-a3c8-5a9eb80274d1",
   "metadata": {},
   "source": [
    "De fato conseguimos ver isso bem claramente nesta imagem. Se quisermos observar essa matriz como se fosse uma fotografia, podemos utilizar `plt.imshow`. Note, porém, que a origem do sistema de coordenada de matrizes e imagens geralmente é diferente. Matrizes iniciam no canto superior esquerdo e imagens no canto inferior esquerdo. Por essa razão, precisamos passar o *kwarg* `origin='lower'` para `plt.imshow`."
   ]
  },
  {
   "cell_type": "code",
   "execution_count": null,
   "id": "60e84735-8957-4b39-936d-4f7ea5d34719",
   "metadata": {},
   "outputs": [],
   "source": [
    "plt.figure(figsize=(4, 4))\n",
    "plt.imshow(z, origin=\"lower\", cmap=\"gray\")"
   ]
  },
  {
   "cell_type": "markdown",
   "id": "87ce429f-774c-4081-ad17-87f37ee9401d",
   "metadata": {},
   "source": [
    "Os eixos, desta vez, se referem ao número de pontos. Como criamos `x` e `y` com 500 pontos cada, os eixos acabam indo de 0 a 500. Também passei o mapa de cor `cmap` de escala de cinza, `gray`. Podemos inclusive combinar ambas essas imagens. Dessa vez, vamos utilizar a primeira função que definimos."
   ]
  },
  {
   "cell_type": "code",
   "execution_count": null,
   "id": "30d5952d-ebdd-4468-87ea-ca9b52513803",
   "metadata": {},
   "outputs": [],
   "source": [
    "x = np.linspace(0, 5, num=500)\n",
    "y = np.linspace(0, 5, num=500)\n",
    "xx, yy = np.meshgrid(x, y)\n",
    "xxyy = np.dstack((xx, yy))\n",
    "z = gauss_2d_v1(xxyy, 1, (1, 1), (0.5, 0.5)) + gauss_2d_v1(xxyy, 1, (3, 3), (0.5, 0.5))\n",
    "\n",
    "plt.figure(figsize=(4, 4))\n",
    "plt.contour(z, origin=\"lower\")\n",
    "plt.imshow(z, origin=\"lower\", cmap=\"gray\")\n",
    "plt.xticks([])\n",
    "plt.yticks([])"
   ]
  },
  {
   "cell_type": "markdown",
   "id": "b620aee0-4693-4ce7-bc0f-141a3256c9ae",
   "metadata": {},
   "source": [
    "Aqui, eu tirei os `ticks`, porque não carregam muita informação relevante.\n",
    "\n",
    "Tendo isso, vamos criar uma imagem simulando um agrupamento de nanopartículas visualizadas por alguma técnica de microscopia. Para isso, vamos aleatorizar a posição delas e depois adicionar um ruído aleatório. Tal ruído será restringido somente a valores positivos com a função `np.clip`. Por último, irei reescalar essa imagem para se aproximar ao que é tipicamente utilizado no processamento de imagens, que é uma imagem de números entre 0 e 255 (8 bits)."
   ]
  },
  {
   "cell_type": "code",
   "execution_count": null,
   "id": "adae8ebd-1309-46e8-82ab-a0016b2c5f62",
   "metadata": {},
   "outputs": [],
   "source": [
    "np.random.seed(0)\n",
    "num_particulas = 10\n",
    "num_pontos = 500\n",
    "min_vals = 0\n",
    "max_vals = 5\n",
    "raio = 0.15\n",
    "x = np.linspace(min_vals, max_vals, num=num_pontos)\n",
    "y = np.linspace(min_vals, max_vals, num=num_pontos)\n",
    "xx, yy = np.meshgrid(x, y)\n",
    "z = np.zeros_like(xx)\n",
    "\n",
    "for _ in range(num_particulas):\n",
    "    part = gauss_2d_v2(xx, yy, 1, (np.random.random() * max_vals, np.random.random() * max_vals), (0.15, 0.15))\n",
    "    z += part\n",
    "\n",
    "z += np.clip(np.random.normal(0, 0.15, size=z.shape), 0, np.inf)\n",
    "\n",
    "z = (z / z.max() * 200).astype(np.uint8)\n",
    "\n",
    "plt.imshow(z)\n",
    "plt.xticks([])\n",
    "plt.yticks([])"
   ]
  },
  {
   "cell_type": "markdown",
   "id": "6d15ed25-339b-4703-baa1-dc2f251fe0b2",
   "metadata": {},
   "source": [
    "Você pode ver que não existe um limite muito bem definido entre partícula e fundo. Separá-los é complicado. Esse é um problema bastante grande na área de processamento de imagens, mas aqui iremos fazer isso de maneira bastante simplificada. Primeiro, vamos ter uma ideia da concentração de valores de pixel para podermos decidir melhor sobre um valor de limite (*threshold*). Para isso, basta calcularmos um histograma da imagem."
   ]
  },
  {
   "cell_type": "code",
   "execution_count": null,
   "id": "03a748f3-65ca-4130-bb66-227c18419c8b",
   "metadata": {},
   "outputs": [],
   "source": [
    "_ = plt.hist(z.ravel(), bins=256, density=True)"
   ]
  },
  {
   "cell_type": "markdown",
   "id": "b23a2648-6c41-4b0c-a3fb-d5ec03480b42",
   "metadata": {},
   "source": [
    "Vamos ver o que ocorre se seccionarmos com o valor de 75. Para isso, criamos a máscara."
   ]
  },
  {
   "cell_type": "code",
   "execution_count": null,
   "id": "2face609-b354-40e2-92d4-24a3e2fce473",
   "metadata": {},
   "outputs": [],
   "source": [
    "mascara = z > 75\n",
    "\n",
    "plt.imshow(mascara)"
   ]
  },
  {
   "cell_type": "markdown",
   "id": "9031a164-1095-4cd8-b5f8-3f6c10c730a2",
   "metadata": {},
   "source": [
    "Podemos remover os pontos pequenos se fizermos uma operação de erosão. Para isso, vamos passar uma matriz "
   ]
  },
  {
   "cell_type": "code",
   "execution_count": null,
   "id": "2e58869c-64c8-43a7-a305-070722e7e26c",
   "metadata": {},
   "outputs": [],
   "source": [
    "import scipy.ndimage"
   ]
  },
  {
   "cell_type": "code",
   "execution_count": null,
   "id": "6af30ba8-2ddf-46ef-a55e-ff1a778c0db0",
   "metadata": {},
   "outputs": [],
   "source": [
    "mascara_limpa = scipy.ndimage.binary_opening(mascara, iterations=3)\n",
    "plt.imshow(mascara_limpa)"
   ]
  },
  {
   "cell_type": "code",
   "execution_count": null,
   "id": "7b9c461c-59c6-4895-8900-a7eb262da250",
   "metadata": {},
   "outputs": [],
   "source": [
    "labels, num_particulas = scipy.ndimage.label(mascara_limpa)\n",
    "plt.imshow(labels)\n",
    "print(num_particulas)\n",
    "print(\n",
    "    \"Áreas:\", list(mascara_limpa[*obj].sum() for obj in scipy.ndimage.find_objects(labels))\n",
    ")  # TODO: descrever esta etapa melhor"
   ]
  },
  {
   "cell_type": "markdown",
   "id": "91bb7c58-769e-4a69-bc1c-02bdd46aca93",
   "metadata": {},
   "source": [
    "### Mudança de ordem\n",
    "\n",
    "* flip\n",
    "* flipud\n",
    "* fliplr\n",
    "* Python reversed\n",
    "* sort\n",
    "* argsort\n"
   ]
  },
  {
   "cell_type": "code",
   "execution_count": null,
   "id": "07b3d94f-c7a2-447c-8894-ceb38d46d416",
   "metadata": {},
   "outputs": [],
   "source": []
  },
  {
   "cell_type": "markdown",
   "id": "af46f534-aafd-434b-ad68-6bc5e5d42a54",
   "metadata": {},
   "source": [
    "### Seccionamento\n",
    "\n",
    "* where\n",
    "* partition"
   ]
  },
  {
   "cell_type": "code",
   "execution_count": null,
   "id": "17e6a44c-b55b-4031-b466-fd454eb788f4",
   "metadata": {},
   "outputs": [],
   "source": []
  },
  {
   "cell_type": "markdown",
   "id": "bae05dd8-4cbc-42d9-9961-6e8cd6ae1443",
   "metadata": {},
   "source": [
    "### Álgebra linear\n",
    "\n",
    "TODO: revisar fórmulas\n",
    "$$\n",
    "y = bX\n",
    "$$\n",
    "\n",
    "$$\n",
    "b = (X^TX)^{-1}X^Ty\n",
    "$$"
   ]
  },
  {
   "cell_type": "code",
   "execution_count": null,
   "id": "5e27da75-d564-451d-82f8-c1709d38b6ae",
   "metadata": {},
   "outputs": [],
   "source": [
    "x = np.linspace(0, 10)\n",
    "y_real = 2 * x + 1\n",
    "y_ruido = np.random.normal(scale=1, size=y_real.size) + y_real\n",
    "\n",
    "X = np.column_stack([np.ones_like(y_ruido), x])\n",
    "b = np.linalg.inv(X.T @ X) @ X.T @ y_ruido\n",
    "\n",
    "plt.plot(x, y_real, label=\"y real\")\n",
    "plt.plot(x, y_ruido, label='y \"medido\"')\n",
    "plt.plot(x, X @ b, label=\"ajuste\", ls=\"--\")\n",
    "plt.legend()"
   ]
  },
  {
   "cell_type": "markdown",
   "id": "f7b50ac7-c7ed-4378-bbba-cd6ef0521750",
   "metadata": {},
   "source": [
    "### Exportação\n",
    "\n",
    "* save"
   ]
  },
  {
   "cell_type": "code",
   "execution_count": null,
   "id": "38020aac38e1512a",
   "metadata": {
    "collapsed": false,
    "jupyter": {
     "outputs_hidden": false
    }
   },
   "outputs": [],
   "source": [
    "np.lookfor(\"singular value decomposition\")"
   ]
  },
  {
   "cell_type": "markdown",
   "id": "f5763af2-b8cb-48b6-b40c-ae2d3d2c305a",
   "metadata": {},
   "source": [
    "Para criar uma legenda com marcadores específicos, você pode fornecer uma lista de *handles* e outra de *labels*. Os *handles* podem vir de comandos de plotagem, ou da criação de artistas diretamente, não relacionados diretamente com a figura em si."
   ]
  },
  {
   "cell_type": "code",
   "execution_count": null,
   "id": "7b090a8d-6882-4797-adc6-19038e3e9917",
   "metadata": {},
   "outputs": [],
   "source": [
    "x = np.linspace(0, 100, num=1000)\n",
    "y1 = np.exp(-x / 15)\n",
    "y2 = np.sin(x)\n",
    "y = y1 * y2\n",
    "\n",
    "fig, ax = plt.subplots()\n",
    "\n",
    "l_total = ax.plot(x, y)\n",
    "l_exp = ax.plot(x, y1, ls=\":\", lw=1)\n",
    "l_seno = ax.plot(x, y2, ls=\":\", lw=1)\n",
    "scatter = ax.scatter(\n",
    "    [x[np.argmax(y)], x[np.argmin(y)], x[78]],\n",
    "    [np.max(y), np.min(y), y[78]],\n",
    "    c=[\"C1\", \"C2\", \"C3\"],\n",
    "    zorder=2,\n",
    ")\n",
    "\n",
    "# Criação de artistas Line2D, que precisam de uma lista de X e Y, mas que\n",
    "# não afetará em nada o resultado.\n",
    "from matplotlib.lines import Line2D\n",
    "\n",
    "l1 = Line2D([0], [0], marker=\"o\", c=\"C1\", lw=0)\n",
    "l2 = Line2D([0], [0], marker=\"o\", c=\"C2\", lw=0)\n",
    "l3 = Line2D([0], [0], marker=\"o\", c=\"C3\", lw=0)\n",
    "\n",
    "ax.legend(\n",
    "    [l_total[0], l_exp[0], l_seno[0], l1, l2, l3],\n",
    "    [\n",
    "        \"Seno amortecido\",\n",
    "        \"Amortecimento\",\n",
    "        \"Seno\",\n",
    "        \"Primeiro máximo\",\n",
    "        \"Primeiro mínimo\",\n",
    "        \"Segundo máximo\",\n",
    "    ],\n",
    ")"
   ]
  },
  {
   "cell_type": "code",
   "execution_count": null,
   "id": "cfee2abf-ac31-46ad-8d44-c6cdee99e4c5",
   "metadata": {},
   "outputs": [],
   "source": []
  }
 ],
 "metadata": {
  "kernelspec": {
   "display_name": "cursopython",
   "language": "python",
   "name": "cursopython"
  },
  "language_info": {
   "codemirror_mode": {
    "name": "ipython",
    "version": 3
   },
   "file_extension": ".py",
   "mimetype": "text/x-python",
   "name": "python",
   "nbconvert_exporter": "python",
   "pygments_lexer": "ipython3",
   "version": "3.11.3"
  }
 },
 "nbformat": 4,
 "nbformat_minor": 5
}
