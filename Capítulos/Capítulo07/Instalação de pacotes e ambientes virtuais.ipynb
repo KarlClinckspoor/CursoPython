{
 "cells": [
  {
   "cell_type": "markdown",
   "id": "4be055ec-2d7e-4a74-8f10-121d705444cf",
   "metadata": {
    "editable": true,
    "slideshow": {
     "slide_type": ""
    },
    "tags": []
   },
   "source": [
    "# Instalação de pacotes, ambientes virtuais e reprodutibilidade\n",
    "\n",
    "## Instalação de pacotes com `pip`\n",
    "\n",
    "Além da biblioteca padrão, há muitas outras bibliotecas disponíveis. Os pacotes de Python são geralmente indexados no [PyPI, *Python Package Index*](https://pypi.org/), e podem ser instalados com o comando `pip`, que significa *pip installs packages*. Isso deve ser feito no terminal, pois `pip` é um executável, assim como `python`. A documentação oficial se encontra [aqui](https://pip.pypa.io/en/stable/index.html).\n",
    "\n",
    "Existe uma maneira de se instalar pacotes via jupyter notebook, que serve numa emergência, mas este não deveria ser seu método principal. Irei mostrar isso depois.\n",
    "\n",
    "Para instalar um pacote, você deve utilizar `pip install pacote` ou `python -m pip install pacote`. Por padrão, a versão mais recente é utilizada, mas se você quiser especificar uma versão, utilize a sintaxe `pacote==1.2.3`, onde `1.2.3` é o número da versão, ou `pacote>=1.2.3` para instalar qualquer coisa depois ou igual à versão `1.2.3`.\n",
    "\n",
    "Para desinstalar um pacote, podemos utilizar `pip uninstall pacote` ou `python -m pip uninstall pacote`.\n",
    "\n",
    "Mais nomes de pacotes podem ser colocados um atrás do outro e serão instalados/desinstalados em sequência, junto com todas as dependências dos mesmos.\n",
    "\n",
    "Existe uma sutil diferença entre `pip` e `python -m pip`, que pode muitas vezes ser totalmente irrelevante. O primeiro executa `pip` que está em seu PATH, e este `pip` pode se referenciar a um executável Python que você não tem total certeza[^1]. O segundo executa `pip` do interpretador `python` especificado. Nesse caso, também é aquele em PATH, mas você poderia fornecer o caminho completo à esse executável. Em suma, se você estiver com tudo em ordem, ambos os comandos são idênticos, mas em certas situações é possível que exista uma diferença.\n",
    "\n",
    "Se você quiser instalar um pacote através de um ambiente jupyter lab/notebook, utilize isto:\n",
    "\n",
    "```python\n",
    "import sys\n",
    "!{sys.executable} -m pip install pacote\n",
    "```\n",
    "\n",
    "A primeira parte deste comando, `!{sys.executable}` é um *magic command*. O `!{}` especifica que um comando deve ser rodado no terminal e `sys.executable` fornece o caminho ao executável Python. O restante da linha é igual ao esperado. Podemos até rodar um comando em Python dentro deste interpretador ipython. Veja:\n",
    "\n",
    "[^1]: Para saber onde um executável está, num ambiente Windows, pode utilizar `where.exe pip`. "
   ]
  },
  {
   "cell_type": "code",
   "execution_count": 1,
   "id": "59714154-721e-4d21-bcca-62161bf35296",
   "metadata": {},
   "outputs": [
    {
     "name": "stdout",
     "output_type": "stream",
     "text": [
      "Hello world!\n"
     ]
    }
   ],
   "source": [
    "import sys\n",
    "\n",
    "!{sys.executable} -c \"print('Hello world!')\""
   ]
  },
  {
   "cell_type": "markdown",
   "id": "23191529-1e35-4371-a500-c0755d2816f3",
   "metadata": {},
   "source": [
    "Aqui, `-c` significa \"execute este código\"."
   ]
  },
  {
   "cell_type": "markdown",
   "id": "d362703b-e1e5-4c57-97d3-439ac63089ac",
   "metadata": {},
   "source": [
    "Ou podemos usar um comando `magic`, `%pip`, como `%pip install (pacote)`. Em suma isso faz o mesmo que o código acima."
   ]
  },
  {
   "cell_type": "markdown",
   "id": "b9019b4e-3868-441d-a562-1baeafda6184",
   "metadata": {},
   "source": [
    "## `requirements.txt` e versões\n",
    "\n",
    "A instalação de muitos pacotes de uma vez pode ser tedioso. O mais fácil é colocar todos eles em um arquivo chamado `requirements.txt`, compartilhá-lo, e depois instalar tudo via `pip install -r requirements.txt`. Uma maneira de criar esse arquivo é via `pip freeze > requirements.txt`. \n",
    "De forma geral, não gosto muito dos arquivos gerados por esse comando, e prefiro criar um arquivo `requirements.txt` manualmente. As especificações do formato desse arquivo se encontram [aqui](https://pip.pypa.io/en/stable/reference/requirements-file-format/). Em suma, em cada linha você coloca o nome do pacote, pode especificar a versão com `==`, pode referenciar outros arquivos com `-r nome.txt` e restrições com `-c nome.txt`."
   ]
  },
  {
   "cell_type": "markdown",
   "id": "23eadfe3-7413-4d17-b115-01ccf1ec6739",
   "metadata": {},
   "source": [
    "Você deve se lembrar que eu pedi para rodar um comando `pip` para instalar tudo necessário para seguir este material. O arquivo se encontra na raiz, e você deve ter notado que existem 2 versões, `requirements.txt` e `requirements-dev.txt`. O primeiro são os pacotes necessários para seguir tudo e o segundo são os pacotes adicionais para desenvolvimento. Idealmente você deve especificar as versões, tanto de Python quanto dos pacotes que você está utilizando.\n",
    "\n",
    "Um exemplo prático que ocorreu comigo. Uma vez me deram uma biblioteca escrita em Python e me pediram para fazer funcionar. Eu comecei a explorar e notei algumas características estranhas no código. Era tudo Python 2.8! Dado isso e a data de modificação dos arquivos, eu tinha que adivinhar quais seriam as versões dos pacotes disponíveis na época que o código foi escrito, encontrá-las, e testar a compatibilidade. Eu acabei desistindo porque muitos pacotes não guardavam mais todas as versões antigas e não seria trivial testar se versões mais recentes seriam compatíveis, pois eu não sabia como o programa deveria funcionar pra início de conversa. Caso as versões tivessem sido especificadas, grande parte do problema seria resolvido, e eu poderia ter pedido em algum lugar pelas versões que queria."
   ]
  },
  {
   "cell_type": "markdown",
   "id": "247d751d-c47c-4072-8f99-e32d80dcb254",
   "metadata": {},
   "source": [
    "## Ambientes virtuais\n",
    "\n",
    "Imagine que você está trabalhando em um projeto, e um amigo pede ajuda a você com o projeto dele. Você tenta executar o código, mas não consegue reproduzir a mensagem de erro dele. De fato, aparece outra mensagem, ou não aparece nenhuma, mas o programa não faz o esperado. Vocês passam um bom tempo tentando descobrir o culpado e descobrem que vocês estão usando versões diferentes de vários pacotes. Como vocês se assegurariam que os problemas encontrados não são oriundos de versões diferentes de pacotes? Você atualizaria os seus, correndo o risco dos seus programas não funcionarem mais? Quanto tempo foi gasto neste exercício fútil, enquanto o problema real nem começou a ser abordado? Por esses e outros motivos foram criados ambientes virtuais.\n",
    "\n",
    "Infelizmente, existem muitas ferramentas competidoras e diferentes para a gestão de ambientes virtuais, tornando o processo desnecessariamente complexo. Esta é uma lista não exaustiva das ferramentas para gerenciar ambientes virtuais (e outras funções):\n",
    "\n",
    "* [`venv`](https://docs.python.org/3/library/venv.html), único embutido em Python.\n",
    "* [`virtualenv`](https://virtualenv.pypa.io/en/latest/), similar a `venv`, mas com algumas funcionalidades extras.\n",
    "* [`virtualenvwrapper`](https://virtualenvwrapper.readthedocs.io/en/latest/), que fornece scripts para tornar `virtualenv` um pouco mais conveniente.\n",
    "* [`pipenv`](https://github.com/pypa/pipenv)\n",
    "* [`pyenv`](https://github.com/pyenv/pyenv)\n",
    "* [`poetry`](https://python-poetry.org/), que também tem funcionalidade para empacotamento de projetos. Aparentemente não tem uma boa compatibilidade com pacotes científicos no momento, então não o recomendo. \n",
    "* [`conda`](https://docs.conda.io/en/latest/), que tem ambientes virtuais (*conda-envs*), mas também faz o gerenciamento de pacotes desses ambientes (ao invés de utilizar `pip`). Pode instalar pacotes python, outras versões de python e também pacotes em outras línguas, como `npm` e compiladores. Porém, é *extremamente* lento, tem vezes que você cria um ambiente, transfere as características para outra pessoa, e ela não consegue criar o mesmo ambiente.\n",
    "* [`mamba`](https://mamba.readthedocs.io/en/latest/), que é similar a `conda`, mas promete ser mais rápido e flexível.\n",
    "\n",
    "Dependendo de muitas variáveis, a instalação de pacotes que precisam de extensões em outras linguagens, como Fortran, C, C++ (muitas vezes os pacotes científicos), pode falhar em computadores Windows. Eu pessoalmente não tive esse problema ao testar este material, que foi instalado com `pip` em um ambiente `conda`. Mas fique avisado que esse tipo de problema *pode* ser resolvido se você trocar de `pip` para `conda`.\n",
    "\n",
    "Neste texto eu irei abordar `venv` e `conda`, que são os que tenho mais experiência. \n",
    "\n",
    "O que um ambiente virtual faz, em essência, é criar uma pasta, colocar pacotes e/ou executáveis, depois manipular variáveis de ambiente para fazer com que o seu sistema \"enxergue\" essa pasta como sendo a única instalação de Python do sistema. Essa cópia é o ambiente virtual.\n",
    "\n",
    "`venv` possui um executável base e ambientes virtuais apontam para uma pasta contendo os pacotes. Logo, não é possível ter versões diferentes de executáveis (p.e. Python 2.7 para projetos antigos, Python 3.11 para projetos mais novos, etc). Já `conda` cria uma cópia de tudo, executável incluso, permitindo que você tenha versões diferentes.\n",
    "\n",
    "Vale notar que ambientes virtuais não são transferíveis para outros, pois dependem de muitos caminhos absolutos em seu sistema, aumentando a relevância de arquivos de configuração."
   ]
  },
  {
   "cell_type": "markdown",
   "id": "e21d97a1-c095-40c9-88ca-a34fceeb2758",
   "metadata": {},
   "source": [
    "### `venv`\n",
    "\n",
    "Para criar um ambiente virtual com `venv`, utilize este comando: `python -m venv (caminho)`. Geralmente, `caminho` é `.venv`, mas você pode especificar o que quiser. Entre nessa pasta (`cd .venv`), e você verá que existem duas pastas e um arquivo `pyenv.cfg`. A primeira linha contém a pasta onde seu executável `python.exe` se encontra, depois é uma linha com a opção de incluir pacotes da distribuição base, e por fim a versão do executável `python.exe`. Na pasta `Scripts` existe uma série de arquivos relacionados à ativação do ambiente virtual. Se você estiver em uma instância Powershell, deve executar o comando `./Activate.ps1`, se estiver em `cmd`, deve executar `activate.bat`. Você pode tentar abrir esses arquivos e estudar o conteúdo deles, mas é um pouco arcano. No caso de `./Activate.ps1`, é possível que você receba uma mensagem de erro sobre permissão para execução. Nesse caso, tente o comando `Set-ExecutionPolicy -ExecutionPolicy RemoteSigned -Scope CurrentUser` e depois tente rodar o script novamente.\n",
    "\n",
    "Se tudo correr certo, o nome do ambiente virtual irá aparecer à esquerda do seu prompt, indicando que tudo que você fizer será em um ambiente virtual. Você pode instalar o que quiser no ambiente e testar problemas. Se quiser sair, digite `deactivate` no terminal, e se quiser remover o ambiente, simplesmente delete a pasta."
   ]
  },
  {
   "cell_type": "markdown",
   "id": "5230ef70-4fc4-435f-be19-3d6084f0dd01",
   "metadata": {},
   "source": [
    "### `conda`\n",
    "\n",
    "`conda` faz mais coisas que gerenciar ambientes virtuais. Pode também instalar pacotes. O comando é similar a `pip`. [Esta é a página](https://docs.conda.io/projects/conda/en/stable/user-guide/tasks/manage-pkgs.html) com a documentação disso. Para instalar um pacote específico, utilize `conda install (nome)`, e você pode especificar a versão com `nome=versão`[^2], e pode instalar mais de um pacote de uma vez. O programa irá checar se o(s) pacote(s) existe(m) e irá checar por incompatibilidades de versão. Esta é, de longe, a etapa mais demorada (já vi demorar mais de uma hora, em casos mais complexos). Por fim, ele instala as versões encontradas e finaliza o comando.\n",
    "\n",
    "Existe uma coisa chamada canais, *channels*, que armazenam pacotes. Várias vezes, se você tentar instalar um pacote via conda, ele irá mandar uma mensagem de erro acusando que o pacote não foi encontrado. Isso ocorre porque o canal padrão não possui esse pacote. Existem vários canais, mas o mais comum é `conda-forge`, que contém muitos pacotes feitos pela comunidade. Se você quiser especificar que um comando utilize um canal, coloque a opção `-c conda-forge`. Por exemplo `conda install -c conda-forge numpy` irá instalar o pacote `numpy` do canal `conda-forge`.\n",
    "\n",
    "Para a criação de ambientes virtuais ([link da página](https://docs.conda.io/projects/conda/en/stable/user-guide/tasks/manage-environments.html)), utilize o comando `conda create -n (nome) (pacote1) (pacote2) ...`. Esse ambiente será criado em uma pasta pré-determinada (que pode ser modificada) e terá os pacotes que você fornecer pré-instalados. Nesta etapa você pode especificar outra versão de Python, por exemplo, com `python=3.11`\n",
    "\n",
    "Depois de criado, pode ativar o ambiente com o comando `conda activate (nome)`, de qualquer lugar. Para desativar, basta usar `conda deactivate`. Com um ambiente ativado, você pode instalar os pacotes com `conda` ou `pip` também, como desejar. [Veja aqui os detalhes de como e quando utilizar `pip`](https://docs.conda.io/projects/conda/en/stable/user-guide/tasks/manage-environments.html#using-pip-in-an-environment)\n",
    "\n",
    "Em conda, existe o conceito de um arquivo de ambiente, muito similar ao *requirements.txt*, o *environment.yml*. Esse arquivo, na linguagem [YAML](https://yaml.org/), possui as seguintes partes:\n",
    "\n",
    "```yaml\n",
    "name: MeuCondaEnv\n",
    "channels:\n",
    "    - defaults\n",
    "    - (mais canais)\n",
    "dependencies:\n",
    "    - nome1=versão\n",
    "    - nome2=versão\n",
    "    - pip\n",
    "    - pip:\n",
    "        - pacotepip=versão\n",
    "        - pacotepip=versão\n",
    "```\n",
    "\n",
    "`conda` trata os pacotes instalados via `pip` de maneira diferente que aqueles instalados via `conda`, e precisam ser especifidados em sua própria seção. As versões são opcionais e os canais habituais são `defaults` e `conda-forge`.\n",
    "\n",
    "Você pode criar o `environment.yml` do seu ambiente o comando `conda env export > environment.yml` ou `conda env export --from-history > environment.yml`. O segundo difere no primeiro pois lista somente os pacotes que você especificou na instalação e não as dependências deles que são calculadas.\n",
    "\n",
    "Para criar um ambiente `conda` a partir de `environment.yml`, utilize o comando `conda env create -f environment.yml`.\n",
    "\n",
    "Uma vantagem dos ambientes `conda` é que você pode voltar a uma versão anterior. Para listá-las, utilize `conda list --revisions` e depois `conda install --revision=REVNUM` para voltar à versão especificada.\n",
    "\n",
    "Para remover um ambiente, utilize o comando `conda remove --name nome --all`, e para listar todos os ambientes existentes, utilize `conda info --envs`.\n",
    "\n",
    "[^2]: Note que é diferente do *requirements.txt*, onde a igualdade é testada com `==`.\n",
    "\n"
   ]
  },
  {
   "cell_type": "markdown",
   "id": "65df7cce-ecae-4df7-91d4-24e201d74921",
   "metadata": {},
   "source": [
    "## Reprodutividade de resultados e revisão de pares\n",
    "\n",
    "Você pode ter se perguntado porque estou falando desse tema. \"Se eu só vou fazer as minhas análises, não vou compartilhar com ninguém, não preciso me preocupar com reprodutibilidade\". Bem, esta seção é para você.\n",
    "\n",
    "Reprodutibilidade e repetitividade de resultados e conclusões são temas prevalentes na ciência [^3], por boas razões. Pelo menos em minha experiência, o foco sempre foi dado aos métodos empíricos, ou seja, planejamento de experintos e aquisição de dados. A parte de análise dos dados não recebia foco, talvez por geralmente ser relativamente simples, ao ponto de algumas linhas em artigos conseguirem explicar por completo como algo foi feito.\n",
    "\n",
    "Com o passar do tempo, a quantidade de dados e sua variedade cresceu bastante, e a complexidade das análises cresceu em conjunto. Agora, um resultado (tabela, figura) pode depender de várias outras análises, que podem ter suas interdependências também. Um erro pequeno ou distração no início do processo pode afetar todo o resto. Por exemplo, uma distração ou desconhecimento sobre `glob.glob` da biblioteca padrão de Python causou a retração de artigos [(ref)](https://www.i-programmer.info/news/231-methodology/13188-python-script-invalidates-hundreds-of-papers.html).\n",
    "\n",
    "Algumas áreas encorajam o compartilhamento dos dados originais e dos arquivos de tratamento para a revisão de pares, mas isso não é prevalente. Muitos líderes de grupos são resistentes a isso (por experiência própria), achando que isso dará mais trabalho, fará a revisão ser mais lenta, dará informações para grupos competidores ou diminuirá a qualidade do trabalho. Isso é um medo parcialmente enraizado na falta de confiança no trabalho, e numa falha científica - se seus resultados estão incorretos, é melhor você descobrir isso o quanto antes, para parar de compartilhar resultados falsos e aprender como ser melhor.\n",
    "\n",
    "Essa passagem de informação não precisa ser somente entre grupos de pesquisa diferentes. Quantas vezes eu mesmo tive que procurar como uma outra pessoa (ou o meu eu do passado) fez um cálculo ou uma figura e passei horas tentando decifrar planilhas ou fazendo engenharia reversa do resultado. Se você tiver pastas e arquivos com nomes claros, datadas, um bom caderno, com arquivos descrevendo como e em que ordem os scripts, notebooks e ambientes devem ser executados, e onde cada informação está, você deixará um legado muito mais positivo.\n",
    "\n",
    "E para garantir a reprodutibilidade de seus resultados, você precisa que o ambiente de análise também seja reprodutível. Por isso eu trouxe este capítulo sobre ambientes virtuais. Ter uma boa descrição do ambiente utilizado para uma análise é essencial para a prática de boa ciência, com revisão de pares.\n",
    "\n",
    "Eu lhe recomendo dedicar um pouco de sua semana à revisão do seu código e do código de outros, garantindo que todos estejam adotando as melhores práticas, que erros não estejam passando despercebidos ou sendo escondidos. Dedique um tempo para melhorar seu código, com documentação, refatoramento, testes. Isso pode parecer perda de tempo, porque poucas vezes uma série de resultados é revisitada por um grupo, mas isso pode ocorrer, por bons e maus motivos.\n",
    "\n",
    "Como uma última dica, sempre que você finalizar um Jupyter Notebook (ou múltiplas vezes durante uma análise), reinicie o Kernel e rode tudo do zero. Os resultados **precisam** ser iguais. Idealmente seus notebooks devem ser executados do topo à base, nem necessitar de pulos pelas células.\n",
    "\n",
    "Os sites-livro [Turing-Way](https://the-turing-way.netlify.app/index.html) e [Good Research Handbook](https://goodresearch.dev/) contém muito mais informação sobre pesquisa reprodutível, e os recomendos fortemente.\n",
    "\n",
    "[^3]: https://en.wikipedia.org/wiki/Replication_crisis"
   ]
  }
 ],
 "metadata": {
  "kernelspec": {
   "display_name": "cursopython",
   "language": "python",
   "name": "cursopython"
  },
  "language_info": {
   "codemirror_mode": {
    "name": "ipython",
    "version": 3
   },
   "file_extension": ".py",
   "mimetype": "text/x-python",
   "name": "python",
   "nbconvert_exporter": "python",
   "pygments_lexer": "ipython3",
   "version": "3.11.3"
  }
 },
 "nbformat": 4,
 "nbformat_minor": 5
}
