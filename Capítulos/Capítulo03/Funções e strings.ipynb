{
 "cells": [
  {
   "cell_type": "markdown",
   "id": "ad1df9a0-ad26-4c53-93a6-4734ad288391",
   "metadata": {},
   "source": [
    "# Funções e strings\n",
    "\n",
    "Até agora vimos os seguintes tipos:\n",
    "\n",
    "* `int`, representa números inteiros\n",
    "* `float`, representa números com casas depois da vírgula\n",
    "* `complex`, representa números complexos\n",
    "* `bool`, representa valores verdadeiros e falsos.\n",
    "\n",
    "Neste capítulo, veremos mais três tipos:\n",
    "\n",
    "* `str`, representa sequências de caracteres (strings)\n",
    "* `function`, que realizam ações com base em argumentos e retornam valores. Utilizaremos as `str` como referência, pois possuem um conjunto grande de funções.\n",
    "* `None`, que indica a ausência de valor."
   ]
  },
  {
   "cell_type": "markdown",
   "id": "32252a5c-be8c-4494-929c-feff3fb18425",
   "metadata": {},
   "source": [
    "## Strings\n",
    "\n",
    "Strings são variáveis que contém texto. Essas variáveis são criadas colocando texto entre aspas simples `''` ou duplas `\"\"`, e não pode haver uma quebra de linha (um \"Enter\"). Se você utilizar três conjuntos de aspas, aí você pode utilizar quebras de linha sem problemas. Se você utilizar um tipo de aspas, pode utilizar a outra dentro da string. Por exemplo:"
   ]
  },
  {
   "cell_type": "code",
   "execution_count": 1,
   "id": "70b757a9-553c-4b5d-b0f1-050d2fe2766c",
   "metadata": {},
   "outputs": [],
   "source": [
    "nome = \"Karl\"\n",
    "possessivo = \"'s book\"\n",
    "citação = 'e não pode haver uma quebra de linha (um \"Enter\")'\n",
    "texto_longo = \"\"\"Primeiro parágrafo.\n",
    "\n",
    "Segundo parágrafo.\n",
    "\n",
    "Terceiro.\n",
    "\"\"\""
   ]
  },
  {
   "cell_type": "markdown",
   "id": "92629702-452c-43ac-a065-2b2e3d5a7181",
   "metadata": {},
   "source": [
    "Interessantemente, strings aceitam serem somadas com outras strings. Isso é chamado de concatenação."
   ]
  },
  {
   "cell_type": "code",
   "execution_count": 2,
   "id": "5514a253-b5d1-4639-bad2-564c3e4f4e6c",
   "metadata": {},
   "outputs": [
    {
     "data": {
      "text/plain": [
       "\"Karl's book\""
      ]
     },
     "execution_count": 2,
     "metadata": {},
     "output_type": "execute_result"
    }
   ],
   "source": [
    "nome + possessivo"
   ]
  },
  {
   "cell_type": "markdown",
   "id": "0ee5cc51-92ee-49f8-9471-99efd38b1db3",
   "metadata": {},
   "source": [
    "Mas strings não aceitam serem somadas com outras coisas, como números."
   ]
  },
  {
   "cell_type": "code",
   "execution_count": 3,
   "id": "d272865c-137d-4cc8-8d39-edd129b7d128",
   "metadata": {},
   "outputs": [
    {
     "ename": "TypeError",
     "evalue": "can only concatenate str (not \"int\") to str",
     "output_type": "error",
     "traceback": [
      "\u001b[1;31m---------------------------------------------------------------------------\u001b[0m",
      "\u001b[1;31mTypeError\u001b[0m                                 Traceback (most recent call last)",
      "Cell \u001b[1;32mIn[3], line 1\u001b[0m\n\u001b[1;32m----> 1\u001b[0m \u001b[43mpossessivo\u001b[49m\u001b[43m \u001b[49m\u001b[38;5;241;43m+\u001b[39;49m\u001b[43m \u001b[49m\u001b[38;5;241;43m12\u001b[39;49m\n",
      "\u001b[1;31mTypeError\u001b[0m: can only concatenate str (not \"int\") to str"
     ]
    }
   ],
   "source": [
    "possessivo + 12"
   ]
  },
  {
   "cell_type": "markdown",
   "id": "0d23420e-b0db-435f-8701-02cabf1ab553",
   "metadata": {
    "editable": true,
    "slideshow": {
     "slide_type": ""
    },
    "tags": []
   },
   "source": [
    "Tanto que a mensagem de erro fala que somente uma string (`str`) pode ser concatenada a outra `str`. Strings também não aceitam quaisquer outras operações matemáticas, exceto duas: `*` repete uma string:"
   ]
  },
  {
   "cell_type": "code",
   "execution_count": 4,
   "id": "b4edd0dc-4a7f-4e7e-91ab-dbc390d14610",
   "metadata": {
    "editable": true,
    "slideshow": {
     "slide_type": ""
    },
    "tags": []
   },
   "outputs": [
    {
     "data": {
      "text/plain": [
       "'banana'"
      ]
     },
     "execution_count": 4,
     "metadata": {},
     "output_type": "execute_result"
    }
   ],
   "source": [
    "'ba' + 'na' * 2"
   ]
  },
  {
   "attachments": {},
   "cell_type": "markdown",
   "id": "ec8d16c1-7b51-43f1-b98f-4f550a2ae4e0",
   "metadata": {
    "editable": true,
    "slideshow": {
     "slide_type": ""
    },
    "tags": []
   },
   "source": [
    "e `%` aplica uma formatação na string, também chamado de interpolação. Vide o [capítulo extra](sec:format_string_modulo) para maiores informações sobre esse tipo de formatação.\n",
    "\n",
    "### `f-string`s\n",
    "\n",
    "A maneira mais aceita hoje em dia de realizar interpolação de strings é por `f-string`s, também conhecidas por *formatted string literals*. Mais informações podem ser encontradas na [documentação oficial](https://docs.python.org/3/tutorial/inputoutput.html#tut-f-strings).\n",
    "\n",
    "Para criar uma `f-string`, preceda as aspas iniciais por um `f` minúsculo ou maiúsculo. No interior da string, coloque chaves com o valor que você deseja exibir, opcionalmente seguido de códigos formatadores. Aqui, substitua `nome` pelo seu nome, se desejar."
   ]
  },
  {
   "cell_type": "code",
   "execution_count": 5,
   "id": "03688234-19d1-48bd-8a5d-503af66fd18d",
   "metadata": {
    "editable": true,
    "slideshow": {
     "slide_type": ""
    },
    "tags": []
   },
   "outputs": [
    {
     "data": {
      "text/plain": [
       "\"Karl's book\""
      ]
     },
     "execution_count": 5,
     "metadata": {},
     "output_type": "execute_result"
    }
   ],
   "source": [
    "nome = 'Karl'\n",
    "objeto = 'book'\n",
    "possessivo = f\"{nome}'s {objeto}\"\n",
    "possessivo"
   ]
  },
  {
   "cell_type": "code",
   "execution_count": 6,
   "id": "a05cad5c-26bb-4bb8-9b52-21d2d21b640e",
   "metadata": {
    "editable": true,
    "slideshow": {
     "slide_type": ""
    },
    "tags": []
   },
   "outputs": [
    {
     "data": {
      "text/plain": [
       "'O valor aproximado de pi é 3.1415'"
      ]
     },
     "execution_count": 6,
     "metadata": {},
     "output_type": "execute_result"
    }
   ],
   "source": [
    "f'O valor aproximado de pi é {3.1415}'"
   ]
  },
  {
   "cell_type": "code",
   "execution_count": 7,
   "id": "32d0c912-1fdf-4c49-beea-e24c98358ba9",
   "metadata": {
    "editable": true,
    "slideshow": {
     "slide_type": ""
    },
    "tags": []
   },
   "outputs": [
    {
     "data": {
      "text/plain": [
       "'O valor aproximado de pi é 3.14'"
      ]
     },
     "execution_count": 7,
     "metadata": {},
     "output_type": "execute_result"
    }
   ],
   "source": [
    "f'O valor aproximado de pi é {3.1415:.2f}'"
   ]
  },
  {
   "cell_type": "code",
   "execution_count": 8,
   "id": "4630cbe3-0136-4e2f-a866-395a11a34afc",
   "metadata": {
    "editable": true,
    "slideshow": {
     "slide_type": ""
    },
    "tags": []
   },
   "outputs": [
    {
     "data": {
      "text/plain": [
       "'0127 bananas'"
      ]
     },
     "execution_count": 8,
     "metadata": {},
     "output_type": "execute_result"
    }
   ],
   "source": [
    "num = 127\n",
    "f'{num:04d} {\"ba\" + \"na\" * 2}s'"
   ]
  },
  {
   "cell_type": "markdown",
   "id": "8a39c3f3-54f2-4d59-b6dd-6dbbcc907b91",
   "metadata": {
    "editable": true,
    "slideshow": {
     "slide_type": ""
    },
    "tags": []
   },
   "source": [
    "No último caso, note que pude colocar inclusive expressões, que serão avaliadas e inseridas no espaço desejado, e que podem conter aspas, desde que não sejam do mesmo tipo das aspas que iniciaram a string.\n",
    "\n",
    "### Sequências de escape\n",
    "\n",
    "Se você testou por conta própria a variável `texto_longo` definida acima, você verá que sua representação é diferente da declaração."
   ]
  },
  {
   "cell_type": "code",
   "execution_count": 9,
   "id": "f71a159e-80cc-4bf7-a8c8-bc1eaed5f615",
   "metadata": {
    "editable": true,
    "slideshow": {
     "slide_type": ""
    },
    "tags": []
   },
   "outputs": [
    {
     "data": {
      "text/plain": [
       "'Primeiro parágrafo.\\n\\nSegundo parágrafo.\\n\\nTerceiro.\\n'"
      ]
     },
     "execution_count": 9,
     "metadata": {},
     "output_type": "execute_result"
    }
   ],
   "source": [
    "texto_longo"
   ]
  },
  {
   "cell_type": "markdown",
   "id": "04c23d43-736c-4f00-9152-291704db44f1",
   "metadata": {
    "editable": true,
    "slideshow": {
     "slide_type": ""
    },
    "tags": []
   },
   "source": [
    "Ao invés de aparecer em três parágrafos, temos o texto em uma linha só, e com alguns símbolos que não havíamos adicionado, `\\n`. Isso é conhecido como um *caracter de escape* (*escape character* ou *escape sequence*) que possuem como finalidade expressar texto invisível. Os tipos mais comuns são:\n",
    "\n",
    "* `\\n` indica uma nova linha (*newline* ou *line feed*)\n",
    "* `\\t` indica um tab horizontal\n",
    "* `\\r` indica *carriage return*. Pensando no texto digitado como sendo feito numa máquina de datilografar, isso significa o ato de voltar com o carro para a esquerda (onde são pressionadas as letras).\n",
    "* `\\\\` indica uma barra para a esquerda, somente.\n",
    "* `\\'` e `\\\"` permite que você use as mesmas aspas utilizadas no início da string no meio da mesma. Por exemplo, `'Karl\\'s book'`. Evite utilizar isso se possível.\n",
    "\n",
    "Mais informações podem ser encontradas [aqui](https://docs.python.org/3/reference/lexical_analysis.html#string-and-bytes-literals)\n",
    "\n",
    "Em Windows, arquivos de texto utilizam a combinação de `'\\r\\n'` para separar linhas, enquanto que sistemas Linux utilizam `'\\n'` somente.\n",
    "\n",
    "Caso você queira que o texto `\\n` apareça literalmente na string, pode fazer o seguinte:\n",
    "\n",
    "1. \"Escapar\" (colocar um `\\`) a primeira barra, seguido de `n`.\n",
    "2. Utilizar uma `raw string`, precedendo as aspas com um `r`.\n",
    "\n",
    "Ambos os métodos são válidos, mas acho o segundo mais conveniente. Você pode também combinar `raw string` com `f-string`. Vejamos alguns exemplos.\n",
    "\n"
   ]
  },
  {
   "cell_type": "code",
   "execution_count": 10,
   "id": "6b8a4245-7474-4d3c-8788-31ad9acd45c9",
   "metadata": {
    "editable": true,
    "slideshow": {
     "slide_type": ""
    },
    "tags": []
   },
   "outputs": [
    {
     "data": {
      "text/plain": [
       "'\\\\n\\\\n\\\\n'"
      ]
     },
     "execution_count": 10,
     "metadata": {},
     "output_type": "execute_result"
    }
   ],
   "source": [
    "r'\\n\\n\\n'"
   ]
  },
  {
   "cell_type": "markdown",
   "id": "dfbb33c1-26f0-4dea-9bb6-8f0ef7f229f4",
   "metadata": {
    "editable": true,
    "slideshow": {
     "slide_type": ""
    },
    "tags": []
   },
   "source": [
    "Note que, na exibição, `\\n` foi \"escapado\" para `\\\\n`."
   ]
  },
  {
   "cell_type": "code",
   "execution_count": 11,
   "id": "b2dffb7f-b0d8-44d4-ac56-df24683defd3",
   "metadata": {
    "editable": true,
    "slideshow": {
     "slide_type": ""
    },
    "tags": []
   },
   "outputs": [
    {
     "data": {
      "text/plain": [
       "'\\\\nKarl\\\\n'"
      ]
     },
     "execution_count": 11,
     "metadata": {},
     "output_type": "execute_result"
    }
   ],
   "source": [
    "fr'\\n{nome}\\n'"
   ]
  },
  {
   "cell_type": "markdown",
   "id": "1686fe54-d5e3-44a8-a8fe-12af89691d53",
   "metadata": {},
   "source": [
    "## Comparadores com strings\n",
    "\n",
    "Os comparadores também funcionam com strings. \n",
    "\n",
    "* `==` compara primeiramente se o comprimento das duas strings são iguais, e se for, compara letra por letra. Retorna `True` somente se tudo for igual.\n",
    "* `>` compara duas strings em ordem alfabética. Se uma string vier depois da outra, isso retorna `True`. O oposto vale para `<`."
   ]
  },
  {
   "cell_type": "code",
   "execution_count": 12,
   "id": "52fcb496-f36b-4260-8527-bb34c8027649",
   "metadata": {},
   "outputs": [
    {
     "data": {
      "text/plain": [
       "True"
      ]
     },
     "execution_count": 12,
     "metadata": {},
     "output_type": "execute_result"
    }
   ],
   "source": [
    "'abc' == 'abc'"
   ]
  },
  {
   "cell_type": "code",
   "execution_count": 13,
   "id": "ae8c0c0d-bd4d-4db5-8eb5-06d3888c4999",
   "metadata": {},
   "outputs": [
    {
     "data": {
      "text/plain": [
       "True"
      ]
     },
     "execution_count": 13,
     "metadata": {},
     "output_type": "execute_result"
    }
   ],
   "source": [
    "'abcd' < 'bcd'"
   ]
  },
  {
   "cell_type": "code",
   "execution_count": 14,
   "id": "8563d230-260b-4c5f-9834-dca2481e6eb9",
   "metadata": {},
   "outputs": [
    {
     "data": {
      "text/plain": [
       "False"
      ]
     },
     "execution_count": 14,
     "metadata": {},
     "output_type": "execute_result"
    }
   ],
   "source": [
    "'abc' < 'abc'"
   ]
  },
  {
   "cell_type": "code",
   "execution_count": 15,
   "id": "ea816e89-87e5-4869-8099-0798691f983c",
   "metadata": {},
   "outputs": [
    {
     "data": {
      "text/plain": [
       "True"
      ]
     },
     "execution_count": 15,
     "metadata": {},
     "output_type": "execute_result"
    }
   ],
   "source": [
    "'abc' <= 'abc'"
   ]
  },
  {
   "cell_type": "code",
   "execution_count": 16,
   "id": "0422bb40-1a79-421d-87e6-2927d2261b82",
   "metadata": {},
   "outputs": [
    {
     "data": {
      "text/plain": [
       "True"
      ]
     },
     "execution_count": 16,
     "metadata": {},
     "output_type": "execute_result"
    }
   ],
   "source": [
    "'abc' != 'def'"
   ]
  },
  {
   "cell_type": "markdown",
   "id": "4d74de44-d00c-495d-8504-b4a07de57541",
   "metadata": {
    "editable": true,
    "slideshow": {
     "slide_type": ""
    },
    "tags": []
   },
   "source": [
    "## Funções\n",
    "\n",
    "Uma função é um bloco de código que aceita de 0 a potencialmente infinitas variáveis como entrada (chamadas argumentos), executa alguma ação nessas variáveis, podendo alterá-las, e depois retorna de 0 a potencialmente infinitas variáveis como saída.\n",
    "\n",
    "                   ______\n",
    "    entrada ----->|  f   |------> saída\n",
    "                  |______|\n",
    "\n",
    "O propósito de funções é permitir que você reutilize certa lógica com facilidade, sem ter que copiar o código inteiro, pois você só precisa chamar a função. Também pode lhe auxiliar na simplificação do seu código, pois abstrai um conjunto de linhas e as resume com um nome. Essa abstração pode ser completamente opaca, permitindo que o utilizador tenha somente uma ideia do que está sendo feito pela função, sem precisar saber os detalhes da operação.\n",
    "\n",
    "Em Python, existem algumas funções pré-existentes. Além disso, variáveis podem possuir funções internas, definidas por seus tipos. Por trás dos panos, são essas funções internas que operam quando fazemos, por exemplo, `a + b`.\n",
    "\n",
    "Para chamar uma função, você precisa localizá-la, escrever seu nome, colocar um par de parênteses e dentro deles, os argumentos separados por vírgulas, se necessário. Por exemplo, para chamar a função `f` que aceita dois argumentos:\n",
    "\n",
    "```\n",
    "f(arg1, arg2)\n",
    "```\n",
    "\n",
    "Como funções várias vezes retornam valores, podemos atribuí-los à variáveis. Então\n",
    "\n",
    "```\n",
    "res = f(arg1, arg2)\n",
    "```\n",
    "\n",
    "Se uma função não retornar um valor, mas você atribuir de qualquer maneira esse resultado inexistente, irá notar que um objeto do tipo `None` foi criado. Isso é um alerta para você, pois é possível que a operação da função não tenha sucedido (por exemplo, se você procurar por alguma coisa, mas não encontrá-la)."
   ]
  },
  {
   "cell_type": "markdown",
   "id": "03788404-d944-47a6-801c-0dcc37ec8328",
   "metadata": {
    "editable": true,
    "slideshow": {
     "slide_type": ""
    },
    "tags": []
   },
   "source": [
    "### As funções `print` e `input`\n",
    "\n",
    "A função `print` serve para fazer texto aparecer na tela/console. Já utilizamos isso anteriormente para testar se tudo está operando como esperado. Essa função aceita um número infinito de argumentos como entrada, coloca eles na tela, e não retorna nada (`None`). O tipo de variável mais comumente utilizado com `print` são strings. A função `input` aceita uma string, que irá aparecer na tela, e em seguida permite que um usuário escreva alguma coisa. Quando apertar \"Enter\", o conteúdo da linha escrita é armazenada em uma variável.\n",
    "\n",
    "Vamos ver alguns exemplos:"
   ]
  },
  {
   "cell_type": "code",
   "execution_count": 17,
   "id": "b5c02f99-9bd8-45d4-9b85-48edd7b0a503",
   "metadata": {
    "editable": true,
    "slideshow": {
     "slide_type": ""
    },
    "tags": []
   },
   "outputs": [
    {
     "name": "stdout",
     "output_type": "stream",
     "text": [
      "Hello world!\n",
      "Hello world!\n",
      "Hello\n",
      "world!\n",
      "Hello world!\n"
     ]
    }
   ],
   "source": [
    "print(\"Hello world!\")\n",
    "print('Hello world!')\n",
    "print('''Hello\n",
    "world!''')\n",
    "print('Hello', \"world!\")"
   ]
  },
  {
   "cell_type": "code",
   "execution_count": 18,
   "id": "f37d96e9-5c61-4910-8a3a-ebb777a246d9",
   "metadata": {
    "editable": true,
    "skip-execution": true,
    "slideshow": {
     "slide_type": ""
    },
    "tags": [
     "skip-execution",
     "remove-output"
    ]
   },
   "outputs": [
    {
     "name": "stdin",
     "output_type": "stream",
     "text": [
      "Qual o seu nome?  Karl\n"
     ]
    },
    {
     "name": "stdout",
     "output_type": "stream",
     "text": [
      "Olá Karl\n"
     ]
    }
   ],
   "source": [
    "nome = input('Qual o seu nome? ')\n",
    "print('Olá', nome)"
   ]
  },
  {
   "cell_type": "markdown",
   "id": "6c74c83a-0623-43ae-a3da-6e4e02f20135",
   "metadata": {
    "editable": true,
    "slideshow": {
     "slide_type": ""
    },
    "tags": []
   },
   "source": [
    "    Qual o seu nome?  Karl\n",
    "    Olá Karl\n",
    "\n",
    "(Por conta da maneira que este material é organizado, tenho que colocar células com `input` de uma maneira especial)."
   ]
  },
  {
   "cell_type": "markdown",
   "id": "435ccfff-7046-45c3-8cb6-2d83dffc0d68",
   "metadata": {
    "editable": true,
    "slideshow": {
     "slide_type": ""
    },
    "tags": []
   },
   "source": [
    "### Obtendo ajuda com a função `help`\n",
    "\n",
    "Você pode se perguntar o seguinte. \"Se eu, até agora, escrevi o nome de uma variável e obtive o \"valor\" dela de volta, numa célula, o que acontece se fizer o mesmo com uma função?\" Possivelmente inspirado na observação que fiz que, em Python, tudo é um objeto, você teria este resultado:"
   ]
  },
  {
   "cell_type": "code",
   "execution_count": 19,
   "id": "e171acd3-eee6-4ce3-9eff-7c4d4f54bc3c",
   "metadata": {
    "editable": true,
    "slideshow": {
     "slide_type": ""
    },
    "tags": []
   },
   "outputs": [
    {
     "data": {
      "text/plain": [
       "<function print(*args, sep=' ', end='\\n', file=None, flush=False)>"
      ]
     },
     "execution_count": 19,
     "metadata": {},
     "output_type": "execute_result"
    }
   ],
   "source": [
    "print"
   ]
  },
  {
   "cell_type": "markdown",
   "id": "220fe8b5-66b0-40b5-8723-f91ae4fd2e16",
   "metadata": {
    "editable": true,
    "slideshow": {
     "slide_type": ""
    },
    "tags": []
   },
   "source": [
    "Note que não adicionei os parênteses! Isso *chamaria* a função, i.e., a executaria. Aqui, estamos somente tentando observar a função em si.\n",
    "\n",
    "Neste caso, temos como resposta um pequeno texto explicando algumas opções da função `print`, com uma sintaxe que ainda não vimos. Há 5 argumentos para essa função, `*args`, `sep=' '`, `end='\\n'`, `file=None`, `flush=False`. Isso é útil caso você queira rever rapidamente os argumentos, mas não serve muito se você não souber o que tais argumentos significam. Para isso, podemos utilizar a função `help`."
   ]
  },
  {
   "cell_type": "code",
   "execution_count": 20,
   "id": "73306bfe-abc3-4ca8-bf56-c12fd185c0bc",
   "metadata": {
    "editable": true,
    "slideshow": {
     "slide_type": ""
    },
    "tags": []
   },
   "outputs": [
    {
     "name": "stdout",
     "output_type": "stream",
     "text": [
      "Help on built-in function print in module builtins:\n",
      "\n",
      "print(*args, sep=' ', end='\\n', file=None, flush=False)\n",
      "    Prints the values to a stream, or to sys.stdout by default.\n",
      "    \n",
      "    sep\n",
      "      string inserted between values, default a space.\n",
      "    end\n",
      "      string appended after the last value, default a newline.\n",
      "    file\n",
      "      a file-like object (stream); defaults to the current sys.stdout.\n",
      "    flush\n",
      "      whether to forcibly flush the stream.\n",
      "\n"
     ]
    }
   ],
   "source": [
    "help(print)"
   ]
  },
  {
   "cell_type": "markdown",
   "id": "716fa28e-e732-4abd-a4e4-39ceb74051b7",
   "metadata": {
    "editable": true,
    "slideshow": {
     "slide_type": ""
    },
    "tags": []
   },
   "source": [
    "Note algo interessante aqui: Nós passamos uma função para outra! Em Python, tudo é um objeto, e todo objeto tem um tipo, inclusive funções.\n",
    "\n",
    "Vamos então passo a passo pelos argumentos de `print`:\n",
    "\n",
    "* `*args`: Esta nomenclatura significa que aceita um número qualquer de argumentos *sem nome* ou *posicionais*. Argumentos *sem nome* são diferente dos argumentos *com nome* ou *keyword arguments*, pois o significado deles depende de sua posição. Na função `print`, a sequência de argumentos posicionais que você fornecer será a ordem do texto que aparece na tela. O tipo deles não importa - qualquer variável é aceita, pois as variáveis em si que controlam como são exibidas como texto, e `print` utiliza isso.\n",
    "\n",
    "Os outros argumentos de `print` são todos `keyword arguments`. Eles podem aparecer em qualquer ordem exceto antes do argumetos posicionais, e só podem aparecer uma vez, e possuem um valor padrão, dado pelo valor após o `=`.\n",
    "\n",
    "* `sep` controla o que é colocado entre os argumentos, é o *separador*. Por padrão, Python coloca um espaço `' '`. Somente `str`s são aceitas.\n",
    "* `end` controla o que é colocado no final do texto criado. Por padrão, insere `'\\n'`. Isso é chamado de um *caracter de escape* ou *escape character*. Há vários caracteres de escape e eles possuem significados diferentes. `'\\n'` significa *newline*, ou seja, por padrão, Python coloca um \"Enter\", uma quebra de linha, depois do texto que você fornece. Veja nos exemplos anteriores que todos os \"Hello world!\" apareceram em linhas separadas? Este é o motivo. Somente `str`s são aceitos.\n",
    "* `file` controla se você quer colocar o texto criado em outro lugar além da tela. Aqui, `sys.stdout` significa *o local padrão de output do sistema*, que é geralmente o console. Somente objetivos tipo arquivos são aceitos.\n",
    "* `flush` é uma opção que tem a ver com o funcionamento interno de `print` e `sys.stdout`. É possível que essa ferramenta armazene os resultados por um tempo antes de mostrar o resultado. Com `flush=True`, você força que tudo enviado para `print` seja exibido. Isso é geralmente utilizado caso você esteja fazendo alguma coisa interativa, por exemplo, e precisa que o texto que aparece na tela esteja sempre atualizado. Um booleano é aceito."
   ]
  },
  {
   "cell_type": "markdown",
   "id": "4cef0143-8ef6-45c8-b95a-6136c5cb4dd2",
   "metadata": {
    "editable": true,
    "slideshow": {
     "slide_type": ""
    },
    "tags": []
   },
   "source": [
    "Em ambientes IPython (como um jupyter notebook), podemos também colocar um (`?`) ou dois (`??`) pontos de interrogação antes do nome para obter mais informações sobre a função. Não haverá diferença para `print`, mas há diferença com funções não `builtin` do Python, onde `??` mostra o código fonte da função."
   ]
  },
  {
   "cell_type": "code",
   "execution_count": 21,
   "id": "729d6dd3-5a03-4d69-976f-9f300f2afa69",
   "metadata": {
    "editable": true,
    "slideshow": {
     "slide_type": ""
    },
    "tags": []
   },
   "outputs": [
    {
     "data": {
      "text/plain": [
       "\u001b[1;31mSignature:\u001b[0m \u001b[0mprint\u001b[0m\u001b[1;33m(\u001b[0m\u001b[1;33m*\u001b[0m\u001b[0margs\u001b[0m\u001b[1;33m,\u001b[0m \u001b[0msep\u001b[0m\u001b[1;33m=\u001b[0m\u001b[1;34m' '\u001b[0m\u001b[1;33m,\u001b[0m \u001b[0mend\u001b[0m\u001b[1;33m=\u001b[0m\u001b[1;34m'\\n'\u001b[0m\u001b[1;33m,\u001b[0m \u001b[0mfile\u001b[0m\u001b[1;33m=\u001b[0m\u001b[1;32mNone\u001b[0m\u001b[1;33m,\u001b[0m \u001b[0mflush\u001b[0m\u001b[1;33m=\u001b[0m\u001b[1;32mFalse\u001b[0m\u001b[1;33m)\u001b[0m\u001b[1;33m\u001b[0m\u001b[1;33m\u001b[0m\u001b[0m\n",
       "\u001b[1;31mDocstring:\u001b[0m\n",
       "Prints the values to a stream, or to sys.stdout by default.\n",
       "\n",
       "sep\n",
       "  string inserted between values, default a space.\n",
       "end\n",
       "  string appended after the last value, default a newline.\n",
       "file\n",
       "  a file-like object (stream); defaults to the current sys.stdout.\n",
       "flush\n",
       "  whether to forcibly flush the stream.\n",
       "\u001b[1;31mType:\u001b[0m      builtin_function_or_method"
      ]
     },
     "metadata": {},
     "output_type": "display_data"
    }
   ],
   "source": [
    "?print"
   ]
  },
  {
   "cell_type": "markdown",
   "id": "b0c1f0ce-14cc-472b-bcfd-c82d9c05e891",
   "metadata": {
    "editable": true,
    "slideshow": {
     "slide_type": ""
    },
    "tags": []
   },
   "source": [
    "Vendo isso, vamos explorar a função `print` mais um pouco, utilizando os argumentos revelados pela ajuda."
   ]
  },
  {
   "cell_type": "markdown",
   "id": "a581343b-a3a1-4dcb-aa85-ccce4db6b5f2",
   "metadata": {
    "editable": true,
    "slideshow": {
     "slide_type": ""
    },
    "tags": []
   },
   "source": [
    "Além do conteúdo de `help`, `?` forneceu a assinatura da função, que já vimos anteriormente, e informa o tipo de `print`, que é uma função ou método embutido no Python."
   ]
  },
  {
   "cell_type": "code",
   "execution_count": 22,
   "id": "18b01661-faf7-42e2-9878-b0ca418105e7",
   "metadata": {
    "editable": true,
    "slideshow": {
     "slide_type": ""
    },
    "tags": []
   },
   "outputs": [
    {
     "name": "stdout",
     "output_type": "stream",
     "text": [
      "Hello\n",
      "\n",
      "\n",
      "World! oooHello---World! aaa"
     ]
    }
   ],
   "source": [
    "print(\"Hello\", \"World!\", sep='\\n\\n\\n', end=' ooo')\n",
    "print(\"Hello\", \"World!\", sep='---', end=' aaa')"
   ]
  },
  {
   "cell_type": "code",
   "execution_count": 23,
   "id": "8bfa26ac-b9d7-44f1-9065-b924d035f61a",
   "metadata": {
    "editable": true,
    "slideshow": {
     "slide_type": ""
    },
    "tags": []
   },
   "outputs": [
    {
     "name": "stdout",
     "output_type": "stream",
     "text": [
      "Hello World!"
     ]
    }
   ],
   "source": [
    "print('', ' ', sep='Hello', end='World!', flush=True)"
   ]
  },
  {
   "cell_type": "markdown",
   "id": "12739c77-91cb-4f3b-ada1-cf2595e24a81",
   "metadata": {},
   "source": [
    "Note como o conteúdo de uma string, e o material que é mostrado na tela, podem ser bastante diferentes, devido aos caracteres de escape."
   ]
  },
  {
   "cell_type": "code",
   "execution_count": 24,
   "id": "f8094244-3186-49f0-ae99-5c39235d6aea",
   "metadata": {},
   "outputs": [
    {
     "data": {
      "text/plain": [
       "'ABC\\n\\n\\nDEF'"
      ]
     },
     "execution_count": 24,
     "metadata": {},
     "output_type": "execute_result"
    }
   ],
   "source": [
    "texto = 'ABC\\n\\n\\nDEF'\n",
    "texto"
   ]
  },
  {
   "cell_type": "code",
   "execution_count": 25,
   "id": "c8a406c1-afde-4bae-894b-baae9f7ab855",
   "metadata": {},
   "outputs": [
    {
     "name": "stdout",
     "output_type": "stream",
     "text": [
      "ABC\n",
      "\n",
      "\n",
      "DEF\n"
     ]
    }
   ],
   "source": [
    "print(texto)"
   ]
  },
  {
   "cell_type": "markdown",
   "id": "83713ac8-1543-497e-a0e6-dc2513f745d2",
   "metadata": {},
   "source": [
    "Mais chocante ainda se você utilizar o caracter `\\r`, veja se consegue entender como o seguinte resultado pôde ser atingido."
   ]
  },
  {
   "cell_type": "code",
   "execution_count": 26,
   "id": "727192a1-7305-4806-9f45-c6816e0b6cd5",
   "metadata": {},
   "outputs": [
    {
     "data": {
      "text/plain": [
       "'ABCD\\rEFG'"
      ]
     },
     "execution_count": 26,
     "metadata": {},
     "output_type": "execute_result"
    }
   ],
   "source": [
    "texto = 'ABCD\\rEFG'\n",
    "texto"
   ]
  },
  {
   "cell_type": "code",
   "execution_count": 27,
   "id": "da829a54-5612-4fc9-a0a8-4f2f46931163",
   "metadata": {},
   "outputs": [
    {
     "name": "stdout",
     "output_type": "stream",
     "text": [
      "EFGD\n"
     ]
    }
   ],
   "source": [
    "print(texto)"
   ]
  },
  {
   "cell_type": "markdown",
   "id": "245ab724-b507-4449-a5f4-6ca537bac6e9",
   "metadata": {
    "editable": true,
    "slideshow": {
     "slide_type": ""
    },
    "tags": []
   },
   "source": [
    "### Funções internas: métodos\n",
    "\n",
    "Você se lembra que quando chamei uma variável de uma caixinha com valores e ferramentas? Essas ferramentas são funções que operam dentro das variáveis e podem usar o estado delas para realizar algumas operações. `str`, por exemplo, possui muitos métodos próprios. Vamos ver a ajuda."
   ]
  },
  {
   "cell_type": "code",
   "execution_count": 28,
   "id": "ca0df1a8-10f6-45ab-a71e-18278ee8de4f",
   "metadata": {
    "editable": true,
    "scrolled": true,
    "slideshow": {
     "slide_type": ""
    },
    "tags": [
     "remove-output"
    ]
   },
   "outputs": [
    {
     "name": "stdout",
     "output_type": "stream",
     "text": [
      "Help on class str in module builtins:\n",
      "\n",
      "class str(object)\n",
      " |  str(object='') -> str\n",
      " |  str(bytes_or_buffer[, encoding[, errors]]) -> str\n",
      " |  \n",
      " |  Create a new string object from the given object. If encoding or\n",
      " |  errors is specified, then the object must expose a data buffer\n",
      " |  that will be decoded using the given encoding and error handler.\n",
      " |  Otherwise, returns the result of object.__str__() (if defined)\n",
      " |  or repr(object).\n",
      " |  encoding defaults to sys.getdefaultencoding().\n",
      " |  errors defaults to 'strict'.\n",
      " |  \n",
      " |  Methods defined here:\n",
      " |  \n",
      " |  __add__(self, value, /)\n",
      " |      Return self+value.\n",
      " |  \n",
      " |  __contains__(self, key, /)\n",
      " |      Return key in self.\n",
      " |  \n",
      " |  __eq__(self, value, /)\n",
      " |      Return self==value.\n",
      " |  \n",
      " |  __format__(self, format_spec, /)\n",
      " |      Return a formatted version of the string as described by format_spec.\n",
      " |  \n",
      " |  __ge__(self, value, /)\n",
      " |      Return self>=value.\n",
      " |  \n",
      " |  __getattribute__(self, name, /)\n",
      " |      Return getattr(self, name).\n",
      " |  \n",
      " |  __getitem__(self, key, /)\n",
      " |      Return self[key].\n",
      " |  \n",
      " |  __getnewargs__(...)\n",
      " |  \n",
      " |  __gt__(self, value, /)\n",
      " |      Return self>value.\n",
      " |  \n",
      " |  __hash__(self, /)\n",
      " |      Return hash(self).\n",
      " |  \n",
      " |  __iter__(self, /)\n",
      " |      Implement iter(self).\n",
      " |  \n",
      " |  __le__(self, value, /)\n",
      " |      Return self<=value.\n",
      " |  \n",
      " |  __len__(self, /)\n",
      " |      Return len(self).\n",
      " |  \n",
      " |  __lt__(self, value, /)\n",
      " |      Return self<value.\n",
      " |  \n",
      " |  __mod__(self, value, /)\n",
      " |      Return self%value.\n",
      " |  \n",
      " |  __mul__(self, value, /)\n",
      " |      Return self*value.\n",
      " |  \n",
      " |  __ne__(self, value, /)\n",
      " |      Return self!=value.\n",
      " |  \n",
      " |  __repr__(self, /)\n",
      " |      Return repr(self).\n",
      " |  \n",
      " |  __rmod__(self, value, /)\n",
      " |      Return value%self.\n",
      " |  \n",
      " |  __rmul__(self, value, /)\n",
      " |      Return value*self.\n",
      " |  \n",
      " |  __sizeof__(self, /)\n",
      " |      Return the size of the string in memory, in bytes.\n",
      " |  \n",
      " |  __str__(self, /)\n",
      " |      Return str(self).\n",
      " |  \n",
      " |  capitalize(self, /)\n",
      " |      Return a capitalized version of the string.\n",
      " |      \n",
      " |      More specifically, make the first character have upper case and the rest lower\n",
      " |      case.\n",
      " |  \n",
      " |  casefold(self, /)\n",
      " |      Return a version of the string suitable for caseless comparisons.\n",
      " |  \n",
      " |  center(self, width, fillchar=' ', /)\n",
      " |      Return a centered string of length width.\n",
      " |      \n",
      " |      Padding is done using the specified fill character (default is a space).\n",
      " |  \n",
      " |  count(...)\n",
      " |      S.count(sub[, start[, end]]) -> int\n",
      " |      \n",
      " |      Return the number of non-overlapping occurrences of substring sub in\n",
      " |      string S[start:end].  Optional arguments start and end are\n",
      " |      interpreted as in slice notation.\n",
      " |  \n",
      " |  encode(self, /, encoding='utf-8', errors='strict')\n",
      " |      Encode the string using the codec registered for encoding.\n",
      " |      \n",
      " |      encoding\n",
      " |        The encoding in which to encode the string.\n",
      " |      errors\n",
      " |        The error handling scheme to use for encoding errors.\n",
      " |        The default is 'strict' meaning that encoding errors raise a\n",
      " |        UnicodeEncodeError.  Other possible values are 'ignore', 'replace' and\n",
      " |        'xmlcharrefreplace' as well as any other name registered with\n",
      " |        codecs.register_error that can handle UnicodeEncodeErrors.\n",
      " |  \n",
      " |  endswith(...)\n",
      " |      S.endswith(suffix[, start[, end]]) -> bool\n",
      " |      \n",
      " |      Return True if S ends with the specified suffix, False otherwise.\n",
      " |      With optional start, test S beginning at that position.\n",
      " |      With optional end, stop comparing S at that position.\n",
      " |      suffix can also be a tuple of strings to try.\n",
      " |  \n",
      " |  expandtabs(self, /, tabsize=8)\n",
      " |      Return a copy where all tab characters are expanded using spaces.\n",
      " |      \n",
      " |      If tabsize is not given, a tab size of 8 characters is assumed.\n",
      " |  \n",
      " |  find(...)\n",
      " |      S.find(sub[, start[, end]]) -> int\n",
      " |      \n",
      " |      Return the lowest index in S where substring sub is found,\n",
      " |      such that sub is contained within S[start:end].  Optional\n",
      " |      arguments start and end are interpreted as in slice notation.\n",
      " |      \n",
      " |      Return -1 on failure.\n",
      " |  \n",
      " |  format(...)\n",
      " |      S.format(*args, **kwargs) -> str\n",
      " |      \n",
      " |      Return a formatted version of S, using substitutions from args and kwargs.\n",
      " |      The substitutions are identified by braces ('{' and '}').\n",
      " |  \n",
      " |  format_map(...)\n",
      " |      S.format_map(mapping) -> str\n",
      " |      \n",
      " |      Return a formatted version of S, using substitutions from mapping.\n",
      " |      The substitutions are identified by braces ('{' and '}').\n",
      " |  \n",
      " |  index(...)\n",
      " |      S.index(sub[, start[, end]]) -> int\n",
      " |      \n",
      " |      Return the lowest index in S where substring sub is found,\n",
      " |      such that sub is contained within S[start:end].  Optional\n",
      " |      arguments start and end are interpreted as in slice notation.\n",
      " |      \n",
      " |      Raises ValueError when the substring is not found.\n",
      " |  \n",
      " |  isalnum(self, /)\n",
      " |      Return True if the string is an alpha-numeric string, False otherwise.\n",
      " |      \n",
      " |      A string is alpha-numeric if all characters in the string are alpha-numeric and\n",
      " |      there is at least one character in the string.\n",
      " |  \n",
      " |  isalpha(self, /)\n",
      " |      Return True if the string is an alphabetic string, False otherwise.\n",
      " |      \n",
      " |      A string is alphabetic if all characters in the string are alphabetic and there\n",
      " |      is at least one character in the string.\n",
      " |  \n",
      " |  isascii(self, /)\n",
      " |      Return True if all characters in the string are ASCII, False otherwise.\n",
      " |      \n",
      " |      ASCII characters have code points in the range U+0000-U+007F.\n",
      " |      Empty string is ASCII too.\n",
      " |  \n",
      " |  isdecimal(self, /)\n",
      " |      Return True if the string is a decimal string, False otherwise.\n",
      " |      \n",
      " |      A string is a decimal string if all characters in the string are decimal and\n",
      " |      there is at least one character in the string.\n",
      " |  \n",
      " |  isdigit(self, /)\n",
      " |      Return True if the string is a digit string, False otherwise.\n",
      " |      \n",
      " |      A string is a digit string if all characters in the string are digits and there\n",
      " |      is at least one character in the string.\n",
      " |  \n",
      " |  isidentifier(self, /)\n",
      " |      Return True if the string is a valid Python identifier, False otherwise.\n",
      " |      \n",
      " |      Call keyword.iskeyword(s) to test whether string s is a reserved identifier,\n",
      " |      such as \"def\" or \"class\".\n",
      " |  \n",
      " |  islower(self, /)\n",
      " |      Return True if the string is a lowercase string, False otherwise.\n",
      " |      \n",
      " |      A string is lowercase if all cased characters in the string are lowercase and\n",
      " |      there is at least one cased character in the string.\n",
      " |  \n",
      " |  isnumeric(self, /)\n",
      " |      Return True if the string is a numeric string, False otherwise.\n",
      " |      \n",
      " |      A string is numeric if all characters in the string are numeric and there is at\n",
      " |      least one character in the string.\n",
      " |  \n",
      " |  isprintable(self, /)\n",
      " |      Return True if the string is printable, False otherwise.\n",
      " |      \n",
      " |      A string is printable if all of its characters are considered printable in\n",
      " |      repr() or if it is empty.\n",
      " |  \n",
      " |  isspace(self, /)\n",
      " |      Return True if the string is a whitespace string, False otherwise.\n",
      " |      \n",
      " |      A string is whitespace if all characters in the string are whitespace and there\n",
      " |      is at least one character in the string.\n",
      " |  \n",
      " |  istitle(self, /)\n",
      " |      Return True if the string is a title-cased string, False otherwise.\n",
      " |      \n",
      " |      In a title-cased string, upper- and title-case characters may only\n",
      " |      follow uncased characters and lowercase characters only cased ones.\n",
      " |  \n",
      " |  isupper(self, /)\n",
      " |      Return True if the string is an uppercase string, False otherwise.\n",
      " |      \n",
      " |      A string is uppercase if all cased characters in the string are uppercase and\n",
      " |      there is at least one cased character in the string.\n",
      " |  \n",
      " |  join(self, iterable, /)\n",
      " |      Concatenate any number of strings.\n",
      " |      \n",
      " |      The string whose method is called is inserted in between each given string.\n",
      " |      The result is returned as a new string.\n",
      " |      \n",
      " |      Example: '.'.join(['ab', 'pq', 'rs']) -> 'ab.pq.rs'\n",
      " |  \n",
      " |  ljust(self, width, fillchar=' ', /)\n",
      " |      Return a left-justified string of length width.\n",
      " |      \n",
      " |      Padding is done using the specified fill character (default is a space).\n",
      " |  \n",
      " |  lower(self, /)\n",
      " |      Return a copy of the string converted to lowercase.\n",
      " |  \n",
      " |  lstrip(self, chars=None, /)\n",
      " |      Return a copy of the string with leading whitespace removed.\n",
      " |      \n",
      " |      If chars is given and not None, remove characters in chars instead.\n",
      " |  \n",
      " |  partition(self, sep, /)\n",
      " |      Partition the string into three parts using the given separator.\n",
      " |      \n",
      " |      This will search for the separator in the string.  If the separator is found,\n",
      " |      returns a 3-tuple containing the part before the separator, the separator\n",
      " |      itself, and the part after it.\n",
      " |      \n",
      " |      If the separator is not found, returns a 3-tuple containing the original string\n",
      " |      and two empty strings.\n",
      " |  \n",
      " |  removeprefix(self, prefix, /)\n",
      " |      Return a str with the given prefix string removed if present.\n",
      " |      \n",
      " |      If the string starts with the prefix string, return string[len(prefix):].\n",
      " |      Otherwise, return a copy of the original string.\n",
      " |  \n",
      " |  removesuffix(self, suffix, /)\n",
      " |      Return a str with the given suffix string removed if present.\n",
      " |      \n",
      " |      If the string ends with the suffix string and that suffix is not empty,\n",
      " |      return string[:-len(suffix)]. Otherwise, return a copy of the original\n",
      " |      string.\n",
      " |  \n",
      " |  replace(self, old, new, count=-1, /)\n",
      " |      Return a copy with all occurrences of substring old replaced by new.\n",
      " |      \n",
      " |        count\n",
      " |          Maximum number of occurrences to replace.\n",
      " |          -1 (the default value) means replace all occurrences.\n",
      " |      \n",
      " |      If the optional argument count is given, only the first count occurrences are\n",
      " |      replaced.\n",
      " |  \n",
      " |  rfind(...)\n",
      " |      S.rfind(sub[, start[, end]]) -> int\n",
      " |      \n",
      " |      Return the highest index in S where substring sub is found,\n",
      " |      such that sub is contained within S[start:end].  Optional\n",
      " |      arguments start and end are interpreted as in slice notation.\n",
      " |      \n",
      " |      Return -1 on failure.\n",
      " |  \n",
      " |  rindex(...)\n",
      " |      S.rindex(sub[, start[, end]]) -> int\n",
      " |      \n",
      " |      Return the highest index in S where substring sub is found,\n",
      " |      such that sub is contained within S[start:end].  Optional\n",
      " |      arguments start and end are interpreted as in slice notation.\n",
      " |      \n",
      " |      Raises ValueError when the substring is not found.\n",
      " |  \n",
      " |  rjust(self, width, fillchar=' ', /)\n",
      " |      Return a right-justified string of length width.\n",
      " |      \n",
      " |      Padding is done using the specified fill character (default is a space).\n",
      " |  \n",
      " |  rpartition(self, sep, /)\n",
      " |      Partition the string into three parts using the given separator.\n",
      " |      \n",
      " |      This will search for the separator in the string, starting at the end. If\n",
      " |      the separator is found, returns a 3-tuple containing the part before the\n",
      " |      separator, the separator itself, and the part after it.\n",
      " |      \n",
      " |      If the separator is not found, returns a 3-tuple containing two empty strings\n",
      " |      and the original string.\n",
      " |  \n",
      " |  rsplit(self, /, sep=None, maxsplit=-1)\n",
      " |      Return a list of the substrings in the string, using sep as the separator string.\n",
      " |      \n",
      " |        sep\n",
      " |          The separator used to split the string.\n",
      " |      \n",
      " |          When set to None (the default value), will split on any whitespace\n",
      " |          character (including \\\\n \\\\r \\\\t \\\\f and spaces) and will discard\n",
      " |          empty strings from the result.\n",
      " |        maxsplit\n",
      " |          Maximum number of splits (starting from the left).\n",
      " |          -1 (the default value) means no limit.\n",
      " |      \n",
      " |      Splitting starts at the end of the string and works to the front.\n",
      " |  \n",
      " |  rstrip(self, chars=None, /)\n",
      " |      Return a copy of the string with trailing whitespace removed.\n",
      " |      \n",
      " |      If chars is given and not None, remove characters in chars instead.\n",
      " |  \n",
      " |  split(self, /, sep=None, maxsplit=-1)\n",
      " |      Return a list of the substrings in the string, using sep as the separator string.\n",
      " |      \n",
      " |        sep\n",
      " |          The separator used to split the string.\n",
      " |      \n",
      " |          When set to None (the default value), will split on any whitespace\n",
      " |          character (including \\\\n \\\\r \\\\t \\\\f and spaces) and will discard\n",
      " |          empty strings from the result.\n",
      " |        maxsplit\n",
      " |          Maximum number of splits (starting from the left).\n",
      " |          -1 (the default value) means no limit.\n",
      " |      \n",
      " |      Note, str.split() is mainly useful for data that has been intentionally\n",
      " |      delimited.  With natural text that includes punctuation, consider using\n",
      " |      the regular expression module.\n",
      " |  \n",
      " |  splitlines(self, /, keepends=False)\n",
      " |      Return a list of the lines in the string, breaking at line boundaries.\n",
      " |      \n",
      " |      Line breaks are not included in the resulting list unless keepends is given and\n",
      " |      true.\n",
      " |  \n",
      " |  startswith(...)\n",
      " |      S.startswith(prefix[, start[, end]]) -> bool\n",
      " |      \n",
      " |      Return True if S starts with the specified prefix, False otherwise.\n",
      " |      With optional start, test S beginning at that position.\n",
      " |      With optional end, stop comparing S at that position.\n",
      " |      prefix can also be a tuple of strings to try.\n",
      " |  \n",
      " |  strip(self, chars=None, /)\n",
      " |      Return a copy of the string with leading and trailing whitespace removed.\n",
      " |      \n",
      " |      If chars is given and not None, remove characters in chars instead.\n",
      " |  \n",
      " |  swapcase(self, /)\n",
      " |      Convert uppercase characters to lowercase and lowercase characters to uppercase.\n",
      " |  \n",
      " |  title(self, /)\n",
      " |      Return a version of the string where each word is titlecased.\n",
      " |      \n",
      " |      More specifically, words start with uppercased characters and all remaining\n",
      " |      cased characters have lower case.\n",
      " |  \n",
      " |  translate(self, table, /)\n",
      " |      Replace each character in the string using the given translation table.\n",
      " |      \n",
      " |        table\n",
      " |          Translation table, which must be a mapping of Unicode ordinals to\n",
      " |          Unicode ordinals, strings, or None.\n",
      " |      \n",
      " |      The table must implement lookup/indexing via __getitem__, for instance a\n",
      " |      dictionary or list.  If this operation raises LookupError, the character is\n",
      " |      left untouched.  Characters mapped to None are deleted.\n",
      " |  \n",
      " |  upper(self, /)\n",
      " |      Return a copy of the string converted to uppercase.\n",
      " |  \n",
      " |  zfill(self, width, /)\n",
      " |      Pad a numeric string with zeros on the left, to fill a field of the given width.\n",
      " |      \n",
      " |      The string is never truncated.\n",
      " |  \n",
      " |  ----------------------------------------------------------------------\n",
      " |  Static methods defined here:\n",
      " |  \n",
      " |  __new__(*args, **kwargs) from builtins.type\n",
      " |      Create and return a new object.  See help(type) for accurate signature.\n",
      " |  \n",
      " |  maketrans(...)\n",
      " |      Return a translation table usable for str.translate().\n",
      " |      \n",
      " |      If there is only one argument, it must be a dictionary mapping Unicode\n",
      " |      ordinals (integers) or characters to Unicode ordinals, strings or None.\n",
      " |      Character keys will be then converted to ordinals.\n",
      " |      If there are two arguments, they must be strings of equal length, and\n",
      " |      in the resulting dictionary, each character in x will be mapped to the\n",
      " |      character at the same position in y. If there is a third argument, it\n",
      " |      must be a string, whose characters will be mapped to None in the result.\n",
      "\n"
     ]
    }
   ],
   "source": [
    "help(str)"
   ]
  },
  {
   "cell_type": "markdown",
   "id": "0d3e3278-70fc-47bc-bd35-9824a55d0c37",
   "metadata": {
    "editable": true,
    "slideshow": {
     "slide_type": ""
    },
    "tags": []
   },
   "source": [
    "Por brevidade, não incluí o resultado dessa função no livro. É possível ver que há uma quantidade bastante grande de métodos definidos para `str`. Vários deles começam e terminam com dois underlines -- esses são chamados de *dunder methods*. Geralmente não são chamados diretamente, e são eles que fazem várias ações utilizando os operadores básicos em python. Por exemplo, `__add__(self, value, /)` de `str` é uma função que realiza a adição, ou concatenação, de strings, chamada pelo operador `+`. Note também que várias dessas funções possuem como argumento `self`. Não se preocupe com isso agora, mas a função disso é permitir que a função acesse o estado da atual variável, e são passados automaticamente pelo interpretador.\n",
    "\n",
    "Depois dos *dunder methods*, temos algumas funções que parecem ser mais interessantes. `capitalize`, `center`, `count`, `find`, `isalpha`, etc. Para acessar um método interno, utilize a notação `.`. Por exemplo"
   ]
  },
  {
   "cell_type": "code",
   "execution_count": 29,
   "id": "68e5ab36-df4a-4d26-975d-e1a0cc8a5666",
   "metadata": {
    "editable": true,
    "slideshow": {
     "slide_type": ""
    },
    "tags": []
   },
   "outputs": [
    {
     "data": {
      "text/plain": [
       "'Primeira frase. segunda frase'"
      ]
     },
     "execution_count": 29,
     "metadata": {},
     "output_type": "execute_result"
    }
   ],
   "source": [
    "'primeira frase. segunda frase'.capitalize() # Torna a primeira letra da string maiúscula."
   ]
  },
  {
   "cell_type": "code",
   "execution_count": 30,
   "id": "2b3c3812-679a-4f90-86dd-ef8e1b8aa420",
   "metadata": {
    "editable": true,
    "slideshow": {
     "slide_type": ""
    },
    "tags": []
   },
   "outputs": [
    {
     "data": {
      "text/plain": [
       "'Primeira Letra Maiúscula. Segunda Letra Maíscula'"
      ]
     },
     "execution_count": 30,
     "metadata": {},
     "output_type": "execute_result"
    }
   ],
   "source": [
    "'primeira letra maiúscula. segunda letra maíscula'.title() # torna a primeira letra de todas as palavras maíscula"
   ]
  },
  {
   "cell_type": "code",
   "execution_count": 31,
   "id": "06335975-6318-42e7-afbf-8198f603d09a",
   "metadata": {
    "editable": true,
    "slideshow": {
     "slide_type": ""
    },
    "tags": []
   },
   "outputs": [
    {
     "data": {
      "text/plain": [
       "'TEXTO TEXTO TEXTO'"
      ]
     },
     "execution_count": 31,
     "metadata": {},
     "output_type": "execute_result"
    }
   ],
   "source": [
    "'texto texto texto'.upper() # torna todas as letras maísculas (caixa alta)"
   ]
  },
  {
   "cell_type": "code",
   "execution_count": 32,
   "id": "ca91b59c-bb9e-4470-816a-5de90646b515",
   "metadata": {
    "editable": true,
    "slideshow": {
     "slide_type": ""
    },
    "tags": []
   },
   "outputs": [
    {
     "data": {
      "text/plain": [
       "2"
      ]
     },
     "execution_count": 32,
     "metadata": {},
     "output_type": "execute_result"
    }
   ],
   "source": [
    "'texto com sequência inconsequênte'.count('quê') # conta quantas vezes uma string ocorre em outra"
   ]
  },
  {
   "cell_type": "code",
   "execution_count": 33,
   "id": "c16cca2f-1b4c-4ca3-b8bd-32dc3912d6d6",
   "metadata": {
    "editable": true,
    "slideshow": {
     "slide_type": ""
    },
    "tags": []
   },
   "outputs": [
    {
     "data": {
      "text/plain": [
       "True"
      ]
     },
     "execution_count": 33,
     "metadata": {},
     "output_type": "execute_result"
    }
   ],
   "source": [
    "'12345'.isnumeric()  # Retorna True se todos os caracteres forem números"
   ]
  },
  {
   "cell_type": "code",
   "execution_count": 34,
   "id": "bb5bb105-e029-486e-92e7-a9a067e2a4a0",
   "metadata": {
    "editable": true,
    "slideshow": {
     "slide_type": ""
    },
    "tags": []
   },
   "outputs": [
    {
     "data": {
      "text/plain": [
       "False"
      ]
     },
     "execution_count": 34,
     "metadata": {},
     "output_type": "execute_result"
    }
   ],
   "source": [
    "'12345.7890'.isnumeric() # Retornou false porque \".\" não é um número"
   ]
  },
  {
   "cell_type": "code",
   "execution_count": 35,
   "id": "0e34a637-a544-4dea-a069-d5a1a6349d30",
   "metadata": {
    "editable": true,
    "slideshow": {
     "slide_type": ""
    },
    "tags": []
   },
   "outputs": [
    {
     "data": {
      "text/plain": [
       "True"
      ]
     },
     "execution_count": 35,
     "metadata": {},
     "output_type": "execute_result"
    }
   ],
   "source": [
    "'12345ABCD'.isalnum() # Retorna True se todos os caracteres forem números ou texto"
   ]
  },
  {
   "cell_type": "code",
   "execution_count": 36,
   "id": "60c0c126-61e5-49e9-8424-c512321d9ddb",
   "metadata": {
    "editable": true,
    "slideshow": {
     "slide_type": ""
    },
    "tags": []
   },
   "outputs": [
    {
     "data": {
      "text/plain": [
       "False"
      ]
     },
     "execution_count": 36,
     "metadata": {},
     "output_type": "execute_result"
    }
   ],
   "source": [
    "'12345ABCD-'.isalnum() # Retornou False porque \"-\" não é uma letra ou número"
   ]
  },
  {
   "cell_type": "code",
   "execution_count": 37,
   "id": "4a2c5ea2-5b26-48a6-a181-8796106aa183",
   "metadata": {
    "editable": true,
    "slideshow": {
     "slide_type": ""
    },
    "tags": []
   },
   "outputs": [
    {
     "data": {
      "text/plain": [
       "False"
      ]
     },
     "execution_count": 37,
     "metadata": {},
     "output_type": "execute_result"
    }
   ],
   "source": [
    "'12345ABCD'.isalpha() # Retorna True se todos os caracteres forem do alfabeto"
   ]
  },
  {
   "cell_type": "code",
   "execution_count": 38,
   "id": "9d51429e-251e-4150-aa70-39b6ca8c3e3a",
   "metadata": {
    "editable": true,
    "slideshow": {
     "slide_type": ""
    },
    "tags": []
   },
   "outputs": [
    {
     "data": {
      "text/plain": [
       "True"
      ]
     },
     "execution_count": 38,
     "metadata": {},
     "output_type": "execute_result"
    }
   ],
   "source": [
    "'áéíóú'.isalpha()"
   ]
  },
  {
   "cell_type": "code",
   "execution_count": 39,
   "id": "fed24f91-020b-4c85-be1c-13c0b79ee5e8",
   "metadata": {
    "editable": true,
    "slideshow": {
     "slide_type": ""
    },
    "tags": []
   },
   "outputs": [
    {
     "data": {
      "text/plain": [
       "True"
      ]
     },
     "execution_count": 39,
     "metadata": {},
     "output_type": "execute_result"
    }
   ],
   "source": [
    "\"\"\"linha\n",
    "\"\"\".endswith('\\n') # Retorna True se uma string termina com uma sequência de caracteres"
   ]
  },
  {
   "cell_type": "markdown",
   "id": "e9b29790-f394-477d-93fe-12f0a8c3a1bf",
   "metadata": {
    "editable": true,
    "slideshow": {
     "slide_type": ""
    },
    "tags": []
   },
   "source": [
    "Não são só as strings que possuem vários métodos. Os outros tipos que já vimos possuem suas próprias funções internas."
   ]
  },
  {
   "cell_type": "code",
   "execution_count": 40,
   "id": "99d07ae0-c570-4744-8c02-f3c714ca1002",
   "metadata": {
    "editable": true,
    "slideshow": {
     "slide_type": ""
    },
    "tags": []
   },
   "outputs": [
    {
     "data": {
      "text/plain": [
       "7"
      ]
     },
     "execution_count": 40,
     "metadata": {},
     "output_type": "execute_result"
    }
   ],
   "source": [
    "a = 65\n",
    "a.bit_length() # Informa quantos bits tem um número inteiro"
   ]
  },
  {
   "cell_type": "markdown",
   "id": "670811fd-cc03-4a5d-8736-120c575ed191",
   "metadata": {
    "editable": true,
    "slideshow": {
     "slide_type": ""
    },
    "tags": []
   },
   "source": [
    "Podemos averiguar isso com:"
   ]
  },
  {
   "cell_type": "code",
   "execution_count": 41,
   "id": "b29c0a8d-2199-4eba-a9bf-1e84ce30c561",
   "metadata": {
    "editable": true,
    "slideshow": {
     "slide_type": ""
    },
    "tags": []
   },
   "outputs": [
    {
     "data": {
      "text/plain": [
       "65"
      ]
     },
     "execution_count": 41,
     "metadata": {},
     "output_type": "execute_result"
    }
   ],
   "source": [
    "0b1000001"
   ]
  },
  {
   "cell_type": "markdown",
   "id": "5dda7fe0-80d6-4e1b-a74c-7424246df45e",
   "metadata": {
    "editable": true,
    "slideshow": {
     "slide_type": ""
    },
    "tags": []
   },
   "source": [
    "E com"
   ]
  },
  {
   "cell_type": "code",
   "execution_count": 42,
   "id": "90829479-aeaf-4b0c-a226-02c7e43858ba",
   "metadata": {
    "editable": true,
    "slideshow": {
     "slide_type": ""
    },
    "tags": []
   },
   "outputs": [
    {
     "data": {
      "text/plain": [
       "'0b1000001'"
      ]
     },
     "execution_count": 42,
     "metadata": {},
     "output_type": "execute_result"
    }
   ],
   "source": [
    "bin(a)"
   ]
  },
  {
   "cell_type": "markdown",
   "id": "24fd416f-aaf4-48d8-acaa-3aeab6d66669",
   "metadata": {
    "editable": true,
    "slideshow": {
     "slide_type": ""
    },
    "tags": []
   },
   "source": [
    "A função bin aceita um número inteiro e retorna uma string com a representação binária do número."
   ]
  },
  {
   "cell_type": "markdown",
   "id": "61053e3f-4f75-457f-993e-e1a1b39f0528",
   "metadata": {
    "editable": true,
    "slideshow": {
     "slide_type": ""
    },
    "tags": []
   },
   "source": [
    "#### Métodos e propriedades: uma pequena diferença\n",
    "\n",
    "Estamos vendo métodos, que necessitam que você os chame, i.e., precisam ter um par de parênteses depois do nome do método. Algumas coisas, conhecidas como propriedades, refletem mais o *estado* de uma variável, e não precisam serem chamadas, pois não é feito um cálculo. Por exemplo, um número complexo possui uma parte real e uma parte imaginária."
   ]
  },
  {
   "cell_type": "code",
   "execution_count": 43,
   "id": "7fc636f2-5f26-462a-85d7-0f4912e17801",
   "metadata": {
    "editable": true,
    "slideshow": {
     "slide_type": ""
    },
    "tags": []
   },
   "outputs": [],
   "source": [
    "c = 2 + 3j"
   ]
  },
  {
   "cell_type": "code",
   "execution_count": 44,
   "id": "7c9bd97e-a713-4ede-86f8-f51f55d2bcdb",
   "metadata": {
    "editable": true,
    "slideshow": {
     "slide_type": ""
    },
    "tags": []
   },
   "outputs": [
    {
     "data": {
      "text/plain": [
       "2.0"
      ]
     },
     "execution_count": 44,
     "metadata": {},
     "output_type": "execute_result"
    }
   ],
   "source": [
    "c.real"
   ]
  },
  {
   "cell_type": "code",
   "execution_count": 45,
   "id": "e7029e68-4bb1-41a7-a511-b5d850c927f0",
   "metadata": {
    "editable": true,
    "slideshow": {
     "slide_type": ""
    },
    "tags": []
   },
   "outputs": [
    {
     "data": {
      "text/plain": [
       "3.0"
      ]
     },
     "execution_count": 45,
     "metadata": {},
     "output_type": "execute_result"
    }
   ],
   "source": [
    "c.imag"
   ]
  },
  {
   "cell_type": "markdown",
   "id": "ab4cfe8e-2492-4f71-b54b-9c1c0f78b2a2",
   "metadata": {
    "editable": true,
    "slideshow": {
     "slide_type": ""
    },
    "tags": []
   },
   "source": [
    "Se você equivocadamente chamar essas propriedades, irá notar uma mensagem de erro estranha."
   ]
  },
  {
   "cell_type": "code",
   "execution_count": 46,
   "id": "c10a7695-a2dd-4ee8-882d-6b5219af75af",
   "metadata": {
    "editable": true,
    "slideshow": {
     "slide_type": ""
    },
    "tags": []
   },
   "outputs": [
    {
     "ename": "TypeError",
     "evalue": "'float' object is not callable",
     "output_type": "error",
     "traceback": [
      "\u001b[1;31m---------------------------------------------------------------------------\u001b[0m",
      "\u001b[1;31mTypeError\u001b[0m                                 Traceback (most recent call last)",
      "Cell \u001b[1;32mIn[46], line 1\u001b[0m\n\u001b[1;32m----> 1\u001b[0m \u001b[43mc\u001b[49m\u001b[38;5;241;43m.\u001b[39;49m\u001b[43mreal\u001b[49m\u001b[43m(\u001b[49m\u001b[43m)\u001b[49m\n",
      "\u001b[1;31mTypeError\u001b[0m: 'float' object is not callable"
     ]
    }
   ],
   "source": [
    "c.real()"
   ]
  },
  {
   "cell_type": "markdown",
   "id": "00a2654e-d491-429d-bb53-e3bdfd637e8c",
   "metadata": {
    "editable": true,
    "slideshow": {
     "slide_type": ""
    },
    "tags": []
   },
   "source": [
    "Acima, vimos que a resposta de `c.real` é `2.0`, ou um número `float`. Quando utilizamos `c.real()`, primeiro o valor `c.real` é avaliado, tornando-se `2.0` e depois esse valor tenta ser chamado. Mas como um float não possui o instrumental para ser uma função, uma *callable*, essa mensagem de erro aparece."
   ]
  },
  {
   "cell_type": "markdown",
   "id": "4aecea87-6262-441f-8f92-13f2e89371fc",
   "metadata": {
    "editable": true,
    "slideshow": {
     "slide_type": ""
    },
    "tags": []
   },
   "source": [
    "É possível entender porque não é necessário chamar `real` e `imag`. Ambos são valores intrínsecos ao funcionamento da variável. Não é necessário realizar um cálculo para encontrá-los. Porém, se você deseja achar o complexo conjugado do número, isso pode requerir um cálculo, então é necessário colocar os `()`. Note que, devido a uns detalhes com decoradores e propriedades, isso não é *estritamente* verdadeiro, mas é *habitualmente* verdadeiro."
   ]
  },
  {
   "cell_type": "code",
   "execution_count": 47,
   "id": "d911b5da-e3a7-40ce-8fc5-593eef36d3ef",
   "metadata": {
    "editable": true,
    "slideshow": {
     "slide_type": ""
    },
    "tags": []
   },
   "outputs": [
    {
     "data": {
      "text/plain": [
       "(2-3j)"
      ]
     },
     "execution_count": 47,
     "metadata": {},
     "output_type": "execute_result"
    }
   ],
   "source": [
    "c.conjugate()"
   ]
  },
  {
   "cell_type": "markdown",
   "id": "1cbfa8f5-944b-40a7-8c63-28d118b4dd1a",
   "metadata": {},
   "source": [
    "### Funções para conversão de objetos\n",
    "\n",
    "Como vimos, não podemos operar em strings com a maior parte dos operadores matemáticos. Agora, suponha que eu fiz um pequeno programa utilizando `print` e `input`, para o cálculo da massa necessária para ser pesada para o preparo de uma solução. Como eu faria para converter as `str` que são produziras por `input` em números, para fazer os cálculos?\n",
    "\n",
    "```python\n",
    "print('Cálculadora de massas')\n",
    "conc = input('Concentração do analito, em mmol/L: ')\n",
    "massa_molar = input('Massa molar do analito, em g/mol: ')\n",
    "volume = input('Volume de solução, em mL: ')\n",
    "# Como continuar?\n",
    "```\n",
    "\n",
    "Vamos supor que os seguintes valores foram colocados:"
   ]
  },
  {
   "cell_type": "code",
   "execution_count": 48,
   "id": "03f69fb3-d485-4848-83e5-5d89b447082e",
   "metadata": {},
   "outputs": [],
   "source": [
    "conc = '100'\n",
    "massa_molar = '152.12'\n",
    "volume = '10'"
   ]
  },
  {
   "cell_type": "markdown",
   "id": "2ac8a6c8-063c-483b-bc07-1b8be0fca06b",
   "metadata": {},
   "source": [
    "Para isso, temos as funções `int()` e `float()`, que aceitam uma `str` e retornam um valor numérico, caso consigam interpretar a `str` fornecida."
   ]
  },
  {
   "cell_type": "code",
   "execution_count": 49,
   "id": "7742e4e3-826f-4e97-8720-aee9e3f7efef",
   "metadata": {},
   "outputs": [
    {
     "name": "stdout",
     "output_type": "stream",
     "text": [
      "A massa que precisa ser pesada é 0.15212 g\n"
     ]
    }
   ],
   "source": [
    "conc = float(conc)\n",
    "massa_molar = float(massa_molar)\n",
    "volume = float(volume)\n",
    "\n",
    "n_mols = volume * 1E-3 * conc * 1E-3\n",
    "massa = n_mols * massa_molar\n",
    "print(f'A massa que precisa ser pesada é {massa} g')"
   ]
  },
  {
   "cell_type": "markdown",
   "id": "9ba25f43-1b99-42e7-be26-44d2d03651e6",
   "metadata": {},
   "source": [
    "Você pode ter se perguntado porque eu utilizei `float` em todos os casos. Eu fiz isso por ser mais genérico. Neste caso, tanto a concentração quanto o volume fornecidos foram números inteiros, mas é bastante capaz que alguém forneça valores decimais. Aí teríamos que ter uma maneira de detectar se o valor possui um ponto e, se possuir, utilizar `float`, senão utilizar `int`... e aí o código fica muito mais complexo sem um ganho real.\n",
    "\n",
    "Uma situação onde você deve utilizar uma conversão com `int` é, por exemplo, se perguntar quantas replicatas seriam feitas. Como não existe meia replicata, somente um `int` faria sentido.\n",
    "\n",
    "Vejamos o código completo.\n",
    "\n",
    "```python\n",
    "print('Cálculadora de massas')\n",
    "conc = float(input('Concentração do analito, em mmol/L: '))\n",
    "massa_molar = float(input('Massa molar do analito, em g/mol: '))\n",
    "volume = float(input('Volume de solução, em mL: '))\n",
    "n_mols = volume * 1E-3 * conc * 1E-3\n",
    "massa = n_mols * massa_molar\n",
    "print(f'A massa que precisa ser pesada é {massa} g')\n",
    "```"
   ]
  },
  {
   "cell_type": "markdown",
   "id": "856e9c1a-e0ae-4283-9a21-7cc9983832f6",
   "metadata": {},
   "source": [
    "O que acontece se o valor fornecido não conseguir ser interpretado? Como imagina, é lançada uma exceção, um erro."
   ]
  },
  {
   "cell_type": "code",
   "execution_count": 50,
   "id": "b6d40ba0-dbd6-4a44-9e67-c8cb3e442c4a",
   "metadata": {},
   "outputs": [
    {
     "ename": "ValueError",
     "evalue": "could not convert string to float: '3,1415'",
     "output_type": "error",
     "traceback": [
      "\u001b[1;31m---------------------------------------------------------------------------\u001b[0m",
      "\u001b[1;31mValueError\u001b[0m                                Traceback (most recent call last)",
      "Cell \u001b[1;32mIn[50], line 1\u001b[0m\n\u001b[1;32m----> 1\u001b[0m \u001b[38;5;28;43mfloat\u001b[39;49m\u001b[43m(\u001b[49m\u001b[38;5;124;43m'\u001b[39;49m\u001b[38;5;124;43m3,1415\u001b[39;49m\u001b[38;5;124;43m'\u001b[39;49m\u001b[43m)\u001b[49m\n",
      "\u001b[1;31mValueError\u001b[0m: could not convert string to float: '3,1415'"
     ]
    }
   ],
   "source": [
    "float('3,1415')"
   ]
  },
  {
   "cell_type": "code",
   "execution_count": 51,
   "id": "131e0d62-be65-4edd-834f-93458d953cf0",
   "metadata": {},
   "outputs": [
    {
     "ename": "ValueError",
     "evalue": "invalid literal for int() with base 10: '5 vezes'",
     "output_type": "error",
     "traceback": [
      "\u001b[1;31m---------------------------------------------------------------------------\u001b[0m",
      "\u001b[1;31mValueError\u001b[0m                                Traceback (most recent call last)",
      "Cell \u001b[1;32mIn[51], line 1\u001b[0m\n\u001b[1;32m----> 1\u001b[0m \u001b[38;5;28;43mint\u001b[39;49m\u001b[43m(\u001b[49m\u001b[38;5;124;43m'\u001b[39;49m\u001b[38;5;124;43m5 vezes\u001b[39;49m\u001b[38;5;124;43m'\u001b[39;49m\u001b[43m)\u001b[49m\n",
      "\u001b[1;31mValueError\u001b[0m: invalid literal for int() with base 10: '5 vezes'"
     ]
    }
   ],
   "source": [
    "int('5 vezes')"
   ]
  },
  {
   "cell_type": "markdown",
   "id": "98d6f49a-e4ad-419d-ac11-50633b0ac74b",
   "metadata": {},
   "source": [
    "Aqui coloquei dois erros comuns. Primeiro, é necessário que o separador decimal seja `.` para as conversões funcionarem. Isso é um problema muito frequente, inclusive em outros locais, outras linguagens, e envolve as opções de localização da sua língua (*locale*). O segundo erro ocorre quando o usuário não leu direito as instruções e colocou a unidade junto. Como `' vezes'` não é um número válido, a função `int` não conseguiu interpretar a string. Veremos no futuro como contornar essas situações, utilizando [condicionais](cap:cond) e [loops](cap:loops)."
   ]
  },
  {
   "cell_type": "markdown",
   "id": "abb0daec-6dc2-44eb-b82c-cfbe2f154672",
   "metadata": {},
   "source": [
    "### Mais funções embutidas em Python\n",
    "\n",
    "Até agora exploramos somente algumas das funções embutidas, como `print`, `input`, `float`, `int`, e alguns métodos de tipos embutidos, como os métodos de `str` e `complex`. Existem mais algumas funções em Python, algumas mais frequentemente utilizadas que outras. [Uma listagem com todas pode ser encontrada na documentação oficial](https://docs.python.org/3/library/functions.html). Irei listar aqui somente mais duas, `abs`, `len`, `str`, `repr` que já temos o *background* para entender.\n",
    "\n",
    "* `abs` retorna o valor absoluto de um número (remove o sinal). Se for um número complexo, calcula o tamanho do vetor correspondente, `(real**2 + imag**2)**0.5`."
   ]
  },
  {
   "cell_type": "code",
   "execution_count": 52,
   "id": "1525dac7-0668-4d2c-b86d-8a021b7a580e",
   "metadata": {},
   "outputs": [
    {
     "data": {
      "text/plain": [
       "5"
      ]
     },
     "execution_count": 52,
     "metadata": {},
     "output_type": "execute_result"
    }
   ],
   "source": [
    "abs(-5)"
   ]
  },
  {
   "cell_type": "code",
   "execution_count": 53,
   "id": "da940763-4807-4c50-9785-3d903119d31c",
   "metadata": {},
   "outputs": [
    {
     "data": {
      "text/plain": [
       "True"
      ]
     },
     "execution_count": 53,
     "metadata": {},
     "output_type": "execute_result"
    }
   ],
   "source": [
    "abs(3-2j) == (3**2 + 2**2) ** 0.5"
   ]
  },
  {
   "cell_type": "markdown",
   "id": "d48e6538-d622-4bb9-9b61-1dcd2eacb014",
   "metadata": {},
   "source": [
    "* `len` retorna um número inteiro com o número de elementos de uma coleção. No caso de uma string, é o número de caracteres, contando os caracteres invisíveis! Note que `\\n`, apesar de escrevermos como dois caracteres, significa um símbolo só, a quebra de linha."
   ]
  },
  {
   "cell_type": "code",
   "execution_count": 54,
   "id": "f15e2273-da83-4853-9a64-320fdd6f6c1e",
   "metadata": {},
   "outputs": [
    {
     "data": {
      "text/plain": [
       "4"
      ]
     },
     "execution_count": 54,
     "metadata": {},
     "output_type": "execute_result"
    }
   ],
   "source": [
    "len('ABCD')"
   ]
  },
  {
   "cell_type": "code",
   "execution_count": 55,
   "id": "51f33844-5461-4948-93c2-5fa674d341ac",
   "metadata": {},
   "outputs": [
    {
     "data": {
      "text/plain": [
       "5"
      ]
     },
     "execution_count": 55,
     "metadata": {},
     "output_type": "execute_result"
    }
   ],
   "source": [
    "len('ABCD\\n')"
   ]
  },
  {
   "cell_type": "markdown",
   "id": "6f16fc03-5315-4bcc-8ced-542e57da32ec",
   "metadata": {},
   "source": [
    "* `str` converte um objeto em string. Por traz dos panos, chama o método `__str__` do objeto, que você pode chamar também diretamente, se desejar. Isso é utilizado automaticamente quando você faz interpolação de strings com números."
   ]
  },
  {
   "cell_type": "code",
   "execution_count": 56,
   "id": "bff7f6b5-8b37-45a5-8672-62c8f8c79e32",
   "metadata": {},
   "outputs": [
    {
     "data": {
      "text/plain": [
       "'123'"
      ]
     },
     "execution_count": 56,
     "metadata": {},
     "output_type": "execute_result"
    }
   ],
   "source": [
    "str(123)"
   ]
  },
  {
   "cell_type": "code",
   "execution_count": 57,
   "id": "95f70298-7469-4528-9fa0-5fe7f7dad383",
   "metadata": {},
   "outputs": [
    {
     "data": {
      "text/plain": [
       "'123'"
      ]
     },
     "execution_count": 57,
     "metadata": {},
     "output_type": "execute_result"
    }
   ],
   "source": [
    "(123).__str__()\n",
    "# Aqui, precisei envolver o número em parênteses para o Python entender que o \n",
    "# ponto se refere ao objeto, não a uma tentativa de escrever um decimal."
   ]
  },
  {
   "cell_type": "markdown",
   "id": "c262597e-3173-43df-ad8c-42bce3031740",
   "metadata": {},
   "source": [
    "* `repr` é similar a `str`, e retorna uma string, mas tem como objetivo mostrar uma representação mais completa do objeto, potencialmente uma maneira de gerar o objeto em si, se você copiar e colar o resultado numa nova célula. Por trás dos panos, quando colocamos uma variável numa célula e a executamos, o valor de `repr` é passado para print, não `str`."
   ]
  },
  {
   "cell_type": "code",
   "execution_count": 58,
   "id": "824bfd0e-aae0-43f9-984a-8242bc44128e",
   "metadata": {},
   "outputs": [
    {
     "data": {
      "text/plain": [
       "'123'"
      ]
     },
     "execution_count": 58,
     "metadata": {},
     "output_type": "execute_result"
    }
   ],
   "source": [
    "repr(123)"
   ]
  },
  {
   "cell_type": "code",
   "execution_count": 59,
   "id": "2e641cf6-a018-41bb-bcb3-ff752649a7bc",
   "metadata": {},
   "outputs": [
    {
     "data": {
      "text/plain": [
       "'(2+3j)'"
      ]
     },
     "execution_count": 59,
     "metadata": {},
     "output_type": "execute_result"
    }
   ],
   "source": [
    "repr(2+3j)"
   ]
  },
  {
   "cell_type": "code",
   "execution_count": 60,
   "id": "240046f4-1003-43ff-9d39-a208176b101d",
   "metadata": {},
   "outputs": [
    {
     "data": {
      "text/plain": [
       "\"'12345'\""
      ]
     },
     "execution_count": 60,
     "metadata": {},
     "output_type": "execute_result"
    }
   ],
   "source": [
    "repr('12345')"
   ]
  },
  {
   "cell_type": "markdown",
   "id": "fa9f1c78-1435-4392-91e0-bb6c5c8dd070",
   "metadata": {},
   "source": [
    "### Explorando um objeto"
   ]
  },
  {
   "cell_type": "markdown",
   "id": "23cc7e6a-f1b7-41a8-b264-94e7166eb319",
   "metadata": {},
   "source": [
    "A função `help` pode ser bastante útil, mas ela acaba dependendo da existência de `docstring`s, que servem de documentação para classes e métodos. Porém, dependendo do pacote que você utilizar, é possível que nem tudo esteja documentado, e que você precise explorar sozinho. Para isso, você pode utilizar as ferramentas de autocompletação disponíveis em seu editor (para testar, digite uma variável e aperte `.`. Geralmente a autocompletação irá acionar e preencher um menu com os componentes do objeto), mas isso também pode não estar disponível. Por fim, existe a função `dir`. Essa função lista todos os componentes do ambiente global, se você não fornecer nenhum argumento, ou os componentes de um objeto, se você fornecê-lo. Vejamos o conteúdo do número complexo acima."
   ]
  },
  {
   "cell_type": "code",
   "execution_count": 61,
   "id": "77836774-ff42-4869-9a27-486d57cda40e",
   "metadata": {},
   "outputs": [
    {
     "data": {
      "text/plain": [
       "['__abs__',\n",
       " '__add__',\n",
       " '__bool__',\n",
       " '__class__',\n",
       " '__complex__',\n",
       " '__delattr__',\n",
       " '__dir__',\n",
       " '__doc__',\n",
       " '__eq__',\n",
       " '__format__',\n",
       " '__ge__',\n",
       " '__getattribute__',\n",
       " '__getnewargs__',\n",
       " '__getstate__',\n",
       " '__gt__',\n",
       " '__hash__',\n",
       " '__init__',\n",
       " '__init_subclass__',\n",
       " '__le__',\n",
       " '__lt__',\n",
       " '__mul__',\n",
       " '__ne__',\n",
       " '__neg__',\n",
       " '__new__',\n",
       " '__pos__',\n",
       " '__pow__',\n",
       " '__radd__',\n",
       " '__reduce__',\n",
       " '__reduce_ex__',\n",
       " '__repr__',\n",
       " '__rmul__',\n",
       " '__rpow__',\n",
       " '__rsub__',\n",
       " '__rtruediv__',\n",
       " '__setattr__',\n",
       " '__sizeof__',\n",
       " '__str__',\n",
       " '__sub__',\n",
       " '__subclasshook__',\n",
       " '__truediv__',\n",
       " 'conjugate',\n",
       " 'imag',\n",
       " 'real']"
      ]
     },
     "execution_count": 61,
     "metadata": {},
     "output_type": "execute_result"
    }
   ],
   "source": [
    "dir(c)"
   ]
  },
  {
   "cell_type": "markdown",
   "id": "53d61438-a36a-4e86-8d63-bc43657be098",
   "metadata": {},
   "source": [
    "O objetos mais complexos podem ser compostos de vários outros objetos internos, que possuem mais objetos, e assim vai. Se quiser informações sobre eles, só chamar `dir` no objeto em si. Por exemplo, se você quer mais informações sobre `real`, tente `dir(c.real)`. Se você quiser saber qual é o tipo de um desses objetos, pode utilizar a função `type`."
   ]
  },
  {
   "cell_type": "code",
   "execution_count": 62,
   "id": "a77cde0d-598f-430b-88f2-70747b4e5d31",
   "metadata": {},
   "outputs": [
    {
     "data": {
      "text/plain": [
       "complex"
      ]
     },
     "execution_count": 62,
     "metadata": {},
     "output_type": "execute_result"
    }
   ],
   "source": [
    "type(c)"
   ]
  },
  {
   "cell_type": "code",
   "execution_count": 63,
   "id": "682e3c35-58ff-4d45-b9e9-efd44a833b82",
   "metadata": {},
   "outputs": [
    {
     "data": {
      "text/plain": [
       "float"
      ]
     },
     "execution_count": 63,
     "metadata": {},
     "output_type": "execute_result"
    }
   ],
   "source": [
    "type(c.real)"
   ]
  },
  {
   "cell_type": "markdown",
   "id": "0a53667b-75c7-46c9-9b74-e959aa8115e8",
   "metadata": {
    "editable": true,
    "slideshow": {
     "slide_type": ""
    },
    "tags": []
   },
   "source": [
    "## Definindo sua própria função\n",
    "\n",
    "Para criar uma função, devemos seguir a seguinte sintaxe:\n",
    "\n",
    "```\n",
    "def nome(arg1, arg2, [mais args...], kwarg1=defval1, kwarg2=defval2, [mais kwargs...]):\n",
    "    \"\"\"docstring\"\"\" (opcional)\n",
    "    [linha1]\n",
    "    [linha2]\n",
    "    return [resultado] (opcional)\n",
    "```\n",
    "\n",
    "Em suma, escrevemos a *keyword* `def`, seguido do nome da função, abrimos um par de parênteses, colocamos os nomes das variáveis posicionais, depois o `nome=valor padrão` das variáveis de palavra chave, fechamos os parênteses, colocamos um dois-pontos, damos Enter, depois um tab (ou quatro espaços), potencialmente colocamos uma *docstring*, depois as linhas de código da função, e por fim podemos retornar um valor com a *keyword* `return` e o valor a ser retornado. Vamos ver um exemplo:"
   ]
  },
  {
   "cell_type": "code",
   "execution_count": 64,
   "id": "de6fd98a-991f-4312-a6b9-09d0a6bcc14d",
   "metadata": {
    "editable": true,
    "slideshow": {
     "slide_type": ""
    },
    "tags": []
   },
   "outputs": [],
   "source": [
    "def calcular_número_de_mols(massa, massa_molar):\n",
    "    \"\"\"Calcula o número de mols a partir da massa pesada e da massa molar de um material\"\"\"\n",
    "    return massa / massa_molar"
   ]
  },
  {
   "cell_type": "markdown",
   "id": "5d5961ee-519d-4fa7-ac98-7c567954bdb4",
   "metadata": {
    "editable": true,
    "slideshow": {
     "slide_type": ""
    },
    "tags": []
   },
   "source": [
    "Se quisermos utilizar essa função, basta chamá-la:"
   ]
  },
  {
   "cell_type": "code",
   "execution_count": 65,
   "id": "4d08ad66-c873-4ff5-ac70-619082d9bd91",
   "metadata": {
    "editable": true,
    "slideshow": {
     "slide_type": ""
    },
    "tags": []
   },
   "outputs": [
    {
     "data": {
      "text/plain": [
       "0.0002869605142332415"
      ]
     },
     "execution_count": 65,
     "metadata": {},
     "output_type": "execute_result"
    }
   ],
   "source": [
    "calcular_número_de_mols(0.1, 348.48) # Lauril glicosídeo"
   ]
  },
  {
   "cell_type": "code",
   "execution_count": 66,
   "id": "e8ce449e-65ef-47aa-ab2a-1147fa97ffac",
   "metadata": {
    "editable": true,
    "slideshow": {
     "slide_type": ""
    },
    "tags": []
   },
   "outputs": [
    {
     "data": {
      "text/plain": [
       "25.0"
      ]
     },
     "execution_count": 66,
     "metadata": {},
     "output_type": "execute_result"
    }
   ],
   "source": [
    "def fahrenheit_to_celsius(F):\n",
    "    return (F - 32) / 9 * 5\n",
    "def celsius_to_fahrenheit(C):\n",
    "    return C / 5 * 9 + 32\n",
    "\n",
    "fahrenheit_to_celsius(celsius_to_fahrenheit(25))"
   ]
  },
  {
   "cell_type": "markdown",
   "id": "60eaf328-a2ce-4029-822d-04b041c2fc61",
   "metadata": {
    "editable": true,
    "slideshow": {
     "slide_type": ""
    },
    "tags": []
   },
   "source": [
    "Neste último caso, eu aninhei duas funções (coloquei uma dentro da outra), com um objetivo: testar se a fórmula utilizada é verdadeira. Como as funções `celsius_to_fahrenheit` e `fahrenheit_to_celsius` deveriam ser inversas, aplicando elas dessa maneira e obtendo o mesmo valor inicial, eu garanto que minha implementação está correta. Podemos formalizar isso um pouco melhor com uma nova *keyword*, `assert`. Essa *keyword* aceita à sua direita uma expressão, que precisa ser verdadeira. Se for falsa, uma mensagem de erro irá aparecer, com um `AssertionError`. Lembre-se que vimos na [seção sobre limitações de `float`s](sec:limit_float) que utilizar `==` não é muito apropriado para `float`s, e sim um valor de tolerância."
   ]
  },
  {
   "cell_type": "code",
   "execution_count": 67,
   "id": "bcbc1234-fa93-4047-9b6d-022f6552ff12",
   "metadata": {
    "editable": true,
    "slideshow": {
     "slide_type": ""
    },
    "tags": []
   },
   "outputs": [],
   "source": [
    "value = 25\n",
    "conversion = fahrenheit_to_celsius(celsius_to_fahrenheit(value))\n",
    "assert (value - conversion) < 1E-10"
   ]
  },
  {
   "cell_type": "markdown",
   "id": "66d7310a-bd66-444c-af96-1ebffa4e3aa1",
   "metadata": {
    "editable": true,
    "slideshow": {
     "slide_type": ""
    },
    "tags": []
   },
   "source": [
    "Este tipo de teste irá aumentar muito a confiança que você possui em seu código. De certa maneira, já fizemos isso com a passagem acima, mas utilizando um `assert`, nós deixamos explícito que uma determinada condição precisa ser passada. Quando a complexidade do seu código aumentar, e o número de partes móveis aumentar também, e você começar a se deparar com bugs, um conjunto de `assert`s poderá ser bastante útil como maneira de detecção de bugs.\n",
    "\n",
    "Um outro exemplo de `assert` que utilizo é na hora de gerar listas de nomes de arquivos. Se eu fiz 10 experimentos, espero 10 arquivos. Posso ter escrito errado a maneira de escolher os arquivos, ou esquecido de copiar um do computador de operação, e não iria detectar isso sem uma verificação manual da lista de arquivos, ou com um `assert` me informando que é possível que alguma coisa errada aconteceu."
   ]
  },
  {
   "cell_type": "markdown",
   "id": "ea53e0a3-4b65-4e7e-bb1c-a299e953b541",
   "metadata": {},
   "source": [
    "Agora um exemplo com um argumento opcional"
   ]
  },
  {
   "cell_type": "code",
   "execution_count": 77,
   "id": "e03afc47-4357-4d48-8970-33a076366cd4",
   "metadata": {},
   "outputs": [
    {
     "name": "stdout",
     "output_type": "stream",
     "text": [
      "Olá Humano Karl\n",
      "Olá Cachorra Mel\n"
     ]
    }
   ],
   "source": [
    "def cumprimentar(nome, tratamento = 'Humano'):\n",
    "    print('Olá', tratamento, nome)\n",
    "cumprimentar('Karl')\n",
    "cumprimentar('Mel', 'Cachorra')"
   ]
  },
  {
   "cell_type": "markdown",
   "id": "2096827f-cb5f-47f8-9618-56b2b4d4f09b",
   "metadata": {},
   "source": [
    "(sec:func_lambda)=\n",
    "## Funções anônimas `lambda`\n",
    "\n",
    "Quando você define uma função pela keyword `def`, ela possui um nome. Existe uma maneira de declarar uma função sem um nome, utilizando a keyword `lambda`. Esse tipo de ferramenta é geralmente utilizada quando se deseja fornecer uma função simples, e não vale a pena declarar uma função inteira para aquela tarefa.\n",
    "\n",
    "Para isso, utilize a sintaxe: `lambda var1, var2, ... : valor que será retornado`. Funções `lambda` não podem ter mais de uma linha, isto é, tudo que precisa ser computado deve ser feito em uma linha só.\n",
    "\n",
    "Você pode atribuir a função `lambda` a uma variável e utilizá-la como qualquer outra função."
   ]
  },
  {
   "cell_type": "code",
   "execution_count": 82,
   "id": "8cc8c502-b598-4d0c-a1f1-fad45552df46",
   "metadata": {},
   "outputs": [
    {
     "data": {
      "text/plain": [
       "4"
      ]
     },
     "execution_count": 82,
     "metadata": {},
     "output_type": "execute_result"
    }
   ],
   "source": [
    "quadrado1 = lambda x: x**2\n",
    "quadrado1(2)"
   ]
  },
  {
   "cell_type": "code",
   "execution_count": 84,
   "id": "d6fe6158-d6b0-41af-8cc8-5d4a0f9aa581",
   "metadata": {},
   "outputs": [
    {
     "data": {
      "text/plain": [
       "4"
      ]
     },
     "execution_count": 84,
     "metadata": {},
     "output_type": "execute_result"
    }
   ],
   "source": [
    "def quadrado2(x):\n",
    "    return x**2\n",
    "quadrado2(2)"
   ]
  },
  {
   "cell_type": "markdown",
   "id": "2ed3b1d7-e7c8-4ddc-8d39-8b385813f542",
   "metadata": {},
   "source": [
    "Aqui, `quadrado1` e `quadrado2` são funções idênticas, divergindo somente em seu nome. Se você quiser chamar uma função lambda logo em seguida, pode envolver tudo em parênteses e depois chamar o objeto criado."
   ]
  },
  {
   "cell_type": "code",
   "execution_count": 79,
   "id": "764bd38a-b3d4-4554-b94e-03232bf43daa",
   "metadata": {},
   "outputs": [
    {
     "data": {
      "text/plain": [
       "8"
      ]
     },
     "execution_count": 79,
     "metadata": {},
     "output_type": "execute_result"
    }
   ],
   "source": [
    "(lambda x, y: x**2 + y**2)(2, 2)"
   ]
  },
  {
   "cell_type": "markdown",
   "id": "5c089a60-589b-4a76-8f83-3495924db44b",
   "metadata": {},
   "source": [
    "Mas claro, seria mais fácil passar diretamente `2**2 + 2**2` que fazer todo esse rolo com lambda. Os exemplos mostrados aqui são artificiais e não mostram o uso mais comum deste tipo de função. Geralmente, utiliza-se uma função lambda quando se deseja uma função que só precisa ser usada uma vez, para um motivo bastante específico, como ordenar elementos em uma lista, que pode ser [visto na seção de listas](sec:listas)."
   ]
  },
  {
   "cell_type": "markdown",
   "id": "4a337c2c-2d9c-4f03-a1f9-7243c9bce973",
   "metadata": {
    "editable": true,
    "slideshow": {
     "slide_type": ""
    },
    "tags": []
   },
   "source": [
    "## Exercícios resolvidos\n",
    "\n",
    "### Escrevendo um gerador de questões\n",
    "\n",
    "Vamos neste exercício escrever uma função que retorna o texto de uma questão com alternativas de resposta. Para isso, utilizaremos as funções de strings e algumas funções para a resolução matemática do problema. Como ainda não visitamos condicionais, não posso tornar a lógica desta função mais complexa, mas você verá que isto já é bastante bacana.\n",
    "\n",
    "Para o primeiro exemplo, revisitaremos a [questão do gás ideal](sec:prob_gas_ideal). Queremos um enunciando parecido com:\n",
    "\n",
    "    A fórmula do gás ideal é \n",
    "    \n",
    "    $$pV = nRT$$\n",
    "    \n",
    "    considerando 3,4g de hélio a 77°F em um frasco de 35mL, calcule a pressão em bar. Considere a constante dos gases igual a 8,314472 J/(K mol). Considere a massa molar de hélio como 4 g/mol.\n",
    "\n",
    "    (a) 60.20 bar\n",
    "    (b) 602.0 bar\n",
    "    (c) 155.48 bar\n",
    "    (d) 707.03 bar\n"
   ]
  },
  {
   "cell_type": "code",
   "execution_count": 68,
   "id": "3bf3c923-d93c-4478-8594-fb1ac6e84f02",
   "metadata": {
    "editable": true,
    "slideshow": {
     "slide_type": ""
    },
    "tags": []
   },
   "outputs": [],
   "source": [
    "def ideal_gas_p_isolated(n, T, V, R=8.314472):\n",
    "    \"\"\"p = n * R * T / V, where:\n",
    "    \n",
    "    $p$ is pressure\n",
    "    $n$ is number of moles = mass / molar amss\n",
    "    $R$ is the gas constant\n",
    "    $T$ is the temperature\n",
    "    $V$ is the volume\n",
    "\n",
    "    This assumes that all variables are in the international system,\n",
    "    so the return pressure is in Pa.\n",
    "    \"\"\"\n",
    "    return n * R * T / V\n",
    "\n",
    "def criar_pergunta_gas_ideal(m, MM, nome_do_elemento, T_F, volume_mL):\n",
    "    n = m / MM\n",
    "    T_K = fahrenheit_to_celsius(T_F) + 273.15\n",
    "    volume_m3 = volume_mL * 1E-6\n",
    "\n",
    "    p_correta = ideal_gas_p_isolated(n, T_K, volume_m3) / 1E5\n",
    "    p_errada1 = ideal_gas_p_isolated(n, T_K, volume_m3) / 1E6  # Erro na conversão de Pa para bar, 1E6 ao invés de 1E5\n",
    "    p_errada2 = ideal_gas_p_isolated(n, T_F, volume_m3) / 1E5 # Não converteu temperatura\n",
    "    p_errada3 = ideal_gas_p_isolated(n, T_F + 273.15, volume_m3) / 1E5 # Erro na conversão\n",
    "\n",
    "    texto = f'''\\\n",
    "A fórmula do gás ideal é \n",
    "\n",
    "$$pV = nRT$$\n",
    "\n",
    "considerando {m}g de {nome_do_elemento} a {T_F}°F em um frasco de {volume_mL}mL, calcule a pressão em bar.\n",
    "Considere a constante dos gases igual a 8,314472 J/(K mol).\n",
    "Considere a massa molar de {nome_do_elemento} como {MM} g/mol.\n",
    "\n",
    "(a) {p_errada1:.2f} bar\n",
    "(b) {p_correta:.2f} bar\n",
    "(c) {p_errada2:.2f} bar\n",
    "(d) {p_errada3:.2f} bar\\\n",
    "'''\n",
    "    return texto"
   ]
  },
  {
   "cell_type": "code",
   "execution_count": 69,
   "id": "d5bc31a6-d4b2-40df-aeb1-6ce67541a1c3",
   "metadata": {
    "editable": true,
    "slideshow": {
     "slide_type": ""
    },
    "tags": []
   },
   "outputs": [
    {
     "name": "stdout",
     "output_type": "stream",
     "text": [
      "A fórmula do gás ideal é \n",
      "\n",
      "$$pV = nRT$$\n",
      "\n",
      "considerando 3.4g de He a 77°F em um frasco de 35mL, calcule a pressão em bar.\n",
      "Considere a constante dos gases igual a 8,314472 J/(K mol).\n",
      "Considere a massa molar de He como 4 g/mol.\n",
      "\n",
      "(a) 60.20 bar\n",
      "(b) 602.03 bar\n",
      "(c) 155.48 bar\n",
      "(d) 707.03 bar\n"
     ]
    }
   ],
   "source": [
    "print(criar_pergunta_gas_ideal(3.4, 4, 'He', 77, 35))"
   ]
  },
  {
   "cell_type": "markdown",
   "id": "ddb17167-ea3d-4558-aa3a-fb3305f7b96d",
   "metadata": {
    "editable": true,
    "slideshow": {
     "slide_type": ""
    },
    "tags": []
   },
   "source": [
    "Imagine que com mais alguns métodos para aleatorizar vários aspectos da pergunta, como valores, unidades de entrada e saída, elementos, ordem das questões, teríamos uma ferramenta potencialmente poderosa para criar provas individualizadas. Note que a alternativa correta é sempre a segunda e, se formos aleatorizar tudo, seria necessário retornar também a posição da alternativa correta, para gerarmos um gabarito.\n",
    "\n",
    "Note que eu também alterno entre escrever funções em português e em inglês. É força de hábito. Coisas mais \"fixas\", que tem alta chance de serem utilizadas em outros locais no futuro, eu escrevo em inglês. Coisas mais restritas, que possuem utilidade local, escrevo em português, por conveniência. Em pacotes mais sérios, recomendo utilizar somente o inglês desde o começo. Você nunca sabe com quem irá compartilhar o código."
   ]
  },
  {
   "cell_type": "markdown",
   "id": "c76927c3-cc36-4659-9c04-aa7be6794426",
   "metadata": {},
   "source": [
    "### Criar função para o cálculo de massa de soluções\n",
    "\n",
    "Similar a um exemplo deste capítulo, defina uma função que aceite como argumentos a concentração molar, a massa molar e um volume e retorne a massa necessária para pesagem."
   ]
  },
  {
   "cell_type": "code",
   "execution_count": 70,
   "id": "d59774d3-7ec6-4e83-97c1-a4a5861f805b",
   "metadata": {},
   "outputs": [
    {
     "data": {
      "text/plain": [
       "0.15212"
      ]
     },
     "execution_count": 70,
     "metadata": {},
     "output_type": "execute_result"
    }
   ],
   "source": [
    "def calc_massa_pesagem(conc_molar, massa_molar, volume):\n",
    "    \"\"\"Calcula a massa para pesagem de uma solução de volume, massa molar e concentração especificadas.\n",
    "    As unidades são:\n",
    "        conc_molar: em mmol/L\n",
    "        massa_molar: em g/mol\n",
    "        volume: em mL\n",
    "    \"\"\"\n",
    "    return conc_molar * 1E-3 * volume * 1E-3 * massa_molar\n",
    "\n",
    "calc_massa_pesagem(100, 152.12, 10)"
   ]
  },
  {
   "cell_type": "markdown",
   "id": "f6d800a4-655b-44fb-afbd-c2926be21533",
   "metadata": {},
   "source": [
    "### Contar quantos algarismos existem em um número\n",
    "\n",
    "Suponha que você tenha um número grande. Quantos algarismos existem nele, em base 10? Faça uma função que encontre isso."
   ]
  },
  {
   "cell_type": "code",
   "execution_count": 71,
   "id": "33185e43-88ef-4d96-9a08-e4d82fec09e8",
   "metadata": {},
   "outputs": [],
   "source": [
    "def contar_algarismos(numero):\n",
    "    return len(str(numero))\n",
    "\n",
    "assert contar_algarismos(1000) == 4"
   ]
  },
  {
   "cell_type": "markdown",
   "id": "913cf00f-3945-4eeb-842e-98f6bf53be69",
   "metadata": {},
   "source": [
    "Você consegue ver um possível bug nesta função? O que ocorreria se um número negativo fosse fornecido? O que precisaríamos fazer para conseguir distinguir essas duas situações?"
   ]
  },
  {
   "cell_type": "markdown",
   "id": "f9626dd1-4b47-4c64-b87d-e42cf6511226",
   "metadata": {
    "editable": true,
    "slideshow": {
     "slide_type": ""
    },
    "tags": []
   },
   "source": [
    "## Exercícios extra"
   ]
  },
  {
   "cell_type": "markdown",
   "id": "e76819f7-bad9-4651-9925-30b8bb5aaa13",
   "metadata": {
    "editable": true,
    "slideshow": {
     "slide_type": ""
    },
    "tags": []
   },
   "source": [
    "### Expandindo o gerador de questões\n",
    "\n",
    "```{warning}\n",
    "Para fazer este exercício, você precisa de conhecimentos de [classes](cap:oop)\n",
    "```\n",
    "\n",
    "Faça uma classe que aceite uma string de formatação para a questão, uma string de formatação para colocar as alternativas (a, b, c, ...), com um número variável de alternativas, e como *output* forneça uma questão apropriadamente formatada. É necessário conseguir variar os números de entrada facilmente (massas, p.e.), e que, para as alternativas erradas fornecidas, os números sejam factíveis e atrelados a erros em cada etapa da resolução da questão. Forneça alguns testes para averiguar se os resultados estão apropriados."
   ]
  },
  {
   "cell_type": "code",
   "execution_count": 72,
   "id": "c19a07d5-84c8-402e-a773-0ac1565ce6fb",
   "metadata": {
    "editable": true,
    "slideshow": {
     "slide_type": ""
    },
    "tags": [
     "skip-execution"
    ]
   },
   "outputs": [],
   "source": [
    "# %load \"Soluções de exercícios/Gerador/QuestionGenerator.py\"\n",
    "import enum\n",
    "import random\n",
    "from copy import deepcopy\n",
    "from typing import Protocol\n",
    "import string\n",
    "from dataclasses import dataclass\n",
    "\n",
    "stateDict = dict[str, float]\n",
    "\n",
    "\n",
    "@dataclass\n",
    "class QuestionOutput:\n",
    "    \"\"\"Meant to hold the output of a QuestionGenerator generate_question_string\"\"\"\n",
    "\n",
    "    correctAlternative: str\n",
    "    questionText: str\n",
    "    all_states: dict[str, stateDict]\n",
    "\n",
    "\n",
    "class OutcomeOfStep(enum.StrEnum):\n",
    "    \"\"\"Holds the possible outcomes of a step. Currently, steps can only\n",
    "    be forced to be correct or make a mistake.\"\"\"\n",
    "\n",
    "    Correct = \"Correct\"\n",
    "    Wrong = \"Wrong\"\n",
    "\n",
    "\n",
    "class SolutionStepProtocol(Protocol):\n",
    "    \"\"\"Specifies the function signature of a solution step.\"\"\"\n",
    "\n",
    "    def execute(self, state: stateDict, outcome_of_step: OutcomeOfStep) -> stateDict:\n",
    "        ...\n",
    "\n",
    "\n",
    "class CantCreateAllErroneousStatesException(Exception):\n",
    "    pass\n",
    "\n",
    "\n",
    "class QuestionGenerator:\n",
    "    def __init__(\n",
    "        self,\n",
    "        template_string: str,\n",
    "        alternative_template_string: str,\n",
    "        state: stateDict,\n",
    "        steps: list[SolutionStepProtocol],\n",
    "        amount_of_alternatives: int = 4,\n",
    "        chance_error_during_steps: float = 0.1,\n",
    "    ):\n",
    "        \"\"\"\n",
    "        Creates a question generator\n",
    "\n",
    "        :param template_string: A string containing the appropriate markings\n",
    "        so that `.format(state)` will be applied. The answers will be added later.\n",
    "        :param alternative_template_string: String template that specifies the formatting of the\n",
    "        alternatives, like number of decimal places, and separators.\n",
    "        :param state: A dict that contains keys to variable names, like constants,\n",
    "        initial parameters. These will be passed to the steps, so they can solve the problem\n",
    "        :param steps: a list of steps that will be executed in sequence, in order to generate\n",
    "        the answers. One will always be correct, the others will be wrong.\n",
    "        :param amount_of_alternatives: Number of alternatives in the question, marked a), b), ...\n",
    "        :param chance_error_during_steps: Chance of commiting an error during the steps.\n",
    "\n",
    "        To generate the question itself, call generate_question_output\n",
    "        \"\"\"\n",
    "        self._question_template_string = template_string\n",
    "        self._alternative_template_string = alternative_template_string\n",
    "        self._initial_state = deepcopy(state)\n",
    "        self._steps = steps\n",
    "        self._amount_of_alternatives = amount_of_alternatives\n",
    "        self._chance_error_during_steps = chance_error_during_steps\n",
    "        self.key_for_answer = \"answer\"\n",
    "        self._safety_iter = 100\n",
    "\n",
    "    sequence_for_alternatives = [f\"{i})\" for i in string.ascii_lowercase]\n",
    "\n",
    "    def _calculate_correct_state(self) -> stateDict:\n",
    "        \"\"\"Calculates the correct state by forcing the outcomes of all steps to be correct\"\"\"\n",
    "        correct_state = deepcopy(self._initial_state)\n",
    "        for step in self._steps:\n",
    "            correct_state = step.execute(correct_state, outcome_of_step=OutcomeOfStep.Correct)\n",
    "        return correct_state\n",
    "\n",
    "    def _calculate_wrong_states(self, correct_state: stateDict) -> list[stateDict]:\n",
    "        \"\"\"Calculates only wrong states by discarding states that are either accidentally\n",
    "        correct or were calculated before (no repeated states).\n",
    "\n",
    "        Throws CantCreateAllErroneousStatesException in case it couldn't create enough\n",
    "        erroneous states after _safety_iter iterations.\n",
    "        \"\"\"\n",
    "        wrong_states: list[stateDict] = []\n",
    "        wrong_answers: list = []\n",
    "        correct_answer = correct_state[self.key_for_answer]\n",
    "\n",
    "        for i in range(self._safety_iter):\n",
    "            # Create only the requested number of alternatives\n",
    "            if len(wrong_states) >= self._amount_of_alternatives - 1:\n",
    "                break\n",
    "\n",
    "            state = deepcopy(self._initial_state)\n",
    "            for j, step in enumerate(self._steps):\n",
    "                type_of_step = (\n",
    "                    OutcomeOfStep.Wrong\n",
    "                    if random.random() < self._chance_error_during_steps\n",
    "                    else OutcomeOfStep.Correct\n",
    "                )\n",
    "                state = step.execute(state, type_of_step)\n",
    "\n",
    "            answer = state[self.key_for_answer]\n",
    "            if answer == correct_answer:  # Didn't make a mistake? Must.\n",
    "                continue\n",
    "            elif answer in wrong_answers:  # Made the same mistake? Try again.\n",
    "                continue\n",
    "            else:\n",
    "                wrong_states.append(state)\n",
    "                wrong_answers.append(answer)\n",
    "        else:\n",
    "            raise CantCreateAllErroneousStatesException()\n",
    "\n",
    "        return wrong_states\n",
    "\n",
    "    def _format_question_main_body(self) -> str:\n",
    "        return self._question_template_string.format(**self._initial_state)\n",
    "\n",
    "    def _format_alternatives(self, all_states_with_letters: dict[str, stateDict]) -> str:\n",
    "        return \"\".join(\n",
    "            [\n",
    "                self._alternative_template_string.format(letter, state[self.key_for_answer])\n",
    "                for letter, state in all_states_with_letters.items()\n",
    "            ]\n",
    "        )\n",
    "\n",
    "    def generate_question_output(self, seed: int | None = None) -> QuestionOutput:\n",
    "        \"\"\"\n",
    "        Generates a question body and a sequence of alternatives, where one of them\n",
    "        is correct and the other are wrong. Returns a QuestionOutput object that\n",
    "        contains the correct letter, the question string, and all the states\n",
    "        used to generate the question, in a dict by their letter.\n",
    "\n",
    "        :param seed: Can be used to set the seed of the random number generator\n",
    "        :return: QuestionOutput instance.\n",
    "        \"\"\"\n",
    "        if seed:\n",
    "            random.seed(seed)\n",
    "\n",
    "        correct_state = self._calculate_correct_state()\n",
    "        wrong_states = self._calculate_wrong_states(correct_state)\n",
    "        all_states = [correct_state, *wrong_states]\n",
    "\n",
    "        random.shuffle(all_states)\n",
    "        all_states_with_letters = {\n",
    "            letter: state\n",
    "            for letter, state in zip(QuestionGenerator.sequence_for_alternatives, all_states)\n",
    "        }\n",
    "        correct_letter = [\n",
    "            letter\n",
    "            for letter, state in all_states_with_letters.items()\n",
    "            if state[self.key_for_answer] == correct_state[self.key_for_answer]\n",
    "        ][0]\n",
    "\n",
    "        question_string = self._format_question_main_body()\n",
    "        alternatives_string = self._format_alternatives(all_states_with_letters)\n",
    "        final_string = question_string + alternatives_string\n",
    "\n",
    "        return QuestionOutput(correct_letter, final_string, all_states_with_letters)\n"
   ]
  },
  {
   "cell_type": "code",
   "execution_count": 73,
   "id": "d3952238-69a3-4dbd-9269-5a469769a677",
   "metadata": {
    "editable": true,
    "slideshow": {
     "slide_type": ""
    },
    "tags": [
     "skip-execution"
    ]
   },
   "outputs": [],
   "source": [
    "# %load \"Soluções de exercícios/Gerador/problema_gas_ideal.py\"\n",
    "# encoding utf8\n",
    "# Este arquivo mostra como utilizar o QuestionGenerator para fazer uma\n",
    "# pergunta similar àquelas utilizadas no curso.\n",
    "\n",
    "import random\n",
    "from copy import deepcopy\n",
    "\n",
    "from QuestionGenerator import QuestionGenerator, stateDict, OutcomeOfStep\n",
    "\n",
    "template_str = \"\"\"\\\n",
    "A fórmula do gás ideal é\n",
    "\n",
    "$$pV = nRT$$\n",
    "\n",
    "considerando {m:.3f}g de {nome_do_elemento} a {T_F:.3f}°F em um frasco de {volume_mL:.3f}mL.\n",
    "Considere a constante dos gases igual a {R} J/(K mol).\n",
    "Considere a massa molar de {nome_do_elemento} como {MM:.2f} g/mol.\n",
    "Calcule a pressão em bar.\n",
    "\"\"\"\n",
    "alternative_str = \"{0} {1:.3g} bar\\n\"\n",
    "first_state_dict = {\n",
    "    \"m\": 3.4,\n",
    "    \"MM\": 4.0,\n",
    "    \"T_F\": 77,\n",
    "    \"volume_mL\": 35,\n",
    "    \"R\": 8.314472,\n",
    "    \"nome_do_elemento\": \"Hélio\",\n",
    "}\n",
    "number_of_alternatives = 4\n",
    "\n",
    "\n",
    "class Passo1ConversaoDeVolume:\n",
    "    def execute(self, state: stateDict, outcome_of_step: OutcomeOfStep) -> stateDict:\n",
    "        state = deepcopy(state)\n",
    "        if outcome_of_step == OutcomeOfStep.Correct:\n",
    "            return self.correto(state)\n",
    "        else:\n",
    "            return self.erro1(state)\n",
    "\n",
    "    def correto(self, state: stateDict) -> stateDict:\n",
    "        state[\"V\"] = state[\"volume_mL\"] * 1e-6\n",
    "        return state\n",
    "\n",
    "    def erro1(self, state: stateDict) -> stateDict:\n",
    "        state[\"V\"] = state[\"volume_mL\"] * 1e-3\n",
    "        return state\n",
    "\n",
    "\n",
    "class Passo2ConversaoDeTemperatura:\n",
    "    def execute(self, state: stateDict, outcome_of_step: OutcomeOfStep) -> stateDict:\n",
    "        state = deepcopy(state)\n",
    "        if outcome_of_step == OutcomeOfStep.Correct:\n",
    "            return self.correto(state)\n",
    "        choices = [self.erro1, self.erro2, self.erro3]\n",
    "        return random.choice(choices)(state)\n",
    "\n",
    "    def correto(self, state: stateDict) -> stateDict:\n",
    "        state[\"T\"] = (state[\"T_F\"] - 32) / 9 * 5 + 273.15\n",
    "        return state\n",
    "\n",
    "    def erro1(self, state: stateDict) -> stateDict:\n",
    "        \"\"\"Esquece de converter F para K\"\"\"\n",
    "        state[\"T\"] = state[\"T_F\"]\n",
    "        return state\n",
    "\n",
    "    def erro2(self, state: stateDict) -> stateDict:\n",
    "        \"\"\"Esquece de converter C para K\"\"\"\n",
    "        state[\"T\"] = (state[\"T_F\"] - 32) / 9 * 5\n",
    "        return state\n",
    "\n",
    "    def erro3(self, state: stateDict) -> stateDict:\n",
    "        \"\"\"Utiliza a conversão errada de C para K\"\"\"\n",
    "        state[\"T\"] = (state[\"T_F\"] - 32) / 9 * 5 - 273.14\n",
    "        return state\n",
    "\n",
    "\n",
    "class Passo3CalculoNumeroMols:\n",
    "    def execute(self, state: stateDict, outcome_of_step: OutcomeOfStep) -> stateDict:\n",
    "        state = deepcopy(state)\n",
    "        if outcome_of_step == OutcomeOfStep.Correct:\n",
    "            return self.correto(state)\n",
    "        else:\n",
    "            return self.errado(state)\n",
    "\n",
    "    def correto(self, state: stateDict) -> stateDict:\n",
    "        state[\"n\"] = state[\"m\"] / state[\"MM\"]\n",
    "        return state\n",
    "\n",
    "    def errado(self, state: stateDict) -> stateDict:\n",
    "        \"\"\"Erra no cálculo do número de mols\"\"\"\n",
    "        state[\"n\"] = state[\"m\"] * state[\"MM\"]\n",
    "        return state\n",
    "\n",
    "\n",
    "class Passo4CalculoGasIdeal:\n",
    "    \"\"\"Não possui erro\"\"\"\n",
    "\n",
    "    def execute(self, state: stateDict, outcome_of_step: OutcomeOfStep) -> stateDict:\n",
    "        state = deepcopy(state)\n",
    "        return self.correto(state)\n",
    "\n",
    "    def correto(self, state: stateDict) -> stateDict:\n",
    "        n = state[\"n\"]\n",
    "        R = state[\"R\"]\n",
    "        T = state[\"T\"]\n",
    "        V = state[\"V\"]\n",
    "        state[\"p\"] = n * R * T / V\n",
    "        return state\n",
    "\n",
    "\n",
    "class Passo5ConversaoPressao:\n",
    "    def execute(self, state: stateDict, outcome_of_step: OutcomeOfStep) -> stateDict:\n",
    "        state = deepcopy(state)\n",
    "        if outcome_of_step == OutcomeOfStep.Correct:\n",
    "            return self.correto(state)\n",
    "        else:\n",
    "            return self.errado(state)\n",
    "\n",
    "    def correto(self, state: stateDict) -> stateDict:\n",
    "        state[\"answer\"] = state[\"p\"] / 1e5\n",
    "        return state\n",
    "\n",
    "    def errado(self, state: stateDict) -> stateDict:\n",
    "        \"\"\"Erra no cálculo do número de mols\"\"\"\n",
    "        state[\"answer\"] = state[\"p\"] / 1e6\n",
    "        return state\n",
    "\n",
    "\n",
    "Q = QuestionGenerator(\n",
    "    template_string=template_str,\n",
    "    alternative_template_string=alternative_str,\n",
    "    amount_of_alternatives=4,\n",
    "    chance_error_during_steps=0.1,\n",
    "    steps=[\n",
    "        Passo1ConversaoDeVolume(),\n",
    "        Passo2ConversaoDeTemperatura(),\n",
    "        Passo3CalculoNumeroMols(),\n",
    "        Passo4CalculoGasIdeal(),\n",
    "        Passo5ConversaoPressao(),\n",
    "    ],\n",
    "    state=first_state_dict,\n",
    ")\n",
    "\n",
    "\n",
    "if __name__ == \"__main__\":\n",
    "    print(\"-------- Gerando divergências com o mesmo conjunto de dados de entrada --------\")\n",
    "    res1 = Q.generate_question_output(42)\n",
    "    res2 = Q.generate_question_output(43)\n",
    "    res3 = Q.generate_question_output(44)\n",
    "    res4 = Q.generate_question_output(45)\n",
    "\n",
    "    print(\n",
    "        \"1) \" + res1.questionText,\n",
    "        \"2) \" + res2.questionText,\n",
    "        \"3) \" + res3.questionText,\n",
    "        \"4) \" + res4.questionText,\n",
    "        sep=\"\\n\",\n",
    "    )\n",
    "\n",
    "    print(\"GABARITO\".center(15, \"-\"))\n",
    "    print(1, res1.correctAlternative)\n",
    "    print(2, res2.correctAlternative)\n",
    "    print(3, res3.correctAlternative)\n",
    "    print(4, res4.correctAlternative)\n",
    "\n",
    "    print(\"------ Gerando diferentes valores das variáveis ------\")\n",
    "    gases = {\"H2\": 2, \"He\": 4.002, \"Ne\": 20.1797, \"Ar\": 39.792, \"N2\": 28.01348}\n",
    "    massa_min = 1e-3\n",
    "    massa_max = 10.0\n",
    "    T_min = 0.0\n",
    "    T_max = 200.0\n",
    "    volume_min = 1.0\n",
    "    volume_max = 100.0\n",
    "\n",
    "    num_quests = 5\n",
    "    questoes = []\n",
    "    for i in range(num_quests):\n",
    "        state = deepcopy(first_state_dict)\n",
    "        state[\"nome_do_elemento\"] = random.choice(list(gases.keys()))\n",
    "        state[\"MM\"] = gases[state[\"nome_do_elemento\"]]\n",
    "        state[\"m\"] = random.uniform(massa_min, massa_max)\n",
    "        state[\"T_F\"] = random.uniform(T_min, T_max)\n",
    "        state[\"volume_mL\"] = random.uniform(volume_min, volume_max)\n",
    "        Q = QuestionGenerator(\n",
    "            template_string=template_str,\n",
    "            alternative_template_string=alternative_str,\n",
    "            amount_of_alternatives=4,\n",
    "            chance_error_during_steps=0.1,\n",
    "            steps=[\n",
    "                Passo1ConversaoDeVolume(),\n",
    "                Passo2ConversaoDeTemperatura(),\n",
    "                Passo3CalculoNumeroMols(),\n",
    "                Passo4CalculoGasIdeal(),\n",
    "                Passo5ConversaoPressao(),\n",
    "            ],\n",
    "            state=state,\n",
    "        )\n",
    "        questoes.append(Q.generate_question_output())\n",
    "\n",
    "    for i, q in enumerate(questoes):\n",
    "        print(f\"{i+1})\", q.questionText)\n",
    "\n",
    "    print(\"GABARITO\".center(15, \"-\"))\n",
    "\n",
    "    for i, q in enumerate(questoes):\n",
    "        print(i + 1, q.correctAlternative)\n"
   ]
  },
  {
   "cell_type": "code",
   "execution_count": null,
   "id": "dd8f8ed0-bafc-41fe-8d52-1e050777545b",
   "metadata": {
    "editable": true,
    "slideshow": {
     "slide_type": ""
    },
    "tags": []
   },
   "outputs": [],
   "source": []
  }
 ],
 "metadata": {
  "kernelspec": {
   "display_name": "CursoPython",
   "language": "python",
   "name": "cursopython"
  },
  "language_info": {
   "codemirror_mode": {
    "name": "ipython",
    "version": 3
   },
   "file_extension": ".py",
   "mimetype": "text/x-python",
   "name": "python",
   "nbconvert_exporter": "python",
   "pygments_lexer": "ipython3",
   "version": "3.11.3"
  }
 },
 "nbformat": 4,
 "nbformat_minor": 5
}
