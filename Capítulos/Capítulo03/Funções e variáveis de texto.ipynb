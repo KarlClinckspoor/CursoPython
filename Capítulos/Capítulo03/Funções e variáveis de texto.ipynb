{
 "cells": [
  {
   "cell_type": "markdown",
   "id": "ad1df9a0-ad26-4c53-93a6-4734ad288391",
   "metadata": {},
   "source": [
    "# Funções e variáveis de texto\n",
    "\n",
    "Até agora vimos os seguintes tipos:\n",
    "\n",
    "* `int`, representa números inteiros\n",
    "* `float`, representa números com casas depois da vírgula\n",
    "* `complex`, representa números complexos\n",
    "* `bool`, representa valores verdadeiros e falsos.\n",
    "\n",
    "Além desses tipos básicos, temos os seguintes tipos em Python\n",
    "\n",
    "* `str`, representa sequências de caracteres (strings)\n",
    "* `list`, `tuple`, `set`, `dict`: representam estruturas de dados, i.e., conjuntos de variáveis e tipos diferentes\n",
    "* `None`, representa a falta/inexistência de valor.\n",
    "\n",
    "Neste capítulo focaremos em `str` e vamos também utilizar funções para manipular essas variáveis."
   ]
  },
  {
   "cell_type": "markdown",
   "id": "32252a5c-be8c-4494-929c-feff3fb18425",
   "metadata": {},
   "source": [
    "## Strings\n",
    "\n",
    "Strings são variáveis que contém texto. Essas variáveis são criadas colocando texto entre aspas simples `''` ou duplas `\"\"`, e não pode haver uma quebra de linha (um \"Enter\"). Se você utilizar três conjuntos de aspas, aí você pode utilizar quebras de linha sem problemas. Se você utilizar um tipo de aspas, pode utilizar a outra dentro da string. Por exemplo:"
   ]
  },
  {
   "cell_type": "code",
   "execution_count": 1,
   "id": "70b757a9-553c-4b5d-b0f1-050d2fe2766c",
   "metadata": {},
   "outputs": [],
   "source": [
    "nome = \"Karl\"\n",
    "possessivo = \"'s book\"\n",
    "citação = 'e não pode haver uma quebra de linha (um \"Enter\")'\n",
    "texto_longo = \"\"\"Primeiro parágrafo.\n",
    "\n",
    "Segundo parágrafo.\n",
    "\n",
    "Terceiro.\n",
    "\"\"\""
   ]
  },
  {
   "cell_type": "markdown",
   "id": "92629702-452c-43ac-a065-2b2e3d5a7181",
   "metadata": {},
   "source": [
    "Interessantemente, strings aceitam serem somadas com outras strings. Isso é chamado de concatenação."
   ]
  },
  {
   "cell_type": "code",
   "execution_count": 2,
   "id": "5514a253-b5d1-4639-bad2-564c3e4f4e6c",
   "metadata": {},
   "outputs": [
    {
     "data": {
      "text/plain": [
       "\"Karl's book\""
      ]
     },
     "execution_count": 2,
     "metadata": {},
     "output_type": "execute_result"
    }
   ],
   "source": [
    "nome + possessivo"
   ]
  },
  {
   "cell_type": "markdown",
   "id": "0ee5cc51-92ee-49f8-9471-99efd38b1db3",
   "metadata": {},
   "source": [
    "Mas strings não aceitam serem somadas com outras coisas, como números."
   ]
  },
  {
   "cell_type": "code",
   "execution_count": 3,
   "id": "d272865c-137d-4cc8-8d39-edd129b7d128",
   "metadata": {},
   "outputs": [
    {
     "ename": "TypeError",
     "evalue": "can only concatenate str (not \"int\") to str",
     "output_type": "error",
     "traceback": [
      "\u001b[1;31m---------------------------------------------------------------------------\u001b[0m",
      "\u001b[1;31mTypeError\u001b[0m                                 Traceback (most recent call last)",
      "Cell \u001b[1;32mIn[3], line 1\u001b[0m\n\u001b[1;32m----> 1\u001b[0m \u001b[43mpossessivo\u001b[49m\u001b[43m \u001b[49m\u001b[38;5;241;43m+\u001b[39;49m\u001b[43m \u001b[49m\u001b[38;5;241;43m12\u001b[39;49m\n",
      "\u001b[1;31mTypeError\u001b[0m: can only concatenate str (not \"int\") to str"
     ]
    }
   ],
   "source": [
    "possessivo + 12"
   ]
  },
  {
   "cell_type": "markdown",
   "id": "0d23420e-b0db-435f-8701-02cabf1ab553",
   "metadata": {},
   "source": [
    "Tanto que a mensagem de erro fala que somente uma string (`str`) pode ser concatenada a outra `str`. Strings também não aceitam quaisquer outras operações matemáticas, exceto duas: `*` repete uma string:"
   ]
  },
  {
   "cell_type": "code",
   "execution_count": 4,
   "id": "b4edd0dc-4a7f-4e7e-91ab-dbc390d14610",
   "metadata": {
    "editable": true,
    "slideshow": {
     "slide_type": ""
    },
    "tags": []
   },
   "outputs": [
    {
     "data": {
      "text/plain": [
       "'banana'"
      ]
     },
     "execution_count": 4,
     "metadata": {},
     "output_type": "execute_result"
    }
   ],
   "source": [
    "'ba' + 'na' * 2"
   ]
  },
  {
   "cell_type": "markdown",
   "id": "6aac7eb0-a11b-4be6-9ef8-674e4971cd26",
   "metadata": {
    "editable": true,
    "slideshow": {
     "slide_type": ""
    },
    "tags": []
   },
   "source": [
    "e `%` aplica uma formatação na string, também chamado de interpolação. A segunda operação é pouco recomendada hoje Python moderno, com o favorecimento de `f-strings`, que explicarei em breve, mas mostrarei um pequeno exemplo aqui. Maiores referências para interpolação podem ser encontradas [na documentação oficial](https://docs.python.org/3/library/stdtypes.html#old-string-formatting).\n",
    "\n",
    "Vejamos um exemplo"
   ]
  },
  {
   "cell_type": "code",
   "execution_count": 5,
   "id": "e9622b67-ff68-4ea1-8c73-467d1be75652",
   "metadata": {
    "editable": true,
    "slideshow": {
     "slide_type": ""
    },
    "tags": []
   },
   "outputs": [
    {
     "data": {
      "text/plain": [
       "'O valor aproximado de pi é 3.141500'"
      ]
     },
     "execution_count": 5,
     "metadata": {},
     "output_type": "execute_result"
    }
   ],
   "source": [
    "'O valor aproximado de pi é %f' % 3.1415"
   ]
  },
  {
   "cell_type": "markdown",
   "id": "4791e11a-3800-4fbe-8261-2cf586eb20dd",
   "metadata": {
    "editable": true,
    "slideshow": {
     "slide_type": ""
    },
    "tags": []
   },
   "source": [
    "Para utilizar o `%` para interpolação de strings, é necessário um `%` no texto, seguindo de especificações de formatação (opcionais) e por fim o tipo da variável. Aqui, `f` significa `float`. Se eu utilizasse o especificador de números inteiros `d`, o resultado é:"
   ]
  },
  {
   "cell_type": "code",
   "execution_count": 6,
   "id": "f54499cc-7b50-4842-8ce5-91b5c36c5da7",
   "metadata": {
    "editable": true,
    "slideshow": {
     "slide_type": ""
    },
    "tags": []
   },
   "outputs": [
    {
     "data": {
      "text/plain": [
       "'O valor aproximado de pi é 3'"
      ]
     },
     "execution_count": 6,
     "metadata": {},
     "output_type": "execute_result"
    }
   ],
   "source": [
    "'O valor aproximado de pi é %d' % 3.1415"
   ]
  },
  {
   "cell_type": "markdown",
   "id": "21244450-1aac-46e4-8823-dd47b1b4875e",
   "metadata": {
    "editable": true,
    "slideshow": {
     "slide_type": ""
    },
    "tags": []
   },
   "source": [
    "Note que os números decimais foram truncados. Veja também no primeiro exemplo que o número de casas mostrado foi 6. Se eu quiser controlar isso, posso utilizar a notação `.n`, entre `%` e `f`, para especificar a precisão até `n` casas. Por exemplo:"
   ]
  },
  {
   "cell_type": "code",
   "execution_count": 7,
   "id": "a435b22d-e001-4dc4-a159-ce9a8db2cfd4",
   "metadata": {
    "editable": true,
    "slideshow": {
     "slide_type": ""
    },
    "tags": []
   },
   "outputs": [
    {
     "data": {
      "text/plain": [
       "'O valor aproximado de pi é 3.14'"
      ]
     },
     "execution_count": 7,
     "metadata": {},
     "output_type": "execute_result"
    }
   ],
   "source": [
    "'O valor aproximado de pi é %.2f' % 3.1415"
   ]
  },
  {
   "cell_type": "markdown",
   "id": "7ba023a4-cd8a-4ae4-bc3b-36c8ea6d3c44",
   "metadata": {
    "editable": true,
    "slideshow": {
     "slide_type": ""
    },
    "tags": []
   },
   "source": [
    "Caso você tenha mais de um valor para ser substituído, pode colocar os valores entre parênteses. Aqui, `s` indica `str`."
   ]
  },
  {
   "cell_type": "code",
   "execution_count": 8,
   "id": "b5fc12aa-7e2c-40e5-add5-74bef69ea51c",
   "metadata": {
    "editable": true,
    "slideshow": {
     "slide_type": ""
    },
    "tags": []
   },
   "outputs": [
    {
     "data": {
      "text/plain": [
       "'127 bananas'"
      ]
     },
     "execution_count": 8,
     "metadata": {},
     "output_type": "execute_result"
    }
   ],
   "source": [
    "'%d %s' % (127, 'bananas')"
   ]
  },
  {
   "cell_type": "markdown",
   "id": "a48a31ed-88ea-4c0b-8018-a8f6e59d568f",
   "metadata": {
    "editable": true,
    "slideshow": {
     "slide_type": ""
    },
    "tags": []
   },
   "source": [
    "A maneira mais aceita hoje em dia de realizar interpolação de strings é por `f-string`s, também conhecidas por *formatted string literals*. Mais informações podem ser encontradas na [documentação oficial](https://docs.python.org/3/tutorial/inputoutput.html#tut-f-strings).\n",
    "\n",
    "Para criar uma `f-string`, preceda as aspas iniciais por um `f` minúsculo ou maiúsculo. No interior da string, coloque chaves com o valor que você deseja exibir, opcionalmente seguido de códigos formatadores. Aqui, substitua `nome` pelo seu nome, se desejar."
   ]
  },
  {
   "cell_type": "code",
   "execution_count": 9,
   "id": "03688234-19d1-48bd-8a5d-503af66fd18d",
   "metadata": {
    "editable": true,
    "slideshow": {
     "slide_type": ""
    },
    "tags": []
   },
   "outputs": [
    {
     "data": {
      "text/plain": [
       "\"Karl's book\""
      ]
     },
     "execution_count": 9,
     "metadata": {},
     "output_type": "execute_result"
    }
   ],
   "source": [
    "nome = 'Karl'\n",
    "objeto = 'book'\n",
    "possessivo = f\"{nome}'s {objeto}\"\n",
    "possessivo"
   ]
  },
  {
   "cell_type": "code",
   "execution_count": 10,
   "id": "a05cad5c-26bb-4bb8-9b52-21d2d21b640e",
   "metadata": {
    "editable": true,
    "slideshow": {
     "slide_type": ""
    },
    "tags": []
   },
   "outputs": [
    {
     "data": {
      "text/plain": [
       "'O valor aproximado de pi é 3.1415'"
      ]
     },
     "execution_count": 10,
     "metadata": {},
     "output_type": "execute_result"
    }
   ],
   "source": [
    "f'O valor aproximado de pi é {3.1415}'"
   ]
  },
  {
   "cell_type": "code",
   "execution_count": 11,
   "id": "32d0c912-1fdf-4c49-beea-e24c98358ba9",
   "metadata": {
    "editable": true,
    "slideshow": {
     "slide_type": ""
    },
    "tags": []
   },
   "outputs": [
    {
     "data": {
      "text/plain": [
       "'O valor aproximado de pi é 3.14'"
      ]
     },
     "execution_count": 11,
     "metadata": {},
     "output_type": "execute_result"
    }
   ],
   "source": [
    "f'O valor aproximado de pi é {3.1415:.2f}'"
   ]
  },
  {
   "cell_type": "code",
   "execution_count": 12,
   "id": "4630cbe3-0136-4e2f-a866-395a11a34afc",
   "metadata": {
    "editable": true,
    "slideshow": {
     "slide_type": ""
    },
    "tags": []
   },
   "outputs": [
    {
     "data": {
      "text/plain": [
       "'0127 bananas'"
      ]
     },
     "execution_count": 12,
     "metadata": {},
     "output_type": "execute_result"
    }
   ],
   "source": [
    "num = 127\n",
    "f'{num:04d} {\"ba\" + \"na\" * 2}s'"
   ]
  },
  {
   "cell_type": "markdown",
   "id": "8a39c3f3-54f2-4d59-b6dd-6dbbcc907b91",
   "metadata": {
    "editable": true,
    "slideshow": {
     "slide_type": ""
    },
    "tags": []
   },
   "source": [
    "No último caso, note que pude colocar inclusive expressões, que serão avaliadas e inseridas no espaço desejado, e que podem conter aspas, desde que não sejam do mesmo tipo das aspas que iniciaram a string.\n",
    "\n",
    "Se você testou por conta própria a variável `texto_longo` definida acima, você verá que sua representação é diferente da declaração."
   ]
  },
  {
   "cell_type": "code",
   "execution_count": 13,
   "id": "f71a159e-80cc-4bf7-a8c8-bc1eaed5f615",
   "metadata": {
    "editable": true,
    "slideshow": {
     "slide_type": ""
    },
    "tags": []
   },
   "outputs": [
    {
     "data": {
      "text/plain": [
       "'Primeiro parágrafo.\\n\\nSegundo parágrafo.\\n\\nTerceiro.\\n'"
      ]
     },
     "execution_count": 13,
     "metadata": {},
     "output_type": "execute_result"
    }
   ],
   "source": [
    "texto_longo"
   ]
  },
  {
   "cell_type": "markdown",
   "id": "04c23d43-736c-4f00-9152-291704db44f1",
   "metadata": {
    "editable": true,
    "slideshow": {
     "slide_type": ""
    },
    "tags": []
   },
   "source": [
    "Ao invés de aparecer em três parágrafos, temos o texto em uma linha só, e com alguns símbolos que não havíamos adicionado, `\\n`. Isso é conhecido como um *caracter de escape* (*escape character* ou *escape sequence*) que possuem como finalidade expressar texto invisível. Os tipos mais comuns são:\n",
    "\n",
    "* `\\n` indica uma nova linha (*newline* ou *line feed*)\n",
    "* `\\t` indica um tab horizontal\n",
    "* `\\r` indica *carriage return*. Pensando no texto digitado como sendo feito numa máquina de datilografar, isso significa o ato de voltar com o carro para a esquerda (onde são pressionadas as letras).\n",
    "* `\\\\` indica uma barra para a esquerda, somente.\n",
    "* `\\'` e `\\\"` permite que você use as mesmas aspas utilizadas no início da string no meio da mesma. Por exemplo, `'Karl\\'s book'`. Evite utilizar isso se possível.\n",
    "\n",
    "Mais informações podem ser encontradas [aqui](https://docs.python.org/3/reference/lexical_analysis.html#string-and-bytes-literals)\n",
    "\n",
    "Em Windows, arquivos de texto utilizam a combinação de `'\\r\\n'` para separar linhas, enquanto que sistemas Linux utilizam `'\\n'` somente.\n",
    "\n",
    "Caso você queira que o texto `\\n` apareça literalmente na string, pode fazer o seguinte:\n",
    "\n",
    "1. \"Escapar\" (colocar um `\\`) a primeira barra, seguido de `n`.\n",
    "2. Utilizar uma `raw string`, precedendo as aspas com um `r`.\n",
    "\n",
    "Ambos os métodos são válidos, mas acho o segundo mais conveniente. Você pode também combinar `raw string` com `f-string`. Vejamo alguns exemplos.\n",
    "\n"
   ]
  },
  {
   "cell_type": "code",
   "execution_count": 14,
   "id": "6b8a4245-7474-4d3c-8788-31ad9acd45c9",
   "metadata": {
    "editable": true,
    "slideshow": {
     "slide_type": ""
    },
    "tags": []
   },
   "outputs": [
    {
     "data": {
      "text/plain": [
       "'\\\\n\\\\n\\\\n'"
      ]
     },
     "execution_count": 14,
     "metadata": {},
     "output_type": "execute_result"
    }
   ],
   "source": [
    "r'\\n\\n\\n'"
   ]
  },
  {
   "cell_type": "markdown",
   "id": "dfbb33c1-26f0-4dea-9bb6-8f0ef7f229f4",
   "metadata": {
    "editable": true,
    "slideshow": {
     "slide_type": ""
    },
    "tags": []
   },
   "source": [
    "Note que, na exibição, `\\n` foi \"escapado\" para `\\\\n`."
   ]
  },
  {
   "cell_type": "code",
   "execution_count": 15,
   "id": "b2dffb7f-b0d8-44d4-ac56-df24683defd3",
   "metadata": {
    "editable": true,
    "slideshow": {
     "slide_type": ""
    },
    "tags": []
   },
   "outputs": [
    {
     "data": {
      "text/plain": [
       "'\\\\nKarl\\\\n'"
      ]
     },
     "execution_count": 15,
     "metadata": {},
     "output_type": "execute_result"
    }
   ],
   "source": [
    "fr'\\n{nome}\\n'"
   ]
  },
  {
   "cell_type": "markdown",
   "id": "4d74de44-d00c-495d-8504-b4a07de57541",
   "metadata": {
    "editable": true,
    "slideshow": {
     "slide_type": ""
    },
    "tags": []
   },
   "source": [
    "## Funções\n",
    "\n",
    "Uma função é um bloco de código que aceita de 0 a potencialmente infinitas variáveis como entrada (chamadas argumentos), executa alguma ação nessas variáveis, podendo alterá-las, e depois retorna de 0 a potencialmente infinitas variáveis como saída.\n",
    "\n",
    "                   ______\n",
    "    entrada ----->|  f   |------> saída\n",
    "                  |______|\n",
    "\n",
    "O propósito de funções é permitir que você reutilize certa lógica com facilidade, sem ter que copiar o código inteiro, pois você só precisa chamar a função. Também pode lhe auxiliar na simplificação do seu código, pois abstrai um conjunto de linhas e as resume com um nome. Essa abstração pode ser completamente opaca, permitindo que o utilizador tenha somente uma ideia do que está sendo feito pela função, sem precisar saber os detalhes da operação.\n",
    "\n",
    "Em Python, existem algumas funções pré-existentes. Além disso, variáveis podem possuir funções internas, definidas por seus tipos. Por trás dos panos, são essas funções internas que operam quando fazemos, por exemplo, `a + b`.\n",
    "\n",
    "Para chamar uma função, você precisa localizá-la, escrever seu nome, colocar um par de parênteses e dentro deles, os argumentos separados por vírgulas, se necessário. Por exemplo, para chamar a função `f` que aceita dois argumentos:\n",
    "\n",
    "```\n",
    "f(arg1, arg2)\n",
    "```\n",
    "\n",
    "Como funções várias vezes retornam valores, podemos atribuí-los à variáveis. Então\n",
    "\n",
    "```\n",
    "res = f(arg1, arg2)\n",
    "```\n",
    "\n",
    "Se uma função não retornar um valor, mas você atribuir de qualquer maneira esse resultado inexistente, irá notar que um objeto do tipo `None` foi criado. Isso é um alerta para você, pois é possível que a operação da função não tenha sucedido (por exemplo, se você procurar por alguma coisa, mas não encontrá-la)."
   ]
  },
  {
   "cell_type": "markdown",
   "id": "03788404-d944-47a6-801c-0dcc37ec8328",
   "metadata": {
    "editable": true,
    "slideshow": {
     "slide_type": ""
    },
    "tags": []
   },
   "source": [
    "## As funções `print` e `input`\n",
    "\n",
    "A função `print` serve para fazer texto aparecer na tela/console. Já utilizamos isso anteriormente para testar se tudo está operando como esperado. Essa função aceita um número infinito de argumentos como entrada, coloca eles na tela, e não retorna nada (`None`). O tipo de variável mais comumente utilizado com `print` são strings. A função `input` aceita uma string, que irá aparecer na tela, e em seguida permite que um usuário escreva alguma coisa. Quando apertar \"Enter\", o conteúdo da linha escrita é armazenada em uma variável.\n",
    "\n",
    "Vamos ver alguns exemplos:"
   ]
  },
  {
   "cell_type": "code",
   "execution_count": 16,
   "id": "b5c02f99-9bd8-45d4-9b85-48edd7b0a503",
   "metadata": {
    "editable": true,
    "slideshow": {
     "slide_type": ""
    },
    "tags": []
   },
   "outputs": [
    {
     "name": "stdout",
     "output_type": "stream",
     "text": [
      "Hello world!\n",
      "Hello world!\n",
      "Hello\n",
      "world!\n",
      "Hello world!\n"
     ]
    }
   ],
   "source": [
    "print(\"Hello world!\")\n",
    "print('Hello world!')\n",
    "print('''Hello\n",
    "world!''')\n",
    "print('Hello', \"world!\")"
   ]
  },
  {
   "cell_type": "code",
   "execution_count": 18,
   "id": "f37d96e9-5c61-4910-8a3a-ebb777a246d9",
   "metadata": {
    "editable": true,
    "skip-execution": true,
    "slideshow": {
     "slide_type": ""
    },
    "tags": [
     "skip-execution",
     "remove-output"
    ]
   },
   "outputs": [
    {
     "name": "stdin",
     "output_type": "stream",
     "text": [
      "Qual o seu nome?  Karl\n"
     ]
    },
    {
     "name": "stdout",
     "output_type": "stream",
     "text": [
      "Olá Karl\n"
     ]
    }
   ],
   "source": [
    "nome = input('Qual o seu nome? ')\n",
    "print('Olá', nome)"
   ]
  },
  {
   "cell_type": "markdown",
   "id": "6c74c83a-0623-43ae-a3da-6e4e02f20135",
   "metadata": {
    "editable": true,
    "slideshow": {
     "slide_type": ""
    },
    "tags": []
   },
   "source": [
    "    Qual o seu nome?  Karl\n",
    "    Olá Karl\n",
    "\n",
    "(Por conta da maneira que este material é organizado, tenho que colocar células com `input` de uma maneira especial)."
   ]
  },
  {
   "cell_type": "markdown",
   "id": "435ccfff-7046-45c3-8cb6-2d83dffc0d68",
   "metadata": {
    "editable": true,
    "slideshow": {
     "slide_type": ""
    },
    "tags": []
   },
   "source": [
    "## Obtendo ajuda com a função `help`\n",
    "\n",
    "Você pode se perguntar o seguinte. \"Se eu, até agora, escrevi o nome de uma variável e obtive o \"valor\" dela de volta, numa célula, o que acontece se fizer o mesmo com uma função?\" Possivelmente inspirado na observação que fiz que, em Python, tudo é um objeto, você teria este resultado:"
   ]
  },
  {
   "cell_type": "code",
   "execution_count": 19,
   "id": "e171acd3-eee6-4ce3-9eff-7c4d4f54bc3c",
   "metadata": {
    "editable": true,
    "slideshow": {
     "slide_type": ""
    },
    "tags": []
   },
   "outputs": [
    {
     "data": {
      "text/plain": [
       "<function print(*args, sep=' ', end='\\n', file=None, flush=False)>"
      ]
     },
     "execution_count": 19,
     "metadata": {},
     "output_type": "execute_result"
    }
   ],
   "source": [
    "print"
   ]
  },
  {
   "cell_type": "markdown",
   "id": "220fe8b5-66b0-40b5-8723-f91ae4fd2e16",
   "metadata": {
    "editable": true,
    "slideshow": {
     "slide_type": ""
    },
    "tags": []
   },
   "source": [
    "Note que não adicionei os parênteses! Isso *chamaria* a função, i.e., a executaria. Aqui, estamos somente tentando observar a função em si.\n",
    "\n",
    "Neste caso, temos como resposta um pequeno texto explicando algumas opções da função `print`, com uma sintaxe que ainda não vimos. Há 5 argumentos para essa função, `*args`, `sep=' '`, `end='\\n'`, `file=None`, `flush=False`. Isso é útil caso você queira rever rapidamente os argumentos, mas não serve muito se você não souber o que tais argumentos significam. Para isso, podemos utilizar a função `help`."
   ]
  },
  {
   "cell_type": "code",
   "execution_count": 20,
   "id": "73306bfe-abc3-4ca8-bf56-c12fd185c0bc",
   "metadata": {
    "editable": true,
    "slideshow": {
     "slide_type": ""
    },
    "tags": []
   },
   "outputs": [
    {
     "name": "stdout",
     "output_type": "stream",
     "text": [
      "Help on built-in function print in module builtins:\n",
      "\n",
      "print(*args, sep=' ', end='\\n', file=None, flush=False)\n",
      "    Prints the values to a stream, or to sys.stdout by default.\n",
      "    \n",
      "    sep\n",
      "      string inserted between values, default a space.\n",
      "    end\n",
      "      string appended after the last value, default a newline.\n",
      "    file\n",
      "      a file-like object (stream); defaults to the current sys.stdout.\n",
      "    flush\n",
      "      whether to forcibly flush the stream.\n",
      "\n"
     ]
    }
   ],
   "source": [
    "help(print)"
   ]
  },
  {
   "cell_type": "markdown",
   "id": "716fa28e-e732-4abd-a4e4-39ceb74051b7",
   "metadata": {
    "editable": true,
    "slideshow": {
     "slide_type": ""
    },
    "tags": []
   },
   "source": [
    "Note algo interessante aqui: Nós passamos uma função para outra! Em Python, tudo é um objeto, e todo objeto tem um tipo, inclusive funções.\n",
    "\n",
    "Vamos então passo a passo pelos argumentos de `print`:\n",
    "\n",
    "* `*args`: Esta nomenclatura significa que aceita um número qualquer de argumentos *sem nome* ou *posicionais*. Argumentos *sem nome* são diferente dos argumentos *com nome* ou *keyword arguments*, pois o significado deles depende de sua posição. Na função `print`, a sequência de argumentos posicionais que você fornecer será a ordem do texto que aparece na tela. O tipo deles não importa - qualquer variável é aceita, pois as variáveis em si que controlam como são exibidas como texto, e `print` utiliza isso.\n",
    "\n",
    "Os outros argumentos de `print` são todos `keyword arguments`. Eles podem aparecer em qualquer ordem exceto antes do argumetos posicionais, e só podem aparecer uma vez, e possuem um valor padrão, dado pelo valor após o `=`.\n",
    "\n",
    "* `sep` controla o que é colocado entre os argumentos, é o *separador*. Por padrão, Python coloca um espaço `' '`. Somente `str`s são aceitas.\n",
    "* `end` controla o que é colocado no final do texto criado. Por padrão, insere `'\\n'`. Isso é chamado de um *caracter de escape* ou *escape character*. Há vários caracteres de escape e eles possuem significados diferentes. `'\\n'` significa *newline*, ou seja, por padrão, Python coloca um \"Enter\", uma quebra de linha, depois do texto que você fornece. Veja nos exemplos anteriores que todos os \"Hello world!\" apareceram em linhas separadas? Este é o motivo. Somente `str`s são aceitos.\n",
    "* `file` controla se você quer colocar o texto criado em outro lugar além da tela. Aqui, `sys.stdout` significa *o local padrão de output do sistema*, que é geralmente o console. Somente objetivos tipo arquivos são aceitos.\n",
    "* `flush` é uma opção que tem a ver com o funcionamento interno de `print` e `sys.stdout`. É possível que essa ferramenta armazene os resultados por um tempo antes de mostrar o resultado. Com `flush=True`, você força que tudo enviado para `print` seja exibido. Isso é geralmente utilizado caso você esteja fazendo alguma coisa interativa, por exemplo, e precisa que o texto que aparece na tela esteja sempre atualizado. Um booleano é aceito."
   ]
  },
  {
   "cell_type": "markdown",
   "id": "4cef0143-8ef6-45c8-b95a-6136c5cb4dd2",
   "metadata": {
    "editable": true,
    "slideshow": {
     "slide_type": ""
    },
    "tags": []
   },
   "source": [
    "Em ambientes IPython (como um jupyter notebook), podemos também colocar um (`?`) ou dois (`??`) pontos de interrogação antes do nome para obter mais informações sobre a função. Não haverá diferença para `print`, mas há diferença com funções não `builtin` do Python, onde `??` mostra o código fonte da função."
   ]
  },
  {
   "cell_type": "code",
   "execution_count": 21,
   "id": "729d6dd3-5a03-4d69-976f-9f300f2afa69",
   "metadata": {
    "editable": true,
    "slideshow": {
     "slide_type": ""
    },
    "tags": []
   },
   "outputs": [
    {
     "data": {
      "text/plain": [
       "\u001b[1;31mSignature:\u001b[0m \u001b[0mprint\u001b[0m\u001b[1;33m(\u001b[0m\u001b[1;33m*\u001b[0m\u001b[0margs\u001b[0m\u001b[1;33m,\u001b[0m \u001b[0msep\u001b[0m\u001b[1;33m=\u001b[0m\u001b[1;34m' '\u001b[0m\u001b[1;33m,\u001b[0m \u001b[0mend\u001b[0m\u001b[1;33m=\u001b[0m\u001b[1;34m'\\n'\u001b[0m\u001b[1;33m,\u001b[0m \u001b[0mfile\u001b[0m\u001b[1;33m=\u001b[0m\u001b[1;32mNone\u001b[0m\u001b[1;33m,\u001b[0m \u001b[0mflush\u001b[0m\u001b[1;33m=\u001b[0m\u001b[1;32mFalse\u001b[0m\u001b[1;33m)\u001b[0m\u001b[1;33m\u001b[0m\u001b[1;33m\u001b[0m\u001b[0m\n",
       "\u001b[1;31mDocstring:\u001b[0m\n",
       "Prints the values to a stream, or to sys.stdout by default.\n",
       "\n",
       "sep\n",
       "  string inserted between values, default a space.\n",
       "end\n",
       "  string appended after the last value, default a newline.\n",
       "file\n",
       "  a file-like object (stream); defaults to the current sys.stdout.\n",
       "flush\n",
       "  whether to forcibly flush the stream.\n",
       "\u001b[1;31mType:\u001b[0m      builtin_function_or_method"
      ]
     },
     "metadata": {},
     "output_type": "display_data"
    }
   ],
   "source": [
    "?print"
   ]
  },
  {
   "cell_type": "markdown",
   "id": "b0c1f0ce-14cc-472b-bcfd-c82d9c05e891",
   "metadata": {
    "editable": true,
    "slideshow": {
     "slide_type": ""
    },
    "tags": []
   },
   "source": [
    "Vendo isso, vamos explorar a função `print` mais um pouco, utilizando os argumentos revelados pela ajuda."
   ]
  },
  {
   "cell_type": "markdown",
   "id": "a581343b-a3a1-4dcb-aa85-ccce4db6b5f2",
   "metadata": {
    "editable": true,
    "slideshow": {
     "slide_type": ""
    },
    "tags": []
   },
   "source": [
    "Além do conteúdo de `help`, `?` forneceu a assinatura da função, que já vimos anteriormente, e informa o tipo de `print`, que é uma função ou método embutido no Python."
   ]
  },
  {
   "cell_type": "code",
   "execution_count": 22,
   "id": "18b01661-faf7-42e2-9878-b0ca418105e7",
   "metadata": {
    "editable": true,
    "slideshow": {
     "slide_type": ""
    },
    "tags": []
   },
   "outputs": [
    {
     "name": "stdout",
     "output_type": "stream",
     "text": [
      "Hello\n",
      "\n",
      "\n",
      "World! oooHello---World! aaa"
     ]
    }
   ],
   "source": [
    "print(\"Hello\", \"World!\", sep='\\n\\n\\n', end=' ooo')\n",
    "print(\"Hello\", \"World!\", sep='---', end=' aaa')"
   ]
  },
  {
   "cell_type": "code",
   "execution_count": 23,
   "id": "8bfa26ac-b9d7-44f1-9065-b924d035f61a",
   "metadata": {
    "editable": true,
    "slideshow": {
     "slide_type": ""
    },
    "tags": []
   },
   "outputs": [
    {
     "name": "stdout",
     "output_type": "stream",
     "text": [
      "Hello World!"
     ]
    }
   ],
   "source": [
    "print('', ' ', sep='Hello', end='World!', flush=True)"
   ]
  },
  {
   "cell_type": "markdown",
   "id": "245ab724-b507-4449-a5f4-6ca537bac6e9",
   "metadata": {
    "editable": true,
    "slideshow": {
     "slide_type": ""
    },
    "tags": []
   },
   "source": [
    "## Funções internas: métodos\n",
    "\n",
    "Você se lembra que quando chamei uma variável de uma caixinha com valores e ferramentas? Essas ferramentas são funções que operam dentro das variáveis e podem usar o estado delas para realizar algumas operações. `str`, por exemplo, possui muitos métodos próprios. Vamos ver a ajuda."
   ]
  },
  {
   "cell_type": "code",
   "execution_count": 24,
   "id": "ca0df1a8-10f6-45ab-a71e-18278ee8de4f",
   "metadata": {
    "editable": true,
    "scrolled": true,
    "slideshow": {
     "slide_type": ""
    },
    "tags": [
     "remove-output"
    ]
   },
   "outputs": [
    {
     "name": "stdout",
     "output_type": "stream",
     "text": [
      "Help on class str in module builtins:\n",
      "\n",
      "class str(object)\n",
      " |  str(object='') -> str\n",
      " |  str(bytes_or_buffer[, encoding[, errors]]) -> str\n",
      " |  \n",
      " |  Create a new string object from the given object. If encoding or\n",
      " |  errors is specified, then the object must expose a data buffer\n",
      " |  that will be decoded using the given encoding and error handler.\n",
      " |  Otherwise, returns the result of object.__str__() (if defined)\n",
      " |  or repr(object).\n",
      " |  encoding defaults to sys.getdefaultencoding().\n",
      " |  errors defaults to 'strict'.\n",
      " |  \n",
      " |  Methods defined here:\n",
      " |  \n",
      " |  __add__(self, value, /)\n",
      " |      Return self+value.\n",
      " |  \n",
      " |  __contains__(self, key, /)\n",
      " |      Return key in self.\n",
      " |  \n",
      " |  __eq__(self, value, /)\n",
      " |      Return self==value.\n",
      " |  \n",
      " |  __format__(self, format_spec, /)\n",
      " |      Return a formatted version of the string as described by format_spec.\n",
      " |  \n",
      " |  __ge__(self, value, /)\n",
      " |      Return self>=value.\n",
      " |  \n",
      " |  __getattribute__(self, name, /)\n",
      " |      Return getattr(self, name).\n",
      " |  \n",
      " |  __getitem__(self, key, /)\n",
      " |      Return self[key].\n",
      " |  \n",
      " |  __getnewargs__(...)\n",
      " |  \n",
      " |  __gt__(self, value, /)\n",
      " |      Return self>value.\n",
      " |  \n",
      " |  __hash__(self, /)\n",
      " |      Return hash(self).\n",
      " |  \n",
      " |  __iter__(self, /)\n",
      " |      Implement iter(self).\n",
      " |  \n",
      " |  __le__(self, value, /)\n",
      " |      Return self<=value.\n",
      " |  \n",
      " |  __len__(self, /)\n",
      " |      Return len(self).\n",
      " |  \n",
      " |  __lt__(self, value, /)\n",
      " |      Return self<value.\n",
      " |  \n",
      " |  __mod__(self, value, /)\n",
      " |      Return self%value.\n",
      " |  \n",
      " |  __mul__(self, value, /)\n",
      " |      Return self*value.\n",
      " |  \n",
      " |  __ne__(self, value, /)\n",
      " |      Return self!=value.\n",
      " |  \n",
      " |  __repr__(self, /)\n",
      " |      Return repr(self).\n",
      " |  \n",
      " |  __rmod__(self, value, /)\n",
      " |      Return value%self.\n",
      " |  \n",
      " |  __rmul__(self, value, /)\n",
      " |      Return value*self.\n",
      " |  \n",
      " |  __sizeof__(self, /)\n",
      " |      Return the size of the string in memory, in bytes.\n",
      " |  \n",
      " |  __str__(self, /)\n",
      " |      Return str(self).\n",
      " |  \n",
      " |  capitalize(self, /)\n",
      " |      Return a capitalized version of the string.\n",
      " |      \n",
      " |      More specifically, make the first character have upper case and the rest lower\n",
      " |      case.\n",
      " |  \n",
      " |  casefold(self, /)\n",
      " |      Return a version of the string suitable for caseless comparisons.\n",
      " |  \n",
      " |  center(self, width, fillchar=' ', /)\n",
      " |      Return a centered string of length width.\n",
      " |      \n",
      " |      Padding is done using the specified fill character (default is a space).\n",
      " |  \n",
      " |  count(...)\n",
      " |      S.count(sub[, start[, end]]) -> int\n",
      " |      \n",
      " |      Return the number of non-overlapping occurrences of substring sub in\n",
      " |      string S[start:end].  Optional arguments start and end are\n",
      " |      interpreted as in slice notation.\n",
      " |  \n",
      " |  encode(self, /, encoding='utf-8', errors='strict')\n",
      " |      Encode the string using the codec registered for encoding.\n",
      " |      \n",
      " |      encoding\n",
      " |        The encoding in which to encode the string.\n",
      " |      errors\n",
      " |        The error handling scheme to use for encoding errors.\n",
      " |        The default is 'strict' meaning that encoding errors raise a\n",
      " |        UnicodeEncodeError.  Other possible values are 'ignore', 'replace' and\n",
      " |        'xmlcharrefreplace' as well as any other name registered with\n",
      " |        codecs.register_error that can handle UnicodeEncodeErrors.\n",
      " |  \n",
      " |  endswith(...)\n",
      " |      S.endswith(suffix[, start[, end]]) -> bool\n",
      " |      \n",
      " |      Return True if S ends with the specified suffix, False otherwise.\n",
      " |      With optional start, test S beginning at that position.\n",
      " |      With optional end, stop comparing S at that position.\n",
      " |      suffix can also be a tuple of strings to try.\n",
      " |  \n",
      " |  expandtabs(self, /, tabsize=8)\n",
      " |      Return a copy where all tab characters are expanded using spaces.\n",
      " |      \n",
      " |      If tabsize is not given, a tab size of 8 characters is assumed.\n",
      " |  \n",
      " |  find(...)\n",
      " |      S.find(sub[, start[, end]]) -> int\n",
      " |      \n",
      " |      Return the lowest index in S where substring sub is found,\n",
      " |      such that sub is contained within S[start:end].  Optional\n",
      " |      arguments start and end are interpreted as in slice notation.\n",
      " |      \n",
      " |      Return -1 on failure.\n",
      " |  \n",
      " |  format(...)\n",
      " |      S.format(*args, **kwargs) -> str\n",
      " |      \n",
      " |      Return a formatted version of S, using substitutions from args and kwargs.\n",
      " |      The substitutions are identified by braces ('{' and '}').\n",
      " |  \n",
      " |  format_map(...)\n",
      " |      S.format_map(mapping) -> str\n",
      " |      \n",
      " |      Return a formatted version of S, using substitutions from mapping.\n",
      " |      The substitutions are identified by braces ('{' and '}').\n",
      " |  \n",
      " |  index(...)\n",
      " |      S.index(sub[, start[, end]]) -> int\n",
      " |      \n",
      " |      Return the lowest index in S where substring sub is found,\n",
      " |      such that sub is contained within S[start:end].  Optional\n",
      " |      arguments start and end are interpreted as in slice notation.\n",
      " |      \n",
      " |      Raises ValueError when the substring is not found.\n",
      " |  \n",
      " |  isalnum(self, /)\n",
      " |      Return True if the string is an alpha-numeric string, False otherwise.\n",
      " |      \n",
      " |      A string is alpha-numeric if all characters in the string are alpha-numeric and\n",
      " |      there is at least one character in the string.\n",
      " |  \n",
      " |  isalpha(self, /)\n",
      " |      Return True if the string is an alphabetic string, False otherwise.\n",
      " |      \n",
      " |      A string is alphabetic if all characters in the string are alphabetic and there\n",
      " |      is at least one character in the string.\n",
      " |  \n",
      " |  isascii(self, /)\n",
      " |      Return True if all characters in the string are ASCII, False otherwise.\n",
      " |      \n",
      " |      ASCII characters have code points in the range U+0000-U+007F.\n",
      " |      Empty string is ASCII too.\n",
      " |  \n",
      " |  isdecimal(self, /)\n",
      " |      Return True if the string is a decimal string, False otherwise.\n",
      " |      \n",
      " |      A string is a decimal string if all characters in the string are decimal and\n",
      " |      there is at least one character in the string.\n",
      " |  \n",
      " |  isdigit(self, /)\n",
      " |      Return True if the string is a digit string, False otherwise.\n",
      " |      \n",
      " |      A string is a digit string if all characters in the string are digits and there\n",
      " |      is at least one character in the string.\n",
      " |  \n",
      " |  isidentifier(self, /)\n",
      " |      Return True if the string is a valid Python identifier, False otherwise.\n",
      " |      \n",
      " |      Call keyword.iskeyword(s) to test whether string s is a reserved identifier,\n",
      " |      such as \"def\" or \"class\".\n",
      " |  \n",
      " |  islower(self, /)\n",
      " |      Return True if the string is a lowercase string, False otherwise.\n",
      " |      \n",
      " |      A string is lowercase if all cased characters in the string are lowercase and\n",
      " |      there is at least one cased character in the string.\n",
      " |  \n",
      " |  isnumeric(self, /)\n",
      " |      Return True if the string is a numeric string, False otherwise.\n",
      " |      \n",
      " |      A string is numeric if all characters in the string are numeric and there is at\n",
      " |      least one character in the string.\n",
      " |  \n",
      " |  isprintable(self, /)\n",
      " |      Return True if the string is printable, False otherwise.\n",
      " |      \n",
      " |      A string is printable if all of its characters are considered printable in\n",
      " |      repr() or if it is empty.\n",
      " |  \n",
      " |  isspace(self, /)\n",
      " |      Return True if the string is a whitespace string, False otherwise.\n",
      " |      \n",
      " |      A string is whitespace if all characters in the string are whitespace and there\n",
      " |      is at least one character in the string.\n",
      " |  \n",
      " |  istitle(self, /)\n",
      " |      Return True if the string is a title-cased string, False otherwise.\n",
      " |      \n",
      " |      In a title-cased string, upper- and title-case characters may only\n",
      " |      follow uncased characters and lowercase characters only cased ones.\n",
      " |  \n",
      " |  isupper(self, /)\n",
      " |      Return True if the string is an uppercase string, False otherwise.\n",
      " |      \n",
      " |      A string is uppercase if all cased characters in the string are uppercase and\n",
      " |      there is at least one cased character in the string.\n",
      " |  \n",
      " |  join(self, iterable, /)\n",
      " |      Concatenate any number of strings.\n",
      " |      \n",
      " |      The string whose method is called is inserted in between each given string.\n",
      " |      The result is returned as a new string.\n",
      " |      \n",
      " |      Example: '.'.join(['ab', 'pq', 'rs']) -> 'ab.pq.rs'\n",
      " |  \n",
      " |  ljust(self, width, fillchar=' ', /)\n",
      " |      Return a left-justified string of length width.\n",
      " |      \n",
      " |      Padding is done using the specified fill character (default is a space).\n",
      " |  \n",
      " |  lower(self, /)\n",
      " |      Return a copy of the string converted to lowercase.\n",
      " |  \n",
      " |  lstrip(self, chars=None, /)\n",
      " |      Return a copy of the string with leading whitespace removed.\n",
      " |      \n",
      " |      If chars is given and not None, remove characters in chars instead.\n",
      " |  \n",
      " |  partition(self, sep, /)\n",
      " |      Partition the string into three parts using the given separator.\n",
      " |      \n",
      " |      This will search for the separator in the string.  If the separator is found,\n",
      " |      returns a 3-tuple containing the part before the separator, the separator\n",
      " |      itself, and the part after it.\n",
      " |      \n",
      " |      If the separator is not found, returns a 3-tuple containing the original string\n",
      " |      and two empty strings.\n",
      " |  \n",
      " |  removeprefix(self, prefix, /)\n",
      " |      Return a str with the given prefix string removed if present.\n",
      " |      \n",
      " |      If the string starts with the prefix string, return string[len(prefix):].\n",
      " |      Otherwise, return a copy of the original string.\n",
      " |  \n",
      " |  removesuffix(self, suffix, /)\n",
      " |      Return a str with the given suffix string removed if present.\n",
      " |      \n",
      " |      If the string ends with the suffix string and that suffix is not empty,\n",
      " |      return string[:-len(suffix)]. Otherwise, return a copy of the original\n",
      " |      string.\n",
      " |  \n",
      " |  replace(self, old, new, count=-1, /)\n",
      " |      Return a copy with all occurrences of substring old replaced by new.\n",
      " |      \n",
      " |        count\n",
      " |          Maximum number of occurrences to replace.\n",
      " |          -1 (the default value) means replace all occurrences.\n",
      " |      \n",
      " |      If the optional argument count is given, only the first count occurrences are\n",
      " |      replaced.\n",
      " |  \n",
      " |  rfind(...)\n",
      " |      S.rfind(sub[, start[, end]]) -> int\n",
      " |      \n",
      " |      Return the highest index in S where substring sub is found,\n",
      " |      such that sub is contained within S[start:end].  Optional\n",
      " |      arguments start and end are interpreted as in slice notation.\n",
      " |      \n",
      " |      Return -1 on failure.\n",
      " |  \n",
      " |  rindex(...)\n",
      " |      S.rindex(sub[, start[, end]]) -> int\n",
      " |      \n",
      " |      Return the highest index in S where substring sub is found,\n",
      " |      such that sub is contained within S[start:end].  Optional\n",
      " |      arguments start and end are interpreted as in slice notation.\n",
      " |      \n",
      " |      Raises ValueError when the substring is not found.\n",
      " |  \n",
      " |  rjust(self, width, fillchar=' ', /)\n",
      " |      Return a right-justified string of length width.\n",
      " |      \n",
      " |      Padding is done using the specified fill character (default is a space).\n",
      " |  \n",
      " |  rpartition(self, sep, /)\n",
      " |      Partition the string into three parts using the given separator.\n",
      " |      \n",
      " |      This will search for the separator in the string, starting at the end. If\n",
      " |      the separator is found, returns a 3-tuple containing the part before the\n",
      " |      separator, the separator itself, and the part after it.\n",
      " |      \n",
      " |      If the separator is not found, returns a 3-tuple containing two empty strings\n",
      " |      and the original string.\n",
      " |  \n",
      " |  rsplit(self, /, sep=None, maxsplit=-1)\n",
      " |      Return a list of the substrings in the string, using sep as the separator string.\n",
      " |      \n",
      " |        sep\n",
      " |          The separator used to split the string.\n",
      " |      \n",
      " |          When set to None (the default value), will split on any whitespace\n",
      " |          character (including \\\\n \\\\r \\\\t \\\\f and spaces) and will discard\n",
      " |          empty strings from the result.\n",
      " |        maxsplit\n",
      " |          Maximum number of splits (starting from the left).\n",
      " |          -1 (the default value) means no limit.\n",
      " |      \n",
      " |      Splitting starts at the end of the string and works to the front.\n",
      " |  \n",
      " |  rstrip(self, chars=None, /)\n",
      " |      Return a copy of the string with trailing whitespace removed.\n",
      " |      \n",
      " |      If chars is given and not None, remove characters in chars instead.\n",
      " |  \n",
      " |  split(self, /, sep=None, maxsplit=-1)\n",
      " |      Return a list of the substrings in the string, using sep as the separator string.\n",
      " |      \n",
      " |        sep\n",
      " |          The separator used to split the string.\n",
      " |      \n",
      " |          When set to None (the default value), will split on any whitespace\n",
      " |          character (including \\\\n \\\\r \\\\t \\\\f and spaces) and will discard\n",
      " |          empty strings from the result.\n",
      " |        maxsplit\n",
      " |          Maximum number of splits (starting from the left).\n",
      " |          -1 (the default value) means no limit.\n",
      " |      \n",
      " |      Note, str.split() is mainly useful for data that has been intentionally\n",
      " |      delimited.  With natural text that includes punctuation, consider using\n",
      " |      the regular expression module.\n",
      " |  \n",
      " |  splitlines(self, /, keepends=False)\n",
      " |      Return a list of the lines in the string, breaking at line boundaries.\n",
      " |      \n",
      " |      Line breaks are not included in the resulting list unless keepends is given and\n",
      " |      true.\n",
      " |  \n",
      " |  startswith(...)\n",
      " |      S.startswith(prefix[, start[, end]]) -> bool\n",
      " |      \n",
      " |      Return True if S starts with the specified prefix, False otherwise.\n",
      " |      With optional start, test S beginning at that position.\n",
      " |      With optional end, stop comparing S at that position.\n",
      " |      prefix can also be a tuple of strings to try.\n",
      " |  \n",
      " |  strip(self, chars=None, /)\n",
      " |      Return a copy of the string with leading and trailing whitespace removed.\n",
      " |      \n",
      " |      If chars is given and not None, remove characters in chars instead.\n",
      " |  \n",
      " |  swapcase(self, /)\n",
      " |      Convert uppercase characters to lowercase and lowercase characters to uppercase.\n",
      " |  \n",
      " |  title(self, /)\n",
      " |      Return a version of the string where each word is titlecased.\n",
      " |      \n",
      " |      More specifically, words start with uppercased characters and all remaining\n",
      " |      cased characters have lower case.\n",
      " |  \n",
      " |  translate(self, table, /)\n",
      " |      Replace each character in the string using the given translation table.\n",
      " |      \n",
      " |        table\n",
      " |          Translation table, which must be a mapping of Unicode ordinals to\n",
      " |          Unicode ordinals, strings, or None.\n",
      " |      \n",
      " |      The table must implement lookup/indexing via __getitem__, for instance a\n",
      " |      dictionary or list.  If this operation raises LookupError, the character is\n",
      " |      left untouched.  Characters mapped to None are deleted.\n",
      " |  \n",
      " |  upper(self, /)\n",
      " |      Return a copy of the string converted to uppercase.\n",
      " |  \n",
      " |  zfill(self, width, /)\n",
      " |      Pad a numeric string with zeros on the left, to fill a field of the given width.\n",
      " |      \n",
      " |      The string is never truncated.\n",
      " |  \n",
      " |  ----------------------------------------------------------------------\n",
      " |  Static methods defined here:\n",
      " |  \n",
      " |  __new__(*args, **kwargs) from builtins.type\n",
      " |      Create and return a new object.  See help(type) for accurate signature.\n",
      " |  \n",
      " |  maketrans(...)\n",
      " |      Return a translation table usable for str.translate().\n",
      " |      \n",
      " |      If there is only one argument, it must be a dictionary mapping Unicode\n",
      " |      ordinals (integers) or characters to Unicode ordinals, strings or None.\n",
      " |      Character keys will be then converted to ordinals.\n",
      " |      If there are two arguments, they must be strings of equal length, and\n",
      " |      in the resulting dictionary, each character in x will be mapped to the\n",
      " |      character at the same position in y. If there is a third argument, it\n",
      " |      must be a string, whose characters will be mapped to None in the result.\n",
      "\n"
     ]
    }
   ],
   "source": [
    "help(str)"
   ]
  },
  {
   "cell_type": "markdown",
   "id": "0d3e3278-70fc-47bc-bd35-9824a55d0c37",
   "metadata": {
    "editable": true,
    "slideshow": {
     "slide_type": ""
    },
    "tags": []
   },
   "source": [
    "É possível ver que há uma quantidade bastante grande de métodos definidos para `str`. Vários deles começam e terminam com dois underlines -- esses são chamados de *dunder methods*. Geralmente não são chamados diretamente, e são eles que fazem várias ações utilizando os operadores básicos em python. Por exemplo, `__add__(self, value, /)` de `str` é uma função que realiza a adição, ou concatenação, de strings, chamada pelo operador `+`. Note também que várias dessas funções possuem como argumento `self`. Não se preocupe com isso agora, mas a função disso é permitir que a função acesse o estado da atual variável, e são passados automaticamente pelo interpretador.\n",
    "\n",
    "Depois dos *dunder methods*, temos algumas funções que parecem ser mais interessantes. `capitalize`, `center`, `count`, `find`, `isalpha`, etc. Para acessar um método interno, utilize a notação `.`. Por exemplo"
   ]
  },
  {
   "cell_type": "code",
   "execution_count": 25,
   "id": "68e5ab36-df4a-4d26-975d-e1a0cc8a5666",
   "metadata": {
    "editable": true,
    "slideshow": {
     "slide_type": ""
    },
    "tags": []
   },
   "outputs": [
    {
     "data": {
      "text/plain": [
       "'Primeira frase. segunda frase'"
      ]
     },
     "execution_count": 25,
     "metadata": {},
     "output_type": "execute_result"
    }
   ],
   "source": [
    "'primeira frase. segunda frase'.capitalize() # Torna a primeira letra da string maiúscula."
   ]
  },
  {
   "cell_type": "code",
   "execution_count": 26,
   "id": "2b3c3812-679a-4f90-86dd-ef8e1b8aa420",
   "metadata": {
    "editable": true,
    "slideshow": {
     "slide_type": ""
    },
    "tags": []
   },
   "outputs": [
    {
     "data": {
      "text/plain": [
       "'Primeira Letra Maiúscula. Segunda Letra Maíscula'"
      ]
     },
     "execution_count": 26,
     "metadata": {},
     "output_type": "execute_result"
    }
   ],
   "source": [
    "'primeira letra maiúscula. segunda letra maíscula'.title() # torna a primeira letra de todas as palavras maíscula"
   ]
  },
  {
   "cell_type": "code",
   "execution_count": 27,
   "id": "06335975-6318-42e7-afbf-8198f603d09a",
   "metadata": {
    "editable": true,
    "slideshow": {
     "slide_type": ""
    },
    "tags": []
   },
   "outputs": [
    {
     "data": {
      "text/plain": [
       "'TEXTO TEXTO TEXTO'"
      ]
     },
     "execution_count": 27,
     "metadata": {},
     "output_type": "execute_result"
    }
   ],
   "source": [
    "'texto texto texto'.upper() # torna todas as letras maísculas (caixa alta)"
   ]
  },
  {
   "cell_type": "code",
   "execution_count": 28,
   "id": "ca91b59c-bb9e-4470-816a-5de90646b515",
   "metadata": {
    "editable": true,
    "slideshow": {
     "slide_type": ""
    },
    "tags": []
   },
   "outputs": [
    {
     "data": {
      "text/plain": [
       "2"
      ]
     },
     "execution_count": 28,
     "metadata": {},
     "output_type": "execute_result"
    }
   ],
   "source": [
    "'texto com sequência inconsequênte'.count('quê') # conta quantas vezes uma string ocorre em outra"
   ]
  },
  {
   "cell_type": "code",
   "execution_count": 29,
   "id": "c16cca2f-1b4c-4ca3-b8bd-32dc3912d6d6",
   "metadata": {
    "editable": true,
    "slideshow": {
     "slide_type": ""
    },
    "tags": []
   },
   "outputs": [
    {
     "data": {
      "text/plain": [
       "True"
      ]
     },
     "execution_count": 29,
     "metadata": {},
     "output_type": "execute_result"
    }
   ],
   "source": [
    "'12345'.isnumeric()  # Retorna True se todos os caracteres forem números"
   ]
  },
  {
   "cell_type": "code",
   "execution_count": 30,
   "id": "bb5bb105-e029-486e-92e7-a9a067e2a4a0",
   "metadata": {
    "editable": true,
    "slideshow": {
     "slide_type": ""
    },
    "tags": []
   },
   "outputs": [
    {
     "data": {
      "text/plain": [
       "False"
      ]
     },
     "execution_count": 30,
     "metadata": {},
     "output_type": "execute_result"
    }
   ],
   "source": [
    "'12345.7890'.isnumeric() # Retornou false porque \".\" não é um número"
   ]
  },
  {
   "cell_type": "code",
   "execution_count": 31,
   "id": "0e34a637-a544-4dea-a069-d5a1a6349d30",
   "metadata": {
    "editable": true,
    "slideshow": {
     "slide_type": ""
    },
    "tags": []
   },
   "outputs": [
    {
     "data": {
      "text/plain": [
       "True"
      ]
     },
     "execution_count": 31,
     "metadata": {},
     "output_type": "execute_result"
    }
   ],
   "source": [
    "'12345ABCD'.isalnum() # Retorna True se todos os caracteres forem números ou texto"
   ]
  },
  {
   "cell_type": "code",
   "execution_count": 32,
   "id": "60c0c126-61e5-49e9-8424-c512321d9ddb",
   "metadata": {
    "editable": true,
    "slideshow": {
     "slide_type": ""
    },
    "tags": []
   },
   "outputs": [
    {
     "data": {
      "text/plain": [
       "False"
      ]
     },
     "execution_count": 32,
     "metadata": {},
     "output_type": "execute_result"
    }
   ],
   "source": [
    "'12345ABCD-'.isalnum() # Retornou False porque \"-\" não é uma letra ou número"
   ]
  },
  {
   "cell_type": "code",
   "execution_count": 33,
   "id": "4a2c5ea2-5b26-48a6-a181-8796106aa183",
   "metadata": {
    "editable": true,
    "slideshow": {
     "slide_type": ""
    },
    "tags": []
   },
   "outputs": [
    {
     "data": {
      "text/plain": [
       "False"
      ]
     },
     "execution_count": 33,
     "metadata": {},
     "output_type": "execute_result"
    }
   ],
   "source": [
    "'12345ABCD'.isalpha() # Retorna True se todos os caracteres forem do alfabeto"
   ]
  },
  {
   "cell_type": "code",
   "execution_count": 34,
   "id": "9d51429e-251e-4150-aa70-39b6ca8c3e3a",
   "metadata": {
    "editable": true,
    "slideshow": {
     "slide_type": ""
    },
    "tags": []
   },
   "outputs": [
    {
     "data": {
      "text/plain": [
       "True"
      ]
     },
     "execution_count": 34,
     "metadata": {},
     "output_type": "execute_result"
    }
   ],
   "source": [
    "'áéíóú'.isalpha()"
   ]
  },
  {
   "cell_type": "code",
   "execution_count": 35,
   "id": "fed24f91-020b-4c85-be1c-13c0b79ee5e8",
   "metadata": {
    "editable": true,
    "slideshow": {
     "slide_type": ""
    },
    "tags": []
   },
   "outputs": [
    {
     "data": {
      "text/plain": [
       "True"
      ]
     },
     "execution_count": 35,
     "metadata": {},
     "output_type": "execute_result"
    }
   ],
   "source": [
    "\"\"\"linha\n",
    "\"\"\".endswith('\\n') # Retorna True se uma string termina com uma sequência de caracteres"
   ]
  },
  {
   "cell_type": "markdown",
   "id": "e9b29790-f394-477d-93fe-12f0a8c3a1bf",
   "metadata": {
    "editable": true,
    "slideshow": {
     "slide_type": ""
    },
    "tags": []
   },
   "source": [
    "Não são só as strings que possuem vários métodos. Os outros tipos que já vimos possuem suas próprias funções internas."
   ]
  },
  {
   "cell_type": "code",
   "execution_count": 36,
   "id": "99d07ae0-c570-4744-8c02-f3c714ca1002",
   "metadata": {
    "editable": true,
    "slideshow": {
     "slide_type": ""
    },
    "tags": []
   },
   "outputs": [
    {
     "data": {
      "text/plain": [
       "7"
      ]
     },
     "execution_count": 36,
     "metadata": {},
     "output_type": "execute_result"
    }
   ],
   "source": [
    "a = 65\n",
    "a.bit_length() # Informa quantos bits tem um número inteiro"
   ]
  },
  {
   "cell_type": "markdown",
   "id": "670811fd-cc03-4a5d-8736-120c575ed191",
   "metadata": {
    "editable": true,
    "slideshow": {
     "slide_type": ""
    },
    "tags": []
   },
   "source": [
    "Podemos averiguar isso com:"
   ]
  },
  {
   "cell_type": "code",
   "execution_count": 37,
   "id": "b29c0a8d-2199-4eba-a9bf-1e84ce30c561",
   "metadata": {
    "editable": true,
    "slideshow": {
     "slide_type": ""
    },
    "tags": []
   },
   "outputs": [
    {
     "data": {
      "text/plain": [
       "65"
      ]
     },
     "execution_count": 37,
     "metadata": {},
     "output_type": "execute_result"
    }
   ],
   "source": [
    "0b1000001"
   ]
  },
  {
   "cell_type": "markdown",
   "id": "5dda7fe0-80d6-4e1b-a74c-7424246df45e",
   "metadata": {
    "editable": true,
    "slideshow": {
     "slide_type": ""
    },
    "tags": []
   },
   "source": [
    "E com"
   ]
  },
  {
   "cell_type": "code",
   "execution_count": 38,
   "id": "90829479-aeaf-4b0c-a226-02c7e43858ba",
   "metadata": {
    "editable": true,
    "slideshow": {
     "slide_type": ""
    },
    "tags": []
   },
   "outputs": [
    {
     "data": {
      "text/plain": [
       "'0b1000001'"
      ]
     },
     "execution_count": 38,
     "metadata": {},
     "output_type": "execute_result"
    }
   ],
   "source": [
    "bin(a)"
   ]
  },
  {
   "cell_type": "markdown",
   "id": "24fd416f-aaf4-48d8-acaa-3aeab6d66669",
   "metadata": {
    "editable": true,
    "slideshow": {
     "slide_type": ""
    },
    "tags": []
   },
   "source": [
    "A função bin aceita um número inteiro e retorna uma string com a representação binária do número."
   ]
  },
  {
   "cell_type": "markdown",
   "id": "61053e3f-4f75-457f-993e-e1a1b39f0528",
   "metadata": {
    "editable": true,
    "slideshow": {
     "slide_type": ""
    },
    "tags": []
   },
   "source": [
    "### Métodos e propriedades: uma pequena diferença\n",
    "\n",
    "Estamos vendo métodos, que necessitam que você os chame, i.e., precisam ter um par de parênteses depois do nome do método. Algumas coisas, conhecidas como propriedades, refletem mais o *estado* de uma variável, e não precisam serem chamadas, pois não é feito um cálculo. Por exemplo, um número complexo possui uma parte real e uma parte imaginária."
   ]
  },
  {
   "cell_type": "code",
   "execution_count": 39,
   "id": "7fc636f2-5f26-462a-85d7-0f4912e17801",
   "metadata": {
    "editable": true,
    "slideshow": {
     "slide_type": ""
    },
    "tags": []
   },
   "outputs": [],
   "source": [
    "c = 2 + 3j"
   ]
  },
  {
   "cell_type": "code",
   "execution_count": 40,
   "id": "7c9bd97e-a713-4ede-86f8-f51f55d2bcdb",
   "metadata": {
    "editable": true,
    "slideshow": {
     "slide_type": ""
    },
    "tags": []
   },
   "outputs": [
    {
     "data": {
      "text/plain": [
       "2.0"
      ]
     },
     "execution_count": 40,
     "metadata": {},
     "output_type": "execute_result"
    }
   ],
   "source": [
    "c.real"
   ]
  },
  {
   "cell_type": "code",
   "execution_count": 41,
   "id": "e7029e68-4bb1-41a7-a511-b5d850c927f0",
   "metadata": {
    "editable": true,
    "slideshow": {
     "slide_type": ""
    },
    "tags": []
   },
   "outputs": [
    {
     "data": {
      "text/plain": [
       "3.0"
      ]
     },
     "execution_count": 41,
     "metadata": {},
     "output_type": "execute_result"
    }
   ],
   "source": [
    "c.imag"
   ]
  },
  {
   "cell_type": "markdown",
   "id": "ab4cfe8e-2492-4f71-b54b-9c1c0f78b2a2",
   "metadata": {
    "editable": true,
    "slideshow": {
     "slide_type": ""
    },
    "tags": []
   },
   "source": [
    "Se você equivocadamente chamar essas propriedades, irá notar uma mensagem de erro estranha."
   ]
  },
  {
   "cell_type": "code",
   "execution_count": 42,
   "id": "c10a7695-a2dd-4ee8-882d-6b5219af75af",
   "metadata": {
    "editable": true,
    "slideshow": {
     "slide_type": ""
    },
    "tags": []
   },
   "outputs": [
    {
     "ename": "TypeError",
     "evalue": "'float' object is not callable",
     "output_type": "error",
     "traceback": [
      "\u001b[1;31m---------------------------------------------------------------------------\u001b[0m",
      "\u001b[1;31mTypeError\u001b[0m                                 Traceback (most recent call last)",
      "Cell \u001b[1;32mIn[42], line 1\u001b[0m\n\u001b[1;32m----> 1\u001b[0m \u001b[43mc\u001b[49m\u001b[38;5;241;43m.\u001b[39;49m\u001b[43mreal\u001b[49m\u001b[43m(\u001b[49m\u001b[43m)\u001b[49m\n",
      "\u001b[1;31mTypeError\u001b[0m: 'float' object is not callable"
     ]
    }
   ],
   "source": [
    "c.real()"
   ]
  },
  {
   "cell_type": "markdown",
   "id": "00a2654e-d491-429d-bb53-e3bdfd637e8c",
   "metadata": {
    "editable": true,
    "slideshow": {
     "slide_type": ""
    },
    "tags": []
   },
   "source": [
    "Acima, vimos que a resposta de `c.real` é `2.0`, ou um número `float`. Quando utilizamos `c.real()`, primeiro o valor `c.real` é avaliado, tornando-se `2.0` e depois esse valor tenta ser chamado. Mas como um float não possui o instrumental para ser uma função, uma *callable*, essa mensagem de erro aparece."
   ]
  },
  {
   "cell_type": "markdown",
   "id": "4aecea87-6262-441f-8f92-13f2e89371fc",
   "metadata": {
    "editable": true,
    "slideshow": {
     "slide_type": ""
    },
    "tags": []
   },
   "source": [
    "É possível entender porque não é necessário chamar `real` e `imag`. Ambos são valores intrínsecos ao funcionamento da variável. Não é necessário realizar um cálculo para encontrá-los. Porém, se você deseja achar o complexo conjugado do número, isso pode requerir um cálculo, então é necessário colocar os `()`. Note que, devido a uns detalhes com decoradores e propriedades, isso não é *estritamente* verdadeiro, mas é *habitualmente* verdadeiro."
   ]
  },
  {
   "cell_type": "code",
   "execution_count": 43,
   "id": "d911b5da-e3a7-40ce-8fc5-593eef36d3ef",
   "metadata": {
    "editable": true,
    "slideshow": {
     "slide_type": ""
    },
    "tags": []
   },
   "outputs": [
    {
     "data": {
      "text/plain": [
       "(2-3j)"
      ]
     },
     "execution_count": 43,
     "metadata": {},
     "output_type": "execute_result"
    }
   ],
   "source": [
    "c.conjugate()"
   ]
  },
  {
   "cell_type": "markdown",
   "id": "0a53667b-75c7-46c9-9b74-e959aa8115e8",
   "metadata": {
    "editable": true,
    "slideshow": {
     "slide_type": ""
    },
    "tags": []
   },
   "source": [
    "## Definindo sua própria função\n",
    "\n",
    "Para criar uma função, devemos seguir a seguinte sintaxe:\n",
    "\n",
    "```\n",
    "def nome(arg1, arg2, [mais args...], kwarg1=defval1, kwarg2=defval2, [mais kwargs...]):\n",
    "    \"\"\"docstring\"\"\" (opcional)\n",
    "    [linha1]\n",
    "    [linha2]\n",
    "    return [resultado] (opcional)\n",
    "```\n",
    "\n",
    "Em suma, escrevemos a *keyword* `def`, seguido do nome da função, abrimos um par de parênteses, colocamos os nomes das variáveis posicionais, depois o `nome=valor padrão` das variáveis de palavra chave, fechamos os parênteses, colocamos um dois-pontos, damos Enter, depois um tab (ou quatro espaços), potencialmente colocamos uma *docstring*, depois as linhas de código da função, e por fim podemos retornar um valor com a *keyword* `return` e o valor a ser retornado. Vamos ver um exemplo:"
   ]
  },
  {
   "cell_type": "code",
   "execution_count": 44,
   "id": "de6fd98a-991f-4312-a6b9-09d0a6bcc14d",
   "metadata": {
    "editable": true,
    "slideshow": {
     "slide_type": ""
    },
    "tags": []
   },
   "outputs": [],
   "source": [
    "def calcular_número_de_mols(massa, massa_molar):\n",
    "    \"\"\"Calcula o número de mols a partir da massa pesada e da massa molar de um material\"\"\"\n",
    "    return massa / massa_molar"
   ]
  },
  {
   "cell_type": "markdown",
   "id": "5d5961ee-519d-4fa7-ac98-7c567954bdb4",
   "metadata": {
    "editable": true,
    "slideshow": {
     "slide_type": ""
    },
    "tags": []
   },
   "source": [
    "Se quisermos utilizar essa função, basta chamá-la:"
   ]
  },
  {
   "cell_type": "code",
   "execution_count": 45,
   "id": "4d08ad66-c873-4ff5-ac70-619082d9bd91",
   "metadata": {
    "editable": true,
    "slideshow": {
     "slide_type": ""
    },
    "tags": []
   },
   "outputs": [
    {
     "data": {
      "text/plain": [
       "0.0002869605142332415"
      ]
     },
     "execution_count": 45,
     "metadata": {},
     "output_type": "execute_result"
    }
   ],
   "source": [
    "calcular_número_de_mols(0.1, 348.48) # Lauril glicosídeo"
   ]
  },
  {
   "cell_type": "code",
   "execution_count": 46,
   "id": "e8ce449e-65ef-47aa-ab2a-1147fa97ffac",
   "metadata": {
    "editable": true,
    "slideshow": {
     "slide_type": ""
    },
    "tags": []
   },
   "outputs": [
    {
     "data": {
      "text/plain": [
       "25.0"
      ]
     },
     "execution_count": 46,
     "metadata": {},
     "output_type": "execute_result"
    }
   ],
   "source": [
    "def fahrenheit_to_celsius(F):\n",
    "    return (F - 32) / 9 * 5\n",
    "def celsius_to_fahrenheit(C):\n",
    "    return C / 5 * 9 + 32\n",
    "\n",
    "fahrenheit_to_celsius(celsius_to_fahrenheit(25))"
   ]
  },
  {
   "cell_type": "markdown",
   "id": "60eaf328-a2ce-4029-822d-04b041c2fc61",
   "metadata": {
    "editable": true,
    "slideshow": {
     "slide_type": ""
    },
    "tags": []
   },
   "source": [
    "Neste último caso, eu aninhei duas funções (coloquei uma dentro da outra), com um objetivo: testar se a fórmula utilizada é verdadeira. Como as funções `celsius_to_fahrenheit` e `fahrenheit_to_celsius` deveriam ser inversas, aplicando elas dessa maneira e obtendo o mesmo valor inicial, eu garanto que minha implementação está correta. Podemos formalizar isso um pouco melhor com uma nova *keyword*, `assert`. Essa *keyword* aceita à sua direita uma expressão, que precisa ser verdadeira. Se for falsa, uma mensagem de erro irá aparecer, com um `AssertionError`. Lembre-se que vimos na [seção sobre limitações de `float`s](sec:limit_float) que utilizar `==` não é muito apropriado para `float`s, e sim um valor de tolerância."
   ]
  },
  {
   "cell_type": "code",
   "execution_count": 47,
   "id": "bcbc1234-fa93-4047-9b6d-022f6552ff12",
   "metadata": {
    "editable": true,
    "slideshow": {
     "slide_type": ""
    },
    "tags": []
   },
   "outputs": [],
   "source": [
    "value = 25\n",
    "conversion = fahrenheit_to_celsius(celsius_to_fahrenheit(value))\n",
    "assert (value - conversion) < 1E-10"
   ]
  },
  {
   "cell_type": "markdown",
   "id": "66d7310a-bd66-444c-af96-1ebffa4e3aa1",
   "metadata": {
    "editable": true,
    "slideshow": {
     "slide_type": ""
    },
    "tags": []
   },
   "source": [
    "Este tipo de teste irá aumentar muito a confiança que você possui em seu código. De certa maneira, já fizemos isso com a passagem acima, mas utilizando um `assert`, nós deixamos explícito que uma determinada condição precisa ser passada. Quando a complexidade do seu código aumentar, e o número de partes móveis aumentar também, e você começar a se deparar com bugs, um conjunto de `assert`s poderá ser bastante útil como maneira de detecção de bugs.\n",
    "\n",
    "Um outro exemplo de `assert` que utilizo é na hora de gerar listas de nomes de arquivos. Se eu fiz 10 experimentos, espero 10 arquivos. Posso ter escrito errado a maneira de escolher os arquivos, ou esquecido de copiar um do computador de operação, e não iria detectar isso sem uma verificação manual da lista de arquivos, ou com um `assert` me informando que é possível que alguma coisa errada aconteceu."
   ]
  },
  {
   "cell_type": "markdown",
   "id": "4a337c2c-2d9c-4f03-a1f9-7243c9bce973",
   "metadata": {
    "editable": true,
    "slideshow": {
     "slide_type": ""
    },
    "tags": []
   },
   "source": [
    "## Exercícios resolvidos\n",
    "\n",
    "### Escrevendo um gerador de questões\n",
    "\n",
    "Vamos neste exercício escrever uma função que retorna o texto de uma questão com alternativas de resposta. Para isso, utilizaremos as funções de strings e algumas funções para a resolução matemática do problema. Como ainda não visitamos condicionais, não posso tornar a lógica desta função mais complexa, mas você verá que isto já é bastante bacana.\n",
    "\n",
    "Para o primeiro exemplo, revisitaremos a [questão do gás ideal](sec:prob_gas_ideal). Queremos um enunciando parecido com:\n",
    "\n",
    "    A fórmula do gás ideal é \n",
    "    \n",
    "    $$pV = nRT$$\n",
    "    \n",
    "    considerando 3,4g de hélio a 77°F em um frasco de 35mL, calcule a pressão em bar. Considere a constante dos gases igual a 8,314472 J/(K mol). Considere a massa molar de hélio como 4 g/mol.\n",
    "\n",
    "    (a) 60.20 bar\n",
    "    (b) 602.0 bar\n",
    "    (c) 155.48 bar\n",
    "    (d) 707.03 bar\n"
   ]
  },
  {
   "cell_type": "code",
   "execution_count": 48,
   "id": "3bf3c923-d93c-4478-8594-fb1ac6e84f02",
   "metadata": {
    "editable": true,
    "slideshow": {
     "slide_type": ""
    },
    "tags": []
   },
   "outputs": [],
   "source": [
    "def ideal_gas_p_isolated(n, T, V, R=8.314472):\n",
    "    \"\"\"p = n * R * T / V, where:\n",
    "    \n",
    "    $p$ is pressure\n",
    "    $n$ is number of moles = mass / molar amss\n",
    "    $R$ is the gas constant\n",
    "    $T$ is the temperature\n",
    "    $V$ is the volume\n",
    "\n",
    "    This assumes that all variables are in the international system,\n",
    "    so the return pressure is in Pa.\n",
    "    \"\"\"\n",
    "    return n * R * T / V\n",
    "\n",
    "def criar_pergunta_gas_ideal(m, MM, nome_do_elemento, T_F, volume_mL):\n",
    "    n = m / MM\n",
    "    T_K = fahrenheit_to_celsius(T_F) + 273.15\n",
    "    volume_m3 = volume_mL * 1E-6\n",
    "\n",
    "    p_correta = ideal_gas_p_isolated(n, T_K, volume_m3) / 1E5\n",
    "    p_errada1 = ideal_gas_p_isolated(n, T_K, volume_m3) / 1E6  # Erro na conversão de Pa para bar, 1E6 ao invés de 1E5\n",
    "    p_errada2 = ideal_gas_p_isolated(n, T_F, volume_m3) / 1E5 # Não converteu temperatura\n",
    "    p_errada3 = ideal_gas_p_isolated(n, T_F + 273.15, volume_m3) / 1E5 # Erro na conversão\n",
    "\n",
    "    texto = f'''\\\n",
    "A fórmula do gás ideal é \n",
    "\n",
    "$$pV = nRT$$\n",
    "\n",
    "considerando {m}g de {nome_do_elemento} a {T_F}°F em um frasco de {volume_mL}mL, calcule a pressão em bar.\n",
    "Considere a constante dos gases igual a 8,314472 J/(K mol).\n",
    "Considere a massa molar de {nome_do_elemento} como {MM} g/mol.\n",
    "\n",
    "(a) {p_errada1:.2f} bar\n",
    "(b) {p_correta:.2f} bar\n",
    "(c) {p_errada2:.2f} bar\n",
    "(d) {p_errada3:.2f} bar\\\n",
    "'''\n",
    "    return texto"
   ]
  },
  {
   "cell_type": "code",
   "execution_count": 49,
   "id": "d5bc31a6-d4b2-40df-aeb1-6ce67541a1c3",
   "metadata": {
    "editable": true,
    "slideshow": {
     "slide_type": ""
    },
    "tags": []
   },
   "outputs": [
    {
     "name": "stdout",
     "output_type": "stream",
     "text": [
      "A fórmula do gás ideal é \n",
      "\n",
      "$$pV = nRT$$\n",
      "\n",
      "considerando 3.4g de He a 77°F em um frasco de 35mL, calcule a pressão em bar.\n",
      "Considere a constante dos gases igual a 8,314472 J/(K mol).\n",
      "Considere a massa molar de He como 4 g/mol.\n",
      "\n",
      "(a) 60.20 bar\n",
      "(b) 602.03 bar\n",
      "(c) 155.48 bar\n",
      "(d) 707.03 bar\n"
     ]
    }
   ],
   "source": [
    "print(criar_pergunta_gas_ideal(3.4, 4, 'He', 77, 35))"
   ]
  },
  {
   "cell_type": "markdown",
   "id": "ddb17167-ea3d-4558-aa3a-fb3305f7b96d",
   "metadata": {
    "editable": true,
    "slideshow": {
     "slide_type": ""
    },
    "tags": []
   },
   "source": [
    "Imagine que com mais alguns métodos para aleatorizar vários aspectos da pergunta, como valores, unidades de entrada e saída, elementos, ordem das questões, teríamos uma ferramenta potencialmente poderosa para criar provas individualizadas. Note que a alternativa correta é sempre a segunda e, se formos aleatorizar tudo, seria necessário retornar também a posição da alternativa correta, para gerarmos um gabarito.\n",
    "\n",
    "Note que eu também alterno entre escrever funções em português e em inglês. É força de hábito. Coisas mais \"fixas\", que tem alta chance de serem utilizadas em outros locais no futuro, eu escrevo em inglês. Coisas mais restritas, que possuem utilidade local, escrevo em português, por conveniência. Em pacotes mais sérios, recomendo utilizar somente o inglês desde o começo. Você nunca sabe com quem irá compartilhar o código."
   ]
  },
  {
   "cell_type": "markdown",
   "id": "f9626dd1-4b47-4c64-b87d-e42cf6511226",
   "metadata": {
    "editable": true,
    "slideshow": {
     "slide_type": ""
    },
    "tags": []
   },
   "source": [
    "## Exercícios extra"
   ]
  },
  {
   "cell_type": "markdown",
   "id": "e76819f7-bad9-4651-9925-30b8bb5aaa13",
   "metadata": {
    "editable": true,
    "slideshow": {
     "slide_type": ""
    },
    "tags": []
   },
   "source": [
    "### Expandindo o gerador de questões\n",
    "\n",
    "```{warning}\n",
    "Para fazer este exercício, você precisa de conhecimentos de [classes](cap:oop)\n",
    "```\n",
    "\n",
    "Faça uma classe que aceite uma string de formatação para a questão, uma string de formatação para colocar as alternativas (a, b, c, ...), com um número variável de alternativas, e como *output* forneça uma questão apropriadamente formatada. É necessário conseguir variar os números de entrada facilmente (massas, p.e.), e que, para as alternativas erradas fornecidas, os números sejam factíveis e atrelados a erros em cada etapa da resolução da questão."
   ]
  },
  {
   "cell_type": "code",
   "execution_count": null,
   "id": "c19a07d5-84c8-402e-a773-0ac1565ce6fb",
   "metadata": {
    "editable": true,
    "slideshow": {
     "slide_type": ""
    },
    "tags": [
     "skip-execution"
    ]
   },
   "outputs": [],
   "source": [
    "%load \"Soluções de exercícios/Gerador/QuestionGenerator.py\""
   ]
  },
  {
   "cell_type": "code",
   "execution_count": null,
   "id": "d3952238-69a3-4dbd-9269-5a469769a677",
   "metadata": {
    "editable": true,
    "slideshow": {
     "slide_type": ""
    },
    "tags": [
     "skip-execution"
    ]
   },
   "outputs": [],
   "source": [
    "%load \"Soluções de exercícios/Gerador/problema_gas_ideal.py\""
   ]
  },
  {
   "cell_type": "code",
   "execution_count": null,
   "id": "dd8f8ed0-bafc-41fe-8d52-1e050777545b",
   "metadata": {
    "editable": true,
    "slideshow": {
     "slide_type": ""
    },
    "tags": []
   },
   "outputs": [],
   "source": []
  }
 ],
 "metadata": {
  "kernelspec": {
   "display_name": "CursoPython",
   "language": "python",
   "name": "cursopython"
  },
  "language_info": {
   "codemirror_mode": {
    "name": "ipython",
    "version": 3
   },
   "file_extension": ".py",
   "mimetype": "text/x-python",
   "name": "python",
   "nbconvert_exporter": "python",
   "pygments_lexer": "ipython3",
   "version": "3.11.3"
  }
 },
 "nbformat": 4,
 "nbformat_minor": 5
}
