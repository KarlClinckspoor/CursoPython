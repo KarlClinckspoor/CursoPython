{
 "cells": [
  {
   "cell_type": "markdown",
   "id": "a020b89c-ecee-4b32-a9f9-170167e5f2e7",
   "metadata": {
    "editable": true,
    "slideshow": {
     "slide_type": ""
    },
    "tags": []
   },
   "source": [
    "(sec:format_string_modulo)=\n",
    "# Extra: Formatação de strings com o operador módulo `%`\n",
    "\n",
    "```{warning}\n",
    "É necessário saber um pouco sobre [dicionários](sec:dicts) para entender esta seção 100%.\n",
    "```\n",
    "\n",
    "Esse tipo de interpolação era mais comum em versões antigas do Python, e é inspirada na função [`printf` da linguagem C](https://learn.microsoft.com/en-us/cpp/c-runtime-library/format-specification-syntax-printf-and-wprintf-functions?view=msvc-170). A opção de formatação com o método `.format` surgiu em [2006 com a PEP 3101 em Python3.0](https://peps.python.org/pep-3101/) e as `f-string`s surgiram em [2015 com a PEP 498 em Python 3.6](https://peps.python.org/pep-0498/). Algumas [bibliotecas](https://docs.python.org/3/library/logging.html) ainda recomendam o uso de `%`, por questões próprias mas, de forma geral, sempre utilize as `f-string`s.\n",
    "\n",
    "A formatação por meio do operador módulo requer que o segundo argumento seja um valor, uma tupla ou um dicionário com os outros valores que entrarão na string.\n",
    "Maiores referências para interpolação podem ser encontradas [na documentação oficial](https://docs.python.org/3/library/stdtypes.html#old-string-formatting).\n",
    "\n",
    "Vejamos um exemplo"
   ]
  },
  {
   "cell_type": "code",
   "execution_count": 1,
   "id": "a4c675f0-245f-45de-b8ab-f50885a451bf",
   "metadata": {
    "editable": true,
    "slideshow": {
     "slide_type": ""
    },
    "tags": []
   },
   "outputs": [
    {
     "data": {
      "text/plain": [
       "'O valor aproximado de pi é 3.141500'"
      ]
     },
     "execution_count": 1,
     "metadata": {},
     "output_type": "execute_result"
    }
   ],
   "source": [
    "\"O valor aproximado de pi é %f\" % 3.1415"
   ]
  },
  {
   "cell_type": "markdown",
   "id": "6c845e27-3edc-4833-a396-13427e49cc78",
   "metadata": {
    "editable": true,
    "slideshow": {
     "slide_type": ""
    },
    "tags": []
   },
   "source": [
    "Para utilizar o `%` para interpolação de strings, é necessário um `%` no texto, seguindo de especificações de formatação (opcionais) e por fim o tipo da variável. \n",
    "\n",
    "Os especificadores são:\n",
    "\n",
    "`%[mapeamento (opcional*)][flag de conversão (opcional)][comprimento mínimo (opcional)][precisão (opcional)][modificador de comprimento (opcional)][tipo de conversão (necessário)]`\n",
    "\n",
    "* O mapeamento é necessário quando o segundo argumento é um dicionário ou tipo equivalente. Nesse caso, o nome da chave do dicionário precisa entrar nesse campo entre parênteses.\n",
    "* A flag de conversão mais utilizada, geralmente, é `0n`, onde `n` é um número inteiro. Isso irá inserir, em valores numéricos, zeros à esquerda até atingir o número `n` de caracteres. Isso é útil para garantir alinhamento de texto.\n",
    "* Os modificadores de precisão também são bastante utilizados. Coloque um `.` seguido de um número de caracteres, e essa será a precisão do número de ponto flutuante mostrada.\n",
    "\n",
    "Os tipos de conversão mais comumente utilizados são:\n",
    "\n",
    "* `f` indica um número de ponto flutuante\n",
    "* `d` é um número inteiro com sinal.\n",
    "* `x` ou `X` é um número hexadecimal\n",
    "* `e` ou `E` é um número em \"notação científica\", com a parte $\\times 10^~$ abreviada como `e` ou `E`.\n",
    "* `g` ou `G` utiliza um número de ponto flutuante se o número tem 4 casas, ou notação científica se tiver mais.\n",
    "* `r`, `s`, `a` são utilizados para colocar strings e convertem o objeto naquela posição usando as funções `repr`, `str`, `ascii`.\n",
    "\n",
    "Vejamos mais exemplos"
   ]
  },
  {
   "cell_type": "code",
   "execution_count": 2,
   "id": "362637da-1b15-4b1e-86f4-9b71a28ec7f7",
   "metadata": {
    "editable": true,
    "slideshow": {
     "slide_type": ""
    },
    "tags": []
   },
   "outputs": [
    {
     "data": {
      "text/plain": [
       "'O valor aproximado de pi é 3'"
      ]
     },
     "execution_count": 2,
     "metadata": {},
     "output_type": "execute_result"
    }
   ],
   "source": [
    "\"O valor aproximado de pi é %d\" % 3.1415"
   ]
  },
  {
   "cell_type": "code",
   "execution_count": 3,
   "id": "f24e4275-5e98-491c-abc7-85353b2ae9e4",
   "metadata": {
    "editable": true,
    "slideshow": {
     "slide_type": ""
    },
    "tags": []
   },
   "outputs": [
    {
     "data": {
      "text/plain": [
       "'O valor aproximado de pi é 3.14'"
      ]
     },
     "execution_count": 3,
     "metadata": {},
     "output_type": "execute_result"
    }
   ],
   "source": [
    "\"O valor aproximado de pi é %.2f\" % 3.1415"
   ]
  },
  {
   "cell_type": "code",
   "execution_count": 4,
   "id": "5b61382f-7549-4834-909a-0b6b00d90b21",
   "metadata": {
    "editable": true,
    "slideshow": {
     "slide_type": ""
    },
    "tags": []
   },
   "outputs": [
    {
     "data": {
      "text/plain": [
       "'127 bananas'"
      ]
     },
     "execution_count": 4,
     "metadata": {},
     "output_type": "execute_result"
    }
   ],
   "source": [
    "\"%d %s\" % (127, \"bananas\")"
   ]
  },
  {
   "cell_type": "code",
   "execution_count": 5,
   "id": "9db14169-6e7c-4031-bedd-feac1a5d6ede",
   "metadata": {},
   "outputs": [
    {
     "data": {
      "text/plain": [
       "'0003.14159 * (0x01e m)^2 =?'"
      ]
     },
     "execution_count": 5,
     "metadata": {},
     "output_type": "execute_result"
    }
   ],
   "source": [
    "# Aqui, o # é utilizado como \"representação alternativa\" do número. Efetivamente insere o `0x` antes do número hexadecimal.\n",
    "\"%(pi)010.5f * (%(raio)#05x %(unidade)s)^2 =?\" % {\"pi\": 3.141592, \"raio\": 30, \"unidade\": \"m\"}"
   ]
  },
  {
   "cell_type": "markdown",
   "id": "1479fb8a-bfcf-4960-9fa1-239040e4bf29",
   "metadata": {},
   "source": [
    "Note como essa formatação pode facilmente ficar bastante ilegível."
   ]
  }
 ],
 "metadata": {
  "kernelspec": {
   "display_name": "CursoPython",
   "language": "python",
   "name": "cursopython"
  },
  "language_info": {
   "codemirror_mode": {
    "name": "ipython",
    "version": 3
   },
   "file_extension": ".py",
   "mimetype": "text/x-python",
   "name": "python",
   "nbconvert_exporter": "python",
   "pygments_lexer": "ipython3",
   "version": "3.11.3"
  }
 },
 "nbformat": 4,
 "nbformat_minor": 5
}
