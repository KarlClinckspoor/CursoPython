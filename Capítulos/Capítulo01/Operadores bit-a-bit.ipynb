{
 "cells": [
  {
   "cell_type": "markdown",
   "source": [
    "(extra:bitwise)=\n",
    "# Operações bit-a-bit (bitwise)\n",
    "\n",
    "```{note}\n",
    "Esta seção é opcional. Foi incluída por curiosidade mas sua leitura é recomendada pois estas operações são utilizadas na manipulação de máscaras em numpy arrays e pandas series/dataframes.\n",
    "```\n",
    "\n",
    "Como computadores trabalham com bits, existem operadores em Python específicos para trabalhar com a manipulação de bits. Isso pode parecer fora de nosso contexto, mas veremos em módulos futuros que esses operadores são muito úteis na manipulação de *numpy arrays*.\n",
    "\n",
    "Aqui, a função `bin` será utilizada para auxiliar no entendimento. Essa função aceita um número e retorna uma string com a representação binária do mesmo."
   ],
   "metadata": {
    "collapsed": false
   }
  },
  {
   "cell_type": "markdown",
   "source": [
    "**Deslocamentos para esquerda (bitwise shift left): `<<`**\n",
    "\n",
    "Desloca todos os bits 1 casa pra esquerda. Equivalente a multiplicar por 2, assim como deslocar os números no sistema base 10 pra esquerda é equivalente a multiplicar por 10 (p.e. 2 vira 20)"
   ],
   "metadata": {
    "collapsed": false
   }
  },
  {
   "cell_type": "code",
   "execution_count": 1,
   "outputs": [
    {
     "data": {
      "text/plain": "2"
     },
     "execution_count": 1,
     "metadata": {},
     "output_type": "execute_result"
    }
   ],
   "source": [
    "0b0010"
   ],
   "metadata": {
    "collapsed": false,
    "ExecuteTime": {
     "end_time": "2023-06-09T21:48:02.747291200Z",
     "start_time": "2023-06-09T21:48:02.643762400Z"
    }
   }
  },
  {
   "cell_type": "code",
   "execution_count": 2,
   "outputs": [
    {
     "data": {
      "text/plain": "4"
     },
     "execution_count": 2,
     "metadata": {},
     "output_type": "execute_result"
    }
   ],
   "source": [
    "0b10 << 1"
   ],
   "metadata": {
    "collapsed": false,
    "ExecuteTime": {
     "end_time": "2023-06-09T21:48:02.757292200Z",
     "start_time": "2023-06-09T21:48:02.654360800Z"
    }
   }
  },
  {
   "cell_type": "code",
   "execution_count": 3,
   "outputs": [
    {
     "data": {
      "text/plain": "8"
     },
     "execution_count": 3,
     "metadata": {},
     "output_type": "execute_result"
    }
   ],
   "source": [
    "0b10 << 2"
   ],
   "metadata": {
    "collapsed": false,
    "ExecuteTime": {
     "end_time": "2023-06-09T21:48:02.758291Z",
     "start_time": "2023-06-09T21:48:02.687362700Z"
    }
   }
  },
  {
   "cell_type": "code",
   "execution_count": 4,
   "outputs": [
    {
     "data": {
      "text/plain": "'0b100'"
     },
     "execution_count": 4,
     "metadata": {},
     "output_type": "execute_result"
    }
   ],
   "source": [
    "bin(0b0010 << 1)"
   ],
   "metadata": {
    "collapsed": false,
    "ExecuteTime": {
     "end_time": "2023-06-09T21:48:02.758291Z",
     "start_time": "2023-06-09T21:48:02.709323100Z"
    }
   }
  },
  {
   "cell_type": "code",
   "execution_count": 5,
   "outputs": [
    {
     "data": {
      "text/plain": "'0b1000'"
     },
     "execution_count": 5,
     "metadata": {},
     "output_type": "execute_result"
    }
   ],
   "source": [
    "bin(0b0010 << 2)"
   ],
   "metadata": {
    "collapsed": false,
    "ExecuteTime": {
     "end_time": "2023-06-09T21:48:02.759290700Z",
     "start_time": "2023-06-09T21:48:02.732293Z"
    }
   }
  },
  {
   "cell_type": "markdown",
   "source": [
    "**Deslocamento para a direita (bitwise right shift): `>>`**\n",
    "\n",
    "Desloca todos os bits para a direita. Equivalente a dividir por 2, assim como deslocar os números no sistema base 10 para a direita é equivalente a dividir por 10 (p.e. 20 vira 2)"
   ],
   "metadata": {
    "collapsed": false
   }
  },
  {
   "cell_type": "code",
   "execution_count": 6,
   "outputs": [
    {
     "data": {
      "text/plain": "1"
     },
     "execution_count": 6,
     "metadata": {},
     "output_type": "execute_result"
    }
   ],
   "source": [
    "0b10 >> 1"
   ],
   "metadata": {
    "collapsed": false,
    "ExecuteTime": {
     "end_time": "2023-06-09T21:48:02.865713100Z",
     "start_time": "2023-06-09T21:48:02.755292300Z"
    }
   }
  },
  {
   "cell_type": "code",
   "execution_count": 7,
   "outputs": [
    {
     "data": {
      "text/plain": "0"
     },
     "execution_count": 7,
     "metadata": {},
     "output_type": "execute_result"
    }
   ],
   "source": [
    "0b10 >> 2"
   ],
   "metadata": {
    "collapsed": false,
    "ExecuteTime": {
     "end_time": "2023-06-09T21:48:02.887112500Z",
     "start_time": "2023-06-09T21:48:02.777296300Z"
    }
   }
  },
  {
   "cell_type": "code",
   "execution_count": 8,
   "outputs": [
    {
     "data": {
      "text/plain": "'0b1'"
     },
     "execution_count": 8,
     "metadata": {},
     "output_type": "execute_result"
    }
   ],
   "source": [
    "bin(0b10 >> 1)"
   ],
   "metadata": {
    "collapsed": false,
    "ExecuteTime": {
     "end_time": "2023-06-09T21:48:02.888111100Z",
     "start_time": "2023-06-09T21:48:02.808523500Z"
    }
   }
  },
  {
   "cell_type": "code",
   "execution_count": 9,
   "outputs": [
    {
     "data": {
      "text/plain": "'0b0'"
     },
     "execution_count": 9,
     "metadata": {},
     "output_type": "execute_result"
    }
   ],
   "source": [
    "bin(0b0010 >> 2)"
   ],
   "metadata": {
    "collapsed": false,
    "ExecuteTime": {
     "end_time": "2023-06-09T21:48:02.890110900Z",
     "start_time": "2023-06-09T21:48:02.847576800Z"
    }
   }
  },
  {
   "cell_type": "markdown",
   "source": [
    "**Operador binário E (AND) `&`**\n",
    "\n",
    "Esse operador alinha dois números binários e os compara bit a bit. O resultado é 1 só e somente só quando ambos os bits são iguais a 1. Em todos os outros casos, o resultado é zero. Veja a tabela a seguir.\n",
    "\n",
    "|  `&`  |    1    |     0    |\n",
    "|-------|---------|----------|\n",
    "|   1   |    1    |     0    |\n",
    "|   0   |    0    |     0    |"
   ],
   "metadata": {
    "collapsed": false
   }
  },
  {
   "cell_type": "code",
   "execution_count": 10,
   "outputs": [
    {
     "data": {
      "text/plain": "12"
     },
     "execution_count": 10,
     "metadata": {},
     "output_type": "execute_result"
    }
   ],
   "source": [
    "0b1100"
   ],
   "metadata": {
    "collapsed": false,
    "ExecuteTime": {
     "end_time": "2023-06-09T21:48:02.890110900Z",
     "start_time": "2023-06-09T21:48:02.865713100Z"
    }
   }
  },
  {
   "cell_type": "code",
   "execution_count": 11,
   "outputs": [
    {
     "data": {
      "text/plain": "5"
     },
     "execution_count": 11,
     "metadata": {},
     "output_type": "execute_result"
    }
   ],
   "source": [
    "0b0101"
   ],
   "metadata": {
    "collapsed": false,
    "ExecuteTime": {
     "end_time": "2023-06-09T21:48:02.905109800Z",
     "start_time": "2023-06-09T21:48:02.877109400Z"
    }
   }
  },
  {
   "cell_type": "code",
   "execution_count": 12,
   "outputs": [
    {
     "data": {
      "text/plain": "4"
     },
     "execution_count": 12,
     "metadata": {},
     "output_type": "execute_result"
    }
   ],
   "source": [
    "0b1100 & 0b0101"
   ],
   "metadata": {
    "collapsed": false,
    "ExecuteTime": {
     "end_time": "2023-06-09T21:48:03.036578700Z",
     "start_time": "2023-06-09T21:48:02.895111800Z"
    }
   }
  },
  {
   "cell_type": "code",
   "execution_count": 13,
   "outputs": [
    {
     "data": {
      "text/plain": "'0b100'"
     },
     "execution_count": 13,
     "metadata": {},
     "output_type": "execute_result"
    }
   ],
   "source": [
    "bin(\n",
    "    0b1100 &\n",
    "    0b0101\n",
    ")"
   ],
   "metadata": {
    "collapsed": false,
    "ExecuteTime": {
     "end_time": "2023-06-09T21:48:03.037578800Z",
     "start_time": "2023-06-09T21:48:02.915003300Z"
    }
   }
  },
  {
   "cell_type": "markdown",
   "source": [
    "**Operador binário OU (OR) `|`**\n",
    "\n",
    "Esse operador alinha dois números binários e os compara bit a bit. O resultado é 1 se qualquer um dos for igual a 1. O resultado somente é zero quando nenhum dos bits é 1. Veja a tabela a seguir.\n",
    "\n",
    "| `|` |    1    |     0    |\n",
    "|----|---------|----------|\n",
    "| 1  |    1    |     1    |\n",
    "| 0  |    1    |     0    |"
   ],
   "metadata": {
    "collapsed": false
   }
  },
  {
   "cell_type": "code",
   "execution_count": 14,
   "outputs": [
    {
     "data": {
      "text/plain": "13"
     },
     "execution_count": 14,
     "metadata": {},
     "output_type": "execute_result"
    }
   ],
   "source": [
    "0b1100 | 0b0101"
   ],
   "metadata": {
    "collapsed": false,
    "ExecuteTime": {
     "end_time": "2023-06-09T21:48:03.038579100Z",
     "start_time": "2023-06-09T21:48:02.953565500Z"
    }
   }
  },
  {
   "cell_type": "code",
   "execution_count": 15,
   "outputs": [
    {
     "data": {
      "text/plain": "'0b1101'"
     },
     "execution_count": 15,
     "metadata": {},
     "output_type": "execute_result"
    }
   ],
   "source": [
    "bin(\n",
    "    0b1100 |\n",
    "    0b0101\n",
    ")"
   ],
   "metadata": {
    "collapsed": false,
    "ExecuteTime": {
     "end_time": "2023-06-09T21:48:03.038579100Z",
     "start_time": "2023-06-09T21:48:02.966566300Z"
    }
   }
  },
  {
   "cell_type": "markdown",
   "source": [
    "**Operador binário OU EXCLUSIVO (EXCLUSIVE OR/XOR) `^`**\n",
    "\n",
    "Este operador é similar a OU, porém se ambos os bits forem 1, resulta em zero. Veja a tabela a seguir.\n",
    "\n",
    "| `|`|    1    |     0    |\n",
    "|----|---------|----------|\n",
    "| 1  |    0    |     1    |\n",
    "| 0  |    1    |     0    |\n"
   ],
   "metadata": {
    "collapsed": false
   }
  },
  {
   "cell_type": "code",
   "execution_count": 16,
   "outputs": [
    {
     "data": {
      "text/plain": "9"
     },
     "execution_count": 16,
     "metadata": {},
     "output_type": "execute_result"
    }
   ],
   "source": [
    "0b1100 ^ 0b0101"
   ],
   "metadata": {
    "collapsed": false,
    "ExecuteTime": {
     "end_time": "2023-06-09T21:48:03.039577700Z",
     "start_time": "2023-06-09T21:48:02.988667100Z"
    }
   }
  },
  {
   "cell_type": "code",
   "execution_count": 17,
   "outputs": [
    {
     "data": {
      "text/plain": "'0b1001'"
     },
     "execution_count": 17,
     "metadata": {},
     "output_type": "execute_result"
    }
   ],
   "source": [
    "bin(\n",
    "    0b1100 ^\n",
    "    0b0101\n",
    ")"
   ],
   "metadata": {
    "collapsed": false,
    "ExecuteTime": {
     "end_time": "2023-06-09T21:48:03.039577700Z",
     "start_time": "2023-06-09T21:48:03.020996800Z"
    }
   }
  },
  {
   "cell_type": "markdown",
   "source": [
    "**Operador unário NÃO (NOT) `~`**\n",
    "\n",
    "Este operador inverte os bits. Se é zero, vira 1. Se é 1, vira 0."
   ],
   "metadata": {
    "collapsed": false
   }
  },
  {
   "cell_type": "code",
   "execution_count": 18,
   "outputs": [
    {
     "data": {
      "text/plain": "-16"
     },
     "execution_count": 18,
     "metadata": {},
     "output_type": "execute_result"
    }
   ],
   "source": [
    "~0b1111"
   ],
   "metadata": {
    "collapsed": false,
    "ExecuteTime": {
     "end_time": "2023-06-09T21:48:03.040578700Z",
     "start_time": "2023-06-09T21:48:03.021997900Z"
    }
   }
  },
  {
   "cell_type": "code",
   "execution_count": 19,
   "outputs": [
    {
     "data": {
      "text/plain": "'-0b10000'"
     },
     "execution_count": 19,
     "metadata": {},
     "output_type": "execute_result"
    }
   ],
   "source": [
    "bin(~0b1111)"
   ],
   "metadata": {
    "collapsed": false,
    "ExecuteTime": {
     "end_time": "2023-06-09T21:48:03.053639100Z",
     "start_time": "2023-06-09T21:48:03.038579100Z"
    }
   }
  }
 ],
 "metadata": {
  "kernelspec": {
   "name": "cursopython",
   "language": "python",
   "display_name": "cursopython"
  },
  "language_info": {
   "codemirror_mode": {
    "name": "ipython",
    "version": 2
   },
   "file_extension": ".py",
   "mimetype": "text/x-python",
   "name": "python",
   "nbconvert_exporter": "python",
   "pygments_lexer": "ipython2",
   "version": "2.7.6"
  }
 },
 "nbformat": 4,
 "nbformat_minor": 0
}
