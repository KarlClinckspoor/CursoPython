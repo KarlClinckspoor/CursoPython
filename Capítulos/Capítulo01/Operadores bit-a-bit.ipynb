{
 "cells": [
  {
   "cell_type": "markdown",
   "metadata": {
    "collapsed": false,
    "jupyter": {
     "outputs_hidden": false
    }
   },
   "source": [
    "(extra:bitwise)=\n",
    "# Extra: Operações bit-a-bit (bitwise)\n",
    "\n",
    "```{note}\n",
    "Esta seção é opcional. Foi incluída por curiosidade mas sua leitura é recomendada pois estas operações são utilizadas na manipulação de máscaras em numpy arrays e pandas series/dataframes.\n",
    "```\n",
    "\n",
    "Como computadores trabalham com bits, existem operadores em Python específicos para trabalhar com a manipulação de bits. Isso pode parecer fora de nosso contexto, mas veremos em módulos futuros que esses operadores são muito úteis na manipulação de *numpy arrays*.\n",
    "\n",
    "Aqui, a função `bin` será utilizada para auxiliar no entendimento. Essa função aceita um número e retorna uma string com a representação binária do mesmo."
   ]
  },
  {
   "cell_type": "markdown",
   "metadata": {
    "collapsed": false,
    "jupyter": {
     "outputs_hidden": false
    }
   },
   "source": [
    "**Deslocamentos para esquerda (bitwise shift left): `<<`**\n",
    "\n",
    "Desloca todos os bits 1 casa pra esquerda. Equivalente a multiplicar por 2, assim como deslocar os números no sistema base 10 pra esquerda é equivalente a multiplicar por 10 (p.e. 2 vira 20)"
   ]
  },
  {
   "cell_type": "code",
   "execution_count": 1,
   "metadata": {
    "collapsed": false,
    "jupyter": {
     "outputs_hidden": false
    }
   },
   "outputs": [
    {
     "data": {
      "text/plain": [
       "2"
      ]
     },
     "execution_count": 1,
     "metadata": {},
     "output_type": "execute_result"
    }
   ],
   "source": [
    "0b0010"
   ]
  },
  {
   "cell_type": "code",
   "execution_count": 2,
   "metadata": {
    "ExecuteTime": {
     "end_time": "2023-06-09T21:48:02.757292200Z",
     "start_time": "2023-06-09T21:48:02.654360800Z"
    },
    "collapsed": false,
    "jupyter": {
     "outputs_hidden": false
    }
   },
   "outputs": [
    {
     "data": {
      "text/plain": [
       "4"
      ]
     },
     "execution_count": 2,
     "metadata": {},
     "output_type": "execute_result"
    }
   ],
   "source": [
    "0b10 << 1"
   ]
  },
  {
   "cell_type": "code",
   "execution_count": 3,
   "metadata": {
    "ExecuteTime": {
     "end_time": "2023-06-09T21:48:02.758291Z",
     "start_time": "2023-06-09T21:48:02.687362700Z"
    },
    "collapsed": false,
    "jupyter": {
     "outputs_hidden": false
    }
   },
   "outputs": [
    {
     "data": {
      "text/plain": [
       "8"
      ]
     },
     "execution_count": 3,
     "metadata": {},
     "output_type": "execute_result"
    }
   ],
   "source": [
    "0b10 << 2"
   ]
  },
  {
   "cell_type": "code",
   "execution_count": 4,
   "metadata": {
    "ExecuteTime": {
     "end_time": "2023-06-09T21:48:02.758291Z",
     "start_time": "2023-06-09T21:48:02.709323100Z"
    },
    "collapsed": false,
    "jupyter": {
     "outputs_hidden": false
    }
   },
   "outputs": [
    {
     "data": {
      "text/plain": [
       "'0b100'"
      ]
     },
     "execution_count": 4,
     "metadata": {},
     "output_type": "execute_result"
    }
   ],
   "source": [
    "bin(0b0010 << 1)"
   ]
  },
  {
   "cell_type": "code",
   "execution_count": 5,
   "metadata": {
    "ExecuteTime": {
     "end_time": "2023-06-09T21:48:02.759290700Z",
     "start_time": "2023-06-09T21:48:02.732293Z"
    },
    "collapsed": false,
    "jupyter": {
     "outputs_hidden": false
    }
   },
   "outputs": [
    {
     "data": {
      "text/plain": [
       "'0b1000'"
      ]
     },
     "execution_count": 5,
     "metadata": {},
     "output_type": "execute_result"
    }
   ],
   "source": [
    "bin(0b0010 << 2)"
   ]
  },
  {
   "cell_type": "markdown",
   "metadata": {
    "collapsed": false,
    "jupyter": {
     "outputs_hidden": false
    }
   },
   "source": [
    "**Deslocamento para a direita (bitwise right shift): `>>`**\n",
    "\n",
    "Desloca todos os bits para a direita. Equivalente a dividir por 2, assim como deslocar os números no sistema base 10 para a direita é equivalente a dividir por 10 (p.e. 20 vira 2)"
   ]
  },
  {
   "cell_type": "code",
   "execution_count": 6,
   "metadata": {
    "ExecuteTime": {
     "end_time": "2023-06-09T21:48:02.865713100Z",
     "start_time": "2023-06-09T21:48:02.755292300Z"
    },
    "collapsed": false,
    "jupyter": {
     "outputs_hidden": false
    }
   },
   "outputs": [
    {
     "data": {
      "text/plain": [
       "2"
      ]
     },
     "execution_count": 6,
     "metadata": {},
     "output_type": "execute_result"
    }
   ],
   "source": [
    "0b100 >> 1"
   ]
  },
  {
   "cell_type": "code",
   "execution_count": 7,
   "metadata": {
    "ExecuteTime": {
     "end_time": "2023-06-09T21:48:02.887112500Z",
     "start_time": "2023-06-09T21:48:02.777296300Z"
    },
    "collapsed": false,
    "jupyter": {
     "outputs_hidden": false
    }
   },
   "outputs": [
    {
     "data": {
      "text/plain": [
       "1"
      ]
     },
     "execution_count": 7,
     "metadata": {},
     "output_type": "execute_result"
    }
   ],
   "source": [
    "0b100 >> 2"
   ]
  },
  {
   "cell_type": "code",
   "execution_count": 8,
   "metadata": {
    "ExecuteTime": {
     "end_time": "2023-06-09T21:48:02.888111100Z",
     "start_time": "2023-06-09T21:48:02.808523500Z"
    },
    "collapsed": false,
    "jupyter": {
     "outputs_hidden": false
    }
   },
   "outputs": [
    {
     "data": {
      "text/plain": [
       "'0b10'"
      ]
     },
     "execution_count": 8,
     "metadata": {},
     "output_type": "execute_result"
    }
   ],
   "source": [
    "bin(0b100 >> 1)"
   ]
  },
  {
   "cell_type": "code",
   "execution_count": 9,
   "metadata": {
    "ExecuteTime": {
     "end_time": "2023-06-09T21:48:02.890110900Z",
     "start_time": "2023-06-09T21:48:02.847576800Z"
    },
    "collapsed": false,
    "jupyter": {
     "outputs_hidden": false
    }
   },
   "outputs": [
    {
     "data": {
      "text/plain": [
       "'0b1'"
      ]
     },
     "execution_count": 9,
     "metadata": {},
     "output_type": "execute_result"
    }
   ],
   "source": [
    "bin(0b00100 >> 2)"
   ]
  },
  {
   "cell_type": "markdown",
   "metadata": {
    "collapsed": false,
    "jupyter": {
     "outputs_hidden": false
    }
   },
   "source": [
    "**Operador binário E (AND) `&`**\n",
    "\n",
    "Esse operador alinha dois números binários e os compara bit a bit. O resultado é 1 só e somente só quando ambos os bits são iguais a 1. Em todos os outros casos, o resultado é zero. Veja a tabela a seguir.\n",
    "\n",
    "<table class=\"table\" style=\"border: 1px solid black;\">\n",
    "  <tr>\n",
    "    <th colspan=\"3\" border=\"auto\"><code style=\"display:table; margin:0 auto;\" class=\"docutils literal notranslate\">&</code></th>\n",
    "  </tr>\n",
    "  <tr>\n",
    "    <td style=\"border: 1px solid black;\"> </td>\n",
    "    <td style=\"border: 1px solid black;\"><b>1</b></td>\n",
    "    <td style=\"border: 1px solid black;\"><b>0</b></td>\n",
    "  </tr>\n",
    "  <tr>\n",
    "    <td style=\"border: 1px solid black;\"><b>1</b></td>\n",
    "    <td style=\"border: 1px solid black;\">1</td>\n",
    "    <td style=\"border: 1px solid black;\">0</td>\n",
    "  </tr>\n",
    "  <tr>\n",
    "    <td style=\"border: 1px solid black;\"><b>0</b></td>\n",
    "    <td style=\"border: 1px solid black;\">0</td>\n",
    "    <td style=\"border: 1px solid black;\">0</td>\n",
    "  </tr>\n",
    "</table> "
   ]
  },
  {
   "cell_type": "code",
   "execution_count": 10,
   "metadata": {
    "ExecuteTime": {
     "end_time": "2023-06-09T21:48:02.890110900Z",
     "start_time": "2023-06-09T21:48:02.865713100Z"
    },
    "collapsed": false,
    "jupyter": {
     "outputs_hidden": false
    }
   },
   "outputs": [
    {
     "data": {
      "text/plain": [
       "12"
      ]
     },
     "execution_count": 10,
     "metadata": {},
     "output_type": "execute_result"
    }
   ],
   "source": [
    "0b1100"
   ]
  },
  {
   "cell_type": "code",
   "execution_count": 11,
   "metadata": {
    "ExecuteTime": {
     "end_time": "2023-06-09T21:48:02.905109800Z",
     "start_time": "2023-06-09T21:48:02.877109400Z"
    },
    "collapsed": false,
    "jupyter": {
     "outputs_hidden": false
    }
   },
   "outputs": [
    {
     "data": {
      "text/plain": [
       "5"
      ]
     },
     "execution_count": 11,
     "metadata": {},
     "output_type": "execute_result"
    }
   ],
   "source": [
    "0b0101"
   ]
  },
  {
   "cell_type": "code",
   "execution_count": 12,
   "metadata": {
    "ExecuteTime": {
     "end_time": "2023-06-09T21:48:03.036578700Z",
     "start_time": "2023-06-09T21:48:02.895111800Z"
    },
    "collapsed": false,
    "jupyter": {
     "outputs_hidden": false
    }
   },
   "outputs": [
    {
     "data": {
      "text/plain": [
       "4"
      ]
     },
     "execution_count": 12,
     "metadata": {},
     "output_type": "execute_result"
    }
   ],
   "source": [
    "0b1100 & 0b0101"
   ]
  },
  {
   "cell_type": "code",
   "execution_count": 13,
   "metadata": {
    "ExecuteTime": {
     "end_time": "2023-06-09T21:48:03.037578800Z",
     "start_time": "2023-06-09T21:48:02.915003300Z"
    },
    "collapsed": false,
    "jupyter": {
     "outputs_hidden": false
    }
   },
   "outputs": [
    {
     "data": {
      "text/plain": [
       "'0b100'"
      ]
     },
     "execution_count": 13,
     "metadata": {},
     "output_type": "execute_result"
    }
   ],
   "source": [
    "bin(\n",
    "    0b1100 &\n",
    "    0b0101\n",
    ")"
   ]
  },
  {
   "cell_type": "markdown",
   "metadata": {
    "collapsed": false,
    "jupyter": {
     "outputs_hidden": false
    }
   },
   "source": [
    "**Operador binário OU (OR) `|`**\n",
    "\n",
    "Esse operador alinha dois números binários e os compara bit a bit. O resultado é 1 se qualquer um dos for igual a 1. O resultado somente é zero quando nenhum dos bits é 1. Veja a tabela a seguir.\n",
    "\n",
    "<table class=\"table\" style=\"border: 1px solid black;\">\n",
    "  <tr>\n",
    "    <th colspan=\"3\" border=\"auto\"><code style=\"display:table; margin:0 auto;\" class=\"docutils literal notranslate\">|</code></th>\n",
    "  </tr>\n",
    "  <tr>\n",
    "    <td style=\"border: 1px solid black;\"> </td>\n",
    "    <td style=\"border: 1px solid black;\"><b>1</b></td>\n",
    "    <td style=\"border: 1px solid black;\"><b>0</b></td>\n",
    "  </tr>\n",
    "  <tr>\n",
    "    <td style=\"border: 1px solid black;\"><b>1</b></td>\n",
    "    <td style=\"border: 1px solid black;\">1</td>\n",
    "    <td style=\"border: 1px solid black;\">1</td>\n",
    "  </tr>\n",
    "  <tr>\n",
    "    <td style=\"border: 1px solid black;\"><b>0</b></td>\n",
    "    <td style=\"border: 1px solid black;\">1</td>\n",
    "    <td style=\"border: 1px solid black;\">0</td>\n",
    "  </tr>\n",
    "</table> \n"
   ]
  },
  {
   "cell_type": "code",
   "execution_count": null,
   "metadata": {},
   "outputs": [],
   "source": []
  },
  {
   "cell_type": "code",
   "execution_count": 14,
   "metadata": {
    "ExecuteTime": {
     "end_time": "2023-06-09T21:48:03.038579100Z",
     "start_time": "2023-06-09T21:48:02.953565500Z"
    },
    "collapsed": false,
    "jupyter": {
     "outputs_hidden": false
    }
   },
   "outputs": [
    {
     "data": {
      "text/plain": [
       "13"
      ]
     },
     "execution_count": 14,
     "metadata": {},
     "output_type": "execute_result"
    }
   ],
   "source": [
    "0b1100 | 0b0101"
   ]
  },
  {
   "cell_type": "code",
   "execution_count": 15,
   "metadata": {
    "ExecuteTime": {
     "end_time": "2023-06-09T21:48:03.038579100Z",
     "start_time": "2023-06-09T21:48:02.966566300Z"
    },
    "collapsed": false,
    "jupyter": {
     "outputs_hidden": false
    }
   },
   "outputs": [
    {
     "data": {
      "text/plain": [
       "'0b1101'"
      ]
     },
     "execution_count": 15,
     "metadata": {},
     "output_type": "execute_result"
    }
   ],
   "source": [
    "bin(\n",
    "    0b1100 |\n",
    "    0b0101\n",
    ")"
   ]
  },
  {
   "cell_type": "markdown",
   "metadata": {
    "collapsed": false,
    "jupyter": {
     "outputs_hidden": false
    }
   },
   "source": [
    "**Operador binário OU EXCLUSIVO (EXCLUSIVE OR/XOR) `^`**\n",
    "\n",
    "Este operador é similar a OU, porém se ambos os bits forem 1, resulta em zero. Veja a tabela a seguir.\n",
    "\n",
    "<table class=\"table\" style=\"border: 1px solid black;\">\n",
    "  <tr>\n",
    "    <th colspan=\"3\" border=\"auto\"><code style=\"display:table; margin:0 auto;\" class=\"docutils literal notranslate\">^</code></th>\n",
    "  </tr>\n",
    "  <tr>\n",
    "    <td style=\"border: 1px solid black;\"> </td>\n",
    "    <td style=\"border: 1px solid black;\"><b>1</b></td>\n",
    "    <td style=\"border: 1px solid black;\"><b>0</b></td>\n",
    "  </tr>\n",
    "  <tr>\n",
    "    <td style=\"border: 1px solid black;\"><b>1</b></td>\n",
    "    <td style=\"border: 1px solid black;\">0</td>\n",
    "    <td style=\"border: 1px solid black;\">1</td>\n",
    "  </tr>\n",
    "  <tr>\n",
    "    <td style=\"border: 1px solid black;\"><b>0</b></td>\n",
    "    <td style=\"border: 1px solid black;\">1</td>\n",
    "    <td style=\"border: 1px solid black;\">0</td>\n",
    "  </tr>\n",
    "</table> "
   ]
  },
  {
   "cell_type": "code",
   "execution_count": 16,
   "metadata": {
    "ExecuteTime": {
     "end_time": "2023-06-09T21:48:03.039577700Z",
     "start_time": "2023-06-09T21:48:02.988667100Z"
    },
    "collapsed": false,
    "jupyter": {
     "outputs_hidden": false
    }
   },
   "outputs": [
    {
     "data": {
      "text/plain": [
       "9"
      ]
     },
     "execution_count": 16,
     "metadata": {},
     "output_type": "execute_result"
    }
   ],
   "source": [
    "0b1100 ^ 0b0101"
   ]
  },
  {
   "cell_type": "code",
   "execution_count": 17,
   "metadata": {
    "ExecuteTime": {
     "end_time": "2023-06-09T21:48:03.039577700Z",
     "start_time": "2023-06-09T21:48:03.020996800Z"
    },
    "collapsed": false,
    "jupyter": {
     "outputs_hidden": false
    }
   },
   "outputs": [
    {
     "data": {
      "text/plain": [
       "'0b1001'"
      ]
     },
     "execution_count": 17,
     "metadata": {},
     "output_type": "execute_result"
    }
   ],
   "source": [
    "bin(\n",
    "    0b1100 ^\n",
    "    0b0101\n",
    ")"
   ]
  },
  {
   "cell_type": "markdown",
   "metadata": {
    "collapsed": false,
    "jupyter": {
     "outputs_hidden": false
    }
   },
   "source": [
    "**Operador unário NÃO (NOT) `~`**\n",
    "\n",
    "Este operador inverte os bits. Se é zero, vira 1. Se é 1, vira 0."
   ]
  },
  {
   "cell_type": "code",
   "execution_count": 18,
   "metadata": {
    "ExecuteTime": {
     "end_time": "2023-06-09T21:48:03.040578700Z",
     "start_time": "2023-06-09T21:48:03.021997900Z"
    },
    "collapsed": false,
    "jupyter": {
     "outputs_hidden": false
    }
   },
   "outputs": [
    {
     "data": {
      "text/plain": [
       "-16"
      ]
     },
     "execution_count": 18,
     "metadata": {},
     "output_type": "execute_result"
    }
   ],
   "source": [
    "~0b1111"
   ]
  },
  {
   "cell_type": "code",
   "execution_count": 19,
   "metadata": {
    "ExecuteTime": {
     "end_time": "2023-06-09T21:48:03.053639100Z",
     "start_time": "2023-06-09T21:48:03.038579100Z"
    },
    "collapsed": false,
    "jupyter": {
     "outputs_hidden": false
    }
   },
   "outputs": [
    {
     "data": {
      "text/plain": [
       "'-0b10000'"
      ]
     },
     "execution_count": 19,
     "metadata": {},
     "output_type": "execute_result"
    }
   ],
   "source": [
    "bin(~0b1111)"
   ]
  }
 ],
 "metadata": {
  "kernelspec": {
   "display_name": "CursoPython",
   "language": "python",
   "name": "cursopython"
  },
  "language_info": {
   "codemirror_mode": {
    "name": "ipython",
    "version": 3
   },
   "file_extension": ".py",
   "mimetype": "text/x-python",
   "name": "python",
   "nbconvert_exporter": "python",
   "pygments_lexer": "ipython3",
   "version": "3.11.3"
  }
 },
 "nbformat": 4,
 "nbformat_minor": 4
}
