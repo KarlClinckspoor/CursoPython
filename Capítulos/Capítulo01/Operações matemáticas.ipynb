{
 "cells": [
  {
   "cell_type": "markdown",
   "metadata": {},
   "source": [
    "(cap:op_matematicas)=\n",
    "# Operações matemáticas e tipos\n",
    "\n",
    "Em sua maneira mais simples, Python pode ser usado como uma calculadora que segue as mesmas convenções de ordem de operações com que está acostumado.\n",
    "\n",
    "```{note}\n",
    "Seção da documentação oficial relevante para este capítulo: https://docs.python.org/3/library/stdtypes.html#numeric-types-int-float-complex\n",
    "```\n",
    "\n",
    "## Operações matemáticas básicas\n",
    "\n",
    "Aqui estão as operações binárias (operam em dois números) e unárias (operam em um número) básicas em Python. Preste atenção na presença do ponto decimal nas entradas e nas respostas."
   ]
  },
  {
   "cell_type": "markdown",
   "metadata": {
    "collapsed": false,
    "jupyter": {
     "outputs_hidden": false
    }
   },
   "source": [
    "**Soma: `+`**"
   ]
  },
  {
   "cell_type": "code",
   "execution_count": 1,
   "metadata": {},
   "outputs": [
    {
     "data": {
      "text/plain": [
       "6"
      ]
     },
     "execution_count": 1,
     "metadata": {},
     "output_type": "execute_result"
    }
   ],
   "source": [
    "2 + 4"
   ]
  },
  {
   "cell_type": "code",
   "execution_count": 2,
   "metadata": {
    "collapsed": false,
    "jupyter": {
     "outputs_hidden": false
    }
   },
   "outputs": [
    {
     "data": {
      "text/plain": [
       "8.600000000000001"
      ]
     },
     "execution_count": 2,
     "metadata": {},
     "output_type": "execute_result"
    }
   ],
   "source": [
    "3.7 + 4.9"
   ]
  },
  {
   "cell_type": "code",
   "execution_count": 3,
   "metadata": {
    "collapsed": false,
    "jupyter": {
     "outputs_hidden": false
    }
   },
   "outputs": [
    {
     "data": {
      "text/plain": [
       "8.7"
      ]
     },
     "execution_count": 3,
     "metadata": {},
     "output_type": "execute_result"
    }
   ],
   "source": [
    "3.7 + 5"
   ]
  },
  {
   "cell_type": "markdown",
   "metadata": {
    "collapsed": false,
    "jupyter": {
     "outputs_hidden": false
    }
   },
   "source": [
    "**Subtração: `-`**\n",
    "\n",
    "Quando este símbolo é utilizado sozinho com um número, indica que é negativo (-5)"
   ]
  },
  {
   "cell_type": "code",
   "execution_count": 4,
   "metadata": {},
   "outputs": [
    {
     "data": {
      "text/plain": [
       "-2"
      ]
     },
     "execution_count": 4,
     "metadata": {},
     "output_type": "execute_result"
    }
   ],
   "source": [
    "2 - 4"
   ]
  },
  {
   "cell_type": "code",
   "execution_count": 5,
   "metadata": {
    "collapsed": false,
    "jupyter": {
     "outputs_hidden": false
    }
   },
   "outputs": [
    {
     "data": {
      "text/plain": [
       "-1.2000000000000002"
      ]
     },
     "execution_count": 5,
     "metadata": {},
     "output_type": "execute_result"
    }
   ],
   "source": [
    "3.7 - 4.9"
   ]
  },
  {
   "cell_type": "code",
   "execution_count": 6,
   "metadata": {
    "collapsed": false,
    "jupyter": {
     "outputs_hidden": false
    }
   },
   "outputs": [
    {
     "data": {
      "text/plain": [
       "-0.2999999999999998"
      ]
     },
     "execution_count": 6,
     "metadata": {},
     "output_type": "execute_result"
    }
   ],
   "source": [
    "3.7 - 4"
   ]
  },
  {
   "cell_type": "markdown",
   "metadata": {
    "collapsed": false,
    "jupyter": {
     "outputs_hidden": false
    }
   },
   "source": [
    "**Multiplicação: `*`**"
   ]
  },
  {
   "cell_type": "code",
   "execution_count": 7,
   "metadata": {},
   "outputs": [
    {
     "data": {
      "text/plain": [
       "8"
      ]
     },
     "execution_count": 7,
     "metadata": {},
     "output_type": "execute_result"
    }
   ],
   "source": [
    "2 * 4"
   ]
  },
  {
   "cell_type": "code",
   "execution_count": 8,
   "metadata": {
    "collapsed": false,
    "jupyter": {
     "outputs_hidden": false
    }
   },
   "outputs": [
    {
     "data": {
      "text/plain": [
       "18.130000000000003"
      ]
     },
     "execution_count": 8,
     "metadata": {},
     "output_type": "execute_result"
    }
   ],
   "source": [
    "3.7 * 4.9"
   ]
  },
  {
   "cell_type": "code",
   "execution_count": 9,
   "metadata": {
    "collapsed": false,
    "jupyter": {
     "outputs_hidden": false
    }
   },
   "outputs": [
    {
     "data": {
      "text/plain": [
       "18.5"
      ]
     },
     "execution_count": 9,
     "metadata": {},
     "output_type": "execute_result"
    }
   ],
   "source": [
    "3.7 * 5"
   ]
  },
  {
   "cell_type": "markdown",
   "metadata": {
    "collapsed": false,
    "jupyter": {
     "outputs_hidden": false
    }
   },
   "source": [
    "**Divisão: `/`**"
   ]
  },
  {
   "cell_type": "code",
   "execution_count": 10,
   "metadata": {},
   "outputs": [
    {
     "data": {
      "text/plain": [
       "2.0"
      ]
     },
     "execution_count": 10,
     "metadata": {},
     "output_type": "execute_result"
    }
   ],
   "source": [
    "4 / 2"
   ]
  },
  {
   "cell_type": "code",
   "execution_count": 11,
   "metadata": {
    "collapsed": false,
    "jupyter": {
     "outputs_hidden": false
    }
   },
   "outputs": [
    {
     "data": {
      "text/plain": [
       "0.7551020408163265"
      ]
     },
     "execution_count": 11,
     "metadata": {},
     "output_type": "execute_result"
    }
   ],
   "source": [
    "3.7 / 4.9"
   ]
  },
  {
   "cell_type": "code",
   "execution_count": 12,
   "metadata": {
    "collapsed": false,
    "jupyter": {
     "outputs_hidden": false
    }
   },
   "outputs": [
    {
     "data": {
      "text/plain": [
       "0.74"
      ]
     },
     "execution_count": 12,
     "metadata": {},
     "output_type": "execute_result"
    }
   ],
   "source": [
    "3.7 / 5"
   ]
  },
  {
   "cell_type": "markdown",
   "metadata": {
    "collapsed": false,
    "jupyter": {
     "outputs_hidden": false
    }
   },
   "source": [
    "**Divisão inteira: `//`**"
   ]
  },
  {
   "cell_type": "code",
   "execution_count": 13,
   "metadata": {},
   "outputs": [
    {
     "data": {
      "text/plain": [
       "2"
      ]
     },
     "execution_count": 13,
     "metadata": {},
     "output_type": "execute_result"
    }
   ],
   "source": [
    "4 // 2"
   ]
  },
  {
   "cell_type": "code",
   "execution_count": 14,
   "metadata": {
    "collapsed": false,
    "jupyter": {
     "outputs_hidden": false
    }
   },
   "outputs": [
    {
     "data": {
      "text/plain": [
       "0.0"
      ]
     },
     "execution_count": 14,
     "metadata": {},
     "output_type": "execute_result"
    }
   ],
   "source": [
    "3.7 // 4.9"
   ]
  },
  {
   "cell_type": "code",
   "execution_count": 15,
   "metadata": {
    "collapsed": false,
    "jupyter": {
     "outputs_hidden": false
    }
   },
   "outputs": [
    {
     "data": {
      "text/plain": [
       "1.0"
      ]
     },
     "execution_count": 15,
     "metadata": {},
     "output_type": "execute_result"
    }
   ],
   "source": [
    "3.7 // 2"
   ]
  },
  {
   "cell_type": "markdown",
   "metadata": {
    "collapsed": false,
    "jupyter": {
     "outputs_hidden": false
    }
   },
   "source": [
    "**Potenciação: `**`**"
   ]
  },
  {
   "cell_type": "code",
   "execution_count": 16,
   "metadata": {},
   "outputs": [
    {
     "data": {
      "text/plain": [
       "16"
      ]
     },
     "execution_count": 16,
     "metadata": {},
     "output_type": "execute_result"
    }
   ],
   "source": [
    "2 ** 4"
   ]
  },
  {
   "cell_type": "code",
   "execution_count": 17,
   "metadata": {
    "collapsed": false,
    "jupyter": {
     "outputs_hidden": false
    }
   },
   "outputs": [
    {
     "data": {
      "text/plain": [
       "608.3989388909348"
      ]
     },
     "execution_count": 17,
     "metadata": {},
     "output_type": "execute_result"
    }
   ],
   "source": [
    "3.7 ** 4.9"
   ]
  },
  {
   "cell_type": "code",
   "execution_count": 18,
   "metadata": {
    "collapsed": false,
    "jupyter": {
     "outputs_hidden": false
    }
   },
   "outputs": [
    {
     "data": {
      "text/plain": [
       "2.0"
      ]
     },
     "execution_count": 18,
     "metadata": {},
     "output_type": "execute_result"
    }
   ],
   "source": [
    "4 ** 0.5"
   ]
  },
  {
   "cell_type": "markdown",
   "metadata": {
    "collapsed": false,
    "jupyter": {
     "outputs_hidden": false
    }
   },
   "source": [
    "**Operação módulo: `%`**\n",
    "\n",
    "Retorna o resto de uma divisão inteira. Por exemplo\n",
    "\n",
    "10 // 4 = 2 * 4 + 2, então 10 % 4 = 2"
   ]
  },
  {
   "cell_type": "code",
   "execution_count": 19,
   "metadata": {},
   "outputs": [
    {
     "data": {
      "text/plain": [
       "2"
      ]
     },
     "execution_count": 19,
     "metadata": {},
     "output_type": "execute_result"
    }
   ],
   "source": [
    "2 % 4"
   ]
  },
  {
   "cell_type": "code",
   "execution_count": 20,
   "metadata": {},
   "outputs": [
    {
     "data": {
      "text/plain": [
       "0"
      ]
     },
     "execution_count": 20,
     "metadata": {},
     "output_type": "execute_result"
    }
   ],
   "source": [
    "4 % 2"
   ]
  },
  {
   "cell_type": "code",
   "execution_count": 21,
   "metadata": {
    "collapsed": false,
    "jupyter": {
     "outputs_hidden": false
    }
   },
   "outputs": [
    {
     "data": {
      "text/plain": [
       "2"
      ]
     },
     "execution_count": 21,
     "metadata": {},
     "output_type": "execute_result"
    }
   ],
   "source": [
    "10 % 4"
   ]
  },
  {
   "cell_type": "code",
   "execution_count": 22,
   "metadata": {
    "collapsed": false,
    "jupyter": {
     "outputs_hidden": false
    }
   },
   "outputs": [
    {
     "data": {
      "text/plain": [
       "1.7000000000000002"
      ]
     },
     "execution_count": 22,
     "metadata": {},
     "output_type": "execute_result"
    }
   ],
   "source": [
    "3.7 % 2"
   ]
  },
  {
   "cell_type": "markdown",
   "metadata": {
    "collapsed": false,
    "jupyter": {
     "outputs_hidden": false
    }
   },
   "source": [
    "Quando o símbolo `-` é utilizado sozinho perto de um número (operação unária), indica que é um número negativo. Existe o equivalente para números positivos, `+`, mas não é muito utilizado."
   ]
  },
  {
   "cell_type": "code",
   "execution_count": 23,
   "metadata": {},
   "outputs": [
    {
     "data": {
      "text/plain": [
       "3"
      ]
     },
     "execution_count": 23,
     "metadata": {},
     "output_type": "execute_result"
    }
   ],
   "source": [
    "-4 - -7"
   ]
  },
  {
   "cell_type": "code",
   "execution_count": 24,
   "metadata": {
    "collapsed": false,
    "jupyter": {
     "outputs_hidden": false
    }
   },
   "outputs": [
    {
     "data": {
      "text/plain": [
       "-11"
      ]
     },
     "execution_count": 24,
     "metadata": {},
     "output_type": "execute_result"
    }
   ],
   "source": [
    "-4 - +7"
   ]
  },
  {
   "cell_type": "code",
   "execution_count": 25,
   "metadata": {
    "collapsed": false,
    "jupyter": {
     "outputs_hidden": false
    }
   },
   "outputs": [
    {
     "data": {
      "text/plain": [
       "0.3333333333333333"
      ]
     },
     "execution_count": 25,
     "metadata": {},
     "output_type": "execute_result"
    }
   ],
   "source": [
    "3 ** (-1)"
   ]
  },
  {
   "cell_type": "code",
   "execution_count": 26,
   "metadata": {
    "collapsed": false,
    "jupyter": {
     "outputs_hidden": false
    }
   },
   "outputs": [
    {
     "data": {
      "text/plain": [
       "0.3333333333333333"
      ]
     },
     "execution_count": 26,
     "metadata": {},
     "output_type": "execute_result"
    }
   ],
   "source": [
    "3 ** -1"
   ]
  },
  {
   "cell_type": "markdown",
   "metadata": {
    "collapsed": false,
    "jupyter": {
     "outputs_hidden": false
    }
   },
   "source": [
    "O operador módulo se comporta um pouco diferente de outras linguagens quando se trata de números negativos. Leia o conteúdo [aqui](https://stackoverflow.com/questions/3883004/how-does-the-modulo-operator-work-on-negative-numbers-in-python) para entender melhor, se desejar. Em suma, o resultado é sempre positivo se o número à direita for positivo."
   ]
  },
  {
   "cell_type": "code",
   "execution_count": 27,
   "metadata": {
    "collapsed": false,
    "jupyter": {
     "outputs_hidden": false
    }
   },
   "outputs": [
    {
     "data": {
      "text/plain": [
       "2"
      ]
     },
     "execution_count": 27,
     "metadata": {},
     "output_type": "execute_result"
    }
   ],
   "source": [
    "-10 % 4"
   ]
  },
  {
   "cell_type": "code",
   "execution_count": 28,
   "metadata": {
    "collapsed": false,
    "jupyter": {
     "outputs_hidden": false
    }
   },
   "outputs": [
    {
     "data": {
      "text/plain": [
       "-2"
      ]
     },
     "execution_count": 28,
     "metadata": {},
     "output_type": "execute_result"
    }
   ],
   "source": [
    "10 % -4"
   ]
  },
  {
   "cell_type": "markdown",
   "metadata": {
    "collapsed": false,
    "jupyter": {
     "outputs_hidden": false
    }
   },
   "source": [
    "## Comparações e booleanos\n",
    "\n",
    "Para fazer comparações entre dois números, podemos utilizar operadores binários comumente utilizados em matemática. O resultado de uma comparação é um valor `booleano`, que nada mais é que um valor verdadeiro `True` ou falso `False`."
   ]
  },
  {
   "cell_type": "markdown",
   "metadata": {},
   "source": [
    "**Menor que `<`**"
   ]
  },
  {
   "cell_type": "code",
   "execution_count": 29,
   "metadata": {},
   "outputs": [
    {
     "data": {
      "text/plain": [
       "False"
      ]
     },
     "execution_count": 29,
     "metadata": {},
     "output_type": "execute_result"
    }
   ],
   "source": [
    "10 < 2"
   ]
  },
  {
   "cell_type": "code",
   "execution_count": 30,
   "metadata": {},
   "outputs": [
    {
     "data": {
      "text/plain": [
       "True"
      ]
     },
     "execution_count": 30,
     "metadata": {},
     "output_type": "execute_result"
    }
   ],
   "source": [
    "2 < 10"
   ]
  },
  {
   "cell_type": "code",
   "execution_count": 31,
   "metadata": {},
   "outputs": [
    {
     "data": {
      "text/plain": [
       "False"
      ]
     },
     "execution_count": 31,
     "metadata": {},
     "output_type": "execute_result"
    }
   ],
   "source": [
    "2 < 2"
   ]
  },
  {
   "cell_type": "markdown",
   "metadata": {},
   "source": [
    "**Menor ou igual que `<=`**"
   ]
  },
  {
   "cell_type": "code",
   "execution_count": 32,
   "metadata": {},
   "outputs": [
    {
     "data": {
      "text/plain": [
       "False"
      ]
     },
     "execution_count": 32,
     "metadata": {},
     "output_type": "execute_result"
    }
   ],
   "source": [
    "10 <= 2"
   ]
  },
  {
   "cell_type": "code",
   "execution_count": 33,
   "metadata": {},
   "outputs": [
    {
     "data": {
      "text/plain": [
       "True"
      ]
     },
     "execution_count": 33,
     "metadata": {},
     "output_type": "execute_result"
    }
   ],
   "source": [
    "2 <= 10"
   ]
  },
  {
   "cell_type": "code",
   "execution_count": 34,
   "metadata": {},
   "outputs": [
    {
     "data": {
      "text/plain": [
       "True"
      ]
     },
     "execution_count": 34,
     "metadata": {},
     "output_type": "execute_result"
    }
   ],
   "source": [
    "2 <= 2"
   ]
  },
  {
   "cell_type": "markdown",
   "metadata": {},
   "source": [
    "**Maior que `>`**"
   ]
  },
  {
   "cell_type": "code",
   "execution_count": 35,
   "metadata": {},
   "outputs": [
    {
     "data": {
      "text/plain": [
       "True"
      ]
     },
     "execution_count": 35,
     "metadata": {},
     "output_type": "execute_result"
    }
   ],
   "source": [
    "10 > 2"
   ]
  },
  {
   "cell_type": "code",
   "execution_count": 36,
   "metadata": {},
   "outputs": [
    {
     "data": {
      "text/plain": [
       "False"
      ]
     },
     "execution_count": 36,
     "metadata": {},
     "output_type": "execute_result"
    }
   ],
   "source": [
    "2 > 10"
   ]
  },
  {
   "cell_type": "code",
   "execution_count": 37,
   "metadata": {},
   "outputs": [
    {
     "data": {
      "text/plain": [
       "False"
      ]
     },
     "execution_count": 37,
     "metadata": {},
     "output_type": "execute_result"
    }
   ],
   "source": [
    "2 > 2"
   ]
  },
  {
   "cell_type": "markdown",
   "metadata": {},
   "source": [
    "**Maior ou igual que `>=`**"
   ]
  },
  {
   "cell_type": "code",
   "execution_count": 38,
   "metadata": {},
   "outputs": [
    {
     "data": {
      "text/plain": [
       "True"
      ]
     },
     "execution_count": 38,
     "metadata": {},
     "output_type": "execute_result"
    }
   ],
   "source": [
    "10 >= 2"
   ]
  },
  {
   "cell_type": "code",
   "execution_count": 39,
   "metadata": {},
   "outputs": [
    {
     "data": {
      "text/plain": [
       "False"
      ]
     },
     "execution_count": 39,
     "metadata": {},
     "output_type": "execute_result"
    }
   ],
   "source": [
    "2 >= 10"
   ]
  },
  {
   "cell_type": "code",
   "execution_count": 40,
   "metadata": {},
   "outputs": [
    {
     "data": {
      "text/plain": [
       "True"
      ]
     },
     "execution_count": 40,
     "metadata": {},
     "output_type": "execute_result"
    }
   ],
   "source": [
    "2 >= 2"
   ]
  },
  {
   "cell_type": "markdown",
   "metadata": {},
   "source": [
    "**Diferente de `!=`**\n",
    "\n",
    "Em várias linguagens, inclusive Python, o símbolo `!` é utilizado como \"negação\", invertendo o significado do que vem depois dele. Por isso está presente neste símbolo."
   ]
  },
  {
   "cell_type": "code",
   "execution_count": 41,
   "metadata": {},
   "outputs": [
    {
     "data": {
      "text/plain": [
       "True"
      ]
     },
     "execution_count": 41,
     "metadata": {},
     "output_type": "execute_result"
    }
   ],
   "source": [
    "10 != 2"
   ]
  },
  {
   "cell_type": "code",
   "execution_count": 42,
   "metadata": {},
   "outputs": [
    {
     "data": {
      "text/plain": [
       "True"
      ]
     },
     "execution_count": 42,
     "metadata": {},
     "output_type": "execute_result"
    }
   ],
   "source": [
    "2 != 10"
   ]
  },
  {
   "cell_type": "code",
   "execution_count": 43,
   "metadata": {},
   "outputs": [
    {
     "data": {
      "text/plain": [
       "False"
      ]
     },
     "execution_count": 43,
     "metadata": {},
     "output_type": "execute_result"
    }
   ],
   "source": [
    "2 != 2"
   ]
  },
  {
   "cell_type": "markdown",
   "metadata": {},
   "source": [
    "**Igual a `==`**\n",
    "\n",
    "Muito importante, note que o símbolo de igual é `==`, com o sinal `=` repetido! Isso o diferencia do operador de designação (assignment), que será abordado [no próximo capítulo](cap:vars)."
   ]
  },
  {
   "cell_type": "code",
   "execution_count": 44,
   "metadata": {},
   "outputs": [
    {
     "data": {
      "text/plain": [
       "False"
      ]
     },
     "execution_count": 44,
     "metadata": {},
     "output_type": "execute_result"
    }
   ],
   "source": [
    "10 == 2"
   ]
  },
  {
   "cell_type": "code",
   "execution_count": 45,
   "metadata": {},
   "outputs": [
    {
     "data": {
      "text/plain": [
       "False"
      ]
     },
     "execution_count": 45,
     "metadata": {},
     "output_type": "execute_result"
    }
   ],
   "source": [
    "2 == 10"
   ]
  },
  {
   "cell_type": "code",
   "execution_count": 46,
   "metadata": {},
   "outputs": [
    {
     "data": {
      "text/plain": [
       "True"
      ]
     },
     "execution_count": 46,
     "metadata": {},
     "output_type": "execute_result"
    }
   ],
   "source": [
    "2 == 2"
   ]
  },
  {
   "cell_type": "markdown",
   "metadata": {},
   "source": [
    "## Ordem de operações\n",
    "\n",
    "De forma simplificada, a ordem de operações matemáticas está a seguir, da maior para menor precedência:\n",
    "\n",
    "1. Operações dentro de parênteses.\n",
    "2. Potenciação. Porém, quando se refere imediatamente a um número com o operador negativo, este toma precedência. Vide exemplo acima, `3 ** -1` é igual a `3 ** (-1)`\n",
    "3. Operador negativo e positivo.\n",
    "4. Multiplicação, divisão, divisão inteira, módulo\n",
    "5. Adição e subtração\n",
    "6. Deslocamentos de bits (explicados em uma [seção extra](extra:bitwise))\n",
    "7. Operadores bit-a-bit (explicados em uma [seção extra](extra:bitwise))\n",
    "8. Comparações\n",
    "\n",
    "Mais informações podem ser encontradas [na documentação oficial aqui](https://docs.python.org/3/reference/expressions.html#operator-precedence)\n",
    "\n",
    "Existe mais um operador que não foi abordado aqui, e será abordado no futuro. É a multiplicação matricial, realizado com `@`, p.e. `mat1 @ mat2`.\n",
    "\n",
    "```{note}\n",
    "Parênteses podem, e devem, ser adicionados para realçar e clarear o significado de certas expressões. Em Python, operações entre parênteses podem ter qualquer formatação interna, permitindo que você divida visualmente um cálculo em várias linhas, se assim desejar.\n",
    "```\n",
    "\n",
    "Aqui estão alguns exemplos do uso de parênteses"
   ]
  },
  {
   "cell_type": "code",
   "execution_count": 47,
   "metadata": {},
   "outputs": [
    {
     "data": {
      "text/plain": [
       "-2"
      ]
     },
     "execution_count": 47,
     "metadata": {},
     "output_type": "execute_result"
    }
   ],
   "source": [
    "-4 - (-2)"
   ]
  },
  {
   "cell_type": "code",
   "execution_count": 48,
   "metadata": {},
   "outputs": [
    {
     "data": {
      "text/plain": [
       "-8"
      ]
     },
     "execution_count": 48,
     "metadata": {},
     "output_type": "execute_result"
    }
   ],
   "source": [
    "-4 - (-2) ** 2"
   ]
  },
  {
   "cell_type": "code",
   "execution_count": 49,
   "metadata": {},
   "outputs": [
    {
     "data": {
      "text/plain": [
       "4"
      ]
     },
     "execution_count": 49,
     "metadata": {},
     "output_type": "execute_result"
    }
   ],
   "source": [
    "(-4 - (-2)) ** 2"
   ]
  },
  {
   "cell_type": "code",
   "execution_count": 50,
   "metadata": {
    "collapsed": false,
    "jupyter": {
     "outputs_hidden": false
    }
   },
   "outputs": [
    {
     "data": {
      "text/plain": [
       "3.0"
      ]
     },
     "execution_count": 50,
     "metadata": {},
     "output_type": "execute_result"
    }
   ],
   "source": [
    "27 ** (1/3)"
   ]
  },
  {
   "cell_type": "code",
   "execution_count": 51,
   "metadata": {},
   "outputs": [
    {
     "data": {
      "text/plain": [
       "True"
      ]
     },
     "execution_count": 51,
     "metadata": {},
     "output_type": "execute_result"
    }
   ],
   "source": [
    "(25/5) * 9 + 32 > (20/5) * 9 + 32"
   ]
  },
  {
   "cell_type": "code",
   "execution_count": 52,
   "metadata": {},
   "outputs": [
    {
     "data": {
      "text/plain": [
       "41"
      ]
     },
     "execution_count": 52,
     "metadata": {},
     "output_type": "execute_result"
    }
   ],
   "source": [
    "((25/5) * 9 + 32 > (20/5)) * 9 + 32"
   ]
  },
  {
   "cell_type": "code",
   "execution_count": 53,
   "metadata": {},
   "outputs": [
    {
     "data": {
      "text/plain": [
       "32"
      ]
     },
     "execution_count": 53,
     "metadata": {},
     "output_type": "execute_result"
    }
   ],
   "source": [
    "((25/5) * 9 + 32 < (20/5)) * 9 + 32"
   ]
  },
  {
   "cell_type": "markdown",
   "metadata": {},
   "source": [
    "## Dois tipos numéricos `int` e `float` e o tipo booleano\n",
    "\n",
    "Note que nos resultados dos anteriores, ocasionalmente ocorre o aparecimento de pontos ou não nos valores de entrada e nos resultados. Quando um número não possui um ponto de separação decimal, é um número inteiro `int` e quando tem o ponto, é um `float`, um número de ponto flutuante. No cotidiano, não classificamos os números dessa maneira. Se nos perguntam \"quanto é 10 dividido por 4\", dizemos \"2,5\" e não nos importamos com o fato de termos passado do domínio dos inteiros $\\mathbb Z$ para os reais $\\mathbb R$. Porém, dentro do computador, esses números são representados de uma maneira muito distinta. Quando algumas operações são feitas com eles, o Python realiza uma conversão quando necessário, para seguir com nosso entendimento intuitivo.\n",
    "\n",
    "No caso da divisão (internamente chamada de `true division`, o resultado é sempre um `float`. Porém, em certas situações[^0], queremos uma divisão somente da parte inteira, logo o operador `//` existe.\n",
    "\n",
    "Existem três maneiras de representar números em Python básico, os números inteiros `int` (1, 5, 10, 1000, -500)[^1] e os números de ponto flutuante `float` (1.1, 1000.3, 1E-7, etc.)[^2] e os números complexos, que serão abordados em breve. Para criar um `int`, basta não colocar um ponto no número, e para criar um `float`, basta colocar um (e só um) ponto.\n",
    "\n",
    "Aqui, `int` e `float` são os *tipos* desses números, que por sua vez são *objetos*. Um *tipo* é uma descrição, um conjunto de regras que ditam como interpretar um trecho de memória e como interagir com outros tipos, e um *objeto* como a concretização dessa descrição. Em breve, notaremos que se não há nenhuma regra sobre como dois tipos devem interagir, aparecerá uma mensagem de erro.\n",
    "\n",
    "```{note}\n",
    "Em Python, tudo é um objeto, e todo objeto possui um tipo.\n",
    "```\n",
    "\n",
    "Como um exemplo simplista, imagine uma bancada cheia de abacates. Eles todos diferem, mas você sabe que são todos abacates, pois possui um modelo mental do que um abacate é (p.e. casca verde-escura, polpa verde-amarelada gordurosa com sabor adocicado e uma semente grande no centro). Aqui, o *conceito* de abacate é seu *tipo*, e as frutas em si são *objetos*.\n",
    "\n",
    "Um computador temos que representar todo tipo de dado com zeros e uns (bits), a diferenciação de blocos de memória (sequências de bits) é feita somente pelo tipo associado ao bloco. Um mesmo bloco pode significar números, texto, imagens, música, etc., dependendo do contexto. Por exemplo, a sequência de bits '1100001' pode significar tanto o número 97 quando o caracter 'a'. Já o `float` \"97.\" é representado pela seguinte sequência, gigante, pois o tamanho dos `float`s em Python é 64 bits: `0100000001011000010000000000000000000000000000000000000000000000`.\n",
    "\n",
    "O tipo booleano só pode ter dois valores, como já mencionado. `True` ou `False`. Note que nos dois últimos exemplos, uma operação estranha foi realizada. Colocando um par de parênteses, a ordem das operações foi alterada e a comparação entre os parênteses foi avaliada antes das demais operações de multiplicação e soma. Mas mesmo assim um resultado numérico foi obtido. Isso é porque `True`, em contextos numéricos, é equivalente a `1` e `False` é equivalente a `0`.[^3] Em uma [seção futura](sec:truthy_falsy), irei abordar a direção oposta, i.e., quando certos tipos podem ser interpretados como verdadeiro ou falso.\n",
    "\n",
    "[^0]: Por exemplo, se você quer saber quantas laranjas cabem em uma caixa, utilizar a divisão `/` não irá retornar um valor satisfatório. Não cabem 6,3 laranjas, somente 6.\n",
    "\n",
    "[^1]: Em Python, `int`s são representados como sequências de bits sem um limite teórico, somente prático (memória de seu computador). Isso é diferente de outras línguas que possuem um limite de, por exemplo, 32 ou 64 bits nos números inteiros, possibilitando representar $2^{32}$ ou $2^{64}$ valores diferentes.\n",
    "\n",
    "[^2]: A representação e operações com `float`s estão descritas na norma [IEEE 754](https://en.wikipedia.org/wiki/IEEE_754).\n",
    "\n",
    "[^3]: Por favor, não utilize isso no lugar de 0 ou 1."
   ]
  },
  {
   "cell_type": "markdown",
   "metadata": {},
   "source": [
    "## Maneiras alternativas de representar números"
   ]
  },
  {
   "cell_type": "markdown",
   "metadata": {},
   "source": [
    "Podemos adicionar *underlines* a números inteiros para facilitar nosso entendimento. Por exemplo, o 1 milhão pode ser representado como"
   ]
  },
  {
   "cell_type": "code",
   "execution_count": 54,
   "metadata": {},
   "outputs": [
    {
     "data": {
      "text/plain": [
       "1000000"
      ]
     },
     "execution_count": 54,
     "metadata": {},
     "output_type": "execute_result"
    }
   ],
   "source": [
    "1_000_000"
   ]
  },
  {
   "cell_type": "markdown",
   "metadata": {},
   "source": [
    "E a posição dos *underlines* não precisa ser regular, mas não podem ser consecutivos. É relativamente comum, em softwares financeiros, utilizar números inteiros da menor unidade monetária ao invés de `float`s, por razões de precisão. Logo, R$123,45 é representado como 12345 centavos, ou"
   ]
  },
  {
   "cell_type": "code",
   "execution_count": 55,
   "metadata": {},
   "outputs": [
    {
     "data": {
      "text/plain": [
       "12345"
      ]
     },
     "execution_count": 55,
     "metadata": {},
     "output_type": "execute_result"
    }
   ],
   "source": [
    "123_45"
   ]
  },
  {
   "cell_type": "markdown",
   "metadata": {},
   "source": [
    "`float`s também podem receber *underlines* para facilitar o entendimento. Diferente de `int`s, `float`s podem ser escritos em notação científica abreviada, da seguinte maneira:"
   ]
  },
  {
   "cell_type": "code",
   "execution_count": 56,
   "metadata": {},
   "outputs": [
    {
     "data": {
      "text/plain": [
       "0.021598199999999998"
      ]
     },
     "execution_count": 56,
     "metadata": {},
     "output_type": "execute_result"
    }
   ],
   "source": [
    "2.34E-5 * 9.23E4 / 10_000E-2"
   ]
  },
  {
   "cell_type": "markdown",
   "metadata": {
    "collapsed": false,
    "jupyter": {
     "outputs_hidden": false
    }
   },
   "source": [
    "Vimos que para criar um número inteiro, somente precisamos escrevê-lo como estamos habituados, na base 10. Existem outras maneiras de representar números inteiros em bases diferentes. Em Python, conseguimos representá-los nas bases binária (2), octal (8) e hexadecimal (16). Para isso, adicionamos um prefixo. Para representar o número 14 (base 10), podemos fazê-lo das seguintes maneiras:\n",
    "\n",
    "* Binário: `0b1110`, pois $1 \\times 2^3 + 1 \\times 2^2 + 1 \\times 2^1 + 0 \\times 2^0 = 14$\n",
    "* Octal: `0o16`, pois $1 \\times 8^1 + 6 \\times 8^0 = 14$\n",
    "* Hexadecimal: `0xe`, pois $14 \\times 16^0 = 14$[^4]\n",
    "\n",
    "[^4]: Na base hexadecimal, A=10, B=11, C=12, D=13, E=14, F=15. As letras podem ser maiúsculas ou não.\n",
    "\n",
    "Para comprovar:"
   ]
  },
  {
   "cell_type": "code",
   "execution_count": 57,
   "metadata": {
    "collapsed": false,
    "jupyter": {
     "outputs_hidden": false
    }
   },
   "outputs": [
    {
     "data": {
      "text/plain": [
       "14"
      ]
     },
     "execution_count": 57,
     "metadata": {},
     "output_type": "execute_result"
    }
   ],
   "source": [
    "0b1110"
   ]
  },
  {
   "cell_type": "code",
   "execution_count": 58,
   "metadata": {
    "collapsed": false,
    "jupyter": {
     "outputs_hidden": false
    }
   },
   "outputs": [
    {
     "data": {
      "text/plain": [
       "14"
      ]
     },
     "execution_count": 58,
     "metadata": {},
     "output_type": "execute_result"
    }
   ],
   "source": [
    "0o16"
   ]
  },
  {
   "cell_type": "code",
   "execution_count": 59,
   "metadata": {
    "collapsed": false,
    "jupyter": {
     "outputs_hidden": false
    }
   },
   "outputs": [
    {
     "data": {
      "text/plain": [
       "14"
      ]
     },
     "execution_count": 59,
     "metadata": {},
     "output_type": "execute_result"
    }
   ],
   "source": [
    "0xe"
   ]
  },
  {
   "cell_type": "markdown",
   "metadata": {
    "collapsed": false,
    "jupyter": {
     "outputs_hidden": false
    }
   },
   "source": [
    "É importante entender que tal representação é para *nosso benefício*, não do computador. Para o computador, tudo é armazenado da maneira binária."
   ]
  },
  {
   "cell_type": "markdown",
   "metadata": {},
   "source": [
    "(sec:limit_float)=\n",
    "## Limitações de números de ponto flutuante\n",
    "\n",
    "Note que em vários exemplos mostrados acima, algumas operações pareciam fornecer valores errados. Por exemplo, `3.7 * 4.9` deveria fornecer `18.13` mas fornece `18.130000000000003`. Isso ocorre porque a representação interna de `float`s utiliza base 2. Qualquer fração que utiliza como base um número diferente de 2 é um decimal que se repete (como 3 é para 10). Isso resulta num \"bug\" clássico, que possui até um [site dedicado a ele](https://0.30000000000000004.com/). Honestamente, isso não é extremamente relevante para o uso comum deste curso. Mas se você for utilizar `float`s em sistemas financeiros ou simulações numéricas, é bom saber que essa limitação existe. Em Python, o pacote [`decimal`](https://docs.python.org/3/library/decimal.html?highlight=decimal#module-decimal) fornece uma maneira mais precisa de lidar com números de ponto flutuante escritos em base decimal."
   ]
  },
  {
   "cell_type": "code",
   "execution_count": 60,
   "metadata": {},
   "outputs": [
    {
     "data": {
      "text/plain": [
       "0.30000000000000004"
      ]
     },
     "execution_count": 60,
     "metadata": {},
     "output_type": "execute_result"
    }
   ],
   "source": [
    "0.1 + 0.2"
   ]
  },
  {
   "cell_type": "markdown",
   "metadata": {},
   "source": [
    "Outra limitação de `float`s, especialmente crítica no uso de ferramentas computacionais para problemas científicos, é a dificuldade de utilizar o operador de igualdade `==`. Veja os exemplos a seguir."
   ]
  },
  {
   "cell_type": "code",
   "execution_count": 61,
   "metadata": {},
   "outputs": [
    {
     "data": {
      "text/plain": [
       "False"
      ]
     },
     "execution_count": 61,
     "metadata": {},
     "output_type": "execute_result"
    }
   ],
   "source": [
    "0.1 + 0.2 == 0.3"
   ]
  },
  {
   "cell_type": "code",
   "execution_count": 62,
   "metadata": {},
   "outputs": [
    {
     "data": {
      "text/plain": [
       "True"
      ]
     },
     "execution_count": 62,
     "metadata": {},
     "output_type": "execute_result"
    }
   ],
   "source": [
    "0.1 + 0.2 == 0.30000000000000004"
   ]
  },
  {
   "cell_type": "code",
   "execution_count": 63,
   "metadata": {},
   "outputs": [
    {
     "data": {
      "text/plain": [
       "True"
      ]
     },
     "execution_count": 63,
     "metadata": {},
     "output_type": "execute_result"
    }
   ],
   "source": [
    "0.2 + 0.2 == 0.4"
   ]
  },
  {
   "cell_type": "code",
   "execution_count": 64,
   "metadata": {},
   "outputs": [
    {
     "data": {
      "text/plain": [
       "False"
      ]
     },
     "execution_count": 64,
     "metadata": {},
     "output_type": "execute_result"
    }
   ],
   "source": [
    "1E-20 == 0.0"
   ]
  },
  {
   "cell_type": "markdown",
   "metadata": {},
   "source": [
    "Vemos novamente que `0.1 + 0.2 != 0.3`, mas se você utiliza a representação completa de `0.1 + 0.2`, o resultado é verdadeiro. Porém, se você utiliza números representáveis na base binária, como `0.2`, o problema anterior não se manifesta. E por último, veja que um número muito pequeno, diminuto, que em muitos contextos seria considerado 0, não é, de fato, zero. Limite-se a utilizar `==` ou `!=` com `int`s somente.\n",
    "\n",
    "Logo, é recomendado que você utilize um valor de tolerância, seja relativo ou absoluto, para fazer comparações com `float`s. Por exemplo, se adotarmos $1\\times10^{-7}$ como um valor de tolerância absoluta para a diferença entre dois números, podemos testar essa condição com:"
   ]
  },
  {
   "cell_type": "code",
   "execution_count": 65,
   "metadata": {},
   "outputs": [
    {
     "data": {
      "text/plain": [
       "True"
      ]
     },
     "execution_count": 65,
     "metadata": {},
     "output_type": "execute_result"
    }
   ],
   "source": [
    "(1.0032E-5 - 1.0E-5) < 1E-7"
   ]
  },
  {
   "cell_type": "code",
   "execution_count": 66,
   "metadata": {},
   "outputs": [
    {
     "data": {
      "text/plain": [
       "False"
      ]
     },
     "execution_count": 66,
     "metadata": {},
     "output_type": "execute_result"
    }
   ],
   "source": [
    "(1.32E-5 - 1.0E-5) < 1E-7"
   ]
  },
  {
   "cell_type": "markdown",
   "metadata": {},
   "source": [
    "A tolerância relativa, por outro lado, vê o percentual de diferença entre os dois números. Adotando 0,1%, temos que"
   ]
  },
  {
   "cell_type": "code",
   "execution_count": 67,
   "metadata": {},
   "outputs": [
    {
     "data": {
      "text/plain": [
       "False"
      ]
     },
     "execution_count": 67,
     "metadata": {},
     "output_type": "execute_result"
    }
   ],
   "source": [
    "(1.0032E-5 - 1.0E-5) / 1.0E-5 < 0.001"
   ]
  },
  {
   "cell_type": "code",
   "execution_count": 68,
   "metadata": {},
   "outputs": [
    {
     "data": {
      "text/plain": [
       "True"
      ]
     },
     "execution_count": 68,
     "metadata": {},
     "output_type": "execute_result"
    }
   ],
   "source": [
    "(1.0032E-5 - 1.0E-5) / 1.0E-5 > 0.001"
   ]
  },
  {
   "cell_type": "markdown",
   "metadata": {},
   "source": [
    "A escolha do tipo de tolerância irá depender do problema em questão. Veja que, neste exemplo, a mesma operação \"passou\" no teste de tolerância absoluta mas falhou no teste de tolerância relativa. Como tais testes não são comumente utilizados em conjunto, essa \"discrepância\" não é um problema. Os valores utilizados aqui são relativamente comuns em vários pacotes científicos."
   ]
  },
  {
   "cell_type": "markdown",
   "metadata": {
    "collapsed": false,
    "jupyter": {
     "outputs_hidden": false
    }
   },
   "source": [
    "## Números complexos `complex`\n",
    "\n",
    "Para criar um número complexo, basta colocar o sufixo `j` logo depois de um `int` ou `float`. Certas operações com `int`s e `float`s podem produzir números complexos também. Todas as operações descritas anteriormente funcionam também com números complexos, exceto a divisão inteira `//`, módulo `%` e operações de comparação exceto igualdade `==` e diferença `!=`. Se você tentar aplicar essa operação, um `TypeError` será lançado. Erros são a maneira que Python tem de informar que alguma coisa inesperada aconteceu. Neste caso, como há a definição dessas operações no tipo `complex`, então o erro lançado é um `TypeError`."
   ]
  },
  {
   "cell_type": "code",
   "execution_count": 69,
   "metadata": {},
   "outputs": [
    {
     "data": {
      "text/plain": [
       "1j"
      ]
     },
     "execution_count": 69,
     "metadata": {},
     "output_type": "execute_result"
    }
   ],
   "source": [
    "1j"
   ]
  },
  {
   "cell_type": "code",
   "execution_count": 70,
   "metadata": {
    "collapsed": false,
    "is_executing": true,
    "jupyter": {
     "outputs_hidden": false
    }
   },
   "outputs": [
    {
     "data": {
      "text/plain": [
       "(105+42j)"
      ]
     },
     "execution_count": 70,
     "metadata": {},
     "output_type": "execute_result"
    }
   ],
   "source": [
    "7j * ((6 + 2j) / 2j + (3 - 2j)**2)"
   ]
  },
  {
   "cell_type": "code",
   "execution_count": 71,
   "metadata": {},
   "outputs": [
    {
     "data": {
      "text/plain": [
       "(1.23+1j)"
      ]
     },
     "execution_count": 71,
     "metadata": {},
     "output_type": "execute_result"
    }
   ],
   "source": [
    "1.23 + 1j"
   ]
  },
  {
   "cell_type": "code",
   "execution_count": 72,
   "metadata": {},
   "outputs": [
    {
     "data": {
      "text/plain": [
       "(6.123233995736766e-17+1j)"
      ]
     },
     "execution_count": 72,
     "metadata": {},
     "output_type": "execute_result"
    }
   ],
   "source": [
    "(-1)**(1/2)"
   ]
  },
  {
   "cell_type": "code",
   "execution_count": 73,
   "metadata": {},
   "outputs": [
    {
     "ename": "TypeError",
     "evalue": "unsupported operand type(s) for //: 'int' and 'complex'",
     "output_type": "error",
     "traceback": [
      "\u001b[1;31m---------------------------------------------------------------------------\u001b[0m",
      "\u001b[1;31mTypeError\u001b[0m                                 Traceback (most recent call last)",
      "Cell \u001b[1;32mIn[73], line 1\u001b[0m\n\u001b[1;32m----> 1\u001b[0m \u001b[38;5;241;43m1\u001b[39;49m\u001b[43m \u001b[49m\u001b[38;5;241;43m/\u001b[39;49m\u001b[38;5;241;43m/\u001b[39;49m\u001b[43m \u001b[49m\u001b[38;5;241;43m1\u001b[39;49m\u001b[43mj\u001b[49m\n",
      "\u001b[1;31mTypeError\u001b[0m: unsupported operand type(s) for //: 'int' and 'complex'"
     ]
    }
   ],
   "source": [
    "1 // 1j"
   ]
  },
  {
   "cell_type": "code",
   "execution_count": 74,
   "metadata": {},
   "outputs": [
    {
     "ename": "TypeError",
     "evalue": "unsupported operand type(s) for %: 'int' and 'complex'",
     "output_type": "error",
     "traceback": [
      "\u001b[1;31m---------------------------------------------------------------------------\u001b[0m",
      "\u001b[1;31mTypeError\u001b[0m                                 Traceback (most recent call last)",
      "Cell \u001b[1;32mIn[74], line 1\u001b[0m\n\u001b[1;32m----> 1\u001b[0m \u001b[38;5;241;43m1\u001b[39;49m\u001b[43m \u001b[49m\u001b[38;5;241;43m%\u001b[39;49m\u001b[43m \u001b[49m\u001b[38;5;241;43m1\u001b[39;49m\u001b[43mj\u001b[49m\n",
      "\u001b[1;31mTypeError\u001b[0m: unsupported operand type(s) for %: 'int' and 'complex'"
     ]
    }
   ],
   "source": [
    "1 % 1j"
   ]
  },
  {
   "cell_type": "code",
   "execution_count": 75,
   "metadata": {},
   "outputs": [
    {
     "ename": "TypeError",
     "evalue": "unsupported operand type(s) for %: 'complex' and 'complex'",
     "output_type": "error",
     "traceback": [
      "\u001b[1;31m---------------------------------------------------------------------------\u001b[0m",
      "\u001b[1;31mTypeError\u001b[0m                                 Traceback (most recent call last)",
      "Cell \u001b[1;32mIn[75], line 1\u001b[0m\n\u001b[1;32m----> 1\u001b[0m \u001b[38;5;241;43m1\u001b[39;49m\u001b[43mj\u001b[49m\u001b[43m \u001b[49m\u001b[38;5;241;43m%\u001b[39;49m\u001b[43m \u001b[49m\u001b[38;5;241;43m1\u001b[39;49m\u001b[43mj\u001b[49m\n",
      "\u001b[1;31mTypeError\u001b[0m: unsupported operand type(s) for %: 'complex' and 'complex'"
     ]
    }
   ],
   "source": [
    "1j % 1j"
   ]
  },
  {
   "cell_type": "code",
   "execution_count": 76,
   "metadata": {
    "collapsed": false,
    "jupyter": {
     "outputs_hidden": false
    }
   },
   "outputs": [
    {
     "ename": "TypeError",
     "evalue": "'<' not supported between instances of 'complex' and 'complex'",
     "output_type": "error",
     "traceback": [
      "\u001b[1;31m---------------------------------------------------------------------------\u001b[0m",
      "\u001b[1;31mTypeError\u001b[0m                                 Traceback (most recent call last)",
      "Cell \u001b[1;32mIn[76], line 1\u001b[0m\n\u001b[1;32m----> 1\u001b[0m \u001b[38;5;241;43m1\u001b[39;49m\u001b[43mj\u001b[49m\u001b[43m \u001b[49m\u001b[38;5;241;43m<\u001b[39;49m\u001b[43m \u001b[49m\u001b[38;5;241;43m2\u001b[39;49m\u001b[43mj\u001b[49m\n",
      "\u001b[1;31mTypeError\u001b[0m: '<' not supported between instances of 'complex' and 'complex'"
     ]
    }
   ],
   "source": [
    "1j < 2j"
   ]
  },
  {
   "cell_type": "markdown",
   "metadata": {},
   "source": [
    "## Exercícios resolvidos"
   ]
  },
  {
   "cell_type": "markdown",
   "metadata": {},
   "source": [
    "### Calculando frações molares\n",
    "\n",
    "Considere a seguinte solução:\n",
    "\n",
    "1. 10g de glicerina 80%, massa molar 92,094 g/mol. Considere o resto da massa como água destilada.\n",
    "2. 0,1g de [lauril glicosídeo](https://en.wikipedia.org/wiki/Lauryl_glucoside), massa molar 348,48 g/mol.\n",
    "3. 5g de água destilada, massa molar 18,015 g/mol.\n",
    "\n",
    "Calcule a fração molar de lauril glicosídeo dada pela equação\n",
    "\n",
    "$$\n",
    "   x_i = \\frac{n_i}{\\sum_j^N n_j} \n",
    "$$\n",
    "\n",
    "onde $x_i$ é a fração molar da espécie $i$, $n_i$ é o número de mols da espécie $i$ e $N$ é o número total de espécies."
   ]
  },
  {
   "cell_type": "markdown",
   "metadata": {},
   "source": [
    "Para resolver esse problema, devemos primeiro calcular o número de mols de cada espécie e depois substituir os valores na fórmula. O número de mols é calculado pela massa dividida pela massa molar. O detalhe é que a glicerina contém 20% de água, então dos 10 g de glicerina adicionada, 8 são de glicerina e 2 são de água. Somando o número de mols de todas as espécies, utilizamos isso para dividor o número de mols do lauril glicosídeo e obtemos a resposta."
   ]
  },
  {
   "cell_type": "code",
   "execution_count": 77,
   "metadata": {},
   "outputs": [
    {
     "data": {
      "text/plain": [
       "0.000603213294407632"
      ]
     },
     "execution_count": 77,
     "metadata": {},
     "output_type": "execute_result"
    }
   ],
   "source": [
    "(\n",
    "    (0.1 / 348.48) / \n",
    "    ((5 + 2) / 18.015 + 0.1 / 348.48 + 8 / 92.094)\n",
    ")"
   ]
  },
  {
   "cell_type": "markdown",
   "metadata": {},
   "source": [
    "Note que eu propositalmente adicionei parênteses extras e espaços entre os operadores e números para auxiliar na leitura da equação. Compare com a seguinte solução, idêntica no resultado, mas sem os espaços e parênteses. Qual você acha que é mais legível?"
   ]
  },
  {
   "cell_type": "code",
   "execution_count": 78,
   "metadata": {},
   "outputs": [
    {
     "data": {
      "text/plain": [
       "0.000603213294407632"
      ]
     },
     "execution_count": 78,
     "metadata": {},
     "output_type": "execute_result"
    }
   ],
   "source": [
    "(0.1/348.48)/((5+2)/18.015+0.1/348.48+8/92.094)"
   ]
  },
  {
   "cell_type": "markdown",
   "metadata": {},
   "source": [
    "### Determine se um número é múltiplo de outro\n",
    "\n",
    "Determine se os seguintes números são divisíveis por 7\n",
    "\n",
    "* 7940\n",
    "* 2009\n",
    "* 8419\n",
    "* 3328\n",
    "* 8545\n",
    "* 6639\n",
    "* 9618\n",
    "* 9718\n",
    "* 3761\n",
    "* 3556\n",
    "\n",
    "Para resolver isso, vamos utilizar o operador módulo `%`. Lembre-se que ele retorna o resto da divisão inteira e, se um número é múltiplo de outro, não há resto na divisão, ou seja, `a % b == 0`."
   ]
  },
  {
   "cell_type": "code",
   "execution_count": 79,
   "metadata": {},
   "outputs": [
    {
     "data": {
      "text/plain": [
       "(2, 0, 5, 3, 5, 3, 0, 2, 2, 0)"
      ]
     },
     "execution_count": 79,
     "metadata": {},
     "output_type": "execute_result"
    }
   ],
   "source": [
    "(\n",
    "    7940 % 7,\n",
    "    2009 % 7,\n",
    "    8419 % 7,\n",
    "    3328 % 7,\n",
    "    8545 % 7,\n",
    "    6639 % 7,\n",
    "    9618 % 7,\n",
    "    9718 % 7,\n",
    "    3761 % 7,\n",
    "    3556 % 7\n",
    ")"
   ]
  },
  {
   "cell_type": "markdown",
   "metadata": {},
   "source": [
    "Vemos então que *2009*, *9618* e *3556* são divisíveis por 7, pois tem resto igual a zero. Eu coloquei todos os cálculos em uma célula só por conveniência. O resultado da célula é tecnicamente uma tupla (`tuple`), que será abordada num [capítulo futuro](sec:tuple). Por enquanto, entenda como uma sequência de números separados, com uma vírgula como separador.\n",
    "\n",
    "Você pode se perguntar: mas por que saber se um número é múltiplo de outro é interessante? O operador módulo opera num \"ciclo\", vai de 0 até *n-1*. Então, se você quiser que algo se repita a cada *n* vezes, pode utilizar `% n` e checar se é igual a zero. Eu já utilizei isso para decorar um gráfico a cada 10 pontos, por exemplo.\n",
    "\n",
    "Outra utilidade do operador módulo é determinar se um número é par ou ímpar. Isso é igual a determinar se um número é divisível por 2."
   ]
  },
  {
   "cell_type": "markdown",
   "metadata": {},
   "source": [
    "(sec:prob_gas_ideal)=\n",
    "### Fórmula do gás ideal\n",
    "\n",
    "A fórmula do gás ideal é \n",
    "\n",
    "$$pV = nRT$$\n",
    "\n",
    "considerando 3,4g de hélio a 77°F em um frasco de 35mL, calcule a pressão em bar. Considere a constante dos gases igual a 8,314472 J/(K mol). Considere a massa molar de hélio como 4 g/mol.\n",
    "\n",
    "Rearranjando e isolando $p$, temos:\n",
    "\n",
    "$$\n",
    "p = \\frac{nRT}{V}\n",
    "$$\n",
    "\n",
    "Convertendo as unidades para SI, temos que:\n",
    "\n",
    "$$\n",
    "1 mL = 1 \\cdot 10^{-3} L = 1 \\cdot 10^{-3} \\cdot (dm)^3 = 1 \\cdot 10^{-3} \\cdot \\left(10^{-1}\\right)^3 \\cdot m^3 = 10^{-6} m^3\n",
    "$$\n",
    "\n",
    "$$\n",
    "1 bar = 100000 Pa\n",
    "$$\n",
    "\n",
    "$$\n",
    "(C/5) = (F-32)/9\n",
    "$$\n",
    "\n",
    "$$\n",
    "K = C + 273.15\n",
    "$$"
   ]
  },
  {
   "cell_type": "code",
   "execution_count": 80,
   "metadata": {},
   "outputs": [
    {
     "data": {
      "text/plain": [
       "602.0331007942857"
      ]
     },
     "execution_count": 80,
     "metadata": {},
     "output_type": "execute_result"
    }
   ],
   "source": [
    "(\n",
    "    ((3.4 / 4) * 8.314472 * ( (77 - 32) / 9 * 5 + 273.15 ) /\n",
    "    (35 * 1E-6))\n",
    "    / 1E5\n",
    ")"
   ]
  },
  {
   "cell_type": "markdown",
   "metadata": {},
   "source": [
    "### Quantos tomates cabem numa caixa?\n",
    "\n",
    "Considere tomates de 3,14 cm de diâmetro, esféricos, e desejamos colocá-los em 1 camada dentro de uma caixa retangular de lado 30 cm por comprimento 40 cm (internos). Quantos tomates cabem na caixa?\n",
    "\n",
    "Adotando uma maneira ingênua de resolver o problema, podemos pensar que é só dividir o lado e comprimento pelo diâmetrodo tomate, depois multiplicar esses 2 valores."
   ]
  },
  {
   "cell_type": "code",
   "execution_count": 81,
   "metadata": {},
   "outputs": [
    {
     "data": {
      "text/plain": [
       "121.70879143170107"
      ]
     },
     "execution_count": 81,
     "metadata": {},
     "output_type": "execute_result"
    }
   ],
   "source": [
    "30 / 3.14 * 40 / 3.14"
   ]
  },
  {
   "cell_type": "markdown",
   "metadata": {},
   "source": [
    "Arredondando para baixo, resulta em 121 tomates cabendo na caixa. Porém, note que temos que arredondar antes, ao calcular quantos tomates cabem nas duas dimensões."
   ]
  },
  {
   "cell_type": "code",
   "execution_count": 82,
   "metadata": {},
   "outputs": [
    {
     "data": {
      "text/plain": [
       "9.0"
      ]
     },
     "execution_count": 82,
     "metadata": {},
     "output_type": "execute_result"
    }
   ],
   "source": [
    "30 // 3.14"
   ]
  },
  {
   "cell_type": "code",
   "execution_count": 83,
   "metadata": {},
   "outputs": [
    {
     "data": {
      "text/plain": [
       "12.0"
      ]
     },
     "execution_count": 83,
     "metadata": {},
     "output_type": "execute_result"
    }
   ],
   "source": [
    "40 // 3.14"
   ]
  },
  {
   "cell_type": "code",
   "execution_count": 84,
   "metadata": {},
   "outputs": [
    {
     "data": {
      "text/plain": [
       "108"
      ]
     },
     "execution_count": 84,
     "metadata": {},
     "output_type": "execute_result"
    }
   ],
   "source": [
    "9*12"
   ]
  },
  {
   "cell_type": "markdown",
   "metadata": {},
   "source": [
    "Veja a diferença na figura. Os tomates em vermelho escuro não cabem na caixa. Se quiser confirmar o resultado, pode contar o número de tomates vermelho claro (ou abrir o arquivo .svg no Inkscape e selecioná-los).\n",
    "\n",
    "![tomates](./Imagens/tomates.png)"
   ]
  },
  {
   "cell_type": "markdown",
   "metadata": {},
   "source": [
    "## Exercícios extra\n",
    "\n",
    "Estes exercícios requerem conteúdo abordado em classes futuras."
   ]
  },
  {
   "cell_type": "markdown",
   "metadata": {
    "collapsed": false,
    "jupyter": {
     "outputs_hidden": false
    }
   },
   "source": [
    "### Extendendo uma classe\n",
    "\n",
    "```{note}\n",
    "Este exercício requer conhecimento de **classes**, abordado [aqui](cap:oop).\n",
    "```\n",
    "\n",
    "Vimos que números complexos não implementam os operadores `%` e `//`. Extenda a classe `complex` com essa funcionalidade, mesmo que não faça sentido matemático."
   ]
  },
  {
   "cell_type": "code",
   "execution_count": null,
   "metadata": {},
   "outputs": [],
   "source": [
    "%load \"./Soluções dos exercícios/complex_mod.py\""
   ]
  },
  {
   "cell_type": "markdown",
   "metadata": {},
   "source": [
    "## Fórmula do gás ideal com o pacote `pint`\n",
    "\n",
    "Resolva o problema do gás ideal mostrado anteriormente, mas utilizando o pacote `pint` de conversão de unidades."
   ]
  },
  {
   "cell_type": "code",
   "execution_count": null,
   "metadata": {},
   "outputs": [],
   "source": [
    "%load \"./Soluções dos exercícios/pint.py\""
   ]
  }
 ],
 "metadata": {
  "hide_input": false,
  "kernelspec": {
   "display_name": "CursoPython",
   "language": "python",
   "name": "cursopython"
  },
  "language_info": {
   "codemirror_mode": {
    "name": "ipython",
    "version": 3
   },
   "file_extension": ".py",
   "mimetype": "text/x-python",
   "name": "python",
   "nbconvert_exporter": "python",
   "pygments_lexer": "ipython3",
   "version": "3.11.3"
  },
  "toc": {
   "nav_menu": {},
   "number_sections": true,
   "sideBar": true,
   "skip_h1_title": false,
   "title_cell": "Conteúdo",
   "title_sidebar": "Conteúdo",
   "toc_cell": true,
   "toc_position": {},
   "toc_section_display": true,
   "toc_window_display": false
  },
  "varInspector": {
   "cols": {
    "lenName": 16,
    "lenType": 16,
    "lenVar": 40
   },
   "kernels_config": {
    "python": {
     "delete_cmd_postfix": "",
     "delete_cmd_prefix": "del ",
     "library": "var_list.py",
     "varRefreshCmd": "print(var_dic_list())"
    },
    "r": {
     "delete_cmd_postfix": ") ",
     "delete_cmd_prefix": "rm(",
     "library": "var_list.r",
     "varRefreshCmd": "cat(var_dic_list()) "
    }
   },
   "types_to_exclude": [
    "module",
    "function",
    "builtin_function_or_method",
    "instance",
    "_Feature"
   ],
   "window_display": false
  }
 },
 "nbformat": 4,
 "nbformat_minor": 4
}
