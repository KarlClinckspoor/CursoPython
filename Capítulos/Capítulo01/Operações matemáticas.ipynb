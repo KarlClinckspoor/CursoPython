{
 "cells": [
  {
   "cell_type": "markdown",
   "metadata": {},
   "source": [
    "# Operações matemáticas e tipos\n",
    "\n",
    "Em sua maneira mais simples, Python pode ser usado como uma calculadora que segue as mesmas convenções de ordem de operações com que está acostumado.\n",
    "\n",
    "```{note}\n",
    "Seção da documentação oficial relevante para este capítulo: https://docs.python.org/3/library/stdtypes.html#numeric-types-int-float-complex\n",
    "```\n",
    "\n",
    "## Operações matemáticas básicas"
   ]
  },
  {
   "cell_type": "code",
   "execution_count": 1,
   "metadata": {},
   "outputs": [
    {
     "data": {
      "text/plain": [
       "6"
      ]
     },
     "execution_count": 1,
     "metadata": {},
     "output_type": "execute_result"
    }
   ],
   "source": [
    "2 + 4 # Soma"
   ]
  },
  {
   "cell_type": "code",
   "execution_count": 2,
   "metadata": {},
   "outputs": [
    {
     "data": {
      "text/plain": [
       "-2"
      ]
     },
     "execution_count": 2,
     "metadata": {},
     "output_type": "execute_result"
    }
   ],
   "source": [
    "2 - 4 # Subtração"
   ]
  },
  {
   "cell_type": "code",
   "execution_count": 3,
   "metadata": {},
   "outputs": [
    {
     "data": {
      "text/plain": [
       "8"
      ]
     },
     "execution_count": 3,
     "metadata": {},
     "output_type": "execute_result"
    }
   ],
   "source": [
    "2 * 4 # Multiplicação"
   ]
  },
  {
   "cell_type": "code",
   "execution_count": 4,
   "metadata": {},
   "outputs": [
    {
     "data": {
      "text/plain": [
       "2.0"
      ]
     },
     "execution_count": 4,
     "metadata": {},
     "output_type": "execute_result"
    }
   ],
   "source": [
    "4 / 2 # Divisão*"
   ]
  },
  {
   "cell_type": "code",
   "execution_count": 5,
   "metadata": {},
   "outputs": [
    {
     "data": {
      "text/plain": [
       "2"
      ]
     },
     "execution_count": 5,
     "metadata": {},
     "output_type": "execute_result"
    }
   ],
   "source": [
    "4 // 2 # Divisão inteira*"
   ]
  },
  {
   "cell_type": "code",
   "execution_count": 6,
   "metadata": {},
   "outputs": [
    {
     "data": {
      "text/plain": [
       "16"
      ]
     },
     "execution_count": 6,
     "metadata": {},
     "output_type": "execute_result"
    }
   ],
   "source": [
    "2 ** 4 # Potênciação."
   ]
  },
  {
   "cell_type": "code",
   "execution_count": 7,
   "metadata": {},
   "outputs": [
    {
     "data": {
      "text/plain": [
       "2"
      ]
     },
     "execution_count": 7,
     "metadata": {},
     "output_type": "execute_result"
    }
   ],
   "source": [
    "2 % 4 # Operação módulo (divisão inteira e retorna o resto)"
   ]
  },
  {
   "cell_type": "code",
   "execution_count": 8,
   "metadata": {},
   "outputs": [
    {
     "data": {
      "text/plain": [
       "0"
      ]
     },
     "execution_count": 8,
     "metadata": {},
     "output_type": "execute_result"
    }
   ],
   "source": [
    "4 % 2"
   ]
  },
  {
   "cell_type": "code",
   "execution_count": 9,
   "metadata": {},
   "outputs": [
    {
     "data": {
      "text/plain": [
       "3"
      ]
     },
     "execution_count": 9,
     "metadata": {},
     "output_type": "execute_result"
    }
   ],
   "source": [
    "-4 - -7"
   ]
  },
  {
   "cell_type": "markdown",
   "metadata": {},
   "source": [
    "Parênteses podem ser adicionados por clareza e para mudar a ordem de operações"
   ]
  },
  {
   "cell_type": "code",
   "execution_count": 10,
   "metadata": {},
   "outputs": [
    {
     "data": {
      "text/plain": [
       "-2"
      ]
     },
     "execution_count": 10,
     "metadata": {},
     "output_type": "execute_result"
    }
   ],
   "source": [
    "-4 - (-2)"
   ]
  },
  {
   "cell_type": "code",
   "execution_count": 11,
   "metadata": {},
   "outputs": [
    {
     "data": {
      "text/plain": [
       "-8"
      ]
     },
     "execution_count": 11,
     "metadata": {},
     "output_type": "execute_result"
    }
   ],
   "source": [
    "-4 - (-2) ** 2"
   ]
  },
  {
   "cell_type": "code",
   "execution_count": 12,
   "metadata": {},
   "outputs": [
    {
     "data": {
      "text/plain": [
       "4"
      ]
     },
     "execution_count": 12,
     "metadata": {},
     "output_type": "execute_result"
    }
   ],
   "source": [
    "(-4 - (-2)) ** 2"
   ]
  },
  {
   "cell_type": "markdown",
   "metadata": {},
   "source": [
    "Números decimais podem ser utilizados sem problemas. Note que o separador decimal é o ponto, e não a vírgula."
   ]
  },
  {
   "cell_type": "code",
   "execution_count": 13,
   "metadata": {},
   "outputs": [
    {
     "data": {
      "text/plain": [
       "6.0123"
      ]
     },
     "execution_count": 13,
     "metadata": {},
     "output_type": "execute_result"
    }
   ],
   "source": [
    "2 + 4.0123"
   ]
  },
  {
   "cell_type": "code",
   "execution_count": 14,
   "metadata": {},
   "outputs": [
    {
     "data": {
      "text/plain": [
       "0.622934600735"
      ]
     },
     "execution_count": 14,
     "metadata": {},
     "output_type": "execute_result"
    }
   ],
   "source": [
    "0.4453 ** 2 * 3.1415"
   ]
  },
  {
   "cell_type": "markdown",
   "metadata": {},
   "source": [
    "Raiz quadrada, e demais raízes, podem ser obtidas pela exponenciação por números decimais."
   ]
  },
  {
   "cell_type": "code",
   "execution_count": 15,
   "metadata": {},
   "outputs": [
    {
     "data": {
      "text/plain": [
       "4.0"
      ]
     },
     "execution_count": 15,
     "metadata": {},
     "output_type": "execute_result"
    }
   ],
   "source": [
    "16 ** 0.5"
   ]
  },
  {
   "cell_type": "code",
   "execution_count": 16,
   "metadata": {},
   "outputs": [
    {
     "data": {
      "text/plain": [
       "4.0"
      ]
     },
     "execution_count": 16,
     "metadata": {},
     "output_type": "execute_result"
    }
   ],
   "source": [
    "16 ** (1/2)"
   ]
  },
  {
   "cell_type": "code",
   "execution_count": 17,
   "metadata": {},
   "outputs": [
    {
     "data": {
      "text/plain": [
       "4.0"
      ]
     },
     "execution_count": 17,
     "metadata": {},
     "output_type": "execute_result"
    }
   ],
   "source": [
    "(4 ** 5) ** (1/5)"
   ]
  },
  {
   "cell_type": "markdown",
   "metadata": {},
   "source": [
    "## `int` e `float`\n",
    "\n",
    "Note que nos resultados dos anteriores, de vez em quando ocorre o aparecimento de pontos ou não no resultado, isto é, de vez em quando o resultado é um número decimal e de vez em quando ,não é.\n",
    "\n",
    "Note que temos dois tipos de divisão, a divisão \"normal\" e a divisão inteira, que marquei com asteriscos. Note que o resultado das duas aparenta ser o mesmo, mas difere em sua representação. `4 / 2` resulta em `2.0` e `4 // 2` resulta em `2`. Existem três maneiras de representar números em Python básico, que são os números inteiros `int` (1, 5, 10, 1000, -500)[^1] e os números de ponto flutuante `float` (1.1, 1000.3, 1E-7, etc.)[^2] e os números complexos, que serão abordados em breve. Para criar um `int`, basta não colocar um ponto no número, e para criar um `float`, basta colocar um (e só um) ponto.\n",
    "\n",
    "Por padrão,  No dia-a-dia, não dividimos os números dessa maneira. Se nos perguntam \"quanto é 10 dividido por 4\", dizemos \"2,5\" e não nos importamos com o fato de termos passado do domínio dos inteiros $\\mathbb Z$ para os reais $\\mathbb R$. Em Python, a divisão normal acaba convertendo os dois números inteiros de entrada em `float`s antes de realizar a divisão `/`, por conveniência. Porém, se você realmente quer que o resultado seja um número inteiro, use `//`.\n",
    "\n",
    "Aqui, `int` e `float` são os *tipos* desses números, que por sua vez são *objetos*. Um *tipo* é uma descrição e um *objeto* como a concretização dessa descrição. O *tipo* contém um conjunto de regras que ditam como interpretar a memória associada ao objeto e como realizar operações com objetos de outros tipos. Se não há nenhuma regra sobre como dois tipos devem interagir, aparecerá uma mensagem de erro.\n",
    "\n",
    "```{note}\n",
    "Em Python, tudo é um objeto, e todo objeto possui um tipo.\n",
    "```\n",
    "\n",
    "Como um exemplo simplista, imagine uma bancada cheia de abacates. Eles todos são diferentes, mas você sabe que são todos abacates, pois possui um modelo mental do que um abacate é (casca verde-escura, polpa verde-amarelada gordurosa com sabor adocicado e uma semente grande no centro). Aqui, o *conceito* de abacate é seu *tipo*, e as frutas em si são *objetos*.\n",
    "\n",
    "Um computador temos que representar todo tipo de dado com zeros e uns (bits), a diferenciação de blocos de memória (sequências de bits) é feita somente pelo tipo associado ao bloco. Um mesmo bloco pode significar números, texto, imagens, música, etc., dependendo do contexto. Por exemplo, a sequência de bits '1100001' pode significar tanto o número 97 quando o caracter 'a'. Já o `float` \"97.\" é representado pela seguinte sequência, gigante pois o tamanho dos `float`s em Python é 64 bits: `0100000001011000010000000000000000000000000000000000000000000000`.\n",
    "\n",
    "[^1]: Em Python, `int`s são representados como sequências de bits sem um limite teórico, somente prático (memória de seu computador). Isso é diferente de outras línguas que possuem um limite de, por exemplo, 32 ou 64 bits nos números inteiros, possibilitando representar 2^32 ou 2^64 valores diferentes. \n",
    "\n",
    "[^2]: A representação e operações com `float`s estão descritas na norma [IEEE 754](https://en.wikipedia.org/wiki/IEEE_754).\n"
   ]
  },
  {
   "cell_type": "markdown",
   "metadata": {},
   "source": [
    "## Maneiras alternativas de representar números\n",
    "\n",
    "Vimos que para criar um número inteiro, somente precisamos escrevê-lo como estamos habituados, na base 10. Existem outras maneiras de representar números inteiros em bases diferentes. Em Python, conseguimos representá-los nas bases binária (2), octal (8) e hexadecimal (16). Para isso, adicionamos um prefixo. Para representar o número 14 (base 10), podemos fazê-lo das seguintes maneiras:\n",
    "\n",
    "* Binário: `0b1110`, pois $1 \\times 2^3 + 1 \\times 2^2 + 1 \\times 2^1 + 0 \\times 2^0 = 14$\n",
    "* Octal: `0o16`, pois $1 \\times 8^1 + 6 \\times 8^0 = 14$\n",
    "* Hexadecimal: `0xe`, pois $14 \\times 16^0 = 14$[^3] \n",
    "\n",
    "[^3]: Na base hexadecimal, A=10, B=11, C=12, D=13, E=14, F=15. As letras podem ser maiúsculas ou não.\n",
    "\n",
    "Para comprovar:"
   ]
  },
  {
   "cell_type": "code",
   "execution_count": 18,
   "metadata": {},
   "outputs": [
    {
     "data": {
      "text/plain": [
       "14"
      ]
     },
     "execution_count": 18,
     "metadata": {},
     "output_type": "execute_result"
    }
   ],
   "source": [
    "0b1110"
   ]
  },
  {
   "cell_type": "code",
   "execution_count": 19,
   "metadata": {},
   "outputs": [
    {
     "data": {
      "text/plain": [
       "14"
      ]
     },
     "execution_count": 19,
     "metadata": {},
     "output_type": "execute_result"
    }
   ],
   "source": [
    "0o16"
   ]
  },
  {
   "cell_type": "code",
   "execution_count": 20,
   "metadata": {},
   "outputs": [
    {
     "data": {
      "text/plain": [
       "14"
      ]
     },
     "execution_count": 20,
     "metadata": {},
     "output_type": "execute_result"
    }
   ],
   "source": [
    "0xe"
   ]
  },
  {
   "cell_type": "markdown",
   "metadata": {},
   "source": [
    "É importante entender que tal representação é para *nosso benefício*, não do computador. Para o computador, tudo é armazenado da maneira binária.\n",
    "\n",
    "Além disso, podemos adicionar *underlines* a números inteiros para facilitar nosso entendimento. Por exemplo, o 1 milhão pode ser representado como"
   ]
  },
  {
   "cell_type": "code",
   "execution_count": 21,
   "metadata": {},
   "outputs": [
    {
     "data": {
      "text/plain": [
       "1000000"
      ]
     },
     "execution_count": 21,
     "metadata": {},
     "output_type": "execute_result"
    }
   ],
   "source": [
    "1_000_000"
   ]
  },
  {
   "cell_type": "markdown",
   "metadata": {},
   "source": [
    "E a posição dos *underlines* não precisa ser regular, mas não podem ser consecutivos. É relativamente comum, em softwares financeiros, utilizar números inteiros da menor unidade monetária ao invés de `float`s, por razões de precisão. Logo, R$123,45 é representado como 12345 centavos, ou"
   ]
  },
  {
   "cell_type": "code",
   "execution_count": 22,
   "metadata": {},
   "outputs": [
    {
     "data": {
      "text/plain": [
       "12345"
      ]
     },
     "execution_count": 22,
     "metadata": {},
     "output_type": "execute_result"
    }
   ],
   "source": [
    "123_45"
   ]
  },
  {
   "cell_type": "markdown",
   "metadata": {},
   "source": [
    "`float`s também podem receber *underlines* para facilitar o entendimento. Diferente de `int`s, `float`s podem ser escritos em notação científica abreviada, da seguinte maneira:"
   ]
  },
  {
   "cell_type": "code",
   "execution_count": 23,
   "metadata": {},
   "outputs": [
    {
     "data": {
      "text/plain": [
       "0.021598199999999998"
      ]
     },
     "execution_count": 23,
     "metadata": {},
     "output_type": "execute_result"
    }
   ],
   "source": [
    "2.34E-5 * 9.23E4 / 10_000E-2"
   ]
  },
  {
   "cell_type": "markdown",
   "metadata": {},
   "source": [
    "## Limitações de números de ponto flutuante\n",
    "\n",
    "A representação interna de `float`s utiliza base 2. Porém, isso resulta em problemas quando os números que precisam ser representados não são potências de 2, como `0.1`. Isso resulta num \"bug\" clássico:"
   ]
  },
  {
   "cell_type": "code",
   "execution_count": 24,
   "metadata": {},
   "outputs": [
    {
     "data": {
      "text/plain": [
       "0.30000000000000004"
      ]
     },
     "execution_count": 24,
     "metadata": {},
     "output_type": "execute_result"
    }
   ],
   "source": [
    "0.1 + 0.2"
   ]
  },
  {
   "cell_type": "markdown",
   "metadata": {},
   "source": [
    "Ao invés de 0.3, o resultado é ligeiramente maior. Isso não é um bug, é consequência da maneira que `float`s operam. Honestamente, isso não é extremamente relevante para o uso comum deste curso. Mas se você for utilizar `float`s em sistemas financeiros ou simulações numéricas, é bom saber que essa limitação existe. Em Python, o pacote `decimal` fornece uma maneira mais precisa de lidar com números de ponto flutuante escritos em base decimal. Mais informações sobre esse problema podem ser encontrados no site https://0.30000000000000004.com/"
   ]
  },
  {
   "cell_type": "markdown",
   "metadata": {},
   "source": [
    "## Operações bit-a-bit (bitwise)\n",
    "\n",
    "```{info}\n",
    "Esta seção é opcional. Foi incluída por curiosidade mas sua leitura é recomendada\n",
    "```\n",
    "\n",
    "Como computadores trabalham com bits, existem operadores em Python específicos para trabalhar com a manipulação de bits. Isso pode parecer fora de nosso contexto, mas veremos em módulos futuros que esses operadores são muito úteis na manipulação de *numpy arrays*.\n",
    "\n",
    "Aqui, a função `bin` será utilizada para fornecer uma representação"
   ]
  },
  {
   "cell_type": "code",
   "execution_count": null,
   "metadata": {},
   "outputs": [],
   "source": []
  },
  {
   "cell_type": "code",
   "execution_count": null,
   "metadata": {},
   "outputs": [],
   "source": []
  },
  {
   "cell_type": "code",
   "execution_count": null,
   "metadata": {},
   "outputs": [],
   "source": []
  },
  {
   "cell_type": "code",
   "execution_count": null,
   "metadata": {},
   "outputs": [],
   "source": []
  },
  {
   "cell_type": "code",
   "execution_count": null,
   "metadata": {},
   "outputs": [],
   "source": []
  },
  {
   "cell_type": "code",
   "execution_count": null,
   "metadata": {},
   "outputs": [],
   "source": []
  },
  {
   "cell_type": "markdown",
   "metadata": {},
   "source": [
    "## Exercícios\n",
    "\n"
   ]
  },
  {
   "cell_type": "code",
   "execution_count": null,
   "metadata": {},
   "outputs": [],
   "source": []
  },
  {
   "cell_type": "markdown",
   "metadata": {},
   "source": [
    "Aqui, `10` e `4` são `int`s, pois não possuem um ponto, mas o resultado, `2.5` é um `float`, pois possui o ponto. O Python foi bondoso e entendeu que  Nesse caso, temos uma mudança no *tipo* dos números. "
   ]
  },
  {
   "cell_type": "markdown",
   "metadata": {},
   "source": [
    "aSomente em uma única linha já temos bastante do que conversar.\n",
    "\n",
    "# Funções\n",
    "\n",
    "Em suma, o que ocorre é que esta linha chama a função *print*, e fornece a string 'Hello world!' para a função. Em retorno, a função imprime na tela justamente o que foi fornecido a ela.\n",
    "\n",
    "O que seria uma função? Uma função é basicamente uma caixa preta de código, que recebeu um nome específico. Ao invés de uma série de comandos ter que ser escrita repetidas vezes, é comum encapsular os comandos numa função, e depois chamá-la diretamente. De forma geral, são passados **argumentos** para uma função, que então **retorna** algum valor. Por exemplo, pode ser fornecido um número, e a função retorna outro.\n",
    "\n",
    "## Argumentos\n",
    "\n",
    "Uma função pode ou não receber argumentos. Necessariamente, após o nome de uma função é necessário colocar parênteses. Caso a função não tenha argumentos, não haverá nada dentro dos parênteses. Algumas funções aceitam mais de um argumento, e esses devem ser separados por vírgulas. Em Jupyter Notebooks, se você apertar **Shift+Tab** dentro dos parênteses de uma função, aparecerá um balão de ajuda mostrando o que a função em especial pode chamar. Apertar Tab (com shift apertado) múltiplas vezes expande o conteúdo desse balão, até quatro vezes, onde uma janela aparece na parte debaixo da tela.\n",
    "\n",
    "Neste caso, o único argumento é um conjunto de caracteres, ou **string**, que contém as letras 'Hello world!'. Em Python, strings são demarcadas por aspas, tanto simples (') quanto duplas (\"), mas somente uma ou outra dentro de uma string. Há um caso especial, utilizando aspas triplas (''' ou \"\"\"), que é utilizado para linhas mais compridas de texto. Python é uma linguagem onde a manipulação de strings é bastante fácil.\n",
    "\n",
    "Veja os exemplos a seguir:"
   ]
  },
  {
   "cell_type": "code",
   "execution_count": 25,
   "metadata": {},
   "outputs": [
    {
     "name": "stdout",
     "output_type": "stream",
     "text": [
      "Hello world!\n",
      "\n",
      "Hello world!\n"
     ]
    }
   ],
   "source": [
    "print(\"Hello world!\")\n",
    "print()\n",
    "print('Hello world!')"
   ]
  },
  {
   "cell_type": "markdown",
   "metadata": {},
   "source": [
    "Veja que o uso de aspas simples e duplas não faz diferença. Eu costumo utilizar sempre aspas simples, e somente troco para aspas duplas quando é necessário colocar aspas simples dentro da string. Por exemplo, \"Don't mention it\".\n",
    "\n",
    "Também, quando a função *print* foi chamada com nenhum argumento, ela imprimiu somente uma linha em branco. "
   ]
  },
  {
   "cell_type": "code",
   "execution_count": 26,
   "metadata": {},
   "outputs": [
    {
     "name": "stdout",
     "output_type": "stream",
     "text": [
      "Hello world !\n"
     ]
    }
   ],
   "source": [
    "print('Hello world', '!')"
   ]
  },
  {
   "cell_type": "markdown",
   "metadata": {},
   "source": [
    "Agora, note que foram fornecidos dois argumentos, separados por vírgula. O que o comando *print* fez foi juntá-los com um espaço e colocar na mesma linha.\n",
    "\n",
    "## *keyword arguments*\n",
    "\n",
    "Argumentos de palavra chave, ou *keyword arguments*, são argumentos sempre **opcionais**, e que possuem um valor padrão. Eles devem necessariamente vir depois dos argumentos normais."
   ]
  },
  {
   "cell_type": "code",
   "execution_count": 27,
   "metadata": {},
   "outputs": [
    {
     "name": "stdout",
     "output_type": "stream",
     "text": [
      "Hello world!\n"
     ]
    }
   ],
   "source": [
    "print('Hello world', '!', sep='')"
   ]
  },
  {
   "cell_type": "markdown",
   "metadata": {},
   "source": [
    "Note o *kwarg* **sep**, que controle o(s) caracter(es) que separam os argumentos normais na função print. Seu valor padrão é um espaço, ' ', mas aqui esse valor padrão foi substituído por nada, '', então não há um espaço entre 'world' e '!'."
   ]
  },
  {
   "cell_type": "code",
   "execution_count": 28,
   "metadata": {},
   "outputs": [
    {
     "name": "stdout",
     "output_type": "stream",
     "text": [
      "abcdef\n"
     ]
    }
   ],
   "source": [
    "print('abc', end='')\n",
    "print('def')"
   ]
  },
  {
   "cell_type": "markdown",
   "metadata": {},
   "source": [
    "Este é um segundo exemplo de um *keyword argument*, desta vez trocando o caractere colocado no final *end* de uma string, de `\\n` para `''`. Geralmente, uma nova linha é colocada sempre após os comandos print.\n",
    "\n",
    "# Strings\n",
    "\n",
    "Strings são conjuntos imutáveis (não se preocupe com o termo agora) de caracteres. Python 3 utiliza, por padrão, o conjunto de caracteres *Unicode*, ou *UTF-8*. Isso significa que falantes de línguas como Português, que possuem diacríticos (á, à, ã, ç), podem facilmente utilizar strings com os caracteres nativos. Como já escrito, strings são sempre envolvidas por aspas simples ou duplas.\n",
    "\n",
    "## *Escape sequences*\n",
    "\n",
    "Um *escape sequence* é um conjunto de caracteres, geralmente precedidos por uma barra para a esquerda (\\\\) que possuem um significado especial. É bastante útil que você se familiarize com esses caracteres, pois eles podem ajudá-lo muito na hora de consertar arquivos de texto. \n",
    "\n",
    "    \\n: Cria uma nova linha\n",
    "    \\t: Cria um tab\n",
    "    \\r: Retorna ao início da linha\n",
    "    \\\\: Escreve a barra para a esquerda em si.\n",
    "\n",
    "O mais utilizado é `\\n`, mas é bom saber que esses códigos especiais existem. Veja o exemplo:"
   ]
  },
  {
   "cell_type": "code",
   "execution_count": 29,
   "metadata": {},
   "outputs": [
    {
     "name": "stdout",
     "output_type": "stream",
     "text": [
      "Hello\n",
      "world!\n"
     ]
    }
   ],
   "source": [
    "print('Hello\\nworld!')"
   ]
  },
  {
   "cell_type": "markdown",
   "metadata": {},
   "source": [
    "No lugar do espaço, foi colocado `'\\n'`, e isso causou que a linha fosse dividida em duas. Isso é fundamental para quem está utilizando um script que escreve um arquivo de texto, por exemplo.\n",
    "\n",
    "## *raw* strings\n",
    "\n",
    "Suponha que você deseja imprimir justamente a string `'Hello\\nworld!'`, sem separação de texto. Isso pode ser feito utilizando uma *raw string*, que é criada simplesmente colocando um *r* antes das aspas."
   ]
  },
  {
   "cell_type": "code",
   "execution_count": 30,
   "metadata": {},
   "outputs": [
    {
     "name": "stdout",
     "output_type": "stream",
     "text": [
      "Hello\\nworld!\n",
      "\\abc\n"
     ]
    }
   ],
   "source": [
    "print(r'Hello\\nworld!')\n",
    "print(r'\\abc')"
   ]
  },
  {
   "cell_type": "markdown",
   "metadata": {},
   "source": [
    "Caso você deseje escrever somente uma barra simples, é necessário fazer algo um pouco estranho: colocar duas barras. A primeira barra fala \"considere o próximo caracter como sendo especial\" e a segunda barra fala \"o caractere especial é uma barra mesmo, então use-a\". Com *raw strings*, pode ser utilizada somente uma barra. Isso será útil bastante no futuro, quando fizermos plots utilizando codigos matemáticos do estilo LaTeX para legendas, etc."
   ]
  },
  {
   "cell_type": "code",
   "execution_count": 31,
   "metadata": {},
   "outputs": [
    {
     "name": "stdout",
     "output_type": "stream",
     "text": [
      "ABC\\DEF\n",
      "ABC\\DEF\n"
     ]
    }
   ],
   "source": [
    "print('ABC\\\\DEF')\n",
    "print(r'ABC\\DEF')"
   ]
  },
  {
   "cell_type": "markdown",
   "metadata": {},
   "source": [
    "## Sobre objetos\n",
    "\n",
    "Absolutamente **tudo** em Python é um objeto, que possui um tipo. E todo tipo possui um conjunto de *métodos*, isso é, funções, e *propriedades*, isso é, valores/variáveis, associadas a ele. É possível obter informações sobre um objeto utilizando o comando **dir**. Isso lista todas os métodos e propriedades do objeto. As propriedades que começam com (\\_\\_) são privadas e é melhor não mexer nelas, a não ser que você saiba o que está fazendo. As outras são públicas, e podem ser usadas como quiser."
   ]
  },
  {
   "cell_type": "code",
   "execution_count": 32,
   "metadata": {
    "scrolled": true
   },
   "outputs": [
    {
     "data": {
      "text/plain": [
       "['__add__',\n",
       " '__class__',\n",
       " '__contains__',\n",
       " '__delattr__',\n",
       " '__dir__',\n",
       " '__doc__',\n",
       " '__eq__',\n",
       " '__format__',\n",
       " '__ge__',\n",
       " '__getattribute__',\n",
       " '__getitem__',\n",
       " '__getnewargs__',\n",
       " '__getstate__',\n",
       " '__gt__',\n",
       " '__hash__',\n",
       " '__init__',\n",
       " '__init_subclass__',\n",
       " '__iter__',\n",
       " '__le__',\n",
       " '__len__',\n",
       " '__lt__',\n",
       " '__mod__',\n",
       " '__mul__',\n",
       " '__ne__',\n",
       " '__new__',\n",
       " '__reduce__',\n",
       " '__reduce_ex__',\n",
       " '__repr__',\n",
       " '__rmod__',\n",
       " '__rmul__',\n",
       " '__setattr__',\n",
       " '__sizeof__',\n",
       " '__str__',\n",
       " '__subclasshook__',\n",
       " 'capitalize',\n",
       " 'casefold',\n",
       " 'center',\n",
       " 'count',\n",
       " 'encode',\n",
       " 'endswith',\n",
       " 'expandtabs',\n",
       " 'find',\n",
       " 'format',\n",
       " 'format_map',\n",
       " 'index',\n",
       " 'isalnum',\n",
       " 'isalpha',\n",
       " 'isascii',\n",
       " 'isdecimal',\n",
       " 'isdigit',\n",
       " 'isidentifier',\n",
       " 'islower',\n",
       " 'isnumeric',\n",
       " 'isprintable',\n",
       " 'isspace',\n",
       " 'istitle',\n",
       " 'isupper',\n",
       " 'join',\n",
       " 'ljust',\n",
       " 'lower',\n",
       " 'lstrip',\n",
       " 'maketrans',\n",
       " 'partition',\n",
       " 'removeprefix',\n",
       " 'removesuffix',\n",
       " 'replace',\n",
       " 'rfind',\n",
       " 'rindex',\n",
       " 'rjust',\n",
       " 'rpartition',\n",
       " 'rsplit',\n",
       " 'rstrip',\n",
       " 'split',\n",
       " 'splitlines',\n",
       " 'startswith',\n",
       " 'strip',\n",
       " 'swapcase',\n",
       " 'title',\n",
       " 'translate',\n",
       " 'upper',\n",
       " 'zfill']"
      ]
     },
     "execution_count": 32,
     "metadata": {},
     "output_type": "execute_result"
    }
   ],
   "source": [
    "# Obtém as propriedades da string 'Hello'\n",
    "dir('Hello')"
   ]
  },
  {
   "cell_type": "code",
   "execution_count": 33,
   "metadata": {},
   "outputs": [
    {
     "data": {
      "text/plain": [
       "['__call__',\n",
       " '__class__',\n",
       " '__delattr__',\n",
       " '__dir__',\n",
       " '__doc__',\n",
       " '__eq__',\n",
       " '__format__',\n",
       " '__ge__',\n",
       " '__getattribute__',\n",
       " '__getstate__',\n",
       " '__gt__',\n",
       " '__hash__',\n",
       " '__init__',\n",
       " '__init_subclass__',\n",
       " '__le__',\n",
       " '__lt__',\n",
       " '__module__',\n",
       " '__name__',\n",
       " '__ne__',\n",
       " '__new__',\n",
       " '__qualname__',\n",
       " '__reduce__',\n",
       " '__reduce_ex__',\n",
       " '__repr__',\n",
       " '__self__',\n",
       " '__setattr__',\n",
       " '__sizeof__',\n",
       " '__str__',\n",
       " '__subclasshook__',\n",
       " '__text_signature__']"
      ]
     },
     "execution_count": 33,
     "metadata": {},
     "output_type": "execute_result"
    }
   ],
   "source": [
    "# Obtém as propriedades da função print\n",
    "dir(print)"
   ]
  },
  {
   "cell_type": "markdown",
   "metadata": {},
   "source": [
    "### Acessando métodos e propriedades internas\n",
    "\n",
    "Para acessar algum método ou propriedade interna de um objeto, utilize a notação ponto.\n",
    "\n",
    "    X.P\n",
    "    X.M()\n",
    "\n",
    "que basicamente significa:\n",
    "\n",
    "    do objeto X, pegue a propriedade P (um número, um nome, etc)\n",
    "    do objeto X, pegue a função/método M\n",
    "    \n",
    "Por exemplo, strings possuem vários métodos internos que são referentes às propriedades da string em questão. Por exemplo, a função interna ```isdecimal``` retorna ```True``` se todos os algarismos da string forem números, ou ```False``` se isso não for o caso."
   ]
  },
  {
   "cell_type": "code",
   "execution_count": 34,
   "metadata": {},
   "outputs": [
    {
     "name": "stdout",
     "output_type": "stream",
     "text": [
      "True\n",
      "False\n"
     ]
    }
   ],
   "source": [
    "print('1'.isdecimal())\n",
    "print('A1'.isdecimal())"
   ]
  },
  {
   "cell_type": "markdown",
   "metadata": {},
   "source": [
    "# Obtendo ajuda\n",
    "\n",
    "Há muitas funções no Python, tanto fora quanto dentro de outros objetos. Para obter informações sobre essas funções, sobre objetos, utilize as funções **help** ou **?**.\n",
    "\n",
    "Também, você pode chamar a *docstring*, ou ajuda de uma função, apertando Shift+TAB várias vezes dentro dos parênteses da função."
   ]
  },
  {
   "cell_type": "code",
   "execution_count": 35,
   "metadata": {},
   "outputs": [
    {
     "name": "stdout",
     "output_type": "stream",
     "text": [
      "Help on built-in function isdecimal:\n",
      "\n",
      "isdecimal() method of builtins.str instance\n",
      "    Return True if the string is a decimal string, False otherwise.\n",
      "    \n",
      "    A string is a decimal string if all characters in the string are decimal and\n",
      "    there is at least one character in the string.\n",
      "\n"
     ]
    }
   ],
   "source": [
    "help('1'.isdecimal)"
   ]
  },
  {
   "cell_type": "code",
   "execution_count": 36,
   "metadata": {},
   "outputs": [
    {
     "data": {
      "text/plain": [
       "\u001b[1;31mSignature:\u001b[0m \u001b[0mprint\u001b[0m\u001b[1;33m(\u001b[0m\u001b[1;33m*\u001b[0m\u001b[0margs\u001b[0m\u001b[1;33m,\u001b[0m \u001b[0msep\u001b[0m\u001b[1;33m=\u001b[0m\u001b[1;34m' '\u001b[0m\u001b[1;33m,\u001b[0m \u001b[0mend\u001b[0m\u001b[1;33m=\u001b[0m\u001b[1;34m'\\n'\u001b[0m\u001b[1;33m,\u001b[0m \u001b[0mfile\u001b[0m\u001b[1;33m=\u001b[0m\u001b[1;32mNone\u001b[0m\u001b[1;33m,\u001b[0m \u001b[0mflush\u001b[0m\u001b[1;33m=\u001b[0m\u001b[1;32mFalse\u001b[0m\u001b[1;33m)\u001b[0m\u001b[1;33m\u001b[0m\u001b[1;33m\u001b[0m\u001b[0m\n",
       "\u001b[1;31mDocstring:\u001b[0m\n",
       "Prints the values to a stream, or to sys.stdout by default.\n",
       "\n",
       "sep\n",
       "  string inserted between values, default a space.\n",
       "end\n",
       "  string appended after the last value, default a newline.\n",
       "file\n",
       "  a file-like object (stream); defaults to the current sys.stdout.\n",
       "flush\n",
       "  whether to forcibly flush the stream.\n",
       "\u001b[1;31mType:\u001b[0m      builtin_function_or_method"
      ]
     },
     "metadata": {},
     "output_type": "display_data"
    }
   ],
   "source": [
    "?print"
   ]
  },
  {
   "cell_type": "markdown",
   "metadata": {},
   "source": [
    "A medida que você explora novos tipos, tenha em mente esses comandos. É uma maneira rápida e fácil de obter ajuda especificamente sobre uma função que você deseja utilizar."
   ]
  },
  {
   "cell_type": "markdown",
   "metadata": {},
   "source": [
    "# Exercícios\n",
    "\n",
    "Utilize a função ```dir```, ```help``` para explorar os métodos internos de strings. Depois, teste esses métodos e veja o que eles retornam. Não se preocupe com não entender alguns termos enquanto pesquisa, este exercício é mais para você se acostumar com a sintaxe de criação de strings, de chamar funções, e chamar funções dentro de funções.\n",
    "\n",
    "Alguns exemplos:"
   ]
  },
  {
   "cell_type": "code",
   "execution_count": 37,
   "metadata": {},
   "outputs": [
    {
     "name": "stdout",
     "output_type": "stream",
     "text": [
      "True\n",
      "False\n",
      "['Hello', 'world!']\n",
      "hello world!\n",
      "Hello world!\n",
      "Herro worrd!\n"
     ]
    }
   ],
   "source": [
    "print('Hello world!'.endswith('!'))\n",
    "print('Hello world!'.startswith('a'))\n",
    "print('Hello world!'.split(' '))\n",
    "print('HELLO WORLD!'.lower())\n",
    "print('Hello world!      '.rstrip())\n",
    "print('Hello world!'.replace('l','r'))"
   ]
  }
 ],
 "metadata": {
  "hide_input": false,
  "kernelspec": {
   "display_name": "CursoPython",
   "language": "python",
   "name": "cursopython"
  },
  "language_info": {
   "codemirror_mode": {
    "name": "ipython",
    "version": 3
   },
   "file_extension": ".py",
   "mimetype": "text/x-python",
   "name": "python",
   "nbconvert_exporter": "python",
   "pygments_lexer": "ipython3",
   "version": "3.11.3"
  },
  "toc": {
   "nav_menu": {},
   "number_sections": true,
   "sideBar": true,
   "skip_h1_title": false,
   "title_cell": "Conteúdo",
   "title_sidebar": "Conteúdo",
   "toc_cell": true,
   "toc_position": {},
   "toc_section_display": true,
   "toc_window_display": false
  },
  "varInspector": {
   "cols": {
    "lenName": 16,
    "lenType": 16,
    "lenVar": 40
   },
   "kernels_config": {
    "python": {
     "delete_cmd_postfix": "",
     "delete_cmd_prefix": "del ",
     "library": "var_list.py",
     "varRefreshCmd": "print(var_dic_list())"
    },
    "r": {
     "delete_cmd_postfix": ") ",
     "delete_cmd_prefix": "rm(",
     "library": "var_list.r",
     "varRefreshCmd": "cat(var_dic_list()) "
    }
   },
   "types_to_exclude": [
    "module",
    "function",
    "builtin_function_or_method",
    "instance",
    "_Feature"
   ],
   "window_display": false
  }
 },
 "nbformat": 4,
 "nbformat_minor": 4
}
