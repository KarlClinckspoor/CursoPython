{
 "cells": [
  {
   "cell_type": "markdown",
   "id": "00c19cae-4270-4047-8fdb-a599e9462329",
   "metadata": {},
   "source": [
    "(sec:import)=\n",
    "# Importando bibliotecas e um tour da biblioteca padrão\n",
    "\n",
    "Uma das grandes vantagens de Python é a extensa comunidade presente, que cria e mantém pacotes e bibliotecas para as mais variadas funções. Neste capítulo, aprenderemos como importar bibliotecas e exploraremos algumas bibliotecas embutidas. Para mais detalhes sobre importação, [veja a documentação oficial](https://docs.python.org/3/reference/import.html). Por trás dos panos, a operação de importação é bastante complexa, mas a interface para fazer tarefas simples é simples também.\n",
    "\n",
    "Primeiro, vamos esclarecer alguns termos:\n",
    "\n",
    "* módulo: um módulo contém objetos de Python, que é acessada pelo processo de importação. Uma analogia é considerar um módulo como um arquivo.\n",
    "* pacote: é um módulo que contém submódulos e subpacotes. Serve para organizar os módulos. Uma analogia é considerar um pacote como uma pasta, que pode conter outras pastas (subpacotes) e arquivos (submódulos).\n",
    "* importar: processo em que um módulo ganha acesso a código em outro módulo\n",
    "* biblioteca: um termo menos preciso, e significa em essência um conjunto de módulos, como a biblioteca padrão (*standard library* - que chamei de bibliotecas embutidas).\n",
    "\n",
    "Para importar um pacote, utilize a sintaxe: \n",
    "\n",
    "```python\n",
    "import pacote\n",
    "```\n",
    "\n",
    "Se você quiser importar apenas uma parte do código de um módulo, você deve utilizar\n",
    "\n",
    "```python\n",
    "from pacote import parte\n",
    "```\n",
    "\n",
    "E então essa parte estará acessível a seu código, mas o pacote em si não, a não ser que você importe ele diretamente também. É possível importar várias partes de uma vez, como `from pacote import parte1, parte2, parte3`, e se quiser importar todos os elementos e colocá-los no escopo global, utilize `from pacote import *`. Isso não é recomendado de forma geral pois pode sobrescrever certas funções e dificulta saber de onde uma função veio. Por exemplo, os pacotes `math` e `cmath` possuem funções com nomes iguais, mas direcionadas a números reais e complexos, respectivamente. Se você utilizar `from math import *` e depois `from cmath import *`, você terá uma verdadeira salada de funções todas misturadas.\n",
    "\n",
    "Você também pode alterar o nome de algo ao importá-lo. Isso é muito comum com certas bibliotecas, que possuem uma nomeação praticamente padrão:\n",
    "\n",
    "```python\n",
    "import pacote as novo_nome\n",
    "```\n",
    "\n",
    "```python\n",
    "import pandas as pd\n",
    "import numpy as np\n",
    "```\n",
    "\n",
    "E por fim, você pode importar um submódulo com esta sintaxe:\n",
    "\n",
    "```python\n",
    "import pacote.submódulo\n",
    "```\n",
    "\n",
    "e o submódulo estará disponível por seu nome completo, `pacote.submódulo`. Como isso é muitas vezes inconveniente, você pode renomear essa importação, como o exemplo anterior mostrou. \n",
    "\n",
    "```python\n",
    "import matplotlib.pyplot as plt\n",
    "```\n",
    "\n",
    "Quando você importa um módulo, todo o código dentro dele é executado. Logo, se existir em algum local um comando `print('abc')`, no escopo global do pacote, esse comando será executado sempre que o pacote for importado. Por exemplo, suponha que você criou este arquivo inicialmente com o propósito de rodá-lo diretamente com `python arquivo.py`.\n",
    "\n",
    "```python\n",
    "# arquivo.py\n",
    "def ação():\n",
    "    print('Hello world!')\n",
    "\n",
    "ação()\n",
    "```\n",
    "\n",
    "Posteriormente, você gostaria de importar a função `ação` para utilizar em outro projeto. Se você importar esse arquivo com `import arquivo`, a mensagem `Hello world!'` irá aparecer. Em outros casos, um erro poderá ocorrer e a importação não terá sido bem sucedida. Para impedir esses problemas de ocorrerem, utiliza-se a seguinte construção:\n",
    "\n",
    "```python\n",
    "# arquivo.py\n",
    "def ação():\n",
    "    print('Hello world!')\n",
    "\n",
    "if __name__ == '__main__':\n",
    "    ação()\n",
    "```\n",
    "\n",
    "A variável `__name__` é igual ao nome do pacote quando o arquivo é importado e é `__main__` quando um arquivo é rodado diretamente. Assim, a chamada da função `ação` só ocorrerá se `arquivo.py` for executado diretamente, e não importado.\n",
    "\n",
    "O resto deste capítulo será dedicado à exploração de alguns pacotes da biblioteca padrão de Python."
   ]
  },
  {
   "cell_type": "code",
   "execution_count": 1,
   "id": "78d594fa-5a35-4b22-a2e4-aa6073bcd31c",
   "metadata": {},
   "outputs": [
    {
     "name": "stdout",
     "output_type": "stream",
     "text": [
      "The Zen of Python, by Tim Peters\n",
      "\n",
      "Beautiful is better than ugly.\n",
      "Explicit is better than implicit.\n",
      "Simple is better than complex.\n",
      "Complex is better than complicated.\n",
      "Flat is better than nested.\n",
      "Sparse is better than dense.\n",
      "Readability counts.\n",
      "Special cases aren't special enough to break the rules.\n",
      "Although practicality beats purity.\n",
      "Errors should never pass silently.\n",
      "Unless explicitly silenced.\n",
      "In the face of ambiguity, refuse the temptation to guess.\n",
      "There should be one-- and preferably only one --obvious way to do it.\n",
      "Although that way may not be obvious at first unless you're Dutch.\n",
      "Now is better than never.\n",
      "Although never is often better than *right* now.\n",
      "If the implementation is hard to explain, it's a bad idea.\n",
      "If the implementation is easy to explain, it may be a good idea.\n",
      "Namespaces are one honking great idea -- let's do more of those!\n"
     ]
    }
   ],
   "source": [
    "import this"
   ]
  },
  {
   "cell_type": "markdown",
   "id": "3e20b0f6-366b-4673-9e75-d150e012d474",
   "metadata": {},
   "source": [
    "Este é um dos pacotes mais simples em Python e contém algumas instruções e metas para a linguagem. Outro pacote simples é"
   ]
  },
  {
   "cell_type": "code",
   "execution_count": 2,
   "id": "bd6ec418-5bf1-422d-a908-d56359592393",
   "metadata": {},
   "outputs": [],
   "source": [
    "import antigravity"
   ]
  },
  {
   "cell_type": "markdown",
   "id": "7c4aed7a-f16d-4a2b-a73d-215a74934c17",
   "metadata": {},
   "source": [
    "## Funções do sistema, manipulação de arquivos e pastas\n",
    "\n",
    "(sec:os)=\n",
    "### `os`\n",
    "\n",
    "[Link da documentação](https://docs.python.org/3/library/os.html)\n",
    "\n",
    "O pacote `os` contém funções para interagir com o sistema operacional de maneira independente da plataforma. Por exemplo, Windows e Linux utilizam comandos diferentes para gerar arquivos, mudar de pastas, mas podemos abstrair isso utilizando as funções em `os`. Primeiro, vamos explorar como gerar algumas pastas."
   ]
  },
  {
   "cell_type": "code",
   "execution_count": 3,
   "id": "b1547979-1cfa-44f9-a81a-2766f8f79ac7",
   "metadata": {},
   "outputs": [],
   "source": [
    "import os"
   ]
  },
  {
   "cell_type": "markdown",
   "id": "7c8f3e69-40cf-43ba-8503-ec2fae4d18cf",
   "metadata": {},
   "source": [
    "#### O conceito de *current working directory*\n",
    "\n",
    "Podemos utilizar comandos para manipulação de pastas ou arquivos com caminhos absolutos ou relativos.\n",
    "\n",
    "Note aqui que estamos presumindo o local em que as pastas serão geradas, que é o *current working directory* ou *CWD*. Essa variável pode ser obtida pelo comando `os.getcwd()`. Geralmente, essa é a pasta onde você executou o comando `python ...` ou, no caso do Jupyter Lab, a pasta onde o arquivo `.ipynb` se localiza. Vamos supor a seguinte estrutura:\n",
    "\n",
    "```\n",
    "--- raiz\n",
    "      |\n",
    "      +--pasta1\n",
    "           |\n",
    "           +--arquivo.py\n",
    "```\n",
    "\n",
    "\n",
    "Suponha que você quer rodar o arquivo `arquivo.py`. Se você abrir o terminal na `raiz`, poderá trocar para `pasta1` com `cd pasta1` e depois rodar `python ./arquivo.py` ou executar diretamente `python ./pasta1/arquivo.py`. No primeiro caso, *cwd* será `raiz/pasta1/` e no segundo caso será `raiz/`.\n",
    "\n",
    "#### Manipulação de pastas\n",
    "\n",
    "`os.mkdir(caminho)` é utilizado para criar uma pasta especificada pelo caminho no argumento. Suponha que você queira criar esta estrutura com uma pasta aninhada na outra, e seu *cwd* é `raiz/`\n",
    "\n",
    "```\n",
    "--- raiz\n",
    "      |\n",
    "      +--pasta1\n",
    "           |\n",
    "           +--pasta2\n",
    "```\n",
    "\n",
    "Para isso, precisaremos do comando `os.mkdir('pasta1')` seguido de `os.mkdir('pasta1/pasta2')`. Isso é inconveniente se quisermos fazer estruturas mais complexas, pois muitos caminhos serão repetidos. Podemos então trocar o *cwd* com `os.chdir('pasta1')` e depois criar a segunda pasta com `os.mkdir('pasta2')`. Você pode voltar à pasta original com `os.chdir('..')` ou armazenar o *cwd* original em uma variável e retornar à ela depois de tudo.\n",
    "\n",
    "Se você tentar criar `pasta2` diretamente, como `pasta1` não existe, `FileNotFoundError` será lançado. Caso você tente rodar novamente o domando, é possível que a pasta já exista e um erro `FileExistsError` será lançado.\n",
    "\n",
    "Alternativamente, o comando `os.mkdirs(caminho)` é utilizado para criar uma pasta e todas as pastas necessárias para atingir. O argumento opcional `exist_ok`, por padrão `False`, evita que um erro seja lançado se alguma pasta já existir. Logo, o comando anterior se torna `os.mkdir('./pasta1/pasta2', exist_ok=True)`, e não precisamos \n",
    "\n",
    "Em paralelo a `os.mkdirs` e `os.mkdir`, temos `os.rmdirs` e `os.rmdir`, que removem pastas. \n",
    "\n",
    "Para renomear uma pasta, existe o comando `os.rename(origem, destino)`, que irá falhar se a pasta de destino já existir. Caso queira substituir, pode utiliar `os.replace(origem, destino)`. Estas funções também funcionam com arquivos.\n",
    "\n",
    "#### Manipulações de caminhos\n",
    "\n",
    "Outra tarefa recorrente é a manipulação de caminhos. Utilizar manipulação de strings pode parecer tentador, mas é uma receita para frustração, especialmente se você deseja que seu programa seja utilizado em mais de um sistema operacional. O submódulo [`os.path`](https://docs.python.org/3/library/os.path.html) possui ferramentas para auxiliar nisso. O mais recomendado hoje em dia é utilizar o pacote `pathlib`, que exploraremos [em breve](sec:pathlib).\n",
    "\n",
    "Aqui vão algumas funções úteis:\n",
    "\n",
    "* `os.path.abspath` retorna o caminho absoluto dado um caminho relativo.\n",
    "* `os.path.relpath` retorna um caminho relativo, referente ao *cwd*, dado um caminho absoluto.\n",
    "* `os.path.basename` retorna o nome na base do caminho. Se for uma pasta, retorna o nome da pasta, se for um arquivo, retorna o nome do arquivo. Por exemplo, `os.path.basename(os.path.abspath('./Importando bibliotecas.ipynb'))` resulta em `'Importando bibliotecas.ipynb'`.\n",
    "* `os.path.dirname` retorna o nome de todos os diretórios no caminho até o caminho da pasta ou arquivo fornecido.\n",
    "* `os.path.exists`, `os.path.isfile` e `os.path.isdir` retornam `True` se o caminho fornecido é uma pasta ou arquivo existente, com diferenças óbvias pelo nome.\n",
    "* `os.path.join` junta duas ou mais caminhos de maneira \"inteligente\", obedecendo o separador de pastas do sistema, em ordem. Não checa se o caminho final é válido, e não checa se você tentar \"colocar\" um arquivo dentro do outro.\n",
    "* `os.path.split` retorna duas strings, a segunda sendo a última parte do caminho e a primeira sendo o resto, à esquerda. Se o caminho fornecido termina com uma barra, a segunda parte é uma string vazia."
   ]
  },
  {
   "cell_type": "markdown",
   "id": "fef88978-30d4-4a5c-9d30-13d9f90c022b",
   "metadata": {},
   "source": [
    "#### Percorrendo diretórios e pastas\n",
    "\n",
    "Iterar sobre o conteúdo de pastas é algo relativamente comum. Por exemplo, você pode querer encontrar todos os arquivos `.csv` de uma pasta para tratá-los. Para isso, as funções `os.walk` e `os.scandir` podem ser utilizadas. `os.walk(caminho)` recebe um caminho e cria um gerador que fornece uma tupla com o caminho até a pasta, o nome das pastas dentro da pasta atual e o nome dos arquivos na pasta atual. `os.scandir` age de maneira um pouco diferente. Ele gera um iterador que retorna objetos `DirEntry`. Esses objetos contém informações sobre se algo é uma pasta ou um arquivo, e o *stats* do arquivo.\n",
    "\n",
    "Isso ainda é um tanto laborioso. Para métodos melhores de se percorrer diretórios e encontrar arquivos, podemos utilizar o módulo [`glob`](sec:glob)."
   ]
  },
  {
   "cell_type": "markdown",
   "id": "23469de9-655a-4ee4-85b5-04724cf5cb8e",
   "metadata": {},
   "source": [
    "(sec:glob)=\n",
    "### `glob`\n",
    "\n",
    "[Link da documentação](https://docs.python.org/3/library/glob.html)\n",
    "\n",
    "*glob*, que significa *global*, foi um programa criado há décadas para encontrar arquivos com base num padrão. A especificação desse padrão é bastante simples, e é capaz que você já tenha utilizado algo similar em sua vida. Os padrões são compostos por letras e números, e símbolos. As letras e números serão comparadas exatamente com os caminhos, e os símbolos são utilizados para generalizar um padrão. Os três símbolos são:\n",
    "\n",
    "* `*`, significa \"qualquer caracter, qualquer número de vezes. É de longe o símbolo mais frequentemente utilizado.\n",
    "* `?`, significa \"qualquer caracter, 1 vez.\n",
    "* `[abc...]` significa qualquer caracter dentro dos colchetes, 1 vez.\n",
    "* `[a-z]` significa qualquer caracter dentro da faixa de caracteres. `a-z` significa \"todos os caracteres entre 'a' e 'z' minúsculos\", `0-9` significa \"todos os caracteres numéricos.\n",
    "\n",
    "Além disso, você pode procurar por arquivos recursivamente utilizando o seguinte padrão: `**/`.\n",
    "\n",
    "Exemplos:\n",
    "\n",
    "* `*.csv` irá corresponder a todos os arquivos que terminam com '.csv'.\n",
    "* `exercício*.csv` irá corresponder a todos os arquivos que começam com 'exercício', terminam com '.csv' e possuem qualquer texto no interior. Então 'exercício1.csv' e 'exercício-treinamento-teste.csv' ambos correspondem à esse padrão.\n",
    "* `.csv` irá corresponder somente ao arquivo cujo nome é '.csv', nada mais e nada menos.\n",
    "\n",
    "Note que um arquivo pode ter duas extensões, como 'abc.tar.gz'. Se você quiser todos os arquivos 'tar', terá que utilizar `*.tar*`, mas isso poderá corresponder a, por exemplo, 'abc.tart' também.\n",
    "\n",
    "Dentro do módulo `glob`, temos três funções. `glob`, `iglob` e `escape`. `glob` retorna uma lista com os caminhos dos arquivos, `iglob` retorna um iterador, portanto não avalia tudo de uma vez, e `escape` é utilizado para escapar símbolos que o *glob* utiliza e que podem existir em nomes de arquivos. Podemos utilizar a função `glob` para encontrar todos os arquivos de exercícios do capítulo 5."
   ]
  },
  {
   "cell_type": "code",
   "execution_count": 4,
   "id": "97e0a990-faca-47b9-837b-d1e75f155cd6",
   "metadata": {},
   "outputs": [
    {
     "data": {
      "text/plain": [
       "['../Capítulo05/dados\\\\exercício1.csv', '../Capítulo05/dados\\\\exercício2.csv']"
      ]
     },
     "execution_count": 4,
     "metadata": {},
     "output_type": "execute_result"
    }
   ],
   "source": [
    "import glob\n",
    "\n",
    "exercícios = glob.glob(\"../Capítulo05/dados/*.csv\")\n",
    "exercícios"
   ]
  },
  {
   "cell_type": "markdown",
   "id": "18933fc2-76c6-4cec-8a5a-52399b115840",
   "metadata": {},
   "source": [
    "Porém, é um pouco inconveniente ficar digitando `glob.glob` o tempo todo. Existe uma maneira de importar seletivamente algumas objetos de um módulo, colocando-os no escopo global ao invés do módulo em si. Isso é feito com a seguinte sintaxe:\n",
    "\n",
    "```python\n",
    "from (pacote) import (objeto)\n",
    "```"
   ]
  },
  {
   "cell_type": "code",
   "execution_count": 5,
   "id": "8ea17135-a81d-4dab-89e5-da632d996b7d",
   "metadata": {},
   "outputs": [
    {
     "data": {
      "text/plain": [
       "['../Capítulo05/dados\\\\exercício1.csv', '../Capítulo05/dados\\\\exercício2.csv']"
      ]
     },
     "execution_count": 5,
     "metadata": {},
     "output_type": "execute_result"
    }
   ],
   "source": [
    "from glob import glob\n",
    "\n",
    "exercícios = glob(\"../Capítulo05/dados/*.csv\")\n",
    "exercícios"
   ]
  },
  {
   "cell_type": "markdown",
   "id": "19aebf79-b5aa-47c9-bdee-fddf6257a33c",
   "metadata": {},
   "source": [
    "Como um último exemplo, vamos encontrar todos os arquivos `.py` criados neste livro. Para isso, vamos utilizar o padrão `**` e o argumento opcional `recursive=True`."
   ]
  },
  {
   "cell_type": "code",
   "execution_count": 6,
   "id": "e00abb8c-7799-4630-9c7f-1ba8e31b2740",
   "metadata": {},
   "outputs": [
    {
     "data": {
      "text/plain": [
       "['..\\\\Capítulo01\\\\Soluções dos exercícios\\\\complex_mod.py',\n",
       " '..\\\\Capítulo01\\\\Soluções dos exercícios\\\\pint.py',\n",
       " '..\\\\Capítulo02\\\\Soluções de exercícios\\\\prop_sympy.py',\n",
       " '..\\\\Capítulo02\\\\Soluções de exercícios\\\\prop_uncertainties.py',\n",
       " '..\\\\Capítulo03\\\\Soluções de exercícios\\\\Gerador\\\\problema_gas_ideal.py',\n",
       " '..\\\\Capítulo03\\\\Soluções de exercícios\\\\Gerador\\\\QuestionGenerator.py',\n",
       " '..\\\\Capítulo03\\\\Soluções de exercícios\\\\Gerador\\\\test_gas_ideal.py',\n",
       " '..\\\\Capítulo04\\\\Soluções de exercícios\\\\convert_dict.py',\n",
       " '..\\\\Capítulo04\\\\Soluções de exercícios\\\\convert_pint.py',\n",
       " '..\\\\Capítulo05\\\\dados\\\\gerar_csv.py',\n",
       " '..\\\\Capítulo05\\\\Soluções de exercícios\\\\contagem_palavras.py',\n",
       " '..\\\\Capítulo05\\\\Soluções de exercícios\\\\criar_exceções.py',\n",
       " '..\\\\Capítulo05\\\\Soluções de exercícios\\\\ler_csv1.py',\n",
       " '..\\\\Capítulo05\\\\Soluções de exercícios\\\\ler_csv2.py',\n",
       " '..\\\\Capítulo05\\\\Soluções de exercícios\\\\molar_mass_calculator.py',\n",
       " '..\\\\Capítulo05\\\\Soluções de exercícios\\\\molar_mass_calculator2.py',\n",
       " '..\\\\Capítulo05\\\\Soluções de exercícios\\\\plotar.py',\n",
       " '..\\\\Capítulo06\\\\somar.py',\n",
       " '..\\\\Capítulo06\\\\dados\\\\gerar_dados.py']"
      ]
     },
     "execution_count": 6,
     "metadata": {},
     "output_type": "execute_result"
    }
   ],
   "source": [
    "todos_py = glob(\"../**/*.py\", recursive=True)\n",
    "todos_py"
   ]
  },
  {
   "cell_type": "markdown",
   "id": "01a64a40-126a-49ba-8ebb-d1eee0442334",
   "metadata": {},
   "source": [
    "(sec:pathlib)=\n",
    "### `pathlib`\n",
    "\n",
    "[Link da documentação](https://docs.python.org/3/library/pathlib.html)\n",
    "\n",
    "`pathlib` é uma biblioteca que utiliza objetos especiais para representar caminhos, ao invés de strings. Esses objetos `Path` podem ser manipulados com maior facilidade e podem ser utilizados, em muitos casos, no lugar de caminhos de strings. Senão, é possível convertê-los com `str(path)`. Por trás dos panos, `Path` utiliza `os.path`. Os paralelos entre a funcionalidade de cada um podem ser encontradas [aqui](https://docs.python.org/3/library/pathlib.html#correspondence-to-tools-in-the-os-module).\n",
    "\n",
    "Existem basicamente dois tipos de objetos que são utilizados. Primeiro temos `PurePath`, que somente representa caminhos, e `Path`, que faz tudo que `PurePath` faz, e também consegue realizar algumas operações concretas. Por isso, irei focar em `Path` somente.\n",
    "\n",
    "Primeiro, podemos criar um `Path` com o seguinte comando:"
   ]
  },
  {
   "cell_type": "code",
   "execution_count": 7,
   "id": "9adae0e2-28e1-43e0-8ff4-854119c83259",
   "metadata": {},
   "outputs": [
    {
     "data": {
      "text/plain": [
       "WindowsPath('.')"
      ]
     },
     "execution_count": 7,
     "metadata": {},
     "output_type": "execute_result"
    }
   ],
   "source": [
    "from pathlib import Path\n",
    "\n",
    "p = Path(\".\")\n",
    "p"
   ]
  },
  {
   "cell_type": "markdown",
   "id": "c0631d64-1485-43ab-befe-5e1382aad31f",
   "metadata": {},
   "source": [
    "Como estou em um ambiente Windows, um objeto `WindowsPath` é criado. Se estivesse em Linux, um `PosixPath` seria criado. Com esse objeto `p`, posso convertê-lo para um caminho absoluto com `p.absolute()`"
   ]
  },
  {
   "cell_type": "code",
   "execution_count": 8,
   "id": "6950ad47-1c10-4239-a5c1-2a794d174b61",
   "metadata": {},
   "outputs": [
    {
     "data": {
      "text/plain": [
       "WindowsPath('C:/Users/karl.clinckspoor/Downloads/CursoPython/Capítulos/Capítulo06')"
      ]
     },
     "execution_count": 8,
     "metadata": {},
     "output_type": "execute_result"
    }
   ],
   "source": [
    "p.absolute()"
   ]
  },
  {
   "cell_type": "markdown",
   "id": "16e71b18-910e-4fdc-aef2-a38972252559",
   "metadata": {},
   "source": [
    "Note que isso só coloca o *cwd* antes do caminho fornecido. Se você quiser obter um caminho direto, é necessário utilizar `.resolve()` depois de `absolute`."
   ]
  },
  {
   "cell_type": "markdown",
   "id": "13f27c63-2ab4-4491-af16-10ebd12716ef",
   "metadata": {},
   "source": [
    "E posso concatenar caminhos utilizando uma divisão, como se a barra fosse um separador de pastas"
   ]
  },
  {
   "cell_type": "code",
   "execution_count": 9,
   "id": "b32968b6-d262-44f3-8690-cc50e5946396",
   "metadata": {},
   "outputs": [
    {
     "data": {
      "text/plain": [
       "WindowsPath('C:/Users/karl.clinckspoor/Downloads/CursoPython/Capítulos/Capítulo06/teste.txt')"
      ]
     },
     "execution_count": 9,
     "metadata": {},
     "output_type": "execute_result"
    }
   ],
   "source": [
    "teste = p.absolute() / \"teste.txt\"\n",
    "teste"
   ]
  },
  {
   "cell_type": "markdown",
   "id": "040febf3-5abd-4b74-bc0f-54b1776d4e3d",
   "metadata": {},
   "source": [
    "Posso checar se este arquivo existe com `teste.exists()`"
   ]
  },
  {
   "cell_type": "code",
   "execution_count": 10,
   "id": "28bcb110-2d05-4eed-a2fc-33fe5cef7db4",
   "metadata": {},
   "outputs": [
    {
     "data": {
      "text/plain": [
       "False"
      ]
     },
     "execution_count": 10,
     "metadata": {},
     "output_type": "execute_result"
    }
   ],
   "source": [
    "teste.exists()"
   ]
  },
  {
   "cell_type": "markdown",
   "id": "3b0b1ab4-a431-4cad-806b-2fed14e4cf8b",
   "metadata": {},
   "source": [
    "E como não existe, posso escrever algum texto nele com `write_text`, não necessitando que `open` seja utilizado. Se quiséssemos somente criar o arquivo, poderíamos utilizar `.touch()`."
   ]
  },
  {
   "cell_type": "code",
   "execution_count": 11,
   "id": "82b55463-ba68-4bbb-921e-059a6da6d457",
   "metadata": {},
   "outputs": [
    {
     "data": {
      "text/plain": [
       "15"
      ]
     },
     "execution_count": 11,
     "metadata": {},
     "output_type": "execute_result"
    }
   ],
   "source": [
    "teste.write_text(\"este é um teste\", encoding=\"utf8\")"
   ]
  },
  {
   "cell_type": "markdown",
   "id": "fd1a19c2-840f-407f-95c6-c07c53d58687",
   "metadata": {},
   "source": [
    "Depois disso podemos confirmar que o arquivo foi criado"
   ]
  },
  {
   "cell_type": "code",
   "execution_count": 12,
   "id": "0798093c-a96b-4cdc-9da6-baef477db773",
   "metadata": {},
   "outputs": [
    {
     "data": {
      "text/plain": [
       "True"
      ]
     },
     "execution_count": 12,
     "metadata": {},
     "output_type": "execute_result"
    }
   ],
   "source": [
    "teste.exists()"
   ]
  },
  {
   "cell_type": "markdown",
   "id": "5df38ef6-d720-4eb4-8f46-7228ccef03f6",
   "metadata": {},
   "source": [
    "E que seu conteúdo é o mesmo que escrevemos"
   ]
  },
  {
   "cell_type": "code",
   "execution_count": 13,
   "id": "b40823b8-13fe-4038-9bcd-538e5c6f2e0e",
   "metadata": {},
   "outputs": [
    {
     "data": {
      "text/plain": [
       "'este é um teste'"
      ]
     },
     "execution_count": 13,
     "metadata": {},
     "output_type": "execute_result"
    }
   ],
   "source": [
    "teste.read_text(encoding=\"utf8\")"
   ]
  },
  {
   "cell_type": "markdown",
   "id": "da4e6e7e-6d09-4bab-9d50-7b40014ee540",
   "metadata": {},
   "source": [
    "E por fim, para limpar a pasta, podemos deletá-lo"
   ]
  },
  {
   "cell_type": "code",
   "execution_count": 14,
   "id": "b350887e-d75e-4737-8e51-89636513ed53",
   "metadata": {},
   "outputs": [],
   "source": [
    "teste.unlink()"
   ]
  },
  {
   "cell_type": "markdown",
   "id": "78462c1b-69a4-4e88-a5fe-2b11b678829f",
   "metadata": {},
   "source": [
    "E verificar novamente que ele não existe mais"
   ]
  },
  {
   "cell_type": "code",
   "execution_count": 15,
   "id": "40542650-787c-4578-af89-46bef6c30e02",
   "metadata": {},
   "outputs": [
    {
     "data": {
      "text/plain": [
       "False"
      ]
     },
     "execution_count": 15,
     "metadata": {},
     "output_type": "execute_result"
    }
   ],
   "source": [
    "teste.exists()"
   ]
  },
  {
   "cell_type": "markdown",
   "id": "8fdf90c1-9a70-4471-a36d-e3f9e3f616af",
   "metadata": {},
   "source": [
    "Se quisermos encontrar partes do caminho de um arquivo, temos os seguintes comandos.\n",
    "\n",
    "`.stem` é uma propriedade que contém o nome do arquivo, sem extensão."
   ]
  },
  {
   "cell_type": "code",
   "execution_count": 16,
   "id": "7e48eba1-d367-435f-b666-4c30e16bc78f",
   "metadata": {},
   "outputs": [
    {
     "data": {
      "text/plain": [
       "'teste'"
      ]
     },
     "execution_count": 16,
     "metadata": {},
     "output_type": "execute_result"
    }
   ],
   "source": [
    "teste.stem"
   ]
  },
  {
   "cell_type": "markdown",
   "id": "804823d6-dcad-4d78-a7ef-f5d9bb73e4e7",
   "metadata": {},
   "source": [
    "`.name` é uma propriedade que contém o nome do arquivo e sua extensão."
   ]
  },
  {
   "cell_type": "code",
   "execution_count": 17,
   "id": "a24c0c08-359c-4c9c-abf2-aef18a396593",
   "metadata": {},
   "outputs": [
    {
     "data": {
      "text/plain": [
       "'teste.txt'"
      ]
     },
     "execution_count": 17,
     "metadata": {},
     "output_type": "execute_result"
    }
   ],
   "source": [
    "teste.name"
   ]
  },
  {
   "cell_type": "markdown",
   "id": "9b548e47-0216-4d8b-aaa2-720040b71e64",
   "metadata": {},
   "source": [
    "`.suffix` é a última extensão do arquivo"
   ]
  },
  {
   "cell_type": "code",
   "execution_count": 18,
   "id": "4b485683-d79f-4358-9690-ac7bddc7ec1a",
   "metadata": {},
   "outputs": [
    {
     "data": {
      "text/plain": [
       "'.txt'"
      ]
     },
     "execution_count": 18,
     "metadata": {},
     "output_type": "execute_result"
    }
   ],
   "source": [
    "teste.suffix"
   ]
  },
  {
   "cell_type": "markdown",
   "id": "68a57c54-dfe9-44ae-b9be-0180a423df4d",
   "metadata": {},
   "source": [
    "`.suffixes` é a lista de extensões do arquivo, então `.tar.gz` retornaria `['.tar', '.gz']`."
   ]
  },
  {
   "cell_type": "code",
   "execution_count": 19,
   "id": "ca42dd98-dfe5-4ad4-8d4a-6aa8ce06e61a",
   "metadata": {},
   "outputs": [
    {
     "data": {
      "text/plain": [
       "['.tar', '.gz']"
      ]
     },
     "execution_count": 19,
     "metadata": {},
     "output_type": "execute_result"
    }
   ],
   "source": [
    "(p / \"arquivo.tar.gz\").suffixes"
   ]
  },
  {
   "cell_type": "code",
   "execution_count": 20,
   "id": "903de268-1383-43c1-9e71-7bc9df2ab450",
   "metadata": {},
   "outputs": [
    {
     "data": {
      "text/plain": [
       "['.txt']"
      ]
     },
     "execution_count": 20,
     "metadata": {},
     "output_type": "execute_result"
    }
   ],
   "source": [
    "teste.suffixes"
   ]
  },
  {
   "cell_type": "markdown",
   "id": "14bed7d3-a0a5-4abb-95c4-45a7e4f9621b",
   "metadata": {},
   "source": [
    "Podemos obter a pasta onde um arquivo está com `.parent`"
   ]
  },
  {
   "cell_type": "code",
   "execution_count": 21,
   "id": "b2b71260-7e38-4087-a0a0-7b1a11652ba8",
   "metadata": {},
   "outputs": [
    {
     "data": {
      "text/plain": [
       "WindowsPath('C:/Users/karl.clinckspoor/Downloads/CursoPython/Capítulos/Capítulo06')"
      ]
     },
     "execution_count": 21,
     "metadata": {},
     "output_type": "execute_result"
    }
   ],
   "source": [
    "teste.parent"
   ]
  },
  {
   "cell_type": "markdown",
   "id": "72a532c9-07b7-45e9-86d1-12e69cae2454",
   "metadata": {},
   "source": [
    "Ou podemos utilizar `.parents`, que retorna um gerador que gradativamente gera os diretórios pai de cada parte."
   ]
  },
  {
   "cell_type": "code",
   "execution_count": 22,
   "id": "844ee70d-6fef-4b10-9b9d-1e2dfc6d18a5",
   "metadata": {},
   "outputs": [
    {
     "data": {
      "text/plain": [
       "[WindowsPath('C:/Users/karl.clinckspoor/Downloads/CursoPython/Capítulos/Capítulo06'),\n",
       " WindowsPath('C:/Users/karl.clinckspoor/Downloads/CursoPython/Capítulos'),\n",
       " WindowsPath('C:/Users/karl.clinckspoor/Downloads/CursoPython'),\n",
       " WindowsPath('C:/Users/karl.clinckspoor/Downloads'),\n",
       " WindowsPath('C:/Users/karl.clinckspoor'),\n",
       " WindowsPath('C:/Users'),\n",
       " WindowsPath('C:/')]"
      ]
     },
     "execution_count": 22,
     "metadata": {},
     "output_type": "execute_result"
    }
   ],
   "source": [
    "list(teste.parents)"
   ]
  },
  {
   "cell_type": "markdown",
   "id": "5eabe8a8-548c-440b-ae34-611226c445be",
   "metadata": {},
   "source": [
    "E por fim, podemos obter todas as partes de um caminho com `.parts`"
   ]
  },
  {
   "cell_type": "code",
   "execution_count": 23,
   "id": "b81f2f67-b249-4f69-bd8f-3a22f91d90ac",
   "metadata": {},
   "outputs": [
    {
     "data": {
      "text/plain": [
       "('C:\\\\',\n",
       " 'Users',\n",
       " 'karl.clinckspoor',\n",
       " 'Downloads',\n",
       " 'CursoPython',\n",
       " 'Capítulos',\n",
       " 'Capítulo06',\n",
       " 'teste.txt')"
      ]
     },
     "execution_count": 23,
     "metadata": {},
     "output_type": "execute_result"
    }
   ],
   "source": [
    "teste.parts"
   ]
  },
  {
   "cell_type": "markdown",
   "id": "1bb0dcb6-c34f-4ec8-a364-3c4614328c04",
   "metadata": {},
   "source": [
    "Podemos também criar e manipular pastas. Para criar, utilize `mkdir`."
   ]
  },
  {
   "cell_type": "code",
   "execution_count": 24,
   "id": "7a1a9f16-258b-4b58-87e0-4a31788323db",
   "metadata": {},
   "outputs": [
    {
     "data": {
      "text/plain": [
       "False"
      ]
     },
     "execution_count": 24,
     "metadata": {},
     "output_type": "execute_result"
    }
   ],
   "source": [
    "pasta = p / \"teste\"\n",
    "pasta.exists()"
   ]
  },
  {
   "cell_type": "code",
   "execution_count": 25,
   "id": "0f840d7b-a58d-4fba-bd40-03e79b83dd59",
   "metadata": {},
   "outputs": [
    {
     "data": {
      "text/plain": [
       "True"
      ]
     },
     "execution_count": 25,
     "metadata": {},
     "output_type": "execute_result"
    }
   ],
   "source": [
    "pasta.mkdir()\n",
    "pasta.exists()"
   ]
  },
  {
   "cell_type": "markdown",
   "id": "adf532e9-de1e-40c2-bbae-4d7322447728",
   "metadata": {},
   "source": [
    "Podemos renomeá-la com `.rename()`. Essa função também funciona com arquivos. Como estamos mudando o caminho, podemos capturar a resposta de `.rename` para atualizar o caminho com o nome mais novo."
   ]
  },
  {
   "cell_type": "code",
   "execution_count": 26,
   "id": "aad70baf-cb2a-4804-9cc1-d903d7950ece",
   "metadata": {},
   "outputs": [],
   "source": [
    "pasta = pasta.rename(\"teste_renomeado\")"
   ]
  },
  {
   "cell_type": "code",
   "execution_count": 27,
   "id": "0024805f-45b5-4b12-96d4-979fe3a3f7f9",
   "metadata": {},
   "outputs": [
    {
     "data": {
      "text/plain": [
       "WindowsPath('teste_renomeado')"
      ]
     },
     "execution_count": 27,
     "metadata": {},
     "output_type": "execute_result"
    }
   ],
   "source": [
    "pasta"
   ]
  },
  {
   "cell_type": "markdown",
   "id": "95aa262a-1e35-4cb3-9832-8c7d4d4d0f98",
   "metadata": {},
   "source": [
    "E podemos deletar a pasta com `rmdir`"
   ]
  },
  {
   "cell_type": "code",
   "execution_count": 28,
   "id": "574379ea-5025-462d-b48a-428f29ff4e1c",
   "metadata": {},
   "outputs": [
    {
     "data": {
      "text/plain": [
       "False"
      ]
     },
     "execution_count": 28,
     "metadata": {},
     "output_type": "execute_result"
    }
   ],
   "source": [
    "pasta.rmdir()\n",
    "pasta.exists()"
   ]
  },
  {
   "cell_type": "markdown",
   "id": "38341607-b35c-432f-b0d1-99c706ab082f",
   "metadata": {},
   "source": [
    "Por fim, podemos manipular partes de um caminho com as funções que começam com `with`. Por exemplo:"
   ]
  },
  {
   "cell_type": "code",
   "execution_count": 29,
   "id": "c2a61ddf-da83-40c6-b6cb-aef68ff46e11",
   "metadata": {},
   "outputs": [
    {
     "data": {
      "text/plain": [
       "WindowsPath('C:/Users/karl.clinckspoor/Downloads/CursoPython/Capítulos/Capítulo06/novo_nome.txt')"
      ]
     },
     "execution_count": 29,
     "metadata": {},
     "output_type": "execute_result"
    }
   ],
   "source": [
    "teste.with_name(\"novo_nome.txt\")"
   ]
  },
  {
   "cell_type": "code",
   "execution_count": 30,
   "id": "79103636-47cd-49c2-ac13-a0c722b106c6",
   "metadata": {},
   "outputs": [
    {
     "data": {
      "text/plain": [
       "WindowsPath('C:/Users/karl.clinckspoor/Downloads/CursoPython/Capítulos/Capítulo06/novo_nome.txt')"
      ]
     },
     "execution_count": 30,
     "metadata": {},
     "output_type": "execute_result"
    }
   ],
   "source": [
    "teste.with_stem(\"novo_nome\")"
   ]
  },
  {
   "cell_type": "code",
   "execution_count": 31,
   "id": "8d353627-1067-4637-aeab-5d72457a4c1f",
   "metadata": {},
   "outputs": [
    {
     "data": {
      "text/plain": [
       "WindowsPath('C:/Users/karl.clinckspoor/Downloads/CursoPython/Capítulos/Capítulo06/teste.csv')"
      ]
     },
     "execution_count": 31,
     "metadata": {},
     "output_type": "execute_result"
    }
   ],
   "source": [
    "teste.with_suffix(\".csv\")"
   ]
  },
  {
   "cell_type": "markdown",
   "id": "ac8e75b7-2ee7-4b56-94a1-52739e4e1619",
   "metadata": {},
   "source": [
    "Por último, `Path` também possui a habilidade de fazer `glob`. A diferença é que um gerador é criado, não uma lista, então o comportamento é mais próximo a `glob.iglob`. Além disso, `glob.glob` por padrão não considera pastas escondidas, precedidas por um `.`, como `.ipynb_checkpoints`, mas `Path.glob` não só considera, mas não possui a opção para ignorá-las. Podemos verificar a equivalência dos dois comandos com esta linha de código."
   ]
  },
  {
   "cell_type": "code",
   "execution_count": 32,
   "id": "483964ef-afb7-479d-bc85-0a5024e0dd13",
   "metadata": {},
   "outputs": [
    {
     "data": {
      "text/plain": [
       "True"
      ]
     },
     "execution_count": 32,
     "metadata": {},
     "output_type": "execute_result"
    }
   ],
   "source": [
    "(\n",
    "    sorted(glob(\"../**/*.py\", recursive=True, include_hidden=True))\n",
    "    == sorted([str(i) for i in Path(\"..\").glob(\"**/*.py\")])\n",
    ")"
   ]
  },
  {
   "cell_type": "markdown",
   "id": "c0d8eab4-8b29-4c3a-8e70-b36017b53852",
   "metadata": {},
   "source": [
    "(sec:shutil)=\n",
    "### `shutil`\n",
    "\n",
    "Talvez um pouco confuso, `shutil` contém algumas funcionalidades extras, além daquelas presentes em `os.path` e em `pathlib`. Por exemplo, possui comandos para copiar arquivos ou árvores inteiras, zipar e dezipar arquivos, e outras funcionalidades.\n",
    "\n",
    "Para copiar arquivos, você pode utilizar `shutil.copy` ou `shutil.copy2`, com a diferença que a segunda função tenta copiar os metadados do arquivo. Para copiar uma árvore de arquivos e pastas, `shutil.copytree` pode ser utilizado, e `shutil.rmtree` pode ser utilizado para remover uma árvore de arquivos. Aqui, entenda \"árvore de arquivos\" como arquivos e pastas aninhadas com qualquer complexidade. `shutil.move` tenta mover um arquivo ou pasta para outro lugar.\n",
    "\n",
    "Além disso, `shutil.which` retorna o caminho de um comando se fosse executado no terminal. Por exemplo:"
   ]
  },
  {
   "cell_type": "code",
   "execution_count": 33,
   "id": "5a4cdd00-af24-4435-9685-122cab6ffc9c",
   "metadata": {},
   "outputs": [
    {
     "data": {
      "text/plain": [
       "'C:\\\\Users\\\\karl.clinckspoor\\\\AppData\\\\Local\\\\miniconda3\\\\envs\\\\cursoPython\\\\python.exe'"
      ]
     },
     "execution_count": 33,
     "metadata": {},
     "output_type": "execute_result"
    }
   ],
   "source": [
    "import shutil\n",
    "\n",
    "shutil.which(\"python.exe\")"
   ]
  },
  {
   "cell_type": "markdown",
   "id": "86ada415-dcba-4f23-9149-6808d9638883",
   "metadata": {},
   "source": [
    "Neste caso, o caminho específico do ambiente virtual deste curso foi retornado. Se você rodar isso, outro caminho será retornado.\n",
    "\n",
    "Para zipar um arquivo ou uma série de arquivos, podemos utilizar `shutil.make_archive`. Vamos criar alguns arquivos de texto, zipá-los, e depois remover tudo."
   ]
  },
  {
   "cell_type": "code",
   "execution_count": 34,
   "id": "bfa77aea-1ae9-4453-9682-b99b610609e9",
   "metadata": {},
   "outputs": [],
   "source": [
    "pasta_destino = Path(\".\") / \"teste_zip\"\n",
    "pasta_destino.mkdir(exist_ok=True)\n",
    "for i in range(10):\n",
    "    (pasta_destino / f\"arquivo{i:02d}.txt\").touch(exist_ok=True)"
   ]
  },
  {
   "cell_type": "markdown",
   "id": "3727d5ac-7a8f-4283-b952-2c826f9d9798",
   "metadata": {},
   "source": [
    "Podemos verificar os arquivos existentes com"
   ]
  },
  {
   "cell_type": "code",
   "execution_count": 35,
   "id": "d997c1fb-1537-40ab-b593-9a809a3e5837",
   "metadata": {},
   "outputs": [
    {
     "data": {
      "text/plain": [
       "[WindowsPath('teste_zip/arquivo00.txt'),\n",
       " WindowsPath('teste_zip/arquivo01.txt'),\n",
       " WindowsPath('teste_zip/arquivo02.txt'),\n",
       " WindowsPath('teste_zip/arquivo03.txt'),\n",
       " WindowsPath('teste_zip/arquivo04.txt'),\n",
       " WindowsPath('teste_zip/arquivo05.txt'),\n",
       " WindowsPath('teste_zip/arquivo06.txt'),\n",
       " WindowsPath('teste_zip/arquivo07.txt'),\n",
       " WindowsPath('teste_zip/arquivo08.txt'),\n",
       " WindowsPath('teste_zip/arquivo09.txt')]"
      ]
     },
     "execution_count": 35,
     "metadata": {},
     "output_type": "execute_result"
    }
   ],
   "source": [
    "list(pasta_destino.glob(\"*\"))"
   ]
  },
  {
   "cell_type": "code",
   "execution_count": 36,
   "id": "00d6245b-d60f-4a79-98d4-4d3a83db3be3",
   "metadata": {},
   "outputs": [],
   "source": [
    "caminho_zipado = shutil.make_archive(\"zipado\", \"zip\", root_dir=\"teste_zip\")"
   ]
  },
  {
   "cell_type": "markdown",
   "id": "731fa148-9e2a-483b-b18d-56099cbc8db2",
   "metadata": {},
   "source": [
    "Agora você pode abrir o arquivo diretamente em seu explorer e verificar que todos os arquivos de texto que criamos foram parar no arquivo zipado. Podemos também utilizar o pacote `zipfile` para fazer isso."
   ]
  },
  {
   "cell_type": "code",
   "execution_count": 37,
   "id": "24dcf83c-6337-45c0-8f96-2e408b9027a2",
   "metadata": {},
   "outputs": [
    {
     "name": "stdout",
     "output_type": "stream",
     "text": [
      "<ZipInfo filename='arquivo00.txt' compress_type=deflate filemode='-rw-rw-rw-' file_size=0 compress_size=2>\n",
      "<ZipInfo filename='arquivo01.txt' compress_type=deflate filemode='-rw-rw-rw-' file_size=0 compress_size=2>\n",
      "<ZipInfo filename='arquivo02.txt' compress_type=deflate filemode='-rw-rw-rw-' file_size=0 compress_size=2>\n",
      "<ZipInfo filename='arquivo03.txt' compress_type=deflate filemode='-rw-rw-rw-' file_size=0 compress_size=2>\n",
      "<ZipInfo filename='arquivo04.txt' compress_type=deflate filemode='-rw-rw-rw-' file_size=0 compress_size=2>\n",
      "<ZipInfo filename='arquivo05.txt' compress_type=deflate filemode='-rw-rw-rw-' file_size=0 compress_size=2>\n",
      "<ZipInfo filename='arquivo06.txt' compress_type=deflate filemode='-rw-rw-rw-' file_size=0 compress_size=2>\n",
      "<ZipInfo filename='arquivo07.txt' compress_type=deflate filemode='-rw-rw-rw-' file_size=0 compress_size=2>\n",
      "<ZipInfo filename='arquivo08.txt' compress_type=deflate filemode='-rw-rw-rw-' file_size=0 compress_size=2>\n",
      "<ZipInfo filename='arquivo09.txt' compress_type=deflate filemode='-rw-rw-rw-' file_size=0 compress_size=2>\n"
     ]
    }
   ],
   "source": [
    "import zipfile\n",
    "\n",
    "arquivo_zipado = zipfile.ZipFile(caminho_zipado)\n",
    "print(*arquivo_zipado.filelist, sep=\"\\n\")\n",
    "arquivo_zipado.close()"
   ]
  },
  {
   "cell_type": "markdown",
   "id": "b434cb9d-72a3-4e44-acf2-12b1f9283c17",
   "metadata": {},
   "source": [
    "Vamos agora descompactar os arquivos com `shutil.unpack_archive`"
   ]
  },
  {
   "cell_type": "code",
   "execution_count": 38,
   "id": "c6783658-de73-4499-a418-6d306380e947",
   "metadata": {},
   "outputs": [],
   "source": [
    "caminho_deszipado = Path(\".\") / \"deszipando\"\n",
    "caminho_deszipado.mkdir(exist_ok=True)\n",
    "shutil.unpack_archive(caminho_zipado, extract_dir=caminho_deszipado)"
   ]
  },
  {
   "cell_type": "markdown",
   "id": "62b9ca5e-9bb9-4826-b75c-d58dd1b6a6c4",
   "metadata": {},
   "source": [
    "E podemos ver o conteúdo dessa pasta com"
   ]
  },
  {
   "cell_type": "code",
   "execution_count": 39,
   "id": "7dd42e5b-98df-46c3-91d8-51208f4d4d4d",
   "metadata": {},
   "outputs": [
    {
     "data": {
      "text/plain": [
       "[WindowsPath('deszipando/arquivo00.txt'),\n",
       " WindowsPath('deszipando/arquivo01.txt'),\n",
       " WindowsPath('deszipando/arquivo02.txt'),\n",
       " WindowsPath('deszipando/arquivo03.txt'),\n",
       " WindowsPath('deszipando/arquivo04.txt'),\n",
       " WindowsPath('deszipando/arquivo05.txt'),\n",
       " WindowsPath('deszipando/arquivo06.txt'),\n",
       " WindowsPath('deszipando/arquivo07.txt'),\n",
       " WindowsPath('deszipando/arquivo08.txt'),\n",
       " WindowsPath('deszipando/arquivo09.txt')]"
      ]
     },
     "execution_count": 39,
     "metadata": {},
     "output_type": "execute_result"
    }
   ],
   "source": [
    "list(caminho_deszipado.glob(\"*\"))"
   ]
  },
  {
   "cell_type": "markdown",
   "id": "dc337683-ed91-4c87-9c39-d4171825c8a3",
   "metadata": {},
   "source": [
    "E agora, por fim, vamos remover tudo que criamos com `rmtree`"
   ]
  },
  {
   "cell_type": "code",
   "execution_count": 40,
   "id": "8c1e7db9-d2d0-4802-9334-ad3e46622177",
   "metadata": {},
   "outputs": [],
   "source": [
    "shutil.rmtree(caminho_deszipado)\n",
    "Path(caminho_zipado).unlink()\n",
    "shutil.rmtree(pasta_destino)"
   ]
  },
  {
   "cell_type": "markdown",
   "id": "4fda30e9-bb84-4565-97b1-dafb95351257",
   "metadata": {},
   "source": [
    "(sec:sys)=\n",
    "### `sys`\n",
    "\n",
    "[Link da documentação oficial](https://docs.python.org/3/library/sys.html)\n",
    "\n",
    "O pacote `sys` possui informações sobre o interpretador Python e variáveis associadas a ele. Por exemplo, a variável `executable`"
   ]
  },
  {
   "cell_type": "code",
   "execution_count": 41,
   "id": "b1b8f8c9-6a69-460d-9619-32784bb3f25e",
   "metadata": {},
   "outputs": [
    {
     "data": {
      "text/plain": [
       "'C:\\\\Users\\\\karl.clinckspoor\\\\AppData\\\\Local\\\\miniconda3\\\\envs\\\\CursoPython\\\\python.exe'"
      ]
     },
     "execution_count": 41,
     "metadata": {},
     "output_type": "execute_result"
    }
   ],
   "source": [
    "import sys\n",
    "\n",
    "sys.executable"
   ]
  },
  {
   "cell_type": "markdown",
   "id": "3a1904bb-9de6-47f6-8cd3-5c7593384ccb",
   "metadata": {},
   "source": [
    "Possui o caminho até o interpretador Python ativo. Algumas vezes quando tive problemas na instalação de pacotes, essa variável é muito útil para saber se você realmente está no ambiente apropriado.\n",
    "\n",
    "Além disso, temos acesso a uma variável conhecida como `path`. Essa variável existe em outros contextos também, e é possível que você tenha visto uma referência a ela durante a instalação do Python. Nesse caso, se refere à variável de sistema `path`.\n",
    "\n",
    "Em ambos os casos, essa variável controla a ordem e o local onde as coisas são procuradas. No caso do Python, é onde pacotes para importação são procurados, seguindo a ordem de início para o fim da lista. No caso da variável de sistema, é onde arquivos e executáveis mencionados no terminal são procurados. Se você não possui `python.exe` acessível por alguma pasta na lista `path` do Windows, e digitar `python.exe`, um erro de \"comando não encontrado\" ou similar será lançado."
   ]
  },
  {
   "cell_type": "code",
   "execution_count": 42,
   "id": "8d222637-f84f-490c-9f60-7742231c4c76",
   "metadata": {},
   "outputs": [
    {
     "data": {
      "text/plain": [
       "['C:\\\\Users\\\\karl.clinckspoor\\\\Downloads\\\\CursoPython\\\\Capítulos\\\\Capítulo06',\n",
       " 'C:\\\\Users\\\\karl.clinckspoor\\\\AppData\\\\Local\\\\miniconda3\\\\envs\\\\CursoPython\\\\python311.zip',\n",
       " 'C:\\\\Users\\\\karl.clinckspoor\\\\AppData\\\\Local\\\\miniconda3\\\\envs\\\\CursoPython\\\\DLLs',\n",
       " 'C:\\\\Users\\\\karl.clinckspoor\\\\AppData\\\\Local\\\\miniconda3\\\\envs\\\\CursoPython\\\\Lib',\n",
       " 'C:\\\\Users\\\\karl.clinckspoor\\\\AppData\\\\Local\\\\miniconda3\\\\envs\\\\CursoPython',\n",
       " '',\n",
       " 'C:\\\\Users\\\\karl.clinckspoor\\\\AppData\\\\Local\\\\miniconda3\\\\envs\\\\CursoPython\\\\Lib\\\\site-packages',\n",
       " 'C:\\\\Users\\\\karl.clinckspoor\\\\AppData\\\\Local\\\\miniconda3\\\\envs\\\\CursoPython\\\\Lib\\\\site-packages\\\\win32',\n",
       " 'C:\\\\Users\\\\karl.clinckspoor\\\\AppData\\\\Local\\\\miniconda3\\\\envs\\\\CursoPython\\\\Lib\\\\site-packages\\\\win32\\\\lib',\n",
       " 'C:\\\\Users\\\\karl.clinckspoor\\\\AppData\\\\Local\\\\miniconda3\\\\envs\\\\CursoPython\\\\Lib\\\\site-packages\\\\Pythonwin']"
      ]
     },
     "execution_count": 42,
     "metadata": {},
     "output_type": "execute_result"
    }
   ],
   "source": [
    "sys.path"
   ]
  },
  {
   "cell_type": "markdown",
   "id": "a63e51a4-0a6d-4e28-b21c-bfd82a1704b3",
   "metadata": {},
   "source": [
    "No meu caso, os caminhos em `sys.path` se referem à pasta onde este jupyter notebook está localizado e os caminhos para encontrar bibliotecas.\n",
    "\n",
    "Suponha que você queira importar uma resposta de um capítulo anterior, por exemplo, `molar_mass_calculator`. Se você utilizar `import molar_mass_calculator`, um erro `ModuleNotFoundError` será lançado. Porém, se você adicionar o caminho até a pasta onde esse arquivo se encontra, você conseguirá importá-lo. Veja o exemplo:"
   ]
  },
  {
   "cell_type": "code",
   "execution_count": 43,
   "id": "e905e790-06fa-4192-9afd-2fb52ed47876",
   "metadata": {},
   "outputs": [
    {
     "data": {
      "text/plain": [
       "WindowsPath('C:/Users/karl.clinckspoor/Downloads/CursoPython/Capítulos/Capítulo05/Soluções de exercícios')"
      ]
     },
     "execution_count": 43,
     "metadata": {},
     "output_type": "execute_result"
    }
   ],
   "source": [
    "path = Path(\"../Capítulo05/Soluções de exercícios/\").absolute().resolve()\n",
    "path"
   ]
  },
  {
   "cell_type": "code",
   "execution_count": 44,
   "id": "3ab5d59a-a06c-4676-9e8d-b72dc1f435ab",
   "metadata": {},
   "outputs": [
    {
     "name": "stdout",
     "output_type": "stream",
     "text": [
      "['C:\\\\Users\\\\karl.clinckspoor\\\\Downloads\\\\CursoPython\\\\Capítulos\\\\Capítulo05\\\\Soluções de exercícios', 'C:\\\\Users\\\\karl.clinckspoor\\\\Downloads\\\\CursoPython\\\\Capítulos\\\\Capítulo06', 'C:\\\\Users\\\\karl.clinckspoor\\\\AppData\\\\Local\\\\miniconda3\\\\envs\\\\CursoPython\\\\python311.zip', 'C:\\\\Users\\\\karl.clinckspoor\\\\AppData\\\\Local\\\\miniconda3\\\\envs\\\\CursoPython\\\\DLLs', 'C:\\\\Users\\\\karl.clinckspoor\\\\AppData\\\\Local\\\\miniconda3\\\\envs\\\\CursoPython\\\\Lib', 'C:\\\\Users\\\\karl.clinckspoor\\\\AppData\\\\Local\\\\miniconda3\\\\envs\\\\CursoPython', '', 'C:\\\\Users\\\\karl.clinckspoor\\\\AppData\\\\Local\\\\miniconda3\\\\envs\\\\CursoPython\\\\Lib\\\\site-packages', 'C:\\\\Users\\\\karl.clinckspoor\\\\AppData\\\\Local\\\\miniconda3\\\\envs\\\\CursoPython\\\\Lib\\\\site-packages\\\\win32', 'C:\\\\Users\\\\karl.clinckspoor\\\\AppData\\\\Local\\\\miniconda3\\\\envs\\\\CursoPython\\\\Lib\\\\site-packages\\\\win32\\\\lib', 'C:\\\\Users\\\\karl.clinckspoor\\\\AppData\\\\Local\\\\miniconda3\\\\envs\\\\CursoPython\\\\Lib\\\\site-packages\\\\Pythonwin']\n"
     ]
    }
   ],
   "source": [
    "sys.path.insert(0, str(path))\n",
    "print(sys.path)"
   ]
  },
  {
   "cell_type": "code",
   "execution_count": 45,
   "id": "81e6644f-400d-440c-89c7-d191c5ff7228",
   "metadata": {},
   "outputs": [
    {
     "data": {
      "text/plain": [
       "159.68699999999998"
      ]
     },
     "execution_count": 45,
     "metadata": {},
     "output_type": "execute_result"
    }
   ],
   "source": [
    "import molar_mass_calculator\n",
    "\n",
    "molar_mass_calculator.molar_mass_calculator(\n",
    "    \"Fe2O3\", molar_mass_calculator.massas_atômicas\n",
    ")"
   ]
  },
  {
   "cell_type": "markdown",
   "id": "667216c5-c4c0-4e25-8156-c06836a6caa4",
   "metadata": {},
   "source": [
    "Note que eu tive que converter `Path` em uma `str` para poder adicionar a `sys.path`. Caso contrário, a entrada é ignorada.\n",
    "\n",
    "Esta solução para o problema de importação deve ser considerada como um band-aid, não é algo definitivo. A solução definitiva é criar um pacote e instalá-lo, o que veremos [no futuro](cap:empacotamento)."
   ]
  },
  {
   "cell_type": "markdown",
   "id": "0fa93aed-4c13-471d-84dc-7488c2ce5705",
   "metadata": {},
   "source": [
    "Se você tentar importar alguns dos outros arquivos dessa pasta, como `ler_csv1`, você irá se deparar com um erro. Qual é esse erro e como você o consertaria? A resposta para isso está no início deste capítulo."
   ]
  },
  {
   "cell_type": "markdown",
   "id": "13bea159-f273-4038-ad26-3763c0ebafe3",
   "metadata": {},
   "source": [
    "Além disso, se você quiser criar programas que aceitam argumentos pela linha de comando, você poderá utilizar `sys.argv` para acessá-los. O primeiro item dessa lista é o nome ou caminho do interpretador e os itens restantes são os argumentos fornecidos.\n",
    "\n",
    "O que quero dizer com isso é o seguinte. Suponha que você escreva uma função que realiza uma tarefa. Por simplicidade, soma dois números. Ao invés de ter que iniciar um REPL ou criar um script novo, você pode escrever um script, e executá-lo diretamente do python, colocando os argumentos depois do nome do arquivo.\n",
    "\n",
    "Eu fiz um script chamado `somar.py` que aceita dois números somente, e é rodado com `python somar.py 1 2`, que neste caso retorna `3.0`. O conteúdo do script é este:\n",
    "\n",
    "```python\n",
    "import sys\n",
    "\n",
    "def somar(a, b):\n",
    "    return a + b\n",
    "\n",
    "if __name__ == '__main__':\n",
    "    if len(sys.argv) != 3:\n",
    "        print('Uso: python somar.py (valor1) (valor2)')\n",
    "        sys.exit(1)\n",
    "    print(somar(float(sys.argv[1]), float(sys.argv[2])))\n",
    "```\n",
    "\n",
    "Primeiro importei os pacotes que serão utilizados, neste caso, somente `sys`, depois defini a função e depois utilizei aquele artifício para impedir que um bloco de código seja executado se o arquivo não for chamado diretamente. Primeiro, eu checo o comprimento de `sys.argv`. Esse comprimento tem que ser 3, porque o primeiro argumento é o nome do arquivo (`somar.py` neste caso), o segundo argumento deve ser um número e o terceiro argumento é o outro número. Mais ou menos argumentos que isso não são suportados pelo script. Caso o número errado seja fornecido, eu descrevo brevemente como o script deve ser utilizado e depois saio do programa com `sys.exit`, que é como se fosse um `return`, mas para scripts. Ele aceita um número inteiro, que indica se ocorreu um problema. `0` significa sucesso, e aqui escolhi `1` para indicar o erro. Agora, caso a lista de argumentos é do comprimento apropriado, eu escrevo a soma deles.\n",
    "\n",
    "Você deve imaginar que ter listas maiores de argumentos, com ordenação arbitrária, deve tornar a lógica de processamento de `sys.argv` bastante complexa. Existem bibliotecas para simplificar isso. A embutida, `argparse`, é um pouco engessada mas bastante capaz. Eu particularmente gosto da biblioteca `click`, que acho bastante simples de usar, muito mais que `argparse`, mas ela não é embutida. Logo, não utilize `sys.argv` para qualquer coisa mais complexa, poupe-se do trabalho."
   ]
  },
  {
   "cell_type": "markdown",
   "id": "3b3feced-785a-40e1-9531-fea4ef4b8818",
   "metadata": {},
   "source": [
    "A função `sys.getsizeof` nos permite encontrar o tamanho de um objeto em bytes. Isso é mais útil no nosso caso como algo ilustrativo. Essa função *não* retorna o tamanho de objetos referenciados por outros objetos, então uma lista aninhada não irá retornar o tamanho de todas as sublistas internas.\n",
    "\n",
    "Você se lembra que eu mencionei que `range` é uma maneira mais eficiente de armazenar uma sequência de números que uma lista, no [capítulo 5](sec:range)? Vamos testar isso."
   ]
  },
  {
   "cell_type": "code",
   "execution_count": 46,
   "id": "0b5071b2-651f-4455-a503-85bc321dbd44",
   "metadata": {},
   "outputs": [
    {
     "data": {
      "text/plain": [
       "(48, 48, 80056, 56, 64)"
      ]
     },
     "execution_count": 46,
     "metadata": {},
     "output_type": "execute_result"
    }
   ],
   "source": [
    "nums = range(10000)\n",
    "lst_nums = list(nums)\n",
    "sys.getsizeof(nums), sys.getsizeof(range(1000)), sys.getsizeof(lst_nums), sys.getsizeof(\n",
    "    []\n",
    "), sys.getsizeof([lst_nums])"
   ]
  },
  {
   "cell_type": "markdown",
   "id": "1d3aff47-b67d-4b91-b3ef-5579d1d01509",
   "metadata": {},
   "source": [
    "Vemos que dois `range` até 10000 e um até 1000 possuem exatamente o mesmo tamanho de 48 bytes, já a lista com os 10 mil números possui um tamanho de 80056 bytes, e uma lista vazia possui um tamanho de 56 bytes. Por fim, vemos que uma lista aninhada possui um tamanho de 64 bytes, 8 bytes a mais que uma lista vazia.\n",
    "\n",
    "Veja agora o seguinte:"
   ]
  },
  {
   "cell_type": "code",
   "execution_count": 47,
   "id": "f8a303b2-b048-4717-88a4-d3b84a6b8a60",
   "metadata": {},
   "outputs": [
    {
     "name": "stdout",
     "output_type": "stream",
     "text": [
      "28 28\n"
     ]
    }
   ],
   "source": [
    "print(sys.getsizeof(lst_nums[0]), sys.getsizeof(lst_nums[-1]))"
   ]
  },
  {
   "cell_type": "markdown",
   "id": "19e04411-ddec-4762-9615-fdbd4861a6cb",
   "metadata": {},
   "source": [
    "Cada um dos números em `lst_nums` ocupa 28 bytes, não 8. Esses 8 bytes a mais por entrada da lista são a maneira que ela tem para referenciar os números. Os números em si não são contabilizados, assim como o conteúdo da lista aninhada. Para sabermos o tamanho de tudo, precisaríamos iterar por todos os elementos."
   ]
  },
  {
   "cell_type": "code",
   "execution_count": 48,
   "id": "84b50ea7-7dd8-49a1-b2c8-eca5332590fb",
   "metadata": {},
   "outputs": [
    {
     "data": {
      "text/plain": [
       "360056"
      ]
     },
     "execution_count": 48,
     "metadata": {},
     "output_type": "execute_result"
    }
   ],
   "source": [
    "true_size = sys.getsizeof(lst_nums) + sum(sys.getsizeof(i) for i in lst_nums)\n",
    "true_size"
   ]
  },
  {
   "cell_type": "markdown",
   "id": "db33298c-d5a2-4fde-a133-d07f3e3b2e34",
   "metadata": {},
   "source": [
    "Ou seja, essa lista de números, contando seu conteúdo, é igual a aproximadamente 360 kilobytes. Aqui, presumimos que os objetos são diferentes. Se forem iguais, no caso de uma lista com 10000 `None`, cada um com 16 bytes, o \"tamanho verdadeiro\" não será 10000 * 16 + 80056=240056, mas 16 + 80056=80072, pois não há novos objetos na memória. Em suma, contabilizar memória não é tão simples quanto parece.\n",
    "\n",
    "A função `sys.getrefcount` nos permite acessar quantos objetos estão referenciando outro. Quando um objeto não possui mais referências, ele é descartado."
   ]
  },
  {
   "cell_type": "code",
   "execution_count": 49,
   "id": "836b720e-fd29-4fbe-8308-7c287750f5b6",
   "metadata": {},
   "outputs": [
    {
     "data": {
      "text/plain": [
       "(3, 2)"
      ]
     },
     "execution_count": 49,
     "metadata": {},
     "output_type": "execute_result"
    }
   ],
   "source": [
    "a = []\n",
    "b = [a]\n",
    "\n",
    "sys.getrefcount(a), sys.getrefcount(b)"
   ]
  },
  {
   "cell_type": "markdown",
   "id": "0147896e-4c56-4ec3-bfea-9db71dd6f926",
   "metadata": {},
   "source": [
    "Esperávamos 2 referências a `a` e uma referência a `b`, mas esse número é inflado porque referências são criadas (e depois removidas) quando enviamos esses objetos para `sys.getrefcount`."
   ]
  },
  {
   "cell_type": "markdown",
   "id": "d0586a4a-b485-473a-8745-d6299fec8aff",
   "metadata": {},
   "source": [
    "Os objetos `sys.stdin`, `sys.stdout`, `sys.stderr`, que significam \"standard in\", \"standard out\" e \"standard error\" são objetos tipo arquivos que são utilizados internamente pelo python para implementar `input`, `print` e as mensagens de exceção. Podemos brincar com eles diretamente como se fossem arquivos mesmo."
   ]
  },
  {
   "cell_type": "code",
   "execution_count": 50,
   "id": "99986fa1-bec3-4d0e-a431-a98725709251",
   "metadata": {},
   "outputs": [
    {
     "name": "stdout",
     "output_type": "stream",
     "text": [
      "AAAA"
     ]
    },
    {
     "data": {
      "text/plain": [
       "4"
      ]
     },
     "execution_count": 50,
     "metadata": {},
     "output_type": "execute_result"
    }
   ],
   "source": [
    "sys.stdout.write(\"AAAA\")"
   ]
  },
  {
   "cell_type": "code",
   "execution_count": 51,
   "id": "325bb959-da3c-43d3-9fc8-2bfc37b69b79",
   "metadata": {},
   "outputs": [
    {
     "name": "stderr",
     "output_type": "stream",
     "text": [
      "EEEE"
     ]
    },
    {
     "data": {
      "text/plain": [
       "4"
      ]
     },
     "execution_count": 51,
     "metadata": {},
     "output_type": "execute_result"
    }
   ],
   "source": [
    "sys.stderr.write(\"EEEE\")"
   ]
  },
  {
   "cell_type": "markdown",
   "id": "0929c00e-30b6-4319-b3b3-252482142ce2",
   "metadata": {},
   "source": [
    "Não podemos brincar com `stdin` sem ter que sair deste notebook, mas veja as respostas [nesta questão](https://stackoverflow.com/questions/1450393/how-do-i-read-from-stdin) para ver algumas coisas que você conseguiria fazer com `stdin`."
   ]
  },
  {
   "cell_type": "markdown",
   "id": "614687cf-d189-468a-b756-47407f52b8f5",
   "metadata": {},
   "source": [
    "Por fim, `sys.version` retorna a versão de Python atual, mais alguns detalhes sobre compilação"
   ]
  },
  {
   "cell_type": "code",
   "execution_count": 52,
   "id": "3ed321f8-3765-4149-86c7-36375b1df1ad",
   "metadata": {},
   "outputs": [
    {
     "data": {
      "text/plain": [
       "'3.11.3 | packaged by Anaconda, Inc. | (main, Apr 19 2023, 23:46:34) [MSC v.1916 64 bit (AMD64)]'"
      ]
     },
     "execution_count": 52,
     "metadata": {},
     "output_type": "execute_result"
    }
   ],
   "source": [
    "sys.version"
   ]
  },
  {
   "cell_type": "markdown",
   "id": "a65cc44d-3120-4ce9-a017-7cfa3b3cf3b7",
   "metadata": {},
   "source": [
    "(sec:subprocess)=\n",
    "### `subprocess`\n",
    "\n",
    "[Link da documentação oficial](https://docs.python.org/3/library/subprocess.html)\n",
    "\n",
    "Esse módulo lhe permite criar outros processos. Suponha que você possui um fluxograma de análise que precisa que dados sejam enviados a alguns programas independentes. Você pode juntar os comandos para rodar esses programas com este módulo. Por exemplo, eu já o utilizei para compilar as versões da minha tese de doutorado com LaTeX de todas as etapas que eu tinha salvas."
   ]
  },
  {
   "cell_type": "code",
   "execution_count": 53,
   "id": "1a04468e-adae-4b2a-a08f-512509fbf6aa",
   "metadata": {},
   "outputs": [],
   "source": [
    "import subprocess"
   ]
  },
  {
   "cell_type": "markdown",
   "id": "58f0cf7b-ff91-4127-9b31-6125a086f768",
   "metadata": {},
   "source": [
    "Neste pacote, temos em suma somente uma função recomendada, e outra função mais complexa para casos específicos. Vamos focar na função simples, `subprocess.run`.\n",
    "\n",
    "Essa função aceita como argumento uma lista com as partes do comando que serão utilizadas. Por exemplo, se seu comando for `echo 123` a lista de argumentos é `['echo', '123']`.\n",
    "\n",
    "Os argumentos opcionais são inúmeros. Estes são os mais importantes:\n",
    "\n",
    "* `capture_output=True` irá capturar o *output* da função, que geralmente vai para o terminal, para o processo.\n",
    "* `shell=True` irá disponibilizar a variável de ambiente `PATH` na criação do processo, então comandos embutidos do sistema serão encontrados.\n",
    "* `timeout=valor` irá esperar o tempo especificado, em segundos, para o processo terminar. Se não terminar, irá matar o processo.\n",
    "\n",
    "Vamos ver um exemplo simples. Se você tiver acesso ao terminal rodando este jupyter notebook, ou se você estiver num REPL python/ipython, você conseguirá ver o resultado deste código."
   ]
  },
  {
   "cell_type": "code",
   "execution_count": 54,
   "id": "234428dc-0c46-4566-b6f2-f0c30ff9cbc5",
   "metadata": {},
   "outputs": [
    {
     "data": {
      "text/plain": [
       "CompletedProcess(args=['echo', '123'], returncode=0)"
      ]
     },
     "execution_count": 54,
     "metadata": {},
     "output_type": "execute_result"
    }
   ],
   "source": [
    "s1 = subprocess.run([\"echo\", \"123\"], shell=True)\n",
    "s1"
   ]
  },
  {
   "cell_type": "markdown",
   "id": "9ded4420-92e2-4730-bd7a-9d86821a4f54",
   "metadata": {},
   "source": [
    "Aqui vemos uma instância de `CompletedProcess`, indicando que o processo terminou, com código de retorno 0, indicando sucesso. No terminal, você terá visto `123` aparecer.\n",
    "\n",
    "Se você capturar o *output*, veja o que ocorre"
   ]
  },
  {
   "cell_type": "code",
   "execution_count": 55,
   "id": "ea28f43f-2700-4bb1-a895-69e02d18f15f",
   "metadata": {},
   "outputs": [
    {
     "data": {
      "text/plain": [
       "CompletedProcess(args=['echo', '123'], returncode=0, stdout=b'123\\r\\n', stderr=b'')"
      ]
     },
     "execution_count": 55,
     "metadata": {},
     "output_type": "execute_result"
    }
   ],
   "source": [
    "s2 = subprocess.run([\"echo\", \"123\"], shell=True, capture_output=True)\n",
    "s2"
   ]
  },
  {
   "cell_type": "markdown",
   "id": "da952dd2-8a41-4143-96fd-187019aed1d9",
   "metadata": {},
   "source": [
    "Neste caso, `123` não irá aparecer no terminal, pois foi capturado pelo processo, como podemos ver. Note que não são strings normais, mas strings de bytes, pois começam com `b`. Podemos decodificar esses `bytes` para uma string normal com `.decode`."
   ]
  },
  {
   "cell_type": "code",
   "execution_count": 56,
   "id": "a06de2c4-b556-40db-a417-79df77fa9dee",
   "metadata": {},
   "outputs": [
    {
     "data": {
      "text/plain": [
       "bytes"
      ]
     },
     "execution_count": 56,
     "metadata": {},
     "output_type": "execute_result"
    }
   ],
   "source": [
    "type(s2.stdout)"
   ]
  },
  {
   "cell_type": "code",
   "execution_count": 57,
   "id": "178f39c5-d9ce-475a-a736-21852ed03bc8",
   "metadata": {},
   "outputs": [
    {
     "data": {
      "text/plain": [
       "(str, '123\\r\\n')"
      ]
     },
     "execution_count": 57,
     "metadata": {},
     "output_type": "execute_result"
    }
   ],
   "source": [
    "type(s2.stdout.decode()), s2.stdout.decode()"
   ]
  },
  {
   "cell_type": "markdown",
   "id": "deabf011-e9c2-401a-94b2-e9dce2aa619d",
   "metadata": {},
   "source": [
    "Não entrarei em mais detalhes deste pacote aqui pois são bastante fora do escopo disto."
   ]
  },
  {
   "cell_type": "markdown",
   "id": "be27e6e9-414a-4a27-8dd7-f77fdc2b5ea0",
   "metadata": {},
   "source": [
    "(sec:bibliotecas_mat)=\n",
    "## Bibliotecas matemáticas\n",
    "\n",
    "Python não está limitado às funções `sum`, `min` e `max`, existem bibliotecas para realizar operações matemáticas. Não irei descrevê-las com muito detalhe, mas irei mostrar alguns exemplos.\n",
    "\n",
    "(sec:biblio_math)=\n",
    "### `math`\n",
    "\n",
    "[`Link da documentação oficial`](https://docs.python.org/3/library/math.html)\n",
    "\n",
    "Essa biblioteca possui funções matemáticas, como funções trigonométricas, combinatória, raiz quadrada, logaritmos, constantes como $\\pi$ e $e$. [`cmath`](https://docs.python.org/3/library/cmath.html) possui funções similares, mas aplicadas a números complexos. Veja alguns exemplos:"
   ]
  },
  {
   "cell_type": "code",
   "execution_count": 58,
   "id": "2cf64ec3-d2f7-4007-9cd3-a3e412fa596b",
   "metadata": {},
   "outputs": [],
   "source": [
    "import math"
   ]
  },
  {
   "cell_type": "markdown",
   "id": "6a5a4f22-30b4-4f50-9e83-9549e4952525",
   "metadata": {},
   "source": [
    "Como funções trigonométricas, há seno, cosseno, tangente e $pi$. Há também as versões hiperbólicas e inversas (arcoseno, etc)"
   ]
  },
  {
   "cell_type": "code",
   "execution_count": 59,
   "id": "c2acbde9-ccf4-4895-b142-ab3be5947ae8",
   "metadata": {},
   "outputs": [
    {
     "name": "stdout",
     "output_type": "stream",
     "text": [
      "math.sin(math.pi/4)=0.7071067811865476\n",
      "math.cos(math.pi / 4)=0.7071067811865476\n",
      "math.tan(math.pi / 4)=0.9999999999999999\n",
      "math.asin(1) / (math.pi)=0.5\n"
     ]
    }
   ],
   "source": [
    "print(\n",
    "    f\"{math.sin(math.pi/4)=}\",\n",
    "    f\"{math.cos(math.pi / 4)=}\",\n",
    "    f\"{math.tan(math.pi / 4)=}\",\n",
    "    f\"{math.asin(1) / (math.pi)=}\",\n",
    "    sep=\"\\n\",\n",
    ")"
   ]
  },
  {
   "cell_type": "markdown",
   "id": "ee7110a7-51d3-435e-a0fe-1649ef16a9e3",
   "metadata": {},
   "source": [
    "Por padrão, essas funções aceitam radianos. Para converter entre radianos e graus, há as funções:"
   ]
  },
  {
   "cell_type": "code",
   "execution_count": 60,
   "id": "33765738-6e3a-4e4a-85a6-3f4262ca210d",
   "metadata": {},
   "outputs": [
    {
     "name": "stdout",
     "output_type": "stream",
     "text": [
      "3.141592653589793 180.0\n"
     ]
    }
   ],
   "source": [
    "print(math.radians(180), math.degrees(math.pi))"
   ]
  },
  {
   "cell_type": "markdown",
   "id": "d138a209-267f-4cf9-9903-f0c7c74b8f30",
   "metadata": {},
   "source": [
    "Funções teto e piso"
   ]
  },
  {
   "cell_type": "code",
   "execution_count": 61,
   "id": "0cd78500-9254-4f00-9038-ea4176d96df4",
   "metadata": {},
   "outputs": [
    {
     "name": "stdout",
     "output_type": "stream",
     "text": [
      "4\n",
      "3\n"
     ]
    }
   ],
   "source": [
    "print(math.ceil(3.7), math.floor(3.7), sep=\"\\n\")"
   ]
  },
  {
   "cell_type": "markdown",
   "id": "dea7cecf-5daf-4bcc-a88f-e9fe2c052fab",
   "metadata": {},
   "source": [
    "Fatoriais"
   ]
  },
  {
   "cell_type": "code",
   "execution_count": 62,
   "id": "ce0e0e55-0c39-42ca-8f73-eae09807d0c8",
   "metadata": {},
   "outputs": [
    {
     "name": "stdout",
     "output_type": "stream",
     "text": [
      "120\n",
      "120\n"
     ]
    }
   ],
   "source": [
    "print(math.factorial(5), 5 * 4 * 3 * 2 * 1, sep=\"\\n\")"
   ]
  },
  {
   "cell_type": "markdown",
   "id": "9bcd9c8e-cc59-4b02-9224-d80ef9637bc0",
   "metadata": {},
   "source": [
    "`math.frexp` retorna as partes que compõem um número `float`, a mantissa e o expoente, de forma que \n",
    "$$\n",
    "\\text{float} = \\text{mantissa} \\cdot 2 ^ {\\text{expoente}}\n",
    "$$\n",
    "\n",
    "Esse resultado é *exato*, então você pode utilizar `==`."
   ]
  },
  {
   "cell_type": "code",
   "execution_count": 63,
   "id": "7a183edd-556e-4e4d-95ee-8ee972cf3644",
   "metadata": {},
   "outputs": [
    {
     "name": "stdout",
     "output_type": "stream",
     "text": [
      "2000.0 2000.0 True\n"
     ]
    }
   ],
   "source": [
    "num = 2e3\n",
    "m, e = math.frexp(num)\n",
    "print(num, m * 2**e, m * 2**e == num)"
   ]
  },
  {
   "cell_type": "markdown",
   "id": "52f6655c-bd44-4375-be1a-734e9f8e8220",
   "metadata": {},
   "source": [
    "`math.modf` também separa um `float`, mas em sua parte inteira e fracionária."
   ]
  },
  {
   "cell_type": "code",
   "execution_count": 64,
   "id": "617b6401-a603-47a1-a91c-f984cd15f871",
   "metadata": {},
   "outputs": [
    {
     "data": {
      "text/plain": [
       "(0.5, 3.0)"
      ]
     },
     "execution_count": 64,
     "metadata": {},
     "output_type": "execute_result"
    }
   ],
   "source": [
    "math.modf(3.5)"
   ]
  },
  {
   "cell_type": "markdown",
   "id": "0cc4f7a7-e901-44a9-94e6-05646ac87ce5",
   "metadata": {},
   "source": [
    "Uma função similar que não está em `math`, mas que acabei não mencionando antes, é `divmod`, que retorna uma dupla com a divisão inteira e o resto, e impede que você tenha que fazer `a // b, a % b` e duplicar uma computação."
   ]
  },
  {
   "cell_type": "code",
   "execution_count": 65,
   "id": "9dfe4413-adda-4f15-9043-d12997fd0c98",
   "metadata": {},
   "outputs": [
    {
     "data": {
      "text/plain": [
       "(3, 1)"
      ]
     },
     "execution_count": 65,
     "metadata": {},
     "output_type": "execute_result"
    }
   ],
   "source": [
    "divmod(10, 3)"
   ]
  },
  {
   "cell_type": "markdown",
   "id": "f081321e-019f-4730-896c-ad0731d7ff35",
   "metadata": {},
   "source": [
    "`math.comb(n, k)` retorna o número de combinações de $n$ elementos em grupos com $k$ elementos, sem repetição ou ordem."
   ]
  },
  {
   "cell_type": "code",
   "execution_count": 66,
   "id": "1ddbeb01-786e-4cff-915a-ac3aa0950ab9",
   "metadata": {},
   "outputs": [
    {
     "data": {
      "text/plain": [
       "5"
      ]
     },
     "execution_count": 66,
     "metadata": {},
     "output_type": "execute_result"
    }
   ],
   "source": [
    "math.comb(5, 4)"
   ]
  },
  {
   "cell_type": "markdown",
   "id": "e8c6d8a7-6d9e-4797-9e60-93887d43f949",
   "metadata": {},
   "source": [
    "`math.perm(n, k)` faz o mesmo, mas considera a ordem."
   ]
  },
  {
   "cell_type": "code",
   "execution_count": 67,
   "id": "7dfd9eb6-40d1-41b7-a3be-57542541e89e",
   "metadata": {},
   "outputs": [
    {
     "data": {
      "text/plain": [
       "120"
      ]
     },
     "execution_count": 67,
     "metadata": {},
     "output_type": "execute_result"
    }
   ],
   "source": [
    "math.perm(5, 4)"
   ]
  },
  {
   "cell_type": "markdown",
   "id": "31f4179d-0489-4f76-805b-e3108b2a50d4",
   "metadata": {},
   "source": [
    "Em muitos locais deste livro eu utilizei \n",
    "\n",
    "```python\n",
    "abs(real - computado) < tolerância_absoluta\n",
    "```\n",
    "\n",
    "para checar se o resultado de uma computação está dentro dos limites de tolerância, por conta das nuances de números flutuantes. A função `math.isclose` faz isso sozinha, e retorna `True` se os dois valores estão próximos em termos absolutos ou relativos."
   ]
  },
  {
   "cell_type": "code",
   "execution_count": 68,
   "id": "bf4571fa-52a5-4a30-86fe-31a4848ebe7e",
   "metadata": {},
   "outputs": [
    {
     "data": {
      "text/plain": [
       "(True, False)"
      ]
     },
     "execution_count": 68,
     "metadata": {},
     "output_type": "execute_result"
    }
   ],
   "source": [
    "math.isclose(0.1 + 0.2, 0.3, rel_tol=1e-3, abs_tol=1e-3), 0.1 + 0.2 == 0.3"
   ]
  },
  {
   "cell_type": "markdown",
   "id": "2ced50a6-36df-4bda-adef-d3e35fc16866",
   "metadata": {},
   "source": [
    "Similar a `sum`, temos `math.prod`, que calcula a produtória."
   ]
  },
  {
   "cell_type": "code",
   "execution_count": 69,
   "id": "49edccf9-c905-47ca-b264-4d85e8e34ca0",
   "metadata": {},
   "outputs": [
    {
     "data": {
      "text/plain": [
       "(10, 24)"
      ]
     },
     "execution_count": 69,
     "metadata": {},
     "output_type": "execute_result"
    }
   ],
   "source": [
    "sum(range(1, 5)), math.prod(range(1, 5))"
   ]
  },
  {
   "cell_type": "markdown",
   "id": "3869d1fc-f17d-410b-8486-fc064383cdaf",
   "metadata": {},
   "source": [
    "Para exponenciais, temos duas bases, $e$ e $2$"
   ]
  },
  {
   "cell_type": "code",
   "execution_count": 70,
   "id": "42dd8021-0f44-45a9-b5a0-6186a56a16e6",
   "metadata": {},
   "outputs": [
    {
     "name": "stdout",
     "output_type": "stream",
     "text": [
      "2.718281828459045 2.0\n"
     ]
    }
   ],
   "source": [
    "print(\n",
    "    math.exp(1),\n",
    "    math.exp2(1),\n",
    ")"
   ]
  },
  {
   "cell_type": "markdown",
   "id": "1276f564-82aa-44f1-9867-00a3896d90bc",
   "metadata": {},
   "source": [
    "Para logaritmos temos três bases, $e$, $2$ e $10$"
   ]
  },
  {
   "cell_type": "code",
   "execution_count": 71,
   "id": "bedb38fd-4f3a-49af-bafd-d4898fdd80b8",
   "metadata": {},
   "outputs": [
    {
     "name": "stdout",
     "output_type": "stream",
     "text": [
      "1.0 1.0 1.0\n"
     ]
    }
   ],
   "source": [
    "print(\n",
    "    math.log(math.e),\n",
    "    math.log2(2),\n",
    "    math.log10(10),\n",
    ")"
   ]
  },
  {
   "cell_type": "markdown",
   "id": "fb176d14-750a-4d20-a0cf-82f3fe9902d2",
   "metadata": {},
   "source": [
    "E temos raízes quadradas e cúbicas"
   ]
  },
  {
   "cell_type": "code",
   "execution_count": 72,
   "id": "918ab968-35e1-4a29-b46c-1e1588432b73",
   "metadata": {},
   "outputs": [
    {
     "name": "stdout",
     "output_type": "stream",
     "text": [
      "2.0 2.0\n"
     ]
    }
   ],
   "source": [
    "print(math.sqrt(4), math.cbrt(8))"
   ]
  },
  {
   "cell_type": "markdown",
   "id": "343177ee-c49f-431a-85e2-96d8de16e91f",
   "metadata": {},
   "source": [
    "`math.dist` calcula a distância euclidiana entre pontos n-dimensionais"
   ]
  },
  {
   "cell_type": "code",
   "execution_count": 73,
   "id": "b14804ac-99b0-4492-8ec7-8cae52adc7f8",
   "metadata": {},
   "outputs": [
    {
     "name": "stdout",
     "output_type": "stream",
     "text": [
      "5.196152422706632 1.4142135623730951\n"
     ]
    }
   ],
   "source": [
    "print(math.dist((1, 2, 3), (4, 5, 6)), math.dist((1, 1), (2, 2)))"
   ]
  },
  {
   "cell_type": "markdown",
   "id": "8e2dcd2c-b66a-4c9e-bfcb-aebe1dac1208",
   "metadata": {},
   "source": [
    "Além de $\\pi$, há a constante $e$, $\\tau=2\\pi$, $\\infty$ e `nan`."
   ]
  },
  {
   "cell_type": "code",
   "execution_count": 74,
   "id": "2e15eb1d-a658-4bbb-9081-a35522c90b3e",
   "metadata": {},
   "outputs": [
    {
     "data": {
      "text/plain": [
       "(3.141592653589793, 2.718281828459045, 6.283185307179586, inf, nan)"
      ]
     },
     "execution_count": 74,
     "metadata": {},
     "output_type": "execute_result"
    }
   ],
   "source": [
    "math.pi, math.e, math.tau, math.inf, math.nan"
   ]
  },
  {
   "cell_type": "markdown",
   "id": "2cb60278-c0d4-4154-bfbe-dd465ed7ce28",
   "metadata": {},
   "source": [
    "Essas duas últimas constantes *não* são números, e você não consegue fazer operações com elas que façam muito sentido. Geralmente servm como indicadores que algo deu errado. `nan`, que significa *not a number*, é similar a um `float`. [Não existe somente um único tipo de `nan`](https://en.wikipedia.org/wiki/NaN), mas muitos, então não é recomendado que você utilize `==`, mas sim `math.isnan`. De fato, qualquer operação matemática de números com `nan` irá falhar e resultar em outro `nan`, ou `False`, inclusive `==`."
   ]
  },
  {
   "cell_type": "code",
   "execution_count": 75,
   "id": "fb7cec78-f18a-4a25-958a-b25591e55506",
   "metadata": {},
   "outputs": [
    {
     "name": "stdout",
     "output_type": "stream",
     "text": [
      "nan\n",
      "False\n",
      "True\n"
     ]
    }
   ],
   "source": [
    "print(math.nan * 5, math.nan == math.nan, math.isnan(math.nan), sep=\"\\n\")"
   ]
  },
  {
   "cell_type": "markdown",
   "id": "f93f8d98-b56a-4234-a168-c34c6c90d1d3",
   "metadata": {},
   "source": [
    "Dependendo da aplicação, `nan` pode ser utilizado como um indicador que um dado está ausente."
   ]
  },
  {
   "cell_type": "markdown",
   "id": "79da6036-8529-4279-a416-c0aa81109d81",
   "metadata": {},
   "source": [
    "(sec:biblio_decimal)=\n",
    "### `decimal`\n",
    "\n",
    "[Link da documentação oficial](https://docs.python.org/3/library/decimal.html)\n",
    "\n",
    "Este pacote permite que você trabalhe com números na base decimal, com precisão especificada, controle de arredondamento, e outras funções. É uma alternativa melhor que `float` para atividades que exigem maior precisão, como aplicações financeiras e de contabilidade. O objeto primário desse pacote é `Decimal`, que aceita `float`, `str` como argumentos e retorna um objeto `Decimal`, que é imutável. As configurações do pacote podem ser vistas e alteradas com `getcontext`."
   ]
  },
  {
   "cell_type": "code",
   "execution_count": 76,
   "id": "77d5347e-3cba-4d4e-9f8b-fc81c91b00e4",
   "metadata": {},
   "outputs": [
    {
     "data": {
      "text/plain": [
       "Context(prec=28, rounding=ROUND_HALF_EVEN, Emin=-999999, Emax=999999, capitals=1, clamp=0, flags=[], traps=[InvalidOperation, DivisionByZero, Overflow])"
      ]
     },
     "execution_count": 76,
     "metadata": {},
     "output_type": "execute_result"
    }
   ],
   "source": [
    "from decimal import getcontext, Decimal as D\n",
    "\n",
    "getcontext()"
   ]
  },
  {
   "cell_type": "markdown",
   "id": "d316ae23-e80a-408c-ab81-ae310a8e19ed",
   "metadata": {},
   "source": [
    "Por padrão, a precisão é de 28 casas"
   ]
  },
  {
   "cell_type": "code",
   "execution_count": 77,
   "id": "91900636-a050-48d6-a763-f1673705f37d",
   "metadata": {},
   "outputs": [
    {
     "data": {
      "text/plain": [
       "Decimal('3.333333333333333333333333333')"
      ]
     },
     "execution_count": 77,
     "metadata": {},
     "output_type": "execute_result"
    }
   ],
   "source": [
    "D(10) / D(3)"
   ]
  },
  {
   "cell_type": "markdown",
   "id": "828ee7a9-52a0-4ac1-bc2f-f68313ec60a5",
   "metadata": {},
   "source": [
    "E podemos modificar isso alterando `getcontext().prec`. O limite é teoricamente arbitrariamente grande."
   ]
  },
  {
   "cell_type": "code",
   "execution_count": 78,
   "id": "8b3f7f2a-11a3-434a-ab1d-9de5d7f2ef83",
   "metadata": {},
   "outputs": [
    {
     "name": "stdout",
     "output_type": "stream",
     "text": [
      "3.3333\n"
     ]
    }
   ],
   "source": [
    "getcontext().prec = 5\n",
    "print(D(10) / D(3))\n",
    "getcontext().prec = 28"
   ]
  },
  {
   "cell_type": "markdown",
   "id": "a7d23cf9-0c6e-45ea-9d11-d321d3fc09ff",
   "metadata": {},
   "source": [
    "Se você passar um número como string, o valor exato será utilizado. Se passar como um `float`, o número será um pouco diferente."
   ]
  },
  {
   "cell_type": "code",
   "execution_count": 79,
   "id": "d186571e-cb27-4a01-9b7f-717e3df348d3",
   "metadata": {},
   "outputs": [
    {
     "data": {
      "text/plain": [
       "(Decimal('3.14'),\n",
       " Decimal('3.140000000000000124344978758017532527446746826171875'))"
      ]
     },
     "execution_count": 79,
     "metadata": {},
     "output_type": "execute_result"
    }
   ],
   "source": [
    "D(\"3.14\"), D(3.14)"
   ]
  },
  {
   "cell_type": "markdown",
   "id": "0526ce11-dcaa-42a6-99be-2650ba179acc",
   "metadata": {},
   "source": [
    "A precisão de `Decimal` permite que este tipo de comparação seja válida"
   ]
  },
  {
   "cell_type": "code",
   "execution_count": 80,
   "id": "e45764c1-243c-49d3-a1ec-fb9d06219fd2",
   "metadata": {},
   "outputs": [
    {
     "data": {
      "text/plain": [
       "True"
      ]
     },
     "execution_count": 80,
     "metadata": {},
     "output_type": "execute_result"
    }
   ],
   "source": [
    "D(\"0.1\") + D(\"0.2\") == D(\"0.3\")"
   ]
  },
  {
   "cell_type": "markdown",
   "id": "dd070b40-65ac-4359-aa9a-1fdb799eed9a",
   "metadata": {},
   "source": [
    "Porém, note que se você utilizar algumas funções matemáticas, como aquelas em `math`, os resultados não serão mais `Decimal`!"
   ]
  },
  {
   "cell_type": "code",
   "execution_count": 81,
   "id": "37726a0b-d11a-4597-b498-f1640f0b92dd",
   "metadata": {},
   "outputs": [
    {
     "data": {
      "text/plain": [
       "float"
      ]
     },
     "execution_count": 81,
     "metadata": {},
     "output_type": "execute_result"
    }
   ],
   "source": [
    "type(math.sqrt(D(4)))"
   ]
  },
  {
   "cell_type": "markdown",
   "id": "25a4ff45-9e3c-46ea-868e-d0476e9377ee",
   "metadata": {},
   "source": [
    "Você deve utilizar os métodos embutidos em `Decimal` para isso."
   ]
  },
  {
   "cell_type": "code",
   "execution_count": 82,
   "id": "38060e03-5b92-4038-ac2a-57c5cc38c5ef",
   "metadata": {},
   "outputs": [
    {
     "data": {
      "text/plain": [
       "Decimal('2')"
      ]
     },
     "execution_count": 82,
     "metadata": {},
     "output_type": "execute_result"
    }
   ],
   "source": [
    "D(4).sqrt()"
   ]
  },
  {
   "cell_type": "markdown",
   "id": "5acea546-1464-46a4-9e5e-a56f64ceea73",
   "metadata": {},
   "source": [
    "Mais detalhes sobre essa biblioteca eu deixarei para seu estudo próprio. Em especial a seção de [receitas](https://docs.python.org/3/library/decimal.html#recipes) parece interessante."
   ]
  },
  {
   "cell_type": "markdown",
   "id": "52e71579-1239-47e8-a90c-d49fdb6b31b4",
   "metadata": {},
   "source": [
    "(sec:biblio_fractions)=\n",
    "### `fractions`\n",
    "\n",
    "[Link da documentação oficial](https://docs.python.org/3/library/fractions.html)\n",
    "\n",
    "Esse pacote permite que você trabalhe com frações, sem precisar arcar com a perda de precisão que ocorre na computação da divisão."
   ]
  },
  {
   "cell_type": "code",
   "execution_count": 83,
   "id": "7045b470-5d0f-470a-ab42-124ad6220e09",
   "metadata": {},
   "outputs": [],
   "source": [
    "from fractions import Fraction as F"
   ]
  },
  {
   "cell_type": "code",
   "execution_count": 84,
   "id": "ff819ece-c0c1-4a38-a0a1-12314e3b8ffe",
   "metadata": {},
   "outputs": [
    {
     "data": {
      "text/plain": [
       "Fraction(1, 3)"
      ]
     },
     "execution_count": 84,
     "metadata": {},
     "output_type": "execute_result"
    }
   ],
   "source": [
    "f1 = F(\"1/3\")\n",
    "f1"
   ]
  },
  {
   "cell_type": "code",
   "execution_count": 85,
   "id": "8319319b-739b-4054-8567-5e46fac09bee",
   "metadata": {},
   "outputs": [
    {
     "data": {
      "text/plain": [
       "(Fraction(5, 6), Fraction(1, 6), Fraction(2, 3))"
      ]
     },
     "execution_count": 85,
     "metadata": {},
     "output_type": "execute_result"
    }
   ],
   "source": [
    "f2 = F(\"1/2\")\n",
    "f1 + f2, f1 * f2, f1 / f2"
   ]
  },
  {
   "cell_type": "code",
   "execution_count": 86,
   "id": "220284da-ca13-4681-ba0e-e537a951af28",
   "metadata": {},
   "outputs": [
    {
     "data": {
      "text/plain": [
       "Fraction(1, 9)"
      ]
     },
     "execution_count": 86,
     "metadata": {},
     "output_type": "execute_result"
    }
   ],
   "source": [
    "f1 ** (1 / f2)"
   ]
  },
  {
   "cell_type": "markdown",
   "id": "c8058899-f025-4fec-8511-08611b8edf4d",
   "metadata": {},
   "source": [
    "(sec:biblio_random)=\n",
    "### `random`\n",
    "\n",
    "[Link da documentação oficial](https://docs.python.org/3/library/random.html)\n",
    "\n",
    "Esse pacote fornece números pseudoaleatórios de várias maneiras.\n",
    "\n",
    "O termo \"pseudoaleatório\" significa que, dada uma condição inicial (a semente, *seed*), os números aleatórios gerados posteriormente serão sempre iguais. Teoricamente, se você observar uma quantidade suficiente de números e sabendo o seu algoritmo de geração, você conseguiria descobrir a semente e todos os números futuros. Isso é algo bastante ruim para quem está interessado em segurança. Além disso, eventualmente os números começarão a se repetir.\n",
    "\n",
    "Como computadores são muito bons em seguir ordens, não conseguem gerar números verdadeiramente aleatórios, mas a natureza consegue. Por exemplo, a empresa Cloudflare, que lida com criptografia, [utiliza uma parede de lâmpadas de lava para gerar seus números aleatórios](https://www.cloudflare.com/learning/ssl/lava-lamp-encryption/).\n",
    "\n",
    "Mas `random` ser pseudoaleatório não é de todo mal. Isso significa que é possível termos reprodutibilidade nos números que geramos, se setarmos a semente para sempre o mesmo valor. Isso significa que esse módulo é *determinístico*.\n",
    "\n",
    "Vejamos alguns dos métodos de `random`."
   ]
  },
  {
   "cell_type": "code",
   "execution_count": 87,
   "id": "1edccd2f-3343-4c56-a4c4-8f1b992f5579",
   "metadata": {},
   "outputs": [
    {
     "name": "stdout",
     "output_type": "stream",
     "text": [
      "0.6394267984578837 0.025010755222666936\n",
      "0.6394267984578837 0.025010755222666936\n"
     ]
    }
   ],
   "source": [
    "import random\n",
    "\n",
    "random.seed(42)\n",
    "print(random.random(), random.random())\n",
    "random.seed(42)\n",
    "print(random.random(), random.random())"
   ]
  },
  {
   "cell_type": "markdown",
   "id": "7a3e77fb-de18-47b0-ad1e-8a33eaff9278",
   "metadata": {},
   "source": [
    "`random.seed` seta a seed a um valor, e `random.random` retorna um `float` aleatório no intervalo de 0 a 1 (1 não incluso), com probabilidade uniforme. Veja que eu obtive os mesmos dois números em sequência após setar a semente.\n",
    "\n",
    "Suponha que você queira que algo acontessa com uma probabilidade de 25%. Você pode utilizar a função `random` e checar se o número retornado é menor que 0.25. Vamos ver, estatisticamente, se isso é observado."
   ]
  },
  {
   "cell_type": "code",
   "execution_count": 88,
   "id": "41be9589-0ff1-4b1a-aeb8-de648854bff8",
   "metadata": {},
   "outputs": [
    {
     "name": "stdout",
     "output_type": "stream",
     "text": [
      "0.248\n"
     ]
    }
   ],
   "source": [
    "num = 10000\n",
    "acertos = sum(random.random() < 0.25 for _ in range(num))\n",
    "print(acertos / num)"
   ]
  },
  {
   "cell_type": "markdown",
   "id": "f87eb38d-56bb-46dd-aa39-1df5a3b2e40b",
   "metadata": {},
   "source": [
    "Aqui, eu criei 10 mil números aleatórios entre 0 e 1 e chequei se eram menores que 0.25. Como eu não preciso do valor retornado por `range`, eu coloco-o na variável \"lixo\" `_`. O resultado disso é um `bool`, `True` ou `False`. Lembre-se que `True` tem, aritmeticamente, o mesmo valor que `1`, então se eu somo todos esses `bool`s, eu obtenho o número de \"acertos\", ou seja, quantas vezes o número escolhido foi menor que 0,25. Dividindo esse número pelo número total de números criados nos fornece a porcentagem final, que, de certa forma, prova a uniformidade dos números de `random.random`.\n",
    "\n",
    "`random.uniform` funciona parecido com `random.random`, mas você pode escolher os limites."
   ]
  },
  {
   "cell_type": "code",
   "execution_count": 89,
   "id": "283f2f1a-7c6c-4cdf-bf23-61b6da523e8a",
   "metadata": {},
   "outputs": [
    {
     "data": {
      "text/plain": [
       "[17.030908304080626,\n",
       " 17.65574222858902,\n",
       " 10.353620748657402,\n",
       " 19.810560425427788,\n",
       " 19.499077827948344]"
      ]
     },
     "execution_count": 89,
     "metadata": {},
     "output_type": "execute_result"
    }
   ],
   "source": [
    "[random.uniform(10, 20) for _ in range(5)]"
   ]
  },
  {
   "cell_type": "markdown",
   "id": "e55df43b-546f-45ec-9ac3-6b94c429a279",
   "metadata": {},
   "source": [
    "`random.randint` retorna um número inteiro entre dois intervalos dados, ambos inclusos."
   ]
  },
  {
   "cell_type": "code",
   "execution_count": 90,
   "id": "c083c02b-fb61-436b-b165-f169fa68971c",
   "metadata": {},
   "outputs": [
    {
     "data": {
      "text/plain": [
       "[19, 19, 11, 18, 17]"
      ]
     },
     "execution_count": 90,
     "metadata": {},
     "output_type": "execute_result"
    }
   ],
   "source": [
    "[random.randint(10, 20) for _ in range(5)]"
   ]
  },
  {
   "cell_type": "markdown",
   "id": "20b8bee3-9e3b-48fb-b00c-e6441c65207c",
   "metadata": {},
   "source": [
    "`random.randrange` retorna um número inteiro entre dois intervalos, podendo fornecer um passo. É similar a escolher um número de um `range`."
   ]
  },
  {
   "cell_type": "code",
   "execution_count": 91,
   "id": "0ec40b9f-4b55-437d-b785-0f1a6d6936ea",
   "metadata": {},
   "outputs": [
    {
     "data": {
      "text/plain": [
       "[13, 16, 10, 10, 10]"
      ]
     },
     "execution_count": 91,
     "metadata": {},
     "output_type": "execute_result"
    }
   ],
   "source": [
    "[random.randrange(10, 20, 3) for _ in range(5)]"
   ]
  },
  {
   "cell_type": "markdown",
   "id": "77dfacf1-c4dd-48c1-b130-e8aa925600ef",
   "metadata": {},
   "source": [
    "Há também funções não uniformes, como gaussianas e similares. Para podermos visualizar essas funções, vou recriar a função para criação de um histograma aqui."
   ]
  },
  {
   "cell_type": "code",
   "execution_count": 92,
   "id": "029df9ce-7633-481e-9fe7-14847652c855",
   "metadata": {},
   "outputs": [],
   "source": [
    "def hist(nums, nbins=10, max_width=10, char=\"#\"):\n",
    "    nums.sort()\n",
    "    max_num = nums[-1]\n",
    "    min_num = nums[0]\n",
    "    range_num = max_num - min_num\n",
    "    divisor = range_num / nbins\n",
    "\n",
    "    counts = []\n",
    "    tempcount = 0\n",
    "    position = min_num\n",
    "    for num in nums:\n",
    "        if num < position:\n",
    "            tempcount += 1\n",
    "            continue\n",
    "        if num >= position:\n",
    "            counts.append(tempcount)\n",
    "            tempcount = 1\n",
    "            position += divisor\n",
    "\n",
    "    max_count = max(counts)\n",
    "    for count in counts:\n",
    "        print(int(max_width * count / max_count) * char)\n",
    "\n",
    "\n",
    "std_hist_settings = dict(nbins=15, max_width=30)"
   ]
  },
  {
   "cell_type": "markdown",
   "id": "bfa45722-a162-4d35-8814-bfd98225df1d",
   "metadata": {},
   "source": [
    "As funções de distribuição que temos são:\n",
    "\n",
    "* `random.gauss` e `random.normalvariate`\n",
    "* `random.triangular` \n",
    "* `random.betavariate`\n",
    "* `random.expovariate`\n",
    "* `random.gammavariate`\n",
    "* `random.lognormvariate`\n",
    "* `random.vonmisesvariate`\n",
    "* `random.weibullvariate`\n",
    "\n",
    "As aplicações dessas distribuições dependem muito do seu problema, mas essas em especial são bastante frequentes em estatística."
   ]
  },
  {
   "cell_type": "code",
   "execution_count": 93,
   "id": "9c43ed6e-fffd-4fdc-b1cc-aa8278c05f32",
   "metadata": {},
   "outputs": [
    {
     "name": "stdout",
     "output_type": "stream",
     "text": [
      "\n",
      "\n",
      "\n",
      "#\n",
      "#######\n",
      "#############\n",
      "####################\n",
      "##############################\n",
      "###########################\n",
      "#######################\n",
      "###################\n",
      "#######\n",
      "####\n",
      "#\n",
      "\n"
     ]
    }
   ],
   "source": [
    "hist([random.gauss() for _ in range(1000)], **std_hist_settings)"
   ]
  },
  {
   "cell_type": "code",
   "execution_count": 94,
   "id": "7fc32c46-e5be-42da-81b6-f22a0b6ce5c8",
   "metadata": {},
   "outputs": [
    {
     "name": "stdout",
     "output_type": "stream",
     "text": [
      "\n",
      "##\n",
      "######\n",
      "#######\n",
      "###########\n",
      "################\n",
      "#################\n",
      "####################\n",
      "##############################\n",
      "#######################\n",
      "########################\n",
      "##################\n",
      "############\n",
      "########\n",
      "########\n",
      "###\n"
     ]
    }
   ],
   "source": [
    "hist([random.triangular() for _ in range(1000)], **std_hist_settings)"
   ]
  },
  {
   "cell_type": "code",
   "execution_count": 95,
   "id": "b9fa1c72-9bb8-4929-862a-de8814231fd6",
   "metadata": {},
   "outputs": [
    {
     "name": "stdout",
     "output_type": "stream",
     "text": [
      "\n",
      "##############################\n",
      "#########################\n",
      "#########################\n",
      "#####################\n",
      "#######################\n",
      "###############\n",
      "##################\n",
      "#############\n",
      "##########\n",
      "#########\n",
      "########\n",
      "#####\n",
      "###\n",
      "#\n",
      "\n"
     ]
    }
   ],
   "source": [
    "hist([random.betavariate(1, 2) for _ in range(1000)], **std_hist_settings)"
   ]
  },
  {
   "cell_type": "code",
   "execution_count": 96,
   "id": "360b3deb-5529-4dda-b232-77b336220cc4",
   "metadata": {},
   "outputs": [
    {
     "name": "stdout",
     "output_type": "stream",
     "text": [
      "\n",
      "##############################\n",
      "#################\n",
      "#########\n",
      "#####\n",
      "###\n",
      "##\n",
      "#\n",
      "\n",
      "\n",
      "\n",
      "\n",
      "\n",
      "\n"
     ]
    }
   ],
   "source": [
    "hist([random.expovariate(1) for _ in range(1000)], **std_hist_settings)"
   ]
  },
  {
   "cell_type": "code",
   "execution_count": 97,
   "id": "6fc87590-27f1-4d4a-8d3a-8f13690802ab",
   "metadata": {},
   "outputs": [
    {
     "name": "stdout",
     "output_type": "stream",
     "text": [
      "\n",
      "##############################\n",
      "##################\n",
      "#############\n",
      "########\n",
      "####\n",
      "######\n",
      "##\n",
      "#\n",
      "\n",
      "#\n",
      "\n",
      "\n",
      "\n",
      "\n"
     ]
    }
   ],
   "source": [
    "hist([random.gammavariate(1, 2) for _ in range(1000)], **std_hist_settings)"
   ]
  },
  {
   "cell_type": "code",
   "execution_count": 98,
   "id": "8193bb5a-832e-4463-8b09-a872450ac0b4",
   "metadata": {},
   "outputs": [
    {
     "name": "stdout",
     "output_type": "stream",
     "text": [
      "\n",
      "#####\n",
      "##################\n",
      "#############################\n",
      "##############################\n",
      "########################\n",
      "################\n",
      "##########\n",
      "####\n",
      "###\n",
      "#\n",
      "\n",
      "\n",
      "\n"
     ]
    }
   ],
   "source": [
    "hist([random.lognormvariate(5, 0.3) for _ in range(1000)], **std_hist_settings)"
   ]
  },
  {
   "cell_type": "code",
   "execution_count": 99,
   "id": "8be7bbbd-5644-4471-8649-ce13d8635d39",
   "metadata": {},
   "outputs": [
    {
     "name": "stdout",
     "output_type": "stream",
     "text": [
      "\n",
      "##################\n",
      "#################\n",
      "####################\n",
      "############\n",
      "#############\n",
      "#####################\n",
      "####################\n",
      "######################\n",
      "#####################\n",
      "########################\n",
      "############################\n",
      "###########################\n",
      "##############################\n",
      "###########################\n",
      "############################\n"
     ]
    }
   ],
   "source": [
    "hist([random.vonmisesvariate(5, 0.3) for _ in range(1000)], **std_hist_settings)"
   ]
  },
  {
   "cell_type": "code",
   "execution_count": 100,
   "id": "6c4a7f79-c5c3-4d67-9e9f-7a6d065d8353",
   "metadata": {},
   "outputs": [
    {
     "name": "stdout",
     "output_type": "stream",
     "text": [
      "\n",
      "#######\n",
      "##################\n",
      "####################\n",
      "########################\n",
      "##############################\n",
      "############################\n",
      "############################\n",
      "#################\n",
      "###############\n",
      "##########\n",
      "#######\n",
      "##\n",
      "##\n",
      "#\n"
     ]
    }
   ],
   "source": [
    "hist([random.weibullvariate(5, 2) for _ in range(1000)], **std_hist_settings)"
   ]
  },
  {
   "cell_type": "markdown",
   "id": "c6f83293-0622-49dc-9525-345d3e6b2db8",
   "metadata": {},
   "source": [
    "Por fim temos funções que agem em coleções, como listas. \n",
    "\n",
    "`random.choice` escolhe um número aleatório de uma lista."
   ]
  },
  {
   "cell_type": "code",
   "execution_count": 101,
   "id": "1529f922-8b3c-41e1-b608-e49e4c9bb194",
   "metadata": {},
   "outputs": [
    {
     "data": {
      "text/plain": [
       "'d'"
      ]
     },
     "execution_count": 101,
     "metadata": {},
     "output_type": "execute_result"
    }
   ],
   "source": [
    "alfabeto = \"abcdefghijklmnopqrstuvwxyz\"\n",
    "random.choice(alfabeto)"
   ]
  },
  {
   "cell_type": "markdown",
   "id": "e73cec23-a458-4053-977a-00bafb320fde",
   "metadata": {},
   "source": [
    "`random.choices` faz o mesmo, mas aceita uma um número de elementos a serem escolhidos e um peso para eles, permitindo que você varie de uma distribuição homogênea para uma normal, por exemplo. As escolhas são feitas com reposição."
   ]
  },
  {
   "cell_type": "code",
   "execution_count": 102,
   "id": "3186bb06-ef60-4fed-a3fd-ddf0467edd8b",
   "metadata": {},
   "outputs": [
    {
     "data": {
      "text/plain": [
       "['u', 'z', 'x', 'l', 'l']"
      ]
     },
     "execution_count": 102,
     "metadata": {},
     "output_type": "execute_result"
    }
   ],
   "source": [
    "random.choices(alfabeto, k=5)"
   ]
  },
  {
   "cell_type": "markdown",
   "id": "c9ba5c6c-1ad7-4380-b17b-6b45877dfae8",
   "metadata": {},
   "source": [
    "`random.sample` faz o mesmo que `random.choices`, mas não há reposição. Não dá a opção de colocar pesos aos números, mas é possível atribuir uma contagem à eles."
   ]
  },
  {
   "cell_type": "code",
   "execution_count": 103,
   "id": "2357a60e-5810-4e4f-89b2-50fbae289432",
   "metadata": {},
   "outputs": [
    {
     "data": {
      "text/plain": [
       "['i', 'r', 'l', 'z', 'a']"
      ]
     },
     "execution_count": 103,
     "metadata": {},
     "output_type": "execute_result"
    }
   ],
   "source": [
    "random.sample(alfabeto, k=5)"
   ]
  },
  {
   "cell_type": "markdown",
   "id": "89fa2c4b-b037-42b0-a2c8-70477090c9ad",
   "metadata": {},
   "source": [
    "Por fim, temos `random.shuffle`, que aleatoriza uma lista *in-place*."
   ]
  },
  {
   "cell_type": "code",
   "execution_count": 104,
   "id": "a6a4ef90-3f73-4287-8535-0eb6aedf4cc0",
   "metadata": {},
   "outputs": [
    {
     "data": {
      "text/plain": [
       "[10, 5, 'Q', 'A', 'J', 8, 7, 'K', 9, 6, 3, 4, 2]"
      ]
     },
     "execution_count": 104,
     "metadata": {},
     "output_type": "execute_result"
    }
   ],
   "source": [
    "cartas = [\"A\", \"K\", \"Q\", \"J\", *range(10, 1, -1)]\n",
    "random.shuffle(cartas)\n",
    "cartas"
   ]
  },
  {
   "cell_type": "markdown",
   "id": "287dc5b7-e008-4a01-ad64-dc17ff1762c3",
   "metadata": {},
   "source": [
    "(sec:biblio_statistics)=\n",
    "### `statistics`\n",
    "\n",
    "[Link da documentação oficial](https://docs.python.org/3/library/statistics.html)\n",
    "\n",
    "Esse módulo contém funções típicas de estatística, como médias, medianas, modas, quartis, desvio padrão e variância populacional e amostral, covariância e regressão linear, que funcionam com `Decimal` e `Fraction` também, e um objeto que representa uma distribuição normal, que lhe dá acesso a, por exemplo, as distribuições cumulativas. Vejamos alguns exemplos"
   ]
  },
  {
   "cell_type": "code",
   "execution_count": 105,
   "id": "1ab9c029-7821-4d78-939f-8645e8ac02f3",
   "metadata": {},
   "outputs": [],
   "source": [
    "nums = [random.normalvariate(mu=20, sigma=3) for _ in range(501)]\n",
    "nums2 = nums + [random.normalvariate(mu=60, sigma=0.1) for _ in range(11)]\n",
    "nums.sort()\n",
    "nums2.sort()"
   ]
  },
  {
   "cell_type": "code",
   "execution_count": 106,
   "id": "b66edc99-bdbd-4cce-9b9a-ad130c1122f5",
   "metadata": {},
   "outputs": [
    {
     "data": {
      "text/plain": [
       "(20.06009111822098, 20.919274992954882, 19.960371193203727, 20.013928403308764)"
      ]
     },
     "execution_count": 106,
     "metadata": {},
     "output_type": "execute_result"
    }
   ],
   "source": [
    "import statistics\n",
    "\n",
    "statistics.mean(nums), statistics.mean(nums2), statistics.median(\n",
    "    nums\n",
    "), statistics.median(nums2)"
   ]
  },
  {
   "cell_type": "markdown",
   "id": "0aa701cf-d0ed-4bae-a6c1-1624f307d96c",
   "metadata": {},
   "source": [
    "Veja neste exemplo como a média foi mais afetada pelos outliers presentes em `nums2` que a mediana, o que é o esperado. A mediana é um número da amostra, se ela tem um número ímpar de valores, ou a média entre os dois valores vizinhos ao \"centro\". Note que é **preciso** aplicar `sort` nas listas senão os valores obtidos são errôneos."
   ]
  },
  {
   "cell_type": "code",
   "execution_count": 107,
   "id": "2ad531c3-e0f0-428d-ad3d-d8dad436198d",
   "metadata": {},
   "outputs": [
    {
     "data": {
      "text/plain": [
       "(True, 250, False)"
      ]
     },
     "execution_count": 107,
     "metadata": {},
     "output_type": "execute_result"
    }
   ],
   "source": [
    "statistics.median(nums) in nums, nums.index(statistics.median(nums)), statistics.median(\n",
    "    nums2\n",
    ") in nums2"
   ]
  },
  {
   "cell_type": "markdown",
   "id": "88a4fc3a-a2f3-496f-895b-7d63a28009a3",
   "metadata": {},
   "source": [
    "Vemos que a mediana está precisamente no ponto central de `nums`, que tem 501 membros. Mas em `nums2`, isso não é mais válido, pois tem 512 membros.\n",
    "\n",
    "Além dessas médias e medianas, temos:"
   ]
  },
  {
   "cell_type": "code",
   "execution_count": 108,
   "id": "d57114a0-aad4-4328-9788-aa85ba73ad8c",
   "metadata": {},
   "outputs": [
    {
     "data": {
      "text/plain": [
       "(19.820076973785806, 19.571595887277308, 20.009028973647638, 20.01882783296989)"
      ]
     },
     "execution_count": 108,
     "metadata": {},
     "output_type": "execute_result"
    }
   ],
   "source": [
    "(\n",
    "    statistics.geometric_mean(nums),\n",
    "    statistics.harmonic_mean(nums),\n",
    "    statistics.median_low(nums2),\n",
    "    statistics.median_high(nums2),\n",
    ")"
   ]
  },
  {
   "cell_type": "markdown",
   "id": "a117c2b4-0701-4078-9aed-2cb5d7b4aae2",
   "metadata": {},
   "source": [
    "`statistics.median_low` e `statistics.median_high` não fazem a interpolação e retornam o número à esquerda do ponto central (ou à direita), logo seus valores estão presentes nas listas."
   ]
  },
  {
   "cell_type": "code",
   "execution_count": 109,
   "id": "e5ba25dd-c245-443c-a9a4-91d53ff03fe3",
   "metadata": {},
   "outputs": [
    {
     "data": {
      "text/plain": [
       "(True, True)"
      ]
     },
     "execution_count": 109,
     "metadata": {},
     "output_type": "execute_result"
    }
   ],
   "source": [
    "statistics.median_low(nums2) in nums2, statistics.median_high(nums2) in nums2"
   ]
  },
  {
   "cell_type": "markdown",
   "id": "76c502ef-209a-43f5-9b72-9890b760d8df",
   "metadata": {},
   "source": [
    "Podemos subdividir mais ainda uma distribuição com os quantis, `os.quantiles`. O número de divisões pode ser controlada por `n`. Se selecionarmos `n=4`, dividiremos os valores em quatro quantis (chamados quartis) e a função irá retornar os pontos que delimitam os quarnis."
   ]
  },
  {
   "cell_type": "code",
   "execution_count": 110,
   "id": "34ce0504-3ef0-4e7c-8218-1a2172421615",
   "metadata": {},
   "outputs": [
    {
     "data": {
      "text/plain": [
       "[18.09621896301291, 19.960371193203727, 22.12044843049467]"
      ]
     },
     "execution_count": 110,
     "metadata": {},
     "output_type": "execute_result"
    }
   ],
   "source": [
    "statistics.quantiles(nums, n=4)"
   ]
  },
  {
   "cell_type": "markdown",
   "id": "771a081c-7abf-4d95-a915-a443f3e83fc5",
   "metadata": {},
   "source": [
    "Podemos verificar que, neste caso, o segundo quartil é igual à mediana."
   ]
  },
  {
   "cell_type": "code",
   "execution_count": 111,
   "id": "984d9ac8-a8b2-4a20-979f-ad0dad640be1",
   "metadata": {},
   "outputs": [
    {
     "data": {
      "text/plain": [
       "True"
      ]
     },
     "execution_count": 111,
     "metadata": {},
     "output_type": "execute_result"
    }
   ],
   "source": [
    "statistics.quantiles(nums, n=4)[1] == statistics.median(nums)"
   ]
  },
  {
   "cell_type": "markdown",
   "id": "593f3b3b-dd90-43ee-b4a8-97ebb2a34eab",
   "metadata": {},
   "source": [
    "Como medidas de largura de distribuição, temos `pstdev` e `stdev` e suas variâncias."
   ]
  },
  {
   "cell_type": "code",
   "execution_count": 112,
   "id": "8ac4ec76-fea2-42fb-be3f-c4e5df44b55e",
   "metadata": {},
   "outputs": [
    {
     "data": {
      "text/plain": [
       "(3.066527016270046, 3.0695920115541573)"
      ]
     },
     "execution_count": 112,
     "metadata": {},
     "output_type": "execute_result"
    }
   ],
   "source": [
    "statistics.pstdev(nums), statistics.stdev(nums)"
   ]
  },
  {
   "cell_type": "markdown",
   "id": "583a19c3-c0bb-4d9a-9451-66569eff4fce",
   "metadata": {},
   "source": [
    "Para correlação temos `statistics.correlation`, que computa o coeficiente de correlação de Pearson."
   ]
  },
  {
   "cell_type": "code",
   "execution_count": 113,
   "id": "188fb19c-1f9c-4adf-86e5-1eeaec98e1ad",
   "metadata": {},
   "outputs": [
    {
     "name": "stdout",
     "output_type": "stream",
     "text": [
      "statistics.correlation(XX, YY1)=1.0\n",
      "statistics.correlation(XX, YY1_noise)=0.9965574836686486\n",
      "statistics.correlation(XX, YY2)=-0.19104017997521752\n",
      "statistics.correlation(XX, YY2_noise)=-0.20142111266073892\n"
     ]
    }
   ],
   "source": [
    "XX = list(range(-10, 10))\n",
    "YY1 = [i * 3 + 5 for i in XX]\n",
    "YY2 = [i**2 * 3 + 5 for i in XX]\n",
    "porc_ruido = 0.15\n",
    "YY1_noise = [i * random.uniform(1 - porc_ruido, 1 + porc_ruido) for i in YY1]\n",
    "YY2_noise = [i * random.uniform(1 - porc_ruido, 1 + porc_ruido) for i in YY2]\n",
    "\n",
    "print(\n",
    "    f\"{statistics.correlation(XX, YY1)=}\",\n",
    "    f\"{statistics.correlation(XX, YY1_noise)=}\",\n",
    "    f\"{statistics.correlation(XX, YY2)=}\",\n",
    "    f\"{statistics.correlation(XX, YY2_noise)=}\",\n",
    "    sep=\"\\n\",\n",
    ")"
   ]
  },
  {
   "cell_type": "markdown",
   "id": "1dbca3cc-6195-4c67-823e-7e53de293cac",
   "metadata": {},
   "source": [
    "Vemos que a correlação é perfeita para o primeiro dado, é menor quando há um ruído embutido, e fica menor ainda quando a função não é nada linear. Podemos obter também a regressão linear com `statistics.linear_regression`. Isso retorna um objeto `LinearRegression` e podemos acessar suas propriedades como usualmente."
   ]
  },
  {
   "cell_type": "code",
   "execution_count": 114,
   "id": "562792de-6b81-4131-8e05-462314c5f9ab",
   "metadata": {},
   "outputs": [
    {
     "data": {
      "text/plain": [
       "(LinearRegression(slope=3.0, intercept=5.0),\n",
       " LinearRegression(slope=3.0572121277952604, intercept=5.26796872156766))"
      ]
     },
     "execution_count": 114,
     "metadata": {},
     "output_type": "execute_result"
    }
   ],
   "source": [
    "(\n",
    "    statistics.linear_regression(XX, YY1),\n",
    "    statistics.linear_regression(XX, YY1_noise),\n",
    ")"
   ]
  },
  {
   "cell_type": "markdown",
   "id": "755f8f47-e970-4ed0-85e6-413513f5992c",
   "metadata": {},
   "source": [
    "Podemos ver que, com a presença de ruído, o ajuste fica bastante alterado."
   ]
  },
  {
   "cell_type": "markdown",
   "id": "5142a7dd-5248-443e-ad05-93a1e35a624e",
   "metadata": {},
   "source": [
    "Por fim, a distribuição normal."
   ]
  },
  {
   "cell_type": "code",
   "execution_count": 115,
   "id": "f5a5eddc-49c8-4a7e-932e-8d4673c39d1c",
   "metadata": {},
   "outputs": [],
   "source": [
    "norm = statistics.NormalDist(mu=0, sigma=1)"
   ]
  },
  {
   "cell_type": "markdown",
   "id": "bd6bfac3-4b93-4e20-8ba6-a42a484249d9",
   "metadata": {},
   "source": [
    "Podemos visualizar a função de densidade de probabilidade, a função distribuição cumulativa, a inversa da função de distribuição cumulativa com os métodos `.pdf`, `.cdf` e `.inv_cdf`.\n",
    "\n",
    "`.pdf` retorna a densidade de probabilidade do número fornecido. No caso de uma curva normal padronizada (média 0, desvio 1), o valor máximo é em $z=0$ e decai simétricamente ao redor disso."
   ]
  },
  {
   "cell_type": "code",
   "execution_count": 116,
   "id": "42aac0f6-d2b3-4bd6-854b-8b9839dfae32",
   "metadata": {},
   "outputs": [
    {
     "data": {
      "text/plain": [
       "(0.0044318484119380075,\n",
       " 0.05399096651318806,\n",
       " 0.24197072451914337,\n",
       " 0.3989422804014327,\n",
       " 0.24197072451914337,\n",
       " 0.05399096651318806,\n",
       " 0.0044318484119380075)"
      ]
     },
     "execution_count": 116,
     "metadata": {},
     "output_type": "execute_result"
    }
   ],
   "source": [
    "norm.pdf(-3), norm.pdf(-2), norm.pdf(-1), norm.pdf(0), norm.pdf(1), norm.pdf(\n",
    "    2\n",
    "), norm.pdf(3)"
   ]
  },
  {
   "cell_type": "markdown",
   "id": "6f326307-79b3-4029-9f46-248cd0a54d82",
   "metadata": {},
   "source": [
    "`.cdf` retorna a integral de menos infinito até o ponto fornecido. No caso de uma curva normal padronizada, como é simétrica, esse valor é meio em 0. Os valores tradicionais de 5% do intervalo de confiança, considerando um intervalo bicaudal (2,5% para cada lado), ocorrem em -1,96 e 1,96."
   ]
  },
  {
   "cell_type": "code",
   "execution_count": 117,
   "id": "590e308c-19e1-4200-ab16-093989aa77f2",
   "metadata": {},
   "outputs": [
    {
     "data": {
      "text/plain": [
       "(0.5, 0.024997895148220373, 0.9750021048517796)"
      ]
     },
     "execution_count": 117,
     "metadata": {},
     "output_type": "execute_result"
    }
   ],
   "source": [
    "norm.cdf(0), norm.cdf(-1.96), norm.cdf(1.96)"
   ]
  },
  {
   "cell_type": "markdown",
   "id": "8b3ef2d6-8020-44b0-ab4e-b419a7c31abe",
   "metadata": {},
   "source": [
    "`.inv_cdf` retorna o valor de $z$ para encontrar a área requisitada. Note a relação dos valores dessas duas células."
   ]
  },
  {
   "cell_type": "code",
   "execution_count": 118,
   "id": "0a8986fd-ac12-4d58-8245-e431eee774dc",
   "metadata": {},
   "outputs": [
    {
     "data": {
      "text/plain": [
       "(0.0, -1.9599639845400538, 1.9599639845400536)"
      ]
     },
     "execution_count": 118,
     "metadata": {},
     "output_type": "execute_result"
    }
   ],
   "source": [
    "norm.inv_cdf(0.5), norm.inv_cdf(0.025), norm.inv_cdf(0.975)"
   ]
  },
  {
   "cell_type": "markdown",
   "id": "c12dee5d-bf16-4982-8357-5958dad61692",
   "metadata": {},
   "source": [
    "Se quiser normalizar um valor para a sua curva normal utilizada, pode utilizar `zscore`. Como `norm` aqui é padronizada, `zscore` retorna o valor fornecido."
   ]
  },
  {
   "cell_type": "code",
   "execution_count": 119,
   "id": "af967610-114a-4dee-b97c-d7aacb41816c",
   "metadata": {},
   "outputs": [
    {
     "data": {
      "text/plain": [
       "3.0"
      ]
     },
     "execution_count": 119,
     "metadata": {},
     "output_type": "execute_result"
    }
   ],
   "source": [
    "norm.zscore(3)"
   ]
  },
  {
   "cell_type": "markdown",
   "id": "718c83a2-5764-4d75-817e-75fb18ead868",
   "metadata": {},
   "source": [
    "Por fim, podemos computar a sobreposição de duas curvas normais com `.overlap`."
   ]
  },
  {
   "cell_type": "code",
   "execution_count": 120,
   "id": "9decf040-e524-4ddc-8d05-61efedd4aa39",
   "metadata": {},
   "outputs": [
    {
     "data": {
      "text/plain": [
       "(1.0, 0.960122388323255, 0.960122388323255, 0.7263386976487619)"
      ]
     },
     "execution_count": 120,
     "metadata": {},
     "output_type": "execute_result"
    }
   ],
   "source": [
    "(\n",
    "    norm.overlap(norm),\n",
    "    norm.overlap(statistics.NormalDist(0.1)),\n",
    "    norm.overlap(statistics.NormalDist(-0.1)),\n",
    "    norm.overlap(statistics.NormalDist(-0.7)),\n",
    ")"
   ]
  },
  {
   "cell_type": "markdown",
   "id": "2767525e-194d-476f-a4c3-d8020a54083f",
   "metadata": {},
   "source": [
    "## Funções que lidam com tempo"
   ]
  },
  {
   "cell_type": "markdown",
   "id": "8fcfa654-0d12-42e1-bc34-930e252663fb",
   "metadata": {},
   "source": [
    "### `time`\n",
    "\n",
    "[Link da documentação oficial](https://docs.python.org/3/library/time.html)\n",
    "\n",
    "Essa biblioteca possui funções, como você deve imaginar, relacionadas a tempo. Irei mostrar somente algumas funções mais comumente utilizadas, mas sinta-se livre para explorar a documentação. Na área de computação, o tempo começa em primeiro de janeiro de 1970, meia noite, [UTC](https://en.wikipedia.org/wiki/Coordinated_Universal_Time), por razões que você pode encontrar [aqui](https://stackoverflow.com/questions/1090869/why-is-1-1-1970-the-epoch-time) e [aqui](https://en.wikipedia.org/wiki/Unix_time), e isso é chamado de *epoch*."
   ]
  },
  {
   "cell_type": "code",
   "execution_count": 121,
   "id": "a0a2cb3f-d8cf-4cfa-8e3b-3f47bad06651",
   "metadata": {},
   "outputs": [],
   "source": [
    "import time"
   ]
  },
  {
   "cell_type": "markdown",
   "id": "973d0d99-a770-4efe-83c1-eb53a3ce8d09",
   "metadata": {},
   "source": [
    "#### Tempo, dia, ano, structs e strings"
   ]
  },
  {
   "cell_type": "markdown",
   "id": "b01b4b2b-a7dd-48a9-91ed-5b61062a084a",
   "metadata": {},
   "source": [
    "Primeiramente, `time.time` retorna o número de segundos desde o *epoch*."
   ]
  },
  {
   "cell_type": "code",
   "execution_count": 122,
   "id": "291fd394-c5a7-4efe-b81f-17e29571a94a",
   "metadata": {},
   "outputs": [
    {
     "data": {
      "text/plain": [
       "1688757508.8576503"
      ]
     },
     "execution_count": 122,
     "metadata": {},
     "output_type": "execute_result"
    }
   ],
   "source": [
    "time.time()"
   ]
  },
  {
   "cell_type": "markdown",
   "id": "cb601f12-ecb4-46b5-b297-51965ed6e47d",
   "metadata": {},
   "source": [
    "`time.ctime` retorna uma representação legível do número de segundos desde o *epoch*,  fornecido à função. Se vc fornecer `None`, essa função retorna a data atual (equivalente a fornecer `time.time()`)."
   ]
  },
  {
   "cell_type": "code",
   "execution_count": 123,
   "id": "05f99ff1-1b1a-4fca-890f-3ce4427ab4ff",
   "metadata": {},
   "outputs": [
    {
     "data": {
      "text/plain": [
       "'Fri Jul  7 16:18:28 2023'"
      ]
     },
     "execution_count": 123,
     "metadata": {},
     "output_type": "execute_result"
    }
   ],
   "source": [
    "time.ctime(None)"
   ]
  },
  {
   "cell_type": "markdown",
   "id": "04bb4281-0364-407b-aa34-e3046eaab464",
   "metadata": {},
   "source": [
    "Se você quer algo mais estruturado, pode utilizar `time.gmtime`. Isso retorna um `time.struct_time`, que tem campos para ano, mês, etc, referente à UTC."
   ]
  },
  {
   "cell_type": "code",
   "execution_count": 124,
   "id": "9e847055-32c4-4473-a9d0-e196feb6f802",
   "metadata": {},
   "outputs": [
    {
     "data": {
      "text/plain": [
       "time.struct_time(tm_year=2023, tm_mon=7, tm_mday=7, tm_hour=19, tm_min=18, tm_sec=28, tm_wday=4, tm_yday=188, tm_isdst=0)"
      ]
     },
     "execution_count": 124,
     "metadata": {},
     "output_type": "execute_result"
    }
   ],
   "source": [
    "time.gmtime(None)"
   ]
  },
  {
   "cell_type": "markdown",
   "id": "98571f44-2126-4cb4-8b26-85af1fe33817",
   "metadata": {},
   "source": [
    "O equivalente para tempo local é `time.localtime`."
   ]
  },
  {
   "cell_type": "code",
   "execution_count": 125,
   "id": "4680994c-944d-41e5-a891-796a65cc28d8",
   "metadata": {},
   "outputs": [
    {
     "data": {
      "text/plain": [
       "time.struct_time(tm_year=2023, tm_mon=7, tm_mday=7, tm_hour=16, tm_min=18, tm_sec=28, tm_wday=4, tm_yday=188, tm_isdst=0)"
      ]
     },
     "execution_count": 125,
     "metadata": {},
     "output_type": "execute_result"
    }
   ],
   "source": [
    "time.localtime(None)"
   ]
  },
  {
   "cell_type": "markdown",
   "id": "6ee7f31a-4e46-427f-9334-0d51b3ead6d7",
   "metadata": {},
   "source": [
    "Se você quiser especificar uma data customizada, pode utiliazr `time.strftime`. Isso aceita uma string de formatação e um `time.struct_time` e retorna a string formatada. Essa função é dependente do seu *locale*, um conjunto de configurações de linguagem e representação da sua região geográfica. Por exemplo, ao invés de `Mon`, essa função retornaria `Seg` para uma segunda-feira.\n",
    "\n",
    "A string de formatação contém muitos símbolos, e é mais fácil você ver na documentação oficial a lista inteira. Os que eu acho mais comuns são:\n",
    "\n",
    "* `%y%` e `%Y` especificam o ano, sem e com o século.\n",
    "* `%m` especifica o número do mês como número\n",
    "* `%b` e `%B` especifica o nome do mês, abreviado ou por extenso.\n",
    "* `%a` e `%A` especifica o nome do dia da semana, abreviado ou por extenso.\n",
    "* `%w` especifica o número do dia, 0 sendo domingo e 6 sábado.\n",
    "* `%d` especifica o dia do mês como um número\n",
    "* `%H` especifica a hora no formato de 24h.\n",
    "* `%M` especifica o minuto\n",
    "* `%S` especifica o segundo\n",
    "\n",
    "Suponha que desejamos reproduzir o algo similar ao *output* de `ctime`. Podemos utilizar o seguinte:\n",
    "\n",
    "`%a %b %d %H:%M:%S %Y`\n",
    "\n",
    "Vamos testar"
   ]
  },
  {
   "cell_type": "code",
   "execution_count": 126,
   "id": "2052fa39-f5bc-4941-adf3-c22f38b76f52",
   "metadata": {},
   "outputs": [
    {
     "data": {
      "text/plain": [
       "'Fri Jul 07 16:18:28 2023'"
      ]
     },
     "execution_count": 126,
     "metadata": {},
     "output_type": "execute_result"
    }
   ],
   "source": [
    "padrão = \"%a %b %d %H:%M:%S %Y\"\n",
    "out = time.strftime(padrão, time.localtime(None))\n",
    "out"
   ]
  },
  {
   "cell_type": "markdown",
   "id": "3b731dee-b680-49b4-9d57-0f0ac2ce0265",
   "metadata": {},
   "source": [
    "O inverso, converter de uma string para um `time.struct_time`, pode ser feito por `time.strptime`. Se há valores que não puderam ser encontrados, receberão um valor padrão."
   ]
  },
  {
   "cell_type": "code",
   "execution_count": 127,
   "id": "8a16d537-66d6-4594-ad57-31c3509abd18",
   "metadata": {},
   "outputs": [
    {
     "data": {
      "text/plain": [
       "time.struct_time(tm_year=2023, tm_mon=7, tm_mday=7, tm_hour=16, tm_min=18, tm_sec=28, tm_wday=4, tm_yday=188, tm_isdst=-1)"
      ]
     },
     "execution_count": 127,
     "metadata": {},
     "output_type": "execute_result"
    }
   ],
   "source": [
    "time.strptime(out, padrão)"
   ]
  },
  {
   "cell_type": "markdown",
   "id": "ad114a08-b6b9-4a03-bbe6-ce5133bd79e2",
   "metadata": {},
   "source": [
    "Por fim, você pode criar um `time.struct_time` diretamente, mas você precisa fornecer 9 elementos, inclusive o dia da semana e dia do ano, então é um tanto inconveniente."
   ]
  },
  {
   "cell_type": "markdown",
   "id": "7df1b7a4-4b36-40f3-8c87-0285b84bdea1",
   "metadata": {},
   "source": [
    "#### Contagem de tempo/performance\n",
    "\n",
    "Se você está testando algoritmos para fazer uma tarefa, você provavelmente irá querer ver quanto tempo eles demoram em executar. Para isso, podemos utilizar duas funções, `time.time` e `time.perf_counter`. O primeiro já vimos, mas o segundo é mais recomendado para situações onde precisão é necessária. Essa função retorna um número em segundos, e somente o delta de dois valores possui significado.\n",
    "\n",
    "Vamos ver quanto tempo a soma alguns números demora."
   ]
  },
  {
   "cell_type": "code",
   "execution_count": 128,
   "id": "ffe57fe1-16e8-40d3-8cde-0a485d4d67d2",
   "metadata": {},
   "outputs": [],
   "source": [
    "def f():\n",
    "    sum(list(range(100000)))"
   ]
  },
  {
   "cell_type": "code",
   "execution_count": 129,
   "id": "2d1ba0f3-acc2-4cbe-80fd-208293b87f93",
   "metadata": {},
   "outputs": [
    {
     "name": "stdout",
     "output_type": "stream",
     "text": [
      "Ação demorou 3.105499956291169 ms\n"
     ]
    }
   ],
   "source": [
    "início = time.perf_counter()\n",
    "f()\n",
    "fim = time.perf_counter()\n",
    "print(f\"Ação demorou {(fim - início)*1000} ms\")"
   ]
  },
  {
   "cell_type": "markdown",
   "id": "5ced37c5-9791-435e-a596-3d36a66c1213",
   "metadata": {},
   "source": [
    "Em ambientes ipython, como um jupyter notebook com kernel de ipython, ou um REPL ipython, temos acesso a uma série de \"magic commands\". Essas funções começam com um % e podem aceitar argumentos. Uma lista está disponível [aqui](https://ipython.readthedocs.io/en/stable/interactive/magics.html). Uma função bastante conveniente para o que queremos fazer é `%timeit`, que executa uma ação várias vezes e obtém uma média e desvio padrão do tempo de execução."
   ]
  },
  {
   "cell_type": "code",
   "execution_count": 130,
   "id": "06b83172-6078-47e0-bbb4-b325b4b486af",
   "metadata": {},
   "outputs": [
    {
     "name": "stdout",
     "output_type": "stream",
     "text": [
      "3.27 ms ± 454 µs per loop (mean ± std. dev. of 7 runs, 100 loops each)\n"
     ]
    }
   ],
   "source": [
    "%timeit f()"
   ]
  },
  {
   "cell_type": "markdown",
   "id": "1cb9b528-c1a5-45d3-b080-f69f8733d316",
   "metadata": {},
   "source": [
    "#### Fazer nada\n",
    "\n",
    "De vez em quando, você quer que o programa não faça nada por um tempo específico. Para isso, temos `time.sleep`. O valor fornecido é em segundos, e pode ser um `float`, para maior precisão. Se você quiser sair de um `time.sleep` prematuramente, faça o mesmo que qualquer outra computação, como `Ctrl-C` no terminal/REPL e a interrupção do Kernel no jupyter lab."
   ]
  },
  {
   "cell_type": "code",
   "execution_count": 131,
   "id": "ab184c17-abd4-4e0b-85d8-9dc637ecae19",
   "metadata": {},
   "outputs": [],
   "source": [
    "time.sleep(1)"
   ]
  },
  {
   "cell_type": "markdown",
   "id": "efbe61a9-b6a0-490b-8906-4a70d834b18e",
   "metadata": {},
   "source": [
    "(sec:datetime)=\n",
    "### `datetime`\n",
    "\n",
    "[Link da documentação oficial](https://docs.python.org/3/library/datetime.html)\n",
    "\n",
    "Esse módulo, diferente de `time`, lida com manipulação de datas e horas, ao invés de se limitar a contagem de tempo e representação em strings. Os objetos podem ter informações sobre fusos horários. Existem quatro tipos de tempo:\n",
    "\n",
    "* `datetime.date`, que representa uma data no calendário gregoriano, e possui um ano, mês e dia.\n",
    "* `datetime.time`, que representa um tempo independente de um dia, e tem horas, minutos, segundos, microsegundos e pode ter informação de fuso horário\n",
    "* `datetime.datetime`, que junta os dois tipos anteriores\n",
    "* `datetime.timedelta`, que é o resultado de uma diferença entre qualquer um dos tipos anteriores.\n",
    "\n",
    "Além disso tem dois objetos que guardam informações de fuso horário, `datetime.tzinfo` e `datetime.timezone`."
   ]
  },
  {
   "cell_type": "code",
   "execution_count": 132,
   "id": "2bde3d1e-299a-49fb-8421-cb5a8dae5e8c",
   "metadata": {},
   "outputs": [],
   "source": [
    "import datetime"
   ]
  },
  {
   "cell_type": "markdown",
   "id": "b154fb29-57d3-4ee1-b86a-8b22391d56de",
   "metadata": {},
   "source": [
    "#### `datetime.date`\n",
    "\n",
    "Para criar uma data, podemos especificar uma data arbitrária:"
   ]
  },
  {
   "cell_type": "code",
   "execution_count": 133,
   "id": "d27a2d10-163b-474e-afa3-44a53f0b2c27",
   "metadata": {},
   "outputs": [
    {
     "data": {
      "text/plain": [
       "datetime.date(2019, 5, 30)"
      ]
     },
     "execution_count": 133,
     "metadata": {},
     "output_type": "execute_result"
    }
   ],
   "source": [
    "d1 = datetime.date(2019, 5, 30)\n",
    "d1"
   ]
  },
  {
   "cell_type": "markdown",
   "id": "6a7fd9c0-8f7d-4c65-a61f-061f90da455a",
   "metadata": {},
   "source": [
    "Ou o dia de hoje"
   ]
  },
  {
   "cell_type": "code",
   "execution_count": 134,
   "id": "1ec3d8a7-5275-4493-a4d8-44ccd62c471e",
   "metadata": {},
   "outputs": [
    {
     "data": {
      "text/plain": [
       "datetime.date(2023, 7, 7)"
      ]
     },
     "execution_count": 134,
     "metadata": {},
     "output_type": "execute_result"
    }
   ],
   "source": [
    "d2 = datetime.date.today()\n",
    "d2"
   ]
  },
  {
   "cell_type": "markdown",
   "id": "70230c02-fd62-4d80-b08b-1082848f5233",
   "metadata": {},
   "source": [
    "Podemos criar um também por uma string contendo uma data, no formado ISO8601"
   ]
  },
  {
   "cell_type": "code",
   "execution_count": 135,
   "id": "980a10ec-378b-4982-898a-8910c7fcc8a2",
   "metadata": {},
   "outputs": [
    {
     "data": {
      "text/plain": [
       "datetime.date(2019, 5, 30)"
      ]
     },
     "execution_count": 135,
     "metadata": {},
     "output_type": "execute_result"
    }
   ],
   "source": [
    "datetime.date.fromisoformat(\"2019-05-30\")"
   ]
  },
  {
   "cell_type": "markdown",
   "id": "bbcd615b-64e0-4441-b161-d3d713ea2c5c",
   "metadata": {},
   "source": [
    "Podemos obter os campos de `datetime.date` com:"
   ]
  },
  {
   "cell_type": "code",
   "execution_count": 136,
   "id": "c2af0ef1-5cf3-4092-9d79-1b24005bf8dc",
   "metadata": {},
   "outputs": [
    {
     "data": {
      "text/plain": [
       "(2019, 5, 30)"
      ]
     },
     "execution_count": 136,
     "metadata": {},
     "output_type": "execute_result"
    }
   ],
   "source": [
    "d1.year, d1.month, d1.day"
   ]
  },
  {
   "cell_type": "markdown",
   "id": "c5f8d284-2292-4e7d-ace7-a76756434fc1",
   "metadata": {},
   "source": [
    "Mas não podemos substituir os campos; para isso usamos `replace` para criar um novo `datetime.date` com o campo específico alterado."
   ]
  },
  {
   "cell_type": "code",
   "execution_count": 137,
   "id": "2cd19217-20f2-46c0-8b6e-902c85ea5d25",
   "metadata": {},
   "outputs": [
    {
     "data": {
      "text/plain": [
       "datetime.date(1995, 5, 30)"
      ]
     },
     "execution_count": 137,
     "metadata": {},
     "output_type": "execute_result"
    }
   ],
   "source": [
    "d1.replace(year=1995)"
   ]
  },
  {
   "cell_type": "markdown",
   "id": "5dddc3f5-8d2c-4b73-852e-6c78da057584",
   "metadata": {},
   "source": [
    "E podemos obter o dia da semana com `.weekday`, mas neste caso segunda é 0 e domingo é 6. `.isoweekday` muda para segunda sendo 1 e domingo sendo 7."
   ]
  },
  {
   "cell_type": "code",
   "execution_count": 138,
   "id": "9f265d7f-f1e6-4bbe-92f6-c6e01e5b0018",
   "metadata": {},
   "outputs": [
    {
     "data": {
      "text/plain": [
       "3"
      ]
     },
     "execution_count": 138,
     "metadata": {},
     "output_type": "execute_result"
    }
   ],
   "source": [
    "d1.weekday()"
   ]
  },
  {
   "cell_type": "markdown",
   "id": "6d97c536-878a-4a4a-9ae5-1b35099db861",
   "metadata": {},
   "source": [
    "Podemos alterar a forma de representação com `.strftime` e um padrão"
   ]
  },
  {
   "cell_type": "code",
   "execution_count": 139,
   "id": "66d31f93-27ce-426e-b811-772a912d6e22",
   "metadata": {},
   "outputs": [
    {
     "data": {
      "text/plain": [
       "'Thu May 30 00:00:00 2019'"
      ]
     },
     "execution_count": 139,
     "metadata": {},
     "output_type": "execute_result"
    }
   ],
   "source": [
    "d1.strftime(padrão)"
   ]
  },
  {
   "cell_type": "markdown",
   "id": "7127956a-c420-42a4-a89d-4a16393b202a",
   "metadata": {},
   "source": [
    "Ou com `.isoformat`"
   ]
  },
  {
   "cell_type": "code",
   "execution_count": 140,
   "id": "ac2e519d-8020-4eaa-900b-16056d527c64",
   "metadata": {},
   "outputs": [
    {
     "data": {
      "text/plain": [
       "'2019-05-30'"
      ]
     },
     "execution_count": 140,
     "metadata": {},
     "output_type": "execute_result"
    }
   ],
   "source": [
    "d1.isoformat()"
   ]
  },
  {
   "cell_type": "markdown",
   "id": "78ac0de7-30dc-4b63-a9b0-8bbc6551ccb1",
   "metadata": {},
   "source": [
    "ou com `.ctime`, similar a `time.ctime`."
   ]
  },
  {
   "cell_type": "code",
   "execution_count": 141,
   "id": "b16783e5-38e8-47be-b406-40c9129d8f61",
   "metadata": {},
   "outputs": [
    {
     "data": {
      "text/plain": [
       "'Thu May 30 00:00:00 2019'"
      ]
     },
     "execution_count": 141,
     "metadata": {},
     "output_type": "execute_result"
    }
   ],
   "source": [
    "d1.ctime()"
   ]
  },
  {
   "cell_type": "markdown",
   "id": "c34416df-ae8b-4255-87f9-088ba7c4ad22",
   "metadata": {},
   "source": [
    "Se subtrairmos `datetime.date` do outro, obtemos um `timedelta`"
   ]
  },
  {
   "cell_type": "code",
   "execution_count": 142,
   "id": "6c0c579e-4233-478f-9f4d-07c62dc6fcfa",
   "metadata": {},
   "outputs": [
    {
     "data": {
      "text/plain": [
       "datetime.timedelta(days=1499)"
      ]
     },
     "execution_count": 142,
     "metadata": {},
     "output_type": "execute_result"
    }
   ],
   "source": [
    "d2 - d1"
   ]
  },
  {
   "cell_type": "markdown",
   "id": "b2d156e6-2178-4966-806a-c9e223e3a155",
   "metadata": {},
   "source": [
    "E podemos somar esse delta a um `date` para obter outro `date`."
   ]
  },
  {
   "cell_type": "code",
   "execution_count": 143,
   "id": "e1c095b9-a061-4036-9e5f-7e4f2f625b3a",
   "metadata": {},
   "outputs": [
    {
     "data": {
      "text/plain": [
       "True"
      ]
     },
     "execution_count": 143,
     "metadata": {},
     "output_type": "execute_result"
    }
   ],
   "source": [
    "(d1 + (d2 - d1)) == datetime.date.today()"
   ]
  },
  {
   "cell_type": "markdown",
   "id": "7425c7d2-21ba-4c36-83c4-e044fe42102a",
   "metadata": {},
   "source": [
    "Como mostrado antes temos a opção de comparar duas datas com `==`, mas também com `<` e `>` e equivalentes."
   ]
  },
  {
   "cell_type": "markdown",
   "id": "b477b7b1-3bd6-4a2d-ab7d-2bdb80a7b1b5",
   "metadata": {},
   "source": [
    "#### `datetime.time`\n",
    "\n",
    "Para criar um `datetime.time`, podemos utilizar:"
   ]
  },
  {
   "cell_type": "code",
   "execution_count": 144,
   "id": "4461dddc-d771-417f-9a15-a43f8bccf0c4",
   "metadata": {},
   "outputs": [
    {
     "data": {
      "text/plain": [
       "datetime.time(21, 58, 30)"
      ]
     },
     "execution_count": 144,
     "metadata": {},
     "output_type": "execute_result"
    }
   ],
   "source": [
    "t1 = datetime.time(21, 58, 30)\n",
    "t1"
   ]
  },
  {
   "cell_type": "markdown",
   "id": "53fbd646-47df-4ae6-8880-8d49ce4d3d49",
   "metadata": {},
   "source": [
    "A ordem dos argumentos é *hora*, *minuto*, *segundo*, *microsegundo* e *fuso horário*. Não irei mencionar fusos horários aqui por simplicidade.\n",
    "\n",
    "Podemos criar também por uma string no formato iso 8601"
   ]
  },
  {
   "cell_type": "code",
   "execution_count": 145,
   "id": "13ab2240-1b36-466d-a3a5-e1868e29e7b5",
   "metadata": {},
   "outputs": [
    {
     "data": {
      "text/plain": [
       "datetime.time(12, 58, 30)"
      ]
     },
     "execution_count": 145,
     "metadata": {},
     "output_type": "execute_result"
    }
   ],
   "source": [
    "t2 = datetime.time.fromisoformat(\"12:58:30\")\n",
    "t2"
   ]
  },
  {
   "cell_type": "markdown",
   "id": "1cb4d3fa-eeee-4a4d-ba5f-2cdbafc6f137",
   "metadata": {},
   "source": [
    "Como com `date`, podemos obter acesso aos campos com"
   ]
  },
  {
   "cell_type": "code",
   "execution_count": 146,
   "id": "dfb25ffc-3529-42f0-af1a-45850b07c35e",
   "metadata": {},
   "outputs": [
    {
     "data": {
      "text/plain": [
       "(21, 58, 30)"
      ]
     },
     "execution_count": 146,
     "metadata": {},
     "output_type": "execute_result"
    }
   ],
   "source": [
    "t1.hour, t1.minute, t1.second"
   ]
  },
  {
   "cell_type": "markdown",
   "id": "7a424c8a-ee17-491e-8d6a-1a2a62780e48",
   "metadata": {},
   "source": [
    "Mas não podemos modificá-los. Para isso, usamos `.replace`."
   ]
  },
  {
   "cell_type": "code",
   "execution_count": 147,
   "id": "e1e734f4-1873-45fe-bbba-2551441a4df8",
   "metadata": {},
   "outputs": [
    {
     "data": {
      "text/plain": [
       "datetime.time(12, 58, 30)"
      ]
     },
     "execution_count": 147,
     "metadata": {},
     "output_type": "execute_result"
    }
   ],
   "source": [
    "t1.replace(hour=12)"
   ]
  },
  {
   "cell_type": "markdown",
   "id": "be49ac6f-2d4c-4582-9c55-d474f0f554f8",
   "metadata": {},
   "source": [
    "Podemos representar um tempo com `.isoformat()`"
   ]
  },
  {
   "cell_type": "code",
   "execution_count": 148,
   "id": "992285c3-3261-42eb-8fda-0a840b1017cb",
   "metadata": {},
   "outputs": [
    {
     "data": {
      "text/plain": [
       "'21:58:30'"
      ]
     },
     "execution_count": 148,
     "metadata": {},
     "output_type": "execute_result"
    }
   ],
   "source": [
    "t1.isoformat()"
   ]
  },
  {
   "cell_type": "markdown",
   "id": "195509cb-1603-4a97-9440-2119755048c5",
   "metadata": {},
   "source": [
    "e com `strftime`"
   ]
  },
  {
   "cell_type": "code",
   "execution_count": 149,
   "id": "6c4027e8-853e-4ac6-a581-35a80919934e",
   "metadata": {},
   "outputs": [
    {
     "data": {
      "text/plain": [
       "'Mon Jan 01 21:58:30 1900'"
      ]
     },
     "execution_count": 149,
     "metadata": {},
     "output_type": "execute_result"
    }
   ],
   "source": [
    "t1.strftime(padrão)"
   ]
  },
  {
   "cell_type": "markdown",
   "id": "53e9130b-2135-4926-bd7f-822754811a73",
   "metadata": {},
   "source": [
    "Note que, como não temos informação sobre data, valoes \"padrão\" foram utilizados para dia, mês e ano."
   ]
  },
  {
   "cell_type": "markdown",
   "id": "be83716b-3c5a-44b8-89eb-fe49ab8602fc",
   "metadata": {},
   "source": [
    "Não podemos subtrair dois `datetime.time`, mas podemos compará-los"
   ]
  },
  {
   "cell_type": "code",
   "execution_count": 150,
   "id": "d8034b33-5f93-446a-9484-6292c5028f19",
   "metadata": {},
   "outputs": [
    {
     "data": {
      "text/plain": [
       "True"
      ]
     },
     "execution_count": 150,
     "metadata": {},
     "output_type": "execute_result"
    }
   ],
   "source": [
    "t1 > t2"
   ]
  },
  {
   "cell_type": "markdown",
   "id": "c6c00743-586f-4631-8f8c-8c4ca9fcc02e",
   "metadata": {},
   "source": [
    "#### `datetime.datetime`\n",
    "\n",
    "Um `datetime.datetime` representa a junção de datas e tempo. Para criar uma instância dessa, precisamos do ano, mês e dia, com os dados de tempo sendo opcionais e 0 por padrão. Informação sobre fuso horário também é relevante."
   ]
  },
  {
   "cell_type": "code",
   "execution_count": 151,
   "id": "c5e9c816-0438-44ee-b1fe-1cd70f5c7817",
   "metadata": {},
   "outputs": [
    {
     "data": {
      "text/plain": [
       "(datetime.datetime(2019, 1, 15, 0, 0),\n",
       " datetime.datetime(2019, 1, 15, 15, 12, 23))"
      ]
     },
     "execution_count": 151,
     "metadata": {},
     "output_type": "execute_result"
    }
   ],
   "source": [
    "dt1 = datetime.datetime(2019, 1, 15)\n",
    "dt2 = datetime.datetime(2019, 1, 15, hour=15, minute=12, second=23)\n",
    "dt1, dt2"
   ]
  },
  {
   "cell_type": "markdown",
   "id": "eb002a35-2333-48f3-a097-97f6feec6691",
   "metadata": {},
   "source": [
    "Além disso podemos criar com `.today`, `.now`, `.utcnow`"
   ]
  },
  {
   "cell_type": "code",
   "execution_count": 152,
   "id": "58122fb3-2e23-46da-89a0-084d52e62d82",
   "metadata": {},
   "outputs": [
    {
     "data": {
      "text/plain": [
       "datetime.datetime(2023, 7, 7, 16, 18, 32, 765896)"
      ]
     },
     "execution_count": 152,
     "metadata": {},
     "output_type": "execute_result"
    }
   ],
   "source": [
    "datetime.datetime.today()"
   ]
  },
  {
   "cell_type": "code",
   "execution_count": 153,
   "id": "44393476-5a37-4831-a42b-30a1a4f3c016",
   "metadata": {},
   "outputs": [
    {
     "data": {
      "text/plain": [
       "datetime.datetime(2023, 7, 7, 16, 18, 32, 770076)"
      ]
     },
     "execution_count": 153,
     "metadata": {},
     "output_type": "execute_result"
    }
   ],
   "source": [
    "datetime.datetime.now()"
   ]
  },
  {
   "cell_type": "code",
   "execution_count": 154,
   "id": "7ccf6a5d-8251-4011-ac76-af71d308fc60",
   "metadata": {},
   "outputs": [
    {
     "data": {
      "text/plain": [
       "datetime.datetime(2023, 7, 7, 19, 18, 32, 779393)"
      ]
     },
     "execution_count": 154,
     "metadata": {},
     "output_type": "execute_result"
    }
   ],
   "source": [
    "datetime.datetime.utcnow()"
   ]
  },
  {
   "cell_type": "markdown",
   "id": "090cc0e4-b834-414d-bea3-c412d81e3b5b",
   "metadata": {},
   "source": [
    "Destes métodos, somente `.now` aceita informação de fuso horário, os outros 2 não aceitam e não tem essa informação."
   ]
  },
  {
   "cell_type": "markdown",
   "id": "76f26841-67c5-4663-bf12-84cba042ba86",
   "metadata": {},
   "source": [
    "Podemos combinar datas e tempos com `datetime.datetime.combine`"
   ]
  },
  {
   "cell_type": "code",
   "execution_count": 155,
   "id": "0db29e31-a7c5-4a15-9d42-fe63cf3287e2",
   "metadata": {},
   "outputs": [
    {
     "data": {
      "text/plain": [
       "datetime.datetime(2019, 5, 30, 21, 58, 30)"
      ]
     },
     "execution_count": 155,
     "metadata": {},
     "output_type": "execute_result"
    }
   ],
   "source": [
    "datetime.datetime.combine(d1, t1)"
   ]
  },
  {
   "cell_type": "markdown",
   "id": "11303634-678c-42b5-a2d3-f6b9220ba2cf",
   "metadata": {},
   "source": [
    "Sendo essa a única maneira de convenientemente subtrair dois tempos, infelizmente.\n",
    "\n",
    "Podemos criar também com `.fromisoformat`"
   ]
  },
  {
   "cell_type": "code",
   "execution_count": 156,
   "id": "0526dc45-1e6e-48aa-9147-7e9c6ce16208",
   "metadata": {},
   "outputs": [
    {
     "data": {
      "text/plain": [
       "datetime.datetime(2019, 5, 30, 21, 58, 30)"
      ]
     },
     "execution_count": 156,
     "metadata": {},
     "output_type": "execute_result"
    }
   ],
   "source": [
    "datetime.datetime.fromisoformat(\"2019-05-30-21:58:30\")"
   ]
  },
  {
   "cell_type": "markdown",
   "id": "a0df4da3-612d-4f72-a4aa-574ebe25ee23",
   "metadata": {},
   "source": [
    "E por fim com `strptime`, fornecendo uma string formatada e um padrão."
   ]
  },
  {
   "cell_type": "code",
   "execution_count": 157,
   "id": "acc63a4e-7392-4967-8ccd-d9afc8c0da39",
   "metadata": {},
   "outputs": [
    {
     "data": {
      "text/plain": [
       "datetime.datetime(2023, 7, 3, 12, 13, 14)"
      ]
     },
     "execution_count": 157,
     "metadata": {},
     "output_type": "execute_result"
    }
   ],
   "source": [
    "datetime.datetime.strptime(\"Mon Jul 3 12:13:14 2023\", padrão)"
   ]
  },
  {
   "cell_type": "markdown",
   "id": "92f95183-35fd-4f54-ac63-d9fecc86d946",
   "metadata": {},
   "source": [
    "Esse objeto possui os mesmos campos de `datetime.date` e `datetime.time`, pode criar objetos desses tipos com os métodos `.date()` e `.time()`"
   ]
  },
  {
   "cell_type": "code",
   "execution_count": 158,
   "id": "3768a975-c1b6-4fa2-ac4d-998c2ad167b6",
   "metadata": {},
   "outputs": [
    {
     "data": {
      "text/plain": [
       "(datetime.date(2019, 1, 15), datetime.time(15, 12, 23))"
      ]
     },
     "execution_count": 158,
     "metadata": {},
     "output_type": "execute_result"
    }
   ],
   "source": [
    "dt2.date(), dt2.time()"
   ]
  },
  {
   "cell_type": "markdown",
   "id": "222760b5-160e-45fd-8c8c-746a2a1b5c62",
   "metadata": {},
   "source": [
    "E podemos substituir campos `replace`. Podemos obter o dia da semana com `.weekday()`, uma string no formato ISO com `.isoformat` e uma string num formato arbitrário com `strftime`."
   ]
  },
  {
   "cell_type": "code",
   "execution_count": 159,
   "id": "3b06398b-1213-4a07-a437-15c458b57a39",
   "metadata": {},
   "outputs": [
    {
     "data": {
      "text/plain": [
       "'Tue Jan 15 15:12:23 2019'"
      ]
     },
     "execution_count": 159,
     "metadata": {},
     "output_type": "execute_result"
    }
   ],
   "source": [
    "dt2.strftime(padrão)"
   ]
  },
  {
   "cell_type": "markdown",
   "id": "d94fdb89-9d2f-435d-b839-8a2c17bc9b89",
   "metadata": {},
   "source": [
    "Podemos subtrair duas datas e obter um `datetime.timedelta`, assim como somar ou subtrair `datetime.timedelta`s de `datetime.datetime` para obter outro `datetime.datetime`."
   ]
  },
  {
   "cell_type": "code",
   "execution_count": 160,
   "id": "835fcef5-8ef2-4fc4-b6be-b22caf14aeaa",
   "metadata": {},
   "outputs": [
    {
     "data": {
      "text/plain": [
       "True"
      ]
     },
     "execution_count": 160,
     "metadata": {},
     "output_type": "execute_result"
    }
   ],
   "source": [
    "dt1 + (dt2 - dt1) == dt2"
   ]
  },
  {
   "cell_type": "markdown",
   "id": "81910e31-af96-4da9-909f-2691cf695580",
   "metadata": {},
   "source": [
    "#### `timedelta`\n",
    "\n",
    "Para criar um timedelta, podemos fornecer qualquer uma das informações de `datetime`. Os valores são todos 0 por padrão."
   ]
  },
  {
   "cell_type": "code",
   "execution_count": 161,
   "id": "bd142fad-f5f5-4773-928f-34d649bebb42",
   "metadata": {},
   "outputs": [
    {
     "data": {
      "text/plain": [
       "datetime.timedelta(days=1, seconds=12)"
      ]
     },
     "execution_count": 161,
     "metadata": {},
     "output_type": "execute_result"
    }
   ],
   "source": [
    "td1 = datetime.timedelta(days=1, seconds=12)\n",
    "td1"
   ]
  },
  {
   "cell_type": "markdown",
   "id": "089b23ef-2021-4707-9e61-096ac2db0391",
   "metadata": {},
   "source": [
    "Podemos:\n",
    "\n",
    "* Somar\n",
    "* Subtrair\n",
    "* Multiplicar um timedelta por um número inteiro ou um float\n",
    "* Dividir dois timedeltas, um timedelta e um float ou int\n",
    "* Divisão inteira dos mesmos elementos que antex, exceto float\n",
    "* Módulo e `divmod` de dois timedeltas\n",
    "* Inverter com `-`\n",
    "* Pegar o valor absoluto, que remove o sinal do campo de dias.\n",
    "\n",
    "E as outras operações com `datetime` e `date`. Lembre-se que não funcionam com `time`.\n",
    "\n",
    "Podemos obter o número total de segundos por `.total_seconds()`."
   ]
  },
  {
   "cell_type": "code",
   "execution_count": 162,
   "id": "b76a44da-fc59-473c-9634-d45b22ae5c73",
   "metadata": {},
   "outputs": [
    {
     "data": {
      "text/plain": [
       "86412.0"
      ]
     },
     "execution_count": 162,
     "metadata": {},
     "output_type": "execute_result"
    }
   ],
   "source": [
    "td1.total_seconds()"
   ]
  },
  {
   "cell_type": "markdown",
   "id": "c96fc283-5cc8-4e46-956b-1a383658e85b",
   "metadata": {},
   "source": [
    "## Exercícios resolvidos"
   ]
  },
  {
   "cell_type": "markdown",
   "id": "ed0036b9-12f3-420b-83c5-5d92d69a4afc",
   "metadata": {},
   "source": [
    "### Faça uma barra de progresso de texto\n",
    "\n",
    "Faça uma função que aceite um comprimento, um tempo total de espera, e crie uma barra de progresso que vá se atualizando. Não se preocupe com paralelismo.\n",
    "\n",
    "**Solução**:\n",
    "\n",
    "Primeiro calculamos quanto tempo deveria transcorrer entre cada atualização, que é o tempo total sobre o comprimento da barra.\n",
    "\n",
    "Depois, para cada passo, construímos uma string contendo um caracter indicando progresso, que escolhi `#`, e um caracter que indica falta de progresso, que escolhi ` `. Fechamos os lados com `<` e `>` e, crucialmente, colocamos um *carriage return* `\\r`. Isso irá fazer com que a próxima linha seja colocada sobre a primeira, dando a ilusão da barra estar crescendo.\n",
    "\n",
    "Por fim esperamos um tempinho com `time.sleep`."
   ]
  },
  {
   "cell_type": "code",
   "execution_count": 163,
   "id": "e401c592-48db-44a9-be31-4ee3f9f4e829",
   "metadata": {},
   "outputs": [],
   "source": [
    "import time\n",
    "\n",
    "\n",
    "def barra_de_progresso(comprimento, tempo_total):\n",
    "    delta = tempo_total / comprimento\n",
    "    for i in range(comprimento):\n",
    "        string = \"<\" + \"#\" * i + \" \" * (comprimento - i - 1) + \">\\r\"\n",
    "        print(string, end=\"\", flush=True)\n",
    "        time.sleep(delta)"
   ]
  },
  {
   "cell_type": "code",
   "execution_count": 164,
   "id": "53b87878-25e6-449f-a46c-2f034e9e5cc9",
   "metadata": {},
   "outputs": [
    {
     "name": "stdout",
     "output_type": "stream",
     "text": [
      "<#########>\r"
     ]
    }
   ],
   "source": [
    "barra_de_progresso(10, 1)"
   ]
  },
  {
   "cell_type": "markdown",
   "id": "a05f65f0-c2d9-42cd-a102-98f48f6a0894",
   "metadata": {},
   "source": [
    "### Junte dois arquivos e calcule o tempo de início\n",
    "\n",
    "Você estava fazendo um experimento em um equipamento, colocou um tempo de execução, o tempo terminou mas você notou que ainda tinha alguma coisa acontecendo. Você rodou em seguida o mesmo experimento e conseguiu capturar por completo o fenômeno. Quando você foi juntar esses dois arquivos, notou que a coluna de tempo resetou entre as rodadas. Por sorte, você tem a data e hora precisa do início das medidas, do cabeçalho do arquivo.\n",
    "\n",
    "Junte os dados dos dois arquivos, mantendo uma coluna de tempo transcorrido comum. Os arquivos estão localizados em `./dados`, `p1.csv` e `p2.csv`, e `x` é o tempo transcorrido e `y` é o valor resposta do equipamento.\n",
    "\n",
    "**Solução**:\n",
    "\n",
    "Vendo um dos dados, temos duas linhas de cabeçalho. A primeira tem a data e hora, a segunda o significado das colunas (`x` e `y`) e depois os valores de `x` e `y` em si, separados por vírgula. Vamos criar uma função para carregar esses dados, retornando três objetos, uma lista com `x`, uma lista com `y`, e um objeto datetime."
   ]
  },
  {
   "cell_type": "code",
   "execution_count": 165,
   "id": "a2803542-177c-48ec-831b-b77a40217d9a",
   "metadata": {},
   "outputs": [],
   "source": [
    "def carregar_dado(caminho):\n",
    "    fhand = open(caminho, \"r\", encoding=\"utf8\")\n",
    "    formato = \"%d/%m/%Y %H:%M:%S\"\n",
    "    x = []\n",
    "    y = []\n",
    "    for i, linha in enumerate(fhand):\n",
    "        if i == 0:\n",
    "            dt = datetime.datetime.strptime(linha.strip(), formato)\n",
    "            continue\n",
    "        if i == 1:\n",
    "            continue\n",
    "        temp_x, temp_y = linha.strip().split(\",\")\n",
    "        x.append(float(temp_x))\n",
    "        y.append(float(temp_y))\n",
    "\n",
    "    fhand.close()\n",
    "    return dt, x, y"
   ]
  },
  {
   "cell_type": "markdown",
   "id": "85c5748f-6279-41bd-b74b-c3310f10832a",
   "metadata": {},
   "source": [
    "Agora vamos carregar os dados"
   ]
  },
  {
   "cell_type": "code",
   "execution_count": 166,
   "id": "9b963f88-8936-4a83-a3d6-54b03dc23412",
   "metadata": {},
   "outputs": [],
   "source": [
    "dt1, x1, y1 = carregar_dado(\"./dados/p1.csv\")\n",
    "dt2, x2, y2 = carregar_dado(\"./dados/p2.csv\")"
   ]
  },
  {
   "cell_type": "markdown",
   "id": "f98bb17a-75df-4391-ab80-bfaf4078cc7b",
   "metadata": {},
   "source": [
    "E de fato podemos ver que x2 começa do zero"
   ]
  },
  {
   "cell_type": "code",
   "execution_count": 167,
   "id": "1c1f0d05-041a-4d62-869f-0cda2277cf5d",
   "metadata": {},
   "outputs": [
    {
     "data": {
      "text/plain": [
       "[0.0, 0.0625, 0.125, 0.1875]"
      ]
     },
     "execution_count": 167,
     "metadata": {},
     "output_type": "execute_result"
    }
   ],
   "source": [
    "x2[:4]"
   ]
  },
  {
   "cell_type": "markdown",
   "id": "b0415a0d-94fd-4781-9d84-3e76db3ad770",
   "metadata": {},
   "source": [
    "Agora podemos prosseguir de duas maneiras. Calculamos o tempo no final da geração do primeiro arquivo, vemos quanto tempo transcorreu até a criação do segundo, e somamos isso ao `x` do segundo. Alternativamente, podemos criar `datetime.datetime` alternativos para os dois arquivos, e juntá-los com um `timedelta` e `total_seconds`.\n",
    "\n",
    "Para fazer a primeira solução, podemos prosseguir desta maneira:"
   ]
  },
  {
   "cell_type": "code",
   "execution_count": 168,
   "id": "657f8706-cd25-4e64-a02c-446eea226c98",
   "metadata": {},
   "outputs": [
    {
     "data": {
      "text/plain": [
       "(datetime.datetime(2019, 4, 12, 13, 12, 13),\n",
       " datetime.datetime(2019, 4, 12, 13, 12, 42, 937500),\n",
       " 29.9375)"
      ]
     },
     "execution_count": 168,
     "metadata": {},
     "output_type": "execute_result"
    }
   ],
   "source": [
    "t_final_1 = dt1 + datetime.timedelta(seconds=x1[-1])\n",
    "dt1, t_final_1, x1[-1]"
   ]
  },
  {
   "cell_type": "code",
   "execution_count": 169,
   "id": "f04cf9f4-2fd9-412f-8ab1-ce974299853a",
   "metadata": {},
   "outputs": [
    {
     "data": {
      "text/plain": [
       "(datetime.datetime(2019, 4, 12, 13, 13, 2),\n",
       " datetime.timedelta(seconds=19, microseconds=62500))"
      ]
     },
     "execution_count": 169,
     "metadata": {},
     "output_type": "execute_result"
    }
   ],
   "source": [
    "delta_t_p1_p2 = dt2 - t_final_1\n",
    "dt2, delta_t_p1_p2"
   ]
  },
  {
   "cell_type": "code",
   "execution_count": 170,
   "id": "5585e536-42f4-4f39-88dd-3135cb2898b9",
   "metadata": {},
   "outputs": [],
   "source": [
    "novo_x2 = [x1[-1] + delta_t_p1_p2.total_seconds() + i for i in x2]"
   ]
  },
  {
   "cell_type": "code",
   "execution_count": null,
   "id": "5c5f2544-dccf-4742-9fa8-1a4d7c427529",
   "metadata": {},
   "outputs": [],
   "source": []
  }
 ],
 "metadata": {
  "kernelspec": {
   "display_name": "CursoPython",
   "language": "python",
   "name": "cursopython"
  },
  "language_info": {
   "codemirror_mode": {
    "name": "ipython",
    "version": 3
   },
   "file_extension": ".py",
   "mimetype": "text/x-python",
   "name": "python",
   "nbconvert_exporter": "python",
   "pygments_lexer": "ipython3",
   "version": "3.11.3"
  }
 },
 "nbformat": 4,
 "nbformat_minor": 5
}
