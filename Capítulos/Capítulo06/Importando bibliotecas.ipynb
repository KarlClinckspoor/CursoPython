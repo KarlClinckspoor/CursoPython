{
 "cells": [
  {
   "cell_type": "markdown",
   "id": "00c19cae-4270-4047-8fdb-a599e9462329",
   "metadata": {},
   "source": [
    "# Importando bibliotecas\n",
    "\n",
    "Uma das grandes vantagens de Python é a extensa comunidade presente, que cria e mantém pacotes e bibliotecas para as mais variadas funções. Neste capítulo, aprenderemos como importar bibliotecas e exploraremos algumas bibliotecas embutidas. Para mais detalhes sobre importação, [veja a documentação oficial](https://docs.python.org/3/reference/import.html). Por trás dos panos, a operação de importação é bastante complexa, mas a interface para fazer tarefas simples é simples também.\n",
    "\n",
    "Primeiro, vamos esclarecer alguns termos:\n",
    "\n",
    "* módulo: um módulo contém objetos de Python, que é acessada pelo processo de importação. Uma analogia é considerar um módulo como um arquivo.\n",
    "* pacote: é um módulo que contém submódulos e subpacotes. Serve para organizar os módulos. Uma analogia é considerar um pacote como uma pasta, que pode conter outras pastas (subpacotes) e arquivos (submódulos).\n",
    "* importar: processo em que um módulo ganha acesso a código em outro módulo\n",
    "* biblioteca: um termo menos preciso, e significa em essência um conjunto de módulos, como a biblioteca padrão (*standard library* - que chamei de bibliotecas embutidas).\n",
    "\n",
    "Para importar um pacote, utilize a sintaxe: \n",
    "\n",
    "```python\n",
    "import pacote\n",
    "```\n",
    "\n",
    "Como primeiro exemplo, vamos importar e descrever brevemente o pacote `os`."
   ]
  },
  {
   "cell_type": "code",
   "execution_count": 19,
   "id": "b1547979-1cfa-44f9-a81a-2766f8f79ac7",
   "metadata": {},
   "outputs": [],
   "source": [
    "import os"
   ]
  },
  {
   "cell_type": "markdown",
   "id": "7c4aed7a-f16d-4a2b-a73d-215a74934c17",
   "metadata": {},
   "source": [
    "## Pacote `os`\n",
    "\n",
    "[Link da documentação](https://docs.python.org/3/library/os.html)\n",
    "\n",
    "O pacote `os` contém funções para interagir com o sistema operacional de maneira independente da plataforma. Por exemplo, Windows e Linux utilizam comandos diferentes para gerar arquivos, mudar de pastas, mas podemos abstrair isso utilizando as funções em `os`. Primeiro, vamos explorar como gerar algumas pastas."
   ]
  },
  {
   "cell_type": "markdown",
   "id": "7c8f3e69-40cf-43ba-8503-ec2fae4d18cf",
   "metadata": {},
   "source": [
    "### O conceito de *current working directory*\n",
    "\n",
    "Podemos utilizar comandos para manipulação de pastas ou arquivos com caminhos absolutos ou relativos.\n",
    "\n",
    "Note aqui que estamos presumindo o local em que as pastas serão geradas, que é o *current working directory* ou *CWD*. Essa variável pode ser obtida pelo comando `os.getcwd()`. Geralmente, essa é a pasta onde você executou o comando `python ...` ou, no caso do Jupyter Lab, a pasta onde o arquivo `.ipynb` se localiza. Vamos supor a seguinte estrutura:\n",
    "\n",
    "```\n",
    "--- raiz\n",
    "      |\n",
    "      +--pasta1\n",
    "           |\n",
    "           +--arquivo.py\n",
    "```\n",
    "\n",
    "\n",
    "Suponha que você quer rodar o arquivo `arquivo.py`. Se você abrir o terminal na `raiz`, poderá trocar para `pasta1` com `cd pasta1` e depois rodar `python ./arquivo.py` ou executar diretamente `python ./pasta1/arquivo.py`. No primeiro caso, *cwd* será `raiz/pasta1/` e no segundo caso será `raiz/`.\n",
    "\n",
    "### Manipulação de pastas\n",
    "\n",
    "`os.mkdir(caminho)` é utilizado para criar uma pasta especificada pelo caminho no argumento. Suponha que você queira criar esta estrutura com uma pasta aninhada na outra, e seu *cwd* é `raiz/`\n",
    "\n",
    "```\n",
    "--- raiz\n",
    "      |\n",
    "      +--pasta1\n",
    "           |\n",
    "           +--pasta2\n",
    "```\n",
    "\n",
    "Para isso, precisaremos do comando `os.mkdir('pasta1')` seguido de `os.mkdir('pasta1/pasta2')`. Isso é inconveniente se quisermos fazer estruturas mais complexas, pois muitos caminhos serão repetidos. Podemos então trocar o *cwd* com `os.chdir('pasta1')` e depois criar a segunda pasta com `os.mkdir('pasta2')`. Você pode voltar à pasta original com `os.chdir('..')` ou armazenar o *cwd* original em uma variável e retornar à ela depois de tudo.\n",
    "\n",
    "Se você tentar criar `pasta2` diretamente, como `pasta1` não existe, `FileNotFoundError` será lançado. Caso você tente rodar novamente o domando, é possível que a pasta já exista e um erro `FileExistsError` será lançado.\n",
    "\n",
    "Alternativamente, o comando `os.mkdirs(caminho)` é utilizado para criar uma pasta e todas as pastas necessárias para atingir. O argumento opcional `exist_ok`, por padrão `False`, evita que um erro seja lançado se alguma pasta já existir. Logo, o comando anterior se torna `os.mkdir('./pasta1/pasta2', exist_ok=True)`, e não precisamos \n",
    "\n",
    "Em paralelo a `os.mkdirs` e `os.mkdir`, temos `os.rmdirs` e `os.rmdir`, que removem pastas. \n",
    "\n",
    "Para renomear uma pasta, existe o comando `os.rename(origem, destino)`, que irá falhar se a pasta de destino já existir. Caso queira substituir, pode utiliar `os.replace(origem, destino)`. Estas funções também funcionam com arquivos.\n",
    "\n",
    "### Manipulações de caminhos\n",
    "\n",
    "Outra tarefa recorrente é a manipulação de caminhos. Utilizar manipulação de strings pode parecer tentador, mas é uma receita para frustração, especialmente se você deseja que seu programa seja utilizado em mais de um sistema operacional. O submódulo [`os.path`](https://docs.python.org/3/library/os.path.html) possui ferramentas para auxiliar nisso. O mais recomendado hoje em dia é utilizar o pacote `pathlib`, que exploraremos [em breve](sec:pathlib).\n",
    "\n",
    "Aqui vão algumas funções úteis:\n",
    "\n",
    "* `os.path.abspath` retorna o caminho absoluto dado um caminho relativo.\n",
    "* `os.path.relpath` retorna um caminho relativo, referente ao *cwd*, dado um caminho absoluto.\n",
    "* `os.path.basename` retorna o nome na base do caminho. Se for uma pasta, retorna o nome da pasta, se for um arquivo, retorna o nome do arquivo. Por exemplo, `os.path.basename(os.path.abspath('./Importando bibliotecas.ipynb'))` resulta em `'Importando bibliotecas.ipynb'`.\n",
    "* `os.path.dirname` retorna o nome de todos os diretórios no caminho até o caminho da pasta ou arquivo fornecido.\n",
    "* `os.path.exists`, `os.path.isfile` e `os.path.isdir` retornam `True` se o caminho fornecido é uma pasta ou arquivo existente, com diferenças óbvias pelo nome.\n",
    "* `os.path.join` junta duas ou mais caminhos de maneira \"inteligente\", obedecendo o separador de pastas do sistema, em ordem. Não checa se o caminho final é válido, e não checa se você tentar \"colocar\" um arquivo dentro do outro.\n",
    "* `os.path.split` retorna duas strings, a segunda sendo a última parte do caminho e a primeira sendo o resto, à esquerda. Se o caminho fornecido termina com uma barra, a segunda parte é uma string vazia."
   ]
  },
  {
   "cell_type": "markdown",
   "id": "fef88978-30d4-4a5c-9d30-13d9f90c022b",
   "metadata": {},
   "source": [
    "### Percorrendo diretórios e pastas\n",
    "\n",
    "Iterar sobre o conteúdo de pastas é algo relativamente comum. Por exemplo, você pode querer encontrar todos os arquivos `.csv` de uma pasta para tratá-los. Para isso, as funções `os.walk` e `os.scandir` podem ser utilizadas. `os.walk(caminho)` recebe um caminho e cria um gerador que fornece uma tupla com o caminho até a pasta, o nome das pastas dentro da pasta atual e o nome dos arquivos na pasta atual. `os.scandir` age de maneira um pouco diferente. Ele gera um iterador que retorna objetos `DirEntry`. Esses objetos contém informações sobre se algo é uma pasta ou um arquivo, e o *stats* do arquivo.\n",
    "\n",
    "Isso ainda é um tanto laborioso. Para métodos melhores de se percorrer diretórios e encontrar arquivos, podemos utilizar o módulo [`glob`](sec:glob)."
   ]
  },
  {
   "cell_type": "markdown",
   "id": "23469de9-655a-4ee4-85b5-04724cf5cb8e",
   "metadata": {},
   "source": [
    "(sec:glob)=\n",
    "## `glob`\n",
    "\n",
    "[Link da documentação](https://docs.python.org/3/library/glob.html)\n",
    "\n",
    "*glob*, que significa *global*, foi um programa criado há décadas para encontrar arquivos com base num padrão. A especificação desse padrão é bastante simples, e é capaz que você já tenha utilizado algo similar em sua vida. Os padrões são compostos por letras e números, e símbolos. As letras e números serão comparadas exatamente com os caminhos, e os símbolos são utilizados para generalizar um padrão. Os três símbolos são:\n",
    "\n",
    "* `*`, significa \"qualquer caracter, qualquer número de vezes. É de longe o símbolo mais frequentemente utilizado.\n",
    "* `?`, significa \"qualquer caracter, 1 vez.\n",
    "* `[abc...]` significa qualquer caracter dentro dos colchetes, 1 vez.\n",
    "* `[a-z]` significa qualquer caracter dentro da faixa de caracteres. `a-z` significa \"todos os caracteres entre 'a' e 'z' minúsculos\", `0-9` significa \"todos os caracteres numéricos.\n",
    "\n",
    "Além disso, você pode procurar por arquivos recursivamente utilizando o seguinte padrão: `**/`.\n",
    "\n",
    "Exemplos:\n",
    "\n",
    "* `*.csv` irá corresponder a todos os arquivos que terminam com '.csv'.\n",
    "* `exercício*.csv` irá corresponder a todos os arquivos que começam com 'exercício', terminam com '.csv' e possuem qualquer texto no interior. Então 'exercício1.csv' e 'exercício-treinamento-teste.csv' ambos correspondem à esse padrão.\n",
    "* `.csv` irá corresponder somente ao arquivo cujo nome é '.csv', nada mais e nada menos.\n",
    "\n",
    "Note que um arquivo pode ter duas extensões, como 'abc.tar.gz'. Se você quiser todos os arquivos 'tar', terá que utilizar `*.tar*`, mas isso poderá corresponder a, por exemplo, 'abc.tart' também.\n",
    "\n",
    "Dentro do módulo `glob`, temos três funções. `glob`, `iglob` e `escape`. `glob` retorna uma lista com os caminhos dos arquivos, `iglob` retorna um iterador, portanto não avalia tudo de uma vez, e `escape` é utilizado para escapar símbolos que o *glob* utiliza e que podem existir em nomes de arquivos. Podemos utilizar a função `glob` para encontrar todos os arquivos de exercícios do capítulo 5."
   ]
  },
  {
   "cell_type": "code",
   "execution_count": 78,
   "id": "97e0a990-faca-47b9-837b-d1e75f155cd6",
   "metadata": {},
   "outputs": [
    {
     "data": {
      "text/plain": [
       "['../Capítulo05/dados\\\\exercício1.csv', '../Capítulo05/dados\\\\exercício2.csv']"
      ]
     },
     "execution_count": 78,
     "metadata": {},
     "output_type": "execute_result"
    }
   ],
   "source": [
    "import glob\n",
    "exercícios = glob.glob('../Capítulo05/dados/*.csv')\n",
    "exercícios"
   ]
  },
  {
   "cell_type": "markdown",
   "id": "18933fc2-76c6-4cec-8a5a-52399b115840",
   "metadata": {},
   "source": [
    "Porém, é um pouco inconveniente ficar digitando `glob.glob` o tempo todo. Existe uma maneira de importar seletivamente algumas objetos de um módulo, colocando-os no escopo global ao invés do módulo em si. Isso é feito com a seguinte sintaxe:\n",
    "\n",
    "```python\n",
    "from (pacote) import (objeto)\n",
    "```"
   ]
  },
  {
   "cell_type": "code",
   "execution_count": 79,
   "id": "8ea17135-a81d-4dab-89e5-da632d996b7d",
   "metadata": {},
   "outputs": [
    {
     "data": {
      "text/plain": [
       "['../Capítulo05/dados\\\\exercício1.csv', '../Capítulo05/dados\\\\exercício2.csv']"
      ]
     },
     "execution_count": 79,
     "metadata": {},
     "output_type": "execute_result"
    }
   ],
   "source": [
    "from glob import glob\n",
    "exercícios = glob('../Capítulo05/dados/*.csv')\n",
    "exercícios"
   ]
  },
  {
   "cell_type": "markdown",
   "id": "19aebf79-b5aa-47c9-bdee-fddf6257a33c",
   "metadata": {},
   "source": [
    "Como um último exemplo, vamos encontrar todos os arquivos `.py` criados neste livro. Para isso, vamos utilizar o padrão `**` e o argumento opcional `recursive=True`."
   ]
  },
  {
   "cell_type": "code",
   "execution_count": 80,
   "id": "e00abb8c-7799-4630-9c7f-1ba8e31b2740",
   "metadata": {},
   "outputs": [
    {
     "data": {
      "text/plain": [
       "['..\\\\Capítulo01\\\\Soluções dos exercícios\\\\complex_mod.py',\n",
       " '..\\\\Capítulo01\\\\Soluções dos exercícios\\\\pint.py',\n",
       " '..\\\\Capítulo02\\\\Soluções de exercícios\\\\prop_sympy.py',\n",
       " '..\\\\Capítulo02\\\\Soluções de exercícios\\\\prop_uncertainties.py',\n",
       " '..\\\\Capítulo03\\\\Soluções de exercícios\\\\Gerador\\\\problema_gas_ideal.py',\n",
       " '..\\\\Capítulo03\\\\Soluções de exercícios\\\\Gerador\\\\QuestionGenerator.py',\n",
       " '..\\\\Capítulo03\\\\Soluções de exercícios\\\\Gerador\\\\test_gas_ideal.py',\n",
       " '..\\\\Capítulo04\\\\Soluções de exercícios\\\\convert_dict.py',\n",
       " '..\\\\Capítulo04\\\\Soluções de exercícios\\\\convert_pint.py',\n",
       " '..\\\\Capítulo05\\\\dados\\\\gerar_csv.py',\n",
       " '..\\\\Capítulo05\\\\Soluções de exercícios\\\\contagem_palavras.py',\n",
       " '..\\\\Capítulo05\\\\Soluções de exercícios\\\\criar_exceções.py',\n",
       " '..\\\\Capítulo05\\\\Soluções de exercícios\\\\ler_csv1.py',\n",
       " '..\\\\Capítulo05\\\\Soluções de exercícios\\\\ler_csv2.py',\n",
       " '..\\\\Capítulo05\\\\Soluções de exercícios\\\\molar_mass_calculator.py',\n",
       " '..\\\\Capítulo05\\\\Soluções de exercícios\\\\molar_mass_calculator2.py',\n",
       " '..\\\\Capítulo05\\\\Soluções de exercícios\\\\plotar.py']"
      ]
     },
     "execution_count": 80,
     "metadata": {},
     "output_type": "execute_result"
    }
   ],
   "source": [
    "todos_py = glob('../**/*.py', recursive=True)\n",
    "todos_py"
   ]
  },
  {
   "cell_type": "markdown",
   "id": "01a64a40-126a-49ba-8ebb-d1eee0442334",
   "metadata": {},
   "source": [
    "(sec:pathlib)=\n",
    "## `pathlib`\n",
    "\n",
    "`pathlib` é uma biblioteca que utiliza objetos especiais para representar caminhos, ao invés de strings. Esses objetos `Path` podem ser manipulados com maior facilidade e podem ser utilizados, em muitos casos, no lugar de caminhos de strings. Senão, é possível convertê-los com `str(path)`. Veja a documentação oficial [aqui](https://docs.python.org/3/library/pathlib.html)\n",
    "\n",
    "Existem basicamente dois tipos de objetos que são utilizados. Primeiro temos `PurePath`, que somente representa caminhos, e `Path`, que faz tudo que `PurePath` faz, e também consegue realizar algumas operações concretas. Por isso, irei focar em `Path` somente.\n",
    "\n",
    "Primeiro, podemos criar um `Path` com o seguinte comando:"
   ]
  },
  {
   "cell_type": "code",
   "execution_count": 83,
   "id": "9adae0e2-28e1-43e0-8ff4-854119c83259",
   "metadata": {},
   "outputs": [
    {
     "data": {
      "text/plain": [
       "WindowsPath('.')"
      ]
     },
     "execution_count": 83,
     "metadata": {},
     "output_type": "execute_result"
    }
   ],
   "source": [
    "from pathlib import Path\n",
    "p = Path('.')\n",
    "p"
   ]
  },
  {
   "cell_type": "markdown",
   "id": "c0631d64-1485-43ab-befe-5e1382aad31f",
   "metadata": {},
   "source": [
    "Como estou em um ambiente Windows, um objeto `WindowsPath` é criado. Se estivesse em Linux, um `PosixPath` seria criado. Com esse objeto `p`, posso convertê-lo para um caminho absoluto com `p.absolute()`, posso concatenar outros caminhos com\n"
   ]
  },
  {
   "cell_type": "code",
   "execution_count": 94,
   "id": "b350887e-d75e-4737-8e51-89636513ed53",
   "metadata": {},
   "outputs": [
    {
     "data": {
      "text/plain": [
       "WindowsPath('C:/Users/karl.clinckspoor')"
      ]
     },
     "execution_count": 94,
     "metadata": {},
     "output_type": "execute_result"
    }
   ],
   "source": [
    "p.write_text"
   ]
  },
  {
   "cell_type": "markdown",
   "id": "4cca3449-3441-40da-bcea-abec8ca663a7",
   "metadata": {},
   "source": [
    "Além disso, posso criar um `Path` no *cwd* com o método `Path.cwd()` e um `Path` no diretório *home* com `Path.home()`. O *home* é a pasta base de um usuário, geralmente localizada em um diretório como `C:/Usuários/<nome>/`."
   ]
  },
  {
   "cell_type": "code",
   "execution_count": 91,
   "id": "fc757785-9612-4209-a9e1-98b85b38ee22",
   "metadata": {},
   "outputs": [
    {
     "data": {
      "text/plain": [
       "WindowsPath('C:/Users/karl.clinckspoor/Downloads/CursoPython/Capítulos/Capítulo06')"
      ]
     },
     "execution_count": 91,
     "metadata": {},
     "output_type": "execute_result"
    }
   ],
   "source": [
    "Path.cwd()"
   ]
  },
  {
   "cell_type": "code",
   "execution_count": 90,
   "id": "aa310856-dd72-466e-ba03-7b3f6667c504",
   "metadata": {},
   "outputs": [
    {
     "data": {
      "text/plain": [
       "WindowsPath('C:/Users/karl.clinckspoor/Downloads/CursoPython/Capítulos/Capítulo06')"
      ]
     },
     "execution_count": 90,
     "metadata": {},
     "output_type": "execute_result"
    }
   ],
   "source": [
    "p."
   ]
  },
  {
   "cell_type": "code",
   "execution_count": null,
   "id": "7c31cc0b-36ba-4e1b-bf6d-400f636b67e8",
   "metadata": {},
   "outputs": [],
   "source": []
  },
  {
   "cell_type": "code",
   "execution_count": 23,
   "id": "96b8ef61-1c69-49be-9c4b-073208204168",
   "metadata": {},
   "outputs": [
    {
     "data": {
      "text/plain": [
       "0"
      ]
     },
     "execution_count": 23,
     "metadata": {},
     "output_type": "execute_result"
    }
   ],
   "source": [
    "os.system('dir')"
   ]
  },
  {
   "cell_type": "markdown",
   "id": "2e52fcae-c813-43ba-bb14-415d990a6d4a",
   "metadata": {},
   "source": [
    "Aqui, podemos acessar `Importando bibliotecas.ipynb` e verificar se é um arquivo de fato com a função `isfile` contida dentro do submódulo `path` de `os`. ([documentação](https://docs.python.org/3/library/os.path.html))"
   ]
  },
  {
   "cell_type": "code",
   "execution_count": 6,
   "id": "22ddc390-fd2c-4837-bf69-5dec3222098e",
   "metadata": {},
   "outputs": [
    {
     "data": {
      "text/plain": [
       "True"
      ]
     },
     "execution_count": 6,
     "metadata": {},
     "output_type": "execute_result"
    }
   ],
   "source": [
    "os.path.isfile('./Importando bibliotecas.ipynb')"
   ]
  },
  {
   "cell_type": "code",
   "execution_count": 9,
   "id": "80ec273f-88b6-41e0-bd18-fe4cf4f9602a",
   "metadata": {},
   "outputs": [
    {
     "data": {
      "text/plain": [
       "False"
      ]
     },
     "execution_count": 9,
     "metadata": {},
     "output_type": "execute_result"
    }
   ],
   "source": [
    "os.path.isfile(os.getcwd())"
   ]
  },
  {
   "cell_type": "markdown",
   "id": "2748dfe5-b273-4c1f-a91f-2b0bd27cf0a7",
   "metadata": {},
   "source": [
    "Podemos expandir um caminho relativo para um caminho absoluto com `os.path.abspath`"
   ]
  },
  {
   "cell_type": "code",
   "execution_count": 11,
   "id": "ac7d1ddd-82ef-416c-a776-83c3aed6af94",
   "metadata": {},
   "outputs": [
    {
     "data": {
      "text/plain": [
       "'C:\\\\Users\\\\karl.clinckspoor\\\\Downloads\\\\CursoPython\\\\Capítulos\\\\Capítulo06\\\\Importando bibliotecas.ipynb'"
      ]
     },
     "execution_count": 11,
     "metadata": {},
     "output_type": "execute_result"
    }
   ],
   "source": [
    "os.path.abspath('./Importando bibliotecas.ipynb')"
   ]
  },
  {
   "cell_type": "markdown",
   "id": "5eef78c3-4b45-4086-9d75-952ba19c4f21",
   "metadata": {},
   "source": [
    "E voltar a um caminho relativo com `os.path.relpath`."
   ]
  },
  {
   "cell_type": "code",
   "execution_count": 12,
   "id": "586b4c1f-3924-4ded-961f-9508e477e325",
   "metadata": {},
   "outputs": [
    {
     "data": {
      "text/plain": [
       "'Importando bibliotecas.ipynb'"
      ]
     },
     "execution_count": 12,
     "metadata": {},
     "output_type": "execute_result"
    }
   ],
   "source": [
    "os.path.relpath(os.path.abspath('./Importando bibliotecas.ipynb'))"
   ]
  },
  {
   "cell_type": "markdown",
   "id": "51340f1f-49ed-497e-b64f-50b6314ded83",
   "metadata": {},
   "source": [
    "E ver o tamanho do arquivo com "
   ]
  }
 ],
 "metadata": {
  "kernelspec": {
   "display_name": "CursoPython",
   "language": "python",
   "name": "cursopython"
  },
  "language_info": {
   "codemirror_mode": {
    "name": "ipython",
    "version": 3
   },
   "file_extension": ".py",
   "mimetype": "text/x-python",
   "name": "python",
   "nbconvert_exporter": "python",
   "pygments_lexer": "ipython3",
   "version": "3.11.3"
  }
 },
 "nbformat": 4,
 "nbformat_minor": 5
}
