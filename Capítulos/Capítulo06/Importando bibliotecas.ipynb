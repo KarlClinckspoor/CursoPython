{
 "cells": [
  {
   "cell_type": "markdown",
   "id": "00c19cae-4270-4047-8fdb-a599e9462329",
   "metadata": {},
   "source": [
    "# Importando bibliotecas\n",
    "\n",
    "Uma das grandes vantagens de Python é a extensa comunidade presente, que cria e mantém pacotes e bibliotecas para as mais variadas funções. Neste capítulo, aprenderemos como importar bibliotecas e exploraremos algumas bibliotecas embutidas. Para mais detalhes sobre importação, [veja a documentação oficial](https://docs.python.org/3/reference/import.html). Por trás dos panos, a operação de importação é bastante complexa, mas a interface para fazer tarefas simples é simples também.\n",
    "\n",
    "Primeiro, vamos esclarecer alguns termos:\n",
    "\n",
    "* módulo: um módulo contém objetos de Python, que é acessada pelo processo de importação. Uma analogia é considerar um módulo como um arquivo.\n",
    "* pacote: é um módulo que contém submódulos e subpacotes. Serve para organizar os módulos. Uma analogia é considerar um pacote como uma pasta, que pode conter outras pastas (subpacotes) e arquivos (submódulos).\n",
    "* importar: processo em que um módulo ganha acesso a código em outro módulo\n",
    "* biblioteca: um termo menos preciso, e significa em essência um conjunto de módulos, como a biblioteca padrão (*standard library* - que chamei de bibliotecas embutidas).\n",
    "\n",
    "Para importar um pacote, utilize a sintaxe: \n",
    "\n",
    "```python\n",
    "import pacote\n",
    "```\n",
    "\n",
    "Como primeiro exemplo, vamos importar e descrever brevemente o pacote `os`."
   ]
  },
  {
   "cell_type": "code",
   "execution_count": 19,
   "id": "b1547979-1cfa-44f9-a81a-2766f8f79ac7",
   "metadata": {},
   "outputs": [],
   "source": [
    "import os"
   ]
  },
  {
   "cell_type": "markdown",
   "id": "7c4aed7a-f16d-4a2b-a73d-215a74934c17",
   "metadata": {},
   "source": [
    "## Pacote `os`\n",
    "\n",
    "[Link da documentação](https://docs.python.org/3/library/os.html)\n",
    "\n",
    "O pacote `os` contém funções para interagir com o sistema operacional de maneira independente da plataforma. Por exemplo, Windows e Linux utilizam comandos diferentes para gerar arquivos, mudar de pastas, mas podemos abstrair isso utilizando as funções em `os`. Primeiro, vamos explorar como gerar algumas pastas."
   ]
  },
  {
   "cell_type": "markdown",
   "id": "7c8f3e69-40cf-43ba-8503-ec2fae4d18cf",
   "metadata": {},
   "source": [
    "### O conceito de *current working directory*\n",
    "\n",
    "Podemos utilizar comandos para manipulação de pastas ou arquivos com caminhos absolutos ou relativos.\n",
    "\n",
    "Note aqui que estamos presumindo o local em que as pastas serão geradas, que é o *current working directory* ou *CWD*. Essa variável pode ser obtida pelo comando `os.getcwd()`. Geralmente, essa é a pasta onde você executou o comando `python ...` ou, no caso do Jupyter Lab, a pasta onde o arquivo `.ipynb` se localiza. Vamos supor a seguinte estrutura:\n",
    "\n",
    "```\n",
    "--- raiz\n",
    "      |\n",
    "      +--pasta1\n",
    "           |\n",
    "           +--arquivo.py\n",
    "```\n",
    "\n",
    "\n",
    "Suponha que você quer rodar o arquivo `arquivo.py`. Se você abrir o terminal na `raiz`, poderá trocar para `pasta1` com `cd pasta1` e depois rodar `python ./arquivo.py` ou executar diretamente `python ./pasta1/arquivo.py`. No primeiro caso, *cwd* será `raiz/pasta1/` e no segundo caso será `raiz/`.\n",
    "\n",
    "### Manipulação de pastas\n",
    "\n",
    "`os.mkdir(caminho)` é utilizado para criar uma pasta especificada pelo caminho no argumento. Suponha que você queira criar esta estrutura com uma pasta aninhada na outra, e seu *cwd* é `raiz/`\n",
    "\n",
    "```\n",
    "--- raiz\n",
    "      |\n",
    "      +--pasta1\n",
    "           |\n",
    "           +--pasta2\n",
    "```\n",
    "\n",
    "Para isso, precisaremos do comando `os.mkdir('pasta1')` seguido de `os.mkdir('pasta1/pasta2')`. Isso é inconveniente se quisermos fazer estruturas mais complexas, pois muitos caminhos serão repetidos. Podemos então trocar o *cwd* com `os.chdir('pasta1')` e depois criar a segunda pasta com `os.mkdir('pasta2')`. Você pode voltar à pasta original com `os.chdir('..')` ou armazenar o *cwd* original em uma variável e retornar à ela depois de tudo.\n",
    "\n",
    "Se você tentar criar `pasta2` diretamente, como `pasta1` não existe, `FileNotFoundError` será lançado. Caso você tente rodar novamente o domando, é possível que a pasta já exista e um erro `FileExistsError` será lançado.\n",
    "\n",
    "Alternativamente, o comando `os.mkdirs(caminho)` é utilizado para criar uma pasta e todas as pastas necessárias para atingir. O argumento opcional `exist_ok`, por padrão `False`, evita que um erro seja lançado se alguma pasta já existir. Logo, o comando anterior se torna `os.mkdir('./pasta1/pasta2', exist_ok=True)`, e não precisamos \n",
    "\n",
    "Em paralelo a `os.mkdirs` e `os.mkdir`, temos `os.rmdirs` e `os.rmdir`, que removem pastas. \n",
    "\n",
    "Para renomear uma pasta, existe o comando `os.rename(origem, destino)`, que irá falhar se a pasta de destino já existir. Caso queira substituir, pode utiliar `os.replace(origem, destino)`. Estas funções também funcionam com arquivos.\n",
    "\n",
    "### Manipulações de caminhos\n",
    "\n",
    "Outra tarefa recorrente é a manipulação de caminhos. Utilizar manipulação de strings pode parecer tentador, mas é uma receita para frustração, especialmente se você deseja que seu programa seja utilizado em mais de um sistema operacional. O submódulo [`os.path`](https://docs.python.org/3/library/os.path.html) possui ferramentas para auxiliar nisso. O mais recomendado hoje em dia é utilizar o pacote `pathlib`, que exploraremos [em breve](sec:pathlib).\n",
    "\n",
    "Aqui vão algumas funções úteis:\n",
    "\n",
    "* `os.path.abspath` retorna o caminho absoluto dado um caminho relativo.\n",
    "* `os.path.relpath` retorna um caminho relativo, referente ao *cwd*, dado um caminho absoluto.\n",
    "* `os.path.basename` retorna o nome na base do caminho. Se for uma pasta, retorna o nome da pasta, se for um arquivo, retorna o nome do arquivo. Por exemplo, `os.path.basename(os.path.abspath('./Importando bibliotecas.ipynb'))` resulta em `'Importando bibliotecas.ipynb'`.\n",
    "* `os.path.dirname` retorna o nome de todos os diretórios no caminho até o caminho da pasta ou arquivo fornecido.\n",
    "* `os.path.exists`, `os.path.isfile` e `os.path.isdir` retornam `True` se o caminho fornecido é uma pasta ou arquivo existente, com diferenças óbvias pelo nome.\n",
    "* `os.path.join` junta duas ou mais caminhos de maneira \"inteligente\", obedecendo o separador de pastas do sistema, em ordem. Não checa se o caminho final é válido, e não checa se você tentar \"colocar\" um arquivo dentro do outro.\n",
    "* `os.path.split` retorna duas strings, a segunda sendo a última parte do caminho e a primeira sendo o resto, à esquerda. Se o caminho fornecido termina com uma barra, a segunda parte é uma string vazia."
   ]
  },
  {
   "cell_type": "markdown",
   "id": "fef88978-30d4-4a5c-9d30-13d9f90c022b",
   "metadata": {},
   "source": [
    "### Percorrendo diretórios e pastas\n",
    "\n",
    "Iterar sobre o conteúdo de pastas é algo relativamente comum. Por exemplo, você pode querer encontrar todos os arquivos `.csv` de uma pasta para tratá-los. Para isso, as funções `os.walk` e `os.scandir` podem ser utilizadas. `os.walk(caminho)` recebe um caminho e cria um gerador que fornece uma tupla com o caminho até a pasta, o nome das pastas dentro da pasta atual e o nome dos arquivos na pasta atual. `os.scandir` age de maneira um pouco diferente. Ele gera um iterador que retorna objetos `DirEntry`. Esses objetos contém informações sobre se algo é uma pasta ou um arquivo, e o *stats* do arquivo.\n",
    "\n",
    "Isso ainda é um tanto laborioso. Para métodos melhores de se percorrer diretórios e encontrar arquivos, podemos utilizar o módulo [`glob`](sec:glob)."
   ]
  },
  {
   "cell_type": "markdown",
   "id": "23469de9-655a-4ee4-85b5-04724cf5cb8e",
   "metadata": {},
   "source": [
    "(sec:glob)=\n",
    "## `glob`\n",
    "\n",
    "[Link da documentação](https://docs.python.org/3/library/glob.html)\n",
    "\n",
    "*glob*, que significa *global*, foi um programa criado há décadas para encontrar arquivos com base num padrão. A especificação desse padrão é bastante simples, e é capaz que você já tenha utilizado algo similar em sua vida. Os padrões são compostos por letras e números, e símbolos. As letras e números serão comparadas exatamente com os caminhos, e os símbolos são utilizados para generalizar um padrão. Os três símbolos são:\n",
    "\n",
    "* `*`, significa \"qualquer caracter, qualquer número de vezes. É de longe o símbolo mais frequentemente utilizado.\n",
    "* `?`, significa \"qualquer caracter, 1 vez.\n",
    "* `[abc...]` significa qualquer caracter dentro dos colchetes, 1 vez.\n",
    "* `[a-z]` significa qualquer caracter dentro da faixa de caracteres. `a-z` significa \"todos os caracteres entre 'a' e 'z' minúsculos\", `0-9` significa \"todos os caracteres numéricos.\n",
    "\n",
    "Além disso, você pode procurar por arquivos recursivamente utilizando o seguinte padrão: `**/`. Em Python, também é necessário utilizar o argumento `recursive=True` para procurar em subpastas.\n",
    "\n",
    "Exemplos:\n",
    "\n",
    "* `*.csv` irá corresponder a todos os arquivos que terminam com '.csv'.\n",
    "* `exercício*.csv` irá corresponder a todos os arquivos que começam com 'exercício', terminam com '.csv' e possuem qualquer texto no interior. Então 'exercício1.csv' e 'exercício-treinamento-teste.csv' ambos correspondem à esse padrão.\n",
    "* `.csv` irá corresponder somente ao arquivo cujo nome é '.csv', nada mais e nada menos.\n",
    "\n",
    "Note que um arquivo pode ter duas extensões, como 'abc.tar.gz'. Se você quiser todos os arquivos 'tar', terá que utilizar `*.tar*`, mas isso poderá corresponder a, por exemplo, 'abc.tart' também.\n",
    "\n",
    "Dentro do módulo `glob`, temos três funções. `glob`, `iglob` e `escape`. `glob` retorna uma lista com os caminhos dos arquivos, `iglob` retorna um iterador, portanto não avalia tudo de uma vez, e `escape` é utilizado para escapar símbolos que o *glob* utiliza e que podem existir em nomes de arquivos. Porém, é um pouco inconveniente ficar digitando `glob.glob` o tempo todo, e parece redundante. Por isso existe uma maneira de importar uma coisa específica de um pacote.\n",
    "\n",
    "```python\n",
    "from (pacote) import (objeto)\n",
    "```"
   ]
  },
  {
   "cell_type": "code",
   "execution_count": 62,
   "id": "97e0a990-faca-47b9-837b-d1e75f155cd6",
   "metadata": {},
   "outputs": [
    {
     "data": {
      "text/plain": [
       "['../Capítulo05/dados\\\\exercício1.csv', '../Capítulo05/dados\\\\exercício2.csv']"
      ]
     },
     "execution_count": 62,
     "metadata": {},
     "output_type": "execute_result"
    }
   ],
   "source": [
    "from glob import glob\n",
    "exercícios = glob('../Capítulo05/dados/*.csv')\n",
    "exercícios"
   ]
  },
  {
   "cell_type": "code",
   "execution_count": 77,
   "id": "e00abb8c-7799-4630-9c7f-1ba8e31b2740",
   "metadata": {},
   "outputs": [
    {
     "data": {
      "text/plain": [
       "['..\\\\Capítulo01\\\\Soluções dos exercícios\\\\complex_mod.py',\n",
       " '..\\\\Capítulo01\\\\Soluções dos exercícios\\\\pint.py',\n",
       " '..\\\\Capítulo02\\\\Soluções de exercícios\\\\prop_sympy.py',\n",
       " '..\\\\Capítulo02\\\\Soluções de exercícios\\\\prop_uncertainties.py',\n",
       " '..\\\\Capítulo03\\\\Soluções de exercícios\\\\Gerador\\\\problema_gas_ideal.py',\n",
       " '..\\\\Capítulo03\\\\Soluções de exercícios\\\\Gerador\\\\QuestionGenerator.py',\n",
       " '..\\\\Capítulo03\\\\Soluções de exercícios\\\\Gerador\\\\test_gas_ideal.py',\n",
       " '..\\\\Capítulo04\\\\Soluções de exercícios\\\\convert_dict.py',\n",
       " '..\\\\Capítulo04\\\\Soluções de exercícios\\\\convert_pint.py',\n",
       " '..\\\\Capítulo05\\\\dados\\\\gerar_csv.py',\n",
       " '..\\\\Capítulo05\\\\Soluções de exercícios\\\\contagem_palavras.py',\n",
       " '..\\\\Capítulo05\\\\Soluções de exercícios\\\\criar_exceções.py',\n",
       " '..\\\\Capítulo05\\\\Soluções de exercícios\\\\ler_csv1.py',\n",
       " '..\\\\Capítulo05\\\\Soluções de exercícios\\\\ler_csv2.py',\n",
       " '..\\\\Capítulo05\\\\Soluções de exercícios\\\\molar_mass_calculator.py',\n",
       " '..\\\\Capítulo05\\\\Soluções de exercícios\\\\molar_mass_calculator2.py',\n",
       " '..\\\\Capítulo05\\\\Soluções de exercícios\\\\plotar.py']"
      ]
     },
     "execution_count": 77,
     "metadata": {},
     "output_type": "execute_result"
    }
   ],
   "source": [
    "todos_py = glob('../**/*.py', recursive=True)\n",
    "todos_py"
   ]
  },
  {
   "cell_type": "markdown",
   "id": "01a64a40-126a-49ba-8ebb-d1eee0442334",
   "metadata": {},
   "source": [
    "(sec:pathlib)=\n",
    "## `pathlib`"
   ]
  },
  {
   "cell_type": "code",
   "execution_count": 30,
   "id": "8d446364-96d0-4f38-9f2f-00ed8be931c6",
   "metadata": {},
   "outputs": [
    {
     "name": "stdout",
     "output_type": "stream",
     "text": [
      "Help on built-in function scandir in module nt:\n",
      "\n",
      "scandir(path=None)\n",
      "    Return an iterator of DirEntry objects for given path.\n",
      "    \n",
      "    path can be specified as either str, bytes, or a path-like object.  If path\n",
      "    is bytes, the names of yielded DirEntry objects will also be bytes; in\n",
      "    all other circumstances they will be str.\n",
      "    \n",
      "    If path is None, uses the path='.'.\n",
      "\n"
     ]
    }
   ],
   "source": [
    "help(os.scandir)"
   ]
  },
  {
   "cell_type": "code",
   "execution_count": 43,
   "id": "bfa02fcf-93e7-488c-9884-bea5d11af43a",
   "metadata": {},
   "outputs": [
    {
     "name": "stdout",
     "output_type": "stream",
     "text": [
      "0 <DirEntry '.ipynb_checkpoints'>\n",
      "1 <DirEntry 'Capítulo00'>\n",
      "2 <DirEntry 'Capítulo01'>\n",
      "3 <DirEntry 'Capítulo02'>\n",
      "4 <DirEntry 'Capítulo03'>\n",
      "5 <DirEntry 'Capítulo04'>\n",
      "6 <DirEntry 'Capítulo05'>\n",
      "7 <DirEntry 'Capítulo06'>\n",
      "8 <DirEntry 'Capítulo07'>\n",
      "9 <DirEntry 'Capítulo08'>\n",
      "10 <DirEntry 'Capítulo09'>\n",
      "11 <DirEntry 'Capítulo10'>\n",
      "12 <DirEntry 'Capítulo11'>\n",
      "13 <DirEntry 'Consolidação.txt'>\n",
      "14 <DirEntry 'dados-1'>\n",
      "15 <DirEntry 'dados-2'>\n",
      "16 <DirEntry 'imagens'>\n",
      "17 <DirEntry 'intro.md'>\n",
      "18 <DirEntry 'Petrobras'>\n",
      "19 <DirEntry 'references.bib'>\n",
      "20 <DirEntry 'regex.txt'>\n",
      "21 <DirEntry 'respostas'>\n",
      "22 <DirEntry 'snippets'>\n",
      "23 <DirEntry 'turtle.ipynb'>\n",
      "24 <DirEntry '_build'>\n",
      "25 <DirEntry '_config.yml'>\n",
      "26 <DirEntry '_toc.yml'>\n"
     ]
    },
    {
     "ename": "StopIteration",
     "evalue": "",
     "output_type": "error",
     "traceback": [
      "\u001b[1;31m---------------------------------------------------------------------------\u001b[0m",
      "\u001b[1;31mStopIteration\u001b[0m                             Traceback (most recent call last)",
      "Cell \u001b[1;32mIn[43], line 3\u001b[0m\n\u001b[0;32m      1\u001b[0m it \u001b[38;5;241m=\u001b[39m os\u001b[38;5;241m.\u001b[39mscandir(\u001b[38;5;124m'\u001b[39m\u001b[38;5;124m..\u001b[39m\u001b[38;5;124m'\u001b[39m)\n\u001b[0;32m      2\u001b[0m \u001b[38;5;28;01mfor\u001b[39;00m i \u001b[38;5;129;01min\u001b[39;00m \u001b[38;5;28mrange\u001b[39m(\u001b[38;5;241m100\u001b[39m):\n\u001b[1;32m----> 3\u001b[0m     \u001b[38;5;28mprint\u001b[39m(i, \u001b[38;5;28mnext\u001b[39m(it))\n",
      "\u001b[1;31mStopIteration\u001b[0m: "
     ]
    }
   ],
   "source": [
    "it = os.scandir('..')\n",
    "for i in range(100):\n",
    "    print(i, next(it))"
   ]
  },
  {
   "cell_type": "code",
   "execution_count": 35,
   "id": "9fc0b3ac-3313-4096-a607-6e635fe0c6f8",
   "metadata": {},
   "outputs": [],
   "source": [
    "a = next(it)"
   ]
  },
  {
   "cell_type": "code",
   "execution_count": 42,
   "id": "69319dec-42c8-46a0-9aef-acd76289f689",
   "metadata": {},
   "outputs": [
    {
     "data": {
      "text/plain": [
       "7881299348973247"
      ]
     },
     "execution_count": 42,
     "metadata": {},
     "output_type": "execute_result"
    }
   ],
   "source": [
    "a.inode()"
   ]
  },
  {
   "cell_type": "code",
   "execution_count": 29,
   "id": "a819befb-abfb-4fd8-8cd1-8fb8a4469e1f",
   "metadata": {},
   "outputs": [
    {
     "name": "stdout",
     "output_type": "stream",
     "text": [
      "0 .. ['.ipynb_checkpoints', 'Capítulo00', 'Capítulo01', 'Capítulo02', 'Capítulo03', 'Capítulo04', 'Capítulo05', 'Capítulo06', 'Capítulo07', 'Capítulo08', 'Capítulo09', 'Capítulo10', 'Capítulo11', 'dados-1', 'dados-2', 'imagens', 'Petrobras', 'respostas', 'snippets', '_build'] ['Consolidação.txt', 'intro.md', 'references.bib', 'regex.txt', 'turtle.ipynb', '_config.yml', '_toc.yml']\n",
      "1 ..\\.ipynb_checkpoints [] ['_toc-checkpoint.yml']\n",
      "2 ..\\Capítulo00 ['.ipynb_checkpoints', 'imagens'] ['plot_ebbinghaus.ipynb', 'plot_produtividade.ipynb', 'texto.md']\n",
      "3 ..\\Capítulo00\\.ipynb_checkpoints [] ['Introdução-checkpoint.ipynb', 'Plot ebbinghaus-checkpoint.ipynb', 'Plot Produtividade-checkpoint.ipynb', 'plot_ebbinghaus-checkpoint.ipynb', 'plot_produtividade-checkpoint.ipynb', 'texto-checkpoint.md']\n",
      "4 ..\\Capítulo00\\imagens [] ['ebbinghaus.png', 'Fluxograma.drawio', 'Fluxograma.png', 'produtividade.png']\n",
      "5 ..\\Capítulo01 ['.ipynb_checkpoints', 'Imagens', 'Soluções dos exercícios'] ['Extra-Operadores bit-a-bit.ipynb', 'Operações matemáticas.ipynb']\n",
      "6 ..\\Capítulo01\\.ipynb_checkpoints [] ['Extra-Operadores bit-a-bit-checkpoint.ipynb', 'Operações matemáticas-checkpoint.ipynb']\n",
      "7 ..\\Capítulo01\\Imagens [] ['tomates.png', 'tomates.svg']\n",
      "8 ..\\Capítulo01\\Soluções dos exercícios ['.ipynb_checkpoints'] ['complex_mod.py', 'pint.py']\n",
      "9 ..\\Capítulo01\\Soluções dos exercícios\\.ipynb_checkpoints [] ['pint-checkpoint.py']\n",
      "10 ..\\Capítulo02 ['.ipynb_checkpoints', 'Soluções de exercícios'] ['Variáveis.ipynb']\n",
      "11 ..\\Capítulo02\\.ipynb_checkpoints [] ['Variáveis-checkpoint.ipynb']\n",
      "12 ..\\Capítulo02\\Soluções de exercícios ['.ipynb_checkpoints'] ['prop_sympy.py', 'prop_uncertainties.py']\n",
      "13 ..\\Capítulo02\\Soluções de exercícios\\.ipynb_checkpoints [] ['prop_sympy-checkpoint.py', 'prop_uncertainties-checkpoint.py']\n",
      "14 ..\\Capítulo03 ['.ipynb_checkpoints', 'Soluções de exercícios'] ['Extra-Formatação de strings com operador módulo.ipynb', 'Funções e strings.ipynb']\n",
      "15 ..\\Capítulo03\\.ipynb_checkpoints [] ['Extra-Formatação de strings com operador módulo-checkpoint.ipynb', 'Funções e strings-checkpoint.ipynb']\n",
      "16 ..\\Capítulo03\\Soluções de exercícios ['Gerador'] []\n",
      "17 ..\\Capítulo03\\Soluções de exercícios\\Gerador ['__pycache__'] ['problema_gas_ideal.py', 'QuestionGenerator.py', 'test_gas_ideal.py']\n",
      "18 ..\\Capítulo03\\Soluções de exercícios\\Gerador\\__pycache__ [] ['problema_gas_ideal.cpython-311.pyc', 'QuestionGenerator.cpython-311.pyc']\n",
      "19 ..\\Capítulo04 ['.ipynb_checkpoints', 'Soluções de exercícios'] ['Condicionais.ipynb']\n",
      "20 ..\\Capítulo04\\.ipynb_checkpoints [] ['Condicionais-checkpoint.ipynb']\n",
      "21 ..\\Capítulo04\\Soluções de exercícios ['.ipynb_checkpoints'] ['convert_dict.py', 'convert_pint.py']\n",
      "22 ..\\Capítulo04\\Soluções de exercícios\\.ipynb_checkpoints [] ['convert_dict-checkpoint.py', 'convert_pint-checkpoint.py']\n",
      "23 ..\\Capítulo05 ['.ipynb_checkpoints', 'dados', 'Soluções de exercícios'] ['Estruturas de dados e loops.ipynb', 'Extra-Exceções.ipynb', 'Extra-Geradores.ipynb', 'Instalando e carregando módulos.ipynb']\n",
      "24 ..\\Capítulo05\\.ipynb_checkpoints [] ['Estruturas de dados e loops-checkpoint.ipynb']\n",
      "25 ..\\Capítulo05\\dados ['.ipynb_checkpoints'] ['exercício1.csv', 'exercício2.csv', 'gerar_csv.py', 'iracema.txt']\n",
      "26 ..\\Capítulo05\\dados\\.ipynb_checkpoints [] ['gerar_csv-checkpoint.py']\n",
      "27 ..\\Capítulo05\\Soluções de exercícios ['.ipynb_checkpoints'] ['contagem_palavras.py', 'criar_exceções.py', 'ler_csv1.py', 'ler_csv2.py', 'molar_mass_calculator.py', 'molar_mass_calculator2.py', 'plotar.py']\n",
      "28 ..\\Capítulo05\\Soluções de exercícios\\.ipynb_checkpoints [] ['contagem_palavras-checkpoint.py', 'criar_exceções-checkpoint.py', 'ler_csv1-checkpoint.py', 'ler_csv2-checkpoint.py', 'molar_mass_calculator-checkpoint.py', 'molar_mass_calculator2-checkpoint.py', 'plotar-checkpoint.py']\n",
      "29 ..\\Capítulo06 ['.ipynb_checkpoints', 'dados'] ['Definindo funções.ipynb', 'Importando bibliotecas.ipynb']\n",
      "30 ..\\Capítulo06\\.ipynb_checkpoints [] ['Definindo funções-checkpoint.ipynb', 'Importando bibliotecas-checkpoint.ipynb']\n",
      "31 ..\\Capítulo06\\dados [] []\n",
      "32 ..\\Capítulo07 [] ['Numpy.ipynb']\n",
      "33 ..\\Capítulo08 [] ['Carregando e manipulando dados com Pandas.ipynb']\n",
      "34 ..\\Capítulo09 [] ['matplotlib e pyplot.ipynb']\n",
      "35 ..\\Capítulo10 [] ['Algumas ferramentas.ipynb']\n",
      "36 ..\\Capítulo11 [] ['Classes, módulos, magic e outras coisas.ipynb']\n",
      "37 ..\\dados-1 [] ['37.dat', '38.dat', '39.dat', '40.dat', '41.dat', '42.dat', '43.dat', '44.dat', '45.dat']\n",
      "38 ..\\dados-2 [] ['Calorimetria.csv', 'DSC.txt', 'Reologia.txt']\n",
      "39 ..\\imagens [] ['flor.jpg']\n",
      "40 ..\\Petrobras [] ['brazil.txt', 'brazil.zip', 'Pre-salt.ipynb', 'tabela-de-pocos.xlsx']\n",
      "41 ..\\respostas [] ['Conceitos.py', 'Consolidação1.py', 'Exercicio_derivadas.py', 'Exercicio_max_min_len_sum.py', 'Func_carregar.py', 'Pandas-DSC.py', 'Pandas-ITC.py', 'Pandas-reologia.py']\n",
      "42 ..\\snippets [] ['barra.py', 'classe.py', 'escrever.py', 'executavel.py', 'teste.py']\n",
      "43 ..\\_build ['.doctrees', 'html', 'jupyter_execute'] []\n",
      "44 ..\\_build\\.doctrees ['Capítulo00', 'Capítulo01', 'Capítulo02', 'Capítulo03', 'Capítulo04', 'Capítulo05'] ['environment.pickle', 'intro.doctree']\n",
      "45 ..\\_build\\.doctrees\\Capítulo00 [] ['texto.doctree']\n",
      "46 ..\\_build\\.doctrees\\Capítulo01 [] ['Extra-Operadores bit-a-bit.doctree', 'Operações matemáticas.doctree']\n",
      "47 ..\\_build\\.doctrees\\Capítulo02 [] ['Variáveis.doctree']\n",
      "48 ..\\_build\\.doctrees\\Capítulo03 [] ['Extra-Formatação de strings com operador módulo.doctree', 'Funções e strings.doctree']\n",
      "49 ..\\_build\\.doctrees\\Capítulo04 [] ['Condicionais.doctree']\n",
      "50 ..\\_build\\.doctrees\\Capítulo05 [] ['Estruturas de dados e loops.doctree', 'Extra-Exceções.doctree', 'Extra-Geradores.doctree']\n",
      "51 ..\\_build\\html ['Capítulo00', 'Capítulo01', 'Capítulo02', 'Capítulo03', 'Capítulo04', 'Capítulo05', '_images', '_sources', '_sphinx_design_static', '_static'] ['.buildinfo', 'genindex.html', 'index.html', 'intro.html', 'objects.inv', 'search.html', 'searchindex.js']\n",
      "52 ..\\_build\\html\\Capítulo00 [] ['texto.html']\n",
      "53 ..\\_build\\html\\Capítulo01 [] ['Extra-Operadores bit-a-bit.html', 'Operações matemáticas.html']\n",
      "54 ..\\_build\\html\\Capítulo02 [] ['Variáveis.html']\n",
      "55 ..\\_build\\html\\Capítulo03 [] ['Extra-Formatação de strings com operador módulo.html', 'Funções e strings.html']\n",
      "56 ..\\_build\\html\\Capítulo04 [] ['Condicionais.html']\n",
      "57 ..\\_build\\html\\Capítulo05 [] ['Estruturas de dados e loops.html', 'Extra-Exceções.html', 'Extra-Geradores.html']\n",
      "58 ..\\_build\\html\\_images [] ['ebbinghaus.png', 'Fluxograma.png', 'produtividade.png', 'tomates.png']\n",
      "59 ..\\_build\\html\\_sources ['Capítulo00', 'Capítulo01', 'Capítulo02', 'Capítulo03', 'Capítulo04', 'Capítulo05'] ['intro.md']\n",
      "60 ..\\_build\\html\\_sources\\Capítulo00 [] ['texto.md']\n",
      "61 ..\\_build\\html\\_sources\\Capítulo01 [] ['Extra-Operadores bit-a-bit.ipynb', 'Operações matemáticas.ipynb']\n",
      "62 ..\\_build\\html\\_sources\\Capítulo02 [] ['Variáveis.ipynb']\n",
      "63 ..\\_build\\html\\_sources\\Capítulo03 [] ['Extra-Formatação de strings com operador módulo.ipynb', 'Funções e strings.ipynb']\n",
      "64 ..\\_build\\html\\_sources\\Capítulo04 [] ['Condicionais.ipynb']\n",
      "65 ..\\_build\\html\\_sources\\Capítulo05 [] ['Estruturas de dados e loops.ipynb', 'Extra-Exceções.ipynb', 'Extra-Geradores.ipynb']\n",
      "66 ..\\_build\\html\\_sphinx_design_static [] ['design-style.4045f2051d55cab465a707391d5b2007.min.css', 'design-tabs.js']\n",
      "67 ..\\_build\\html\\_static ['images', 'locales', 'scripts', 'styles', 'vendor'] ['basic.css', 'check-solid.svg', 'clipboard.min.js', 'copy-button.svg', 'copybutton.css', 'copybutton.js', 'copybutton_funcs.js', 'design-style.4045f2051d55cab465a707391d5b2007.min.css', 'design-tabs.js', 'doctools.js', 'documentation_options.js', 'file.png', 'jquery-3.6.0.js', 'jquery.js', 'language_data.js', 'minus.png', 'mystnb.4510f1fc1dee50b3e5859aac5469c37c29e427902b24a333a5f9fcb2f0b3ac41.css', 'plus.png', 'pygments.css', 'sbt-webpack-macros.html', 'searchtools.js', 'sphinx-thebe.css', 'sphinx-thebe.js', 'togglebutton.css', 'togglebutton.js', 'underscore-1.13.1.js', 'underscore.js', 'webpack-macros.html', '_sphinx_javascript_frameworks_compat.js']\n",
      "68 ..\\_build\\html\\_static\\images [] ['logo_binder.svg', 'logo_colab.png', 'logo_deepnote.svg', 'logo_jupyterhub.svg']\n",
      "69 ..\\_build\\html\\_static\\locales ['ar', 'bg', 'bn', 'ca', 'cs', 'da', 'de', 'el', 'eo', 'es', 'et', 'fi', 'fr', 'hr', 'id', 'it', 'iw', 'ja', 'ko', 'lt', 'lv', 'ml', 'mr', 'ms', 'nl', 'no', 'pl', 'pt', 'ro', 'ru', 'sk', 'sl', 'sr', 'sv', 'ta', 'te', 'tg', 'th', 'tl', 'tr', 'uk', 'ur', 'vi', 'zh_CN', 'zh_TW'] []\n",
      "70 ..\\_build\\html\\_static\\locales\\ar ['LC_MESSAGES'] []\n",
      "71 ..\\_build\\html\\_static\\locales\\ar\\LC_MESSAGES [] ['booktheme.mo', 'booktheme.po']\n",
      "72 ..\\_build\\html\\_static\\locales\\bg ['LC_MESSAGES'] []\n",
      "73 ..\\_build\\html\\_static\\locales\\bg\\LC_MESSAGES [] ['booktheme.mo', 'booktheme.po']\n",
      "74 ..\\_build\\html\\_static\\locales\\bn ['LC_MESSAGES'] []\n",
      "75 ..\\_build\\html\\_static\\locales\\bn\\LC_MESSAGES [] ['booktheme.mo', 'booktheme.po']\n",
      "76 ..\\_build\\html\\_static\\locales\\ca ['LC_MESSAGES'] []\n",
      "77 ..\\_build\\html\\_static\\locales\\ca\\LC_MESSAGES [] ['booktheme.mo', 'booktheme.po']\n",
      "78 ..\\_build\\html\\_static\\locales\\cs ['LC_MESSAGES'] []\n",
      "79 ..\\_build\\html\\_static\\locales\\cs\\LC_MESSAGES [] ['booktheme.mo', 'booktheme.po']\n",
      "80 ..\\_build\\html\\_static\\locales\\da ['LC_MESSAGES'] []\n",
      "81 ..\\_build\\html\\_static\\locales\\da\\LC_MESSAGES [] ['booktheme.mo', 'booktheme.po']\n",
      "82 ..\\_build\\html\\_static\\locales\\de ['LC_MESSAGES'] []\n",
      "83 ..\\_build\\html\\_static\\locales\\de\\LC_MESSAGES [] ['booktheme.mo', 'booktheme.po']\n",
      "84 ..\\_build\\html\\_static\\locales\\el ['LC_MESSAGES'] []\n",
      "85 ..\\_build\\html\\_static\\locales\\el\\LC_MESSAGES [] ['booktheme.mo', 'booktheme.po']\n",
      "86 ..\\_build\\html\\_static\\locales\\eo ['LC_MESSAGES'] []\n",
      "87 ..\\_build\\html\\_static\\locales\\eo\\LC_MESSAGES [] ['booktheme.mo', 'booktheme.po']\n",
      "88 ..\\_build\\html\\_static\\locales\\es ['LC_MESSAGES'] []\n",
      "89 ..\\_build\\html\\_static\\locales\\es\\LC_MESSAGES [] ['booktheme.mo', 'booktheme.po']\n",
      "90 ..\\_build\\html\\_static\\locales\\et ['LC_MESSAGES'] []\n",
      "91 ..\\_build\\html\\_static\\locales\\et\\LC_MESSAGES [] ['booktheme.mo', 'booktheme.po']\n",
      "92 ..\\_build\\html\\_static\\locales\\fi ['LC_MESSAGES'] []\n",
      "93 ..\\_build\\html\\_static\\locales\\fi\\LC_MESSAGES [] ['booktheme.mo', 'booktheme.po']\n",
      "94 ..\\_build\\html\\_static\\locales\\fr ['LC_MESSAGES'] []\n",
      "95 ..\\_build\\html\\_static\\locales\\fr\\LC_MESSAGES [] ['booktheme.mo', 'booktheme.po']\n",
      "96 ..\\_build\\html\\_static\\locales\\hr ['LC_MESSAGES'] []\n",
      "97 ..\\_build\\html\\_static\\locales\\hr\\LC_MESSAGES [] ['booktheme.mo', 'booktheme.po']\n",
      "98 ..\\_build\\html\\_static\\locales\\id ['LC_MESSAGES'] []\n",
      "99 ..\\_build\\html\\_static\\locales\\id\\LC_MESSAGES [] ['booktheme.mo', 'booktheme.po']\n",
      "100 ..\\_build\\html\\_static\\locales\\it ['LC_MESSAGES'] []\n",
      "101 ..\\_build\\html\\_static\\locales\\it\\LC_MESSAGES [] ['booktheme.mo', 'booktheme.po']\n",
      "102 ..\\_build\\html\\_static\\locales\\iw ['LC_MESSAGES'] []\n",
      "103 ..\\_build\\html\\_static\\locales\\iw\\LC_MESSAGES [] ['booktheme.mo', 'booktheme.po']\n",
      "104 ..\\_build\\html\\_static\\locales\\ja ['LC_MESSAGES'] []\n",
      "105 ..\\_build\\html\\_static\\locales\\ja\\LC_MESSAGES [] ['booktheme.mo', 'booktheme.po']\n",
      "106 ..\\_build\\html\\_static\\locales\\ko ['LC_MESSAGES'] []\n",
      "107 ..\\_build\\html\\_static\\locales\\ko\\LC_MESSAGES [] ['booktheme.mo', 'booktheme.po']\n",
      "108 ..\\_build\\html\\_static\\locales\\lt ['LC_MESSAGES'] []\n",
      "109 ..\\_build\\html\\_static\\locales\\lt\\LC_MESSAGES [] ['booktheme.mo', 'booktheme.po']\n",
      "110 ..\\_build\\html\\_static\\locales\\lv ['LC_MESSAGES'] []\n",
      "111 ..\\_build\\html\\_static\\locales\\lv\\LC_MESSAGES [] ['booktheme.mo', 'booktheme.po']\n",
      "112 ..\\_build\\html\\_static\\locales\\ml ['LC_MESSAGES'] []\n",
      "113 ..\\_build\\html\\_static\\locales\\ml\\LC_MESSAGES [] ['booktheme.mo', 'booktheme.po']\n",
      "114 ..\\_build\\html\\_static\\locales\\mr ['LC_MESSAGES'] []\n",
      "115 ..\\_build\\html\\_static\\locales\\mr\\LC_MESSAGES [] ['booktheme.mo', 'booktheme.po']\n",
      "116 ..\\_build\\html\\_static\\locales\\ms ['LC_MESSAGES'] []\n",
      "117 ..\\_build\\html\\_static\\locales\\ms\\LC_MESSAGES [] ['booktheme.mo', 'booktheme.po']\n",
      "118 ..\\_build\\html\\_static\\locales\\nl ['LC_MESSAGES'] []\n",
      "119 ..\\_build\\html\\_static\\locales\\nl\\LC_MESSAGES [] ['booktheme.mo', 'booktheme.po']\n",
      "120 ..\\_build\\html\\_static\\locales\\no ['LC_MESSAGES'] []\n",
      "121 ..\\_build\\html\\_static\\locales\\no\\LC_MESSAGES [] ['booktheme.mo', 'booktheme.po']\n",
      "122 ..\\_build\\html\\_static\\locales\\pl ['LC_MESSAGES'] []\n",
      "123 ..\\_build\\html\\_static\\locales\\pl\\LC_MESSAGES [] ['booktheme.mo', 'booktheme.po']\n",
      "124 ..\\_build\\html\\_static\\locales\\pt ['LC_MESSAGES'] []\n",
      "125 ..\\_build\\html\\_static\\locales\\pt\\LC_MESSAGES [] ['booktheme.mo', 'booktheme.po']\n",
      "126 ..\\_build\\html\\_static\\locales\\ro ['LC_MESSAGES'] []\n",
      "127 ..\\_build\\html\\_static\\locales\\ro\\LC_MESSAGES [] ['booktheme.mo', 'booktheme.po']\n",
      "128 ..\\_build\\html\\_static\\locales\\ru ['LC_MESSAGES'] []\n",
      "129 ..\\_build\\html\\_static\\locales\\ru\\LC_MESSAGES [] ['booktheme.mo', 'booktheme.po']\n",
      "130 ..\\_build\\html\\_static\\locales\\sk ['LC_MESSAGES'] []\n",
      "131 ..\\_build\\html\\_static\\locales\\sk\\LC_MESSAGES [] ['booktheme.mo', 'booktheme.po']\n",
      "132 ..\\_build\\html\\_static\\locales\\sl ['LC_MESSAGES'] []\n",
      "133 ..\\_build\\html\\_static\\locales\\sl\\LC_MESSAGES [] ['booktheme.mo', 'booktheme.po']\n",
      "134 ..\\_build\\html\\_static\\locales\\sr ['LC_MESSAGES'] []\n",
      "135 ..\\_build\\html\\_static\\locales\\sr\\LC_MESSAGES [] ['booktheme.mo', 'booktheme.po']\n",
      "136 ..\\_build\\html\\_static\\locales\\sv ['LC_MESSAGES'] []\n",
      "137 ..\\_build\\html\\_static\\locales\\sv\\LC_MESSAGES [] ['booktheme.mo', 'booktheme.po']\n",
      "138 ..\\_build\\html\\_static\\locales\\ta ['LC_MESSAGES'] []\n",
      "139 ..\\_build\\html\\_static\\locales\\ta\\LC_MESSAGES [] ['booktheme.mo', 'booktheme.po']\n",
      "140 ..\\_build\\html\\_static\\locales\\te ['LC_MESSAGES'] []\n",
      "141 ..\\_build\\html\\_static\\locales\\te\\LC_MESSAGES [] ['booktheme.mo', 'booktheme.po']\n",
      "142 ..\\_build\\html\\_static\\locales\\tg ['LC_MESSAGES'] []\n",
      "143 ..\\_build\\html\\_static\\locales\\tg\\LC_MESSAGES [] ['booktheme.mo', 'booktheme.po']\n",
      "144 ..\\_build\\html\\_static\\locales\\th ['LC_MESSAGES'] []\n",
      "145 ..\\_build\\html\\_static\\locales\\th\\LC_MESSAGES [] ['booktheme.mo', 'booktheme.po']\n",
      "146 ..\\_build\\html\\_static\\locales\\tl ['LC_MESSAGES'] []\n",
      "147 ..\\_build\\html\\_static\\locales\\tl\\LC_MESSAGES [] ['booktheme.mo', 'booktheme.po']\n",
      "148 ..\\_build\\html\\_static\\locales\\tr ['LC_MESSAGES'] []\n",
      "149 ..\\_build\\html\\_static\\locales\\tr\\LC_MESSAGES [] ['booktheme.mo', 'booktheme.po']\n",
      "150 ..\\_build\\html\\_static\\locales\\uk ['LC_MESSAGES'] []\n",
      "151 ..\\_build\\html\\_static\\locales\\uk\\LC_MESSAGES [] ['booktheme.mo', 'booktheme.po']\n",
      "152 ..\\_build\\html\\_static\\locales\\ur ['LC_MESSAGES'] []\n",
      "153 ..\\_build\\html\\_static\\locales\\ur\\LC_MESSAGES [] ['booktheme.mo', 'booktheme.po']\n",
      "154 ..\\_build\\html\\_static\\locales\\vi ['LC_MESSAGES'] []\n",
      "155 ..\\_build\\html\\_static\\locales\\vi\\LC_MESSAGES [] ['booktheme.mo', 'booktheme.po']\n",
      "156 ..\\_build\\html\\_static\\locales\\zh_CN ['LC_MESSAGES'] []\n",
      "157 ..\\_build\\html\\_static\\locales\\zh_CN\\LC_MESSAGES [] ['booktheme.mo', 'booktheme.po']\n",
      "158 ..\\_build\\html\\_static\\locales\\zh_TW ['LC_MESSAGES'] []\n",
      "159 ..\\_build\\html\\_static\\locales\\zh_TW\\LC_MESSAGES [] ['booktheme.mo', 'booktheme.po']\n",
      "160 ..\\_build\\html\\_static\\scripts [] ['bootstrap.js', 'bootstrap.js.LICENSE.txt', 'bootstrap.js.map', 'pydata-sphinx-theme.js', 'pydata-sphinx-theme.js.map', 'sphinx-book-theme.js', 'sphinx-book-theme.js.map']\n",
      "161 ..\\_build\\html\\_static\\styles [] ['bootstrap.css', 'pydata-sphinx-theme.css', 'sphinx-book-theme.css', 'theme.css']\n",
      "162 ..\\_build\\html\\_static\\vendor ['fontawesome'] []\n",
      "163 ..\\_build\\html\\_static\\vendor\\fontawesome ['6.1.2'] []\n",
      "164 ..\\_build\\html\\_static\\vendor\\fontawesome\\6.1.2 ['css', 'webfonts'] ['LICENSE.txt']\n",
      "165 ..\\_build\\html\\_static\\vendor\\fontawesome\\6.1.2\\css [] ['all.min.css']\n",
      "166 ..\\_build\\html\\_static\\vendor\\fontawesome\\6.1.2\\webfonts [] ['fa-brands-400.ttf', 'fa-brands-400.woff2', 'fa-regular-400.ttf', 'fa-regular-400.woff2', 'fa-solid-900.ttf', 'fa-solid-900.woff2', 'fa-v4compatibility.ttf', 'fa-v4compatibility.woff2']\n",
      "167 ..\\_build\\jupyter_execute ['Capítulo00', 'Capítulo01', 'Capítulo02', 'Capítulo03', 'Capítulo04', 'Capítulo05'] []\n",
      "168 ..\\_build\\jupyter_execute\\Capítulo00 [] ['texto.ipynb']\n",
      "169 ..\\_build\\jupyter_execute\\Capítulo01 [] ['Extra-Operadores bit-a-bit.ipynb', 'Operações matemáticas.ipynb']\n",
      "170 ..\\_build\\jupyter_execute\\Capítulo02 [] ['Variáveis.ipynb']\n",
      "171 ..\\_build\\jupyter_execute\\Capítulo03 [] ['Extra-Formatação de strings com operador módulo.ipynb', 'Funções e strings.ipynb']\n",
      "172 ..\\_build\\jupyter_execute\\Capítulo04 [] ['Condicionais.ipynb']\n",
      "173 ..\\_build\\jupyter_execute\\Capítulo05 [] ['Estruturas de dados e loops.ipynb', 'Extra-Exceções.ipynb', 'Extra-Geradores.ipynb']\n"
     ]
    }
   ],
   "source": [
    "for i, (dirpath, dirname, filename) in enumerate(os.walk('..')):\n",
    "    print(i, dirpath, dirname, filename)"
   ]
  },
  {
   "cell_type": "code",
   "execution_count": 24,
   "id": "356f09e8-f0df-4af2-858a-e1d9b5ca1631",
   "metadata": {},
   "outputs": [
    {
     "name": "stdout",
     "output_type": "stream",
     "text": [
      "Help on function walk in module os:\n",
      "\n",
      "walk(top, topdown=True, onerror=None, followlinks=False)\n",
      "    Directory tree generator.\n",
      "    \n",
      "    For each directory in the directory tree rooted at top (including top\n",
      "    itself, but excluding '.' and '..'), yields a 3-tuple\n",
      "    \n",
      "        dirpath, dirnames, filenames\n",
      "    \n",
      "    dirpath is a string, the path to the directory.  dirnames is a list of\n",
      "    the names of the subdirectories in dirpath (including symlinks to directories,\n",
      "    and excluding '.' and '..').\n",
      "    filenames is a list of the names of the non-directory files in dirpath.\n",
      "    Note that the names in the lists are just names, with no path components.\n",
      "    To get a full path (which begins with top) to a file or directory in\n",
      "    dirpath, do os.path.join(dirpath, name).\n",
      "    \n",
      "    If optional arg 'topdown' is true or not specified, the triple for a\n",
      "    directory is generated before the triples for any of its subdirectories\n",
      "    (directories are generated top down).  If topdown is false, the triple\n",
      "    for a directory is generated after the triples for all of its\n",
      "    subdirectories (directories are generated bottom up).\n",
      "    \n",
      "    When topdown is true, the caller can modify the dirnames list in-place\n",
      "    (e.g., via del or slice assignment), and walk will only recurse into the\n",
      "    subdirectories whose names remain in dirnames; this can be used to prune the\n",
      "    search, or to impose a specific order of visiting.  Modifying dirnames when\n",
      "    topdown is false has no effect on the behavior of os.walk(), since the\n",
      "    directories in dirnames have already been generated by the time dirnames\n",
      "    itself is generated. No matter the value of topdown, the list of\n",
      "    subdirectories is retrieved before the tuples for the directory and its\n",
      "    subdirectories are generated.\n",
      "    \n",
      "    By default errors from the os.scandir() call are ignored.  If\n",
      "    optional arg 'onerror' is specified, it should be a function; it\n",
      "    will be called with one argument, an OSError instance.  It can\n",
      "    report the error to continue with the walk, or raise the exception\n",
      "    to abort the walk.  Note that the filename is available as the\n",
      "    filename attribute of the exception object.\n",
      "    \n",
      "    By default, os.walk does not follow symbolic links to subdirectories on\n",
      "    systems that support them.  In order to get this functionality, set the\n",
      "    optional argument 'followlinks' to true.\n",
      "    \n",
      "    Caution:  if you pass a relative pathname for top, don't change the\n",
      "    current working directory between resumptions of walk.  walk never\n",
      "    changes the current directory, and assumes that the client doesn't\n",
      "    either.\n",
      "    \n",
      "    Example:\n",
      "    \n",
      "    import os\n",
      "    from os.path import join, getsize\n",
      "    for root, dirs, files in os.walk('python/Lib/email'):\n",
      "        print(root, \"consumes \")\n",
      "        print(sum(getsize(join(root, name)) for name in files), end=\" \")\n",
      "        print(\"bytes in\", len(files), \"non-directory files\")\n",
      "        if 'CVS' in dirs:\n",
      "            dirs.remove('CVS')  # don't visit CVS directories\n",
      "\n"
     ]
    }
   ],
   "source": [
    "help(os.walk)"
   ]
  },
  {
   "cell_type": "code",
   "execution_count": 23,
   "id": "96b8ef61-1c69-49be-9c4b-073208204168",
   "metadata": {},
   "outputs": [
    {
     "data": {
      "text/plain": [
       "0"
      ]
     },
     "execution_count": 23,
     "metadata": {},
     "output_type": "execute_result"
    }
   ],
   "source": [
    "os.system('dir')"
   ]
  },
  {
   "cell_type": "markdown",
   "id": "2e52fcae-c813-43ba-bb14-415d990a6d4a",
   "metadata": {},
   "source": [
    "Aqui, podemos acessar `Importando bibliotecas.ipynb` e verificar se é um arquivo de fato com a função `isfile` contida dentro do submódulo `path` de `os`. ([documentação](https://docs.python.org/3/library/os.path.html))"
   ]
  },
  {
   "cell_type": "code",
   "execution_count": 6,
   "id": "22ddc390-fd2c-4837-bf69-5dec3222098e",
   "metadata": {},
   "outputs": [
    {
     "data": {
      "text/plain": [
       "True"
      ]
     },
     "execution_count": 6,
     "metadata": {},
     "output_type": "execute_result"
    }
   ],
   "source": [
    "os.path.isfile('./Importando bibliotecas.ipynb')"
   ]
  },
  {
   "cell_type": "code",
   "execution_count": 9,
   "id": "80ec273f-88b6-41e0-bd18-fe4cf4f9602a",
   "metadata": {},
   "outputs": [
    {
     "data": {
      "text/plain": [
       "False"
      ]
     },
     "execution_count": 9,
     "metadata": {},
     "output_type": "execute_result"
    }
   ],
   "source": [
    "os.path.isfile(os.getcwd())"
   ]
  },
  {
   "cell_type": "markdown",
   "id": "2748dfe5-b273-4c1f-a91f-2b0bd27cf0a7",
   "metadata": {},
   "source": [
    "Podemos expandir um caminho relativo para um caminho absoluto com `os.path.abspath`"
   ]
  },
  {
   "cell_type": "code",
   "execution_count": 11,
   "id": "ac7d1ddd-82ef-416c-a776-83c3aed6af94",
   "metadata": {},
   "outputs": [
    {
     "data": {
      "text/plain": [
       "'C:\\\\Users\\\\karl.clinckspoor\\\\Downloads\\\\CursoPython\\\\Capítulos\\\\Capítulo06\\\\Importando bibliotecas.ipynb'"
      ]
     },
     "execution_count": 11,
     "metadata": {},
     "output_type": "execute_result"
    }
   ],
   "source": [
    "os.path.abspath('./Importando bibliotecas.ipynb')"
   ]
  },
  {
   "cell_type": "markdown",
   "id": "5eef78c3-4b45-4086-9d75-952ba19c4f21",
   "metadata": {},
   "source": [
    "E voltar a um caminho relativo com `os.path.relpath`."
   ]
  },
  {
   "cell_type": "code",
   "execution_count": 12,
   "id": "586b4c1f-3924-4ded-961f-9508e477e325",
   "metadata": {},
   "outputs": [
    {
     "data": {
      "text/plain": [
       "'Importando bibliotecas.ipynb'"
      ]
     },
     "execution_count": 12,
     "metadata": {},
     "output_type": "execute_result"
    }
   ],
   "source": [
    "os.path.relpath(os.path.abspath('./Importando bibliotecas.ipynb'))"
   ]
  },
  {
   "cell_type": "markdown",
   "id": "51340f1f-49ed-497e-b64f-50b6314ded83",
   "metadata": {},
   "source": [
    "E ver o tamanho do arquivo com "
   ]
  }
 ],
 "metadata": {
  "kernelspec": {
   "display_name": "CursoPython",
   "language": "python",
   "name": "cursopython"
  },
  "language_info": {
   "codemirror_mode": {
    "name": "ipython",
    "version": 3
   },
   "file_extension": ".py",
   "mimetype": "text/x-python",
   "name": "python",
   "nbconvert_exporter": "python",
   "pygments_lexer": "ipython3",
   "version": "3.11.3"
  }
 },
 "nbformat": 4,
 "nbformat_minor": 5
}
