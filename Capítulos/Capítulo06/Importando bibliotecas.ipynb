{
 "cells": [
  {
   "cell_type": "markdown",
   "id": "00c19cae-4270-4047-8fdb-a599e9462329",
   "metadata": {},
   "source": [
    "# Importando bibliotecas\n",
    "\n",
    "Uma das grandes vantagens de Python é a extensa comunidade presente, que cria e mantém pacotes e bibliotecas para as mais variadas funções. Neste capítulo, aprenderemos como importar bibliotecas e exploraremos algumas bibliotecas embutidas. Para mais detalhes sobre importação, [veja a documentação oficial](https://docs.python.org/3/reference/import.html). Por trás dos panos, a operação de importação é bastante complexa, mas a interface para fazer tarefas simples é simples também.\n",
    "\n",
    "Primeiro, vamos esclarecer alguns termos:\n",
    "\n",
    "* módulo: um módulo contém objetos de Python, que é acessada pelo processo de importação. Uma analogia é considerar um módulo como um arquivo.\n",
    "* pacote: é um módulo que contém submódulos e subpacotes. Serve para organizar os módulos. Uma analogia é considerar um pacote como uma pasta, que pode conter outras pastas (subpacotes) e arquivos (submódulos).\n",
    "* importar: processo em que um módulo ganha acesso a código em outro módulo\n",
    "* biblioteca: um termo menos preciso, e significa em essência um conjunto de módulos, como a biblioteca padrão (*standard library* - que chamei de bibliotecas embutidas).\n",
    "\n",
    "Para importar um pacote, utilize a sintaxe: \n",
    "\n",
    "```python\n",
    "import pacote\n",
    "```\n",
    "\n",
    "Se você quiser importar apenas uma parte do código de um módulo, você deve utilizar\n",
    "\n",
    "```python\n",
    "from pacote import parte\n",
    "```\n",
    "\n",
    "E então essa parte estará acessível a seu código, mas o pacote em si não, a não ser que você importe ele diretamente também. É possível importar várias partes de uma vez, como `from pacote import parte1, parte2, parte3`.\n",
    "\n",
    "Você também pode alterar o nome de algo ao importá-lo. Isso é muito comum com certas bibliotecas, que possuem uma nomeação praticamente padrão:\n",
    "\n",
    "```python\n",
    "import pacote as novo_nome\n",
    "```\n",
    "\n",
    "```python\n",
    "import pandas as pd\n",
    "import numpy as np\n",
    "```\n",
    "\n",
    "E por fim, você pode importar um submódulo com esta sintaxe:\n",
    "\n",
    "```python\n",
    "import pacote.submódulo\n",
    "```\n",
    "\n",
    "e o submódulo estará disponível por seu nome completo, `pacote.submódulo`. Como isso é muitas vezes inconveniente, você pode renomear essa importação, como o exemplo anterior mostrou. \n",
    "\n",
    "```python\n",
    "import matplotlib.pyplot as plt\n",
    "```\n",
    "\n",
    "Quando você importa um módulo, todo o código dentro dele é executado. Logo, se existir em algum local um comando `print('abc')`, no escopo global do pacote, esse comando será executado sempre que o pacote for importado. Por exemplo, suponha que você criou este arquivo inicialmente com o propósito de rodá-lo diretamente com `python arquivo.py`.\n",
    "\n",
    "```python\n",
    "# arquivo.py\n",
    "def ação():\n",
    "    print('Hello world!')\n",
    "\n",
    "ação()\n",
    "```\n",
    "\n",
    "Posteriormente, você gostaria de importar a função `ação` para utilizar em outro projeto. Se você importar esse arquivo com `import arquivo`, a mensagem `Hello world!'` irá aparecer. Em outros casos, um erro poderá ocorrer e a importação não terá sido bem sucedida. Para impedir esses problemas de ocorrerem, utiliza-se a seguinte construção:\n",
    "\n",
    "```python\n",
    "# arquivo.py\n",
    "def ação():\n",
    "    print('Hello world!')\n",
    "\n",
    "if __name__ == '__main__':\n",
    "    ação()\n",
    "```\n",
    "\n",
    "A variável `__name__` é igual ao nome do pacote quando o arquivo é importado e é `__main__` quando um arquivo é rodado diretamente. Assim, a chamada da função `ação` só ocorrerá se `arquivo.py` for executado diretamente, e não importado.\n",
    "\n",
    "O resto deste capítulo será dedicado à exploração de alguns pacotes da biblioteca padrão de Python."
   ]
  },
  {
   "cell_type": "markdown",
   "id": "7c4aed7a-f16d-4a2b-a73d-215a74934c17",
   "metadata": {},
   "source": [
    "## Manipulação de arquivos e diretórios\n",
    "\n",
    "### `os`\n",
    "\n",
    "[Link da documentação](https://docs.python.org/3/library/os.html)\n",
    "\n",
    "O pacote `os` contém funções para interagir com o sistema operacional de maneira independente da plataforma. Por exemplo, Windows e Linux utilizam comandos diferentes para gerar arquivos, mudar de pastas, mas podemos abstrair isso utilizando as funções em `os`. Primeiro, vamos explorar como gerar algumas pastas."
   ]
  },
  {
   "cell_type": "code",
   "execution_count": 1,
   "id": "b1547979-1cfa-44f9-a81a-2766f8f79ac7",
   "metadata": {},
   "outputs": [],
   "source": [
    "import os"
   ]
  },
  {
   "cell_type": "markdown",
   "id": "7c8f3e69-40cf-43ba-8503-ec2fae4d18cf",
   "metadata": {},
   "source": [
    "#### O conceito de *current working directory*\n",
    "\n",
    "Podemos utilizar comandos para manipulação de pastas ou arquivos com caminhos absolutos ou relativos.\n",
    "\n",
    "Note aqui que estamos presumindo o local em que as pastas serão geradas, que é o *current working directory* ou *CWD*. Essa variável pode ser obtida pelo comando `os.getcwd()`. Geralmente, essa é a pasta onde você executou o comando `python ...` ou, no caso do Jupyter Lab, a pasta onde o arquivo `.ipynb` se localiza. Vamos supor a seguinte estrutura:\n",
    "\n",
    "```\n",
    "--- raiz\n",
    "      |\n",
    "      +--pasta1\n",
    "           |\n",
    "           +--arquivo.py\n",
    "```\n",
    "\n",
    "\n",
    "Suponha que você quer rodar o arquivo `arquivo.py`. Se você abrir o terminal na `raiz`, poderá trocar para `pasta1` com `cd pasta1` e depois rodar `python ./arquivo.py` ou executar diretamente `python ./pasta1/arquivo.py`. No primeiro caso, *cwd* será `raiz/pasta1/` e no segundo caso será `raiz/`.\n",
    "\n",
    "### Manipulação de pastas\n",
    "\n",
    "`os.mkdir(caminho)` é utilizado para criar uma pasta especificada pelo caminho no argumento. Suponha que você queira criar esta estrutura com uma pasta aninhada na outra, e seu *cwd* é `raiz/`\n",
    "\n",
    "```\n",
    "--- raiz\n",
    "      |\n",
    "      +--pasta1\n",
    "           |\n",
    "           +--pasta2\n",
    "```\n",
    "\n",
    "Para isso, precisaremos do comando `os.mkdir('pasta1')` seguido de `os.mkdir('pasta1/pasta2')`. Isso é inconveniente se quisermos fazer estruturas mais complexas, pois muitos caminhos serão repetidos. Podemos então trocar o *cwd* com `os.chdir('pasta1')` e depois criar a segunda pasta com `os.mkdir('pasta2')`. Você pode voltar à pasta original com `os.chdir('..')` ou armazenar o *cwd* original em uma variável e retornar à ela depois de tudo.\n",
    "\n",
    "Se você tentar criar `pasta2` diretamente, como `pasta1` não existe, `FileNotFoundError` será lançado. Caso você tente rodar novamente o domando, é possível que a pasta já exista e um erro `FileExistsError` será lançado.\n",
    "\n",
    "Alternativamente, o comando `os.mkdirs(caminho)` é utilizado para criar uma pasta e todas as pastas necessárias para atingir. O argumento opcional `exist_ok`, por padrão `False`, evita que um erro seja lançado se alguma pasta já existir. Logo, o comando anterior se torna `os.mkdir('./pasta1/pasta2', exist_ok=True)`, e não precisamos \n",
    "\n",
    "Em paralelo a `os.mkdirs` e `os.mkdir`, temos `os.rmdirs` e `os.rmdir`, que removem pastas. \n",
    "\n",
    "Para renomear uma pasta, existe o comando `os.rename(origem, destino)`, que irá falhar se a pasta de destino já existir. Caso queira substituir, pode utiliar `os.replace(origem, destino)`. Estas funções também funcionam com arquivos.\n",
    "\n",
    "### Manipulações de caminhos\n",
    "\n",
    "Outra tarefa recorrente é a manipulação de caminhos. Utilizar manipulação de strings pode parecer tentador, mas é uma receita para frustração, especialmente se você deseja que seu programa seja utilizado em mais de um sistema operacional. O submódulo [`os.path`](https://docs.python.org/3/library/os.path.html) possui ferramentas para auxiliar nisso. O mais recomendado hoje em dia é utilizar o pacote `pathlib`, que exploraremos [em breve](sec:pathlib).\n",
    "\n",
    "Aqui vão algumas funções úteis:\n",
    "\n",
    "* `os.path.abspath` retorna o caminho absoluto dado um caminho relativo.\n",
    "* `os.path.relpath` retorna um caminho relativo, referente ao *cwd*, dado um caminho absoluto.\n",
    "* `os.path.basename` retorna o nome na base do caminho. Se for uma pasta, retorna o nome da pasta, se for um arquivo, retorna o nome do arquivo. Por exemplo, `os.path.basename(os.path.abspath('./Importando bibliotecas.ipynb'))` resulta em `'Importando bibliotecas.ipynb'`.\n",
    "* `os.path.dirname` retorna o nome de todos os diretórios no caminho até o caminho da pasta ou arquivo fornecido.\n",
    "* `os.path.exists`, `os.path.isfile` e `os.path.isdir` retornam `True` se o caminho fornecido é uma pasta ou arquivo existente, com diferenças óbvias pelo nome.\n",
    "* `os.path.join` junta duas ou mais caminhos de maneira \"inteligente\", obedecendo o separador de pastas do sistema, em ordem. Não checa se o caminho final é válido, e não checa se você tentar \"colocar\" um arquivo dentro do outro.\n",
    "* `os.path.split` retorna duas strings, a segunda sendo a última parte do caminho e a primeira sendo o resto, à esquerda. Se o caminho fornecido termina com uma barra, a segunda parte é uma string vazia."
   ]
  },
  {
   "cell_type": "markdown",
   "id": "fef88978-30d4-4a5c-9d30-13d9f90c022b",
   "metadata": {},
   "source": [
    "#### Percorrendo diretórios e pastas\n",
    "\n",
    "Iterar sobre o conteúdo de pastas é algo relativamente comum. Por exemplo, você pode querer encontrar todos os arquivos `.csv` de uma pasta para tratá-los. Para isso, as funções `os.walk` e `os.scandir` podem ser utilizadas. `os.walk(caminho)` recebe um caminho e cria um gerador que fornece uma tupla com o caminho até a pasta, o nome das pastas dentro da pasta atual e o nome dos arquivos na pasta atual. `os.scandir` age de maneira um pouco diferente. Ele gera um iterador que retorna objetos `DirEntry`. Esses objetos contém informações sobre se algo é uma pasta ou um arquivo, e o *stats* do arquivo.\n",
    "\n",
    "Isso ainda é um tanto laborioso. Para métodos melhores de se percorrer diretórios e encontrar arquivos, podemos utilizar o módulo [`glob`](sec:glob)."
   ]
  },
  {
   "cell_type": "markdown",
   "id": "23469de9-655a-4ee4-85b5-04724cf5cb8e",
   "metadata": {},
   "source": [
    "(sec:glob)=\n",
    "### `glob`\n",
    "\n",
    "[Link da documentação](https://docs.python.org/3/library/glob.html)\n",
    "\n",
    "*glob*, que significa *global*, foi um programa criado há décadas para encontrar arquivos com base num padrão. A especificação desse padrão é bastante simples, e é capaz que você já tenha utilizado algo similar em sua vida. Os padrões são compostos por letras e números, e símbolos. As letras e números serão comparadas exatamente com os caminhos, e os símbolos são utilizados para generalizar um padrão. Os três símbolos são:\n",
    "\n",
    "* `*`, significa \"qualquer caracter, qualquer número de vezes. É de longe o símbolo mais frequentemente utilizado.\n",
    "* `?`, significa \"qualquer caracter, 1 vez.\n",
    "* `[abc...]` significa qualquer caracter dentro dos colchetes, 1 vez.\n",
    "* `[a-z]` significa qualquer caracter dentro da faixa de caracteres. `a-z` significa \"todos os caracteres entre 'a' e 'z' minúsculos\", `0-9` significa \"todos os caracteres numéricos.\n",
    "\n",
    "Além disso, você pode procurar por arquivos recursivamente utilizando o seguinte padrão: `**/`.\n",
    "\n",
    "Exemplos:\n",
    "\n",
    "* `*.csv` irá corresponder a todos os arquivos que terminam com '.csv'.\n",
    "* `exercício*.csv` irá corresponder a todos os arquivos que começam com 'exercício', terminam com '.csv' e possuem qualquer texto no interior. Então 'exercício1.csv' e 'exercício-treinamento-teste.csv' ambos correspondem à esse padrão.\n",
    "* `.csv` irá corresponder somente ao arquivo cujo nome é '.csv', nada mais e nada menos.\n",
    "\n",
    "Note que um arquivo pode ter duas extensões, como 'abc.tar.gz'. Se você quiser todos os arquivos 'tar', terá que utilizar `*.tar*`, mas isso poderá corresponder a, por exemplo, 'abc.tart' também.\n",
    "\n",
    "Dentro do módulo `glob`, temos três funções. `glob`, `iglob` e `escape`. `glob` retorna uma lista com os caminhos dos arquivos, `iglob` retorna um iterador, portanto não avalia tudo de uma vez, e `escape` é utilizado para escapar símbolos que o *glob* utiliza e que podem existir em nomes de arquivos. Podemos utilizar a função `glob` para encontrar todos os arquivos de exercícios do capítulo 5."
   ]
  },
  {
   "cell_type": "code",
   "execution_count": 2,
   "id": "97e0a990-faca-47b9-837b-d1e75f155cd6",
   "metadata": {},
   "outputs": [
    {
     "data": {
      "text/plain": [
       "['../Capítulo05/dados\\\\exercício1.csv', '../Capítulo05/dados\\\\exercício2.csv']"
      ]
     },
     "execution_count": 2,
     "metadata": {},
     "output_type": "execute_result"
    }
   ],
   "source": [
    "import glob\n",
    "exercícios = glob.glob('../Capítulo05/dados/*.csv')\n",
    "exercícios"
   ]
  },
  {
   "cell_type": "markdown",
   "id": "18933fc2-76c6-4cec-8a5a-52399b115840",
   "metadata": {},
   "source": [
    "Porém, é um pouco inconveniente ficar digitando `glob.glob` o tempo todo. Existe uma maneira de importar seletivamente algumas objetos de um módulo, colocando-os no escopo global ao invés do módulo em si. Isso é feito com a seguinte sintaxe:\n",
    "\n",
    "```python\n",
    "from (pacote) import (objeto)\n",
    "```"
   ]
  },
  {
   "cell_type": "code",
   "execution_count": 3,
   "id": "8ea17135-a81d-4dab-89e5-da632d996b7d",
   "metadata": {},
   "outputs": [
    {
     "data": {
      "text/plain": [
       "['../Capítulo05/dados\\\\exercício1.csv', '../Capítulo05/dados\\\\exercício2.csv']"
      ]
     },
     "execution_count": 3,
     "metadata": {},
     "output_type": "execute_result"
    }
   ],
   "source": [
    "from glob import glob\n",
    "exercícios = glob('../Capítulo05/dados/*.csv')\n",
    "exercícios"
   ]
  },
  {
   "cell_type": "markdown",
   "id": "19aebf79-b5aa-47c9-bdee-fddf6257a33c",
   "metadata": {},
   "source": [
    "Como um último exemplo, vamos encontrar todos os arquivos `.py` criados neste livro. Para isso, vamos utilizar o padrão `**` e o argumento opcional `recursive=True`."
   ]
  },
  {
   "cell_type": "code",
   "execution_count": 4,
   "id": "e00abb8c-7799-4630-9c7f-1ba8e31b2740",
   "metadata": {},
   "outputs": [
    {
     "data": {
      "text/plain": [
       "['..\\\\Capítulo01\\\\Soluções dos exercícios\\\\complex_mod.py',\n",
       " '..\\\\Capítulo01\\\\Soluções dos exercícios\\\\pint.py',\n",
       " '..\\\\Capítulo02\\\\Soluções de exercícios\\\\prop_sympy.py',\n",
       " '..\\\\Capítulo02\\\\Soluções de exercícios\\\\prop_uncertainties.py',\n",
       " '..\\\\Capítulo03\\\\Soluções de exercícios\\\\Gerador\\\\problema_gas_ideal.py',\n",
       " '..\\\\Capítulo03\\\\Soluções de exercícios\\\\Gerador\\\\QuestionGenerator.py',\n",
       " '..\\\\Capítulo03\\\\Soluções de exercícios\\\\Gerador\\\\test_gas_ideal.py',\n",
       " '..\\\\Capítulo04\\\\Soluções de exercícios\\\\convert_dict.py',\n",
       " '..\\\\Capítulo04\\\\Soluções de exercícios\\\\convert_pint.py',\n",
       " '..\\\\Capítulo05\\\\dados\\\\gerar_csv.py',\n",
       " '..\\\\Capítulo05\\\\Soluções de exercícios\\\\contagem_palavras.py',\n",
       " '..\\\\Capítulo05\\\\Soluções de exercícios\\\\criar_exceções.py',\n",
       " '..\\\\Capítulo05\\\\Soluções de exercícios\\\\ler_csv1.py',\n",
       " '..\\\\Capítulo05\\\\Soluções de exercícios\\\\ler_csv2.py',\n",
       " '..\\\\Capítulo05\\\\Soluções de exercícios\\\\molar_mass_calculator.py',\n",
       " '..\\\\Capítulo05\\\\Soluções de exercícios\\\\molar_mass_calculator2.py',\n",
       " '..\\\\Capítulo05\\\\Soluções de exercícios\\\\plotar.py']"
      ]
     },
     "execution_count": 4,
     "metadata": {},
     "output_type": "execute_result"
    }
   ],
   "source": [
    "todos_py = glob('../**/*.py', recursive=True)\n",
    "todos_py"
   ]
  },
  {
   "cell_type": "markdown",
   "id": "01a64a40-126a-49ba-8ebb-d1eee0442334",
   "metadata": {},
   "source": [
    "(sec:pathlib)=\n",
    "### `pathlib`\n",
    "\n",
    "[Link da documentação](https://docs.python.org/3/library/pathlib.html)\n",
    "\n",
    "`pathlib` é uma biblioteca que utiliza objetos especiais para representar caminhos, ao invés de strings. Esses objetos `Path` podem ser manipulados com maior facilidade e podem ser utilizados, em muitos casos, no lugar de caminhos de strings. Senão, é possível convertê-los com `str(path)`. Por trás dos panos, `Path` utiliza `os.path`. Os paralelos entre a funcionalidade de cada um podem ser encontradas [aqui](https://docs.python.org/3/library/pathlib.html#correspondence-to-tools-in-the-os-module).\n",
    "\n",
    "Existem basicamente dois tipos de objetos que são utilizados. Primeiro temos `PurePath`, que somente representa caminhos, e `Path`, que faz tudo que `PurePath` faz, e também consegue realizar algumas operações concretas. Por isso, irei focar em `Path` somente.\n",
    "\n",
    "Primeiro, podemos criar um `Path` com o seguinte comando:"
   ]
  },
  {
   "cell_type": "code",
   "execution_count": 5,
   "id": "9adae0e2-28e1-43e0-8ff4-854119c83259",
   "metadata": {},
   "outputs": [
    {
     "data": {
      "text/plain": [
       "WindowsPath('.')"
      ]
     },
     "execution_count": 5,
     "metadata": {},
     "output_type": "execute_result"
    }
   ],
   "source": [
    "from pathlib import Path\n",
    "p = Path('.')\n",
    "p"
   ]
  },
  {
   "cell_type": "markdown",
   "id": "c0631d64-1485-43ab-befe-5e1382aad31f",
   "metadata": {},
   "source": [
    "Como estou em um ambiente Windows, um objeto `WindowsPath` é criado. Se estivesse em Linux, um `PosixPath` seria criado. Com esse objeto `p`, posso convertê-lo para um caminho absoluto com `p.absolute()`"
   ]
  },
  {
   "cell_type": "code",
   "execution_count": 6,
   "id": "6950ad47-1c10-4239-a5c1-2a794d174b61",
   "metadata": {},
   "outputs": [
    {
     "data": {
      "text/plain": [
       "WindowsPath('C:/Users/karl.clinckspoor/Downloads/CursoPython/Capítulos/Capítulo06')"
      ]
     },
     "execution_count": 6,
     "metadata": {},
     "output_type": "execute_result"
    }
   ],
   "source": [
    "p.absolute()"
   ]
  },
  {
   "cell_type": "markdown",
   "id": "13f27c63-2ab4-4491-af16-10ebd12716ef",
   "metadata": {},
   "source": [
    "E posso concatenar caminhos utilizando uma divisão, como se a barra fosse um separador de pastas"
   ]
  },
  {
   "cell_type": "code",
   "execution_count": 7,
   "id": "b32968b6-d262-44f3-8690-cc50e5946396",
   "metadata": {},
   "outputs": [
    {
     "data": {
      "text/plain": [
       "WindowsPath('C:/Users/karl.clinckspoor/Downloads/CursoPython/Capítulos/Capítulo06/teste.txt')"
      ]
     },
     "execution_count": 7,
     "metadata": {},
     "output_type": "execute_result"
    }
   ],
   "source": [
    "teste = p.absolute() / 'teste.txt'\n",
    "teste"
   ]
  },
  {
   "cell_type": "markdown",
   "id": "040febf3-5abd-4b74-bc0f-54b1776d4e3d",
   "metadata": {},
   "source": [
    "Posso checar se este arquivo existe com `teste.exists()`"
   ]
  },
  {
   "cell_type": "code",
   "execution_count": 8,
   "id": "28bcb110-2d05-4eed-a2fc-33fe5cef7db4",
   "metadata": {},
   "outputs": [
    {
     "data": {
      "text/plain": [
       "False"
      ]
     },
     "execution_count": 8,
     "metadata": {},
     "output_type": "execute_result"
    }
   ],
   "source": [
    "teste.exists()"
   ]
  },
  {
   "cell_type": "markdown",
   "id": "3b0b1ab4-a431-4cad-806b-2fed14e4cf8b",
   "metadata": {},
   "source": [
    "E como não existe, posso escrever algum texto nele com `write_text`, não necessitando que `open` seja utilizado. Se quiséssemos somente criar o arquivo, poderíamos utilizar `.touch()`."
   ]
  },
  {
   "cell_type": "code",
   "execution_count": 9,
   "id": "82b55463-ba68-4bbb-921e-059a6da6d457",
   "metadata": {},
   "outputs": [
    {
     "data": {
      "text/plain": [
       "15"
      ]
     },
     "execution_count": 9,
     "metadata": {},
     "output_type": "execute_result"
    }
   ],
   "source": [
    "teste.write_text('este é um teste', encoding='utf8')"
   ]
  },
  {
   "cell_type": "markdown",
   "id": "fd1a19c2-840f-407f-95c6-c07c53d58687",
   "metadata": {},
   "source": [
    "Depois disso podemos confirmar que o arquivo foi criado"
   ]
  },
  {
   "cell_type": "code",
   "execution_count": 10,
   "id": "0798093c-a96b-4cdc-9da6-baef477db773",
   "metadata": {},
   "outputs": [
    {
     "data": {
      "text/plain": [
       "True"
      ]
     },
     "execution_count": 10,
     "metadata": {},
     "output_type": "execute_result"
    }
   ],
   "source": [
    "teste.exists()"
   ]
  },
  {
   "cell_type": "markdown",
   "id": "5df38ef6-d720-4eb4-8f46-7228ccef03f6",
   "metadata": {},
   "source": [
    "E que seu conteúdo é o mesmo que escrevemos"
   ]
  },
  {
   "cell_type": "code",
   "execution_count": 11,
   "id": "b40823b8-13fe-4038-9bcd-538e5c6f2e0e",
   "metadata": {},
   "outputs": [
    {
     "data": {
      "text/plain": [
       "'este é um teste'"
      ]
     },
     "execution_count": 11,
     "metadata": {},
     "output_type": "execute_result"
    }
   ],
   "source": [
    "teste.read_text(encoding='utf8')"
   ]
  },
  {
   "cell_type": "markdown",
   "id": "da4e6e7e-6d09-4bab-9d50-7b40014ee540",
   "metadata": {},
   "source": [
    "E por fim, para limpar a pasta, podemos deletá-lo"
   ]
  },
  {
   "cell_type": "code",
   "execution_count": 12,
   "id": "b350887e-d75e-4737-8e51-89636513ed53",
   "metadata": {},
   "outputs": [],
   "source": [
    "teste.unlink()"
   ]
  },
  {
   "cell_type": "markdown",
   "id": "78462c1b-69a4-4e88-a5fe-2b11b678829f",
   "metadata": {},
   "source": [
    "E verificar novamente que ele não existe mais"
   ]
  },
  {
   "cell_type": "code",
   "execution_count": 13,
   "id": "40542650-787c-4578-af89-46bef6c30e02",
   "metadata": {},
   "outputs": [
    {
     "data": {
      "text/plain": [
       "False"
      ]
     },
     "execution_count": 13,
     "metadata": {},
     "output_type": "execute_result"
    }
   ],
   "source": [
    "teste.exists()"
   ]
  },
  {
   "cell_type": "markdown",
   "id": "8fdf90c1-9a70-4471-a36d-e3f9e3f616af",
   "metadata": {},
   "source": [
    "Se quisermos encontrar partes do caminho de um arquivo, temos os seguintes comandos.\n",
    "\n",
    "`.stem` é uma propriedade que contém o nome do arquivo, sem extensão."
   ]
  },
  {
   "cell_type": "code",
   "execution_count": 14,
   "id": "7e48eba1-d367-435f-b666-4c30e16bc78f",
   "metadata": {},
   "outputs": [
    {
     "data": {
      "text/plain": [
       "'teste'"
      ]
     },
     "execution_count": 14,
     "metadata": {},
     "output_type": "execute_result"
    }
   ],
   "source": [
    "teste.stem"
   ]
  },
  {
   "cell_type": "markdown",
   "id": "804823d6-dcad-4d78-a7ef-f5d9bb73e4e7",
   "metadata": {},
   "source": [
    "`.name` é uma propriedade que contém o nome do arquivo e sua extensão."
   ]
  },
  {
   "cell_type": "code",
   "execution_count": 15,
   "id": "a24c0c08-359c-4c9c-abf2-aef18a396593",
   "metadata": {},
   "outputs": [
    {
     "data": {
      "text/plain": [
       "'teste.txt'"
      ]
     },
     "execution_count": 15,
     "metadata": {},
     "output_type": "execute_result"
    }
   ],
   "source": [
    "teste.name"
   ]
  },
  {
   "cell_type": "markdown",
   "id": "9b548e47-0216-4d8b-aaa2-720040b71e64",
   "metadata": {},
   "source": [
    "`.suffix` é a última extensão do arquivo"
   ]
  },
  {
   "cell_type": "code",
   "execution_count": 16,
   "id": "4b485683-d79f-4358-9690-ac7bddc7ec1a",
   "metadata": {},
   "outputs": [
    {
     "data": {
      "text/plain": [
       "'.txt'"
      ]
     },
     "execution_count": 16,
     "metadata": {},
     "output_type": "execute_result"
    }
   ],
   "source": [
    "teste.suffix"
   ]
  },
  {
   "cell_type": "markdown",
   "id": "68a57c54-dfe9-44ae-b9be-0180a423df4d",
   "metadata": {},
   "source": [
    "`.suffixes` é a lista de extensões do arquivo, então `.tar.gz` retornaria `['.tar', '.gz']`."
   ]
  },
  {
   "cell_type": "code",
   "execution_count": 17,
   "id": "ca42dd98-dfe5-4ad4-8d4a-6aa8ce06e61a",
   "metadata": {},
   "outputs": [
    {
     "data": {
      "text/plain": [
       "['.tar', '.gz']"
      ]
     },
     "execution_count": 17,
     "metadata": {},
     "output_type": "execute_result"
    }
   ],
   "source": [
    "(p / 'arquivo.tar.gz').suffixes"
   ]
  },
  {
   "cell_type": "code",
   "execution_count": 18,
   "id": "903de268-1383-43c1-9e71-7bc9df2ab450",
   "metadata": {},
   "outputs": [
    {
     "data": {
      "text/plain": [
       "['.txt']"
      ]
     },
     "execution_count": 18,
     "metadata": {},
     "output_type": "execute_result"
    }
   ],
   "source": [
    "teste.suffixes"
   ]
  },
  {
   "cell_type": "markdown",
   "id": "14bed7d3-a0a5-4abb-95c4-45a7e4f9621b",
   "metadata": {},
   "source": [
    "Podemos obter a pasta onde um arquivo está com `.parent`"
   ]
  },
  {
   "cell_type": "code",
   "execution_count": 19,
   "id": "b2b71260-7e38-4087-a0a0-7b1a11652ba8",
   "metadata": {},
   "outputs": [
    {
     "data": {
      "text/plain": [
       "WindowsPath('C:/Users/karl.clinckspoor/Downloads/CursoPython/Capítulos/Capítulo06')"
      ]
     },
     "execution_count": 19,
     "metadata": {},
     "output_type": "execute_result"
    }
   ],
   "source": [
    "teste.parent"
   ]
  },
  {
   "cell_type": "markdown",
   "id": "72a532c9-07b7-45e9-86d1-12e69cae2454",
   "metadata": {},
   "source": [
    "Ou podemos utilizar `.parents`, que retorna um gerador que gradativamente gera os diretórios pai de cada parte."
   ]
  },
  {
   "cell_type": "code",
   "execution_count": 20,
   "id": "844ee70d-6fef-4b10-9b9d-1e2dfc6d18a5",
   "metadata": {},
   "outputs": [
    {
     "data": {
      "text/plain": [
       "[WindowsPath('C:/Users/karl.clinckspoor/Downloads/CursoPython/Capítulos/Capítulo06'),\n",
       " WindowsPath('C:/Users/karl.clinckspoor/Downloads/CursoPython/Capítulos'),\n",
       " WindowsPath('C:/Users/karl.clinckspoor/Downloads/CursoPython'),\n",
       " WindowsPath('C:/Users/karl.clinckspoor/Downloads'),\n",
       " WindowsPath('C:/Users/karl.clinckspoor'),\n",
       " WindowsPath('C:/Users'),\n",
       " WindowsPath('C:/')]"
      ]
     },
     "execution_count": 20,
     "metadata": {},
     "output_type": "execute_result"
    }
   ],
   "source": [
    "list(teste.parents)"
   ]
  },
  {
   "cell_type": "markdown",
   "id": "5eabe8a8-548c-440b-ae34-611226c445be",
   "metadata": {},
   "source": [
    "E por fim, podemos obter todas as partes de um caminho com `.parts`"
   ]
  },
  {
   "cell_type": "code",
   "execution_count": 21,
   "id": "b81f2f67-b249-4f69-bd8f-3a22f91d90ac",
   "metadata": {},
   "outputs": [
    {
     "data": {
      "text/plain": [
       "('C:\\\\',\n",
       " 'Users',\n",
       " 'karl.clinckspoor',\n",
       " 'Downloads',\n",
       " 'CursoPython',\n",
       " 'Capítulos',\n",
       " 'Capítulo06',\n",
       " 'teste.txt')"
      ]
     },
     "execution_count": 21,
     "metadata": {},
     "output_type": "execute_result"
    }
   ],
   "source": [
    "teste.parts"
   ]
  },
  {
   "cell_type": "markdown",
   "id": "1bb0dcb6-c34f-4ec8-a364-3c4614328c04",
   "metadata": {},
   "source": [
    "Podemos também criar e manipular pastas. Para criar, utilize `mkdir`."
   ]
  },
  {
   "cell_type": "code",
   "execution_count": 22,
   "id": "7a1a9f16-258b-4b58-87e0-4a31788323db",
   "metadata": {},
   "outputs": [
    {
     "data": {
      "text/plain": [
       "False"
      ]
     },
     "execution_count": 22,
     "metadata": {},
     "output_type": "execute_result"
    }
   ],
   "source": [
    "pasta = p / 'teste'\n",
    "pasta.exists()"
   ]
  },
  {
   "cell_type": "code",
   "execution_count": 23,
   "id": "0f840d7b-a58d-4fba-bd40-03e79b83dd59",
   "metadata": {},
   "outputs": [
    {
     "data": {
      "text/plain": [
       "True"
      ]
     },
     "execution_count": 23,
     "metadata": {},
     "output_type": "execute_result"
    }
   ],
   "source": [
    "pasta.mkdir()\n",
    "pasta.exists()"
   ]
  },
  {
   "cell_type": "markdown",
   "id": "adf532e9-de1e-40c2-bbae-4d7322447728",
   "metadata": {},
   "source": [
    "Podemos renomeá-la com `.rename()`. Essa função também funciona com arquivos. Como estamos mudando o caminho, podemos capturar a resposta de `.rename` para atualizar o caminho com o nome mais novo."
   ]
  },
  {
   "cell_type": "code",
   "execution_count": 24,
   "id": "aad70baf-cb2a-4804-9cc1-d903d7950ece",
   "metadata": {},
   "outputs": [],
   "source": [
    "pasta = pasta.rename('teste_renomeado')"
   ]
  },
  {
   "cell_type": "code",
   "execution_count": 25,
   "id": "0024805f-45b5-4b12-96d4-979fe3a3f7f9",
   "metadata": {},
   "outputs": [
    {
     "data": {
      "text/plain": [
       "WindowsPath('teste_renomeado')"
      ]
     },
     "execution_count": 25,
     "metadata": {},
     "output_type": "execute_result"
    }
   ],
   "source": [
    "pasta"
   ]
  },
  {
   "cell_type": "markdown",
   "id": "95aa262a-1e35-4cb3-9832-8c7d4d4d0f98",
   "metadata": {},
   "source": [
    "E podemos deletar a pasta com `rmdir`"
   ]
  },
  {
   "cell_type": "code",
   "execution_count": 26,
   "id": "574379ea-5025-462d-b48a-428f29ff4e1c",
   "metadata": {},
   "outputs": [
    {
     "data": {
      "text/plain": [
       "False"
      ]
     },
     "execution_count": 26,
     "metadata": {},
     "output_type": "execute_result"
    }
   ],
   "source": [
    "pasta.rmdir()\n",
    "pasta.exists()"
   ]
  },
  {
   "cell_type": "markdown",
   "id": "38341607-b35c-432f-b0d1-99c706ab082f",
   "metadata": {},
   "source": [
    "Por fim, podemos manipular partes de um caminho com as funções que começam com `with`. Por exemplo:"
   ]
  },
  {
   "cell_type": "code",
   "execution_count": 27,
   "id": "c2a61ddf-da83-40c6-b6cb-aef68ff46e11",
   "metadata": {},
   "outputs": [
    {
     "data": {
      "text/plain": [
       "WindowsPath('C:/Users/karl.clinckspoor/Downloads/CursoPython/Capítulos/Capítulo06/novo_nome.txt')"
      ]
     },
     "execution_count": 27,
     "metadata": {},
     "output_type": "execute_result"
    }
   ],
   "source": [
    "teste.with_name('novo_nome.txt')"
   ]
  },
  {
   "cell_type": "code",
   "execution_count": 28,
   "id": "79103636-47cd-49c2-ac13-a0c722b106c6",
   "metadata": {},
   "outputs": [
    {
     "data": {
      "text/plain": [
       "WindowsPath('C:/Users/karl.clinckspoor/Downloads/CursoPython/Capítulos/Capítulo06/novo_nome.txt')"
      ]
     },
     "execution_count": 28,
     "metadata": {},
     "output_type": "execute_result"
    }
   ],
   "source": [
    "teste.with_stem('novo_nome')"
   ]
  },
  {
   "cell_type": "code",
   "execution_count": 29,
   "id": "8d353627-1067-4637-aeab-5d72457a4c1f",
   "metadata": {},
   "outputs": [
    {
     "data": {
      "text/plain": [
       "WindowsPath('C:/Users/karl.clinckspoor/Downloads/CursoPython/Capítulos/Capítulo06/teste.csv')"
      ]
     },
     "execution_count": 29,
     "metadata": {},
     "output_type": "execute_result"
    }
   ],
   "source": [
    "teste.with_suffix('.csv')"
   ]
  },
  {
   "cell_type": "markdown",
   "id": "ac8e75b7-2ee7-4b56-94a1-52739e4e1619",
   "metadata": {},
   "source": [
    "Por último, `Path` também possui a habilidade de fazer `glob`. A diferença é que um gerador é criado, não uma lista, então o comportamento é mais próximo a `glob.iglob`. Além disso, `glob.glob` por padrão não considera pastas escondidas, precedidas por um `.`, como `.ipynb_checkpoints`, mas `Path.glob` não só considera, mas não possui a opção para ignorá-las. Podemos verificar a equivalência dos dois comandos com esta linha de código."
   ]
  },
  {
   "cell_type": "code",
   "execution_count": 30,
   "id": "483964ef-afb7-479d-bc85-0a5024e0dd13",
   "metadata": {},
   "outputs": [
    {
     "data": {
      "text/plain": [
       "True"
      ]
     },
     "execution_count": 30,
     "metadata": {},
     "output_type": "execute_result"
    }
   ],
   "source": [
    "(\n",
    "    sorted(glob('../**/*.py', recursive=True, include_hidden=True)) == \n",
    "    sorted([str(i) for i in Path('..').glob('**/*.py')])\n",
    ")"
   ]
  },
  {
   "cell_type": "markdown",
   "id": "c0d8eab4-8b29-4c3a-8e70-b36017b53852",
   "metadata": {},
   "source": [
    "### `shutil`\n",
    "\n",
    "Talvez um pouco confuso, `shutil` contém algumas funcionalidades extras, além daquelas presentes em `os.path` e em `pathlib`. Por exemplo, possui comandos para copiar arquivos ou árvores inteiras, zipar e dezipar arquivos, e outras funcionalidades.\n",
    "\n",
    "Para copiar arquivos, você pode utilizar `shutil.copy` ou `shutil.copy2`, com a diferença que a segunda função tenta copiar os metadados do arquivo. Para copiar uma árvore de arquivos e pastas, `shutil.copytree` pode ser utilizado, e `shutil.rmtree` pode ser utilizado para remover uma árvore de arquivos. Aqui, entenda \"árvore de arquivos\" como arquivos e pastas aninhadas com qualquer complexidade. `shutil.move` tenta mover um arquivo ou pasta para outro lugar.\n",
    "\n",
    "Além disso, `shutil.which` retorna o caminho de um comando se fosse executado no terminal. Por exemplo:"
   ]
  },
  {
   "cell_type": "code",
   "execution_count": 31,
   "id": "5a4cdd00-af24-4435-9685-122cab6ffc9c",
   "metadata": {},
   "outputs": [
    {
     "data": {
      "text/plain": [
       "'C:\\\\Users\\\\karl.clinckspoor\\\\AppData\\\\Local\\\\miniconda3\\\\envs\\\\cursoPython\\\\python.exe'"
      ]
     },
     "execution_count": 31,
     "metadata": {},
     "output_type": "execute_result"
    }
   ],
   "source": [
    "import shutil\n",
    "shutil.which('python.exe')"
   ]
  },
  {
   "cell_type": "markdown",
   "id": "86ada415-dcba-4f23-9149-6808d9638883",
   "metadata": {},
   "source": [
    "Neste caso, o caminho específico do ambiente virtual deste curso foi retornado. Se você rodar isso, outro caminho será retornado."
   ]
  },
  {
   "cell_type": "code",
   "execution_count": null,
   "id": "7497d73f-e4c1-4dbb-8f8d-fb0a84659c0c",
   "metadata": {},
   "outputs": [],
   "source": []
  }
 ],
 "metadata": {
  "kernelspec": {
   "display_name": "CursoPython",
   "language": "python",
   "name": "cursopython"
  },
  "language_info": {
   "codemirror_mode": {
    "name": "ipython",
    "version": 3
   },
   "file_extension": ".py",
   "mimetype": "text/x-python",
   "name": "python",
   "nbconvert_exporter": "python",
   "pygments_lexer": "ipython3",
   "version": "3.11.3"
  }
 },
 "nbformat": 4,
 "nbformat_minor": 5
}
