{
 "cells": [
  {
   "cell_type": "markdown",
   "id": "ae705bf7-2c56-4759-aa32-f7e948ac8395",
   "metadata": {},
   "source": [
    "(extra:geradores)=\n",
    "# Geradores\n",
    "\n",
    "## Definição\n",
    "\n",
    "Um gerador é como uma função que memoriza seu ponto de execução e continua quando você a chama novamente. Para diferenciar os dois, funções utilizam `return` e geradores utilizam `yield`. Veja mais informações [neste tutorial do RealPython.com](https://realpython.com/introduction-to-python-generators/) e [nesta página da documentação oficial](https://docs.python.org/3/reference/expressions.html#yield-expressions)."
   ]
  },
  {
   "cell_type": "code",
   "execution_count": 1,
   "id": "a867ecae-c310-4583-985b-14bd6c9a864f",
   "metadata": {},
   "outputs": [
    {
     "name": "stdout",
     "output_type": "stream",
     "text": [
      "0\n",
      "1\n",
      "2\n",
      "3\n",
      "4\n",
      "5\n"
     ]
    }
   ],
   "source": [
    "def meu_primeiro_gerador():\n",
    "    yield 0\n",
    "    yield 1\n",
    "    yield 2\n",
    "    yield 3\n",
    "    yield 4\n",
    "    yield 5\n",
    "\n",
    "\n",
    "for n in meu_primeiro_gerador():\n",
    "    print(n)"
   ]
  },
  {
   "cell_type": "markdown",
   "id": "8437929a-b9fc-44d0-a985-5061fabed84c",
   "metadata": {},
   "source": [
    "Quando iteramos pelo gerador, o código é executado até atingir `yield`, e a posição é memorizada. Depois, quando o próximo elemento é requisitado, neste caso pelo loop `for`, a execução continua e chega no próximo `yield`, e assim por diante. Quando não há mais `yield`s, a iteração termina.\n",
    "\n",
    "Quando queremos forçar que um gerador avance, podemos utilizar a função `next`."
   ]
  },
  {
   "cell_type": "code",
   "execution_count": 2,
   "id": "4d165202-ce96-4b79-b45e-4b2209ba3ff3",
   "metadata": {},
   "outputs": [
    {
     "name": "stdout",
     "output_type": "stream",
     "text": [
      "1\n",
      "6\n",
      "1024\n"
     ]
    }
   ],
   "source": [
    "ger = meu_primeiro_gerador()\n",
    "print(next(ger) + next(ger))\n",
    "print(next(ger) * next(ger))\n",
    "print(next(ger) ** next(ger))"
   ]
  },
  {
   "cell_type": "markdown",
   "id": "aaaadd0f-e270-4228-83d4-e3a425f04918",
   "metadata": {},
   "source": [
    "Podemos transformar o gerador numa lista utilizando `list`."
   ]
  },
  {
   "cell_type": "code",
   "execution_count": 3,
   "id": "8317053b-2f54-4e33-a019-becc46c2b001",
   "metadata": {},
   "outputs": [
    {
     "name": "stdout",
     "output_type": "stream",
     "text": [
      "[0, 1, 2, 3, 4, 5]\n"
     ]
    }
   ],
   "source": [
    "ger = meu_primeiro_gerador()\n",
    "print(list(ger))"
   ]
  },
  {
   "cell_type": "markdown",
   "id": "bd7406a3-83aa-4460-9b60-301651aa4d35",
   "metadata": {},
   "source": [
    "## `range` implementado como um gerador\n",
    "\n",
    "Se utilizamos um loop, podemos ter um gerador mais genérico. Veja esta implementação de range como um gerador."
   ]
  },
  {
   "cell_type": "code",
   "execution_count": 4,
   "id": "5873fa49-8bde-4eeb-90d1-15bc2c736972",
   "metadata": {},
   "outputs": [],
   "source": [
    "def meu_range(arg1, arg2=None, arg3=None):\n",
    "    if arg2 is None and arg3 is None:\n",
    "        final = arg1\n",
    "        início = 0\n",
    "        passo = 1\n",
    "    elif arg3 is None:\n",
    "        início = arg1\n",
    "        final = arg2\n",
    "        passo = 1\n",
    "    else:\n",
    "        início = arg1\n",
    "        final = arg2\n",
    "        passo = arg3\n",
    "\n",
    "    if passo == 0:\n",
    "        raise ValueError(\"Não pode ter passo igual a zero!\")\n",
    "    if type(início) != int or type(final) != int or type(passo) != int:\n",
    "        raise ValueError(\"Nenhum argumento pode ser de tipo diferente de int\")\n",
    "\n",
    "    yield início\n",
    "    valor = início + passo\n",
    "\n",
    "    while (valor < final) if passo > 0 else (valor > final):\n",
    "        yield valor\n",
    "        valor = valor + passo"
   ]
  },
  {
   "cell_type": "code",
   "execution_count": 5,
   "id": "646c1a83-18c2-461a-8577-ed0a716b3ae0",
   "metadata": {},
   "outputs": [
    {
     "name": "stdout",
     "output_type": "stream",
     "text": [
      "[0, 1, 2, 3, 4] [0, 1, 2, 3, 4]\n",
      "[2, 3, 4, 5] [2, 3, 4, 5]\n",
      "[5, 4, 3, 2] [5, 4, 3, 2]\n"
     ]
    }
   ],
   "source": [
    "print(list(meu_range(5)), list(range(5)))\n",
    "print(list(meu_range(2, 6)), list(range(2, 6)))\n",
    "print(list(meu_range(5, 1, -1)), list(range(5, 1, -1)))"
   ]
  },
  {
   "cell_type": "markdown",
   "id": "ec195a1f-77c1-4015-9017-25de3ad18aa1",
   "metadata": {},
   "source": [
    "## *Generator expressions*\n",
    "\n",
    "Não há *tuple comprehensions*, mas sim *generator expressions*. Funcionam como qualquer outra *comprehension*, mas o objeto retornado é um gerador. Por exemplo"
   ]
  },
  {
   "cell_type": "code",
   "execution_count": 6,
   "id": "b2459d60-2a3d-4dcf-8d16-f00948624eea",
   "metadata": {},
   "outputs": [
    {
     "name": "stdout",
     "output_type": "stream",
     "text": [
      "<generator object <genexpr> at 0x000002AEB5F3C2B0>\n",
      "0\n",
      "1\n",
      "4\n",
      "9\n",
      "16\n",
      "25\n",
      "36\n",
      "49\n",
      "64\n",
      "81\n"
     ]
    }
   ],
   "source": [
    "quadrados = (i**2 for i in range(10))\n",
    "print(quadrados)\n",
    "for quadrado in quadrados:\n",
    "    print(quadrado)"
   ]
  },
  {
   "cell_type": "markdown",
   "id": "37266aff-d013-41b7-8512-645278daaba5",
   "metadata": {},
   "source": [
    "Dessa maneira, não há como indexar um gerador, nem seccioná-lo, somente obter os valores em ordem. Como com qualquer gerador, eles possuem a vantagem de consumirem pouca memória comparado a uma lista, por exemplo, que armazena todo o conteúdo pré-computado."
   ]
  },
  {
   "cell_type": "code",
   "execution_count": 7,
   "id": "2b915de7-d2c1-4ca2-b8c9-12940b605f17",
   "metadata": {},
   "outputs": [
    {
     "ename": "TypeError",
     "evalue": "'generator' object is not subscriptable",
     "output_type": "error",
     "traceback": [
      "\u001b[1;31m---------------------------------------------------------------------------\u001b[0m",
      "\u001b[1;31mTypeError\u001b[0m                                 Traceback (most recent call last)",
      "Cell \u001b[1;32mIn[7], line 2\u001b[0m\n\u001b[0;32m      1\u001b[0m quadrados \u001b[38;5;241m=\u001b[39m (i\u001b[38;5;241m*\u001b[39m\u001b[38;5;241m*\u001b[39m\u001b[38;5;241m2\u001b[39m \u001b[38;5;28;01mfor\u001b[39;00m i \u001b[38;5;129;01min\u001b[39;00m \u001b[38;5;28mrange\u001b[39m(\u001b[38;5;241m10\u001b[39m))\n\u001b[1;32m----> 2\u001b[0m \u001b[43mquadrados\u001b[49m\u001b[43m[\u001b[49m\u001b[38;5;241;43m1\u001b[39;49m\u001b[43m]\u001b[49m\n",
      "\u001b[1;31mTypeError\u001b[0m: 'generator' object is not subscriptable"
     ]
    }
   ],
   "source": [
    "quadrados = (i**2 for i in range(10))\n",
    "quadrados[1]"
   ]
  }
 ],
 "metadata": {
  "kernelspec": {
   "display_name": "CursoPython",
   "language": "python",
   "name": "cursopython"
  },
  "language_info": {
   "codemirror_mode": {
    "name": "ipython",
    "version": 3
   },
   "file_extension": ".py",
   "mimetype": "text/x-python",
   "name": "python",
   "nbconvert_exporter": "python",
   "pygments_lexer": "ipython3",
   "version": "3.11.3"
  }
 },
 "nbformat": 4,
 "nbformat_minor": 5
}
