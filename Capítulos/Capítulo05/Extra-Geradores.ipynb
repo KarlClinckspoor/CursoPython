{
 "cells": [
  {
   "cell_type": "code",
   "execution_count": null,
   "id": "5873fa49-8bde-4eeb-90d1-15bc2c736972",
   "metadata": {},
   "outputs": [],
   "source": [
    "def meu_range(arg1, arg2 = None, arg3 = None):\n",
    "    if arg2 is None and arg3 is None:\n",
    "        final = arg1\n",
    "        início = 0\n",
    "        passo = 1\n",
    "    elif arg3 is None:\n",
    "        início = arg1\n",
    "        final = arg2\n",
    "        passo = 1\n",
    "    else:\n",
    "        início = arg1\n",
    "        final = arg2\n",
    "        passo = arg3\n",
    "    \n",
    "    yield início\n",
    "    valor = início + passo\n",
    "    while valor < final:\n",
    "        yield valor\n",
    "        valor = valor + passo"
   ]
  }
 ],
 "metadata": {
  "kernelspec": {
   "display_name": "CursoPython",
   "language": "python",
   "name": "cursopython"
  },
  "language_info": {
   "codemirror_mode": {
    "name": "ipython",
    "version": 3
   },
   "file_extension": ".py",
   "mimetype": "text/x-python",
   "name": "python",
   "nbconvert_exporter": "python",
   "pygments_lexer": "ipython3",
   "version": "3.11.3"
  }
 },
 "nbformat": 4,
 "nbformat_minor": 5
}
