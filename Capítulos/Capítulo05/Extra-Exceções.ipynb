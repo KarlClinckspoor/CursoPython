{
 "cells": [
  {
   "cell_type": "markdown",
   "id": "843f0759-5365-4a60-979d-404e23846c70",
   "metadata": {
    "editable": true,
    "slideshow": {
     "slide_type": ""
    },
    "tags": []
   },
   "source": [
    "(extra:exceptions)=\n",
    "# Extra: Exceções\n",
    "\n",
    "Já mostrei vários exemplos de erros e exceções encontradas ao tentarmos realizar alguma operação não suportada. Existe um número muito grande de exceções e erros embutidos em Python. Porém, não existe uma diferença muito significativa concreta entre as exceções, é algo mais semântico, mas existem argumentos que podem ser fornecidos às excepções. Veja também estes links para a documentação oficial mencionando [erros e exceções embutidas](https://docs.python.org/3/library/exceptions.html) e o próprio [tutorial oficial de erros e exceções](https://docs.python.org/3/tutorial/errors.html).\n",
    "\n",
    "Para lançar uma exceção, você pode utilizar a *keyword* `raise` seguido da exceção que queremos chamar."
   ]
  },
  {
   "cell_type": "code",
   "execution_count": 1,
   "id": "1c872f4e-8c5f-471e-9d2a-dd0062a59414",
   "metadata": {
    "editable": true,
    "slideshow": {
     "slide_type": ""
    },
    "tags": [
     "raises-exception"
    ]
   },
   "outputs": [
    {
     "ename": "ZeroDivisionError",
     "evalue": "",
     "output_type": "error",
     "traceback": [
      "\u001b[1;31m---------------------------------------------------------------------------\u001b[0m",
      "\u001b[1;31mZeroDivisionError\u001b[0m                         Traceback (most recent call last)",
      "Cell \u001b[1;32mIn[1], line 7\u001b[0m\n\u001b[0;32m      3\u001b[0m         \u001b[38;5;28;01mraise\u001b[39;00m \u001b[38;5;167;01mZeroDivisionError\u001b[39;00m\n\u001b[0;32m      4\u001b[0m     \u001b[38;5;28;01mreturn\u001b[39;00m valor1 \u001b[38;5;241m/\u001b[39m valor2\n\u001b[1;32m----> 7\u001b[0m \u001b[43mdividir\u001b[49m\u001b[43m(\u001b[49m\u001b[38;5;241;43m1\u001b[39;49m\u001b[43m,\u001b[49m\u001b[43m \u001b[49m\u001b[38;5;241;43m0\u001b[39;49m\u001b[43m)\u001b[49m\n",
      "Cell \u001b[1;32mIn[1], line 3\u001b[0m, in \u001b[0;36mdividir\u001b[1;34m(valor1, valor2)\u001b[0m\n\u001b[0;32m      1\u001b[0m \u001b[38;5;28;01mdef\u001b[39;00m \u001b[38;5;21mdividir\u001b[39m(valor1, valor2):\n\u001b[0;32m      2\u001b[0m     \u001b[38;5;28;01mif\u001b[39;00m valor2 \u001b[38;5;241m==\u001b[39m \u001b[38;5;241m0\u001b[39m:\n\u001b[1;32m----> 3\u001b[0m         \u001b[38;5;28;01mraise\u001b[39;00m \u001b[38;5;167;01mZeroDivisionError\u001b[39;00m\n\u001b[0;32m      4\u001b[0m     \u001b[38;5;28;01mreturn\u001b[39;00m valor1 \u001b[38;5;241m/\u001b[39m valor2\n",
      "\u001b[1;31mZeroDivisionError\u001b[0m: "
     ]
    }
   ],
   "source": [
    "def dividir(valor1, valor2):\n",
    "    if valor2 == 0:\n",
    "        raise ZeroDivisionError\n",
    "    return valor1 / valor2\n",
    "\n",
    "\n",
    "dividir(1, 0)"
   ]
  },
  {
   "cell_type": "markdown",
   "id": "2707f28a-3409-41fa-b339-45f4c1c21a96",
   "metadata": {},
   "source": [
    "Para exemplificar o que quis dizer com uma exceção ser \"semântica\", eu posso substituir o código acima para lançar um erro diferente."
   ]
  },
  {
   "cell_type": "code",
   "execution_count": 2,
   "id": "5b478c67-bf9c-4d60-8700-f7c0457a8b20",
   "metadata": {
    "editable": true,
    "slideshow": {
     "slide_type": ""
    },
    "tags": [
     "raises-exception"
    ]
   },
   "outputs": [
    {
     "ename": "ConnectionAbortedError",
     "evalue": "",
     "output_type": "error",
     "traceback": [
      "\u001b[1;31m---------------------------------------------------------------------------\u001b[0m",
      "\u001b[1;31mConnectionAbortedError\u001b[0m                    Traceback (most recent call last)",
      "Cell \u001b[1;32mIn[2], line 7\u001b[0m\n\u001b[0;32m      3\u001b[0m         \u001b[38;5;28;01mraise\u001b[39;00m \u001b[38;5;167;01mConnectionAbortedError\u001b[39;00m\n\u001b[0;32m      4\u001b[0m     \u001b[38;5;28;01mreturn\u001b[39;00m valor1 \u001b[38;5;241m/\u001b[39m valor2\n\u001b[1;32m----> 7\u001b[0m \u001b[43mdividir\u001b[49m\u001b[43m(\u001b[49m\u001b[38;5;241;43m1\u001b[39;49m\u001b[43m,\u001b[49m\u001b[43m \u001b[49m\u001b[38;5;241;43m0\u001b[39;49m\u001b[43m)\u001b[49m\n",
      "Cell \u001b[1;32mIn[2], line 3\u001b[0m, in \u001b[0;36mdividir\u001b[1;34m(valor1, valor2)\u001b[0m\n\u001b[0;32m      1\u001b[0m \u001b[38;5;28;01mdef\u001b[39;00m \u001b[38;5;21mdividir\u001b[39m(valor1, valor2):\n\u001b[0;32m      2\u001b[0m     \u001b[38;5;28;01mif\u001b[39;00m valor2 \u001b[38;5;241m==\u001b[39m \u001b[38;5;241m0\u001b[39m:\n\u001b[1;32m----> 3\u001b[0m         \u001b[38;5;28;01mraise\u001b[39;00m \u001b[38;5;167;01mConnectionAbortedError\u001b[39;00m\n\u001b[0;32m      4\u001b[0m     \u001b[38;5;28;01mreturn\u001b[39;00m valor1 \u001b[38;5;241m/\u001b[39m valor2\n",
      "\u001b[1;31mConnectionAbortedError\u001b[0m: "
     ]
    }
   ],
   "source": [
    "def dividir(valor1, valor2):\n",
    "    if valor2 == 0:\n",
    "        raise ConnectionAbortedError\n",
    "    return valor1 / valor2\n",
    "\n",
    "\n",
    "dividir(1, 0)"
   ]
  },
  {
   "cell_type": "markdown",
   "id": "3eac729d-1d89-48bb-bc5f-c0af3e051ede",
   "metadata": {},
   "source": [
    "Mas isso só confundirá o usuário que ver a mensagem de erro, então não faça isso."
   ]
  },
  {
   "cell_type": "markdown",
   "id": "eee415a1-754c-4611-87ca-0ed354706d68",
   "metadata": {},
   "source": [
    "De forma geral, se alguma função que você definir receber algum argumento inválido ou se deparar com uma situação inesperada, é melhor lançar uma exceção do que continuar a operar com algum valor errado. Por exemplo, quando definimos nossa função de `dividir`, poderíamos ter retornado simplesmente um número muito grande quando `valor2` fosse zero, imitando um \"infinito\", ou retornar `None`, para significar que algo de errado aconteceu. Mas ambas essas situações podem causar problemas depois quando notarmos valores esquisitos em nosso código, e teremos que caçar o ponto onde apareceram. Isso não aconteceria se simplesmente utilizássemos uma exceção para alertar o usuário logo no início."
   ]
  },
  {
   "cell_type": "markdown",
   "id": "59213cc8-a781-4377-9d33-94a4f844c7cb",
   "metadata": {},
   "source": [
    "Em uma função, podemos lançar mais de um tipo de erro, ou o mesmo tipo de erro com diferentes mensagens. Quando lançamos a exceção, também podemos fornecer um pequeno texto explicando o que  Veja este exemplo."
   ]
  },
  {
   "cell_type": "code",
   "execution_count": 3,
   "id": "8dd5ed66-a5dd-42df-8249-4ad2b9fa6252",
   "metadata": {},
   "outputs": [],
   "source": [
    "def checar_palindromo(string):\n",
    "    if len(string) == 0:\n",
    "        raise ValueError(\"O comprimento da string precisa ser maior que 0!\")\n",
    "    if len(string) > 100:\n",
    "        raise NotImplementedError(\n",
    "            \"Não implementei a checagem para strings com comprimento maior que 100 caracteres\"\n",
    "        )\n",
    "    if any(i.isnumeric() for i in string):\n",
    "        raise NotImplementedError(\"A string não pode conter qualquer número!\")\n",
    "\n",
    "    sanitizada = string.strip().lower()\n",
    "    for pontuação in \",.!?-;: \":\n",
    "        sanitizada = sanitizada.replace(pontuação, \"\")\n",
    "    reversa = sanitizada[::-1]\n",
    "    return sanitizada == sanitizada[::-1]"
   ]
  },
  {
   "cell_type": "code",
   "execution_count": 4,
   "id": "00caa8d1-9553-4e31-a554-c160555aa5ec",
   "metadata": {
    "editable": true,
    "slideshow": {
     "slide_type": ""
    },
    "tags": [
     "raises-exception"
    ]
   },
   "outputs": [
    {
     "ename": "ValueError",
     "evalue": "O comprimento da string precisa ser maior que 0!",
     "output_type": "error",
     "traceback": [
      "\u001b[1;31m---------------------------------------------------------------------------\u001b[0m",
      "\u001b[1;31mValueError\u001b[0m                                Traceback (most recent call last)",
      "Cell \u001b[1;32mIn[4], line 1\u001b[0m\n\u001b[1;32m----> 1\u001b[0m \u001b[43mchecar_palindromo\u001b[49m\u001b[43m(\u001b[49m\u001b[38;5;124;43m\"\u001b[39;49m\u001b[38;5;124;43m\"\u001b[39;49m\u001b[43m)\u001b[49m\n",
      "Cell \u001b[1;32mIn[3], line 3\u001b[0m, in \u001b[0;36mchecar_palindromo\u001b[1;34m(string)\u001b[0m\n\u001b[0;32m      1\u001b[0m \u001b[38;5;28;01mdef\u001b[39;00m \u001b[38;5;21mchecar_palindromo\u001b[39m(string):\n\u001b[0;32m      2\u001b[0m     \u001b[38;5;28;01mif\u001b[39;00m \u001b[38;5;28mlen\u001b[39m(string) \u001b[38;5;241m==\u001b[39m \u001b[38;5;241m0\u001b[39m:\n\u001b[1;32m----> 3\u001b[0m         \u001b[38;5;28;01mraise\u001b[39;00m \u001b[38;5;167;01mValueError\u001b[39;00m(\u001b[38;5;124m\"\u001b[39m\u001b[38;5;124mO comprimento da string precisa ser maior que 0!\u001b[39m\u001b[38;5;124m\"\u001b[39m)\n\u001b[0;32m      4\u001b[0m     \u001b[38;5;28;01mif\u001b[39;00m \u001b[38;5;28mlen\u001b[39m(string) \u001b[38;5;241m>\u001b[39m \u001b[38;5;241m100\u001b[39m:\n\u001b[0;32m      5\u001b[0m         \u001b[38;5;28;01mraise\u001b[39;00m \u001b[38;5;167;01mNotImplementedError\u001b[39;00m(\n\u001b[0;32m      6\u001b[0m             \u001b[38;5;124m\"\u001b[39m\u001b[38;5;124mNão implementei a checagem para strings com comprimento maior que 100 caracteres\u001b[39m\u001b[38;5;124m\"\u001b[39m\n\u001b[0;32m      7\u001b[0m         )\n",
      "\u001b[1;31mValueError\u001b[0m: O comprimento da string precisa ser maior que 0!"
     ]
    }
   ],
   "source": [
    "checar_palindromo(\"\")"
   ]
  },
  {
   "cell_type": "code",
   "execution_count": 5,
   "id": "27ca588f-e5b6-4a11-94d0-942e7702f8a1",
   "metadata": {
    "editable": true,
    "slideshow": {
     "slide_type": ""
    },
    "tags": [
     "raises-exception"
    ]
   },
   "outputs": [
    {
     "ename": "NotImplementedError",
     "evalue": "Não implementei a checagem para strings com comprimento maior que 100 caracteres",
     "output_type": "error",
     "traceback": [
      "\u001b[1;31m---------------------------------------------------------------------------\u001b[0m",
      "\u001b[1;31mNotImplementedError\u001b[0m                       Traceback (most recent call last)",
      "Cell \u001b[1;32mIn[5], line 1\u001b[0m\n\u001b[1;32m----> 1\u001b[0m \u001b[43mchecar_palindromo\u001b[49m\u001b[43m(\u001b[49m\u001b[38;5;124;43m\"\u001b[39;49m\u001b[38;5;124;43ma\u001b[39;49m\u001b[38;5;124;43m\"\u001b[39;49m\u001b[43m \u001b[49m\u001b[38;5;241;43m*\u001b[39;49m\u001b[43m \u001b[49m\u001b[38;5;241;43m101\u001b[39;49m\u001b[43m)\u001b[49m\n",
      "Cell \u001b[1;32mIn[3], line 5\u001b[0m, in \u001b[0;36mchecar_palindromo\u001b[1;34m(string)\u001b[0m\n\u001b[0;32m      3\u001b[0m     \u001b[38;5;28;01mraise\u001b[39;00m \u001b[38;5;167;01mValueError\u001b[39;00m(\u001b[38;5;124m\"\u001b[39m\u001b[38;5;124mO comprimento da string precisa ser maior que 0!\u001b[39m\u001b[38;5;124m\"\u001b[39m)\n\u001b[0;32m      4\u001b[0m \u001b[38;5;28;01mif\u001b[39;00m \u001b[38;5;28mlen\u001b[39m(string) \u001b[38;5;241m>\u001b[39m \u001b[38;5;241m100\u001b[39m:\n\u001b[1;32m----> 5\u001b[0m     \u001b[38;5;28;01mraise\u001b[39;00m \u001b[38;5;167;01mNotImplementedError\u001b[39;00m(\n\u001b[0;32m      6\u001b[0m         \u001b[38;5;124m\"\u001b[39m\u001b[38;5;124mNão implementei a checagem para strings com comprimento maior que 100 caracteres\u001b[39m\u001b[38;5;124m\"\u001b[39m\n\u001b[0;32m      7\u001b[0m     )\n\u001b[0;32m      8\u001b[0m \u001b[38;5;28;01mif\u001b[39;00m \u001b[38;5;28many\u001b[39m(i\u001b[38;5;241m.\u001b[39misnumeric() \u001b[38;5;28;01mfor\u001b[39;00m i \u001b[38;5;129;01min\u001b[39;00m string):\n\u001b[0;32m      9\u001b[0m     \u001b[38;5;28;01mraise\u001b[39;00m \u001b[38;5;167;01mNotImplementedError\u001b[39;00m(\u001b[38;5;124m\"\u001b[39m\u001b[38;5;124mA string não pode conter qualquer número!\u001b[39m\u001b[38;5;124m\"\u001b[39m)\n",
      "\u001b[1;31mNotImplementedError\u001b[0m: Não implementei a checagem para strings com comprimento maior que 100 caracteres"
     ]
    }
   ],
   "source": [
    "checar_palindromo(\"a\" * 101)"
   ]
  },
  {
   "cell_type": "code",
   "execution_count": 6,
   "id": "0fbb17cb-8d9d-4ea4-b57a-8af09ae571ba",
   "metadata": {
    "editable": true,
    "slideshow": {
     "slide_type": ""
    },
    "tags": [
     "raises-exception"
    ]
   },
   "outputs": [
    {
     "ename": "NotImplementedError",
     "evalue": "A string não pode conter qualquer número!",
     "output_type": "error",
     "traceback": [
      "\u001b[1;31m---------------------------------------------------------------------------\u001b[0m",
      "\u001b[1;31mNotImplementedError\u001b[0m                       Traceback (most recent call last)",
      "Cell \u001b[1;32mIn[6], line 1\u001b[0m\n\u001b[1;32m----> 1\u001b[0m \u001b[43mchecar_palindromo\u001b[49m\u001b[43m(\u001b[49m\u001b[38;5;124;43m\"\u001b[39;49m\u001b[38;5;124;43m101\u001b[39;49m\u001b[38;5;124;43m\"\u001b[39;49m\u001b[43m)\u001b[49m\n",
      "Cell \u001b[1;32mIn[3], line 9\u001b[0m, in \u001b[0;36mchecar_palindromo\u001b[1;34m(string)\u001b[0m\n\u001b[0;32m      5\u001b[0m     \u001b[38;5;28;01mraise\u001b[39;00m \u001b[38;5;167;01mNotImplementedError\u001b[39;00m(\n\u001b[0;32m      6\u001b[0m         \u001b[38;5;124m\"\u001b[39m\u001b[38;5;124mNão implementei a checagem para strings com comprimento maior que 100 caracteres\u001b[39m\u001b[38;5;124m\"\u001b[39m\n\u001b[0;32m      7\u001b[0m     )\n\u001b[0;32m      8\u001b[0m \u001b[38;5;28;01mif\u001b[39;00m \u001b[38;5;28many\u001b[39m(i\u001b[38;5;241m.\u001b[39misnumeric() \u001b[38;5;28;01mfor\u001b[39;00m i \u001b[38;5;129;01min\u001b[39;00m string):\n\u001b[1;32m----> 9\u001b[0m     \u001b[38;5;28;01mraise\u001b[39;00m \u001b[38;5;167;01mNotImplementedError\u001b[39;00m(\u001b[38;5;124m\"\u001b[39m\u001b[38;5;124mA string não pode conter qualquer número!\u001b[39m\u001b[38;5;124m\"\u001b[39m)\n\u001b[0;32m     11\u001b[0m sanitizada \u001b[38;5;241m=\u001b[39m string\u001b[38;5;241m.\u001b[39mstrip()\u001b[38;5;241m.\u001b[39mlower()\n\u001b[0;32m     12\u001b[0m \u001b[38;5;28;01mfor\u001b[39;00m pontuação \u001b[38;5;129;01min\u001b[39;00m \u001b[38;5;124m\"\u001b[39m\u001b[38;5;124m,.!?-;: \u001b[39m\u001b[38;5;124m\"\u001b[39m:\n",
      "\u001b[1;31mNotImplementedError\u001b[0m: A string não pode conter qualquer número!"
     ]
    }
   ],
   "source": [
    "checar_palindromo(\"101\")"
   ]
  },
  {
   "cell_type": "code",
   "execution_count": 7,
   "id": "146b008c-b406-4469-a63a-df8b3c9829b5",
   "metadata": {},
   "outputs": [
    {
     "data": {
      "text/plain": [
       "True"
      ]
     },
     "execution_count": 7,
     "metadata": {},
     "output_type": "execute_result"
    }
   ],
   "source": [
    "checar_palindromo(\"Socorram-me, subi no onibus em marrocos!\")"
   ]
  },
  {
   "cell_type": "markdown",
   "id": "10a3e750-9894-43e3-8ce1-216a58db12b9",
   "metadata": {},
   "source": [
    "Podemos capturar as exceções utilizando blocos `try...except`. Tudo que está dentro de um bloco `try` é executado. Se uma exceção é encontrada, a execução passa para o bloco `except`. Podemos capturar exceções específicas com `except (tipo da exceção)`, por exemplo, `except ZeroDivisionError`, e podemos obter o objeto da exceção com `except (tipo da exceção) as (nome)`."
   ]
  },
  {
   "cell_type": "code",
   "execution_count": 8,
   "id": "4b538f3e-5e69-4c25-84ef-ad1182fa31ed",
   "metadata": {},
   "outputs": [
    {
     "name": "stdout",
     "output_type": "stream",
     "text": [
      "None\n"
     ]
    }
   ],
   "source": [
    "try:\n",
    "    valor = checar_palindromo(\"101\")\n",
    "except NotImplementedError:\n",
    "    valor = None\n",
    "print(valor)"
   ]
  },
  {
   "cell_type": "markdown",
   "id": "80fbc266-33c8-4ca9-bbdd-a831a6c62618",
   "metadata": {},
   "source": [
    "Nesse exemplo, capturamos um `TypeError`. Note que a variável `valor`, do exemplo anterior, não teria valor, pois a função lançou um erro. Logo, se tentarmos acessar o conteúdo de `valor` depois do block `try...except`, teríamos um `NameError`. Neste caso, decidi colocar o valor de `None` para valor, mas isso não é indicado, pois efetivamente \"escondemos\" o erro.\n",
    "\n",
    "Podemos ter mais de um `except`, e serão checados em ordem. Aqui, utilizei a *keyword* `pass`, que significa *não faça nada*. Novamente, isso não é recomendado, mas estou utilizando isso somente como exemplo."
   ]
  },
  {
   "cell_type": "code",
   "execution_count": 9,
   "id": "efca86f4-f65c-4976-9956-f87f06a48d1c",
   "metadata": {},
   "outputs": [],
   "source": [
    "try:\n",
    "    checar_palindromo(\"101\")\n",
    "except NotImplementedError:\n",
    "    pass\n",
    "except ValueError:\n",
    "    pass"
   ]
  },
  {
   "cell_type": "markdown",
   "id": "899e9bd8-7994-4121-ab52-19c75646c3a1",
   "metadata": {},
   "source": [
    "Apesar de termos checado 3 condições, ainda existem erros que podem ser lançados. Veja este exemplo, onde uma exceção não prevista foi lançada. É importante pensar bem nos erros que podem ocorrer e o que fazer em todas as situações."
   ]
  },
  {
   "cell_type": "code",
   "execution_count": 10,
   "id": "65b77e6e-80cf-46bf-b424-998c107390cd",
   "metadata": {
    "editable": true,
    "slideshow": {
     "slide_type": ""
    },
    "tags": [
     "raises-exception"
    ]
   },
   "outputs": [
    {
     "ename": "TypeError",
     "evalue": "object of type 'int' has no len()",
     "output_type": "error",
     "traceback": [
      "\u001b[1;31m---------------------------------------------------------------------------\u001b[0m",
      "\u001b[1;31mTypeError\u001b[0m                                 Traceback (most recent call last)",
      "Cell \u001b[1;32mIn[10], line 2\u001b[0m\n\u001b[0;32m      1\u001b[0m \u001b[38;5;28;01mtry\u001b[39;00m:\n\u001b[1;32m----> 2\u001b[0m     \u001b[43mchecar_palindromo\u001b[49m\u001b[43m(\u001b[49m\u001b[38;5;241;43m101\u001b[39;49m\u001b[43m)\u001b[49m\n\u001b[0;32m      3\u001b[0m \u001b[38;5;28;01mexcept\u001b[39;00m \u001b[38;5;167;01mNotImplementedError\u001b[39;00m:\n\u001b[0;32m      4\u001b[0m     \u001b[38;5;28;01mpass\u001b[39;00m\n",
      "Cell \u001b[1;32mIn[3], line 2\u001b[0m, in \u001b[0;36mchecar_palindromo\u001b[1;34m(string)\u001b[0m\n\u001b[0;32m      1\u001b[0m \u001b[38;5;28;01mdef\u001b[39;00m \u001b[38;5;21mchecar_palindromo\u001b[39m(string):\n\u001b[1;32m----> 2\u001b[0m     \u001b[38;5;28;01mif\u001b[39;00m \u001b[38;5;28mlen\u001b[39m(string) \u001b[38;5;241m==\u001b[39m \u001b[38;5;241m0\u001b[39m:\n\u001b[0;32m      3\u001b[0m         \u001b[38;5;28;01mraise\u001b[39;00m \u001b[38;5;167;01mValueError\u001b[39;00m(\u001b[38;5;124m\"\u001b[39m\u001b[38;5;124mO comprimento da string precisa ser maior que 0!\u001b[39m\u001b[38;5;124m\"\u001b[39m)\n\u001b[0;32m      4\u001b[0m     \u001b[38;5;28;01mif\u001b[39;00m \u001b[38;5;28mlen\u001b[39m(string) \u001b[38;5;241m>\u001b[39m \u001b[38;5;241m100\u001b[39m:\n",
      "\u001b[1;31mTypeError\u001b[0m: object of type 'int' has no len()"
     ]
    }
   ],
   "source": [
    "try:\n",
    "    checar_palindromo(101)\n",
    "except NotImplementedError:\n",
    "    pass\n",
    "except ValueError:\n",
    "    pass"
   ]
  },
  {
   "cell_type": "markdown",
   "id": "862bd644-5285-400d-b52f-fe058a80281b",
   "metadata": {},
   "source": [
    "A exceção `Exception` engloba todas as outras. Podemos utilizá-la para capturar tudo, sem precisar definir o tipo de exceção. Isso também é pouco recomendado, pois especificidade ajuda muito na resolução de bugs. Note que, como as exceções são checadas de cima pra baixo, se `except Exception` estiver em cima, as outras exceções serão ignoradas."
   ]
  },
  {
   "cell_type": "code",
   "execution_count": 11,
   "id": "9862b894-3c35-45ef-8b4d-1a0a2ab35ee2",
   "metadata": {},
   "outputs": [
    {
     "name": "stdout",
     "output_type": "stream",
     "text": [
      "('A string não pode conter qualquer número!',)\n"
     ]
    }
   ],
   "source": [
    "try:\n",
    "    checar_palindromo(\"101\")\n",
    "except Exception as e:\n",
    "    print(e.args)\n",
    "except NotImplementedError:\n",
    "    pass\n",
    "except ValueError:\n",
    "    pass"
   ]
  },
  {
   "cell_type": "markdown",
   "id": "19384ccd-299f-492e-a5ba-1589d1d3f92c",
   "metadata": {},
   "source": [
    "Veja que a exceção lançada foi capturada pela `Exception` genérica, que foi utilizada como o objeto chamado `e` para pegar os argumentos dessa exceção, que neste caso é uma mensagem. Note que tal string é lançada por `NotImplementedError`."
   ]
  },
  {
   "cell_type": "markdown",
   "id": "8233f6a2-b278-431c-8946-8023b56cc0fa",
   "metadata": {},
   "source": [
    "Exceções podem ser lançadas dentro de outras exceções se você cometer algum erro."
   ]
  },
  {
   "cell_type": "code",
   "execution_count": 12,
   "id": "b7e942b1-916b-4bf7-897e-743e0e67655f",
   "metadata": {
    "editable": true,
    "slideshow": {
     "slide_type": ""
    },
    "tags": [
     "raises-exception"
    ]
   },
   "outputs": [
    {
     "ename": "ZeroDivisionError",
     "evalue": "division by zero",
     "output_type": "error",
     "traceback": [
      "\u001b[1;31m---------------------------------------------------------------------------\u001b[0m",
      "\u001b[1;31mNotImplementedError\u001b[0m                       Traceback (most recent call last)",
      "Cell \u001b[1;32mIn[12], line 2\u001b[0m\n\u001b[0;32m      1\u001b[0m \u001b[38;5;28;01mtry\u001b[39;00m:\n\u001b[1;32m----> 2\u001b[0m     \u001b[43mchecar_palindromo\u001b[49m\u001b[43m(\u001b[49m\u001b[38;5;124;43m\"\u001b[39;49m\u001b[38;5;124;43m101\u001b[39;49m\u001b[38;5;124;43m\"\u001b[39;49m\u001b[43m)\u001b[49m\n\u001b[0;32m      3\u001b[0m \u001b[38;5;28;01mexcept\u001b[39;00m \u001b[38;5;167;01mNotImplementedError\u001b[39;00m:\n",
      "Cell \u001b[1;32mIn[3], line 9\u001b[0m, in \u001b[0;36mchecar_palindromo\u001b[1;34m(string)\u001b[0m\n\u001b[0;32m      8\u001b[0m \u001b[38;5;28;01mif\u001b[39;00m \u001b[38;5;28many\u001b[39m(i\u001b[38;5;241m.\u001b[39misnumeric() \u001b[38;5;28;01mfor\u001b[39;00m i \u001b[38;5;129;01min\u001b[39;00m string):\n\u001b[1;32m----> 9\u001b[0m     \u001b[38;5;28;01mraise\u001b[39;00m \u001b[38;5;167;01mNotImplementedError\u001b[39;00m(\u001b[38;5;124m\"\u001b[39m\u001b[38;5;124mA string não pode conter qualquer número!\u001b[39m\u001b[38;5;124m\"\u001b[39m)\n\u001b[0;32m     11\u001b[0m sanitizada \u001b[38;5;241m=\u001b[39m string\u001b[38;5;241m.\u001b[39mstrip()\u001b[38;5;241m.\u001b[39mlower()\n",
      "\u001b[1;31mNotImplementedError\u001b[0m: A string não pode conter qualquer número!",
      "\nDuring handling of the above exception, another exception occurred:\n",
      "\u001b[1;31mZeroDivisionError\u001b[0m                         Traceback (most recent call last)",
      "Cell \u001b[1;32mIn[12], line 4\u001b[0m\n\u001b[0;32m      2\u001b[0m     checar_palindromo(\u001b[38;5;124m\"\u001b[39m\u001b[38;5;124m101\u001b[39m\u001b[38;5;124m\"\u001b[39m)\n\u001b[0;32m      3\u001b[0m \u001b[38;5;28;01mexcept\u001b[39;00m \u001b[38;5;167;01mNotImplementedError\u001b[39;00m:\n\u001b[1;32m----> 4\u001b[0m     \u001b[38;5;241;43m1\u001b[39;49m\u001b[43m \u001b[49m\u001b[38;5;241;43m/\u001b[39;49m\u001b[43m \u001b[49m\u001b[38;5;241;43m0\u001b[39;49m\n",
      "\u001b[1;31mZeroDivisionError\u001b[0m: division by zero"
     ]
    }
   ],
   "source": [
    "try:\n",
    "    checar_palindromo(\"101\")\n",
    "except NotImplementedError:\n",
    "    1 / 0"
   ]
  },
  {
   "cell_type": "markdown",
   "id": "ac91a7dd-385b-4ee8-bbd0-0acb7278b7fd",
   "metadata": {},
   "source": [
    "Por fim, podemos ter um `finally` depois de um block `try...except` que sempre será executado mesmo se uma exceção for lançada."
   ]
  },
  {
   "cell_type": "code",
   "execution_count": 13,
   "id": "16fb7d7f-40ed-4ca7-9691-856b59f1e179",
   "metadata": {},
   "outputs": [
    {
     "name": "stdout",
     "output_type": "stream",
     "text": [
      "Um erro foi encontrado\n"
     ]
    }
   ],
   "source": [
    "try:\n",
    "    checar_palindromo(\"101\")\n",
    "except NotImplementedError:\n",
    "    pass\n",
    "except ValueError:\n",
    "    pass\n",
    "finally:\n",
    "    print(\"Um erro foi encontrado\")"
   ]
  },
  {
   "cell_type": "markdown",
   "id": "af2a209b-8b12-49ab-9cf7-0feaf8199196",
   "metadata": {},
   "source": [
    "## Exercício resolvido\n",
    "\n",
    "### Espiar o conteúdo de um arquivo\n",
    "\n",
    "Faça uma função que pergunte a um usuário o nome de um arquivo, que será aberto e as primeiras linhas serão exibidas na tela. Isso precisa se repetir até o usuário fornecer um nome válido. Utilize exceções para direcionar o tipo de erro que ocorreu, caso um nome inválido seja fornecido.\n",
    "\n",
    "**Solução**:\n",
    "\n",
    "Utilizaremos um loop `while` infinito que só será quebrado quando pudermos abrir um arquivo. Primeiro perguntaremos o nome do arquivo, tentaremos abri-lo, utilizaremos vários `except` para capturar as exceções, depois um loop `for` para imprimir *n* linhas e por fim sair do loop."
   ]
  },
  {
   "cell_type": "code",
   "execution_count": 14,
   "id": "a5c8d934-b5c0-4840-830c-44bf87ddf9fb",
   "metadata": {},
   "outputs": [],
   "source": [
    "def espiar(num_linhas):\n",
    "    while True:\n",
    "        nome = input(\"Qual o nome do arquivo que você quer espiar?\")\n",
    "        try:\n",
    "            handle = open(nome, \"r\", encoding=\"utf8\")\n",
    "        except FileNotFoundError:\n",
    "            print(\"O arquivo não foi encontrado. Tente novamente.\")\n",
    "            continue\n",
    "        except IsADirectoryError:\n",
    "            print(\"Isso é uma pasta, não um arquivo. Tente novamente.\")\n",
    "            continue\n",
    "        except PermissionError:\n",
    "            print(f\"Você não possui permissão para abrir {nome} como um arquivo.\")\n",
    "            continue\n",
    "\n",
    "        for i in range(num_linhas):\n",
    "            print(handle.readline())\n",
    "        handle.close()\n",
    "        break"
   ]
  },
  {
   "cell_type": "markdown",
   "id": "4be81261-85b2-48db-a760-4e30a477b9ab",
   "metadata": {
    "editable": true,
    "slideshow": {
     "slide_type": ""
    },
    "tags": []
   },
   "source": [
    "## Exercícios extra\n",
    "\n",
    "### Definição de suas próprias exceções\n",
    "\n",
    "```{admonition} Pré-requisitos\n",
    "* Declaração de classes e programação orientada a objetos.\n",
    "```\n",
    "\n",
    "Declare algumas exceções próprias para função de palíndromos e reimplemente-a com essas exceções."
   ]
  },
  {
   "cell_type": "code",
   "execution_count": null,
   "id": "28005a60-b8c2-421f-83e1-f3f5b0326252",
   "metadata": {
    "editable": true,
    "slideshow": {
     "slide_type": ""
    },
    "tags": []
   },
   "outputs": [],
   "source": [
    "%load \"Soluções de exercícios/criar_exceções.py\""
   ]
  }
 ],
 "metadata": {
  "kernelspec": {
   "display_name": "cursopython",
   "language": "python",
   "name": "cursopython"
  },
  "language_info": {
   "codemirror_mode": {
    "name": "ipython",
    "version": 3
   },
   "file_extension": ".py",
   "mimetype": "text/x-python",
   "name": "python",
   "nbconvert_exporter": "python",
   "pygments_lexer": "ipython3",
   "version": "3.11.3"
  }
 },
 "nbformat": 4,
 "nbformat_minor": 5
}
