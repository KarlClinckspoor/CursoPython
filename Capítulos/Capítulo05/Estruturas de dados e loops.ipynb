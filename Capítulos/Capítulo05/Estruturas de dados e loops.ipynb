{
 "cells": [
  {
   "cell_type": "markdown",
   "id": "1c3b4a49-94b0-4c5e-aa77-d2d6003e0781",
   "metadata": {},
   "source": [
    "(cap:estruturas_dados_loops)=\n",
    "# Estruturas de dados e loops\n",
    "\n",
    "Até agora vimos tipos que continham somente um valor, exceto as strings, que podíamos entender como uma sequência de caracteres. Porém, tais variáveis tem utilidade limitada na área científica. No máximo, você conseguiria representar um par de pontos como um número complexo, mas isso está muito aquem de algo desejado, como um vetor, uma matriz ou uma tabela.\n",
    "\n",
    "Neste capítulo iremos abordar algumas estruturas de dados embutidas em Python para armazenar sequências, conjuntos ou equivalências de valores. Iremos ver como criar essas estruturas, adicionar ou remover elementos, checar se um objeto já é membro, e como operar sobre as estruturas.\n",
    "\n",
    "Tais estruturas não possuem um tamanho pré-definido. Para operar sobre todos os elementos dessas estruturas, torna-se necessário algum método que permita que você realize um mesmo conjunto de ações várias vezes, sem saber de antemão o número de vezes. Esses são chamados *loops* ou laços. Iremos aprender como utilizar tais loops em todos os elementos de uma estrutura de dados, mas também executar ações um número específico de vezes."
   ]
  },
  {
   "cell_type": "markdown",
   "id": "59ae8419-e65f-4a56-9b5e-c3a29bd12628",
   "metadata": {},
   "source": [
    "(sec:listas)=\n",
    "## A estrutura de dados mais básica: a lista\n",
    "\n",
    "Uma lista é uma estrutura de dados que junta elementos de tipos diversos em sequência, e pode aumentar ou diminuir seu comprimento sem problemas (ela é mutável). Apesar dos tipos dos objetos em uma lista poderem ser distintos, é geralmente mais útil que todos sejam de um mesmo tipo, para simplificar a lógica quando operarmos por todos os elementos.\n",
    "\n",
    "### Criação\n",
    "\n",
    "Para criar uma lista, basta colocar os elementos entre colchetes `[]`, separados por vírgulas. Vejamos um exemplo:"
   ]
  },
  {
   "cell_type": "code",
   "execution_count": 1,
   "id": "6c33fac4-53ed-4597-91c1-08fcdc45d7fe",
   "metadata": {},
   "outputs": [
    {
     "data": {
      "text/plain": [
       "['a',\n",
       " 'b',\n",
       " 'c',\n",
       " 'd',\n",
       " 'e',\n",
       " 'f',\n",
       " 'g',\n",
       " 'h',\n",
       " 'i',\n",
       " 'j',\n",
       " 'k',\n",
       " 'l',\n",
       " 'm',\n",
       " 'n',\n",
       " 'o',\n",
       " 'p',\n",
       " 'q',\n",
       " 'r',\n",
       " 's',\n",
       " 't',\n",
       " 'u',\n",
       " 'v',\n",
       " 'w',\n",
       " 'x',\n",
       " 'y',\n",
       " 'z']"
      ]
     },
     "execution_count": 1,
     "metadata": {},
     "output_type": "execute_result"
    }
   ],
   "source": [
    "letras_minúsculas = [\n",
    "    'a', 'b', 'c', 'd', 'e', 'f',\n",
    "    'g', 'h', 'i', 'j', 'k', 'l',\n",
    "    'm', 'n', 'o', 'p', 'q', 'r', \n",
    "    's', 't', 'u', 'v', 'w', 'x', \n",
    "    'y', 'z'\n",
    "]\n",
    "letras_minúsculas"
   ]
  },
  {
   "cell_type": "markdown",
   "id": "d2b85fc0-371a-4d3e-a3f7-32ac5a61f430",
   "metadata": {},
   "source": [
    "Como vimos com parênteses, os colchetes também flexibilizam as regras de indentação de código dentro deles.\n",
    "\n",
    "Além dessa maneira, podemos converter outros tipos em listas. Como vimos que strings também são como sequências, podemos converter uma string numa lista utilizando a função `list`."
   ]
  },
  {
   "cell_type": "code",
   "execution_count": 2,
   "id": "a73a646c-d6b6-49ed-8da9-bcfcb14f5bf6",
   "metadata": {},
   "outputs": [
    {
     "data": {
      "text/plain": [
       "['c', 'i', 't', 'a', 'd', 'e', 'l', 'S', 't', 'a', 't', 'i', 'o', 'n']"
      ]
     },
     "execution_count": 2,
     "metadata": {},
     "output_type": "execute_result"
    }
   ],
   "source": [
    "local = 'citadelStation'\n",
    "lst_local = list(local)\n",
    "lst_local"
   ]
  },
  {
   "cell_type": "markdown",
   "id": "e2a6ff42-16fb-40ef-a251-8cd65349d953",
   "metadata": {},
   "source": [
    "E podemos também fazer o caminho inverso, convertendo uma lista de `str` em uma `str` só. Isso é uma ação relativamente comum, mas é feita de uma maneira pouco intuitiva. Para isso, utilize o método interno `.join` de uma string, que agirá como o separador dos elementos."
   ]
  },
  {
   "cell_type": "code",
   "execution_count": 3,
   "id": "9ad399ac-e78b-47f3-b95d-915494210d07",
   "metadata": {},
   "outputs": [
    {
     "data": {
      "text/plain": [
       "'citadelStation'"
      ]
     },
     "execution_count": 3,
     "metadata": {},
     "output_type": "execute_result"
    }
   ],
   "source": [
    "novo_local = ''.join(lst_local)\n",
    "novo_local"
   ]
  },
  {
   "cell_type": "code",
   "execution_count": 4,
   "id": "6c6ea44a-305f-43ea-a4af-2d61610829de",
   "metadata": {},
   "outputs": [
    {
     "data": {
      "text/plain": [
       "True"
      ]
     },
     "execution_count": 4,
     "metadata": {},
     "output_type": "execute_result"
    }
   ],
   "source": [
    "novo_local == local"
   ]
  },
  {
   "cell_type": "markdown",
   "id": "0dc28689-71df-4cf8-9eb0-d71620ae8323",
   "metadata": {},
   "source": [
    "Podemos também gerar uma lista vazia simplesmente utilizando um par de colchetes:"
   ]
  },
  {
   "cell_type": "code",
   "execution_count": 5,
   "id": "8960827b-0a3f-4042-832f-99a05aba5169",
   "metadata": {},
   "outputs": [
    {
     "data": {
      "text/plain": [
       "[]"
      ]
     },
     "execution_count": 5,
     "metadata": {},
     "output_type": "execute_result"
    }
   ],
   "source": [
    "vazia = []\n",
    "vazia"
   ]
  },
  {
   "cell_type": "markdown",
   "id": "6fc6a1cd-5b14-44e5-a001-d3f7744ec2ff",
   "metadata": {},
   "source": [
    "E lembre-se que conteineres vazios são considerados como \"falsy\", então:"
   ]
  },
  {
   "cell_type": "code",
   "execution_count": 6,
   "id": "3970c743-d3ef-42ca-9906-ffab7565607a",
   "metadata": {},
   "outputs": [],
   "source": [
    "if vazia:\n",
    "    print('Esta linha não deveria ser executada')"
   ]
  },
  {
   "cell_type": "markdown",
   "id": "2df49f2a-548a-48eb-aff7-adda31bf2b14",
   "metadata": {},
   "source": [
    "### Adição e remoção de membros específicos\n",
    "\n",
    "Podemos adicionar membros utilizando o método `.append`"
   ]
  },
  {
   "cell_type": "code",
   "execution_count": 7,
   "id": "2c16383f-8d14-4d7e-af9a-5603883594aa",
   "metadata": {},
   "outputs": [
    {
     "data": {
      "text/plain": [
       "['a']"
      ]
     },
     "execution_count": 7,
     "metadata": {},
     "output_type": "execute_result"
    }
   ],
   "source": [
    "vazia.append('a')\n",
    "vazia"
   ]
  },
  {
   "cell_type": "markdown",
   "id": "200e8974-637c-4e7c-964f-1e0ae0d1bcda",
   "metadata": {},
   "source": [
    "Se você executar o código acima várias vezes, irá notar que a lista vai aumentando gradualmente.\n",
    "\n",
    "Se você quiser remover um valor específico, pode utilizar o método `.remove`. Se o elemento não existir, um `ValueError` será lançado. "
   ]
  },
  {
   "cell_type": "code",
   "execution_count": 8,
   "id": "1917bc6c-a32c-46e0-900e-a2226cf19007",
   "metadata": {},
   "outputs": [
    {
     "data": {
      "text/plain": [
       "[]"
      ]
     },
     "execution_count": 8,
     "metadata": {},
     "output_type": "execute_result"
    }
   ],
   "source": [
    "vazia.remove('a')\n",
    "vazia"
   ]
  },
  {
   "cell_type": "markdown",
   "id": "6c1790ce-4669-422e-bef8-8c563624a4a2",
   "metadata": {},
   "source": [
    "### Indexação\n",
    "\n",
    "Para acessar um elemento de uma lista, você pode usar a notação de colchetes, com o índice do elemento dentro do colchete.\n",
    "\n",
    "Isso pode ser um pouco confuso para iniciantes, mas a numeração em Python começa do zero, e não inclui o elemento com índice igual ao comprimento. E não se esqueça que um índice precisa ser um número inteiro! Não existe elemento `0.2`. Lembre-se das operações de divisão inteira que vimos no [capítulo de operações matemáticas](cap:op_matematicas)\n",
    "\n",
    "Para ilustração, este são as letras minúsculas e seus índices\n",
    "\n",
    "    a  b  c  d  e  f  g ... x  y  z\n",
    "    0  1  2  3  4  5  6 ... 23 24 25\n",
    "\n",
    "Essa é somente *uma* maneira possível de indexar elementos em ciência de computação. MATLAB, por exemplo, começa do 1 e inclui o índice igual ao comprimento, uma notação um pouco mais natural à manipulação de matrizes. Apesar de tudo, isso é uma fonte comum de bugs e confusões, então seja sempre cauteloso. Se você tentar acessar um índice inexistente, um `IndexError` será lançado."
   ]
  },
  {
   "cell_type": "code",
   "execution_count": 9,
   "id": "7755804d-7a2d-4509-9f2b-c39241818037",
   "metadata": {},
   "outputs": [
    {
     "data": {
      "text/plain": [
       "26"
      ]
     },
     "execution_count": 9,
     "metadata": {},
     "output_type": "execute_result"
    }
   ],
   "source": [
    "len(letras_minúsculas)"
   ]
  },
  {
   "cell_type": "code",
   "execution_count": 10,
   "id": "8b2283f7-f700-4a6c-b604-29e3ae338d49",
   "metadata": {},
   "outputs": [
    {
     "data": {
      "text/plain": [
       "'a'"
      ]
     },
     "execution_count": 10,
     "metadata": {},
     "output_type": "execute_result"
    }
   ],
   "source": [
    "letras_minúsculas[0]"
   ]
  },
  {
   "cell_type": "code",
   "execution_count": 11,
   "id": "30273b70-a9ce-4844-9fc1-dabc7986e646",
   "metadata": {},
   "outputs": [
    {
     "data": {
      "text/plain": [
       "'z'"
      ]
     },
     "execution_count": 11,
     "metadata": {},
     "output_type": "execute_result"
    }
   ],
   "source": [
    "letras_minúsculas[25]"
   ]
  },
  {
   "cell_type": "code",
   "execution_count": 12,
   "id": "d0a0b489-2652-4a79-8f8c-efa87ef339dd",
   "metadata": {},
   "outputs": [
    {
     "ename": "IndexError",
     "evalue": "list index out of range",
     "output_type": "error",
     "traceback": [
      "\u001b[1;31m---------------------------------------------------------------------------\u001b[0m",
      "\u001b[1;31mIndexError\u001b[0m                                Traceback (most recent call last)",
      "Cell \u001b[1;32mIn[12], line 1\u001b[0m\n\u001b[1;32m----> 1\u001b[0m \u001b[43mletras_minúsculas\u001b[49m\u001b[43m[\u001b[49m\u001b[38;5;241;43m26\u001b[39;49m\u001b[43m]\u001b[49m\n",
      "\u001b[1;31mIndexError\u001b[0m: list index out of range"
     ]
    }
   ],
   "source": [
    "letras_minúsculas[26]"
   ]
  },
  {
   "cell_type": "markdown",
   "id": "a2b9f9df-ff2c-468f-9956-f78e481c9a47",
   "metadata": {},
   "source": [
    "Com a indexação, você pode alterar diretamente os valores de uma lista, utilizando os operadores de atribuição ou atribuição aumentada."
   ]
  },
  {
   "cell_type": "code",
   "execution_count": 13,
   "id": "0ee51976-5694-4c06-915a-ff39c59edc13",
   "metadata": {},
   "outputs": [
    {
     "data": {
      "text/plain": [
       "[11, 7, 3, 4, 5]"
      ]
     },
     "execution_count": 13,
     "metadata": {},
     "output_type": "execute_result"
    }
   ],
   "source": [
    "lista = [1, 2, 3, 4, 5]\n",
    "lista[0] = lista[0] + 10\n",
    "lista[1] += 5\n",
    "lista"
   ]
  },
  {
   "cell_type": "markdown",
   "id": "1a479024-a8d4-438a-97de-3c1cdab2ec1b",
   "metadata": {},
   "source": [
    "### Slicing\n",
    "\n",
    "Caso você queira seccionar uma lista, pode utilizar a notação de colchetes, separando os índices de início e fim com `:`. Aqui, o índice de fim **não é incluído** na seção, então, se você deseja seccionar até o fim de uma lista, precisa seccionar até o `len` dela."
   ]
  },
  {
   "cell_type": "code",
   "execution_count": 14,
   "id": "ac96a07d-debe-4151-acf6-157df6448349",
   "metadata": {},
   "outputs": [
    {
     "data": {
      "text/plain": [
       "['a', 'b', 'c', 'd', 'e']"
      ]
     },
     "execution_count": 14,
     "metadata": {},
     "output_type": "execute_result"
    }
   ],
   "source": [
    "letras_minúsculas[0:5]"
   ]
  },
  {
   "cell_type": "code",
   "execution_count": 15,
   "id": "c5ca610e-b4a3-43a6-9a1e-ff30b7a3a49d",
   "metadata": {},
   "outputs": [
    {
     "data": {
      "text/plain": [
       "['a',\n",
       " 'b',\n",
       " 'c',\n",
       " 'd',\n",
       " 'e',\n",
       " 'f',\n",
       " 'g',\n",
       " 'h',\n",
       " 'i',\n",
       " 'j',\n",
       " 'k',\n",
       " 'l',\n",
       " 'm',\n",
       " 'n',\n",
       " 'o',\n",
       " 'p',\n",
       " 'q',\n",
       " 'r',\n",
       " 's',\n",
       " 't',\n",
       " 'u',\n",
       " 'v',\n",
       " 'w',\n",
       " 'x',\n",
       " 'y',\n",
       " 'z']"
      ]
     },
     "execution_count": 15,
     "metadata": {},
     "output_type": "execute_result"
    }
   ],
   "source": [
    "letras_minúsculas[0:len(letras_minúsculas)]"
   ]
  },
  {
   "cell_type": "markdown",
   "id": "899cca2e-d778-4060-b33d-3d5f598704ad",
   "metadata": {},
   "source": [
    "Para pegar elementos da parte final, fica inconveniente sempre utilizar `len(lista) - x` para significar \"exceto os `x` últimos elementos. Existe uma notação de conveniência, onde índices negativos começam do final. Então `-1` significa \"último elemento\"."
   ]
  },
  {
   "cell_type": "code",
   "execution_count": 16,
   "id": "ad26cf2b-c702-48de-a421-e370ceed3f20",
   "metadata": {},
   "outputs": [
    {
     "data": {
      "text/plain": [
       "['v', 'w', 'x', 'y']"
      ]
     },
     "execution_count": 16,
     "metadata": {},
     "output_type": "execute_result"
    }
   ],
   "source": [
    "letras_minúsculas[len(letras_minúsculas) - 5: len(letras_minúsculas) - 1]"
   ]
  },
  {
   "cell_type": "code",
   "execution_count": 17,
   "id": "e7385a8b-f289-474f-bbd9-4c29012c681b",
   "metadata": {},
   "outputs": [
    {
     "data": {
      "text/plain": [
       "['v', 'w', 'x', 'y']"
      ]
     },
     "execution_count": 17,
     "metadata": {},
     "output_type": "execute_result"
    }
   ],
   "source": [
    "letras_minúsculas[-5:-1]"
   ]
  },
  {
   "cell_type": "markdown",
   "id": "39f91025-f397-40e9-9d12-52b4d513134b",
   "metadata": {},
   "source": [
    "Se você utilizar `None` em um dos lados do `:`, significa que quer incluir tudo daquele lado. Então `None:-1` significa \"todos os elementos do começo até, mas não incluindo, o último elemento. Por conveniência, você pode também não colocar nada, e isso será interpretado como `None`. Por exemplo:"
   ]
  },
  {
   "cell_type": "code",
   "execution_count": 18,
   "id": "3bbd0f64-293b-41d9-8f32-2aca418b6413",
   "metadata": {},
   "outputs": [
    {
     "data": {
      "text/plain": [
       "['v', 'w', 'x', 'y', 'z']"
      ]
     },
     "execution_count": 18,
     "metadata": {},
     "output_type": "execute_result"
    }
   ],
   "source": [
    "letras_minúsculas[-5:None]"
   ]
  },
  {
   "cell_type": "code",
   "execution_count": 19,
   "id": "1fe48ee2-e9a6-4de3-9b4a-916d6858513a",
   "metadata": {},
   "outputs": [
    {
     "data": {
      "text/plain": [
       "['v', 'w', 'x', 'y', 'z']"
      ]
     },
     "execution_count": 19,
     "metadata": {},
     "output_type": "execute_result"
    }
   ],
   "source": [
    "letras_minúsculas[-5:]"
   ]
  },
  {
   "cell_type": "markdown",
   "id": "74ada0ae-2eb1-45dc-81fc-0324221de376",
   "metadata": {},
   "source": [
    "Tecnicamente, ao utilizar a notação `início:fim`, você está criando um objeto `slice`. Você pode fazer isso manualmente com a função `slice`."
   ]
  },
  {
   "cell_type": "code",
   "execution_count": 20,
   "id": "28e6a6af-7e7b-4ae0-bbde-09f18fbbc855",
   "metadata": {},
   "outputs": [
    {
     "data": {
      "text/plain": [
       "slice(-5, None, None)"
      ]
     },
     "execution_count": 20,
     "metadata": {},
     "output_type": "execute_result"
    }
   ],
   "source": [
    "slice_letras = slice(-5, None)\n",
    "slice_letras"
   ]
  },
  {
   "cell_type": "code",
   "execution_count": 21,
   "id": "cc470f06-fe3d-43fc-b81a-24856319ae9f",
   "metadata": {},
   "outputs": [
    {
     "data": {
      "text/plain": [
       "['v', 'w', 'x', 'y', 'z']"
      ]
     },
     "execution_count": 21,
     "metadata": {},
     "output_type": "execute_result"
    }
   ],
   "source": [
    "letras_minúsculas[slice_letras]"
   ]
  },
  {
   "cell_type": "markdown",
   "id": "6de5899e-a759-456f-867c-eba041a62bb1",
   "metadata": {},
   "source": [
    "E você também pode usar variáveis na hora de especificar as regiões."
   ]
  },
  {
   "cell_type": "code",
   "execution_count": 22,
   "id": "75200225-66d8-489c-ba25-75a62754f18e",
   "metadata": {},
   "outputs": [
    {
     "data": {
      "text/plain": [
       "['a', 'b', 'c', 'd', 'e']"
      ]
     },
     "execution_count": 22,
     "metadata": {},
     "output_type": "execute_result"
    }
   ],
   "source": [
    "início = 0\n",
    "fim = 5\n",
    "letras_minúsculas[início:fim]"
   ]
  },
  {
   "cell_type": "markdown",
   "id": "f07d2d3b-aa78-4286-b1be-934d8f49d3d0",
   "metadata": {},
   "source": [
    "Os astutos terão notado que na criação de um slice manual, a representação retornada possuía 3 argumentos. `-5, None, None`. Na criação de slices, é possível utilizar outro `:` e especificar o *passo*. Por padrão, o passo é 1, então todos os elementos entre o início e o fim são selecionados. Se o passo for 2, um elemento é pulado. Se o passo for negativo, os elementos serão selecionados de trás para frente, mas ainda começando no início e terminando no fim. Note a diferença:"
   ]
  },
  {
   "cell_type": "code",
   "execution_count": 23,
   "id": "fa501102-2af9-45d0-8324-06d5552bde42",
   "metadata": {},
   "outputs": [
    {
     "data": {
      "text/plain": [
       "['f', 'e', 'd', 'c', 'b']"
      ]
     },
     "execution_count": 23,
     "metadata": {},
     "output_type": "execute_result"
    }
   ],
   "source": [
    "letras_minúsculas[5:0:-1]"
   ]
  },
  {
   "cell_type": "code",
   "execution_count": 24,
   "id": "83eb86c8-ee13-4eac-878a-04b12bf0c717",
   "metadata": {},
   "outputs": [
    {
     "data": {
      "text/plain": [
       "[]"
      ]
     },
     "execution_count": 24,
     "metadata": {},
     "output_type": "execute_result"
    }
   ],
   "source": [
    "letras_minúsculas[0:5:-1]"
   ]
  },
  {
   "cell_type": "code",
   "execution_count": 25,
   "id": "7ec1900d-6af7-42e3-ab7f-2acec8db956a",
   "metadata": {},
   "outputs": [
    {
     "data": {
      "text/plain": [
       "['a', 'f', 'k', 'p', 'u', 'z']"
      ]
     },
     "execution_count": 25,
     "metadata": {},
     "output_type": "execute_result"
    }
   ],
   "source": [
    "letras_minúsculas[None:None:5]"
   ]
  },
  {
   "cell_type": "markdown",
   "id": "b01e0983-e1c9-4342-a079-63e663e4a2e9",
   "metadata": {},
   "source": [
    "Você pode escolher não colocar o início e o fim, e só especificar o passo. Essa é uma maneira comum de reverter a ordem de listas."
   ]
  },
  {
   "cell_type": "code",
   "execution_count": 26,
   "id": "5e869ff9-8098-4744-9c11-95bd272c2f8e",
   "metadata": {},
   "outputs": [
    {
     "data": {
      "text/plain": [
       "['z',\n",
       " 'y',\n",
       " 'x',\n",
       " 'w',\n",
       " 'v',\n",
       " 'u',\n",
       " 't',\n",
       " 's',\n",
       " 'r',\n",
       " 'q',\n",
       " 'p',\n",
       " 'o',\n",
       " 'n',\n",
       " 'm',\n",
       " 'l',\n",
       " 'k',\n",
       " 'j',\n",
       " 'i',\n",
       " 'h',\n",
       " 'g',\n",
       " 'f',\n",
       " 'e',\n",
       " 'd',\n",
       " 'c',\n",
       " 'b',\n",
       " 'a']"
      ]
     },
     "execution_count": 26,
     "metadata": {},
     "output_type": "execute_result"
    }
   ],
   "source": [
    "letras_minúsculas[::-1]"
   ]
  },
  {
   "cell_type": "markdown",
   "id": "34d79508-d2c1-4bc5-8535-2eafab8b131d",
   "metadata": {},
   "source": [
    "### Mais métodos de listas\n",
    "\n",
    "Temos também mais alguns métodos de listas que podem ser úteis.\n",
    "\n",
    "* `.pop` remove o último elemento e o retorna, ou `.pop(índice)` remove o elemento no índice especificado e o retorna."
   ]
  },
  {
   "cell_type": "code",
   "execution_count": 27,
   "id": "9ce5d024-c570-4e5f-8755-9b775cc95c5a",
   "metadata": {},
   "outputs": [
    {
     "name": "stdout",
     "output_type": "stream",
     "text": [
      "5 [1, 2, 3, 4]\n"
     ]
    }
   ],
   "source": [
    "lista = [1, 2, 3, 4, 5]\n",
    "print(lista.pop(), lista)"
   ]
  },
  {
   "cell_type": "markdown",
   "id": "d3721f0b-1a1b-4843-9dbf-f5f16dfddc14",
   "metadata": {},
   "source": [
    "* `.insert(índice, elemento)` insere um elemento antes do índice especificado, como um `.pop` inverso."
   ]
  },
  {
   "cell_type": "code",
   "execution_count": 28,
   "id": "08e522c2-da51-4d75-a47f-4094c23c5bf2",
   "metadata": {},
   "outputs": [
    {
     "data": {
      "text/plain": [
       "['a', 'b', 'c', 'd', 'e']"
      ]
     },
     "execution_count": 28,
     "metadata": {},
     "output_type": "execute_result"
    }
   ],
   "source": [
    "lista = ['a', 'b', 'd', 'e']\n",
    "lista.insert(2, 'c') # Insere 'c' antes do elemento de índice 2, que é 'd'\n",
    "lista"
   ]
  },
  {
   "cell_type": "markdown",
   "id": "d82cd758-9bdd-4a07-971a-b0c9b66a00a3",
   "metadata": {},
   "source": [
    "* `.extend` aceita uma outra lista e a coloca no fim da lista atual. Note que isso atua na lista diretamente, e não retorna uma lista nova."
   ]
  },
  {
   "cell_type": "code",
   "execution_count": 29,
   "id": "5e72d243-c51b-48aa-80e8-45781321b8ca",
   "metadata": {},
   "outputs": [
    {
     "name": "stdout",
     "output_type": "stream",
     "text": [
      "[1, 2, 3, 4, 5, 6, 7, 8, 9, 10] [6, 7, 8, 9, 10]\n"
     ]
    }
   ],
   "source": [
    "lista1 = [1, 2, 3, 4, 5]\n",
    "lista2 = [6, 7, 8, 9, 10]\n",
    "lista1.extend(lista2)\n",
    "print(lista1, lista2)"
   ]
  },
  {
   "cell_type": "markdown",
   "id": "9cbc2ff2-968a-4d6d-bf93-37eabc98a6d5",
   "metadata": {},
   "source": [
    "Existe uma operação bem similar a `.extend`, que é a ação de somar duas listas com `+`. Note que essa operação **retorna uma lista nova**, e não altera as listas anteriores."
   ]
  },
  {
   "cell_type": "code",
   "execution_count": 30,
   "id": "caabdfe4-7192-4410-ad21-c65ce62f58b5",
   "metadata": {},
   "outputs": [
    {
     "name": "stdout",
     "output_type": "stream",
     "text": [
      "[1, 2, 3, 4, 5, 6, 7, 8, 9, 10] [1, 2, 3, 4, 5] [6, 7, 8, 9, 10]\n"
     ]
    }
   ],
   "source": [
    "lista1 = [1, 2, 3, 4, 5]\n",
    "lista2 = [6, 7, 8, 9, 10]\n",
    "print(lista1 + lista2, lista1, lista2)"
   ]
  },
  {
   "cell_type": "markdown",
   "id": "8354012e-bfdb-40fb-9ef4-70238475b825",
   "metadata": {},
   "source": [
    "* `.count` conta quantos elementos iguais ao especificado existem em uma lista."
   ]
  },
  {
   "cell_type": "code",
   "execution_count": 31,
   "id": "9931bab8-b941-4a07-bd12-53b07e5ea266",
   "metadata": {},
   "outputs": [
    {
     "name": "stdout",
     "output_type": "stream",
     "text": [
      "2 2 1\n"
     ]
    }
   ],
   "source": [
    "lista = [1, 2, 3, 1, 2]\n",
    "print(lista.count(2), lista.count(1), lista.count(3))"
   ]
  },
  {
   "cell_type": "markdown",
   "id": "b868a157-187a-4520-9b5e-1d15567f9b38",
   "metadata": {},
   "source": [
    "* `.reverse` inverte a ordem dos elementos de uma lista, sem retornar uma lista nova (*in place*)."
   ]
  },
  {
   "cell_type": "code",
   "execution_count": 32,
   "id": "35125562-42e7-4a40-b542-f13145595573",
   "metadata": {},
   "outputs": [
    {
     "name": "stdout",
     "output_type": "stream",
     "text": [
      "[1, 2, 3, 4, 5]\n",
      "None\n",
      "[5, 4, 3, 2, 1]\n"
     ]
    }
   ],
   "source": [
    "lista = [1, 2, 3, 4, 5]\n",
    "print(lista)\n",
    "print(lista.reverse())  # Por fazer a operação *in place*, `.reverse()` retorna None\n",
    "print(lista)"
   ]
  },
  {
   "cell_type": "markdown",
   "id": "4e05bfa3-20d9-41d2-b6f9-98d990a0ee02",
   "metadata": {},
   "source": [
    "* `.sort` ordena os elementos da lista em ordem crescente *in place*. Se quiser inverter a ordem, forneça o argumento `reverse = True`. A ordem relativa de dois elementos é obtida pelo operador `<`."
   ]
  },
  {
   "cell_type": "code",
   "execution_count": 33,
   "id": "b9c690f9-e717-40db-bf35-f9d43cfafaaf",
   "metadata": {},
   "outputs": [
    {
     "name": "stdout",
     "output_type": "stream",
     "text": [
      "[5, 2, 1, 4, 3]\n",
      "None\n",
      "[1, 2, 3, 4, 5]\n"
     ]
    }
   ],
   "source": [
    "lista = [5, 2, 1, 4, 3]\n",
    "print(lista)\n",
    "print(lista.sort())\n",
    "print(lista)"
   ]
  },
  {
   "cell_type": "markdown",
   "id": "71f0dbad-50dd-4745-8397-169bd2b942cb",
   "metadata": {},
   "source": [
    "Se você quiser controlar melhor como controlar os elementos, precisa fornecer uma função para `key`. Por exemplo:"
   ]
  },
  {
   "cell_type": "code",
   "execution_count": 34,
   "id": "54c2aaca-3dd8-4fff-9c8b-d5f54e18958d",
   "metadata": {},
   "outputs": [
    {
     "name": "stdout",
     "output_type": "stream",
     "text": [
      "[0, -1, 1, -2, 2]\n"
     ]
    }
   ],
   "source": [
    "def quadrado(x):\n",
    "    return x**2\n",
    "lista = [-2, -1, 0, 1, 2]\n",
    "lista.sort(key = quadrado)\n",
    "print(lista)"
   ]
  },
  {
   "cell_type": "markdown",
   "id": "1f7f3e14-fcdd-4c78-aec0-dd05bd2bc70c",
   "metadata": {},
   "source": [
    "Para não precisar definir uma nova função, você pode utilizar [uma função lambda](sec:func_lambda)."
   ]
  },
  {
   "cell_type": "code",
   "execution_count": 35,
   "id": "f03c9021-86ff-48af-bf99-f3b3b8e36a89",
   "metadata": {},
   "outputs": [
    {
     "name": "stdout",
     "output_type": "stream",
     "text": [
      "[0, -1, 1, -2, 2]\n"
     ]
    }
   ],
   "source": [
    "lista = [-2, -1, 0, 1, 2]\n",
    "lista.sort(key = lambda x: x**2)\n",
    "print(lista)"
   ]
  },
  {
   "cell_type": "markdown",
   "id": "8d9b9417-0be4-4e48-9beb-283e2be34fa9",
   "metadata": {},
   "source": [
    "* `.index(elemento)` retorna o índice da primeira ocorrência de um elemento em uma lista. Você pode especificar o índice de início e fim se quiser, com argumentos opcionais."
   ]
  },
  {
   "cell_type": "code",
   "execution_count": 36,
   "id": "675786f6-b49f-4baa-997e-31735150409f",
   "metadata": {},
   "outputs": [
    {
     "name": "stdout",
     "output_type": "stream",
     "text": [
      "1 6\n"
     ]
    }
   ],
   "source": [
    "lista = ['a', 'b', 'c', 'c', 'd', 'd', 'e']\n",
    "print(lista.index('b'), lista.index('e'))"
   ]
  },
  {
   "cell_type": "markdown",
   "id": "eb769f31-1595-4c8b-95d3-bfc08311de31",
   "metadata": {},
   "source": [
    "* `.copy` retorna uma cópia de uma lista. Se você realizar alterações em uma cópia, a lista original não será afetada."
   ]
  },
  {
   "cell_type": "code",
   "execution_count": 37,
   "id": "7a8d2a7c-c2ab-4918-a8d7-951b04fad828",
   "metadata": {},
   "outputs": [
    {
     "name": "stdout",
     "output_type": "stream",
     "text": [
      "[1, 2, 3, 4, 5] [1, 2, 1000, 4, 5]\n"
     ]
    }
   ],
   "source": [
    "lista = [1, 2, 3, 4, 5]\n",
    "lista_cópia = lista.copy()\n",
    "lista_cópia[2] = 1000\n",
    "print(lista, lista_cópia)"
   ]
  },
  {
   "cell_type": "markdown",
   "id": "b800cad6-4500-4bd6-b35a-85af1b2cd8e9",
   "metadata": {},
   "source": [
    "Note que isso difere do seguinte:"
   ]
  },
  {
   "cell_type": "code",
   "execution_count": 38,
   "id": "019dc77c-c0fb-4809-bc82-e612ff50d54a",
   "metadata": {},
   "outputs": [
    {
     "name": "stdout",
     "output_type": "stream",
     "text": [
      "[1, 2, 1000, 4, 5] [1, 2, 1000, 4, 5]\n"
     ]
    }
   ],
   "source": [
    "lista = [1, 2, 3, 4, 5]\n",
    "lista_ref = lista\n",
    "lista_ref[2] = 1000\n",
    "print(lista, lista_ref)"
   ]
  },
  {
   "cell_type": "markdown",
   "id": "561c4334-bc1f-4488-9041-55e221530333",
   "metadata": {},
   "source": [
    "```{note}\n",
    "Por que isso ocorre? Lembra-se de nossa analogia, de variáveis sendo \"caixinhas\" com \"etiquetas de nome\"? Neste caso, temos só uma caixinha com duas etiquetas, ou seja, você pode se referir à mesma lista por diferentes nomes. Então, qualquer operação que realizar com `lista_ref`, estará realizando com `lista` também, pois se tratam da mesma variável por trás dos panos.\n",
    "```\n",
    "\n",
    "Podemos verificar esse problema utilizando a função `id`. Essa função retorna um número único para cada objeto que existe na memória do Python."
   ]
  },
  {
   "cell_type": "code",
   "execution_count": 39,
   "id": "fb2fae07-e6db-4379-a5f8-19f184baa88a",
   "metadata": {},
   "outputs": [
    {
     "name": "stdout",
     "output_type": "stream",
     "text": [
      "False\n",
      "True\n"
     ]
    }
   ],
   "source": [
    "print(id(lista) == id(lista_cópia))\n",
    "print(id(lista) == id(lista_ref))"
   ]
  },
  {
   "cell_type": "markdown",
   "id": "d60708e1-ce57-4063-9017-735d5046b7e7",
   "metadata": {},
   "source": [
    "Quando você utiliza `.copy`, você força que uma nova \"caixinha\" seja criada, e copia todo o conteúdo para a caixa nova. Então você consegue realizar as operações. Até agora, não nos deparamos com este problema porque todas as variáveis que vimos são **imutáveis**, ou seja, você não consegue alterar o estado delas, inclusive strings! Quando você faz `contador += 1`, você está, na verdade, criando um novo objeto e atribuindo o valor dele com base no valor anterior, e potencialmente descartando o objeto antigo. Veja o seguinte exemplo:"
   ]
  },
  {
   "cell_type": "code",
   "execution_count": 40,
   "id": "cc1a94af-104e-4836-946a-fd73eec9d39a",
   "metadata": {},
   "outputs": [
    {
     "name": "stdout",
     "output_type": "stream",
     "text": [
      "False\n"
     ]
    }
   ],
   "source": [
    "contador = 0\n",
    "id1 = id(contador)\n",
    "contador += 1\n",
    "id2 = id(contador)\n",
    "print(id1 == id2)"
   ]
  },
  {
   "cell_type": "markdown",
   "id": "b73dbec4-19ab-4d74-9f5d-430ad7f940e5",
   "metadata": {},
   "source": [
    "Já quando você opera com uma lista, o mesmo objeto é mantido. Veja o exemplo:"
   ]
  },
  {
   "cell_type": "code",
   "execution_count": 41,
   "id": "604e43b1-4ab7-445b-8c40-ae6adb11bf57",
   "metadata": {},
   "outputs": [
    {
     "name": "stdout",
     "output_type": "stream",
     "text": [
      "True\n"
     ]
    }
   ],
   "source": [
    "lista = []\n",
    "id1 = id(lista)\n",
    "lista.append('a')\n",
    "id2 = id(lista)\n",
    "print(id1 == id2)"
   ]
  },
  {
   "cell_type": "markdown",
   "id": "5e578b32-f991-4f62-bc2a-a9fab368f68f",
   "metadata": {},
   "source": [
    "E mesmo dentro de uma lista **mutável**, objetos podem continuar **imutáveis**. Veja que aqui eu modifico o elemento dentro de uma lista e vejo que seu `id` muda."
   ]
  },
  {
   "cell_type": "code",
   "execution_count": 42,
   "id": "49f7bde0-10f8-4fe9-a205-bdc8596a64f9",
   "metadata": {},
   "outputs": [
    {
     "name": "stdout",
     "output_type": "stream",
     "text": [
      "False\n"
     ]
    }
   ],
   "source": [
    "lista = ['a']\n",
    "id1 = id(lista[0])\n",
    "lista[0] += 'b'\n",
    "id2 = id(lista[0])\n",
    "print(id1 == id2)"
   ]
  },
  {
   "cell_type": "markdown",
   "id": "ae69ac76-f70d-44d8-a84c-bc18d0472c69",
   "metadata": {},
   "source": [
    "Quando temos dois objetos e queremos saber se possuem `id`s diferentes, mas sem precisar fazer a comparação aqui, podemos usar `is`."
   ]
  },
  {
   "cell_type": "code",
   "execution_count": 43,
   "id": "1b834d31-f8c1-4877-b0cc-f0bc1bc0f436",
   "metadata": {},
   "outputs": [
    {
     "name": "stdout",
     "output_type": "stream",
     "text": [
      "True\n",
      "False\n",
      "False\n"
     ]
    }
   ],
   "source": [
    "lista1 = []\n",
    "lista2 = []\n",
    "print(lista1 == lista2)\n",
    "print(id(lista1) == id(lista2))\n",
    "print(lista1 is lista2)"
   ]
  },
  {
   "cell_type": "markdown",
   "id": "f0d46a2a-5944-4f0f-a19a-a8de19d7e65c",
   "metadata": {},
   "source": [
    "Por detalhes de implementação, o código acima não funciona com números e strings curtos."
   ]
  },
  {
   "cell_type": "markdown",
   "id": "bb648435-8c2b-4618-b61b-0d5426063aa8",
   "metadata": {},
   "source": [
    "Você pode se perguntar porque saber se um objeto é mutável ou imutável é importante. Isso será visto na [seção de dicionários](sec:dicts)."
   ]
  },
  {
   "cell_type": "markdown",
   "id": "42ba34d7-5497-4d8c-a1a3-1be6caacd5be",
   "metadata": {},
   "source": [
    "```{warning}\n",
    "Se você quer pegar um objeto a partir de seu `id`, [pode seguir os passos neste post](https://stackoverflow.com/questions/15011674/is-it-possible-to-dereference-variable-ids), mas cuidado, é um tópico bastante avançado!\n",
    "```"
   ]
  },
  {
   "cell_type": "markdown",
   "id": "f92bf05b-18c4-4d81-b474-e73f7ab70d8f",
   "metadata": {},
   "source": [
    "(sec:aninhamento_listas)=\n",
    "### Aninhamento de listas\n",
    "\n",
    "Quando uma lista contém outra lista em seu interior, dizemos que as listas estão aninhadas. Isso acaba sendo a maneira natural de representar estruturas multidimensionais, como uma matriz."
   ]
  },
  {
   "cell_type": "code",
   "execution_count": 44,
   "id": "2b9e9913-266f-4c39-a7ac-5e3d6f61fd53",
   "metadata": {},
   "outputs": [
    {
     "data": {
      "text/plain": [
       "[[1, 0, 0], [0, 1, 0], [0, 0, 1]]"
      ]
     },
     "execution_count": 44,
     "metadata": {},
     "output_type": "execute_result"
    }
   ],
   "source": [
    "matriz_identidade = [\n",
    "    [1, 0, 0],\n",
    "    [0, 1, 0],\n",
    "    [0, 0, 1]\n",
    "]\n",
    "matriz_identidade"
   ]
  },
  {
   "cell_type": "markdown",
   "id": "154498b5-9de7-4611-8437-9fcd5cf72efb",
   "metadata": {},
   "source": [
    "Nesta maneira de organizar uma matriz, para acessar a linha `m` columa `n`, pode utilizar sequencialmente os operadores `[]`, `[m][n]`."
   ]
  },
  {
   "cell_type": "code",
   "execution_count": 45,
   "id": "2608c4fc-97ec-4cc4-913c-a19d87e32a73",
   "metadata": {},
   "outputs": [
    {
     "name": "stdout",
     "output_type": "stream",
     "text": [
      "1 0\n"
     ]
    }
   ],
   "source": [
    "print(matriz_identidade[0][0], matriz_identidade[1][0])"
   ]
  },
  {
   "cell_type": "markdown",
   "id": "68cd3c4f-43dc-43f6-9593-9c119302712f",
   "metadata": {},
   "source": [
    "Note o que ocorre com este código"
   ]
  },
  {
   "cell_type": "code",
   "execution_count": 46,
   "id": "1ac64068-3573-4788-9aa4-7899586036fb",
   "metadata": {},
   "outputs": [
    {
     "data": {
      "text/plain": [
       "[[1, 2, 3], [4, 1000, 6], [7, 8, 9]]"
      ]
     },
     "execution_count": 46,
     "metadata": {},
     "output_type": "execute_result"
    }
   ],
   "source": [
    "linha1 = [1, 2, 3]\n",
    "linha2 = [4, 5, 6]\n",
    "linha3 = [7, 8, 9]\n",
    "matriz = [linha1, linha2, linha3]\n",
    "linha2[1] = 1000\n",
    "matriz"
   ]
  },
  {
   "cell_type": "markdown",
   "id": "d120507a-c7ea-4f2f-b142-1288716fd869",
   "metadata": {},
   "source": [
    "Isso ocorre porque `matriz` armazenou referências às outras 3 listas, então modificar uma dessas listas faz com que `matriz` veja as alterações. Você pode pensar que utilizar `copy` irá resolver isso, porque imagina que essa função copie as listas. Veja o que ocorre."
   ]
  },
  {
   "cell_type": "code",
   "execution_count": 47,
   "id": "15e5ea52-fca4-47c6-87ea-23af7b9145f0",
   "metadata": {},
   "outputs": [
    {
     "name": "stdout",
     "output_type": "stream",
     "text": [
      "[[1, 2, 3], [4, 5, 6]]\n",
      "[[1, 2, 3], [4, 1000, 6]]\n"
     ]
    }
   ],
   "source": [
    "matriz = [[1, 2, 3], [4, 5, 6]]\n",
    "matriz_cópia = matriz.copy()\n",
    "print(matriz_cópia)\n",
    "matriz[1][1] = 1000\n",
    "print(matriz_cópia)"
   ]
  },
  {
   "cell_type": "markdown",
   "id": "3416db5d-a8b2-418f-9f75-9d26c5842754",
   "metadata": {},
   "source": [
    "Ou seja, mesmo criando uma cópia, `matriz_cópia` ainda está vendo as alterações de `matriz`! Isso ocorre porque esta é uma cópia rasa, *shallow copy*, onde somente a \"primeira camada\" está sendo copiada, que contém a referência de `matriz`, mas as camadas interiores, com referências às listas interiores, não foram copiadas. Se fizermos essa tarefa manualmente, obtemos uma cópia verdadeira."
   ]
  },
  {
   "cell_type": "code",
   "execution_count": 48,
   "id": "380a99ad-fccd-4297-95c5-14dee7e19ac1",
   "metadata": {},
   "outputs": [
    {
     "name": "stdout",
     "output_type": "stream",
     "text": [
      "[[1, 2, 3], [4, 5, 6]]\n",
      "[[1, 2, 3], [4, 5, 6]]\n"
     ]
    }
   ],
   "source": [
    "matriz = [[1, 2, 3], [4, 5, 6]]\n",
    "matriz_cópia = [matriz[0].copy(), matriz[1].copy()]\n",
    "print(matriz_cópia)\n",
    "matriz[1][1] = 1000\n",
    "print(matriz_cópia)"
   ]
  },
  {
   "cell_type": "markdown",
   "id": "39c14366-0100-44b7-a136-ee7677bc35cc",
   "metadata": {},
   "source": [
    "Veremos [posteriormente](sec:deepcopy) como resolver este problema com maior facilidade."
   ]
  },
  {
   "cell_type": "markdown",
   "id": "e14ee046-ec4a-4efa-af7b-b7f41cd43804",
   "metadata": {},
   "source": [
    "Toda essa história de listas e referências pode introduzir muitos bugs, como você deve imaginar. Inclusive, você consegue criar uma estrutura infinita com certa facilidade. Veja a seguir."
   ]
  },
  {
   "cell_type": "code",
   "execution_count": 49,
   "id": "4aa0dfbc-aae7-4d31-8a2d-cdf77b25f2e7",
   "metadata": {},
   "outputs": [
    {
     "data": {
      "text/plain": [
       "[[...]]"
      ]
     },
     "execution_count": 49,
     "metadata": {},
     "output_type": "execute_result"
    }
   ],
   "source": [
    "infinito = []\n",
    "infinito.append(infinito)\n",
    "infinito"
   ]
  },
  {
   "cell_type": "markdown",
   "id": "acec42bc-ccfb-4141-b876-df6c10ad54f6",
   "metadata": {},
   "source": [
    "Temos aqui uma lista cujo primeiro elemento é uma referência para ela mesmo. Python nota isso e, ao invés de quebrar, apresenta aquele símbolo com reticências. Podemos acessar os elementos dessa lista infinitas vezes."
   ]
  },
  {
   "cell_type": "code",
   "execution_count": 50,
   "id": "961f4a61-0ce3-4e41-804f-ad9461bc55d5",
   "metadata": {},
   "outputs": [
    {
     "data": {
      "text/plain": [
       "True"
      ]
     },
     "execution_count": 50,
     "metadata": {},
     "output_type": "execute_result"
    }
   ],
   "source": [
    "id(infinito) == id(infinito[0]) == id(infinito[0][0]) == id(infinito[0][0][0])"
   ]
  },
  {
   "cell_type": "markdown",
   "id": "32445262-6baa-4e8d-a753-e0bdd94b14f3",
   "metadata": {},
   "source": [
    "Eu nunca cometi essa façanha acidentalmente, mas vai que você acaba encontrando isso num momento desavisado, então fica aqui o aviso."
   ]
  },
  {
   "cell_type": "markdown",
   "id": "984aeb28-d4eb-4fe0-adc0-8f58192084d0",
   "metadata": {},
   "source": [
    "### Funções embutidas que operam em listas\n",
    "\n",
    "Python possui algumas funções que operam em listas (de fato, em quaisquer iteráveis). Essas funções são:\n",
    "\n",
    "* `sum` soma todos os elementos na lista."
   ]
  },
  {
   "cell_type": "code",
   "execution_count": 51,
   "id": "a071b6f3-a48d-4973-9538-de000b134409",
   "metadata": {},
   "outputs": [
    {
     "data": {
      "text/plain": [
       "15"
      ]
     },
     "execution_count": 51,
     "metadata": {},
     "output_type": "execute_result"
    }
   ],
   "source": [
    "nums = [1, 2, 3, 4, 5]\n",
    "sum(nums)"
   ]
  },
  {
   "cell_type": "markdown",
   "id": "35d147dd-7ff5-4c91-97b6-662037cc7f4b",
   "metadata": {},
   "source": [
    "* `min` encontra o menor valor na lista"
   ]
  },
  {
   "cell_type": "code",
   "execution_count": 52,
   "id": "3814161f-1199-4389-acd1-cd6d19c6c529",
   "metadata": {},
   "outputs": [
    {
     "data": {
      "text/plain": [
       "1"
      ]
     },
     "execution_count": 52,
     "metadata": {},
     "output_type": "execute_result"
    }
   ],
   "source": [
    "min(nums)"
   ]
  },
  {
   "cell_type": "markdown",
   "id": "08f4e7c3-6df0-415d-85b9-1d5b18a593cd",
   "metadata": {},
   "source": [
    "* `max` encontra o valor máximo na lista"
   ]
  },
  {
   "cell_type": "code",
   "execution_count": 53,
   "id": "649d3a44-7246-4a8b-b7a5-b80f563c80ee",
   "metadata": {},
   "outputs": [
    {
     "data": {
      "text/plain": [
       "5"
      ]
     },
     "execution_count": 53,
     "metadata": {},
     "output_type": "execute_result"
    }
   ],
   "source": [
    "max(nums)"
   ]
  },
  {
   "cell_type": "markdown",
   "id": "20bb4dec-ebd7-49c5-93fe-74cf80ea4a1a",
   "metadata": {},
   "source": [
    "* `all` retorna `True` se todos os elementos em uma lista forem *truthy*"
   ]
  },
  {
   "cell_type": "code",
   "execution_count": 54,
   "id": "11296612-7553-4f73-9ded-e2ff55136aec",
   "metadata": {},
   "outputs": [
    {
     "name": "stdout",
     "output_type": "stream",
     "text": [
      "False False True\n"
     ]
    }
   ],
   "source": [
    "lista_falsa1 = [0, False, '', []]\n",
    "lista_falsa2 = [0, False, '', True]\n",
    "lista_verdadeira = [1, True, 'a', True]\n",
    "print(all(lista_falsa1), all(lista_falsa2), all(lista_verdadeira))"
   ]
  },
  {
   "cell_type": "markdown",
   "id": "e776b583-0623-4cbd-a201-f89467c6742e",
   "metadata": {},
   "source": [
    "* `any` retorna `True` se qualquer elemento da lsita for *truthy*"
   ]
  },
  {
   "cell_type": "code",
   "execution_count": 55,
   "id": "1f6669fc-8b4a-4f54-9809-dcfcf72be099",
   "metadata": {},
   "outputs": [
    {
     "name": "stdout",
     "output_type": "stream",
     "text": [
      "False True True\n"
     ]
    }
   ],
   "source": [
    "lista_falsa = [0, False, '', []]\n",
    "lista_verdadeira1 = [0, False, '', True]\n",
    "lista_verdadeira2 = [1, True, 'a', True]\n",
    "print(any(lista_falsa), any(lista_verdadeira1), any(lista_verdadeira2))"
   ]
  },
  {
   "cell_type": "markdown",
   "id": "78176fdf-8a95-4c89-885c-9b6543a6679e",
   "metadata": {},
   "source": [
    "* `map(função, lista)` aplica uma função em todos os elementos de uma lista. O objeto gerado é um objeto `map`, que não realizou as operações desejadas, para economizar memória e processamento. Os dados são calculados à medida que são requisitados. Você pode forçar que todos sejam computados transformando o objeto em uma lista."
   ]
  },
  {
   "cell_type": "code",
   "execution_count": 56,
   "id": "e213f003-945f-4298-8542-f73cd562357a",
   "metadata": {},
   "outputs": [
    {
     "name": "stdout",
     "output_type": "stream",
     "text": [
      "<map object at 0x000002BA7F8B60E0> [1, 4, 9, 16, 25]\n"
     ]
    }
   ],
   "source": [
    "valores = [1, 2, 3, 4, 5]\n",
    "quadrados = map(lambda x: x**2, valores)\n",
    "print(quadrados, list(quadrados))"
   ]
  },
  {
   "cell_type": "markdown",
   "id": "9eca9414-502a-4779-966b-c6fa7aa5f632",
   "metadata": {},
   "source": [
    "* `filter(função, lista)` remove elementos de uma lista que resultarem em `False` pela operação da função. Como map, o objeto retornado não computa os resultados até ser requisitado, e você pode forçar isso transformando o objeto em uma lista."
   ]
  },
  {
   "cell_type": "code",
   "execution_count": 57,
   "id": "bc1627f3-3727-4984-951a-25a691448f2a",
   "metadata": {},
   "outputs": [
    {
     "name": "stdout",
     "output_type": "stream",
     "text": [
      "<filter object at 0x000002BA7F8B69B0> [2, 4]\n"
     ]
    }
   ],
   "source": [
    "valores = [1, 2, 3, 4, 5]\n",
    "pares = filter(lambda x: x % 2 == 0, valores)\n",
    "print(pares, list(pares))"
   ]
  },
  {
   "cell_type": "markdown",
   "id": "9bf3af31-78db-4ec9-9f1d-f11aa5bf04cb",
   "metadata": {},
   "source": [
    "Aqui, `map` e `filter` são **geradores**, e são exauridos depois de você processá-los. Veja o que ocorre se eu fizer o seguinte:"
   ]
  },
  {
   "cell_type": "code",
   "execution_count": 58,
   "id": "45df965e-a070-491f-9375-65427f7312c2",
   "metadata": {},
   "outputs": [
    {
     "name": "stdout",
     "output_type": "stream",
     "text": [
      "<filter object at 0x000002BA7F3297E0> [2, 4] []\n"
     ]
    }
   ],
   "source": [
    "valores = [1, 2, 3, 4, 5]\n",
    "pares = filter(lambda x: x % 2 == 0, valores)\n",
    "print(pares, list(pares), list(pares))"
   ]
  },
  {
   "cell_type": "markdown",
   "id": "5506f139-765b-4fd2-9112-1c13dd99e184",
   "metadata": {},
   "source": [
    "Como `pares` já havia sido processada, quando `list` requisitou mais elementos de `pares`, não recebeu nada, então o resultado da segunda chamada foi uma lista vazia. Veremos mais sobre [geradores em uma outra seção](sec:geradores)."
   ]
  },
  {
   "cell_type": "markdown",
   "id": "5db3e02a-34fe-43df-a208-4126da481998",
   "metadata": {},
   "source": [
    "* `sorted(lista)` ordena os elementos de uma lista, como a função `sort`, porém não opera *in-place*. Neste caso, o resultado é uma lista, e não um gerador, como `map` e `filter`"
   ]
  },
  {
   "cell_type": "code",
   "execution_count": 59,
   "id": "46a38cbc-3605-4e29-8190-8b9d86c740e0",
   "metadata": {},
   "outputs": [
    {
     "data": {
      "text/plain": [
       "[1, 2, 3, 4, 5]"
      ]
     },
     "execution_count": 59,
     "metadata": {},
     "output_type": "execute_result"
    }
   ],
   "source": [
    "valores = [5, 4, 3, 2, 1]\n",
    "sorted(valores)"
   ]
  },
  {
   "cell_type": "markdown",
   "id": "c385e3b3-fbac-4ec9-8a11-38e5ff7ce2a5",
   "metadata": {},
   "source": [
    "## A tupla: uma lista mais fraca?\n",
    "\n",
    "### Criação\n",
    "\n",
    "Bastante similar à uma lista temos a tupla. Ela pode ser criada similarmente a uma lista, mas utilizando parênteses ao invés de colchetes, e pode conter elementos de tipos distintos."
   ]
  },
  {
   "cell_type": "code",
   "execution_count": 60,
   "id": "470a281d-98ec-4195-a59d-71cba52e279e",
   "metadata": {},
   "outputs": [
    {
     "data": {
      "text/plain": [
       "(1, 'a', 3, 'b')"
      ]
     },
     "execution_count": 60,
     "metadata": {},
     "output_type": "execute_result"
    }
   ],
   "source": [
    "tupla = (1, 'a', 3, 'b')\n",
    "tupla"
   ]
  },
  {
   "cell_type": "markdown",
   "id": "16885d4d-fbd6-4533-bf47-e315792e0f96",
   "metadata": {},
   "source": [
    "Para criar uma tupla com 1 elemento, é necessário colocar uma vírgula após o elemento, pois senão os parênteses são interpretados como sendo agrupadores."
   ]
  },
  {
   "cell_type": "code",
   "execution_count": 61,
   "id": "acad36e1-e724-4939-bff5-70203a1bf7a7",
   "metadata": {},
   "outputs": [
    {
     "data": {
      "text/plain": [
       "(1,)"
      ]
     },
     "execution_count": 61,
     "metadata": {},
     "output_type": "execute_result"
    }
   ],
   "source": [
    "tupla_1_elemento = (1,)\n",
    "tupla_1_elemento"
   ]
  },
  {
   "cell_type": "markdown",
   "id": "712099c6-99ad-41ec-8fe2-0b9ab1534668",
   "metadata": {},
   "source": [
    "Para criar uma tupla vazia, você precisa utilizar a função `tuple`."
   ]
  },
  {
   "cell_type": "code",
   "execution_count": 62,
   "id": "f3f44a4f-e566-4761-a078-5900d7e475fc",
   "metadata": {},
   "outputs": [
    {
     "data": {
      "text/plain": [
       "()"
      ]
     },
     "execution_count": 62,
     "metadata": {},
     "output_type": "execute_result"
    }
   ],
   "source": [
    "tupla_vazia = tuple()\n",
    "tupla_vazia"
   ]
  },
  {
   "cell_type": "markdown",
   "id": "80fa2b05-19de-40de-97e8-2c8e40371857",
   "metadata": {},
   "source": [
    "### Conversão\n",
    "\n",
    "Você também pode criar uma tupla a partir de uma lista, e uma lista a partir de uma tupla."
   ]
  },
  {
   "cell_type": "code",
   "execution_count": 63,
   "id": "3b7084f6-e9bf-4c51-9874-cea63bab48f7",
   "metadata": {},
   "outputs": [
    {
     "data": {
      "text/plain": [
       "(1, 2, 3)"
      ]
     },
     "execution_count": 63,
     "metadata": {},
     "output_type": "execute_result"
    }
   ],
   "source": [
    "tuple([1, 2, 3])"
   ]
  },
  {
   "cell_type": "code",
   "execution_count": 64,
   "id": "f7b4ba1e-c030-4403-b1e4-e1848171752e",
   "metadata": {},
   "outputs": [
    {
     "data": {
      "text/plain": [
       "[1, 2, 3]"
      ]
     },
     "execution_count": 64,
     "metadata": {},
     "output_type": "execute_result"
    }
   ],
   "source": [
    "list((1, 2, 3))"
   ]
  },
  {
   "cell_type": "markdown",
   "id": "8205ed95-0ed3-41b6-a342-823043b4c66d",
   "metadata": {},
   "source": [
    "### Métodos internos e imutabilidade\n",
    "\n",
    "Porém, diferentemente de uma lista, uma tupla é **imutável**, ou seja, você não consegue colocar mais elementos, ou remover elementos. Ela só possui dois métodos, `index` e `count`, que operam como listas.\n",
    "\n",
    "Você consegue utilizar o operador `+` para juntar duas tuplas, mas o objeto resultante é diferente."
   ]
  },
  {
   "cell_type": "code",
   "execution_count": 65,
   "id": "7fd8971a-23d6-44fb-b0c7-80140311c257",
   "metadata": {},
   "outputs": [
    {
     "data": {
      "text/plain": [
       "(3000031237632, 3000031132544, 3000031221248)"
      ]
     },
     "execution_count": 65,
     "metadata": {},
     "output_type": "execute_result"
    }
   ],
   "source": [
    "tupla1 = (1, 2, 3)\n",
    "tupla2 = (4, 5, 6)\n",
    "tupla3 = (1, 2, 3) + (4, 5, 6)\n",
    "id(tupla1), id(tupla2), id(tupla3)"
   ]
  },
  {
   "cell_type": "markdown",
   "id": "c4c7b4d8-d509-414e-a083-d9d44c845f0f",
   "metadata": {},
   "source": [
    "Os 3 ids são diferentes. Note que uma tupla é imutável, mas seus elementos internos podem ser mutáveis. Veja o seguinte:"
   ]
  },
  {
   "cell_type": "code",
   "execution_count": 66,
   "id": "4bd99b9f-252f-4fcd-911e-590756cdd4d1",
   "metadata": {},
   "outputs": [
    {
     "name": "stdout",
     "output_type": "stream",
     "text": [
      "([], 'a', 1) 3000031128640\n",
      "(['zzz'], 'a', 1) 3000031128640\n"
     ]
    }
   ],
   "source": [
    "lista1 = []\n",
    "tupla1 = (lista1, 'a', 1)\n",
    "print(tupla1, id(tupla1))\n",
    "lista1.append('zzz')\n",
    "print(tupla1, id(tupla1))"
   ]
  },
  {
   "cell_type": "markdown",
   "id": "a656f14a-3224-4033-ad22-5c29699ca8da",
   "metadata": {},
   "source": [
    "Alteramos a tupla? Não, o `id` das duas tuplas é igual. Alteramos somente o elemento na primeira posição. Podemos fazer o acesso diretamente também."
   ]
  },
  {
   "cell_type": "code",
   "execution_count": 67,
   "id": "f33883de-32e1-4e55-ba3e-f85788c7049a",
   "metadata": {},
   "outputs": [
    {
     "name": "stdout",
     "output_type": "stream",
     "text": [
      "(['zzz', 'yyy'], 'a', 1)\n"
     ]
    }
   ],
   "source": [
    "tupla1[0].append('yyy')\n",
    "print(tupla1)"
   ]
  },
  {
   "cell_type": "markdown",
   "id": "be7c6263-3a24-43f1-aae9-f82b265d411b",
   "metadata": {},
   "source": [
    "Mas não conseguimos alterar o elemento com um operador de atribuição, mesmo sendo o mesmo elemento já existente."
   ]
  },
  {
   "cell_type": "code",
   "execution_count": 68,
   "id": "5e2abedf-db2f-4643-bc64-643e0f35de9f",
   "metadata": {},
   "outputs": [
    {
     "ename": "TypeError",
     "evalue": "'tuple' object does not support item assignment",
     "output_type": "error",
     "traceback": [
      "\u001b[1;31m---------------------------------------------------------------------------\u001b[0m",
      "\u001b[1;31mTypeError\u001b[0m                                 Traceback (most recent call last)",
      "Cell \u001b[1;32mIn[68], line 1\u001b[0m\n\u001b[1;32m----> 1\u001b[0m \u001b[43mtupla1\u001b[49m\u001b[43m[\u001b[49m\u001b[38;5;241;43m0\u001b[39;49m\u001b[43m]\u001b[49m \u001b[38;5;241m=\u001b[39m lista1\n\u001b[0;32m      2\u001b[0m \u001b[38;5;28mprint\u001b[39m(tupla1)\n",
      "\u001b[1;31mTypeError\u001b[0m: 'tuple' object does not support item assignment"
     ]
    }
   ],
   "source": [
    "tupla1[0] = lista1\n",
    "print(tupla1)"
   ]
  },
  {
   "cell_type": "markdown",
   "id": "95c0dc28-dff5-4b3d-8953-73ba108cc17c",
   "metadata": {},
   "source": [
    "### Significado vêm da posição\n",
    "\n",
    "Como uma tupla possui um número fixo de elementos, a **posição** desses elementos acaba ganhando um significado intrínseco, diferentemente de uma lista, onde a posição de um elemento pode variar a esmo. Isso permite uma operação chamada *tuple unpacking*, relacionada a *iterable unpacking*, onde mais de uma variável é criada pela comparação de elementos em duas tuplas."
   ]
  },
  {
   "cell_type": "code",
   "execution_count": 69,
   "id": "4cdfa89e-1f23-4566-b37c-774ef81d58fb",
   "metadata": {},
   "outputs": [
    {
     "data": {
      "text/plain": [
       "(1, 2, 3)"
      ]
     },
     "execution_count": 69,
     "metadata": {},
     "output_type": "execute_result"
    }
   ],
   "source": [
    "num1, num2, num3 = 1, 2, 3\n",
    "num1, num2, num3"
   ]
  },
  {
   "cell_type": "markdown",
   "id": "3cc225f6-c05f-4df6-8761-e873fecf47bf",
   "metadata": {},
   "source": [
    "Aqui, você notou que o resultado apresentado é, na verdade, uma tupla, pela existência de parênteses no início e no fim? De fato, tuplas são muito ubíquas em Python, mas são frequentemente invisíveis. No exemplo acima, os dois elementos de cada lado do `=` também são tuplas invisíveis (sem os parênteses). Você pode colocá-los se quiser, e a operação ocorre da mesma maneira.\n"
   ]
  },
  {
   "cell_type": "code",
   "execution_count": 70,
   "id": "51d69579-5183-46cf-ada3-73f3dcfc7ea3",
   "metadata": {},
   "outputs": [],
   "source": [
    "(num1, num2, num3) = (1, 2, 3)"
   ]
  },
  {
   "cell_type": "markdown",
   "id": "d8e5fa57-122b-4d27-b452-45cf40440a82",
   "metadata": {},
   "source": [
    "Para fazer um *tuple unpacking*, é necessário que o número de elementos dos dois lados sejam iguais, senão uma exceção será lançada."
   ]
  },
  {
   "cell_type": "code",
   "execution_count": 71,
   "id": "2a67c0e3-8802-4e5b-ba8a-3b692c64dde6",
   "metadata": {},
   "outputs": [
    {
     "ename": "ValueError",
     "evalue": "not enough values to unpack (expected 3, got 2)",
     "output_type": "error",
     "traceback": [
      "\u001b[1;31m---------------------------------------------------------------------------\u001b[0m",
      "\u001b[1;31mValueError\u001b[0m                                Traceback (most recent call last)",
      "Cell \u001b[1;32mIn[71], line 1\u001b[0m\n\u001b[1;32m----> 1\u001b[0m num1, num2, num3 \u001b[38;5;241m=\u001b[39m \u001b[38;5;241m1\u001b[39m, \u001b[38;5;241m2\u001b[39m\n",
      "\u001b[1;31mValueError\u001b[0m: not enough values to unpack (expected 3, got 2)"
     ]
    }
   ],
   "source": [
    "num1, num2, num3 = 1, 2"
   ]
  },
  {
   "cell_type": "markdown",
   "id": "47d09d68-8f38-4a53-a9fe-9424af9fd63c",
   "metadata": {},
   "source": [
    "Essa operação também funciona com outros iteráveis, como listas, e entre iteráveis de tipos diferentes, desde que tenham um formato apropriado."
   ]
  },
  {
   "cell_type": "code",
   "execution_count": 72,
   "id": "af8a739c-25c6-41df-b654-ad42e9613c53",
   "metadata": {},
   "outputs": [
    {
     "data": {
      "text/plain": [
       "(1, 2)"
      ]
     },
     "execution_count": 72,
     "metadata": {},
     "output_type": "execute_result"
    }
   ],
   "source": [
    "(num1, num2) = [1, 2]\n",
    "num1, num2"
   ]
  },
  {
   "cell_type": "code",
   "execution_count": 73,
   "id": "3a6ead7c-adef-4d87-b815-c41f72692f97",
   "metadata": {},
   "outputs": [
    {
     "data": {
      "text/plain": [
       "(1, 2)"
      ]
     },
     "execution_count": 73,
     "metadata": {},
     "output_type": "execute_result"
    }
   ],
   "source": [
    "[num1, num2] = [1, 2]\n",
    "num1, num2"
   ]
  },
  {
   "cell_type": "code",
   "execution_count": 74,
   "id": "eb0ca89e-7f7f-4b21-a706-04d2ba5a79df",
   "metadata": {},
   "outputs": [
    {
     "data": {
      "text/plain": [
       "(1, 2)"
      ]
     },
     "execution_count": 74,
     "metadata": {},
     "output_type": "execute_result"
    }
   ],
   "source": [
    "[num1, num2] = (1, 2)\n",
    "num1, num2"
   ]
  },
  {
   "cell_type": "markdown",
   "id": "d3e9187c-a04c-403d-ad81-24cc581f0c5c",
   "metadata": {},
   "source": [
    "### Funções com mais de um valor de retorno\n",
    "\n",
    "Nós vimos anteriormente como definir uma função que retorna um valor. Se você tentar, irá ver que consegue retornar mais de um valor."
   ]
  },
  {
   "cell_type": "code",
   "execution_count": 75,
   "id": "c29d20e9-1820-4d0e-a8e5-d150743a5203",
   "metadata": {},
   "outputs": [
    {
     "data": {
      "text/plain": [
       "(1, 5, 3.0)"
      ]
     },
     "execution_count": 75,
     "metadata": {},
     "output_type": "execute_result"
    }
   ],
   "source": [
    "def estat_básica(lista):\n",
    "    mínimo = min(lista)\n",
    "    máximo = max(lista)\n",
    "    média = sum(lista) / len(lista)\n",
    "    return mínimo, máximo, média\n",
    "\n",
    "estat_básica([1, 2, 3, 4, 5])"
   ]
  },
  {
   "cell_type": "markdown",
   "id": "db6c014c-cd76-4e9b-8d44-f8409bae6134",
   "metadata": {},
   "source": [
    "Mas na verdade, você está retornando somente um valor, uma tupla, que você consegue atribuir a variáveis com *tuple unpacking*."
   ]
  },
  {
   "cell_type": "code",
   "execution_count": 76,
   "id": "a44fe856-4750-43fd-8506-4417ef6f3adc",
   "metadata": {},
   "outputs": [
    {
     "name": "stdout",
     "output_type": "stream",
     "text": [
      "1 5 3.0\n"
     ]
    }
   ],
   "source": [
    "mi, ma, me = estat_básica([1, 2, 3, 4, 5])\n",
    "print(mi, ma, me)"
   ]
  },
  {
   "cell_type": "markdown",
   "id": "83ed9403-d887-43cd-b424-c91cef2a476b",
   "metadata": {},
   "source": [
    "## `set`: uma conjunto, sem valores duplicados\n",
    "\n",
    "### Criação\n",
    "\n",
    "Um `set` é uma estrutura **mutável**, **sem ordem** que não aceita valores repetidos. Para isso, ela requer que todos os seus elementos sejam **imutáveis**. Para criar um `set`, utilize a função `set` ou coloque valores entre chaves, separados por vírgulas."
   ]
  },
  {
   "cell_type": "code",
   "execution_count": 77,
   "id": "7599a553-8fc5-4748-a001-e26d76326f34",
   "metadata": {},
   "outputs": [
    {
     "data": {
      "text/plain": [
       "{1, 2, 3}"
      ]
     },
     "execution_count": 77,
     "metadata": {},
     "output_type": "execute_result"
    }
   ],
   "source": [
    "set((1, 2, 3))"
   ]
  },
  {
   "cell_type": "code",
   "execution_count": 78,
   "id": "4695fb39-08d9-46ac-a2c3-2ab66aa1ad4b",
   "metadata": {},
   "outputs": [
    {
     "data": {
      "text/plain": [
       "{'a', 'b', 'c'}"
      ]
     },
     "execution_count": 78,
     "metadata": {},
     "output_type": "execute_result"
    }
   ],
   "source": [
    "{'a', 'b', 'b', 'c'}"
   ]
  },
  {
   "cell_type": "markdown",
   "id": "57161be5-d6a9-418c-b8a1-878d40a3ecb6",
   "metadata": {},
   "source": [
    "Nestes exemplos, os valores retornados apareceram na mesma ordem que foram criados, mas isso não é necessariamente verdadeiro sempre. Um uso um tanto simplista para `set` é a remoção de valores duplicados em listas."
   ]
  },
  {
   "cell_type": "code",
   "execution_count": 79,
   "id": "a24e0022-6b94-4320-a1b9-c9b19d56f87f",
   "metadata": {},
   "outputs": [
    {
     "data": {
      "text/plain": [
       "[1, 2, 3, 5, 6, 7]"
      ]
     },
     "execution_count": 79,
     "metadata": {},
     "output_type": "execute_result"
    }
   ],
   "source": [
    "lista = [1, 1, 3, 2, 5, 2, 3, 1, 1, 7, 6, 3, 2, 2]\n",
    "lista_sem_repetições = list(set(lista))\n",
    "lista_sem_repetições"
   ]
  },
  {
   "cell_type": "markdown",
   "id": "699b1aaa-bbef-47fa-8c67-37393dfb729d",
   "metadata": {},
   "source": [
    "Note que os elementos apareceram em ordem crescente, mas não na ordem da criação da lista, pois só 1 `6` existe, e aparece na lista após o `7`.\n",
    "\n",
    "Se você tentar criar um `set` com um objeto mutável, irá receber a seguinte mensagem de erro:"
   ]
  },
  {
   "cell_type": "code",
   "execution_count": 80,
   "id": "9a89009e-7613-444e-a54b-b3b0949ff203",
   "metadata": {},
   "outputs": [
    {
     "ename": "TypeError",
     "evalue": "unhashable type: 'list'",
     "output_type": "error",
     "traceback": [
      "\u001b[1;31m---------------------------------------------------------------------------\u001b[0m",
      "\u001b[1;31mTypeError\u001b[0m                                 Traceback (most recent call last)",
      "Cell \u001b[1;32mIn[80], line 1\u001b[0m\n\u001b[1;32m----> 1\u001b[0m {[\u001b[38;5;241m1\u001b[39m]}\n",
      "\u001b[1;31mTypeError\u001b[0m: unhashable type: 'list'"
     ]
    }
   ],
   "source": [
    "{[1]}"
   ]
  },
  {
   "cell_type": "markdown",
   "id": "bd51cb1a-c0b9-447e-a8a7-ae06fb18878f",
   "metadata": {},
   "source": [
    "Aqui, `unhashable` significa que um objeto não possui a função `.__hash__`, que também significa que a função `hash` não o aceita. Isso é geralmente o caso de objetos mutáveis, por isso que venho utilizando esse termo. Um `hash` é uma operação matemática feita em um objeto que sempre retorna o mesmo valor se um objeto tiver o mesmo conteúdo, difere grandemente com pequenas alterações no conteúdo do objeto, e que é, idealmente, único para cada objeto."
   ]
  },
  {
   "cell_type": "code",
   "execution_count": 81,
   "id": "096693f6-ad30-4ac5-a99d-2fd6f818313e",
   "metadata": {},
   "outputs": [
    {
     "data": {
      "text/plain": [
       "(529344067295497451, 529344067295497451, -4363729961677198915)"
      ]
     },
     "execution_count": 81,
     "metadata": {},
     "output_type": "execute_result"
    }
   ],
   "source": [
    "hash((1, 2, 3)), hash((1, 2, 3)), hash((1, 2, 4))"
   ]
  },
  {
   "cell_type": "markdown",
   "id": "039c005f-7a94-4cd7-abf1-99decefd6b68",
   "metadata": {},
   "source": [
    "### Métodos de `set`\n",
    "\n",
    "`set` apresenta muitos métodos da teoria de conjuntos:"
   ]
  },
  {
   "cell_type": "markdown",
   "id": "611251c7-5b39-4d16-aa63-7556c2a5344c",
   "metadata": {},
   "source": [
    "* `.union` junta dois conjuntos em um novo conjunto."
   ]
  },
  {
   "cell_type": "code",
   "execution_count": 82,
   "id": "03051dc2-1fff-4ad6-9ce2-eafcf0ab46b9",
   "metadata": {},
   "outputs": [
    {
     "name": "stdout",
     "output_type": "stream",
     "text": [
      "{1, 2, 3, 4, 5} {1, 2, 3, 4, 5, 6, 7}\n"
     ]
    }
   ],
   "source": [
    "set1 = {1, 2, 3, 4, 5}\n",
    "set2 = {3, 4, 5, 6, 7}\n",
    "união = set1.union(set2)\n",
    "print(set1, união)"
   ]
  },
  {
   "cell_type": "markdown",
   "id": "af661a75-2eec-40c3-9950-9155eb456ed6",
   "metadata": {},
   "source": [
    "* `.difference(outro_set)` remove os elementos presentes em `outro_set` e retorna um `set` novo."
   ]
  },
  {
   "cell_type": "code",
   "execution_count": 83,
   "id": "cbc5ba00-8d79-44c6-86ea-346cdfa74936",
   "metadata": {},
   "outputs": [
    {
     "name": "stdout",
     "output_type": "stream",
     "text": [
      "{1, 2, 3, 4, 5} {1, 2}\n"
     ]
    }
   ],
   "source": [
    "diferença = set1.difference(set2)\n",
    "print(set1, diferença)"
   ]
  },
  {
   "cell_type": "markdown",
   "id": "8fa49638-9e2d-45d0-9b31-5d9e9ecd17ff",
   "metadata": {},
   "source": [
    "* `.difference_update(outro_set)` realiza o mesmo que `difference`, mas *in-place*."
   ]
  },
  {
   "cell_type": "code",
   "execution_count": 84,
   "id": "46bcc05c-98d1-4bcc-8f15-1c22239063b8",
   "metadata": {},
   "outputs": [
    {
     "name": "stdout",
     "output_type": "stream",
     "text": [
      "{1, 2} None\n"
     ]
    }
   ],
   "source": [
    "diferença2 = set1.difference_update(set2)\n",
    "print(set1, diferença2)"
   ]
  },
  {
   "cell_type": "markdown",
   "id": "a2d2af33-6009-45db-aad6-d09d77bca0ab",
   "metadata": {},
   "source": [
    "* `.intersection` retorna os elementos presentes em ambos os conjuntos."
   ]
  },
  {
   "cell_type": "code",
   "execution_count": 85,
   "id": "72eb8fca-7261-4c16-aa1d-9f96697ce45c",
   "metadata": {},
   "outputs": [
    {
     "data": {
      "text/plain": [
       "{3, 4, 5}"
      ]
     },
     "execution_count": 85,
     "metadata": {},
     "output_type": "execute_result"
    }
   ],
   "source": [
    "set1 = {1, 2, 3, 4, 5}\n",
    "set2 = {3, 4, 5, 6, 7}\n",
    "set1.intersection(set2) # vide também intersection_update"
   ]
  },
  {
   "cell_type": "markdown",
   "id": "dca1a02a-b2ec-4e4b-9314-2755034ddbc0",
   "metadata": {},
   "source": [
    "* `.discard` e `.remove` são similares, onde o primeiro remove um elemento se existir, mas não lança um erro se o elemento não existir, enquanto o segundo lança o erro."
   ]
  },
  {
   "cell_type": "code",
   "execution_count": 86,
   "id": "391c5585-3d6e-4db8-bd6e-0217aaad0961",
   "metadata": {},
   "outputs": [],
   "source": [
    "set1.discard(1000)"
   ]
  },
  {
   "cell_type": "markdown",
   "id": "d1b59235-8f86-4826-83f7-fede1756cad4",
   "metadata": {},
   "source": [
    "* `symmetric_difference` retorna os elementos que aparecem ou em um ou no outro conjunto."
   ]
  },
  {
   "cell_type": "code",
   "execution_count": 87,
   "id": "4ae57b9e-cc00-415e-a04e-63315a9e8bb8",
   "metadata": {},
   "outputs": [
    {
     "data": {
      "text/plain": [
       "{1, 2, 6, 7}"
      ]
     },
     "execution_count": 87,
     "metadata": {},
     "output_type": "execute_result"
    }
   ],
   "source": [
    "set1.symmetric_difference(set2) # vide também symmetric_difference_update"
   ]
  },
  {
   "cell_type": "markdown",
   "id": "9a4b4c1d-f726-4dec-8657-a7d83db23bd8",
   "metadata": {},
   "source": [
    "* `.add` age como `.append` de uma lista.\n",
    "* `.pop` age igual a `.pop` de uma lista.\n",
    "* `.copy` age igual a `.copy` de uma lista\n",
    "* `.issubset` retorna `True` se um conjunto é subconjunto de outro."
   ]
  },
  {
   "cell_type": "code",
   "execution_count": 88,
   "id": "8ba36bd0-a821-42bd-9ddd-c96d4a3bcd21",
   "metadata": {},
   "outputs": [
    {
     "data": {
      "text/plain": [
       "True"
      ]
     },
     "execution_count": 88,
     "metadata": {},
     "output_type": "execute_result"
    }
   ],
   "source": [
    "set1 = {3, 4, 5}\n",
    "set2 = {1, 2, 3, 4, 5, 6, 7}\n",
    "set1.issubset(set2)"
   ]
  },
  {
   "cell_type": "code",
   "execution_count": 89,
   "id": "d7ae84a6-f173-467b-81e4-ff682587d78d",
   "metadata": {},
   "outputs": [
    {
     "data": {
      "text/plain": [
       "False"
      ]
     },
     "execution_count": 89,
     "metadata": {},
     "output_type": "execute_result"
    }
   ],
   "source": [
    "set2.issubset(set1)"
   ]
  },
  {
   "cell_type": "markdown",
   "id": "f59fd912-cc4c-41ba-83eb-1f0c35000a0d",
   "metadata": {},
   "source": [
    "* `.issuperset` retorna `True` se um conjunto engloba outro conjunto."
   ]
  },
  {
   "cell_type": "code",
   "execution_count": 90,
   "id": "d2fdaa29-a3ce-45af-a092-480b847e7e79",
   "metadata": {},
   "outputs": [
    {
     "data": {
      "text/plain": [
       "True"
      ]
     },
     "execution_count": 90,
     "metadata": {},
     "output_type": "execute_result"
    }
   ],
   "source": [
    "set2.issuperset(set1)"
   ]
  },
  {
   "cell_type": "code",
   "execution_count": 91,
   "id": "8cec9aa3-52c1-4d72-8544-684cd9762466",
   "metadata": {},
   "outputs": [
    {
     "data": {
      "text/plain": [
       "False"
      ]
     },
     "execution_count": 91,
     "metadata": {},
     "output_type": "execute_result"
    }
   ],
   "source": [
    "set1.issuperset(set2)"
   ]
  },
  {
   "cell_type": "markdown",
   "id": "f0518217-0777-4c0d-82e0-965547c5f638",
   "metadata": {},
   "source": [
    "* `.isdisjoint` retorna `True` se os conjuntos não possuem elementos em comum."
   ]
  },
  {
   "cell_type": "code",
   "execution_count": 92,
   "id": "ce1f6b9a-5290-43c8-af03-e0d3a49d92a6",
   "metadata": {},
   "outputs": [
    {
     "data": {
      "text/plain": [
       "True"
      ]
     },
     "execution_count": 92,
     "metadata": {},
     "output_type": "execute_result"
    }
   ],
   "source": [
    "{-1, -2, -3}.isdisjoint({1, 2, 3})"
   ]
  },
  {
   "cell_type": "code",
   "execution_count": 93,
   "id": "732939b4-2cce-49bc-ab4b-df065b753ef6",
   "metadata": {},
   "outputs": [
    {
     "data": {
      "text/plain": [
       "False"
      ]
     },
     "execution_count": 93,
     "metadata": {},
     "output_type": "execute_result"
    }
   ],
   "source": [
    "{1, 0, -1}.isdisjoint({1, 2, 3})"
   ]
  },
  {
   "cell_type": "markdown",
   "id": "05399f31-2fea-4c65-8093-f5adf7583eda",
   "metadata": {},
   "source": [
    "Se deseja um `set` imutável, pode utilizar `frozenset`. Nesse caso, qualquer operação que altera os conjuntos é proibida."
   ]
  },
  {
   "cell_type": "markdown",
   "id": "1df87ffd-e8cf-42f7-aef8-4ef89543c00c",
   "metadata": {},
   "source": [
    "## Dicionários: correlações entre chaves e valores"
   ]
  },
  {
   "cell_type": "code",
   "execution_count": null,
   "id": "877d21b1-46ea-48ce-ad2f-df4b8c1d8275",
   "metadata": {},
   "outputs": [],
   "source": []
  }
 ],
 "metadata": {
  "kernelspec": {
   "display_name": "CursoPython",
   "language": "python",
   "name": "cursopython"
  },
  "language_info": {
   "codemirror_mode": {
    "name": "ipython",
    "version": 3
   },
   "file_extension": ".py",
   "mimetype": "text/x-python",
   "name": "python",
   "nbconvert_exporter": "python",
   "pygments_lexer": "ipython3",
   "version": "3.11.3"
  }
 },
 "nbformat": 4,
 "nbformat_minor": 5
}
