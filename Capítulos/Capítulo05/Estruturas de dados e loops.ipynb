{
 "cells": [
  {
   "cell_type": "markdown",
   "id": "1c3b4a49-94b0-4c5e-aa77-d2d6003e0781",
   "metadata": {},
   "source": [
    "(cap:estruturas_dados_loops)=\n",
    "# Estruturas de dados e loops\n",
    "\n",
    "Até agora vimos tipos que continham somente um valor, exceto as strings, que podíamos entender como uma sequência de caracteres. Porém, tais variáveis tem utilidade limitada na área científica. No máximo, você conseguiria representar um par de pontos como um número complexo, mas isso está muito aquem de algo desejado, como um vetor, uma matriz ou uma tabela.\n",
    "\n",
    "Neste capítulo iremos abordar algumas estruturas de dados embutidas em Python para armazenar sequências, conjuntos ou equivalências de valores. Iremos ver como criar essas estruturas, adicionar ou remover elementos, checar se um objeto já é membro, e como operar sobre as estruturas.\n",
    "\n",
    "Tais estruturas não possuem um tamanho pré-definido. Para operar sobre todos os elementos dessas estruturas, torna-se necessário algum método que permita que você realize um mesmo conjunto de ações várias vezes, sem saber de antemão o número de vezes. Esses são chamados *loops* ou laços. Iremos aprender como utilizar tais loops em todos os elementos de uma estrutura de dados, mas também executar ações um número específico de vezes. Percorrer uma estrutura de dados é também chamado de *iterar* pela estrutura, e cada passo é uma *iteração*. Um objeto que pode ser percorrido é um *iterável*.\n",
    "\n",
    "Ao concluir este capítulo, teremos finalmente acumulado conhecimento suficiente para resolver problemas mais interessantes."
   ]
  },
  {
   "cell_type": "markdown",
   "id": "59ae8419-e65f-4a56-9b5e-c3a29bd12628",
   "metadata": {},
   "source": [
    "(sec:listas)=\n",
    "## A estrutura de dados mais básica: a lista\n",
    "\n",
    "Uma lista é uma estrutura de dados que junta elementos de tipos diversos em sequência, e pode aumentar ou diminuir seu comprimento sem problemas (ela é **mutável**). Apesar dos tipos dos objetos em uma lista poderem ser distintos, é geralmente mais útil que todos sejam de um mesmo tipo, para simplificar a lógica quando operarmos por todos os elementos.\n",
    "\n",
    "### Criação\n",
    "\n",
    "Para criar uma lista, basta colocar os elementos entre colchetes `[]`, separados por vírgulas. Vejamos um exemplo:"
   ]
  },
  {
   "cell_type": "code",
   "execution_count": 1,
   "id": "6c33fac4-53ed-4597-91c1-08fcdc45d7fe",
   "metadata": {},
   "outputs": [
    {
     "data": {
      "text/plain": [
       "['a',\n",
       " 'b',\n",
       " 'c',\n",
       " 'd',\n",
       " 'e',\n",
       " 'f',\n",
       " 'g',\n",
       " 'h',\n",
       " 'i',\n",
       " 'j',\n",
       " 'k',\n",
       " 'l',\n",
       " 'm',\n",
       " 'n',\n",
       " 'o',\n",
       " 'p',\n",
       " 'q',\n",
       " 'r',\n",
       " 's',\n",
       " 't',\n",
       " 'u',\n",
       " 'v',\n",
       " 'w',\n",
       " 'x',\n",
       " 'y',\n",
       " 'z']"
      ]
     },
     "execution_count": 1,
     "metadata": {},
     "output_type": "execute_result"
    }
   ],
   "source": [
    "letras_minúsculas = [\n",
    "    'a', 'b', 'c', 'd', 'e', 'f',\n",
    "    'g', 'h', 'i', 'j', 'k', 'l',\n",
    "    'm', 'n', 'o', 'p', 'q', 'r', \n",
    "    's', 't', 'u', 'v', 'w', 'x', \n",
    "    'y', 'z'\n",
    "]\n",
    "letras_minúsculas"
   ]
  },
  {
   "cell_type": "markdown",
   "id": "d2b85fc0-371a-4d3e-a3f7-32ac5a61f430",
   "metadata": {},
   "source": [
    "Como vimos com parênteses, os colchetes também flexibilizam as regras de indentação de código dentro deles.\n",
    "\n",
    "Além dessa maneira, podemos converter outros tipos em listas. Como vimos que strings também são como sequências, podemos converter uma string numa lista utilizando a função `list`."
   ]
  },
  {
   "cell_type": "code",
   "execution_count": 2,
   "id": "a73a646c-d6b6-49ed-8da9-bcfcb14f5bf6",
   "metadata": {},
   "outputs": [
    {
     "data": {
      "text/plain": [
       "['c', 'i', 't', 'a', 'd', 'e', 'l', 'S', 't', 'a', 't', 'i', 'o', 'n']"
      ]
     },
     "execution_count": 2,
     "metadata": {},
     "output_type": "execute_result"
    }
   ],
   "source": [
    "local = 'citadelStation'\n",
    "lst_local = list(local)\n",
    "lst_local"
   ]
  },
  {
   "cell_type": "markdown",
   "id": "e2a6ff42-16fb-40ef-a251-8cd65349d953",
   "metadata": {},
   "source": [
    "E podemos também fazer o caminho inverso, convertendo uma lista de `str` em uma `str` só. Isso é uma ação relativamente comum, mas é feita de uma maneira pouco intuitiva. Para isso, utilize o método interno `.join` de uma string, que agirá como o separador dos elementos."
   ]
  },
  {
   "cell_type": "code",
   "execution_count": 3,
   "id": "9ad399ac-e78b-47f3-b95d-915494210d07",
   "metadata": {},
   "outputs": [
    {
     "data": {
      "text/plain": [
       "'citadelStation'"
      ]
     },
     "execution_count": 3,
     "metadata": {},
     "output_type": "execute_result"
    }
   ],
   "source": [
    "novo_local = ''.join(lst_local)\n",
    "novo_local"
   ]
  },
  {
   "cell_type": "code",
   "execution_count": 4,
   "id": "6c6ea44a-305f-43ea-a4af-2d61610829de",
   "metadata": {},
   "outputs": [
    {
     "data": {
      "text/plain": [
       "True"
      ]
     },
     "execution_count": 4,
     "metadata": {},
     "output_type": "execute_result"
    }
   ],
   "source": [
    "novo_local == local"
   ]
  },
  {
   "cell_type": "markdown",
   "id": "0dc28689-71df-4cf8-9eb0-d71620ae8323",
   "metadata": {},
   "source": [
    "Podemos também gerar uma lista vazia simplesmente utilizando um par de colchetes:"
   ]
  },
  {
   "cell_type": "code",
   "execution_count": 5,
   "id": "8960827b-0a3f-4042-832f-99a05aba5169",
   "metadata": {},
   "outputs": [
    {
     "data": {
      "text/plain": [
       "[]"
      ]
     },
     "execution_count": 5,
     "metadata": {},
     "output_type": "execute_result"
    }
   ],
   "source": [
    "vazia = []\n",
    "vazia"
   ]
  },
  {
   "cell_type": "markdown",
   "id": "6fc6a1cd-5b14-44e5-a001-d3f7744ec2ff",
   "metadata": {},
   "source": [
    "E lembre-se que conteineres vazios são considerados como \"falsy\", então:"
   ]
  },
  {
   "cell_type": "code",
   "execution_count": 6,
   "id": "3970c743-d3ef-42ca-9906-ffab7565607a",
   "metadata": {},
   "outputs": [],
   "source": [
    "if vazia:\n",
    "    print('Esta linha não deveria ser executada')"
   ]
  },
  {
   "cell_type": "markdown",
   "id": "2df49f2a-548a-48eb-aff7-adda31bf2b14",
   "metadata": {},
   "source": [
    "### Adição e remoção de membros específicos\n",
    "\n",
    "Podemos adicionar membros utilizando o método `.append`"
   ]
  },
  {
   "cell_type": "code",
   "execution_count": 7,
   "id": "2c16383f-8d14-4d7e-af9a-5603883594aa",
   "metadata": {},
   "outputs": [
    {
     "data": {
      "text/plain": [
       "['a']"
      ]
     },
     "execution_count": 7,
     "metadata": {},
     "output_type": "execute_result"
    }
   ],
   "source": [
    "vazia.append('a')\n",
    "vazia"
   ]
  },
  {
   "cell_type": "markdown",
   "id": "200e8974-637c-4e7c-964f-1e0ae0d1bcda",
   "metadata": {},
   "source": [
    "Se você executar o código acima várias vezes, irá notar que a lista vai aumentando gradualmente.\n",
    "\n",
    "Se você quiser remover um valor específico, pode utilizar o método `.remove`. Se o elemento não existir, um `ValueError` será lançado. "
   ]
  },
  {
   "cell_type": "code",
   "execution_count": 8,
   "id": "1917bc6c-a32c-46e0-900e-a2226cf19007",
   "metadata": {},
   "outputs": [
    {
     "data": {
      "text/plain": [
       "[]"
      ]
     },
     "execution_count": 8,
     "metadata": {},
     "output_type": "execute_result"
    }
   ],
   "source": [
    "vazia.remove('a')\n",
    "vazia"
   ]
  },
  {
   "cell_type": "markdown",
   "id": "6c1790ce-4669-422e-bef8-8c563624a4a2",
   "metadata": {},
   "source": [
    "### Indexação\n",
    "\n",
    "Para acessar um elemento de uma lista, você pode usar a notação de colchetes, com o índice do elemento dentro do colchete.\n",
    "\n",
    "Isso pode ser um pouco confuso para iniciantes, mas a numeração em Python começa do zero, e não inclui o elemento com índice igual ao comprimento. E não se esqueça que um índice precisa ser um número inteiro! Não existe elemento `0.2`. Lembre-se das operações de divisão inteira que vimos no [capítulo de operações matemáticas](cap:op_matematicas)\n",
    "\n",
    "Para ilustração, este são as letras minúsculas e seus índices\n",
    "\n",
    "    a  b  c  d  e  f  g ... x  y  z\n",
    "    0  1  2  3  4  5  6 ... 23 24 25\n",
    "\n",
    "Essa é somente *uma* maneira possível de indexar elementos em ciência de computação. MATLAB, por exemplo, começa do 1 e inclui o índice igual ao comprimento, uma notação um pouco mais natural à manipulação de matrizes. Apesar de tudo, isso é uma fonte comum de bugs e confusões, então seja sempre cauteloso. Se você tentar acessar um índice inexistente, um `IndexError` será lançado."
   ]
  },
  {
   "cell_type": "code",
   "execution_count": 9,
   "id": "7755804d-7a2d-4509-9f2b-c39241818037",
   "metadata": {},
   "outputs": [
    {
     "data": {
      "text/plain": [
       "26"
      ]
     },
     "execution_count": 9,
     "metadata": {},
     "output_type": "execute_result"
    }
   ],
   "source": [
    "len(letras_minúsculas)"
   ]
  },
  {
   "cell_type": "code",
   "execution_count": 10,
   "id": "8b2283f7-f700-4a6c-b604-29e3ae338d49",
   "metadata": {},
   "outputs": [
    {
     "data": {
      "text/plain": [
       "'a'"
      ]
     },
     "execution_count": 10,
     "metadata": {},
     "output_type": "execute_result"
    }
   ],
   "source": [
    "letras_minúsculas[0]"
   ]
  },
  {
   "cell_type": "code",
   "execution_count": 11,
   "id": "30273b70-a9ce-4844-9fc1-dabc7986e646",
   "metadata": {},
   "outputs": [
    {
     "data": {
      "text/plain": [
       "'z'"
      ]
     },
     "execution_count": 11,
     "metadata": {},
     "output_type": "execute_result"
    }
   ],
   "source": [
    "letras_minúsculas[25]"
   ]
  },
  {
   "cell_type": "code",
   "execution_count": 12,
   "id": "d0a0b489-2652-4a79-8f8c-efa87ef339dd",
   "metadata": {},
   "outputs": [
    {
     "ename": "IndexError",
     "evalue": "list index out of range",
     "output_type": "error",
     "traceback": [
      "\u001b[1;31m---------------------------------------------------------------------------\u001b[0m",
      "\u001b[1;31mIndexError\u001b[0m                                Traceback (most recent call last)",
      "Cell \u001b[1;32mIn[12], line 1\u001b[0m\n\u001b[1;32m----> 1\u001b[0m \u001b[43mletras_minúsculas\u001b[49m\u001b[43m[\u001b[49m\u001b[38;5;241;43m26\u001b[39;49m\u001b[43m]\u001b[49m\n",
      "\u001b[1;31mIndexError\u001b[0m: list index out of range"
     ]
    }
   ],
   "source": [
    "letras_minúsculas[26]"
   ]
  },
  {
   "cell_type": "markdown",
   "id": "a2b9f9df-ff2c-468f-9956-f78e481c9a47",
   "metadata": {},
   "source": [
    "Com a indexação, você pode alterar diretamente os valores de uma lista, utilizando os operadores de atribuição ou atribuição aumentada."
   ]
  },
  {
   "cell_type": "code",
   "execution_count": 13,
   "id": "0ee51976-5694-4c06-915a-ff39c59edc13",
   "metadata": {},
   "outputs": [
    {
     "data": {
      "text/plain": [
       "[11, 7, 3, 4, 5]"
      ]
     },
     "execution_count": 13,
     "metadata": {},
     "output_type": "execute_result"
    }
   ],
   "source": [
    "lista = [1, 2, 3, 4, 5]\n",
    "lista[0] = lista[0] + 10\n",
    "lista[1] += 5\n",
    "lista"
   ]
  },
  {
   "cell_type": "markdown",
   "id": "1a479024-a8d4-438a-97de-3c1cdab2ec1b",
   "metadata": {},
   "source": [
    "### Slicing\n",
    "\n",
    "Caso você queira seccionar uma lista, pode utilizar a notação de colchetes, separando os índices de início e fim com `:`. Aqui, o índice de fim **não é incluído** na seção, então, se você deseja seccionar até o fim de uma lista, precisa seccionar até o `len` dela."
   ]
  },
  {
   "cell_type": "code",
   "execution_count": 14,
   "id": "ac96a07d-debe-4151-acf6-157df6448349",
   "metadata": {},
   "outputs": [
    {
     "data": {
      "text/plain": [
       "['a', 'b', 'c', 'd', 'e']"
      ]
     },
     "execution_count": 14,
     "metadata": {},
     "output_type": "execute_result"
    }
   ],
   "source": [
    "letras_minúsculas[0:5]"
   ]
  },
  {
   "cell_type": "code",
   "execution_count": 15,
   "id": "c5ca610e-b4a3-43a6-9a1e-ff30b7a3a49d",
   "metadata": {},
   "outputs": [
    {
     "data": {
      "text/plain": [
       "['a',\n",
       " 'b',\n",
       " 'c',\n",
       " 'd',\n",
       " 'e',\n",
       " 'f',\n",
       " 'g',\n",
       " 'h',\n",
       " 'i',\n",
       " 'j',\n",
       " 'k',\n",
       " 'l',\n",
       " 'm',\n",
       " 'n',\n",
       " 'o',\n",
       " 'p',\n",
       " 'q',\n",
       " 'r',\n",
       " 's',\n",
       " 't',\n",
       " 'u',\n",
       " 'v',\n",
       " 'w',\n",
       " 'x',\n",
       " 'y',\n",
       " 'z']"
      ]
     },
     "execution_count": 15,
     "metadata": {},
     "output_type": "execute_result"
    }
   ],
   "source": [
    "letras_minúsculas[0:len(letras_minúsculas)]"
   ]
  },
  {
   "cell_type": "markdown",
   "id": "899cca2e-d778-4060-b33d-3d5f598704ad",
   "metadata": {},
   "source": [
    "Para pegar elementos da parte final, fica inconveniente sempre utilizar `len(lista) - x` para significar \"exceto os `x` últimos elementos. Existe uma notação de conveniência, onde índices negativos começam do final. Então `-1` significa \"último elemento\"."
   ]
  },
  {
   "cell_type": "code",
   "execution_count": 16,
   "id": "ad26cf2b-c702-48de-a421-e370ceed3f20",
   "metadata": {},
   "outputs": [
    {
     "data": {
      "text/plain": [
       "['v', 'w', 'x', 'y']"
      ]
     },
     "execution_count": 16,
     "metadata": {},
     "output_type": "execute_result"
    }
   ],
   "source": [
    "letras_minúsculas[len(letras_minúsculas) - 5: len(letras_minúsculas) - 1]"
   ]
  },
  {
   "cell_type": "code",
   "execution_count": 17,
   "id": "e7385a8b-f289-474f-bbd9-4c29012c681b",
   "metadata": {},
   "outputs": [
    {
     "data": {
      "text/plain": [
       "['v', 'w', 'x', 'y']"
      ]
     },
     "execution_count": 17,
     "metadata": {},
     "output_type": "execute_result"
    }
   ],
   "source": [
    "letras_minúsculas[-5:-1]"
   ]
  },
  {
   "cell_type": "markdown",
   "id": "39f91025-f397-40e9-9d12-52b4d513134b",
   "metadata": {},
   "source": [
    "Se você utilizar `None` em um dos lados do `:`, significa que quer incluir tudo daquele lado. Então `None:-1` significa \"todos os elementos do começo até, mas não incluindo, o último elemento. Por conveniência, você pode também não colocar nada, e isso será interpretado como `None`. Por exemplo:"
   ]
  },
  {
   "cell_type": "code",
   "execution_count": 18,
   "id": "3bbd0f64-293b-41d9-8f32-2aca418b6413",
   "metadata": {},
   "outputs": [
    {
     "data": {
      "text/plain": [
       "['v', 'w', 'x', 'y', 'z']"
      ]
     },
     "execution_count": 18,
     "metadata": {},
     "output_type": "execute_result"
    }
   ],
   "source": [
    "letras_minúsculas[-5:None]"
   ]
  },
  {
   "cell_type": "code",
   "execution_count": 19,
   "id": "1fe48ee2-e9a6-4de3-9b4a-916d6858513a",
   "metadata": {},
   "outputs": [
    {
     "data": {
      "text/plain": [
       "['v', 'w', 'x', 'y', 'z']"
      ]
     },
     "execution_count": 19,
     "metadata": {},
     "output_type": "execute_result"
    }
   ],
   "source": [
    "letras_minúsculas[-5:]"
   ]
  },
  {
   "cell_type": "markdown",
   "id": "74ada0ae-2eb1-45dc-81fc-0324221de376",
   "metadata": {},
   "source": [
    "Tecnicamente, ao utilizar a notação `início:fim`, você está criando um objeto `slice`. Você pode fazer isso manualmente com a função `slice`."
   ]
  },
  {
   "cell_type": "code",
   "execution_count": 20,
   "id": "28e6a6af-7e7b-4ae0-bbde-09f18fbbc855",
   "metadata": {},
   "outputs": [
    {
     "data": {
      "text/plain": [
       "slice(-5, None, None)"
      ]
     },
     "execution_count": 20,
     "metadata": {},
     "output_type": "execute_result"
    }
   ],
   "source": [
    "slice_letras = slice(-5, None)\n",
    "slice_letras"
   ]
  },
  {
   "cell_type": "code",
   "execution_count": 21,
   "id": "cc470f06-fe3d-43fc-b81a-24856319ae9f",
   "metadata": {},
   "outputs": [
    {
     "data": {
      "text/plain": [
       "['v', 'w', 'x', 'y', 'z']"
      ]
     },
     "execution_count": 21,
     "metadata": {},
     "output_type": "execute_result"
    }
   ],
   "source": [
    "letras_minúsculas[slice_letras]"
   ]
  },
  {
   "cell_type": "markdown",
   "id": "6de5899e-a759-456f-867c-eba041a62bb1",
   "metadata": {},
   "source": [
    "E você também pode usar variáveis na hora de especificar as regiões."
   ]
  },
  {
   "cell_type": "code",
   "execution_count": 22,
   "id": "75200225-66d8-489c-ba25-75a62754f18e",
   "metadata": {},
   "outputs": [
    {
     "data": {
      "text/plain": [
       "['a', 'b', 'c', 'd', 'e']"
      ]
     },
     "execution_count": 22,
     "metadata": {},
     "output_type": "execute_result"
    }
   ],
   "source": [
    "início = 0\n",
    "fim = 5\n",
    "letras_minúsculas[início:fim]"
   ]
  },
  {
   "cell_type": "markdown",
   "id": "f07d2d3b-aa78-4286-b1be-934d8f49d3d0",
   "metadata": {},
   "source": [
    "Os astutos terão notado que na criação de um slice manual, a representação retornada possuía 3 argumentos. `-5, None, None`. Na criação de slices, é possível utilizar outro `:` e especificar o *passo*. Por padrão, o passo é 1, então todos os elementos entre o início e o fim são selecionados. Se o passo for 2, um elemento é pulado. Se o passo for negativo, os elementos serão selecionados de trás para frente, mas ainda começando no início e terminando no fim. Note a diferença:"
   ]
  },
  {
   "cell_type": "code",
   "execution_count": 23,
   "id": "fa501102-2af9-45d0-8324-06d5552bde42",
   "metadata": {},
   "outputs": [
    {
     "data": {
      "text/plain": [
       "['f', 'e', 'd', 'c', 'b']"
      ]
     },
     "execution_count": 23,
     "metadata": {},
     "output_type": "execute_result"
    }
   ],
   "source": [
    "letras_minúsculas[5:0:-1]"
   ]
  },
  {
   "cell_type": "code",
   "execution_count": 24,
   "id": "83eb86c8-ee13-4eac-878a-04b12bf0c717",
   "metadata": {},
   "outputs": [
    {
     "data": {
      "text/plain": [
       "[]"
      ]
     },
     "execution_count": 24,
     "metadata": {},
     "output_type": "execute_result"
    }
   ],
   "source": [
    "letras_minúsculas[0:5:-1]"
   ]
  },
  {
   "cell_type": "code",
   "execution_count": 25,
   "id": "7ec1900d-6af7-42e3-ab7f-2acec8db956a",
   "metadata": {},
   "outputs": [
    {
     "data": {
      "text/plain": [
       "['a', 'f', 'k', 'p', 'u', 'z']"
      ]
     },
     "execution_count": 25,
     "metadata": {},
     "output_type": "execute_result"
    }
   ],
   "source": [
    "letras_minúsculas[None:None:5]"
   ]
  },
  {
   "cell_type": "markdown",
   "id": "b01e0983-e1c9-4342-a079-63e663e4a2e9",
   "metadata": {},
   "source": [
    "Você pode escolher não colocar o início e o fim, e só especificar o passo. Essa é uma maneira comum de reverter a ordem de listas."
   ]
  },
  {
   "cell_type": "code",
   "execution_count": 26,
   "id": "5e869ff9-8098-4744-9c11-95bd272c2f8e",
   "metadata": {},
   "outputs": [
    {
     "data": {
      "text/plain": [
       "['z',\n",
       " 'y',\n",
       " 'x',\n",
       " 'w',\n",
       " 'v',\n",
       " 'u',\n",
       " 't',\n",
       " 's',\n",
       " 'r',\n",
       " 'q',\n",
       " 'p',\n",
       " 'o',\n",
       " 'n',\n",
       " 'm',\n",
       " 'l',\n",
       " 'k',\n",
       " 'j',\n",
       " 'i',\n",
       " 'h',\n",
       " 'g',\n",
       " 'f',\n",
       " 'e',\n",
       " 'd',\n",
       " 'c',\n",
       " 'b',\n",
       " 'a']"
      ]
     },
     "execution_count": 26,
     "metadata": {},
     "output_type": "execute_result"
    }
   ],
   "source": [
    "letras_minúsculas[::-1]"
   ]
  },
  {
   "cell_type": "markdown",
   "id": "34d79508-d2c1-4bc5-8535-2eafab8b131d",
   "metadata": {},
   "source": [
    "### Mais métodos de listas\n",
    "\n",
    "Temos também mais alguns métodos de listas que podem ser úteis.\n",
    "\n",
    "* `.pop` remove o último elemento e o retorna, ou `.pop(índice)` remove o elemento no índice especificado e o retorna."
   ]
  },
  {
   "cell_type": "code",
   "execution_count": 27,
   "id": "9ce5d024-c570-4e5f-8755-9b775cc95c5a",
   "metadata": {},
   "outputs": [
    {
     "name": "stdout",
     "output_type": "stream",
     "text": [
      "5 [1, 2, 3, 4]\n"
     ]
    }
   ],
   "source": [
    "lista = [1, 2, 3, 4, 5]\n",
    "print(lista.pop(), lista)"
   ]
  },
  {
   "cell_type": "markdown",
   "id": "d3721f0b-1a1b-4843-9dbf-f5f16dfddc14",
   "metadata": {},
   "source": [
    "* `.insert(índice, elemento)` insere um elemento antes do índice especificado, como um `.pop` inverso."
   ]
  },
  {
   "cell_type": "code",
   "execution_count": 28,
   "id": "08e522c2-da51-4d75-a47f-4094c23c5bf2",
   "metadata": {},
   "outputs": [
    {
     "data": {
      "text/plain": [
       "['a', 'b', 'c', 'd', 'e']"
      ]
     },
     "execution_count": 28,
     "metadata": {},
     "output_type": "execute_result"
    }
   ],
   "source": [
    "lista = ['a', 'b', 'd', 'e']\n",
    "lista.insert(2, 'c') # Insere 'c' antes do elemento de índice 2, que é 'd'\n",
    "lista"
   ]
  },
  {
   "cell_type": "markdown",
   "id": "d82cd758-9bdd-4a07-971a-b0c9b66a00a3",
   "metadata": {},
   "source": [
    "* `.extend` aceita uma outra lista e a coloca no fim da lista atual. Note que isso atua na lista diretamente, e não retorna uma lista nova."
   ]
  },
  {
   "cell_type": "code",
   "execution_count": 29,
   "id": "5e72d243-c51b-48aa-80e8-45781321b8ca",
   "metadata": {},
   "outputs": [
    {
     "name": "stdout",
     "output_type": "stream",
     "text": [
      "[1, 2, 3, 4, 5, 6, 7, 8, 9, 10] [6, 7, 8, 9, 10]\n"
     ]
    }
   ],
   "source": [
    "lista1 = [1, 2, 3, 4, 5]\n",
    "lista2 = [6, 7, 8, 9, 10]\n",
    "lista1.extend(lista2)\n",
    "print(lista1, lista2)"
   ]
  },
  {
   "cell_type": "markdown",
   "id": "9cbc2ff2-968a-4d6d-bf93-37eabc98a6d5",
   "metadata": {},
   "source": [
    "Existe uma operação bem similar a `.extend`, que é a ação de somar duas listas com `+`. Note que essa operação **retorna uma lista nova**, e não altera as listas anteriores."
   ]
  },
  {
   "cell_type": "code",
   "execution_count": 30,
   "id": "caabdfe4-7192-4410-ad21-c65ce62f58b5",
   "metadata": {},
   "outputs": [
    {
     "name": "stdout",
     "output_type": "stream",
     "text": [
      "[1, 2, 3, 4, 5, 6, 7, 8, 9, 10] [1, 2, 3, 4, 5] [6, 7, 8, 9, 10]\n"
     ]
    }
   ],
   "source": [
    "lista1 = [1, 2, 3, 4, 5]\n",
    "lista2 = [6, 7, 8, 9, 10]\n",
    "print(lista1 + lista2, lista1, lista2)"
   ]
  },
  {
   "cell_type": "markdown",
   "id": "8354012e-bfdb-40fb-9ef4-70238475b825",
   "metadata": {},
   "source": [
    "* `.count` conta quantos elementos iguais ao especificado existem em uma lista."
   ]
  },
  {
   "cell_type": "code",
   "execution_count": 31,
   "id": "9931bab8-b941-4a07-bd12-53b07e5ea266",
   "metadata": {},
   "outputs": [
    {
     "name": "stdout",
     "output_type": "stream",
     "text": [
      "2 2 1\n"
     ]
    }
   ],
   "source": [
    "lista = [1, 2, 3, 1, 2]\n",
    "print(lista.count(2), lista.count(1), lista.count(3))"
   ]
  },
  {
   "cell_type": "markdown",
   "id": "b868a157-187a-4520-9b5e-1d15567f9b38",
   "metadata": {},
   "source": [
    "* `.reverse` inverte a ordem dos elementos de uma lista, sem retornar uma lista nova (*in place*)."
   ]
  },
  {
   "cell_type": "code",
   "execution_count": 32,
   "id": "35125562-42e7-4a40-b542-f13145595573",
   "metadata": {},
   "outputs": [
    {
     "name": "stdout",
     "output_type": "stream",
     "text": [
      "[1, 2, 3, 4, 5]\n",
      "None\n",
      "[5, 4, 3, 2, 1]\n"
     ]
    }
   ],
   "source": [
    "lista = [1, 2, 3, 4, 5]\n",
    "print(lista)\n",
    "print(lista.reverse())  # Por fazer a operação *in place*, `.reverse()` retorna None\n",
    "print(lista)"
   ]
  },
  {
   "cell_type": "markdown",
   "id": "4e05bfa3-20d9-41d2-b6f9-98d990a0ee02",
   "metadata": {},
   "source": [
    "* `.sort` ordena os elementos da lista em ordem crescente *in place*. Se quiser inverter a ordem, forneça o argumento `reverse = True`. A ordem relativa de dois elementos é obtida pelo operador `<`."
   ]
  },
  {
   "cell_type": "code",
   "execution_count": 33,
   "id": "b9c690f9-e717-40db-bf35-f9d43cfafaaf",
   "metadata": {},
   "outputs": [
    {
     "name": "stdout",
     "output_type": "stream",
     "text": [
      "[5, 2, 1, 4, 3]\n",
      "None\n",
      "[1, 2, 3, 4, 5]\n"
     ]
    }
   ],
   "source": [
    "lista = [5, 2, 1, 4, 3]\n",
    "print(lista)\n",
    "print(lista.sort())\n",
    "print(lista)"
   ]
  },
  {
   "cell_type": "markdown",
   "id": "71f0dbad-50dd-4745-8397-169bd2b942cb",
   "metadata": {},
   "source": [
    "Se você quiser controlar melhor como controlar os elementos, precisa fornecer uma função para `key`. Por exemplo:"
   ]
  },
  {
   "cell_type": "code",
   "execution_count": 34,
   "id": "54c2aaca-3dd8-4fff-9c8b-d5f54e18958d",
   "metadata": {},
   "outputs": [
    {
     "name": "stdout",
     "output_type": "stream",
     "text": [
      "[0, -1, 1, -2, 2]\n"
     ]
    }
   ],
   "source": [
    "def quadrado(x):\n",
    "    return x**2\n",
    "lista = [-2, -1, 0, 1, 2]\n",
    "lista.sort(key = quadrado)\n",
    "print(lista)"
   ]
  },
  {
   "cell_type": "markdown",
   "id": "1f7f3e14-fcdd-4c78-aec0-dd05bd2bc70c",
   "metadata": {},
   "source": [
    "Para não precisar definir uma nova função, você pode utilizar [uma função lambda](sec:func_lambda)."
   ]
  },
  {
   "cell_type": "code",
   "execution_count": 35,
   "id": "f03c9021-86ff-48af-bf99-f3b3b8e36a89",
   "metadata": {},
   "outputs": [
    {
     "name": "stdout",
     "output_type": "stream",
     "text": [
      "[0, -1, 1, -2, 2]\n"
     ]
    }
   ],
   "source": [
    "lista = [-2, -1, 0, 1, 2]\n",
    "lista.sort(key = lambda x: x**2)\n",
    "print(lista)"
   ]
  },
  {
   "cell_type": "markdown",
   "id": "8d9b9417-0be4-4e48-9beb-283e2be34fa9",
   "metadata": {},
   "source": [
    "* `.index(elemento)` retorna o índice da primeira ocorrência de um elemento em uma lista. Você pode especificar o índice de início e fim se quiser, com argumentos opcionais."
   ]
  },
  {
   "cell_type": "code",
   "execution_count": 36,
   "id": "675786f6-b49f-4baa-997e-31735150409f",
   "metadata": {},
   "outputs": [
    {
     "name": "stdout",
     "output_type": "stream",
     "text": [
      "1 6\n"
     ]
    }
   ],
   "source": [
    "lista = ['a', 'b', 'c', 'c', 'd', 'd', 'e']\n",
    "print(lista.index('b'), lista.index('e'))"
   ]
  },
  {
   "cell_type": "markdown",
   "id": "eb769f31-1595-4c8b-95d3-bfc08311de31",
   "metadata": {},
   "source": [
    "* `.copy` retorna uma cópia de uma lista. Se você realizar alterações em uma cópia, a lista original não será afetada."
   ]
  },
  {
   "cell_type": "code",
   "execution_count": 37,
   "id": "7a8d2a7c-c2ab-4918-a8d7-951b04fad828",
   "metadata": {},
   "outputs": [
    {
     "name": "stdout",
     "output_type": "stream",
     "text": [
      "[1, 2, 3, 4, 5] [1, 2, 1000, 4, 5]\n"
     ]
    }
   ],
   "source": [
    "lista = [1, 2, 3, 4, 5]\n",
    "lista_cópia = lista.copy()\n",
    "lista_cópia[2] = 1000\n",
    "print(lista, lista_cópia)"
   ]
  },
  {
   "cell_type": "markdown",
   "id": "b800cad6-4500-4bd6-b35a-85af1b2cd8e9",
   "metadata": {},
   "source": [
    "Note que isso difere do seguinte:"
   ]
  },
  {
   "cell_type": "code",
   "execution_count": 38,
   "id": "019dc77c-c0fb-4809-bc82-e612ff50d54a",
   "metadata": {},
   "outputs": [
    {
     "name": "stdout",
     "output_type": "stream",
     "text": [
      "[1, 2, 1000, 4, 5] [1, 2, 1000, 4, 5]\n"
     ]
    }
   ],
   "source": [
    "lista = [1, 2, 3, 4, 5]\n",
    "lista_ref = lista\n",
    "lista_ref[2] = 1000\n",
    "print(lista, lista_ref)"
   ]
  },
  {
   "cell_type": "markdown",
   "id": "561c4334-bc1f-4488-9041-55e221530333",
   "metadata": {},
   "source": [
    "```{note}\n",
    "Por que isso ocorre? Lembra-se de nossa analogia, de variáveis sendo \"caixinhas\" com \"etiquetas de nome\"? Neste caso, temos só uma caixinha com duas etiquetas, ou seja, você pode se referir à mesma lista por diferentes nomes. Então, qualquer operação que realizar com `lista_ref`, estará realizando com `lista` também, pois se tratam da mesma variável por trás dos panos.\n",
    "```\n",
    "\n",
    "Podemos verificar esse problema utilizando a função `id`. Essa função retorna um número único para cada objeto que existe na memória do Python."
   ]
  },
  {
   "cell_type": "code",
   "execution_count": 39,
   "id": "fb2fae07-e6db-4379-a5f8-19f184baa88a",
   "metadata": {},
   "outputs": [
    {
     "name": "stdout",
     "output_type": "stream",
     "text": [
      "False\n",
      "True\n"
     ]
    }
   ],
   "source": [
    "print(id(lista) == id(lista_cópia))\n",
    "print(id(lista) == id(lista_ref))"
   ]
  },
  {
   "cell_type": "markdown",
   "id": "d60708e1-ce57-4063-9017-735d5046b7e7",
   "metadata": {},
   "source": [
    "Quando você utiliza `.copy`, você força que uma nova \"caixinha\" seja criada, e copia todo o conteúdo para a caixa nova. Então você consegue realizar as operações. Até agora, não nos deparamos com este problema porque todas as variáveis que vimos são **imutáveis**, ou seja, você não consegue alterar o estado delas, inclusive strings! Quando você faz `contador += 1`, você está, na verdade, criando um novo objeto e atribuindo o valor dele com base no valor anterior, e potencialmente descartando o objeto antigo. Veja o seguinte exemplo:"
   ]
  },
  {
   "cell_type": "code",
   "execution_count": 40,
   "id": "cc1a94af-104e-4836-946a-fd73eec9d39a",
   "metadata": {},
   "outputs": [
    {
     "name": "stdout",
     "output_type": "stream",
     "text": [
      "False\n"
     ]
    }
   ],
   "source": [
    "contador = 0\n",
    "id1 = id(contador)\n",
    "contador += 1\n",
    "id2 = id(contador)\n",
    "print(id1 == id2)"
   ]
  },
  {
   "cell_type": "markdown",
   "id": "b73dbec4-19ab-4d74-9f5d-430ad7f940e5",
   "metadata": {},
   "source": [
    "Já quando você opera com uma lista, o mesmo objeto é mantido. Veja o exemplo:"
   ]
  },
  {
   "cell_type": "code",
   "execution_count": 41,
   "id": "604e43b1-4ab7-445b-8c40-ae6adb11bf57",
   "metadata": {},
   "outputs": [
    {
     "name": "stdout",
     "output_type": "stream",
     "text": [
      "True\n"
     ]
    }
   ],
   "source": [
    "lista = []\n",
    "id1 = id(lista)\n",
    "lista.append('a')\n",
    "id2 = id(lista)\n",
    "print(id1 == id2)"
   ]
  },
  {
   "cell_type": "markdown",
   "id": "5e578b32-f991-4f62-bc2a-a9fab368f68f",
   "metadata": {},
   "source": [
    "E mesmo dentro de uma lista **mutável**, objetos podem continuar **imutáveis**. Veja que aqui eu modifico o elemento dentro de uma lista e vejo que seu `id` muda."
   ]
  },
  {
   "cell_type": "code",
   "execution_count": 42,
   "id": "49f7bde0-10f8-4fe9-a205-bdc8596a64f9",
   "metadata": {},
   "outputs": [
    {
     "name": "stdout",
     "output_type": "stream",
     "text": [
      "False\n"
     ]
    }
   ],
   "source": [
    "lista = ['a']\n",
    "id1 = id(lista[0])\n",
    "lista[0] += 'b'\n",
    "id2 = id(lista[0])\n",
    "print(id1 == id2)"
   ]
  },
  {
   "cell_type": "markdown",
   "id": "ae69ac76-f70d-44d8-a84c-bc18d0472c69",
   "metadata": {},
   "source": [
    "Quando temos dois objetos e queremos saber se possuem `id`s diferentes, mas sem precisar fazer a comparação aqui, podemos usar `is`."
   ]
  },
  {
   "cell_type": "code",
   "execution_count": 43,
   "id": "1b834d31-f8c1-4877-b0cc-f0bc1bc0f436",
   "metadata": {},
   "outputs": [
    {
     "name": "stdout",
     "output_type": "stream",
     "text": [
      "True\n",
      "False\n",
      "False\n"
     ]
    }
   ],
   "source": [
    "lista1 = []\n",
    "lista2 = []\n",
    "print(lista1 == lista2)\n",
    "print(id(lista1) == id(lista2))\n",
    "print(lista1 is lista2)"
   ]
  },
  {
   "cell_type": "markdown",
   "id": "f0d46a2a-5944-4f0f-a19a-a8de19d7e65c",
   "metadata": {},
   "source": [
    "Por detalhes de implementação, o código acima não funciona com números e strings curtos."
   ]
  },
  {
   "cell_type": "markdown",
   "id": "bb648435-8c2b-4618-b61b-0d5426063aa8",
   "metadata": {},
   "source": [
    "Você pode se perguntar porque saber se um objeto é mutável ou imutável é importante. Isso será visto na [seção de dicionários](sec:dicts)."
   ]
  },
  {
   "cell_type": "markdown",
   "id": "42ba34d7-5497-4d8c-a1a3-1be6caacd5be",
   "metadata": {},
   "source": [
    "```{warning}\n",
    "Se você quer pegar um objeto a partir de seu `id`, [pode seguir os passos neste post](https://stackoverflow.com/questions/15011674/is-it-possible-to-dereference-variable-ids), mas cuidado, é um tópico bastante avançado!\n",
    "```"
   ]
  },
  {
   "cell_type": "markdown",
   "id": "f92bf05b-18c4-4d81-b474-e73f7ab70d8f",
   "metadata": {},
   "source": [
    "(sec:aninhamento_listas)=\n",
    "### Aninhamento de listas\n",
    "\n",
    "Quando uma lista contém outra lista em seu interior, dizemos que as listas estão aninhadas. Isso acaba sendo a maneira natural de representar estruturas multidimensionais, como uma matriz."
   ]
  },
  {
   "cell_type": "code",
   "execution_count": 44,
   "id": "2b9e9913-266f-4c39-a7ac-5e3d6f61fd53",
   "metadata": {},
   "outputs": [
    {
     "data": {
      "text/plain": [
       "[[1, 0, 0], [0, 1, 0], [0, 0, 1]]"
      ]
     },
     "execution_count": 44,
     "metadata": {},
     "output_type": "execute_result"
    }
   ],
   "source": [
    "matriz_identidade = [\n",
    "    [1, 0, 0],\n",
    "    [0, 1, 0],\n",
    "    [0, 0, 1]\n",
    "]\n",
    "matriz_identidade"
   ]
  },
  {
   "cell_type": "markdown",
   "id": "154498b5-9de7-4611-8437-9fcd5cf72efb",
   "metadata": {},
   "source": [
    "Nesta maneira de organizar uma matriz, para acessar a linha `m` columa `n`, pode utilizar sequencialmente os operadores `[]`, `[m][n]`."
   ]
  },
  {
   "cell_type": "code",
   "execution_count": 45,
   "id": "2608c4fc-97ec-4cc4-913c-a19d87e32a73",
   "metadata": {},
   "outputs": [
    {
     "name": "stdout",
     "output_type": "stream",
     "text": [
      "1 0\n"
     ]
    }
   ],
   "source": [
    "print(matriz_identidade[0][0], matriz_identidade[1][0])"
   ]
  },
  {
   "cell_type": "markdown",
   "id": "68cd3c4f-43dc-43f6-9593-9c119302712f",
   "metadata": {},
   "source": [
    "Note o que ocorre com este código"
   ]
  },
  {
   "cell_type": "code",
   "execution_count": 46,
   "id": "1ac64068-3573-4788-9aa4-7899586036fb",
   "metadata": {},
   "outputs": [
    {
     "data": {
      "text/plain": [
       "[[1, 2, 3], [4, 1000, 6], [7, 8, 9]]"
      ]
     },
     "execution_count": 46,
     "metadata": {},
     "output_type": "execute_result"
    }
   ],
   "source": [
    "linha1 = [1, 2, 3]\n",
    "linha2 = [4, 5, 6]\n",
    "linha3 = [7, 8, 9]\n",
    "matriz = [linha1, linha2, linha3]\n",
    "linha2[1] = 1000\n",
    "matriz"
   ]
  },
  {
   "cell_type": "markdown",
   "id": "d120507a-c7ea-4f2f-b142-1288716fd869",
   "metadata": {},
   "source": [
    "Isso ocorre porque `matriz` armazenou referências às outras 3 listas, então modificar uma dessas listas faz com que `matriz` veja as alterações. Você pode pensar que utilizar `copy` irá resolver isso, porque imagina que essa função copie as listas. Veja o que ocorre."
   ]
  },
  {
   "cell_type": "code",
   "execution_count": 47,
   "id": "15e5ea52-fca4-47c6-87ea-23af7b9145f0",
   "metadata": {},
   "outputs": [
    {
     "name": "stdout",
     "output_type": "stream",
     "text": [
      "[[1, 2, 3], [4, 5, 6]]\n",
      "[[1, 2, 3], [4, 1000, 6]]\n"
     ]
    }
   ],
   "source": [
    "matriz = [[1, 2, 3], [4, 5, 6]]\n",
    "matriz_cópia = matriz.copy()\n",
    "print(matriz_cópia)\n",
    "matriz[1][1] = 1000\n",
    "print(matriz_cópia)"
   ]
  },
  {
   "cell_type": "markdown",
   "id": "3416db5d-a8b2-418f-9f75-9d26c5842754",
   "metadata": {},
   "source": [
    "Ou seja, mesmo criando uma cópia, `matriz_cópia` ainda está vendo as alterações de `matriz`! Isso ocorre porque esta é uma cópia rasa, *shallow copy*, onde somente a \"primeira camada\" está sendo copiada, que contém a referência de `matriz`, mas as camadas interiores, com referências às listas interiores, não foram copiadas. Se fizermos essa tarefa manualmente, obtemos uma cópia verdadeira."
   ]
  },
  {
   "cell_type": "code",
   "execution_count": 48,
   "id": "380a99ad-fccd-4297-95c5-14dee7e19ac1",
   "metadata": {},
   "outputs": [
    {
     "name": "stdout",
     "output_type": "stream",
     "text": [
      "[[1, 2, 3], [4, 5, 6]]\n",
      "[[1, 2, 3], [4, 5, 6]]\n"
     ]
    }
   ],
   "source": [
    "matriz = [[1, 2, 3], [4, 5, 6]]\n",
    "matriz_cópia = [matriz[0].copy(), matriz[1].copy()]\n",
    "print(matriz_cópia)\n",
    "matriz[1][1] = 1000\n",
    "print(matriz_cópia)"
   ]
  },
  {
   "cell_type": "markdown",
   "id": "39c14366-0100-44b7-a136-ee7677bc35cc",
   "metadata": {},
   "source": [
    "Veremos [posteriormente](sec:deepcopy) como resolver este problema com maior facilidade."
   ]
  },
  {
   "cell_type": "markdown",
   "id": "e14ee046-ec4a-4efa-af7b-b7f41cd43804",
   "metadata": {},
   "source": [
    "Toda essa história de listas e referências pode introduzir muitos bugs, como você deve imaginar. Inclusive, você consegue criar uma estrutura infinita com certa facilidade. Veja a seguir."
   ]
  },
  {
   "cell_type": "code",
   "execution_count": 49,
   "id": "4aa0dfbc-aae7-4d31-8a2d-cdf77b25f2e7",
   "metadata": {},
   "outputs": [
    {
     "data": {
      "text/plain": [
       "[[...]]"
      ]
     },
     "execution_count": 49,
     "metadata": {},
     "output_type": "execute_result"
    }
   ],
   "source": [
    "infinito = []\n",
    "infinito.append(infinito)\n",
    "infinito"
   ]
  },
  {
   "cell_type": "markdown",
   "id": "acec42bc-ccfb-4141-b876-df6c10ad54f6",
   "metadata": {},
   "source": [
    "Temos aqui uma lista cujo primeiro elemento é uma referência para ela mesmo. Python nota isso e, ao invés de quebrar, apresenta aquele símbolo com reticências. Podemos acessar os elementos dessa lista infinitas vezes."
   ]
  },
  {
   "cell_type": "code",
   "execution_count": 50,
   "id": "961f4a61-0ce3-4e41-804f-ad9461bc55d5",
   "metadata": {},
   "outputs": [
    {
     "data": {
      "text/plain": [
       "True"
      ]
     },
     "execution_count": 50,
     "metadata": {},
     "output_type": "execute_result"
    }
   ],
   "source": [
    "id(infinito) == id(infinito[0]) == id(infinito[0][0]) == id(infinito[0][0][0])"
   ]
  },
  {
   "cell_type": "markdown",
   "id": "32445262-6baa-4e8d-a753-e0bdd94b14f3",
   "metadata": {},
   "source": [
    "Eu nunca cometi essa façanha acidentalmente, mas vai que você acaba encontrando isso num momento desavisado, então fica aqui o aviso."
   ]
  },
  {
   "cell_type": "markdown",
   "id": "984aeb28-d4eb-4fe0-adc0-8f58192084d0",
   "metadata": {},
   "source": [
    "### Funções embutidas que operam em listas\n",
    "\n",
    "Python possui algumas funções que operam em listas (de fato, em quaisquer iteráveis). Essas funções são:\n",
    "\n",
    "* `sum` soma todos os elementos na lista."
   ]
  },
  {
   "cell_type": "code",
   "execution_count": 51,
   "id": "a071b6f3-a48d-4973-9538-de000b134409",
   "metadata": {},
   "outputs": [
    {
     "data": {
      "text/plain": [
       "15"
      ]
     },
     "execution_count": 51,
     "metadata": {},
     "output_type": "execute_result"
    }
   ],
   "source": [
    "nums = [1, 2, 3, 4, 5]\n",
    "sum(nums)"
   ]
  },
  {
   "cell_type": "markdown",
   "id": "35d147dd-7ff5-4c91-97b6-662037cc7f4b",
   "metadata": {},
   "source": [
    "* `min` encontra o menor valor na lista"
   ]
  },
  {
   "cell_type": "code",
   "execution_count": 52,
   "id": "3814161f-1199-4389-acd1-cd6d19c6c529",
   "metadata": {},
   "outputs": [
    {
     "data": {
      "text/plain": [
       "1"
      ]
     },
     "execution_count": 52,
     "metadata": {},
     "output_type": "execute_result"
    }
   ],
   "source": [
    "min(nums)"
   ]
  },
  {
   "cell_type": "markdown",
   "id": "08f4e7c3-6df0-415d-85b9-1d5b18a593cd",
   "metadata": {},
   "source": [
    "* `max` encontra o valor máximo na lista"
   ]
  },
  {
   "cell_type": "code",
   "execution_count": 53,
   "id": "649d3a44-7246-4a8b-b7a5-b80f563c80ee",
   "metadata": {},
   "outputs": [
    {
     "data": {
      "text/plain": [
       "5"
      ]
     },
     "execution_count": 53,
     "metadata": {},
     "output_type": "execute_result"
    }
   ],
   "source": [
    "max(nums)"
   ]
  },
  {
   "cell_type": "markdown",
   "id": "20bb4dec-ebd7-49c5-93fe-74cf80ea4a1a",
   "metadata": {},
   "source": [
    "* `all` retorna `True` se todos os elementos em uma lista forem *truthy*"
   ]
  },
  {
   "cell_type": "code",
   "execution_count": 54,
   "id": "11296612-7553-4f73-9ded-e2ff55136aec",
   "metadata": {},
   "outputs": [
    {
     "name": "stdout",
     "output_type": "stream",
     "text": [
      "False False True\n"
     ]
    }
   ],
   "source": [
    "lista_falsa1 = [0, False, '', []]\n",
    "lista_falsa2 = [0, False, '', True]\n",
    "lista_verdadeira = [1, True, 'a', True]\n",
    "print(all(lista_falsa1), all(lista_falsa2), all(lista_verdadeira))"
   ]
  },
  {
   "cell_type": "markdown",
   "id": "e776b583-0623-4cbd-a201-f89467c6742e",
   "metadata": {},
   "source": [
    "* `any` retorna `True` se qualquer elemento da lsita for *truthy*"
   ]
  },
  {
   "cell_type": "code",
   "execution_count": 55,
   "id": "1f6669fc-8b4a-4f54-9809-dcfcf72be099",
   "metadata": {},
   "outputs": [
    {
     "name": "stdout",
     "output_type": "stream",
     "text": [
      "False True True\n"
     ]
    }
   ],
   "source": [
    "lista_falsa = [0, False, '', []]\n",
    "lista_verdadeira1 = [0, False, '', True]\n",
    "lista_verdadeira2 = [1, True, 'a', True]\n",
    "print(any(lista_falsa), any(lista_verdadeira1), any(lista_verdadeira2))"
   ]
  },
  {
   "cell_type": "markdown",
   "id": "78176fdf-8a95-4c89-885c-9b6543a6679e",
   "metadata": {},
   "source": [
    "* `map(função, lista)` aplica uma função em todos os elementos de uma lista. O objeto gerado é um objeto `map`, que não realizou as operações desejadas, para economizar memória e processamento. Os dados são calculados à medida que são requisitados. Você pode forçar que todos sejam computados transformando o objeto em uma lista."
   ]
  },
  {
   "cell_type": "code",
   "execution_count": 56,
   "id": "e213f003-945f-4298-8542-f73cd562357a",
   "metadata": {},
   "outputs": [
    {
     "name": "stdout",
     "output_type": "stream",
     "text": [
      "<map object at 0x0000011CEC376E60> [1, 4, 9, 16, 25]\n"
     ]
    }
   ],
   "source": [
    "valores = [1, 2, 3, 4, 5]\n",
    "quadrados = map(lambda x: x**2, valores)\n",
    "print(quadrados, list(quadrados))"
   ]
  },
  {
   "cell_type": "markdown",
   "id": "9eca9414-502a-4779-966b-c6fa7aa5f632",
   "metadata": {},
   "source": [
    "* `filter(função, lista)` remove elementos de uma lista que resultarem em `False` pela operação da função. Como map, o objeto retornado não computa os resultados até ser requisitado, e você pode forçar isso transformando o objeto em uma lista."
   ]
  },
  {
   "cell_type": "code",
   "execution_count": 57,
   "id": "bc1627f3-3727-4984-951a-25a691448f2a",
   "metadata": {},
   "outputs": [
    {
     "name": "stdout",
     "output_type": "stream",
     "text": [
      "<filter object at 0x0000011CEC374730> [2, 4]\n"
     ]
    }
   ],
   "source": [
    "valores = [1, 2, 3, 4, 5]\n",
    "pares = filter(lambda x: x % 2 == 0, valores)\n",
    "print(pares, list(pares))"
   ]
  },
  {
   "cell_type": "markdown",
   "id": "9bf3af31-78db-4ec9-9f1d-f11aa5bf04cb",
   "metadata": {},
   "source": [
    "Aqui, `map` e `filter` são **geradores**, e são exauridos depois de você processá-los. Veja o que ocorre se eu fizer o seguinte:"
   ]
  },
  {
   "cell_type": "code",
   "execution_count": 58,
   "id": "45df965e-a070-491f-9375-65427f7312c2",
   "metadata": {},
   "outputs": [
    {
     "name": "stdout",
     "output_type": "stream",
     "text": [
      "<filter object at 0x0000011CEC377940> [2, 4] []\n"
     ]
    }
   ],
   "source": [
    "valores = [1, 2, 3, 4, 5]\n",
    "pares = filter(lambda x: x % 2 == 0, valores)\n",
    "print(pares, list(pares), list(pares))"
   ]
  },
  {
   "cell_type": "markdown",
   "id": "5506f139-765b-4fd2-9112-1c13dd99e184",
   "metadata": {},
   "source": [
    "Como `pares` já havia sido processada, quando `list` requisitou mais elementos de `pares`, não recebeu nada, então o resultado da segunda chamada foi uma lista vazia. Veremos mais sobre [geradores em uma outra seção](sec:geradores)."
   ]
  },
  {
   "cell_type": "markdown",
   "id": "5db3e02a-34fe-43df-a208-4126da481998",
   "metadata": {},
   "source": [
    "* `sorted(lista)` ordena os elementos de uma lista, como a função `sort`, porém não opera *in-place*. Neste caso, o resultado é uma lista, e não um gerador, como `map` e `filter`"
   ]
  },
  {
   "cell_type": "code",
   "execution_count": 59,
   "id": "46a38cbc-3605-4e29-8190-8b9d86c740e0",
   "metadata": {},
   "outputs": [
    {
     "data": {
      "text/plain": [
       "[1, 2, 3, 4, 5]"
      ]
     },
     "execution_count": 59,
     "metadata": {},
     "output_type": "execute_result"
    }
   ],
   "source": [
    "valores = [5, 4, 3, 2, 1]\n",
    "sorted(valores)"
   ]
  },
  {
   "cell_type": "markdown",
   "id": "255f7949-e69e-4cc9-9f5f-f8939fd1f924",
   "metadata": {},
   "source": [
    "### Um detalhe chato de Python: argumentos padrão mutáveis em funções\n",
    "\n",
    "É plenamente possível que você deseje fazer uma função deste tipo:"
   ]
  },
  {
   "cell_type": "code",
   "execution_count": 60,
   "id": "4a2b334a-d2e9-4f7b-be75-8161ffdb7ca0",
   "metadata": {},
   "outputs": [],
   "source": [
    "def acumulador(objeto, ação, destino = []):\n",
    "    destino.append(ação(objeto))\n",
    "    return destino"
   ]
  },
  {
   "cell_type": "markdown",
   "id": "a1c48543-4343-4a67-8b09-ee61c9b5d748",
   "metadata": {},
   "source": [
    "O objetivo desta função é realizar alguma operação em um objeto e colocar em uma lista, que pode ser fornecida pelo usuário. Inicialmente, você imagina que se você fornecer uma lista para destino, os valores serão colocados nessa lista, mas se não fornecer, os valores serão colocados em uma nova lista vazia. Vejamos um exemplo:"
   ]
  },
  {
   "cell_type": "code",
   "execution_count": 61,
   "id": "32d84c80-436d-4360-9cf3-d03976739613",
   "metadata": {},
   "outputs": [
    {
     "data": {
      "text/plain": [
       "[1]"
      ]
     },
     "execution_count": 61,
     "metadata": {},
     "output_type": "execute_result"
    }
   ],
   "source": [
    "lista = []\n",
    "acumulador(1, lambda x: x**2, destino = lista)\n",
    "lista"
   ]
  },
  {
   "cell_type": "markdown",
   "id": "eefc834d-d8ed-4ae8-9cea-76b8056d18de",
   "metadata": {},
   "source": [
    "Neste caso, note que fornecemos a lista como argumento, não capturamos o resultado do acumulador, e mesmo assim a lista foi modificada. Isso é esperado, dado que listas são mutáveis. Até agora, tudo bem, mas veja o que ocorre neste caso."
   ]
  },
  {
   "cell_type": "code",
   "execution_count": 62,
   "id": "42877bee-5111-41bf-aadb-3943fe593027",
   "metadata": {},
   "outputs": [
    {
     "data": {
      "text/plain": [
       "[1]"
      ]
     },
     "execution_count": 62,
     "metadata": {},
     "output_type": "execute_result"
    }
   ],
   "source": [
    "lista = acumulador(1, lambda x: x**2)\n",
    "lista"
   ]
  },
  {
   "cell_type": "markdown",
   "id": "e4347829-7a06-4d6b-9b7f-a40d3edf9106",
   "metadata": {},
   "source": [
    "Tudo certo? Vamos utilizar isso novamente."
   ]
  },
  {
   "cell_type": "code",
   "execution_count": 63,
   "id": "aea2e518-dd6d-43fa-9150-40ab7dbf4d54",
   "metadata": {},
   "outputs": [
    {
     "data": {
      "text/plain": [
       "[1, 1]"
      ]
     },
     "execution_count": 63,
     "metadata": {},
     "output_type": "execute_result"
    }
   ],
   "source": [
    "lista = acumulador(1, lambda x: x**2)\n",
    "lista"
   ]
  },
  {
   "cell_type": "markdown",
   "id": "c14bdb04-9cc1-47fa-b511-36a5a3c3d2b8",
   "metadata": {},
   "source": [
    "Pela nossa lógica atual, imaginaríamos que a segunda lista criada deveria ser idêntica à primeira, com um elemento só. Mas isso não ocorre porque Python avalia os argumentos opcionais na hora que a função é criada, isto é, a lista chamada `destino` já existe e persiste entre as chamadas da função.\n",
    "\n",
    "Se você deseja fazer uma função deste tipo, você pode fazer o seguinte:\n",
    "Ao invés de utilizar uma lista como argumento padrão, utilize `None` e cheque se o valor é `None`. Se for, você cria uma lista nova, senão utiliza a lista fornecida."
   ]
  },
  {
   "cell_type": "code",
   "execution_count": 64,
   "id": "0d42522f-d55a-4bff-8f0e-2c54c034cf4c",
   "metadata": {},
   "outputs": [],
   "source": [
    "def acumulador(objeto, ação, destino = None):\n",
    "    if destino is None:\n",
    "        destino = []\n",
    "    destino.append(ação(objeto))\n",
    "    return destino"
   ]
  },
  {
   "cell_type": "code",
   "execution_count": 65,
   "id": "290ebcf2-3293-4e18-ae54-9c6773d7ca0a",
   "metadata": {},
   "outputs": [
    {
     "data": {
      "text/plain": [
       "[1]"
      ]
     },
     "execution_count": 65,
     "metadata": {},
     "output_type": "execute_result"
    }
   ],
   "source": [
    "lista = acumulador(1, lambda x: x**2)\n",
    "lista"
   ]
  },
  {
   "cell_type": "code",
   "execution_count": 66,
   "id": "9d645308-8d31-4e68-8699-86efc3e33ebd",
   "metadata": {},
   "outputs": [
    {
     "data": {
      "text/plain": [
       "[1]"
      ]
     },
     "execution_count": 66,
     "metadata": {},
     "output_type": "execute_result"
    }
   ],
   "source": [
    "lista = acumulador(1, lambda x: x**2)\n",
    "lista"
   ]
  },
  {
   "cell_type": "markdown",
   "id": "aa1c98ef-f83b-4d20-b34e-27a58ae43ef1",
   "metadata": {},
   "source": [
    "Dessa maneira tudo funciona como esperado."
   ]
  },
  {
   "cell_type": "markdown",
   "id": "c385e3b3-fbac-4ec9-8a11-38e5ff7ce2a5",
   "metadata": {},
   "source": [
    "## A tupla: uma lista mais fraca?\n",
    "\n",
    "### Criação\n",
    "\n",
    "Bastante similar à uma lista temos a tupla. Ela pode ser criada similarmente a uma lista, mas utilizando parênteses ao invés de colchetes, e pode conter elementos de tipos distintos."
   ]
  },
  {
   "cell_type": "code",
   "execution_count": 67,
   "id": "470a281d-98ec-4195-a59d-71cba52e279e",
   "metadata": {},
   "outputs": [
    {
     "data": {
      "text/plain": [
       "(1, 'a', 3, 'b')"
      ]
     },
     "execution_count": 67,
     "metadata": {},
     "output_type": "execute_result"
    }
   ],
   "source": [
    "tupla = (1, 'a', 3, 'b')\n",
    "tupla"
   ]
  },
  {
   "cell_type": "markdown",
   "id": "16885d4d-fbd6-4533-bf47-e315792e0f96",
   "metadata": {},
   "source": [
    "Para criar uma tupla com 1 elemento, é necessário colocar uma vírgula após o elemento, pois senão os parênteses são interpretados como sendo agrupadores."
   ]
  },
  {
   "cell_type": "code",
   "execution_count": 68,
   "id": "acad36e1-e724-4939-bff5-70203a1bf7a7",
   "metadata": {},
   "outputs": [
    {
     "data": {
      "text/plain": [
       "(1,)"
      ]
     },
     "execution_count": 68,
     "metadata": {},
     "output_type": "execute_result"
    }
   ],
   "source": [
    "tupla_1_elemento = (1,)\n",
    "tupla_1_elemento"
   ]
  },
  {
   "cell_type": "markdown",
   "id": "712099c6-99ad-41ec-8fe2-0b9ab1534668",
   "metadata": {},
   "source": [
    "Para criar uma tupla vazia, você precisa utilizar a função `tuple`."
   ]
  },
  {
   "cell_type": "code",
   "execution_count": 69,
   "id": "f3f44a4f-e566-4761-a078-5900d7e475fc",
   "metadata": {},
   "outputs": [
    {
     "data": {
      "text/plain": [
       "()"
      ]
     },
     "execution_count": 69,
     "metadata": {},
     "output_type": "execute_result"
    }
   ],
   "source": [
    "tupla_vazia = tuple()\n",
    "tupla_vazia"
   ]
  },
  {
   "cell_type": "markdown",
   "id": "80fa2b05-19de-40de-97e8-2c8e40371857",
   "metadata": {},
   "source": [
    "### Conversão\n",
    "\n",
    "Você também pode criar uma tupla a partir de uma lista, e uma lista a partir de uma tupla."
   ]
  },
  {
   "cell_type": "code",
   "execution_count": 70,
   "id": "3b7084f6-e9bf-4c51-9874-cea63bab48f7",
   "metadata": {},
   "outputs": [
    {
     "data": {
      "text/plain": [
       "(1, 2, 3)"
      ]
     },
     "execution_count": 70,
     "metadata": {},
     "output_type": "execute_result"
    }
   ],
   "source": [
    "tuple([1, 2, 3])"
   ]
  },
  {
   "cell_type": "code",
   "execution_count": 71,
   "id": "f7b4ba1e-c030-4403-b1e4-e1848171752e",
   "metadata": {},
   "outputs": [
    {
     "data": {
      "text/plain": [
       "[1, 2, 3]"
      ]
     },
     "execution_count": 71,
     "metadata": {},
     "output_type": "execute_result"
    }
   ],
   "source": [
    "list((1, 2, 3))"
   ]
  },
  {
   "cell_type": "markdown",
   "id": "8205ed95-0ed3-41b6-a342-823043b4c66d",
   "metadata": {},
   "source": [
    "### Métodos internos e imutabilidade\n",
    "\n",
    "Porém, diferentemente de uma lista, uma tupla é **imutável**, ou seja, você não consegue colocar mais elementos, ou remover elementos. Ela só possui dois métodos, `index` e `count`, que operam como listas.\n",
    "\n",
    "Você consegue utilizar o operador `+` para juntar duas tuplas, mas o objeto resultante é diferente."
   ]
  },
  {
   "cell_type": "code",
   "execution_count": 72,
   "id": "7fd8971a-23d6-44fb-b0c7-80140311c257",
   "metadata": {},
   "outputs": [
    {
     "data": {
      "text/plain": [
       "(1223737868224, 1223737862656, 1223737728480)"
      ]
     },
     "execution_count": 72,
     "metadata": {},
     "output_type": "execute_result"
    }
   ],
   "source": [
    "tupla1 = (1, 2, 3)\n",
    "tupla2 = (4, 5, 6)\n",
    "tupla3 = (1, 2, 3) + (4, 5, 6)\n",
    "id(tupla1), id(tupla2), id(tupla3)"
   ]
  },
  {
   "cell_type": "markdown",
   "id": "c4c7b4d8-d509-414e-a083-d9d44c845f0f",
   "metadata": {},
   "source": [
    "Os 3 ids são diferentes. Note que uma tupla é imutável, mas seus elementos internos podem ser mutáveis. Veja o seguinte:"
   ]
  },
  {
   "cell_type": "code",
   "execution_count": 73,
   "id": "4bd99b9f-252f-4fcd-911e-590756cdd4d1",
   "metadata": {},
   "outputs": [
    {
     "name": "stdout",
     "output_type": "stream",
     "text": [
      "([], 'a', 1) 1223737825536\n",
      "(['zzz'], 'a', 1) 1223737825536\n"
     ]
    }
   ],
   "source": [
    "lista1 = []\n",
    "tupla1 = (lista1, 'a', 1)\n",
    "print(tupla1, id(tupla1))\n",
    "lista1.append('zzz')\n",
    "print(tupla1, id(tupla1))"
   ]
  },
  {
   "cell_type": "markdown",
   "id": "a656f14a-3224-4033-ad22-5c29699ca8da",
   "metadata": {},
   "source": [
    "Alteramos a tupla? Não, o `id` das duas tuplas é igual. Alteramos somente o elemento na primeira posição. Podemos fazer o acesso diretamente também."
   ]
  },
  {
   "cell_type": "code",
   "execution_count": 74,
   "id": "f33883de-32e1-4e55-ba3e-f85788c7049a",
   "metadata": {},
   "outputs": [
    {
     "name": "stdout",
     "output_type": "stream",
     "text": [
      "(['zzz', 'yyy'], 'a', 1)\n"
     ]
    }
   ],
   "source": [
    "tupla1[0].append('yyy')\n",
    "print(tupla1)"
   ]
  },
  {
   "cell_type": "markdown",
   "id": "be7c6263-3a24-43f1-aae9-f82b265d411b",
   "metadata": {},
   "source": [
    "Mas não conseguimos alterar o elemento com um operador de atribuição, mesmo sendo o mesmo elemento já existente."
   ]
  },
  {
   "cell_type": "code",
   "execution_count": 75,
   "id": "5e2abedf-db2f-4643-bc64-643e0f35de9f",
   "metadata": {},
   "outputs": [
    {
     "ename": "TypeError",
     "evalue": "'tuple' object does not support item assignment",
     "output_type": "error",
     "traceback": [
      "\u001b[1;31m---------------------------------------------------------------------------\u001b[0m",
      "\u001b[1;31mTypeError\u001b[0m                                 Traceback (most recent call last)",
      "Cell \u001b[1;32mIn[75], line 1\u001b[0m\n\u001b[1;32m----> 1\u001b[0m \u001b[43mtupla1\u001b[49m\u001b[43m[\u001b[49m\u001b[38;5;241;43m0\u001b[39;49m\u001b[43m]\u001b[49m \u001b[38;5;241m=\u001b[39m lista1\n\u001b[0;32m      2\u001b[0m \u001b[38;5;28mprint\u001b[39m(tupla1)\n",
      "\u001b[1;31mTypeError\u001b[0m: 'tuple' object does not support item assignment"
     ]
    }
   ],
   "source": [
    "tupla1[0] = lista1\n",
    "print(tupla1)"
   ]
  },
  {
   "cell_type": "markdown",
   "id": "95c0dc28-dff5-4b3d-8953-73ba108cc17c",
   "metadata": {},
   "source": [
    "### Significado vêm da posição\n",
    "\n",
    "Como uma tupla possui um número fixo de elementos, a **posição** desses elementos acaba ganhando um significado intrínseco, diferentemente de uma lista, onde a posição de um elemento pode variar a esmo. Isso permite uma operação chamada *tuple unpacking*, relacionada a *iterable unpacking*, onde mais de uma variável é criada pela comparação de elementos em duas tuplas."
   ]
  },
  {
   "cell_type": "code",
   "execution_count": 76,
   "id": "4cdfa89e-1f23-4566-b37c-774ef81d58fb",
   "metadata": {},
   "outputs": [
    {
     "data": {
      "text/plain": [
       "(1, 2, 3)"
      ]
     },
     "execution_count": 76,
     "metadata": {},
     "output_type": "execute_result"
    }
   ],
   "source": [
    "num1, num2, num3 = 1, 2, 3\n",
    "num1, num2, num3"
   ]
  },
  {
   "cell_type": "markdown",
   "id": "3cc225f6-c05f-4df6-8761-e873fecf47bf",
   "metadata": {},
   "source": [
    "Aqui, você notou que o resultado apresentado é, na verdade, uma tupla, pela existência de parênteses no início e no fim? De fato, tuplas são muito ubíquas em Python, mas são frequentemente invisíveis. No exemplo acima, os dois elementos de cada lado do `=` também são tuplas invisíveis (sem os parênteses). Você pode colocá-los se quiser, e a operação ocorre da mesma maneira.\n"
   ]
  },
  {
   "cell_type": "code",
   "execution_count": 77,
   "id": "51d69579-5183-46cf-ada3-73f3dcfc7ea3",
   "metadata": {},
   "outputs": [],
   "source": [
    "(num1, num2, num3) = (1, 2, 3)"
   ]
  },
  {
   "cell_type": "markdown",
   "id": "d8e5fa57-122b-4d27-b452-45cf40440a82",
   "metadata": {},
   "source": [
    "Para fazer um *tuple unpacking*, é necessário que o número de elementos dos dois lados sejam iguais, senão uma exceção será lançada."
   ]
  },
  {
   "cell_type": "code",
   "execution_count": 78,
   "id": "2a67c0e3-8802-4e5b-ba8a-3b692c64dde6",
   "metadata": {},
   "outputs": [
    {
     "ename": "ValueError",
     "evalue": "not enough values to unpack (expected 3, got 2)",
     "output_type": "error",
     "traceback": [
      "\u001b[1;31m---------------------------------------------------------------------------\u001b[0m",
      "\u001b[1;31mValueError\u001b[0m                                Traceback (most recent call last)",
      "Cell \u001b[1;32mIn[78], line 1\u001b[0m\n\u001b[1;32m----> 1\u001b[0m num1, num2, num3 \u001b[38;5;241m=\u001b[39m \u001b[38;5;241m1\u001b[39m, \u001b[38;5;241m2\u001b[39m\n",
      "\u001b[1;31mValueError\u001b[0m: not enough values to unpack (expected 3, got 2)"
     ]
    }
   ],
   "source": [
    "num1, num2, num3 = 1, 2"
   ]
  },
  {
   "cell_type": "markdown",
   "id": "47d09d68-8f38-4a53-a9fe-9424af9fd63c",
   "metadata": {},
   "source": [
    "Essa operação também funciona com outros iteráveis, como listas, e entre iteráveis de tipos diferentes, desde que tenham um formato apropriado."
   ]
  },
  {
   "cell_type": "code",
   "execution_count": 79,
   "id": "af8a739c-25c6-41df-b654-ad42e9613c53",
   "metadata": {},
   "outputs": [
    {
     "data": {
      "text/plain": [
       "(1, 2)"
      ]
     },
     "execution_count": 79,
     "metadata": {},
     "output_type": "execute_result"
    }
   ],
   "source": [
    "(num1, num2) = [1, 2]\n",
    "num1, num2"
   ]
  },
  {
   "cell_type": "code",
   "execution_count": 80,
   "id": "3a6ead7c-adef-4d87-b815-c41f72692f97",
   "metadata": {},
   "outputs": [
    {
     "data": {
      "text/plain": [
       "(1, 2)"
      ]
     },
     "execution_count": 80,
     "metadata": {},
     "output_type": "execute_result"
    }
   ],
   "source": [
    "[num1, num2] = [1, 2]\n",
    "num1, num2"
   ]
  },
  {
   "cell_type": "code",
   "execution_count": 81,
   "id": "eb0ca89e-7f7f-4b21-a706-04d2ba5a79df",
   "metadata": {},
   "outputs": [
    {
     "data": {
      "text/plain": [
       "(1, 2)"
      ]
     },
     "execution_count": 81,
     "metadata": {},
     "output_type": "execute_result"
    }
   ],
   "source": [
    "[num1, num2] = (1, 2)\n",
    "num1, num2"
   ]
  },
  {
   "cell_type": "markdown",
   "id": "d3e9187c-a04c-403d-ad81-24cc581f0c5c",
   "metadata": {},
   "source": [
    "### Funções com mais de um valor de retorno\n",
    "\n",
    "Nós vimos anteriormente como definir uma função que retorna um valor. Se você tentar, irá ver que consegue retornar mais de um valor."
   ]
  },
  {
   "cell_type": "code",
   "execution_count": 82,
   "id": "c29d20e9-1820-4d0e-a8e5-d150743a5203",
   "metadata": {},
   "outputs": [
    {
     "data": {
      "text/plain": [
       "(1, 5, 3.0)"
      ]
     },
     "execution_count": 82,
     "metadata": {},
     "output_type": "execute_result"
    }
   ],
   "source": [
    "def estat_básica(lista):\n",
    "    mínimo = min(lista)\n",
    "    máximo = max(lista)\n",
    "    média = sum(lista) / len(lista)\n",
    "    return mínimo, máximo, média\n",
    "\n",
    "estat_básica([1, 2, 3, 4, 5])"
   ]
  },
  {
   "cell_type": "markdown",
   "id": "db6c014c-cd76-4e9b-8d44-f8409bae6134",
   "metadata": {},
   "source": [
    "Mas na verdade, você está retornando somente um valor, uma tupla, que você consegue atribuir a variáveis com *tuple unpacking*."
   ]
  },
  {
   "cell_type": "code",
   "execution_count": 83,
   "id": "a44fe856-4750-43fd-8506-4417ef6f3adc",
   "metadata": {},
   "outputs": [
    {
     "name": "stdout",
     "output_type": "stream",
     "text": [
      "1 5 3.0\n"
     ]
    }
   ],
   "source": [
    "mi, ma, me = estat_básica([1, 2, 3, 4, 5])\n",
    "print(mi, ma, me)"
   ]
  },
  {
   "cell_type": "markdown",
   "id": "83ed9403-d887-43cd-b424-c91cef2a476b",
   "metadata": {},
   "source": [
    "## `set`: uma conjunto, sem valores duplicados\n",
    "\n",
    "### Criação\n",
    "\n",
    "Um `set` é uma estrutura **mutável**, **sem ordem** que não aceita valores repetidos. Para isso, ela requer que todos os seus elementos sejam **imutáveis**. Para criar um `set`, utilize a função `set` ou coloque valores entre chaves, separados por vírgulas."
   ]
  },
  {
   "cell_type": "code",
   "execution_count": 84,
   "id": "7599a553-8fc5-4748-a001-e26d76326f34",
   "metadata": {},
   "outputs": [
    {
     "data": {
      "text/plain": [
       "{1, 2, 3}"
      ]
     },
     "execution_count": 84,
     "metadata": {},
     "output_type": "execute_result"
    }
   ],
   "source": [
    "set((1, 2, 3))"
   ]
  },
  {
   "cell_type": "code",
   "execution_count": 85,
   "id": "4695fb39-08d9-46ac-a2c3-2ab66aa1ad4b",
   "metadata": {},
   "outputs": [
    {
     "data": {
      "text/plain": [
       "{'a', 'b', 'c'}"
      ]
     },
     "execution_count": 85,
     "metadata": {},
     "output_type": "execute_result"
    }
   ],
   "source": [
    "{'a', 'b', 'b', 'c'}"
   ]
  },
  {
   "cell_type": "markdown",
   "id": "57161be5-d6a9-418c-b8a1-878d40a3ecb6",
   "metadata": {},
   "source": [
    "Nestes exemplos, os valores retornados apareceram na mesma ordem que foram criados, mas isso não é necessariamente verdadeiro sempre. Um uso um tanto simplista para `set` é a remoção de valores duplicados em listas."
   ]
  },
  {
   "cell_type": "code",
   "execution_count": 86,
   "id": "a24e0022-6b94-4320-a1b9-c9b19d56f87f",
   "metadata": {},
   "outputs": [
    {
     "data": {
      "text/plain": [
       "[1, 2, 3, 5, 6, 7]"
      ]
     },
     "execution_count": 86,
     "metadata": {},
     "output_type": "execute_result"
    }
   ],
   "source": [
    "lista = [1, 1, 3, 2, 5, 2, 3, 1, 1, 7, 6, 3, 2, 2]\n",
    "lista_sem_repetições = list(set(lista))\n",
    "lista_sem_repetições"
   ]
  },
  {
   "cell_type": "markdown",
   "id": "699b1aaa-bbef-47fa-8c67-37393dfb729d",
   "metadata": {},
   "source": [
    "Note que os elementos apareceram em ordem crescente, mas não na ordem da criação da lista, pois só 1 `6` existe, e aparece na lista após o `7`.\n",
    "\n",
    "Se você tentar criar um `set` com um objeto mutável, irá receber a seguinte mensagem de erro:"
   ]
  },
  {
   "cell_type": "code",
   "execution_count": 87,
   "id": "9a89009e-7613-444e-a54b-b3b0949ff203",
   "metadata": {},
   "outputs": [
    {
     "ename": "TypeError",
     "evalue": "unhashable type: 'list'",
     "output_type": "error",
     "traceback": [
      "\u001b[1;31m---------------------------------------------------------------------------\u001b[0m",
      "\u001b[1;31mTypeError\u001b[0m                                 Traceback (most recent call last)",
      "Cell \u001b[1;32mIn[87], line 1\u001b[0m\n\u001b[1;32m----> 1\u001b[0m {[\u001b[38;5;241m1\u001b[39m]}\n",
      "\u001b[1;31mTypeError\u001b[0m: unhashable type: 'list'"
     ]
    }
   ],
   "source": [
    "{[1]}"
   ]
  },
  {
   "cell_type": "markdown",
   "id": "bd51cb1a-c0b9-447e-a8a7-ae06fb18878f",
   "metadata": {},
   "source": [
    "Aqui, `unhashable` significa que um objeto não possui a função `.__hash__`, que também significa que a função `hash` não o aceita. Isso é geralmente o caso de objetos mutáveis, por isso que venho utilizando esse termo. Um `hash` é uma operação matemática feita em um objeto que sempre retorna o mesmo valor se um objeto tiver o mesmo conteúdo, difere grandemente com pequenas alterações no conteúdo do objeto, e que é, idealmente, único para cada objeto."
   ]
  },
  {
   "cell_type": "code",
   "execution_count": 88,
   "id": "096693f6-ad30-4ac5-a99d-2fd6f818313e",
   "metadata": {},
   "outputs": [
    {
     "data": {
      "text/plain": [
       "(529344067295497451, 529344067295497451, -4363729961677198915)"
      ]
     },
     "execution_count": 88,
     "metadata": {},
     "output_type": "execute_result"
    }
   ],
   "source": [
    "hash((1, 2, 3)), hash((1, 2, 3)), hash((1, 2, 4))"
   ]
  },
  {
   "cell_type": "markdown",
   "id": "039c005f-7a94-4cd7-abf1-99decefd6b68",
   "metadata": {},
   "source": [
    "### Métodos de `set`\n",
    "\n",
    "`set` apresenta muitos métodos da teoria de conjuntos:"
   ]
  },
  {
   "cell_type": "markdown",
   "id": "611251c7-5b39-4d16-aa63-7556c2a5344c",
   "metadata": {},
   "source": [
    "* `.union` junta dois conjuntos em um novo conjunto."
   ]
  },
  {
   "cell_type": "code",
   "execution_count": 89,
   "id": "03051dc2-1fff-4ad6-9ce2-eafcf0ab46b9",
   "metadata": {},
   "outputs": [
    {
     "name": "stdout",
     "output_type": "stream",
     "text": [
      "{1, 2, 3, 4, 5} {1, 2, 3, 4, 5, 6, 7}\n"
     ]
    }
   ],
   "source": [
    "set1 = {1, 2, 3, 4, 5}\n",
    "set2 = {3, 4, 5, 6, 7}\n",
    "união = set1.union(set2)\n",
    "print(set1, união)"
   ]
  },
  {
   "cell_type": "markdown",
   "id": "af661a75-2eec-40c3-9950-9155eb456ed6",
   "metadata": {},
   "source": [
    "* `.difference(outro_set)` remove os elementos presentes em `outro_set` e retorna um `set` novo."
   ]
  },
  {
   "cell_type": "code",
   "execution_count": 90,
   "id": "cbc5ba00-8d79-44c6-86ea-346cdfa74936",
   "metadata": {},
   "outputs": [
    {
     "name": "stdout",
     "output_type": "stream",
     "text": [
      "{1, 2, 3, 4, 5} {1, 2}\n"
     ]
    }
   ],
   "source": [
    "diferença = set1.difference(set2)\n",
    "print(set1, diferença)"
   ]
  },
  {
   "cell_type": "markdown",
   "id": "8fa49638-9e2d-45d0-9b31-5d9e9ecd17ff",
   "metadata": {},
   "source": [
    "* `.difference_update(outro_set)` realiza o mesmo que `difference`, mas *in-place*."
   ]
  },
  {
   "cell_type": "code",
   "execution_count": 91,
   "id": "46bcc05c-98d1-4bcc-8f15-1c22239063b8",
   "metadata": {},
   "outputs": [
    {
     "name": "stdout",
     "output_type": "stream",
     "text": [
      "{1, 2} None\n"
     ]
    }
   ],
   "source": [
    "diferença2 = set1.difference_update(set2)\n",
    "print(set1, diferença2)"
   ]
  },
  {
   "cell_type": "markdown",
   "id": "a2d2af33-6009-45db-aad6-d09d77bca0ab",
   "metadata": {},
   "source": [
    "* `.intersection` retorna os elementos presentes em ambos os conjuntos."
   ]
  },
  {
   "cell_type": "code",
   "execution_count": 92,
   "id": "72eb8fca-7261-4c16-aa1d-9f96697ce45c",
   "metadata": {},
   "outputs": [
    {
     "data": {
      "text/plain": [
       "{3, 4, 5}"
      ]
     },
     "execution_count": 92,
     "metadata": {},
     "output_type": "execute_result"
    }
   ],
   "source": [
    "set1 = {1, 2, 3, 4, 5}\n",
    "set2 = {3, 4, 5, 6, 7}\n",
    "set1.intersection(set2) # vide também intersection_update"
   ]
  },
  {
   "cell_type": "markdown",
   "id": "dca1a02a-b2ec-4e4b-9314-2755034ddbc0",
   "metadata": {},
   "source": [
    "* `.discard` e `.remove` são similares, onde o primeiro remove um elemento se existir, mas não lança um erro se o elemento não existir, enquanto o segundo lança o erro."
   ]
  },
  {
   "cell_type": "code",
   "execution_count": 93,
   "id": "391c5585-3d6e-4db8-bd6e-0217aaad0961",
   "metadata": {},
   "outputs": [],
   "source": [
    "set1.discard(1000)"
   ]
  },
  {
   "cell_type": "markdown",
   "id": "d1b59235-8f86-4826-83f7-fede1756cad4",
   "metadata": {},
   "source": [
    "* `symmetric_difference` retorna os elementos que aparecem ou em um ou no outro conjunto."
   ]
  },
  {
   "cell_type": "code",
   "execution_count": 94,
   "id": "4ae57b9e-cc00-415e-a04e-63315a9e8bb8",
   "metadata": {},
   "outputs": [
    {
     "data": {
      "text/plain": [
       "{1, 2, 6, 7}"
      ]
     },
     "execution_count": 94,
     "metadata": {},
     "output_type": "execute_result"
    }
   ],
   "source": [
    "set1.symmetric_difference(set2) # vide também symmetric_difference_update"
   ]
  },
  {
   "cell_type": "markdown",
   "id": "9a4b4c1d-f726-4dec-8657-a7d83db23bd8",
   "metadata": {},
   "source": [
    "* `.add` age como `.append` de uma lista.\n",
    "* `.pop` age igual a `.pop` de uma lista.\n",
    "* `.copy` age igual a `.copy` de uma lista\n",
    "* `.issubset` retorna `True` se um conjunto é subconjunto de outro."
   ]
  },
  {
   "cell_type": "code",
   "execution_count": 95,
   "id": "8ba36bd0-a821-42bd-9ddd-c96d4a3bcd21",
   "metadata": {},
   "outputs": [
    {
     "data": {
      "text/plain": [
       "True"
      ]
     },
     "execution_count": 95,
     "metadata": {},
     "output_type": "execute_result"
    }
   ],
   "source": [
    "set1 = {3, 4, 5}\n",
    "set2 = {1, 2, 3, 4, 5, 6, 7}\n",
    "set1.issubset(set2)"
   ]
  },
  {
   "cell_type": "code",
   "execution_count": 96,
   "id": "d7ae84a6-f173-467b-81e4-ff682587d78d",
   "metadata": {},
   "outputs": [
    {
     "data": {
      "text/plain": [
       "False"
      ]
     },
     "execution_count": 96,
     "metadata": {},
     "output_type": "execute_result"
    }
   ],
   "source": [
    "set2.issubset(set1)"
   ]
  },
  {
   "cell_type": "markdown",
   "id": "f59fd912-cc4c-41ba-83eb-1f0c35000a0d",
   "metadata": {},
   "source": [
    "* `.issuperset` retorna `True` se um conjunto engloba outro conjunto."
   ]
  },
  {
   "cell_type": "code",
   "execution_count": 97,
   "id": "d2fdaa29-a3ce-45af-a092-480b847e7e79",
   "metadata": {},
   "outputs": [
    {
     "data": {
      "text/plain": [
       "True"
      ]
     },
     "execution_count": 97,
     "metadata": {},
     "output_type": "execute_result"
    }
   ],
   "source": [
    "set2.issuperset(set1)"
   ]
  },
  {
   "cell_type": "code",
   "execution_count": 98,
   "id": "8cec9aa3-52c1-4d72-8544-684cd9762466",
   "metadata": {},
   "outputs": [
    {
     "data": {
      "text/plain": [
       "False"
      ]
     },
     "execution_count": 98,
     "metadata": {},
     "output_type": "execute_result"
    }
   ],
   "source": [
    "set1.issuperset(set2)"
   ]
  },
  {
   "cell_type": "markdown",
   "id": "f0518217-0777-4c0d-82e0-965547c5f638",
   "metadata": {},
   "source": [
    "* `.isdisjoint` retorna `True` se os conjuntos não possuem elementos em comum."
   ]
  },
  {
   "cell_type": "code",
   "execution_count": 99,
   "id": "ce1f6b9a-5290-43c8-af03-e0d3a49d92a6",
   "metadata": {},
   "outputs": [
    {
     "data": {
      "text/plain": [
       "True"
      ]
     },
     "execution_count": 99,
     "metadata": {},
     "output_type": "execute_result"
    }
   ],
   "source": [
    "{-1, -2, -3}.isdisjoint({1, 2, 3})"
   ]
  },
  {
   "cell_type": "code",
   "execution_count": 100,
   "id": "732939b4-2cce-49bc-ab4b-df065b753ef6",
   "metadata": {},
   "outputs": [
    {
     "data": {
      "text/plain": [
       "False"
      ]
     },
     "execution_count": 100,
     "metadata": {},
     "output_type": "execute_result"
    }
   ],
   "source": [
    "{1, 0, -1}.isdisjoint({1, 2, 3})"
   ]
  },
  {
   "cell_type": "markdown",
   "id": "05399f31-2fea-4c65-8093-f5adf7583eda",
   "metadata": {},
   "source": [
    "Se deseja um `set` imutável, pode utilizar `frozenset`. Nesse caso, qualquer operação que altera um `frozenset` é proibida, mas operações que criam um `frozenset` com uma modificação desejada são possíveis."
   ]
  },
  {
   "cell_type": "code",
   "execution_count": 101,
   "id": "a8359a85-1a0b-40dc-a2dc-fca580e786bb",
   "metadata": {},
   "outputs": [
    {
     "data": {
      "text/plain": [
       "(frozenset({4}), set())"
      ]
     },
     "execution_count": 101,
     "metadata": {},
     "output_type": "execute_result"
    }
   ],
   "source": [
    "set1 = {1, 2, 3}\n",
    "fset1 = frozenset((1, 2, 3, 4))\n",
    "fset1.difference(set1), set1.difference(fset1)"
   ]
  },
  {
   "cell_type": "markdown",
   "id": "1df87ffd-e8cf-42f7-aef8-4ef89543c00c",
   "metadata": {},
   "source": [
    "## Dicionários: correlações entre chaves e valores\n",
    "\n",
    "Um dicionário é uma das estruturas de dados mais poderosas em Python, e está por trás de muito da funcionalidade da linguagem. Um dicionário faz uma correlação entre **chaves** e **valores**, sendo as **chaves únicas** e **imutáveis**. Os valores podem ser qualquer coisa. É essencial que as chaves tenham essas características porque, se fossem mutáveis, haveria uma chance das chaves mudarem durante a execução do código, tornando a procura por uma chave algo incerto.\n",
    "\n",
    "Antigamente, dicionários não possuíam ordem, isto é, à medida que elementos eram adicionados ao dicionário, não era garantido que apareceriam nessa mesma sequência depois. Hoje em dia, a ordem é garantida mas, por boas práticas, é melhor você não depender disso em um dicionário, pois é contra sua natureza.\n",
    "\n",
    "### Criação\n",
    "\n",
    "Para declarar um dicionário, você pode utilizar a sintaxe `{chave1:valor1, chave2:valor2, ...}` ou `dict(chave1=valor1, chave2=valor2, ...)`. A segunda sintaxe irá presumir que as chaves são todas strings, enquanto que na primeira elas podem ser de qualquer tipo imutável.\n"
   ]
  },
  {
   "cell_type": "code",
   "execution_count": 102,
   "id": "877d21b1-46ea-48ce-ad2f-df4b8c1d8275",
   "metadata": {},
   "outputs": [
    {
     "data": {
      "text/plain": [
       "({'a': 50, 'b': 20}, {'a': 50, 'b': 20})"
      ]
     },
     "execution_count": 102,
     "metadata": {},
     "output_type": "execute_result"
    }
   ],
   "source": [
    "dic1 = {'a': 50, 'b': 20}\n",
    "dic2 = dict(a=50, b=20)\n",
    "dic1, dic2"
   ]
  },
  {
   "cell_type": "markdown",
   "id": "2a1ea56a-daab-4fc2-b400-46ef9e80731f",
   "metadata": {},
   "source": [
    "Para declarar um dicionário vazio, utilize"
   ]
  },
  {
   "cell_type": "code",
   "execution_count": 103,
   "id": "d4b2a454-7e77-4a25-bbae-a432f271c1f1",
   "metadata": {},
   "outputs": [
    {
     "data": {
      "text/plain": [
       "({}, {})"
      ]
     },
     "execution_count": 103,
     "metadata": {},
     "output_type": "execute_result"
    }
   ],
   "source": [
    "dic_vazio1 = {}\n",
    "dic_vazio2 = dict()\n",
    "dic_vazio1, dic_vazio2"
   ]
  },
  {
   "cell_type": "markdown",
   "id": "b9972908-b544-448c-bb75-1218d57b288e",
   "metadata": {},
   "source": [
    "Se você possuir um iterável que possui como itens pares de valores, `dict` irá tentar converter isso num dicionário."
   ]
  },
  {
   "cell_type": "code",
   "execution_count": 104,
   "id": "3429751c-11b7-4043-b6ff-f27b26cba612",
   "metadata": {},
   "outputs": [
    {
     "data": {
      "text/plain": [
       "{'a': 50, 'b': 20}"
      ]
     },
     "execution_count": 104,
     "metadata": {},
     "output_type": "execute_result"
    }
   ],
   "source": [
    "pares = [('a', 50), ('b', 20)]\n",
    "dic3 = dict(pares)\n",
    "dic3"
   ]
  },
  {
   "cell_type": "markdown",
   "id": "17a4699e-7b6d-431a-bee2-3b970bd7aca0",
   "metadata": {},
   "source": [
    "### Acessando, modificando e adicionando elementos\n",
    "\n",
    "Para acessar os elementos de um dicionário, basta utilizar a mesma notação de listas e tuplas, `[]`, mas fornecendo a chave ao invés do índice."
   ]
  },
  {
   "cell_type": "code",
   "execution_count": 105,
   "id": "8b86b32a-e6a9-4d21-8e2a-a37d12ef4cb1",
   "metadata": {},
   "outputs": [
    {
     "data": {
      "text/plain": [
       "50"
      ]
     },
     "execution_count": 105,
     "metadata": {},
     "output_type": "execute_result"
    }
   ],
   "source": [
    "dic1['a']"
   ]
  },
  {
   "cell_type": "code",
   "execution_count": 106,
   "id": "f18487ba-0ea8-4a8e-b2d7-d399cb9a73b6",
   "metadata": {},
   "outputs": [
    {
     "data": {
      "text/plain": [
       "{'a': 20, 'b': 20}"
      ]
     },
     "execution_count": 106,
     "metadata": {},
     "output_type": "execute_result"
    }
   ],
   "source": [
    "dic1['a'] = 20\n",
    "dic1"
   ]
  },
  {
   "cell_type": "markdown",
   "id": "73f7c3b6-2ca3-466c-99bb-370a728e4ba4",
   "metadata": {},
   "source": [
    "Para adicionar um elemento, basta agir como se sua chave já existisse."
   ]
  },
  {
   "cell_type": "code",
   "execution_count": 107,
   "id": "03463840-1aca-4670-b871-dee856bac1d3",
   "metadata": {},
   "outputs": [
    {
     "data": {
      "text/plain": [
       "{'a': 20, 'b': 20, 'c': 30}"
      ]
     },
     "execution_count": 107,
     "metadata": {},
     "output_type": "execute_result"
    }
   ],
   "source": [
    "dic1['c'] = 30\n",
    "dic1"
   ]
  },
  {
   "cell_type": "markdown",
   "id": "543d57e4-b3b3-4255-9787-f0100d0183a3",
   "metadata": {},
   "source": [
    "Se você tentar acessar um elemento que não existe, um `KeyError` será lançado."
   ]
  },
  {
   "cell_type": "code",
   "execution_count": 108,
   "id": "f246a49d-5051-4222-9349-a6af13baedf7",
   "metadata": {},
   "outputs": [
    {
     "ename": "KeyError",
     "evalue": "'d'",
     "output_type": "error",
     "traceback": [
      "\u001b[1;31m---------------------------------------------------------------------------\u001b[0m",
      "\u001b[1;31mKeyError\u001b[0m                                  Traceback (most recent call last)",
      "Cell \u001b[1;32mIn[108], line 1\u001b[0m\n\u001b[1;32m----> 1\u001b[0m \u001b[43mdic1\u001b[49m\u001b[43m[\u001b[49m\u001b[38;5;124;43m'\u001b[39;49m\u001b[38;5;124;43md\u001b[39;49m\u001b[38;5;124;43m'\u001b[39;49m\u001b[43m]\u001b[49m\n",
      "\u001b[1;31mKeyError\u001b[0m: 'd'"
     ]
    }
   ],
   "source": [
    "dic1['d']"
   ]
  },
  {
   "cell_type": "markdown",
   "id": "edc4a7eb-5b7c-4205-af16-f2711aa23a87",
   "metadata": {},
   "source": [
    "Para contornar isso, você pode utilizar o método `.get`, que aceita uma chave, ou uma chave e um valor padrão. Se não achar, retorna `None` ou o valor padrão."
   ]
  },
  {
   "cell_type": "code",
   "execution_count": 109,
   "id": "88d2c7a3-344f-47d9-ba4e-703afc967934",
   "metadata": {},
   "outputs": [
    {
     "data": {
      "text/plain": [
       "(None, 20)"
      ]
     },
     "execution_count": 109,
     "metadata": {},
     "output_type": "execute_result"
    }
   ],
   "source": [
    "dic1.get('d'), dic1.get('d', 20)"
   ]
  },
  {
   "cell_type": "markdown",
   "id": "53c03519-9c52-4f71-b519-7009b70f8a00",
   "metadata": {},
   "source": [
    "Se você tentar utilizar algo imutável como uma chave, irá ver a mesma mensagem de erro que já vimos, acusando o objeto de não ser `hashable`."
   ]
  },
  {
   "cell_type": "code",
   "execution_count": 110,
   "id": "285f62dc-6fe6-423b-81f4-c107f0ad91b3",
   "metadata": {},
   "outputs": [
    {
     "ename": "TypeError",
     "evalue": "unhashable type: 'list'",
     "output_type": "error",
     "traceback": [
      "\u001b[1;31m---------------------------------------------------------------------------\u001b[0m",
      "\u001b[1;31mTypeError\u001b[0m                                 Traceback (most recent call last)",
      "Cell \u001b[1;32mIn[110], line 1\u001b[0m\n\u001b[1;32m----> 1\u001b[0m \u001b[43mdic1\u001b[49m\u001b[43m[\u001b[49m\u001b[43m[\u001b[49m\u001b[38;5;124;43m'\u001b[39;49m\u001b[38;5;124;43maaa\u001b[39;49m\u001b[38;5;124;43m'\u001b[39;49m\u001b[43m,\u001b[49m\u001b[43m \u001b[49m\u001b[38;5;124;43m'\u001b[39;49m\u001b[38;5;124;43mbbb\u001b[39;49m\u001b[38;5;124;43m'\u001b[39;49m\u001b[43m]\u001b[49m\u001b[43m]\u001b[49m \u001b[38;5;241m=\u001b[39m \u001b[38;5;241m100\u001b[39m\n",
      "\u001b[1;31mTypeError\u001b[0m: unhashable type: 'list'"
     ]
    }
   ],
   "source": [
    "dic1[['aaa', 'bbb']] = 100"
   ]
  },
  {
   "cell_type": "markdown",
   "id": "1eebae0d-2456-4240-be2d-fe0ad553d655",
   "metadata": {},
   "source": [
    "Ao invés de uma lista, pode utilizar uma tupla."
   ]
  },
  {
   "cell_type": "code",
   "execution_count": 111,
   "id": "3b0b9053-6426-4ee7-8cf3-fd32cc9f2525",
   "metadata": {},
   "outputs": [
    {
     "data": {
      "text/plain": [
       "{'a': 20, 'b': 20, 'c': 30, ('aaa', 'bbb'): 100}"
      ]
     },
     "execution_count": 111,
     "metadata": {},
     "output_type": "execute_result"
    }
   ],
   "source": [
    "dic1[('aaa', 'bbb')] = 100\n",
    "dic1"
   ]
  },
  {
   "cell_type": "markdown",
   "id": "188817b2-5e70-4b08-b95a-534f9009f0ea",
   "metadata": {},
   "source": [
    "Mas se a tupla contiver elementos mutáveis, a mesma mensagem de erro será lançada."
   ]
  },
  {
   "cell_type": "code",
   "execution_count": 112,
   "id": "5828dc1e-d36b-4ec6-97c1-d218e2e87c85",
   "metadata": {},
   "outputs": [
    {
     "ename": "TypeError",
     "evalue": "unhashable type: 'list'",
     "output_type": "error",
     "traceback": [
      "\u001b[1;31m---------------------------------------------------------------------------\u001b[0m",
      "\u001b[1;31mTypeError\u001b[0m                                 Traceback (most recent call last)",
      "Cell \u001b[1;32mIn[112], line 1\u001b[0m\n\u001b[1;32m----> 1\u001b[0m \u001b[43mdic1\u001b[49m\u001b[43m[\u001b[49m\u001b[43m(\u001b[49m\u001b[43m[\u001b[49m\u001b[38;5;124;43m'\u001b[39;49m\u001b[38;5;124;43maaa\u001b[39;49m\u001b[38;5;124;43m'\u001b[39;49m\u001b[43m,\u001b[49m\u001b[43m \u001b[49m\u001b[38;5;124;43m'\u001b[39;49m\u001b[38;5;124;43mbbb\u001b[39;49m\u001b[38;5;124;43m'\u001b[39;49m\u001b[43m]\u001b[49m\u001b[43m)\u001b[49m\u001b[43m]\u001b[49m \u001b[38;5;241m=\u001b[39m \u001b[38;5;241m100\u001b[39m\n",
      "\u001b[1;31mTypeError\u001b[0m: unhashable type: 'list'"
     ]
    }
   ],
   "source": [
    "dic1[(['aaa', 'bbb'])] = 100"
   ]
  },
  {
   "cell_type": "markdown",
   "id": "eff442df-b948-4ed9-a9ae-af35fde1b248",
   "metadata": {},
   "source": [
    "### Métodos de `dict`\n",
    "\n",
    "Além de `get`, temos os seguintes métodos de interesse.\n",
    "\n",
    "* `.pop(chave)` retorna o valor e remove a chave do dicionário."
   ]
  },
  {
   "cell_type": "code",
   "execution_count": 113,
   "id": "539f3141-d60c-4752-aac0-47f2f2c9df0f",
   "metadata": {},
   "outputs": [
    {
     "data": {
      "text/plain": [
       "('aaa', {2: 'bbb'})"
      ]
     },
     "execution_count": 113,
     "metadata": {},
     "output_type": "execute_result"
    }
   ],
   "source": [
    "dic1 = {1:'aaa', 2:'bbb'}\n",
    "dic1.pop(1), dic1"
   ]
  },
  {
   "cell_type": "markdown",
   "id": "95deffac-f11e-4d0c-a922-d326bc62a526",
   "metadata": {},
   "source": [
    "* `.popitem()` remove a última chave adicionada como uma tupla (chave, valor)."
   ]
  },
  {
   "cell_type": "code",
   "execution_count": 114,
   "id": "1b2c925e-7ca9-48f1-8b99-7e44c8c0f911",
   "metadata": {},
   "outputs": [
    {
     "data": {
      "text/plain": [
       "((2, 'bbb'), {1: 'aaa'})"
      ]
     },
     "execution_count": 114,
     "metadata": {},
     "output_type": "execute_result"
    }
   ],
   "source": [
    "dic1 = {1:'aaa', 2:'bbb'}\n",
    "dic1.popitem(), dic1"
   ]
  },
  {
   "cell_type": "markdown",
   "id": "210a1129-6108-4387-96a2-acb117036f0d",
   "metadata": {},
   "source": [
    "* `.update(dict)` irá atualizar as chaves do dicionário atual com as chaves do novo dicionário, alterando os valores. Se uma chave não existir, é criada."
   ]
  },
  {
   "cell_type": "code",
   "execution_count": 115,
   "id": "a38ac5f3-e45f-4c34-b396-2eb9c90ee9d9",
   "metadata": {},
   "outputs": [
    {
     "data": {
      "text/plain": [
       "{1: 3, 2: 5, 3: 4}"
      ]
     },
     "execution_count": 115,
     "metadata": {},
     "output_type": "execute_result"
    }
   ],
   "source": [
    "dic1 = {1:2, 2:3}\n",
    "dic2 = {1:3, 2:5, 3:4}\n",
    "dic1.update(dic2)\n",
    "dic1"
   ]
  },
  {
   "cell_type": "markdown",
   "id": "39d05a96-6fca-4cfa-816c-c2eec837693b",
   "metadata": {},
   "source": [
    "* `.values()` irá retornar um iterável com todos os valores do dicionário.\n",
    "* `.keys()` irá retornar um iterável com todas as chaves do dicionário.\n",
    "* `.items()` irá retornar um iterável com tuplas (chave, valor) de todo o dicionário.\n",
    "\n",
    "Esse iteráveis não são como listas, são objetos específicos de dicionários, respectivamente, `dict_values`, `dict_keys`, `dict_items`, mas você pode transformá-los em listas utilizando `list`."
   ]
  },
  {
   "cell_type": "code",
   "execution_count": 116,
   "id": "1afdda77-01fd-48bc-807f-dc4c96b1417e",
   "metadata": {},
   "outputs": [
    {
     "data": {
      "text/plain": [
       "(dict_values(['aaa', 'bbb']),\n",
       " dict_keys([1, 2]),\n",
       " dict_items([(1, 'aaa'), (2, 'bbb')]))"
      ]
     },
     "execution_count": 116,
     "metadata": {},
     "output_type": "execute_result"
    }
   ],
   "source": [
    "dic1 = {1: 'aaa', 2: 'bbb'}\n",
    "dic1.values(), dic1.keys(), dic1.items()"
   ]
  },
  {
   "cell_type": "markdown",
   "id": "bb8ae3f3-eae8-468c-9625-0676949141bc",
   "metadata": {},
   "source": [
    "(sec:range)=\n",
    "## `range`: sequências de valores\n",
    "\n",
    "`range` gera uma sequência de números inteiros definidos por um início, fim e passo. Uma utilidade de básica de `range` é gerar uma sequência de números, ou de índices, para iterar depois. Mas `range` não gera todos os valores, na verdade ela computa esses valores à medida que são necessários. Logo, seu tamanho em memória é sempre pequeno. Um range com 10 milhões de valores é igual a um range com 5 valores, ao contrário de uma lista, que precisaria computar todos esses valores.\n",
    "\n",
    "### Criação\n",
    "\n",
    "A função `range` aceita:\n",
    "\n",
    "* Um valor de fim, presume que começa do zero e tem passo 1\n",
    "* Um valor de início e fim, e presume passo 1,\n",
    "* Um valor de início, fim e passo, e não presume nada.\n",
    "\n",
    "Como sempre, os índices de final **não** são incluídos. O passo pode ser negativo, e isso significa que os valores irão do maior ao menor."
   ]
  },
  {
   "cell_type": "code",
   "execution_count": 117,
   "id": "346b4c41-20db-4c92-a72c-c2e7800e4625",
   "metadata": {},
   "outputs": [
    {
     "data": {
      "text/plain": [
       "(range(0, 10), [0, 1, 2, 3, 4, 5, 6, 7, 8, 9])"
      ]
     },
     "execution_count": 117,
     "metadata": {},
     "output_type": "execute_result"
    }
   ],
   "source": [
    "r1 = range(10)\n",
    "r1, list(r1)"
   ]
  },
  {
   "cell_type": "code",
   "execution_count": 118,
   "id": "2e909d19-66b3-4954-8c97-694812a08d82",
   "metadata": {},
   "outputs": [
    {
     "data": {
      "text/plain": [
       "(range(1, 10), [1, 2, 3, 4, 5, 6, 7, 8, 9])"
      ]
     },
     "execution_count": 118,
     "metadata": {},
     "output_type": "execute_result"
    }
   ],
   "source": [
    "r2 = range(1, 10)\n",
    "r2, list(r2)"
   ]
  },
  {
   "cell_type": "code",
   "execution_count": 119,
   "id": "5cc3a05b-6e37-4f46-a3cb-c53e5f96d0bd",
   "metadata": {},
   "outputs": [
    {
     "data": {
      "text/plain": [
       "(range(1, 10, 3), [1, 4, 7])"
      ]
     },
     "execution_count": 119,
     "metadata": {},
     "output_type": "execute_result"
    }
   ],
   "source": [
    "r3 = range(1, 10, 3)\n",
    "r3, list(r3)"
   ]
  },
  {
   "cell_type": "code",
   "execution_count": 120,
   "id": "6fa91c3b-9ead-4ea8-a093-14da44cc7dff",
   "metadata": {},
   "outputs": [
    {
     "data": {
      "text/plain": [
       "(range(10, 1, -1), [10, 9, 8, 7, 6, 5, 4, 3, 2])"
      ]
     },
     "execution_count": 120,
     "metadata": {},
     "output_type": "execute_result"
    }
   ],
   "source": [
    "r4 = range(10, 1, -1)\n",
    "r4, list(r4)"
   ]
  },
  {
   "cell_type": "markdown",
   "id": "9e3fee04-f799-4eec-8326-6b52ff318a80",
   "metadata": {},
   "source": [
    "Objetos `range` possuem as funções `.count` e `.index`, que agem igualmente aos seus análogos em listas. Também possuem os parâmetros definindo o início, fim e passo."
   ]
  },
  {
   "cell_type": "markdown",
   "id": "c9177bb5-af75-4f1c-ad5d-454f7d5395e4",
   "metadata": {},
   "source": [
    "## Utilize `in` para checar se um elemento está contido em um iterável\n",
    "\n",
    "Suponha que você tenha uma lista com muitos elementos, e deseja saber se um novo elemento faz parte dela. Você poderia utilizar um método como `lista.count` para ver se há mais de 1 elemento, mas a maneira mais conveniente é utilizando o operador `in`."
   ]
  },
  {
   "cell_type": "code",
   "execution_count": 121,
   "id": "bd8fa093-043c-4d6b-b2c5-6acdfe29d87d",
   "metadata": {},
   "outputs": [
    {
     "name": "stdout",
     "output_type": "stream",
     "text": [
      "Achei\n",
      "Não encontrado\n"
     ]
    }
   ],
   "source": [
    "lista = [1, 2, 3, 4, 5]\n",
    "if 3 in lista:\n",
    "    print('Achei')\n",
    "else:\n",
    "    print('Não encontrado')\n",
    "\n",
    "if 6 in lista:\n",
    "    print('Achei')\n",
    "else:\n",
    "    print('Não encontrado')"
   ]
  },
  {
   "cell_type": "markdown",
   "id": "0a7de892-78be-42ff-8b0b-b998de383fde",
   "metadata": {},
   "source": [
    "(sec:for_loop)=\n",
    "## `for` loop, o tipo mais comum de loop\n",
    "\n",
    "Para começarmos uma discussão sobre loops, utilizaremos o loop `for`. Esse loop possui a seguinte sintaxe:\n",
    "\n",
    "```\n",
    "for elemento in iterável:\n",
    "    ...\n",
    "```\n",
    "\n",
    "A cada passo (iteração), o i-ésimo elemento será buscado e colocado na variável `elemento` (você pode dar qualquer nome à essa variável). Depois, você pode operar nesse elemento como quiser, mas lembre-se que, dependendo da mutabilidade desse objeto, você pode estar alterando o iterável, ou não!\n",
    "\n",
    "Quando os elementos do iterável acabam, o loop termina também.\n",
    "\n",
    "Vejamos um exemplo:"
   ]
  },
  {
   "cell_type": "code",
   "execution_count": 122,
   "id": "9507e463-11bd-4948-b012-9a79042b2d01",
   "metadata": {},
   "outputs": [
    {
     "name": "stdout",
     "output_type": "stream",
     "text": [
      "1 4 9 16 25 "
     ]
    }
   ],
   "source": [
    "lista = [1, 2, 3, 4, 5]\n",
    "for número in lista:\n",
    "    print(número ** 2, end=' ')"
   ]
  },
  {
   "cell_type": "markdown",
   "id": "6a57faca-e227-4b2d-85de-a0a5ecf5879c",
   "metadata": {},
   "source": [
    "Como vimos `range`, podemos substituir este código por isto:"
   ]
  },
  {
   "cell_type": "code",
   "execution_count": 123,
   "id": "7f52645d-c3d7-470d-9a47-fd5f47c426b2",
   "metadata": {},
   "outputs": [
    {
     "name": "stdout",
     "output_type": "stream",
     "text": [
      "1 4 9 16 25 "
     ]
    }
   ],
   "source": [
    "for número in range(1, 6):\n",
    "    print(número ** 2, end=' ')"
   ]
  },
  {
   "cell_type": "markdown",
   "id": "57398f85-bc41-40ce-b4fa-fd9571f5f1c9",
   "metadata": {},
   "source": [
    "Podemos armazenar os valores de cada iteração declarando algo fora do loop como um acumulador."
   ]
  },
  {
   "cell_type": "code",
   "execution_count": 124,
   "id": "1465bbdd-1bef-4529-9e80-05c43d04bb30",
   "metadata": {},
   "outputs": [
    {
     "data": {
      "text/plain": [
       "7143571"
      ]
     },
     "execution_count": 124,
     "metadata": {},
     "output_type": "execute_result"
    }
   ],
   "source": [
    "soma = 0\n",
    "for número in range(1, 10000, 7):\n",
    "    soma += número\n",
    "soma"
   ]
  },
  {
   "cell_type": "code",
   "execution_count": 125,
   "id": "07330096-182a-4abd-aea2-25ec80fdf729",
   "metadata": {},
   "outputs": [
    {
     "data": {
      "text/plain": [
       "'atirei o pau no ga to to '"
      ]
     },
     "execution_count": 125,
     "metadata": {},
     "output_type": "execute_result"
    }
   ],
   "source": [
    "texto = ''\n",
    "for palavra in ['atirei', 'o', 'pau', 'no', 'ga', 'to', 'to']:\n",
    "    texto = texto + palavra + ' '\n",
    "texto"
   ]
  },
  {
   "cell_type": "markdown",
   "id": "dd4273e8-f4b2-4bcc-9571-8ea867977ca4",
   "metadata": {},
   "source": [
    "Isso é *quase* equivalente ao que vimos antes, com a função `join`. Consegue ver a diferença?"
   ]
  },
  {
   "cell_type": "code",
   "execution_count": 126,
   "id": "842af98b-d039-443e-b8b0-2a5bb0b8bc16",
   "metadata": {},
   "outputs": [
    {
     "data": {
      "text/plain": [
       "'atirei o pau no ga to to'"
      ]
     },
     "execution_count": 126,
     "metadata": {},
     "output_type": "execute_result"
    }
   ],
   "source": [
    "texto = ' '.join(['atirei', 'o', 'pau', 'no', 'ga', 'to', 'to'])\n",
    "texto"
   ]
  },
  {
   "cell_type": "code",
   "execution_count": 127,
   "id": "52ffc8cb-ad5a-4f5f-a129-3a69c1787cdf",
   "metadata": {},
   "outputs": [
    {
     "data": {
      "text/plain": [
       "[0, 1, 4, 9, 16, 25, 36, 49, 64, 81]"
      ]
     },
     "execution_count": 127,
     "metadata": {},
     "output_type": "execute_result"
    }
   ],
   "source": [
    "quadrados = []\n",
    "for número in range(0, 10, 1):\n",
    "    quadrados.append(número ** 2)\n",
    "quadrados"
   ]
  },
  {
   "cell_type": "markdown",
   "id": "3bf9df70-da43-4c9c-81d3-6366fce464ea",
   "metadata": {},
   "source": [
    "Podemos utilizar *tuple unpacking* com loops também. Aqui, usamos essa ferramenta para iterar pelos pares chave, valor de um dicionário."
   ]
  },
  {
   "cell_type": "code",
   "execution_count": 128,
   "id": "e1dce742-30db-4d29-b798-fd0f3602f19b",
   "metadata": {},
   "outputs": [
    {
     "name": "stdout",
     "output_type": "stream",
     "text": [
      "a 1\n",
      "b 2\n",
      "c 3\n"
     ]
    }
   ],
   "source": [
    "dic1 = {'a': 10, 'b': 20, 'c': 30}\n",
    "for key, val in dic1.items():\n",
    "    print(key, val // 8)"
   ]
  },
  {
   "cell_type": "markdown",
   "id": "913bbeb5-8dc7-4bac-9e09-514aed83e1db",
   "metadata": {},
   "source": [
    "Veja como seria sem *tuple unpacking*"
   ]
  },
  {
   "cell_type": "code",
   "execution_count": 129,
   "id": "bba6e069-c82b-471d-ae98-563f006efe3b",
   "metadata": {},
   "outputs": [
    {
     "name": "stdout",
     "output_type": "stream",
     "text": [
      "a 1\n",
      "b 2\n",
      "c 3\n"
     ]
    }
   ],
   "source": [
    "dic1 = {'a': 10, 'b': 20, 'c': 30}\n",
    "for par in dic1.items():\n",
    "    print(par[0], par[1] // 8)"
   ]
  },
  {
   "cell_type": "markdown",
   "id": "a99e1fab-5cc0-4bfb-8315-40f2b4c6190e",
   "metadata": {},
   "source": [
    "## `while` execução checando uma condição\n",
    "\n",
    "O loop `while` testa uma condição a cada iteração. Quando a condição se torna falsa, o loop termina.\n",
    "\n",
    "```\n",
    "while cond:\n",
    "    (...)\n",
    "```\n",
    "\n",
    "Veja um exemplo:"
   ]
  },
  {
   "cell_type": "code",
   "execution_count": 130,
   "id": "9f8b10ba-c214-4902-b45c-ac828cd65efc",
   "metadata": {},
   "outputs": [
    {
     "name": "stdout",
     "output_type": "stream",
     "text": [
      "5\n",
      "4\n",
      "3\n",
      "2\n",
      "1\n"
     ]
    }
   ],
   "source": [
    "lista = [1, 2, 3, 4, 5]\n",
    "while len(lista) != 0:\n",
    "    print(lista.pop())"
   ]
  },
  {
   "cell_type": "markdown",
   "id": "5a750ab8-73cf-47e0-ab70-15c8fb92b5d6",
   "metadata": {},
   "source": [
    "A primeira coisa feita é testar a condição `len(lista) != 0`. Se essa condição for verdadeira, a próxima iteração do loop começa. Neste caso, a função `.pop()` remove um elemento do final da lista e o retorna. Logo, `print` receberá `5`, e a lista terá 4 elementos. Como o bloco de código terminou, a condição do loop é testada novamente. Como `4!=0`, o bloco de código executa, removendo um elemento de `lista`, e assim por diante até acabarem os elementos de `lista`.\n",
    "\n",
    "Um problema de loops, em especial o loop `while`, é que podem ocorrer infinitamente, e o loop não termina. Se isso ocorrer em uma célula de um notebook, você pode apertar o botão de parar para forçar a parada de execução. Se estiver rodando um script pelo terminal, ou estiver no REPL, você pode utilizar o comando `CTRL-C` para parar a execução do comando.\n",
    "\n",
    "De vez em quando, loops infinitos são desejados. Por exemplo, se você fizer uma interface de usuário, você irá querer que o código que mostra a interface sempre seja executado, para mantê-la interativa. Quando o usuário quiser fechar o programa, você precisa modificar o fluxo de execução de um loop, forçando sua saída \"prematura\"."
   ]
  },
  {
   "cell_type": "markdown",
   "id": "7c369cb1-9034-4e21-9e2b-03cd571d74ff",
   "metadata": {},
   "source": [
    "### Modificando o fluxo em um loop\n",
    "\n",
    "Existem duas *keywords* que funcionam para modificar a execução de um loop. \n",
    "\n",
    "* Quando a *keyword* `continue` é encontrada, o loop volta à sua linha inicial. O resto do bloco de código do loop é ignorado. Você pode utiliar isso para, por exemplo, ignorar um arquivo com base em seu nome.\n",
    "* Quando a *keyword* `break` é encontrada, o loop para de ser executado imediatamente, e a execução do programa continua na primeira linha após o bloco de código.\n",
    "\n",
    "Um exemplo do uso de `continue`."
   ]
  },
  {
   "cell_type": "code",
   "execution_count": 131,
   "id": "934d6bf9-bf74-4090-942d-0fa89af7e959",
   "metadata": {},
   "outputs": [
    {
     "name": "stdout",
     "output_type": "stream",
     "text": [
      "arquivo1.csv\n",
      "arquivo2.csv\n"
     ]
    }
   ],
   "source": [
    "arquivos = ['foto.jpg', 'documento.pdf', 'arquivo1.csv', 'arquivo2.csv']\n",
    "for arquivo in arquivos:\n",
    "    if not arquivo.endswith('csv'):\n",
    "        continue\n",
    "    print(arquivo)"
   ]
  },
  {
   "cell_type": "markdown",
   "id": "c84285b7-b21a-4672-ac52-82a316dc7838",
   "metadata": {},
   "source": [
    "Aqui, utilizamos o método `.endswith` para ignorar arquivos que não são `.csv`, detectando se o nome do arquivo não termina em csv.\n",
    "\n",
    "Como mencionei, loops `while` tem uma tendência de continuarem infinitamente. O loop a seguir é infinito, mas resguardado pelo fato que há um limite máximo de iterações. Quando atingido, `break` é ativado."
   ]
  },
  {
   "cell_type": "code",
   "execution_count": 132,
   "id": "bd6ddcfe-3ec8-46ae-8f78-b8def20c1174",
   "metadata": {},
   "outputs": [
    {
     "name": "stdout",
     "output_type": "stream",
     "text": [
      "1 2 3 4 5 6 7 8 9 10 11 12 13 14 15 16 17 18 19 20 21 22 23 24 25 26 27 28 29 30 31 32 33 34 35 36 37 38 39 40 41 42 43 44 45 46 47 48 49 Atingi o máximo!\n"
     ]
    }
   ],
   "source": [
    "máximo_segurança = 50\n",
    "contador = 0\n",
    "\n",
    "while True:\n",
    "    contador += 1\n",
    "    if contador >= máximo_segurança:\n",
    "        print('Atingi o máximo!')\n",
    "        break\n",
    "    print(contador, end=' ')"
   ]
  },
  {
   "cell_type": "markdown",
   "id": "58545acb-8728-4095-8ba1-33138634457e",
   "metadata": {},
   "source": [
    "Existe uma *keyword* um pouco controversa, que até mesmo o criador da linguagem se arrepende de ter chamado disso. Após um loop, você pode adicionar a keyword `else` que irá executar um bloco de código **se o loop tiver terminado sozinho, sem o uso de `break`**."
   ]
  },
  {
   "cell_type": "code",
   "execution_count": 133,
   "id": "703b234b-ca92-4275-aa62-ca7ec747ad5c",
   "metadata": {},
   "outputs": [
    {
     "name": "stdout",
     "output_type": "stream",
     "text": [
      "1 2 3 4 Finalizado\n"
     ]
    }
   ],
   "source": [
    "lista = [1, 2, 3, 4]\n",
    "for num in lista:\n",
    "    if num % 5 == 0:\n",
    "        break\n",
    "    print(num, end=' ')\n",
    "else:\n",
    "    print('Finalizado')"
   ]
  },
  {
   "cell_type": "code",
   "execution_count": 134,
   "id": "f9ab91cb-9d28-4106-83b5-383d67b67e25",
   "metadata": {},
   "outputs": [
    {
     "name": "stdout",
     "output_type": "stream",
     "text": [
      "1 2 3 4 "
     ]
    }
   ],
   "source": [
    "lista = [1, 2, 3, 4, 5]\n",
    "for num in lista:\n",
    "    if num % 5 == 0:\n",
    "        break\n",
    "    print(num, end=' ')\n",
    "else:\n",
    "    print('Finalizado')"
   ]
  },
  {
   "cell_type": "markdown",
   "id": "bb6fc66c-41ba-4dd2-afc1-eb3c8d6cd7e8",
   "metadata": {},
   "source": [
    "O uso disso é bem limitado, mas é bom saber que isso existe."
   ]
  },
  {
   "cell_type": "markdown",
   "id": "7915a6b1-a41d-4e84-b984-6756fffcb866",
   "metadata": {},
   "source": [
    "## Loops aninhados\n",
    "\n",
    "Do mesmo jeito que vimos condicionais aninhados, loops aninhados também podem ser utilizados. Note, porém, que a complexidade disso é geralmente maior que em loops planos, então evite de utilizar muito. Porém, loops aninhados são essenciais quando as estruturas de dados que temos também são aninhadas. Para exemplificar isso, irei demonstrar como fazer uma multiplicação matricial manualmente. As definições desta seção foram baseadas [no artigo da Wikipedia](https://en.wikipedia.org/wiki/Matrix_multiplication)\n",
    "\n",
    "Suponha que tenhamos duas matrizes, $\\mathbf{A}$, do formato $m \\times n$ e $\\mathbf{B}$, do formato $n \\times p$. Duas matrizes podem ser multiplicadas se o número de colunas da matriz à esquerda ($\\mathbf{A}$) for igual ao número de linhas da matriz à direita ($\\mathbf{B}$), e a matriz resultante $\\mathbf{C}$ tem o formato $m$ por $p$. Os elementos $ij$ da matriz $\\mathbf{C}$ são obtidos por:\n",
    "\n",
    "$$\n",
    "c_{ij} = \\sum_{k=1}^n a_{ik} b_{kj}\n",
    "$$\n",
    "\n",
    "ou seja, soma-se a multiplicação de todos os elementos da linha de uma matriz com a coluna da outra matriz."
   ]
  },
  {
   "cell_type": "code",
   "execution_count": 135,
   "id": "b99014c6-8600-4a99-9729-65b968be3210",
   "metadata": {},
   "outputs": [],
   "source": [
    "A = [\n",
    "    [1, 2, 3],\n",
    "    [4, 5, 6],\n",
    "]\n",
    "B = [\n",
    "    [-1, -2],\n",
    "    [4, 5],\n",
    "    [-7, -8]\n",
    "]"
   ]
  },
  {
   "cell_type": "code",
   "execution_count": 136,
   "id": "64047925-77a6-44a0-867d-0c149908a07c",
   "metadata": {},
   "outputs": [
    {
     "name": "stdout",
     "output_type": "stream",
     "text": [
      "dest=[[0, 0], [0, 0]]\n",
      "i=0, j=0, k=0, A[i][k]=1, B[k][j]=-1, op=-1\n",
      "i=0, j=0, k=1, A[i][k]=2, B[k][j]=4, op=8\n",
      "i=0, j=0, k=2, A[i][k]=3, B[k][j]=-7, op=-21\n",
      "acumulador=-14\n",
      "i=0, j=1, k=0, A[i][k]=1, B[k][j]=-2, op=-2\n",
      "i=0, j=1, k=1, A[i][k]=2, B[k][j]=5, op=10\n",
      "i=0, j=1, k=2, A[i][k]=3, B[k][j]=-8, op=-24\n",
      "acumulador=-16\n",
      "i=1, j=0, k=0, A[i][k]=4, B[k][j]=-1, op=-4\n",
      "i=1, j=0, k=1, A[i][k]=5, B[k][j]=4, op=20\n",
      "i=1, j=0, k=2, A[i][k]=6, B[k][j]=-7, op=-42\n",
      "acumulador=-26\n",
      "i=1, j=1, k=0, A[i][k]=4, B[k][j]=-2, op=-8\n",
      "i=1, j=1, k=1, A[i][k]=5, B[k][j]=5, op=25\n",
      "i=1, j=1, k=2, A[i][k]=6, B[k][j]=-8, op=-48\n",
      "acumulador=-31\n"
     ]
    },
    {
     "data": {
      "text/plain": [
       "[[-14, -16], [-26, -31]]"
      ]
     },
     "execution_count": 136,
     "metadata": {},
     "output_type": "execute_result"
    }
   ],
   "source": [
    "def mult_matriz(A, B, debug=False):\n",
    "    # Assegurar que o número de linhas de A é igual ao número de colunas de B\n",
    "    # Lembrando que estamos armazenando as matrizes como listas aninhadas, onde\n",
    "    # o primeiro nível armazena as linhas e o segundo nível as colunas\n",
    "    assert len(A[0]) == len(B), \"Tamanho das matrizes é incompatível\"\n",
    "    # Estamos presumindo que o formato das matrizes é regular\n",
    "    # i.e., não possuem um número irregular de colunas\n",
    "    linhas_destino = len(A)\n",
    "    colunas_destino = len(B[0])\n",
    "    n = len(B)\n",
    "    \n",
    "    # Criando matriz de destino\n",
    "    dest = []\n",
    "    for i in range(linhas_destino):\n",
    "        temp = []\n",
    "        for j in range(colunas_destino):\n",
    "            temp.append(0)\n",
    "        dest.append(temp)\n",
    "    if debug:      \n",
    "        print(f'{dest=}')\n",
    "\n",
    "    for i in range(linhas_destino):\n",
    "        for j in range(colunas_destino):\n",
    "            acumulador = 0\n",
    "            for k in range(n):\n",
    "                op = A[i][k] * B[k][j]\n",
    "                acumulador += op\n",
    "                if debug:\n",
    "                    print(f'{i=}, {j=}, {k=}, {A[i][k]=}, {B[k][j]=}, {op=}')\n",
    "            print(f'{acumulador=}')\n",
    "            dest[i][j] = acumulador\n",
    "    return dest\n",
    "    \n",
    "res = mult_matriz(A, B, debug=True)\n",
    "res"
   ]
  },
  {
   "cell_type": "markdown",
   "id": "7b04d1a4-4aba-4e75-ac97-0d6dcebf8322",
   "metadata": {},
   "source": [
    "Você pode verificar o resultado manualmente:\n",
    "\n",
    "$$\n",
    "A_{2\\times3} = \n",
    "    \\left[ \\begin{array}{ccc}\n",
    "        1 & 2 & 3 \\\\\n",
    "        4 & 5 & 6 \\\\\n",
    "    \\end{array} \\right]\n",
    "$$\n",
    "\n",
    "$$\n",
    "B_{3\\times2} = \n",
    "    \\left[ \\begin{array}{cc}\n",
    "        -1 & -2 \\\\\n",
    "        4 & 5 \\\\\n",
    "        -7 & -8 \\\\\n",
    "    \\end{array} \\right]\n",
    "$$\n",
    "\n",
    "$$\n",
    "C_{2\\times2} = \n",
    "    \\left[ \\begin{array}{cc}\n",
    "        1 \\times -1 + 2 \\times 4 + 3 \\times -7 & 1 \\times -2 + 2 \\times 5 + 3 \\times -8 \\\\\n",
    "        4 \\times -1 + 5 \\times 4 + 6 \\times -7 & 4 \\times -2 + 5 \\times 5 + 6 \\times -8 \\\\\n",
    "    \\end{array} \\right]\n",
    "$$\n",
    "\n",
    "$$\n",
    "C_{2\\times2} = \n",
    "    \\left[ \\begin{array}{cc}\n",
    "        -14 & -16 \\\\\n",
    "        -26 & -31 \\\\\n",
    "    \\end{array} \\right]\n",
    "$$"
   ]
  },
  {
   "cell_type": "markdown",
   "id": "1e7cf95d-7025-4631-89cd-e911f7d9b264",
   "metadata": {},
   "source": [
    "Na função acima, eu utilizei uma flag `debug`, que posso colocar como `True` se eu quiser acompanhar o desenvolvimento da função enquanto ela está rodando. Mais para o futuro, iremos aprender como utilizar um *debugger* para isso, mas por enquanto, utilizar vários `print` se torna a maneira mais conveniente de se fazer isso. Além disso, utilizei um artifício de `f-string`s, onde, se você colocar o nome de uma variável seguido de igual, a formatação será `nome=valor`, facilitando o acompanhamento.\n",
    "\n",
    "Além disso, eu iterei duas vezes pelo número de linhas e colunas. Na primeira vez, eu criei a matriz de destino. Na segunda, eu de fato calculei os valores de cada célula. Isso é redundante, mas acredito que seja um pouco mais fácil de acompanhar.\n",
    "\n",
    "É possível realizar tudo isso de uma vez só. Veja se você consegue fazer isso sozinho. Uma maneira é a seguinte:\n",
    "\n",
    "```python\n",
    "    dest = []\n",
    "    for i in range(linhas_destino):\n",
    "        coluna = []\n",
    "        for j in range(colunas_destino):\n",
    "            temp = 0\n",
    "            for k in range(n):\n",
    "                temp += A[i][k] * B[k][j]\n",
    "            coluna.append(temp)\n",
    "        dest.append(coluna)\n",
    "    return dest\n",
    "```\n",
    "\n",
    "Substitua isso por tudo entre `dest = []` até `return`."
   ]
  },
  {
   "cell_type": "markdown",
   "id": "74e3d98e-97cb-4688-b9de-87bdffca40b5",
   "metadata": {},
   "source": [
    "## Operações recursivas\n",
    "\n",
    "Em paralelo a loops, temos as funções recursivas. Uma função recursiva é uma função que chama a si mesma. Em teoria, tudo o que pode ser feito com recursão, pode ser feito com uma iteração, e vice-versa. O exemplo clássico de uma operação recursiva é o cálculo da sequência de Fibonacci. Tal sequência é definida como\n",
    "\n",
    "$$\n",
    "F_{i} = F_{i-1} + F_{i-2}\n",
    "$$\n",
    "\n",
    "sendo que $F_0=0$ e $F_1=1$.\n",
    "\n",
    "Os primeiros valores da sequência são 0, 1, 1, 2, 3, 5, 8, 13, 21, 34, 55, ...\n",
    "\n",
    "Para resolver isso utilizando uma função recursiva, primeiro precisamos definir um caso base. Esse caso limita nossa função recursiva e a impede de repetir infinitamente (como um loop). Depois, definimos os casos derivados. Aqui, os casos base são $F_0$ e $F_1$, e o caso derivado é $F_i$."
   ]
  },
  {
   "cell_type": "code",
   "execution_count": 137,
   "id": "343f42ab-98e3-42df-a133-67dd0841daef",
   "metadata": {},
   "outputs": [
    {
     "name": "stdout",
     "output_type": "stream",
     "text": [
      "0 1 1 2 3 5 8 13 21 34 "
     ]
    }
   ],
   "source": [
    "def fibonacci_rec(n):\n",
    "    if n == 0:\n",
    "        return 0\n",
    "    if n == 1:\n",
    "        return 1\n",
    "    return fibonacci_rec(n-1) + fibonacci_rec(n-2)\n",
    "    \n",
    "for i in range(10):\n",
    "    print(fibonacci_rec(i), end=' ')"
   ]
  },
  {
   "cell_type": "markdown",
   "id": "d3d77bd7-7d60-49fe-b7a5-d10e0e68d7ad",
   "metadata": {},
   "source": [
    "Para entender como isso funcionou, vamos estudar o caso `n==4`. Cada nível de indentação é um nível de recursão.\n",
    "\n",
    "* `n==4`: Os dois primeiros testes falham. A função chega em no caso `n-1`, `fibonacci_rec(3)`.\n",
    "    * `n==3`: Novamente, os dois primeiros testes falham, então a função chega em `n-1`, `fibonacci_rec(2)`.\n",
    "        * `n==2`: Novamente, os dois primeiros testes falham, então a função chega em `n-1`, `fibonacci_rec(1)`.\n",
    "            * `n==1`: Aqui o valor `1` é retornado.\n",
    "        * `n==2`, com o caso `n-1` calculado: Como voltamos com o resultado anterior, avaliamos `n-2`, `fibonacci_rec(0)`\n",
    "            * `n==0`: Aqui o valor `0` é retornado.\n",
    "        * `n==2`, com os casos `n-1` e `n-2` resolvidos: Temos os dois primeiros valores, 0 e 1. São somados e retornados.\n",
    "    * `n==3`, com o caso `n-1` resolvido, igual a 1. Agora temos que resolver o caso `n-2==1`.\n",
    "        * `n==1`: O valor `1` é retornado.\n",
    "    * `n==3`, com o caso `n-1` resolvido, igual a 1, e o caso `n-2` resolvido, igual a 1. Somamos, obtemos `2` e retornamos.\n",
    "* `n==4`, com o caso `n-1` resolvido, igual a `2`. Passamos para o caso `n-2`, ou `2`.\n",
    "    * `n==2`: Novamente, os dois primeiros testes falham, então a função chega em `fibonacci_rec(1)`.\n",
    "        * `n==1`: Aqui o valor `1` é retornado.\n",
    "    * `n==2`, com o caso `n-1` calculado: Como voltamos com o resultado anterior, avaliamos `fibonacci_rec(0)`\n",
    "            * `n==0`: Aqui o valor `0` é retornado.\n",
    "    * `n==2`, com os casos `n-1` e `n-2` resolvidos: Temos os dois primeiros valores, 0 e 1. São somados e voltamos um nível.\n",
    "* `n==4`, com o caso `n-1` resolvido, igual a 2, e o caso `n-2` resolvido, igual a 1. Somamos, totalizando 3, e retornamos.\n",
    "\n",
    "Foi confuso? Se disser que não e for sua primeira vez, não vou acreditar. Recursão é algo naturalmente complexo e é preferível evitar esse tipo de construção. Há algumas estruturas de dados que são mais confortavelmente exploradas com iteração, como árvores, mas estão fora do escopo deste livro.\n",
    "\n",
    "Como disse que é possível resolver qualquer problema recursivo por métodos iterativos, aqui vai o código equivalente, utilizando somente iterações."
   ]
  },
  {
   "cell_type": "code",
   "execution_count": 138,
   "id": "8a30cd19-ab20-44ad-9af9-a6e854a4f670",
   "metadata": {},
   "outputs": [
    {
     "name": "stdout",
     "output_type": "stream",
     "text": [
      "0 1 1 2 3 5 8 13 21 34 "
     ]
    }
   ],
   "source": [
    "def fibonacci_it(n):\n",
    "    começo = [0, 1]\n",
    "    for i in range(2, n+1):\n",
    "        começo.append(começo[i-1] + começo[i-2])\n",
    "    return começo[n]\n",
    "    \n",
    "for i in range(10):\n",
    "    print(fibonacci_it(i), end=' ')"
   ]
  },
  {
   "cell_type": "markdown",
   "id": "a59fffde-38ed-4c82-99ff-24b27d44d3c8",
   "metadata": {},
   "source": [
    "Eu, pessoalmente, acho essa solução bastante mais intuitiva. Note que esta função naturalmente armazena todos os números à medida que encontramos mais valores. Existem maneiras de \"memorizar\" essa lista entre chamadas da função, permitindo que os cálculos de números grandes sejam mais rápidos.\n",
    "\n",
    "Na implementação abaixo eu modifiquei o código de forma a manter somente três números na memória. `n`, `n-1` e `n-2`. Aqui, utilizei o único \"operador ternário\" em Python, também conhecido como expressão condicional ([*conditional expression*](https://docs.python.org/3/reference/expressions.html#conditional-expressions)) de forma a considerar a condição onde `n==0`."
   ]
  },
  {
   "cell_type": "code",
   "execution_count": 139,
   "id": "7036557b-eeea-4dcf-b29a-9f4fe1d14201",
   "metadata": {},
   "outputs": [
    {
     "name": "stdout",
     "output_type": "stream",
     "text": [
      "0 1 1 2 3 5 8 13 21 34 "
     ]
    }
   ],
   "source": [
    "def fibonacci_it(n):\n",
    "    primeiro, segundo = 0, 1\n",
    "    for i in range(2, n+1):\n",
    "        terceiro = primeiro + segundo\n",
    "        primeiro = segundo\n",
    "        segundo = terceiro\n",
    "    return segundo if n > 0 else 0\n",
    "    \n",
    "for i in range(10):\n",
    "    print(fibonacci_it(i), end=' ')"
   ]
  },
  {
   "cell_type": "markdown",
   "id": "066b1644-103f-4f84-bb2c-93a8a155c971",
   "metadata": {},
   "source": [
    "## Utilizando `enumerate` para acompanhar uma lista com um índice"
   ]
  },
  {
   "cell_type": "code",
   "execution_count": null,
   "id": "986993e9-7570-4c55-b74b-4a709659d91c",
   "metadata": {},
   "outputs": [],
   "source": []
  },
  {
   "cell_type": "markdown",
   "id": "865151f0-dc1c-4048-bb98-cb9804701c87",
   "metadata": {},
   "source": [
    "## Percorrendo dois iteráveis ao mesmo tempo com `zip`"
   ]
  },
  {
   "cell_type": "code",
   "execution_count": null,
   "id": "7b15ed0c-07ab-401f-bacc-a580dfa683c6",
   "metadata": {},
   "outputs": [],
   "source": []
  },
  {
   "cell_type": "markdown",
   "id": "ac52ff9f-8693-4133-809e-878fa889d13c",
   "metadata": {},
   "source": [
    "### Utilizando `zip` para ordenar duas listas correlacionadas na mesma sequência"
   ]
  },
  {
   "cell_type": "code",
   "execution_count": null,
   "id": "7898ee22-cdd4-4623-9524-7cfd29d0ba65",
   "metadata": {},
   "outputs": [],
   "source": []
  },
  {
   "cell_type": "markdown",
   "id": "043b8a8e-4cae-47d8-85ae-1675d883fc13",
   "metadata": {},
   "source": [
    "## *Comprehensions*: a junção da criação de estruturas de dados com loops"
   ]
  },
  {
   "cell_type": "code",
   "execution_count": null,
   "id": "2fc4c2d8-0016-49ea-a989-aa7c755dbdea",
   "metadata": {},
   "outputs": [],
   "source": []
  },
  {
   "cell_type": "markdown",
   "id": "8e6725d3-8b66-4193-bec9-eadcaec723c0",
   "metadata": {},
   "source": [
    "## Exercícios resolvidos\n",
    "\n",
    "Como finalmente adquirimos uma quantidade suficiente de conhecimento, os exercícios resolvidos poderão ser bem mais interessantes e complexos."
   ]
  },
  {
   "cell_type": "markdown",
   "id": "b1a46d83-1037-49cb-8397-49d0ab09d734",
   "metadata": {},
   "source": [
    "### FizzBuzz\n",
    "\n",
    "Existe uma pergunta muito famosa realisada em entrevistas técnicas para julgar a abilidade de uma pessoa em uma linguagem de programação. É o teste do FizzBuzz.\n",
    "\n",
    "Sua tarefa é escrever uma função que aceita um número inteiro. Você deve iterar de 1 até esse número (incluso), e a cada iteração, se for o número for divisível por 3, escreva `Fizz`, se for divisível por 5, escreva `Buzz`, e se for divisível por 3 e 5, escreva `FizzBuzz`. Caso contrário, escreva o número em si."
   ]
  },
  {
   "cell_type": "code",
   "execution_count": 140,
   "id": "02f87eb4-adc5-480e-a2ed-a20e996ec043",
   "metadata": {},
   "outputs": [
    {
     "name": "stdout",
     "output_type": "stream",
     "text": [
      "1, 2, Fizz, 4, Buzz, Fizz, 7, 8, Fizz, Buzz, 11, Fizz, 13, 14, FizzBuzz, 16, 17, Fizz, 19, Buzz, Fizz, 22, 23, Fizz, Buzz, 26, Fizz, 28, 29, FizzBuzz, "
     ]
    }
   ],
   "source": [
    "def FizzBuzz(n):\n",
    "    for i in range(1, n+1):\n",
    "        if (i % 3 == 0) and (i % 5 == 0):\n",
    "            print('FizzBuzz', end='')\n",
    "        elif i % 3 == 0:\n",
    "            print('Fizz', end='')\n",
    "        elif i % 5 == 0:\n",
    "            print('Buzz', end='')\n",
    "        else:\n",
    "            print(i, end='')\n",
    "        print(', ', end='')\n",
    "FizzBuzz(30)"
   ]
  },
  {
   "cell_type": "markdown",
   "id": "25cf7c18-9e19-4cc2-a0d5-60841fbe644e",
   "metadata": {},
   "source": [
    "No primeiro exemplo, eu utilizei o fato que o operador módulo é a melhor maneira de detectar se um número é divisível por outro, e chequei as 3 condições. Divisível por 15, por 5 e por 3. Se fossem, eu escrevi a palavra apropriada. Neste exemplo, decidi compactar um pouco o output colocando tudo em uma única linha.\n",
    "\n",
    "A seguir eu modifiquei essa função um pouco, dessa vez testando as condições de maneira diferente. Veja se você consegue prever o que ocorreria, e se o resultado seria certo."
   ]
  },
  {
   "cell_type": "code",
   "execution_count": 141,
   "id": "c44073d0-ca24-42e4-aa02-5754984dd023",
   "metadata": {},
   "outputs": [
    {
     "name": "stdout",
     "output_type": "stream",
     "text": [
      "1, 2, Fizz, 4, Buzz, Fizz, 7, 8, Fizz, Buzz, 11, Fizz, 13, 14, Fizz, 16, 17, Fizz, 19, Buzz, Fizz, 22, 23, Fizz, Buzz, 26, Fizz, 28, 29, Fizz, "
     ]
    }
   ],
   "source": [
    "def FizzBuzz(n):\n",
    "    for i in range(1, n+1):\n",
    "        if i % 3 == 0:\n",
    "            print('Fizz', end='')\n",
    "        elif i % 5 == 0:\n",
    "            print('Buzz', end='')\n",
    "        elif (i % 3 == 0) and (i % 5 == 0):\n",
    "            print('FizzBuzz', end='')\n",
    "        else:\n",
    "            print(i, end='')\n",
    "        print(', ', end='')\n",
    "FizzBuzz(30)"
   ]
  },
  {
   "cell_type": "markdown",
   "id": "76cffa38-d8f2-4b4d-8049-502532df2e61",
   "metadata": {},
   "source": [
    "Note que `FizzBuzz` nunca aparece, somente `Fizz` ou `Buzz`. Isso ocorre porque os condicionais estão ligados. Primeiro, o loop testa se o número é divisível por 3. Se for, o resto da cadeia de condicionais é ignorada. Depois, testa se é por 5, e por último por 15. Porém, um número divisível por 15 é divisível por 3 e 5 também. Logo, essa condição nunca será atingida.\n",
    "\n",
    "Se eu remover a ligação entre os condicionais, utilizando somente `if`s, veja o que ocorre."
   ]
  },
  {
   "cell_type": "code",
   "execution_count": 142,
   "id": "be46b106-14a4-425c-9de9-dcc2cb333f14",
   "metadata": {},
   "outputs": [
    {
     "name": "stdout",
     "output_type": "stream",
     "text": [
      "1, 2, Fizz, 4, Buzz, Fizz, 7, 8, Fizz, Buzz, 11, Fizz, 13, 14, FizzBuzzFizzBuzz, 16, 17, Fizz, 19, Buzz, Fizz, 22, 23, Fizz, Buzz, 26, Fizz, 28, 29, FizzBuzzFizzBuzz, "
     ]
    }
   ],
   "source": [
    "def FizzBuzz(n):\n",
    "    for i in range(1, n+1):\n",
    "        if i % 3 == 0:\n",
    "            print('Fizz', end='')\n",
    "        if i % 5 == 0:\n",
    "            print('Buzz', end='')\n",
    "        if (i % 3 == 0) and (i % 5 == 0):\n",
    "            print('FizzBuzz', end='')\n",
    "        if (i % 3 != 0) and (i % 5 != 0):\n",
    "            print(i, end='')\n",
    "        print(', ', end='')\n",
    "FizzBuzz(30)"
   ]
  },
  {
   "cell_type": "markdown",
   "id": "368258ac-f1b5-49ef-87e1-925debaed460",
   "metadata": {},
   "source": [
    "(Note que tive que modificar o `else` para um `if`, para preservar parte da lógica). Agora `FizzBuzz` está aparecendo duplicado. Como os condicionais não estão ligados, todos estão sendo testados em toda a iteração. Isso é um pequeno desperdício, mas também causa um problema ao passar pelo teste de FizzBuzz. Como as duas condições acima são verdadeiras neste caso, ela é executada também. E se removermos essa condição?"
   ]
  },
  {
   "cell_type": "code",
   "execution_count": 143,
   "id": "1275b64e-250d-4b7a-a4bd-9bf6d20067cb",
   "metadata": {},
   "outputs": [
    {
     "name": "stdout",
     "output_type": "stream",
     "text": [
      "1, 2, Fizz, 4, Buzz, Fizz, 7, 8, Fizz, Buzz, 11, Fizz, 13, 14, FizzBuzz, 16, 17, Fizz, 19, Buzz, Fizz, 22, 23, Fizz, Buzz, 26, Fizz, 28, 29, FizzBuzz, "
     ]
    }
   ],
   "source": [
    "def FizzBuzz(n):\n",
    "    for i in range(1, n+1):\n",
    "        if i % 3 == 0:\n",
    "            print('Fizz', end='')\n",
    "        if i % 5 == 0:\n",
    "            print('Buzz', end='')\n",
    "        if (i % 3 != 0) and (i % 5 != 0):\n",
    "            print(i, end='')\n",
    "        print(', ', end='')\n",
    "FizzBuzz(30)"
   ]
  },
  {
   "cell_type": "markdown",
   "id": "40fc3fb7-f138-46a8-8a2a-d06efe3b8783",
   "metadata": {},
   "source": [
    "Agora, precisamos somente testar pelas duas condições de divisão por 3 e por 5. Porém, a condição base, onde imprimimos o número em si, requer mais duas divisões. Podemos contornar isso utilizando uma *flag*."
   ]
  },
  {
   "cell_type": "code",
   "execution_count": 145,
   "id": "ce14ac21-a884-4781-a4cd-224aae0d9f6c",
   "metadata": {},
   "outputs": [
    {
     "name": "stdout",
     "output_type": "stream",
     "text": [
      "1, 2, Fizz, 4, Buzz, Fizz, 7, 8, Fizz, Buzz, 11, Fizz, 13, 14, FizzBuzz, 16, 17, Fizz, 19, Buzz, Fizz, 22, 23, Fizz, Buzz, 26, Fizz, 28, 29, FizzBuzz, "
     ]
    }
   ],
   "source": [
    "def FizzBuzz(n):\n",
    "    for i in range(1, n+1):\n",
    "        printed = False\n",
    "        if i % 3 == 0:\n",
    "            print('Fizz', end='')\n",
    "            printed = True\n",
    "        if i % 5 == 0:\n",
    "            print('Buzz', end='')\n",
    "            printed = True\n",
    "        if not printed:\n",
    "            print(i, end='')\n",
    "        print(', ', end='')\n",
    "FizzBuzz(30)"
   ]
  },
  {
   "cell_type": "markdown",
   "id": "d9680f1f-29fe-465d-96c9-0200eabe3c24",
   "metadata": {},
   "source": [
    "Você pode continuar brincando com este problema, tentando abordagens diferentes, outros tipos de função, e implementar alguns testes para garantir que o resultado está correto."
   ]
  },
  {
   "cell_type": "markdown",
   "id": "dac92c68-7f9a-4f81-bb21-5a8bab2555bc",
   "metadata": {},
   "source": [
    "### Contando palavras em um arquivo de texto\n",
    "\n",
    "O [projeto Gutenberg](www.gutenberg.org) possui um acervo muito grande de livros totalmente gratuitos, que não possuem mais copyright e podem ser distribuídos livremente. Baixe um livro em formato de texto (*plain text*) e coloque na pasta *dados* deste capítulo. Eu já baixei coloquei o arquivo `iracema.txt` lá, com o conteúdo do texto de José de Alencar. Iremos então contar o número de palavras neste documento.\n",
    "\n",
    "A melhor maneira de acompanhar isso é abrir o texto em uma janela à parte.\n",
    "\n",
    "Primeiro, note que o livro começa com um cabeçalho em inglês. Isso precisará ser descartado. Depois temos uma página que parece ser uma cópia da capa, um índice, uma biografia, um prefácio, e só então o livro começa, na linha 452. Somente após isso começaremos a contar as palavras.\n",
    "\n",
    "Porém, para contar as palavras, não devemos distinguir letras maiúsculas de minúsculas, devemos remover a pontuação e outros caracteres de pouco interesse. Depois, seria de mais interesse remover palavras muito comuns, como artigos, preposições, etc, que acabam poluindo nossa contagem.\n",
    "\n",
    "O livro termina na linha 3800. Depois disso temos algumas notas e uma seção em inglês adicionada pelo Projeto Gutenberg.\n",
    "\n",
    "Para fazer tudo isso, utilizaremos a função `open`. Essa função aceita um caminho até um arquivo, e pode abri-lo no modo leitura (que faremos), no modo escrita, que apaga tudo e começa a escrever do zero, ou no modo de adição, onde texto é adicionado. Para isso, é bom saber a codificação do arquivo. Codificação é a maneira de traduzir os bytes de um arquivo em letras. As codificações mais comuns que encontrei no meu trabalho são, em primeiro lugar, `utf8`, seguido de `latin1` e por último `utf16`. `open` retorna um *file handle*, que permite que você avance e volte no arquivo, e informa o sistema operacional que você está utilizando o arquivo. **Sempre que você abre um arquivo com `open`, você precisa fechá-lo**, senão muitos problemas podem ocorrer, como dados não salvos ou problemas em reabrir um arquivo."
   ]
  },
  {
   "cell_type": "code",
   "execution_count": 146,
   "id": "745c2e04-19f4-4e07-976c-86e57a118ad1",
   "metadata": {},
   "outputs": [
    {
     "name": "stdout",
     "output_type": "stream",
     "text": [
      "num_total_palavras=21968\n"
     ]
    }
   ],
   "source": [
    "linha_início_texto = 452\n",
    "linha_final_texto = 3800\n",
    "\n",
    "handle = open('./dados/iracema.txt', 'r', encoding='utf8')\n",
    "contagem_palavras = {} # Dicionário vazio para armazenar tudo\n",
    "\n",
    "for i, linha in enumerate(handle):\n",
    "    if i < linha_início_texto:\n",
    "        continue\n",
    "    if i > linha_final_texto:\n",
    "        break\n",
    "    \n",
    "    linha = linha.strip() # Remove espaços e outros caracteres não visíveis do início e fim.\n",
    "    linha = linha.strip(',.!?-;:') # Remove pontuação\n",
    "    # No texto, há várias junções como \"d'ella\". Vamos considerar isso como uma palavra só\n",
    "    \n",
    "    if len(linha) == 0: # Pulamos linhas vazias\n",
    "        continue\n",
    "\n",
    "    # Remover linhas que descrevem o número de capítulos.\n",
    "    # I, II, XIV, etc\n",
    "    if linha.isupper():\n",
    "        continue\n",
    "    \n",
    "    linha = linha.lower() # Transforma tudo em caixa baixa.\n",
    "    palavras = linha.split() # Separa a linha em várias palavras pelos espaços.\n",
    "\n",
    "    # Vamos contar as palavras\n",
    "    for palavra in palavras:\n",
    "        if palavra not in contagem_palavras.keys():\n",
    "            contagem_palavras[palavra] = 1\n",
    "        else:\n",
    "            contagem_palavras[palavra] += 1\n",
    "\n",
    "handle.close()\n",
    "num_total_palavras = sum(contagem_palavras.values())\n",
    "print(f'{num_total_palavras=}')"
   ]
  },
  {
   "cell_type": "code",
   "execution_count": 147,
   "id": "fe61d85a-3445-43dd-a79f-81f17231a0fa",
   "metadata": {},
   "outputs": [
    {
     "name": "stdout",
     "output_type": "stream",
     "text": [
      "[('o', 1254), ('a', 963), ('de', 664), ('e', 621), ('que', 547), ('do', 540), ('da', 468), ('os', 312), ('para', 226), ('as', 215)]\n"
     ]
    }
   ],
   "source": [
    "# Separando em outra célula para poder manipular a lista de palavras em precisar\n",
    "# re-analisar todo o texto\n",
    "# Transformando o dicionário em lista para poder ser ordenada\n",
    "lista_palavras = list(contagem_palavras.items())\n",
    "lista_palavras.sort(key = lambda x: x[1], reverse=True)\n",
    "print(lista_palavras[:10])"
   ]
  },
  {
   "cell_type": "code",
   "execution_count": 148,
   "id": "8a2c396a-4020-4183-abee-7efbd347e00a",
   "metadata": {},
   "outputs": [
    {
     "name": "stdout",
     "output_type": "stream",
     "text": [
      "[('guerreiro', 180), ('iracema', 170), ('virgem', 95), ('guerreiros', 88), ('poty', 81), ('olhos', 78), ('irmão', 76), ('martim', 76), ('cabana', 75), ('grande', 67), ('chefe', 59), ('extrangeiro', 57), ('filha', 56), ('terra', 49), ('nas', 47), ('araken', 47), ('voz', 45), ('pagé', 44), ('branco', 43), ('christão', 42), ('coração', 41), ('cauby', 40), ('pela', 40), ('campos', 35), ('sol', 34), ('mar', 34), ('tupan', 34), ('alma', 34), ('esposa', 34), ('seio', 33), ('velho', 32), ('filho', 32), ('margens', 31), ('irapuam', 30), ('ás', 29), ('vae', 28), ('elles', 28), ('tabajaras', 28), ('passo', 28), ('disse', 27), ('sangue', 26), ('peito', 26), ('luz', 25), ('sombra', 25), ('corpo', 25), ('pelo', 25), ('mão', 25), ('taba', 25), ('nome', 25), ('alegria', 25)]\n",
      "num_total_palavras_interessantes=12672\n"
     ]
    }
   ],
   "source": [
    "# Removendo as palavras de pouco interesse. Você pode incluir mais palavras se desejar\n",
    "pouco_interesse = [\n",
    "    'o', 'a', 'de', 'e', 'que', 'do', 'da', 'os', 'para', 'as', 'seu', 'como', 'na',\n",
    "    'dos', 'se', 'em', 'com', 'no', 'ao', 'sua', 'á', 'com', 'é', 'elle', 'das', 'quando',\n",
    "    'onde', 'seus', 'ella', 'uma', 'um', 'mais', 'teu', 'mas', 'já', 'te', 'por',\n",
    "    'nos', 'tua', 'tu', 'foi', 'porque', 'entre', 'sobre', 'ainda', 'depois', 'só',\n",
    "    'lhe', 'assim', 'era', 'até', 'aos', 'tem', 'não'\n",
    "]\n",
    "for palavra in pouco_interesse:\n",
    "    if palavra in contagem_palavras.keys():\n",
    "        contagem_palavras.pop(palavra)\n",
    "lista_palavras = list(contagem_palavras.items())\n",
    "lista_palavras.sort(key = lambda x: x[1], reverse=True)\n",
    "print(lista_palavras[:50])\n",
    "num_total_palavras_interessantes = sum(contagem_palavras.values())\n",
    "print(f'{num_total_palavras_interessantes=}')"
   ]
  },
  {
   "cell_type": "code",
   "execution_count": 149,
   "id": "dc7233fd-fd3f-467e-bb8b-3717fec2d647",
   "metadata": {},
   "outputs": [
    {
     "name": "stdout",
     "output_type": "stream",
     "text": [
      "[('guerreiro', 0.8193736343772761), ('iracema', 0.7738528769118718), ('virgem', 0.4324471959213401), ('guerreiros', 0.4005826656955572), ('poty', 0.3687181354697742), ('olhos', 0.35506190823015293), ('irmão', 0.3459577567370721), ('martim', 0.3459577567370721), ('cabana', 0.3414056809905317), ('grande', 0.3049890750182083)]\n"
     ]
    }
   ],
   "source": [
    "# Utilizando algumas list comprehensions, podemos calcular a \n",
    "# frequência de uso das palavras\n",
    "lista_palavras_frequencia = [\n",
    "    (palavra, contagem / num_total_palavras * 100)\n",
    "    for palavra, contagem in lista_palavras\n",
    "]\n",
    "print(lista_palavras_frequencia[:10])"
   ]
  },
  {
   "cell_type": "markdown",
   "id": "92a25ad2-c515-4fc3-99f5-a090d36a27ea",
   "metadata": {},
   "source": [
    "Se desejar, pode até tentar juntar palavras que diferem somente de um plural ou não, mas não farei isto aqui, porque isso é um problema um tanto mais complexo, da área de processamento de linguagem natural. Por exemplo, `deu` e `deus` diferem só no `s`, mas não são plurais um do outro. Logo, o código a seguir não funcionaria apropriadamente.\n",
    "\n",
    "```python\n",
    "plurais = {}\n",
    "for palavra, soma in contagem_palavras.items():\n",
    "    if palavra.endswith('s') and palavra[:-1] in contagem_palavras:\n",
    "        print(palavra)\n",
    "        plurais[palavra] = 0\n",
    "contagem_palavras.update(plurais)\n",
    "```\n",
    "\n",
    "Idealmente, teríamos um dicionário que possui os plurais de todas as palavras e usaríamos isso para fazer essa correção. Existem bibliotecas com essa informação, mas como não ap"
   ]
  },
  {
   "cell_type": "markdown",
   "id": "d3d86076-16a8-44b7-8158-cb178797669e",
   "metadata": {},
   "source": [
    "### Métodos de derivadas numéricas\n",
    "\n",
    "Derivada pra frente, derivada pra trás, derivada central"
   ]
  },
  {
   "cell_type": "code",
   "execution_count": null,
   "id": "e0e727d5-a4ad-492c-8442-8c4ed89cbf3e",
   "metadata": {},
   "outputs": [],
   "source": []
  },
  {
   "cell_type": "code",
   "execution_count": null,
   "id": "f1e7c6fe-bd3c-45ad-a898-e0e74f0e3557",
   "metadata": {},
   "outputs": [],
   "source": [
    "def meu_range(arg1, arg2 = None, arg3 = None):\n",
    "    if arg2 is None and arg3 is None:\n",
    "        final = arg1\n",
    "        início = 0\n",
    "        passo = 1\n",
    "    elif arg3 is None:\n",
    "        início = arg1\n",
    "        final = arg2\n",
    "        passo = 1\n",
    "    else:\n",
    "        início = arg1\n",
    "        final = arg2\n",
    "        passo = arg3\n",
    "    \n",
    "    yield início\n",
    "    valor = início + passo\n",
    "    while valor < final:\n",
    "        yield valor\n",
    "        valor = valor + passo"
   ]
  }
 ],
 "metadata": {
  "kernelspec": {
   "display_name": "CursoPython",
   "language": "python",
   "name": "cursopython"
  },
  "language_info": {
   "codemirror_mode": {
    "name": "ipython",
    "version": 3
   },
   "file_extension": ".py",
   "mimetype": "text/x-python",
   "name": "python",
   "nbconvert_exporter": "python",
   "pygments_lexer": "ipython3",
   "version": "3.11.3"
  }
 },
 "nbformat": 4,
 "nbformat_minor": 5
}
