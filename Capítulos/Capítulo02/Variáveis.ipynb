{
 "cells": [
  {
   "cell_type": "markdown",
   "id": "202a4ea1-30cd-491f-ba95-94bd71cd0d5c",
   "metadata": {},
   "source": [
    "(cap:vars)=\n",
    "# Variáveis\n",
    "\n",
    "## Sintaxe e definição \n",
    "\n",
    "Central a qualquer contexto de programação temos a variável. Considere uma variável como uma caixinha que contém valor(es), chamado *estado*, que você controla, e um conjunto de ferramentas, definidas pelo tipo criado (`int`, `float`, `bool`, `complex`, por exemplo), e essa caixinha possui uma etiqueta com um nome escolhido por você. O nome pode ser um pouco confuso porque temos variáveis que variam, sim, mas também variáveis constantes e variáveis imutáveis.\n",
    "\n",
    "Para criar uma variável, você precisa seguir a sintaxe `nome = valor`. Aqui, `=` é o operador de designação (*assignment operator*), não confunda com o operador de igualdade `==`. Vejamos um exemplo:"
   ]
  },
  {
   "cell_type": "code",
   "execution_count": 1,
   "id": "c051667f-43c4-4c76-ba7a-1ccbe8b29fb3",
   "metadata": {},
   "outputs": [],
   "source": [
    "constante_dos_gases = 8.314472 # J/(K mol)"
   ]
  },
  {
   "cell_type": "markdown",
   "id": "750d72d4-398a-45b7-8a24-a222f0e6d69c",
   "metadata": {},
   "source": [
    "Aqui, coloquei um comentário para indicar as unidades dessa constante. Comentários são precedidos por uma cerquilha `#` e tudo depois deles, em uma linha, são ignorados pelo interpretador. Eles servem somente como mensagens para o leitor do código.\n",
    "\n",
    "## Utilizando variáveis\n",
    "\n",
    "Se você quiser acessar depois a constante dos gases, utilize o nome escolhido. Efetivamente imagine como se o valor da variável está sendo copiado e colado no lugar do seu nome."
   ]
  },
  {
   "cell_type": "code",
   "execution_count": 2,
   "id": "38c7dc0b-b209-4bcf-8252-5d58acbba993",
   "metadata": {},
   "outputs": [
    {
     "data": {
      "text/plain": [
       "8.314472"
      ]
     },
     "execution_count": 2,
     "metadata": {},
     "output_type": "execute_result"
    }
   ],
   "source": [
    "constante_dos_gases"
   ]
  },
  {
   "cell_type": "markdown",
   "id": "8095cf3e-b793-4548-8398-b7d0ac7e9fc6",
   "metadata": {},
   "source": [
    "Ao utilizar uma variável, você remove a necessidade de copiar valores em vários locais do código. Além disso, permite que você trabalhe com certos problemas separando-os em partes menores, mais fáceis de entender.\n",
    "\n",
    "## Revisitando um problema\n",
    "\n",
    "Vamos ver como isso auxilia em um dos problemas resolvidos do capítulo anterior, [o problema do gás ideal](sec:prob_gas_ideal).\n",
    "\n",
    "> considerando 3,4g de hélio a 77°F em um frasco de 35mL, calcule a pressão em bar. Considere a constante dos gases igual a 8,314472 J/(K mol). Considere a massa molar de hélio como 4 g/mol."
   ]
  },
  {
   "cell_type": "code",
   "execution_count": 3,
   "id": "573d3e8b-d93c-413a-9fb3-be1455507eff",
   "metadata": {},
   "outputs": [
    {
     "data": {
      "text/plain": [
       "602.0331007942857"
      ]
     },
     "execution_count": 3,
     "metadata": {},
     "output_type": "execute_result"
    }
   ],
   "source": [
    "n_HE = 3.4 / 4\n",
    "\n",
    "T = 77 # °F\n",
    "T = (T - 32) / 9 * 5 # °C\n",
    "T = T + 273.15 # K\n",
    "\n",
    "V = 35E-6 # m3\n",
    "\n",
    "p = n_HE * constante_dos_gases * T / V # Pa\n",
    "p = p / 1E5 # para bar\n",
    "p"
   ]
  },
  {
   "cell_type": "markdown",
   "id": "db071904-bd3a-425e-82f6-82d45db94af0",
   "metadata": {},
   "source": [
    "Veja que o problema foi dividido em três blocos independentes e um bloco que une todos os valores. Primeiro achamos o número de mols de hélio, depois convertemos a temperatura de graus Fahrenheit para Kelvin, depois convertemos o volume e por último encontramos a pressão. Note a semelhança da linha `p = n_HE * constante_dos_gases * T / V # Pa` com a fórmula utilizada $p = \\frac{nRT}{V}$. Porém, veja o seguinte."
   ]
  },
  {
   "cell_type": "code",
   "execution_count": 4,
   "id": "fea83926-fad5-4387-9a9a-2f80390b206e",
   "metadata": {},
   "outputs": [
    {
     "data": {
      "text/plain": [
       "602.0331007942857"
      ]
     },
     "execution_count": 4,
     "metadata": {},
     "output_type": "execute_result"
    }
   ],
   "source": [
    "n_HE = 10\n",
    "p"
   ]
  },
  {
   "cell_type": "markdown",
   "id": "21468c83-92b3-44dc-ba5b-cf1fe42abc69",
   "metadata": {},
   "source": [
    "Apesar de eu ter mudado o valor de `n_HE`, o valor de pressão não foi alterado. Isso porque a designação de variáveis não é uma equação matemática, apesar da semelhança visual.\n",
    "\n",
    "```{warning}\n",
    "Quando se declara uma variável em Python, o conteúdo do lado direito do `=` é avaliado. Por exemplo, se você utilizar duas variáveis para definir uma terceira, e depois mudar o valor de uma dessas variáveis, a terceira **não irá mudar sozinha**. Você precisa atualizar seu valor.\n",
    "```"
   ]
  },
  {
   "cell_type": "markdown",
   "id": "d0be81b0-0561-42c8-920c-71b101a29e01",
   "metadata": {},
   "source": [
    "## Reutilização de nomes e troca de tipos\n",
    "\n",
    "Nesta seção\n",
    "\n",
    "```\n",
    "T = 77 # °F\n",
    "T = (T - 32) / 9 * 5 # °C\n",
    "T = T + 273.15 # K\n",
    "```\n",
    "\n",
    "Note que eu reutilizei o nome `T` para três variáveis, e com tipos diferentes. Primeiro, uma caixinha com um valor de `int` de 77 foi criada e recebeu a etiqueta `T`. Depois, criou-se outra caixinha, agora para um `float`, e utilizou-se o conteúdo da caixinha chamada `T` para colocar um valor nessa nova caixa, e então a etiqueta foi trocada da primeira para a segunda caixa. E o mesmo ocorreu na terceira linha. O operador `=` espera tudo do lado direito ser calculado antes de colocar o valor no nome do lado esquerdo. Nessa brincadeira, criamos 3 caixinhas mas utilizamos somente 1 nome, `T`. O que acontece com as outras 2 caixinhas? Como ninguém se \"lembra\" delas, não possuem nome, elas são deletadas da memória automaticamente.\n",
    "\n",
    "```{note}\n",
    "Em Python, uma mesma variável mudar de tipo no decorrer do programa não é um problema, diferente de outras linguagens onde isso é proibido. Isso tem suas vantagens e desvantagens.\n",
    "```"
   ]
  },
  {
   "cell_type": "markdown",
   "id": "08bcde26-8da2-46c2-a550-e79af54a2faf",
   "metadata": {},
   "source": [
    "## Regras para nomes válidos\n",
    "\n",
    "Existem algumas regras para nomes válidos em Python. Um nome válido:\n",
    "\n",
    "* Não pode começar com um número\n",
    "* Não pode conter operadores\n",
    "* Não pode conter espaços (utilize um `_`)\n",
    "* Não pode ser igual certas palavras chave do Python (por exemplo, `if`, `def`, `return`, `class`), que serão exploradas no futuro.\n",
    "\n",
    "Letras minúsculas e maiúsculas são diferenciadas, então `teste` e `Teste` são variáveis diferentes. \n",
    "\n",
    "Apesar das restrições parecerem grandes, temos uma quantidade enorme de símbolos que podemos utilizar em nomes. Podem ser nomes completamente em português, incluindo acentos e cedilha, podemos utilizar  e uma multitude de caracteres Unicode (mas emojis não 😢)."
   ]
  },
  {
   "cell_type": "code",
   "execution_count": 5,
   "id": "0d67e4ed-92cc-41ea-97d6-12f9cc9c44d9",
   "metadata": {},
   "outputs": [],
   "source": [
    "ração = 100 # Acentos e cedilha\n",
    "ⰳⰵⱃⰰⰾⱅ = 100 # Alfabeto glagolítico\n",
    "Κνωσσός = 100 # Alfabeto grego\n",
    "武田信玄 = 100 # Kanji"
   ]
  },
  {
   "cell_type": "markdown",
   "id": "2505b2f8-facc-4420-b2c5-16957c7ca7b6",
   "metadata": {},
   "source": [
    "Se você se referir à uma variável antes de declará-la, um `NameError` irá ocorrer, pois o Python não sabe que valor colocar no nome."
   ]
  },
  {
   "cell_type": "code",
   "execution_count": 6,
   "id": "a6755fc8-5e82-4f3a-a383-5071c298d903",
   "metadata": {},
   "outputs": [
    {
     "ename": "NameError",
     "evalue": "name 'A' is not defined",
     "output_type": "error",
     "traceback": [
      "\u001b[1;31m---------------------------------------------------------------------------\u001b[0m",
      "\u001b[1;31mNameError\u001b[0m                                 Traceback (most recent call last)",
      "Cell \u001b[1;32mIn[6], line 1\u001b[0m\n\u001b[1;32m----> 1\u001b[0m A \u001b[38;5;241m=\u001b[39m \u001b[43mA\u001b[49m \u001b[38;5;241m+\u001b[39m \u001b[38;5;241m1\u001b[39m\n",
      "\u001b[1;31mNameError\u001b[0m: name 'A' is not defined"
     ]
    }
   ],
   "source": [
    "A = A + 1"
   ]
  },
  {
   "cell_type": "markdown",
   "id": "35058970-07e1-47a6-99d4-364a11f01835",
   "metadata": {},
   "source": [
    "Dar nomes a variáveis não é um processo exatamente fácil, apesar da premissa ser simples. É importante que o nome carregue bastante significado mas, ao mesmo tempo, não induza um peso cognitivo muito forte. Existem algumas dicas para escolher nomes:\n",
    "\n",
    "1. O nome deve descrever o que a variável está armazenando.\n",
    "2. O nome não pode ser muito longo, com mais de 5-6 palavras.\n",
    "3. As palavras não podem ser muito longas.\n",
    "4. Abreviações só podem ser utilizadas se forem conhecidas e bem aceitas.\n",
    "\n",
    "Nesta altura do campeonato, pode parecer risível eu me preocupar tanto em falar para vocês como escolher bons nomes de variáveis. Mas isso é algo muito positivo de se aprender logo cedo, pois poderá lhe poupar bastante frustração no futuro (que terá sido causada por o seu eu do passado)."
   ]
  },
  {
   "cell_type": "markdown",
   "id": "8c9b2004-2460-46d4-a857-bd2d020f4a56",
   "metadata": {},
   "source": [
    "## Exercícios resolvidos"
   ]
  },
  {
   "cell_type": "markdown",
   "id": "a8d19bf0-5c71-4bf5-9970-c0b16b75c45c",
   "metadata": {},
   "source": [
    "### Calculando frações molares\n",
    "\n",
    "Vamos refazer o exercício anterior, mas desta vez utilizando variáveis para armazenar algumas constantes e valores intermediários."
   ]
  },
  {
   "cell_type": "code",
   "execution_count": 7,
   "id": "f493a724-4290-4ee9-8c65-9d839884b328",
   "metadata": {},
   "outputs": [
    {
     "data": {
      "text/plain": [
       "0.000603213294407632"
      ]
     },
     "execution_count": 7,
     "metadata": {},
     "output_type": "execute_result"
    }
   ],
   "source": [
    "m_lauril = 0.1\n",
    "MM_lauril = 348.48\n",
    "\n",
    "m_glic_impura = 10\n",
    "conc_glic = 0.8\n",
    "MM_glic = 92.094\n",
    "\n",
    "m_agua_dest = 5\n",
    "MM_agua = 18.015\n",
    "\n",
    "m_glic_pura = conc_glic * m_glic_impura\n",
    "m_agua_total = m_agua_dest + (m_glic_impura - m_glic_pura)\n",
    "\n",
    "n_lauril = m_lauril / MM_lauril\n",
    "n_glic = m_glic_pura / MM_glic\n",
    "n_agua = m_agua_total / MM_agua\n",
    "\n",
    "n_total = n_lauril + n_glic + n_agua\n",
    "\n",
    "x_lauril = n_lauril / n_total\n",
    "x_lauril"
   ]
  },
  {
   "cell_type": "markdown",
   "id": "f02984dc-f215-4c98-9463-b2519ecdb88e",
   "metadata": {},
   "source": [
    "Veja que organizei os dados no início do código e as contas depois. Isso é uma boa prática de organização. Os dados de entrada devem estar todos juntos, próximos do início. Isso não vale somente para código, mas vale também para planilhas do Excel. Preze por manter cálculos em tabelas sempre à direita dos dados de entrada, ou seja, as referências são sempre feitas para a esquerda.\n",
    "\n",
    "Note também que, ao utilizar nomes de variáveis, a lógica fica mais simples de ser seguida. Você gasta menos tempo tendo que decifrar o que significa cada número, pois o *significado* já está incluso no nome da variável.\n",
    "\n",
    "Tendo uma estrutura como à acima, se você precisar, por exemplo, calcular a fração molar de outra espécie, ou atualizar a fração molar caso alguma massa tenha aumentado, a alteração é super simples, pois você precisa alterar o valor somente em um lugar. Se você tivesse colocado os valores todos explícitos, é bastante capaz que você se esquecesse de alterar algum deles, levando a um erro de conta. E se você errar um nome, Python irá reclamar[^1], mas se você tivesse digitado um número errado, nada irá aparecer.\n",
    "\n",
    "A título de ilustração, veja como o código acima seria se o nome das variáveis fosse obfuscado.\n",
    "\n",
    "[^1]: desde que o nome não tenha sido definido. Uma fonte relativamente frequente de bugs em *Jupyter notebooks* em especial é o uso de variáveis globais de células anteriores no lugar de outros valores."
   ]
  },
  {
   "cell_type": "code",
   "execution_count": 8,
   "id": "a4ab45e3-a744-4cc3-bea3-35e94b84f486",
   "metadata": {},
   "outputs": [
    {
     "data": {
      "text/plain": [
       "0.000603213294407632"
      ]
     },
     "execution_count": 8,
     "metadata": {},
     "output_type": "execute_result"
    }
   ],
   "source": [
    "ml = 0.1\n",
    "mml = 348.48\n",
    "\n",
    "mg1 = 10\n",
    "cg = 0.8\n",
    "mmg = 92.094\n",
    "\n",
    "mw = 5\n",
    "mmw = 18.015\n",
    "\n",
    "mg2 = cg * mg1\n",
    "mw2 = mw + (mg1 - mg2)\n",
    "\n",
    "nl = ml / mml\n",
    "ng = mg2 / mmg\n",
    "nw = mw2 / mmw\n",
    "\n",
    "nt = nl + ng + nw\n",
    "\n",
    "xl = nl / nt\n",
    "xl"
   ]
  },
  {
   "cell_type": "markdown",
   "id": "23be9fd0-f1a9-4f5f-a105-ada445065b37",
   "metadata": {},
   "source": [
    "Apesar de existir uma lógica (`ml` -> \"massa de lauril\" -> `massa_lauril`), fica muito mais difícil de entender o que está ocorrendo aqui sem algum tipo de informação externa. Tudo bem, você passou menos tempo *digitando*, mas realmente valeu a pena? E imagine você tendo que revisitar este código no futuro. Você se lembraria de como tudo funciona?"
   ]
  }
 ],
 "metadata": {
  "kernelspec": {
   "display_name": "Python 3 (ipykernel)",
   "language": "python",
   "name": "python3"
  },
  "language_info": {
   "codemirror_mode": {
    "name": "ipython",
    "version": 3
   },
   "file_extension": ".py",
   "mimetype": "text/x-python",
   "name": "python",
   "nbconvert_exporter": "python",
   "pygments_lexer": "ipython3",
   "version": "3.11.3"
  }
 },
 "nbformat": 4,
 "nbformat_minor": 5
}
