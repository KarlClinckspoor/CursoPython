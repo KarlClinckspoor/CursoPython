{
 "cells": [
  {
   "cell_type": "markdown",
   "id": "202a4ea1-30cd-491f-ba95-94bd71cd0d5c",
   "metadata": {},
   "source": [
    "(cap:vars)=\n",
    "# Variáveis\n",
    "\n",
    "## Sintaxe e definição \n",
    "\n",
    "Central a qualquer contexto de programação temos a variável. Considere uma variável como uma caixinha que contém valor(es), chamado *estado*, que você controla, e um conjunto de ferramentas, definidas pelo tipo criado (`int`, `float`, `bool`, `complex`, por exemplo), e essa caixinha possui uma etiqueta com um nome escolhido por você. O nome pode ser um pouco confuso porque temos variáveis que variam, sim, mas também variáveis constantes e variáveis imutáveis.\n",
    "\n",
    "Para criar uma variável, você precisa seguir a sintaxe `nome = valor`. Aqui, `=` é o operador de designação (*assignment operator*), não confunda com o operador de igualdade `==`. Vejamos um exemplo:"
   ]
  },
  {
   "cell_type": "code",
   "execution_count": 1,
   "id": "c051667f-43c4-4c76-ba7a-1ccbe8b29fb3",
   "metadata": {},
   "outputs": [],
   "source": [
    "constante_dos_gases = 8.314472  # J/(K mol)"
   ]
  },
  {
   "cell_type": "markdown",
   "id": "750d72d4-398a-45b7-8a24-a222f0e6d69c",
   "metadata": {},
   "source": [
    "Aqui, coloquei um comentário para indicar as unidades dessa constante. Comentários são precedidos por uma cerquilha `#` e tudo depois deles, em uma linha, são ignorados pelo interpretador. Eles servem somente como mensagens para o leitor do código.\n",
    "\n",
    "## Utilizando variáveis\n",
    "\n",
    "Se você quiser acessar depois a constante dos gases, utilize o nome escolhido. Efetivamente imagine como se o valor da variável está sendo copiado e colado no lugar do seu nome."
   ]
  },
  {
   "cell_type": "code",
   "execution_count": 2,
   "id": "38c7dc0b-b209-4bcf-8252-5d58acbba993",
   "metadata": {},
   "outputs": [
    {
     "data": {
      "text/plain": [
       "8.314472"
      ]
     },
     "execution_count": 2,
     "metadata": {},
     "output_type": "execute_result"
    }
   ],
   "source": [
    "constante_dos_gases"
   ]
  },
  {
   "cell_type": "markdown",
   "id": "8095cf3e-b793-4548-8398-b7d0ac7e9fc6",
   "metadata": {},
   "source": [
    "Ao utilizar uma variável, você remove a necessidade de copiar valores em vários locais do código. Além disso, permite que você trabalhe com certos problemas separando-os em partes menores, mais fáceis de entender.\n",
    "\n",
    "## Revisitando um problema\n",
    "\n",
    "Vamos ver como isso auxilia em um dos problemas resolvidos do capítulo anterior, [o problema do gás ideal](sec:prob_gas_ideal).\n",
    "\n",
    "> considerando 3,4g de hélio a 77°F em um frasco de 35mL, calcule a pressão em bar. Considere a constante dos gases igual a 8,314472 J/(K mol). Considere a massa molar de hélio como 4 g/mol."
   ]
  },
  {
   "cell_type": "code",
   "execution_count": 3,
   "id": "573d3e8b-d93c-413a-9fb3-be1455507eff",
   "metadata": {},
   "outputs": [
    {
     "data": {
      "text/plain": [
       "602.0331007942857"
      ]
     },
     "execution_count": 3,
     "metadata": {},
     "output_type": "execute_result"
    }
   ],
   "source": [
    "n_HE = 3.4 / 4\n",
    "\n",
    "T = 77  # °F\n",
    "T = (T - 32) / 9 * 5  # °C\n",
    "T = T + 273.15  # K\n",
    "\n",
    "V = 35e-6  # m3\n",
    "\n",
    "p = n_HE * constante_dos_gases * T / V  # Pa\n",
    "p = p / 1e5  # para bar\n",
    "p"
   ]
  },
  {
   "cell_type": "markdown",
   "id": "db071904-bd3a-425e-82f6-82d45db94af0",
   "metadata": {},
   "source": [
    "Veja que o problema foi dividido em três blocos independentes e um bloco que une todos os valores. Primeiro achamos o número de mols de hélio, depois convertemos a temperatura de graus Fahrenheit para Kelvin, depois convertemos o volume e por último encontramos a pressão. Note a semelhança da linha `p = n_HE * constante_dos_gases * T / V # Pa` com a fórmula utilizada $p = \\frac{nRT}{V}$. Porém, veja o seguinte."
   ]
  },
  {
   "cell_type": "code",
   "execution_count": 4,
   "id": "fea83926-fad5-4387-9a9a-2f80390b206e",
   "metadata": {},
   "outputs": [
    {
     "data": {
      "text/plain": [
       "602.0331007942857"
      ]
     },
     "execution_count": 4,
     "metadata": {},
     "output_type": "execute_result"
    }
   ],
   "source": [
    "n_HE = 10\n",
    "p"
   ]
  },
  {
   "cell_type": "markdown",
   "id": "21468c83-92b3-44dc-ba5b-cf1fe42abc69",
   "metadata": {},
   "source": [
    "Apesar de eu ter mudado o valor de `n_HE`, o valor de pressão não foi alterado. Isso porque a designação de variáveis não é uma equação matemática, apesar da semelhança visual.\n",
    "\n",
    "```{warning}\n",
    "Quando se declara uma variável em Python, o conteúdo do lado direito do `=` é avaliado. Por exemplo, se você utilizar duas variáveis para definir uma terceira, e depois mudar o valor de uma dessas variáveis, a terceira **não irá mudar sozinha**. Você precisa atualizar seu valor.\n",
    "```"
   ]
  },
  {
   "cell_type": "markdown",
   "id": "d0be81b0-0561-42c8-920c-71b101a29e01",
   "metadata": {},
   "source": [
    "## Reutilização de nomes e troca de tipos\n",
    "\n",
    "Nesta seção\n",
    "\n",
    "```\n",
    "T = 77 # °F\n",
    "T = (T - 32) / 9 * 5 # °C\n",
    "T = T + 273.15 # K\n",
    "```\n",
    "\n",
    "Note que eu reutilizei o nome `T` para três variáveis, e com tipos diferentes. Primeiro, uma caixinha com um valor de `int` de 77 foi criada e recebeu a etiqueta `T`. Depois, criou-se outra caixinha, agora para um `float`, e utilizou-se o conteúdo da caixinha chamada `T` para colocar um valor nessa nova caixa, e então a etiqueta foi trocada da primeira para a segunda caixa. E o mesmo ocorreu na terceira linha. O operador `=` espera tudo do lado direito ser calculado antes de colocar o valor no nome do lado esquerdo. Nessa brincadeira, criamos 3 caixinhas mas utilizamos somente 1 nome, `T`. O que acontece com as outras 2 caixinhas? Como ninguém se \"lembra\" delas, não possuem nome, elas são deletadas da memória automaticamente.\n",
    "\n",
    "```{note}\n",
    "Em Python, uma mesma variável mudar de tipo no decorrer do programa não é um problema, diferente de outras linguagens onde isso é proibido. Isso tem suas vantagens e desvantagens.\n",
    "```"
   ]
  },
  {
   "cell_type": "markdown",
   "id": "08bcde26-8da2-46c2-a550-e79af54a2faf",
   "metadata": {},
   "source": [
    "## Regras para nomes válidos\n",
    "\n",
    "Existem algumas regras para nomes válidos em Python. Um nome válido:\n",
    "\n",
    "* Não pode começar com um número\n",
    "* Não pode conter operadores\n",
    "* Não pode conter espaços (utilize um `_`)\n",
    "* Não pode ser igual certas palavras chave do Python (por exemplo, `if`, `def`, `return`, `class`), que serão exploradas no futuro.\n",
    "\n",
    "Letras minúsculas e maiúsculas são diferenciadas, então `teste` e `Teste` são variáveis diferentes. \n",
    "\n",
    "Apesar das restrições parecerem grandes, temos uma quantidade enorme de símbolos que podemos utilizar em nomes. Podem ser nomes completamente em português, incluindo acentos e cedilha, podemos utilizar  e uma multitude de caracteres Unicode (mas emojis não 😢)."
   ]
  },
  {
   "cell_type": "code",
   "execution_count": 5,
   "id": "0d67e4ed-92cc-41ea-97d6-12f9cc9c44d9",
   "metadata": {},
   "outputs": [],
   "source": [
    "ração = 100  # Acentos e cedilha\n",
    "ⰳⰵⱃⰰⰾⱅ = 100  # Alfabeto glagolítico\n",
    "Κνωσσός = 100  # Alfabeto grego\n",
    "武田信玄 = 100  # Kanji"
   ]
  },
  {
   "cell_type": "markdown",
   "id": "2505b2f8-facc-4420-b2c5-16957c7ca7b6",
   "metadata": {},
   "source": [
    "Se você se referir à uma variável antes de declará-la, um `NameError` irá ocorrer, pois o Python não sabe que valor colocar no nome."
   ]
  },
  {
   "cell_type": "code",
   "execution_count": 6,
   "id": "a6755fc8-5e82-4f3a-a383-5071c298d903",
   "metadata": {},
   "outputs": [
    {
     "ename": "NameError",
     "evalue": "name 'A' is not defined",
     "output_type": "error",
     "traceback": [
      "\u001b[1;31m---------------------------------------------------------------------------\u001b[0m",
      "\u001b[1;31mNameError\u001b[0m                                 Traceback (most recent call last)",
      "Cell \u001b[1;32mIn[6], line 1\u001b[0m\n\u001b[1;32m----> 1\u001b[0m A \u001b[38;5;241m=\u001b[39m \u001b[43mA\u001b[49m \u001b[38;5;241m+\u001b[39m \u001b[38;5;241m1\u001b[39m\n",
      "\u001b[1;31mNameError\u001b[0m: name 'A' is not defined"
     ]
    }
   ],
   "source": [
    "A = A + 1"
   ]
  },
  {
   "cell_type": "markdown",
   "id": "35058970-07e1-47a6-99d4-364a11f01835",
   "metadata": {},
   "source": [
    "Dar nomes a variáveis não é um processo exatamente fácil, apesar da premissa ser simples. É importante que o nome carregue bastante significado mas, ao mesmo tempo, não induza um peso cognitivo muito forte. Existem algumas dicas para escolher nomes:\n",
    "\n",
    "1. O nome deve descrever o que a variável está armazenando.\n",
    "2. O nome não pode ser muito longo, com mais de 5-6 palavras.\n",
    "3. As palavras não podem ser muito longas.\n",
    "4. Abreviações só podem ser utilizadas se forem conhecidas e bem aceitas.\n",
    "\n",
    "Nesta altura do campeonato, pode parecer risível eu me preocupar tanto em falar para vocês como escolher bons nomes de variáveis. Mas isso é algo muito positivo de se aprender logo cedo, pois poderá lhe poupar bastante frustração no futuro (que terá sido causada por o seu eu do passado)."
   ]
  },
  {
   "cell_type": "markdown",
   "id": "0292e6a9-17a7-48cf-9d90-19df82a9fefa",
   "metadata": {},
   "source": [
    "## Operadores de atribuição com ações em conjunto\n",
    "\n",
    "Vimos até agora somente o operador `=` para atribuir um valor a uma variável. Se você tiver uma variável que conta alguma coisa, você vai precisar gradualmente aumentar o valor dessa variável. Para isso, precisa usar algo semelhante a este exemplo:"
   ]
  },
  {
   "cell_type": "code",
   "execution_count": 7,
   "id": "1ead1eee-a758-4609-bd86-95feb07364b3",
   "metadata": {},
   "outputs": [
    {
     "data": {
      "text/plain": [
       "2"
      ]
     },
     "execution_count": 7,
     "metadata": {},
     "output_type": "execute_result"
    }
   ],
   "source": [
    "contador = 0\n",
    "contador = contador + 1\n",
    "contador = contador + 1\n",
    "contador"
   ]
  },
  {
   "cell_type": "markdown",
   "id": "d4c64be2-d153-494f-8542-ae39b26ff154",
   "metadata": {},
   "source": [
    "Esse tipo de operação é comum, não só com somas, mas com subtração e outras operações. Por conta disso, existem alguns operadores, chamados de *augmented assignment operators*, ou operadores de atribuição aumentada, que fazem esse tipo de ação de uma vez. Existe um *augmented assignment operator* para cada operador. Por exemplo:"
   ]
  },
  {
   "cell_type": "code",
   "execution_count": 8,
   "id": "4e33a308-48e6-4e3d-a56d-22aacfbb569f",
   "metadata": {},
   "outputs": [
    {
     "data": {
      "text/plain": [
       "2"
      ]
     },
     "execution_count": 8,
     "metadata": {},
     "output_type": "execute_result"
    }
   ],
   "source": [
    "contador = 0\n",
    "contador += 1\n",
    "contador += 1\n",
    "contador"
   ]
  },
  {
   "cell_type": "code",
   "execution_count": 9,
   "id": "ae9a0f00-4242-4232-9b18-c7d282a7d104",
   "metadata": {},
   "outputs": [
    {
     "data": {
      "text/plain": [
       "0"
      ]
     },
     "execution_count": 9,
     "metadata": {},
     "output_type": "execute_result"
    }
   ],
   "source": [
    "contador = 2\n",
    "contador -= 1\n",
    "contador -= 1\n",
    "contador"
   ]
  },
  {
   "cell_type": "code",
   "execution_count": 10,
   "id": "d4583231-8cb4-4bab-b82d-58cc70861046",
   "metadata": {},
   "outputs": [
    {
     "data": {
      "text/plain": [
       "4"
      ]
     },
     "execution_count": 10,
     "metadata": {},
     "output_type": "execute_result"
    }
   ],
   "source": [
    "contador = 1\n",
    "contador *= 2\n",
    "contador *= 2\n",
    "contador"
   ]
  },
  {
   "cell_type": "markdown",
   "id": "48d80e5b-d0bc-4157-bc63-f93a390b74de",
   "metadata": {},
   "source": [
    "A equivalência entre `x = x + 1` e `x += 1` não é exata, existem algumas nuances, mas não são muito importantes no momento. Mais informações podem ser encontradas [na documentação oficial](https://docs.python.org/3/reference/simple_stmts.html#grammar-token-python-grammar-augmented_assignment_stmt)."
   ]
  },
  {
   "cell_type": "markdown",
   "id": "8c9b2004-2460-46d4-a857-bd2d020f4a56",
   "metadata": {},
   "source": [
    "## Exercícios resolvidos"
   ]
  },
  {
   "cell_type": "markdown",
   "id": "a8d19bf0-5c71-4bf5-9970-c0b16b75c45c",
   "metadata": {},
   "source": [
    "### Calculando frações molares\n",
    "\n",
    "Vamos refazer o exercício anterior, mas desta vez utilizando variáveis para armazenar algumas constantes e valores intermediários."
   ]
  },
  {
   "cell_type": "code",
   "execution_count": 11,
   "id": "f493a724-4290-4ee9-8c65-9d839884b328",
   "metadata": {},
   "outputs": [
    {
     "data": {
      "text/plain": [
       "0.000603213294407632"
      ]
     },
     "execution_count": 11,
     "metadata": {},
     "output_type": "execute_result"
    }
   ],
   "source": [
    "m_lauril = 0.1\n",
    "MM_lauril = 348.48\n",
    "\n",
    "m_glic_impura = 10\n",
    "conc_glic = 0.8\n",
    "MM_glic = 92.094\n",
    "\n",
    "m_agua_dest = 5\n",
    "MM_agua = 18.015\n",
    "\n",
    "m_glic_pura = conc_glic * m_glic_impura\n",
    "m_agua_total = m_agua_dest + (m_glic_impura - m_glic_pura)\n",
    "\n",
    "n_lauril = m_lauril / MM_lauril\n",
    "n_glic = m_glic_pura / MM_glic\n",
    "n_agua = m_agua_total / MM_agua\n",
    "\n",
    "n_total = n_lauril + n_glic + n_agua\n",
    "\n",
    "x_lauril = n_lauril / n_total\n",
    "x_lauril"
   ]
  },
  {
   "cell_type": "markdown",
   "id": "f02984dc-f215-4c98-9463-b2519ecdb88e",
   "metadata": {},
   "source": [
    "Veja que organizei os dados no início do código e as contas depois. Isso é uma boa prática de organização. Os dados de entrada devem estar todos juntos, próximos do início. Isso não vale somente para código, mas vale também para planilhas do Excel. Preze por manter cálculos em tabelas sempre à direita dos dados de entrada, ou seja, as referências são sempre feitas para a esquerda.\n",
    "\n",
    "Note também que, ao utilizar nomes de variáveis, a lógica fica mais simples de ser seguida. Você gasta menos tempo tendo que decifrar o que significa cada número, pois o *significado* já está incluso no nome da variável.\n",
    "\n",
    "Tendo uma estrutura como à acima, se você precisar, por exemplo, calcular a fração molar de outra espécie, ou atualizar a fração molar caso alguma massa tenha aumentado, a alteração é super simples, pois você precisa alterar o valor somente em um lugar. Se você tivesse colocado os valores todos explícitos, é bastante capaz que você se esquecesse de alterar algum deles, levando a um erro de conta. E se você errar um nome, Python irá reclamar[^1], mas se você tivesse digitado um número errado, nada irá aparecer.\n",
    "\n",
    "A título de ilustração, veja como o código acima seria se o nome das variáveis fosse obfuscado.\n",
    "\n",
    "[^1]: desde que o nome não tenha sido definido. Uma fonte relativamente frequente de bugs em *Jupyter notebooks* em especial é o uso de variáveis globais de células anteriores no lugar de outros valores."
   ]
  },
  {
   "cell_type": "code",
   "execution_count": 12,
   "id": "a4ab45e3-a744-4cc3-bea3-35e94b84f486",
   "metadata": {},
   "outputs": [
    {
     "data": {
      "text/plain": [
       "0.000603213294407632"
      ]
     },
     "execution_count": 12,
     "metadata": {},
     "output_type": "execute_result"
    }
   ],
   "source": [
    "ml = 0.1\n",
    "mml = 348.48\n",
    "\n",
    "mg1 = 10\n",
    "cg = 0.8\n",
    "mmg = 92.094\n",
    "\n",
    "mw = 5\n",
    "mmw = 18.015\n",
    "\n",
    "mg2 = cg * mg1\n",
    "mw2 = mw + (mg1 - mg2)\n",
    "\n",
    "nl = ml / mml\n",
    "ng = mg2 / mmg\n",
    "nw = mw2 / mmw\n",
    "\n",
    "nt = nl + ng + nw\n",
    "\n",
    "xl = nl / nt\n",
    "xl"
   ]
  },
  {
   "cell_type": "markdown",
   "id": "23be9fd0-f1a9-4f5f-a105-ada445065b37",
   "metadata": {},
   "source": [
    "Apesar de existir uma lógica (`ml` -> \"massa de lauril\" -> `massa_lauril`), fica muito mais difícil de entender o que está ocorrendo aqui sem algum tipo de informação externa. Tudo bem, você passou menos tempo *digitando*, mas realmente valeu a pena? E imagine você tendo que revisitar este código no futuro. Você se lembraria de como tudo funciona?"
   ]
  },
  {
   "cell_type": "markdown",
   "id": "dc2cee17-e2b1-4292-8b95-08048fde19b9",
   "metadata": {},
   "source": [
    "(prob:prop_incert)=\n",
    "### Propagação linear de incertezas\n",
    "\n",
    "Um problema frequente no meio científico é a propagação de incertezas. Cada valor medido possui um grau de certeza relacionado e, à medida que operações vão sendo realizadas com tal grandeza, o erro pode ser gradativamente aumentado. Uma maneira de avaliar isso é pela propagação linear de incertezas. Essa teoria se baseia nas operações como funções e que nas imediações do valor utilizado, as variações são iguais à inclinação da função, i.e., sua derivada. Pensando numa função com três argumentos $f(x, y, z)$, temos que o erro de $f$, $\\delta f$, é, [simplificadamente](https://en.wikipedia.org/wiki/Propagation_of_uncertainty#Simplification)\n",
    "\n",
    "$$\n",
    "(\\delta f)^2 = \\frac{\\partial f}{\\partial x}^2 (\\delta x)^2 + \n",
    "               \\frac{\\partial f}{\\partial y}^2 (\\delta y)^2\n",
    "               \\frac{\\partial f}{\\partial z}^2 (\\delta z)^2\n",
    "$$\n",
    "\n",
    "Com base nisso, faça a propagação de incertezas da seguinte equação\n",
    "\n",
    "$$\n",
    "f = a + b / c\n",
    "$$\n",
    "\n",
    "considerando $a=5\\pm0.1$, $b=3\\pm0.2$ e $c=2\\pm0.5$ e calcule $f(a, b, c)$."
   ]
  },
  {
   "cell_type": "markdown",
   "id": "74ca2ae6-0e3c-418b-b5fc-8c756121f2dc",
   "metadata": {},
   "source": [
    "Resolução:\n",
    "\n",
    "$$\n",
    "\\partial f / \\partial a = 1\n",
    "$$\n",
    "\n",
    "$$\n",
    "\\partial f / \\partial b = 1/c\n",
    "$$\n",
    "\n",
    "$$\n",
    "\\partial f / \\partial c = -b/c^2\n",
    "$$\n",
    "\n",
    "$$\n",
    "\\delta f = \\sqrt{\n",
    "                    1^2 \\cdot (\\delta a)^2 +\n",
    "                    (1/c)^2 \\cdot (\\delta b)^2 +\n",
    "                    (-b/c^2)^2 \\cdot (\\delta c)^2\n",
    "                }\n",
    "$$"
   ]
  },
  {
   "cell_type": "code",
   "execution_count": 13,
   "id": "8bd224bd-8d26-4c23-b882-fadf2865f1d9",
   "metadata": {},
   "outputs": [
    {
     "data": {
      "text/plain": [
       "6.5"
      ]
     },
     "execution_count": 13,
     "metadata": {},
     "output_type": "execute_result"
    }
   ],
   "source": [
    "a = 5\n",
    "delta_a = 0.1\n",
    "b = 3\n",
    "delta_b = 0.2\n",
    "c = 2\n",
    "delta_c = 0.5\n",
    "\n",
    "f = a + b / c\n",
    "f"
   ]
  },
  {
   "cell_type": "code",
   "execution_count": 14,
   "id": "3fb29c01-6e9b-4eb2-90e8-a43c5ab790ae",
   "metadata": {},
   "outputs": [
    {
     "data": {
      "text/plain": [
       "0.40078048854703496"
      ]
     },
     "execution_count": 14,
     "metadata": {},
     "output_type": "execute_result"
    }
   ],
   "source": [
    "delta_f = (\n",
    "    1 * delta_a**2 + (1 / c) ** 2 * delta_b**2 + (-b / c**2) ** 2 * delta_c**2\n",
    ") ** 0.5\n",
    "delta_f"
   ]
  },
  {
   "cell_type": "markdown",
   "id": "18615621-18e5-48dc-a7d4-8016ba6e7ae7",
   "metadata": {},
   "source": [
    "### Exercícios extra"
   ]
  },
  {
   "cell_type": "markdown",
   "id": "fc2c9bcf-eda6-4c52-836b-81f6e7c679f1",
   "metadata": {},
   "source": [
    "### Propagação de erro com uma biblioteca\n",
    "\n",
    "```{warning}\n",
    "Para resolver este problema, você irá precisar saber como [importar módulos](cap:import)\n",
    "```\n",
    "\n",
    "Faça a mesma propagação de erro acima, mas utilizando a biblioteca `uncertainties`."
   ]
  },
  {
   "cell_type": "code",
   "execution_count": null,
   "id": "312bdf6f-7f1f-4864-ab5a-7d8538d8e7f7",
   "metadata": {},
   "outputs": [],
   "source": [
    "%load \"Soluções de exercícios/prop_uncertainties.py\""
   ]
  },
  {
   "cell_type": "markdown",
   "id": "715b8c3b-a41c-4255-911d-04ad6f23aa11",
   "metadata": {},
   "source": [
    "### Propagação de erro com derivadas computacionais\n",
    "\n",
    "```{warning}\n",
    "Para resolver este problema, você irá precisar saber como [importar módulos](cap:import)\n",
    "```\n",
    "\n",
    "Faça a mesma propagação de erro acima, mas utilizando a biblioteca `sympy`."
   ]
  },
  {
   "cell_type": "code",
   "execution_count": null,
   "id": "59f872ea-4276-49fe-92c4-26e65a72da98",
   "metadata": {},
   "outputs": [],
   "source": [
    "%load \"Soluções de exercícios/prop_sympy\""
   ]
  }
 ],
 "metadata": {
  "kernelspec": {
   "display_name": "Python 3 (ipykernel)",
   "language": "python",
   "name": "python3"
  },
  "language_info": {
   "codemirror_mode": {
    "name": "ipython",
    "version": 3
   },
   "file_extension": ".py",
   "mimetype": "text/x-python",
   "name": "python",
   "nbconvert_exporter": "python",
   "pygments_lexer": "ipython3",
   "version": "3.11.3"
  }
 },
 "nbformat": 4,
 "nbformat_minor": 5
}
